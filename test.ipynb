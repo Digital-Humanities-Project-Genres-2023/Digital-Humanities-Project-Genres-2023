{
 "cells": [
  {
   "cell_type": "code",
   "execution_count": 1,
   "id": "82c5eeb5-b2a1-441a-b5a5-2f3527b2e343",
   "metadata": {
    "tags": []
   },
   "outputs": [],
   "source": [
    "#Push test"
   ]
  },
  {
   "cell_type": "code",
   "execution_count": 10,
   "id": "766bd415-b1fe-42db-a9c4-43b530678882",
   "metadata": {
    "tags": []
   },
   "outputs": [
    {
     "name": "stdout",
     "output_type": "stream",
     "text": [
      ".\n",
      "..\n",
      ".git\n",
      ".gitignore\n",
      ".ipynb_checkpoints\n",
      "test.ipynb\n",
      "untitled.txt\n"
     ]
    }
   ],
   "source": [
    "%%sh\n",
    "ls -a"
   ]
  },
  {
   "cell_type": "code",
   "execution_count": 4,
   "id": "f3507ea6-9775-4486-8a82-3ee40ece9b81",
   "metadata": {
    "tags": []
   },
   "outputs": [
    {
     "name": "stdout",
     "output_type": "stream",
     "text": [
      "/scratch/project_2007227/genre_data/Digital-Humanities-Project-Genres-2023\n"
     ]
    }
   ],
   "source": [
    "import os\n",
    "\n",
    "cwd = os.getcwd()\n",
    "print(cwd)"
   ]
  }
 ],
 "metadata": {
  "kernelspec": {
   "display_name": "Python 3 (ipykernel)",
   "language": "python",
   "name": "python3"
  },
  "language_info": {
   "codemirror_mode": {
    "name": "ipython",
    "version": 3
   },
   "file_extension": ".py",
   "mimetype": "text/x-python",
   "name": "python",
   "nbconvert_exporter": "python",
   "pygments_lexer": "ipython3",
   "version": "3.10.9"
  }
 },
 "nbformat": 4,
 "nbformat_minor": 5
}
