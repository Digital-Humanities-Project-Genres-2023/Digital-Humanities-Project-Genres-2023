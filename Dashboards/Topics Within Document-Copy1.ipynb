{
 "cells": [
  {
   "cell_type": "markdown",
   "id": "c9110ad8",
   "metadata": {},
   "source": [
    "### Analysing how topics are distributed within single full document"
   ]
  },
  {
   "cell_type": "code",
   "execution_count": 1,
   "id": "64820eb4",
   "metadata": {},
   "outputs": [],
   "source": [
    "import numpy as np\n",
    "import os\n",
    "import pickle\n",
    "from contextualized_topic_models.models.ctm import ZeroShotTM"
   ]
  },
  {
   "cell_type": "code",
   "execution_count": 2,
   "id": "1d0b4165",
   "metadata": {},
   "outputs": [],
   "source": [
    "import sys\n",
    "sys.path.append(\"../\")\n",
    "from src import puhti_files"
   ]
  },
  {
   "cell_type": "code",
   "execution_count": 3,
   "id": "e06d267d",
   "metadata": {},
   "outputs": [],
   "source": [
    "SEED = 42\n",
    "np.random.seed(SEED)\n",
    "os.environ[\"PYTHONHASHSEED\"] = str(SEED)\n",
    "np.random.seed(SEED)"
   ]
  },
  {
   "cell_type": "code",
   "execution_count": 4,
   "id": "c7f3aaff",
   "metadata": {},
   "outputs": [],
   "source": [
    "training_sets = []\n",
    "tp_models = []\n",
    "for i in range(8):\n",
    "    with open('../src/Training_sets/training_set'+str(i)+'.pickle', 'rb') as dataset:\n",
    "        dataseti = pickle.load(dataset)\n",
    "        training_sets.append(dataseti)\n",
    "    with open('../src/tp_models/tp_model'+str(i)+'.pickle', 'rb') as tpmodel:\n",
    "        tpmodeli = pickle.load(tpmodel)\n",
    "        tp_models.append(tpmodeli)"
   ]
  },
  {
   "cell_type": "code",
   "execution_count": 5,
   "id": "ab75f625",
   "metadata": {},
   "outputs": [
    {
     "name": "stderr",
     "output_type": "stream",
     "text": [
      "/users/muchaeli/.local/lib/python3.10/site-packages/contextualized_topic_models/models/ctm.py:669: Warning: This is an experimental feature that we has not been fully tested. Refer to the following issue:https://github.com/MilaNLProc/contextualized-topic-models/issues/38\n",
      "  warnings.warn(\n",
      "/users/muchaeli/.local/lib/python3.10/site-packages/contextualized_topic_models/models/ctm.py:669: Warning: This is an experimental feature that we has not been fully tested. Refer to the following issue:https://github.com/MilaNLProc/contextualized-topic-models/issues/38\n",
      "  warnings.warn(\n",
      "/users/muchaeli/.local/lib/python3.10/site-packages/contextualized_topic_models/models/ctm.py:669: Warning: This is an experimental feature that we has not been fully tested. Refer to the following issue:https://github.com/MilaNLProc/contextualized-topic-models/issues/38\n",
      "  warnings.warn(\n",
      "/users/muchaeli/.local/lib/python3.10/site-packages/contextualized_topic_models/models/ctm.py:669: Warning: This is an experimental feature that we has not been fully tested. Refer to the following issue:https://github.com/MilaNLProc/contextualized-topic-models/issues/38\n",
      "  warnings.warn(\n",
      "/users/muchaeli/.local/lib/python3.10/site-packages/contextualized_topic_models/models/ctm.py:669: Warning: This is an experimental feature that we has not been fully tested. Refer to the following issue:https://github.com/MilaNLProc/contextualized-topic-models/issues/38\n",
      "  warnings.warn(\n",
      "/users/muchaeli/.local/lib/python3.10/site-packages/contextualized_topic_models/models/ctm.py:669: Warning: This is an experimental feature that we has not been fully tested. Refer to the following issue:https://github.com/MilaNLProc/contextualized-topic-models/issues/38\n",
      "  warnings.warn(\n",
      "/users/muchaeli/.local/lib/python3.10/site-packages/contextualized_topic_models/models/ctm.py:669: Warning: This is an experimental feature that we has not been fully tested. Refer to the following issue:https://github.com/MilaNLProc/contextualized-topic-models/issues/38\n",
      "  warnings.warn(\n",
      "/users/muchaeli/.local/lib/python3.10/site-packages/contextualized_topic_models/models/ctm.py:669: Warning: This is an experimental feature that we has not been fully tested. Refer to the following issue:https://github.com/MilaNLProc/contextualized-topic-models/issues/38\n",
      "  warnings.warn(\n"
     ]
    }
   ],
   "source": [
    "models = []\n",
    "for i in range(8):\n",
    "    ctm = ZeroShotTM(bow_size=len(tp_models[i].vocab), contextual_size=768, n_components=10, num_epochs=20)\n",
    "    ctm.load(\"../src/ctm_models\"+str(i)+\"/contextualized_topic_model_nc_10_tpm_0.0_tpv_0.9_hs_prodLDA_ac_(100, 100)_do_softplus_lr_0.2_mo_0.002_rp_0.99\",\n",
    "                                                                                                          epoch=19)\n",
    "    models.append(ctm)"
   ]
  },
  {
   "cell_type": "code",
   "execution_count": 6,
   "id": "1e6674d0",
   "metadata": {},
   "outputs": [
    {
     "data": {
      "text/plain": [
       "{1720: 0, 1730: 1, 1740: 2, 1750: 3, 1760: 4, 1770: 5, 1780: 6, 1790: 7}"
      ]
     },
     "execution_count": 6,
     "metadata": {},
     "output_type": "execute_result"
    }
   ],
   "source": [
    "dict_dec = {}\n",
    "count = 0\n",
    "for i in range(1720,1800,10):\n",
    "    dict_dec[i] = count\n",
    "    count +=1\n",
    "dict_dec"
   ]
  },
  {
   "cell_type": "code",
   "execution_count": 7,
   "id": "a82a3e8e",
   "metadata": {},
   "outputs": [
    {
     "name": "stdout",
     "output_type": "stream",
     "text": [
      "Read in dataset train.csv. Set param 'data' to 'dev', 'test' or 'train' if you want another dataset.\n"
     ]
    }
   ],
   "source": [
    "df = puhti_files.genre_data_to_pandas(data=\"train\", add_labels=True, merge_ecco=True, better_subcat_names=True)"
   ]
  },
  {
   "cell_type": "code",
   "execution_count": 8,
   "id": "20220794",
   "metadata": {},
   "outputs": [],
   "source": [
    "### Sample data\n",
    "df = df[0:50].copy()"
   ]
  },
  {
   "cell_type": "code",
   "execution_count": 9,
   "id": "c11eb160",
   "metadata": {},
   "outputs": [],
   "source": [
    "df[\"text\"] = df[\"document_id\"].apply(lambda x: puhti_files.read_text_file(x))"
   ]
  },
  {
   "cell_type": "code",
   "execution_count": null,
   "id": "b5331f79",
   "metadata": {},
   "outputs": [],
   "source": []
  }
 ],
 "metadata": {
  "kernelspec": {
   "display_name": "Python 3 (ipykernel)",
   "language": "python",
   "name": "python3"
  },
  "language_info": {
   "codemirror_mode": {
    "name": "ipython",
    "version": 3
   },
   "file_extension": ".py",
   "mimetype": "text/x-python",
   "name": "python",
   "nbconvert_exporter": "python",
   "pygments_lexer": "ipython3",
   "version": "3.10.9"
  }
 },
 "nbformat": 4,
 "nbformat_minor": 5
}
