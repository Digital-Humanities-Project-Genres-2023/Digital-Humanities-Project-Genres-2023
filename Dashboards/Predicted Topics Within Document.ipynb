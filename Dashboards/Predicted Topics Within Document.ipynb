{
 "cells": [
  {
   "cell_type": "markdown",
   "id": "80dc2c46",
   "metadata": {},
   "source": [
    "### Analysing how topics are distributed within single full document"
   ]
  },
  {
   "cell_type": "code",
   "execution_count": 1,
   "id": "245a5a6a",
   "metadata": {},
   "outputs": [],
   "source": [
    "#import os\n",
    "#os.environ['CUDA_VISIBLE_DEVICES'] = ''"
   ]
  },
  {
   "cell_type": "code",
   "execution_count": 2,
   "id": "356128d3",
   "metadata": {},
   "outputs": [],
   "source": [
    "import numpy as np\n",
    "import os\n",
    "import pickle\n",
    "import pandas as pd\n",
    "import nltk\n",
    "\n",
    "from contextualized_topic_models.models.ctm import ZeroShotTM\n",
    "from contextualized_topic_models.utils.preprocessing import WhiteSpacePreprocessingStopwords"
   ]
  },
  {
   "cell_type": "code",
   "execution_count": 3,
   "id": "197b6442",
   "metadata": {},
   "outputs": [],
   "source": [
    "import sys\n",
    "sys.path.append(\"../\")\n",
    "from src import puhti_files"
   ]
  },
  {
   "cell_type": "code",
   "execution_count": 4,
   "id": "31808485",
   "metadata": {},
   "outputs": [],
   "source": [
    "SEED = 42\n",
    "np.random.seed(SEED)\n",
    "os.environ[\"PYTHONHASHSEED\"] = str(SEED)\n",
    "np.random.seed(SEED)"
   ]
  },
  {
   "cell_type": "code",
   "execution_count": 5,
   "id": "243a15e8",
   "metadata": {},
   "outputs": [],
   "source": [
    "training_sets = []\n",
    "tp_models = []\n",
    "for i in range(8):\n",
    "    with open('../src/Training_sets/training_set'+str(i)+'.pickle', 'rb') as dataset:\n",
    "        dataseti = pickle.load(dataset)\n",
    "        training_sets.append(dataseti)\n",
    "    with open('../src/tp_models/tp_model'+str(i)+'.pickle', 'rb') as tpmodel:\n",
    "        tpmodeli = pickle.load(tpmodel)\n",
    "        tp_models.append(tpmodeli)"
   ]
  },
  {
   "cell_type": "code",
   "execution_count": 6,
   "id": "1507c869",
   "metadata": {},
   "outputs": [
    {
     "name": "stderr",
     "output_type": "stream",
     "text": [
      "/users/tturpein/.local/lib/python3.10/site-packages/contextualized_topic_models/models/ctm.py:669: Warning: This is an experimental feature that we has not been fully tested. Refer to the following issue:https://github.com/MilaNLProc/contextualized-topic-models/issues/38\n",
      "  warnings.warn(\n",
      "/users/tturpein/.local/lib/python3.10/site-packages/contextualized_topic_models/models/ctm.py:669: Warning: This is an experimental feature that we has not been fully tested. Refer to the following issue:https://github.com/MilaNLProc/contextualized-topic-models/issues/38\n",
      "  warnings.warn(\n",
      "/users/tturpein/.local/lib/python3.10/site-packages/contextualized_topic_models/models/ctm.py:669: Warning: This is an experimental feature that we has not been fully tested. Refer to the following issue:https://github.com/MilaNLProc/contextualized-topic-models/issues/38\n",
      "  warnings.warn(\n",
      "/users/tturpein/.local/lib/python3.10/site-packages/contextualized_topic_models/models/ctm.py:669: Warning: This is an experimental feature that we has not been fully tested. Refer to the following issue:https://github.com/MilaNLProc/contextualized-topic-models/issues/38\n",
      "  warnings.warn(\n",
      "/users/tturpein/.local/lib/python3.10/site-packages/contextualized_topic_models/models/ctm.py:669: Warning: This is an experimental feature that we has not been fully tested. Refer to the following issue:https://github.com/MilaNLProc/contextualized-topic-models/issues/38\n",
      "  warnings.warn(\n",
      "/users/tturpein/.local/lib/python3.10/site-packages/contextualized_topic_models/models/ctm.py:669: Warning: This is an experimental feature that we has not been fully tested. Refer to the following issue:https://github.com/MilaNLProc/contextualized-topic-models/issues/38\n",
      "  warnings.warn(\n",
      "/users/tturpein/.local/lib/python3.10/site-packages/contextualized_topic_models/models/ctm.py:669: Warning: This is an experimental feature that we has not been fully tested. Refer to the following issue:https://github.com/MilaNLProc/contextualized-topic-models/issues/38\n",
      "  warnings.warn(\n",
      "/users/tturpein/.local/lib/python3.10/site-packages/contextualized_topic_models/models/ctm.py:669: Warning: This is an experimental feature that we has not been fully tested. Refer to the following issue:https://github.com/MilaNLProc/contextualized-topic-models/issues/38\n",
      "  warnings.warn(\n"
     ]
    }
   ],
   "source": [
    "models = []\n",
    "for i in range(8):\n",
    "    ctm = ZeroShotTM(bow_size=len(tp_models[i].vocab), contextual_size=768, n_components=10, num_epochs=20)\n",
    "    ctm.load(\"../src/ctm_models\"+str(i)+\"/contextualized_topic_model_nc_10_tpm_0.0_tpv_0.9_hs_prodLDA_ac_(100, 100)_do_softplus_lr_0.2_mo_0.002_rp_0.99\",\n",
    "                                                                                                          epoch=19)\n",
    "    models.append(ctm)"
   ]
  },
  {
   "cell_type": "code",
   "execution_count": 7,
   "id": "73fb586b",
   "metadata": {},
   "outputs": [
    {
     "data": {
      "text/plain": [
       "{1720: 0, 1730: 1, 1740: 2, 1750: 3, 1760: 4, 1770: 5, 1780: 6, 1790: 7}"
      ]
     },
     "execution_count": 7,
     "metadata": {},
     "output_type": "execute_result"
    }
   ],
   "source": [
    "dict_dec = {}\n",
    "count = 0\n",
    "for i in range(1720,1800,10):\n",
    "    dict_dec[i] = count\n",
    "    count +=1\n",
    "dict_dec"
   ]
  },
  {
   "cell_type": "code",
   "execution_count": 8,
   "id": "97468312",
   "metadata": {},
   "outputs": [
    {
     "name": "stdout",
     "output_type": "stream",
     "text": [
      "Read in dataset train.csv. Set param 'data' to 'dev', 'test' or 'train' if you want another dataset.\n"
     ]
    }
   ],
   "source": [
    "df = puhti_files.genre_data_to_pandas(data=\"train\", add_labels=True, merge_ecco=True, better_subcat_names=True)"
   ]
  },
  {
   "cell_type": "code",
   "execution_count": 9,
   "id": "554b5de6",
   "metadata": {},
   "outputs": [
    {
     "data": {
      "text/plain": [
       "1102"
      ]
     },
     "execution_count": 9,
     "metadata": {},
     "output_type": "execute_result"
    }
   ],
   "source": [
    "### Filter by decade\n",
    "\n",
    "df['publication_year'] = pd.to_numeric(df['publication_year'], errors='coerce')\n",
    "df['decade'] = (df['publication_year'] // 10) * 10\n",
    "df = df[df[\"decade\"]==1720]\n",
    "len(df)"
   ]
  },
  {
   "cell_type": "code",
   "execution_count": 10,
   "id": "37210160",
   "metadata": {},
   "outputs": [],
   "source": [
    "### Sample data\n",
    "df = df[0:20].copy()"
   ]
  },
  {
   "cell_type": "code",
   "execution_count": 11,
   "id": "45327298",
   "metadata": {},
   "outputs": [],
   "source": [
    "df[\"text\"] = df[\"document_id\"].apply(lambda x: puhti_files.read_text_file(x))"
   ]
  },
  {
   "cell_type": "code",
   "execution_count": 12,
   "id": "7d140d5e",
   "metadata": {},
   "outputs": [
    {
     "data": {
      "text/plain": [
       "21887"
      ]
     },
     "execution_count": 12,
     "metadata": {},
     "output_type": "execute_result"
    }
   ],
   "source": [
    "### Chunk documents\n",
    "\n",
    "def split_text(text, num_words):\n",
    "    words = text.split()\n",
    "    chunks = [' '.join(words[i:i + num_words]) for i in range(0, len(words), num_words)]\n",
    "    return chunks\n",
    "\n",
    "num_words = 128\n",
    "split_data = []\n",
    "for _, row in df.iterrows():\n",
    "    doc_id = row['document_id']\n",
    "    text = row['text']\n",
    "    chunks = split_text(text, num_words)\n",
    "    \n",
    "    for chunk in chunks:\n",
    "        split_data.append({'document_id': doc_id, 'text': chunk})\n",
    "\n",
    "split_df = pd.DataFrame(split_data)\n",
    "len(split_df)"
   ]
  },
  {
   "cell_type": "code",
   "execution_count": 13,
   "id": "da50a790",
   "metadata": {},
   "outputs": [
    {
     "name": "stderr",
     "output_type": "stream",
     "text": [
      "[nltk_data] Downloading package stopwords to\n",
      "[nltk_data]     /users/tturpein/nltk_data...\n",
      "[nltk_data]   Package stopwords is already up-to-date!\n"
     ]
    }
   ],
   "source": [
    "from nltk.corpus import stopwords as stop_words\n",
    "nltk.download('stopwords')\n",
    "stopwords = list(stop_words.words(\"english\"))"
   ]
  },
  {
   "cell_type": "code",
   "execution_count": 14,
   "id": "bd20aba1",
   "metadata": {},
   "outputs": [],
   "source": [
    "sp = WhiteSpacePreprocessingStopwords(list(split_df[\"text\"]), stopwords_list=stopwords, vocabulary_size=2000)\n",
    "preprocessed_documents, unpreprocessed_corpus, vocab, retained_indices = sp.preprocess()"
   ]
  },
  {
   "cell_type": "code",
   "execution_count": 15,
   "id": "f835e303",
   "metadata": {},
   "outputs": [
    {
     "name": "stdout",
     "output_type": "stream",
     "text": [
      "21887\n",
      "21883\n",
      "21883\n"
     ]
    }
   ],
   "source": [
    "print(len(split_df))\n",
    "print(len(preprocessed_documents))\n",
    "print(len(unpreprocessed_corpus))"
   ]
  },
  {
   "cell_type": "code",
   "execution_count": 16,
   "id": "55e748f2",
   "metadata": {},
   "outputs": [],
   "source": [
    "index = dict_dec[1720]\n",
    "model = models[index]\n",
    "tp = tp_models[index]"
   ]
  },
  {
   "cell_type": "code",
   "execution_count": 17,
   "id": "cd2385c5",
   "metadata": {},
   "outputs": [],
   "source": [
    "model.USE_CUDA = True"
   ]
  },
  {
   "cell_type": "code",
   "execution_count": 18,
   "id": "fdbc5446",
   "metadata": {
    "scrolled": true
   },
   "outputs": [
    {
     "data": {
      "application/vnd.jupyter.widget-view+json": {
       "model_id": "1d3a6e134efb4df5a3ed7e2a361895ff",
       "version_major": 2,
       "version_minor": 0
      },
      "text/plain": [
       "Batches:   0%|          | 0/110 [00:00<?, ?it/s]"
      ]
     },
     "metadata": {},
     "output_type": "display_data"
    }
   ],
   "source": [
    "training_dataset = tp.fit(text_for_contextual=unpreprocessed_corpus, text_for_bow=preprocessed_documents)"
   ]
  },
  {
   "cell_type": "code",
   "execution_count": 50,
   "id": "34879c76",
   "metadata": {},
   "outputs": [],
   "source": [
    "#import os\n",
    "#os.environ[\"TOKENIZERS_PARALLELISM\"] = \"false\"\n",
    "\n",
    "#predictions = model.get_predicted_topics(dataset=training_dataset, n_samples=20)\n",
    "#len(predictions)"
   ]
  },
  {
   "cell_type": "code",
   "execution_count": 51,
   "id": "019956d3",
   "metadata": {},
   "outputs": [],
   "source": [
    "#predictions_df = pd.DataFrame(predictions, columns=[\"Topic Prediction\"])"
   ]
  },
  {
   "cell_type": "code",
   "execution_count": 52,
   "id": "0dd09e68",
   "metadata": {},
   "outputs": [],
   "source": [
    "#Resetting the index in case of dropped rows\n",
    "#predictions_df = predictions_df.set_index(pd.Index(retained_indices))"
   ]
  },
  {
   "cell_type": "code",
   "execution_count": 53,
   "id": "eefbb258",
   "metadata": {},
   "outputs": [],
   "source": [
    "#Combine to other data\n",
    "#split_df = pd.concat([split_df, predictions_df], axis=1)\n",
    "#split_df.shape"
   ]
  },
  {
   "cell_type": "code",
   "execution_count": 54,
   "id": "1d5270c8",
   "metadata": {},
   "outputs": [],
   "source": [
    "#split_df.columns"
   ]
  },
  {
   "cell_type": "code",
   "execution_count": 55,
   "id": "6c0713d1",
   "metadata": {},
   "outputs": [],
   "source": [
    "#split_df[\"Topic Prediction\"].unique()"
   ]
  },
  {
   "cell_type": "code",
   "execution_count": null,
   "id": "852fb17d",
   "metadata": {},
   "outputs": [],
   "source": [
    "#PREDS END"
   ]
  },
  {
   "cell_type": "code",
   "execution_count": null,
   "id": "c7b54301",
   "metadata": {},
   "outputs": [],
   "source": [
    "### CHUNK AND DOC PREDS AT THE SAME TIME:"
   ]
  },
  {
   "cell_type": "code",
   "execution_count": 44,
   "id": "fd6caa5c",
   "metadata": {
    "scrolled": true
   },
   "outputs": [
    {
     "name": "stderr",
     "output_type": "stream",
     "text": [
      "/users/tturpein/.local/lib/python3.10/site-packages/torch/utils/data/dataloader.py:561: UserWarning:\n",
      "\n",
      "This DataLoader will create 40 worker processes in total. Our suggested max number of worker in current system is 4, which is smaller than what this DataLoader is going to create. Please be aware that excessive worker creation might get DataLoader running slow or even freeze, lower the worker number to avoid potential slowness/freeze if necessary.\n",
      "\n",
      "  0%|          | 0/342 [00:00<?, ?it/s]/users/tturpein/.local/lib/python3.10/site-packages/torch/utils/data/dataloader.py:561: UserWarning:\n",
      "\n",
      "This DataLoader will create 40 worker processes in total. Our suggested max number of worker in current system is 4, which is smaller than what this DataLoader is going to create. Please be aware that excessive worker creation might get DataLoader running slow or even freeze, lower the worker number to avoid potential slowness/freeze if necessary.\n",
      "\n",
      " 94%|█████████▍| 321/342 [00:07<00:00, 269.55it/s]/CSC_CONTAINER/miniconda/envs/env1/lib/python3.10/multiprocessing/popen_fork.py:66: ResourceWarning:\n",
      "\n",
      "Unclosed socket <zmq.Socket(zmq.PUSH) at 0x7fbb38565600>\n",
      "\n",
      "/CSC_CONTAINER/miniconda/envs/env1/lib/python3.10/multiprocessing/popen_fork.py:66: ResourceWarning:\n",
      "\n",
      "Unclosed socket <zmq.Socket(zmq.PUSH) at 0x7fb83824d960>\n",
      "\n",
      "/CSC_CONTAINER/miniconda/envs/env1/lib/python3.10/multiprocessing/popen_fork.py:66: ResourceWarning:\n",
      "\n",
      "Unclosed socket <zmq.Socket(zmq.PUSH) at 0x7fbb38565600>\n",
      "\n",
      "/CSC_CONTAINER/miniconda/envs/env1/lib/python3.10/multiprocessing/popen_fork.py:66: ResourceWarning:\n",
      "\n",
      "Unclosed socket <zmq.Socket(zmq.PUSH) at 0x7fb83824d960>\n",
      "\n",
      "/CSC_CONTAINER/miniconda/envs/env1/lib/python3.10/multiprocessing/popen_fork.py:66: ResourceWarning:\n",
      "\n",
      "Unclosed socket <zmq.Socket(zmq.PUSH) at 0x7fbb38565600>\n",
      "\n",
      "/CSC_CONTAINER/miniconda/envs/env1/lib/python3.10/multiprocessing/popen_fork.py:66: ResourceWarning:\n",
      "\n",
      "Unclosed socket <zmq.Socket(zmq.PUSH) at 0x7fb83824d960>\n",
      "\n",
      "/CSC_CONTAINER/miniconda/envs/env1/lib/python3.10/multiprocessing/popen_fork.py:66: ResourceWarning:\n",
      "\n",
      "Unclosed socket <zmq.Socket(zmq.PUSH) at 0x7fbb38565600>\n",
      "\n",
      "/CSC_CONTAINER/miniconda/envs/env1/lib/python3.10/multiprocessing/popen_fork.py:66: ResourceWarning:\n",
      "\n",
      "Unclosed socket <zmq.Socket(zmq.PUSH) at 0x7fb83824d960>\n",
      "\n",
      "/CSC_CONTAINER/miniconda/envs/env1/lib/python3.10/multiprocessing/popen_fork.py:66: ResourceWarning:\n",
      "\n",
      "Unclosed socket <zmq.Socket(zmq.PUSH) at 0x7fbb38565600>\n",
      "\n",
      "/CSC_CONTAINER/miniconda/envs/env1/lib/python3.10/multiprocessing/popen_fork.py:66: ResourceWarning:\n",
      "\n",
      "Unclosed socket <zmq.Socket(zmq.PUSH) at 0x7fb83824d960>\n",
      "\n",
      "/CSC_CONTAINER/miniconda/envs/env1/lib/python3.10/multiprocessing/popen_fork.py:66: ResourceWarning:\n",
      "\n",
      "Unclosed socket <zmq.Socket(zmq.PUSH) at 0x7fbb38565600>\n",
      "\n",
      "/CSC_CONTAINER/miniconda/envs/env1/lib/python3.10/multiprocessing/popen_fork.py:66: ResourceWarning:\n",
      "\n",
      "Unclosed socket <zmq.Socket(zmq.PUSH) at 0x7fb83824d960>\n",
      "\n",
      "/CSC_CONTAINER/miniconda/envs/env1/lib/python3.10/multiprocessing/popen_fork.py:66: ResourceWarning:\n",
      "\n",
      "Unclosed socket <zmq.Socket(zmq.PUSH) at 0x7fbb38565600>\n",
      "\n",
      "/CSC_CONTAINER/miniconda/envs/env1/lib/python3.10/multiprocessing/popen_fork.py:66: ResourceWarning:\n",
      "\n",
      "Unclosed socket <zmq.Socket(zmq.PUSH) at 0x7fb83824d960>\n",
      "\n",
      "/CSC_CONTAINER/miniconda/envs/env1/lib/python3.10/multiprocessing/popen_fork.py:66: ResourceWarning:\n",
      "\n",
      "Unclosed socket <zmq.Socket(zmq.PUSH) at 0x7fbb38565600>\n",
      "\n",
      "/CSC_CONTAINER/miniconda/envs/env1/lib/python3.10/multiprocessing/popen_fork.py:66: ResourceWarning:\n",
      "\n",
      "Unclosed socket <zmq.Socket(zmq.PUSH) at 0x7fb83824d960>\n",
      "\n",
      "/CSC_CONTAINER/miniconda/envs/env1/lib/python3.10/multiprocessing/popen_fork.py:66: ResourceWarning:\n",
      "\n",
      "Unclosed socket <zmq.Socket(zmq.PUSH) at 0x7fbb38565600>\n",
      "\n",
      "/CSC_CONTAINER/miniconda/envs/env1/lib/python3.10/multiprocessing/popen_fork.py:66: ResourceWarning:\n",
      "\n",
      "Unclosed socket <zmq.Socket(zmq.PUSH) at 0x7fb83824d960>\n",
      "\n",
      "/CSC_CONTAINER/miniconda/envs/env1/lib/python3.10/multiprocessing/popen_fork.py:66: ResourceWarning:\n",
      "\n",
      "Unclosed socket <zmq.Socket(zmq.PUSH) at 0x7fbb38565600>\n",
      "\n",
      "/CSC_CONTAINER/miniconda/envs/env1/lib/python3.10/multiprocessing/popen_fork.py:66: ResourceWarning:\n",
      "\n",
      "Unclosed socket <zmq.Socket(zmq.PUSH) at 0x7fb83824d960>\n",
      "\n",
      "/CSC_CONTAINER/miniconda/envs/env1/lib/python3.10/multiprocessing/popen_fork.py:66: ResourceWarning:\n",
      "\n",
      "Unclosed socket <zmq.Socket(zmq.PUSH) at 0x7fbb38565600>\n",
      "\n",
      "/CSC_CONTAINER/miniconda/envs/env1/lib/python3.10/multiprocessing/popen_fork.py:66: ResourceWarning:\n",
      "\n",
      "Unclosed socket <zmq.Socket(zmq.PUSH) at 0x7fb83824d960>\n",
      "\n",
      "/CSC_CONTAINER/miniconda/envs/env1/lib/python3.10/multiprocessing/popen_fork.py:66: ResourceWarning:\n",
      "\n",
      "Unclosed socket <zmq.Socket(zmq.PUSH) at 0x7fbb38565600>\n",
      "\n",
      "/CSC_CONTAINER/miniconda/envs/env1/lib/python3.10/multiprocessing/popen_fork.py:66: ResourceWarning:\n",
      "\n",
      "Unclosed socket <zmq.Socket(zmq.PUSH) at 0x7fb83824d960>\n",
      "\n",
      "/CSC_CONTAINER/miniconda/envs/env1/lib/python3.10/multiprocessing/popen_fork.py:66: ResourceWarning:\n",
      "\n",
      "Unclosed socket <zmq.Socket(zmq.PUSH) at 0x7fbb38565600>\n",
      "\n",
      "/CSC_CONTAINER/miniconda/envs/env1/lib/python3.10/multiprocessing/popen_fork.py:66: ResourceWarning:\n",
      "\n",
      "Unclosed socket <zmq.Socket(zmq.PUSH) at 0x7fb83824d960>\n",
      "\n",
      "/CSC_CONTAINER/miniconda/envs/env1/lib/python3.10/multiprocessing/popen_fork.py:66: ResourceWarning:\n",
      "\n",
      "Unclosed socket <zmq.Socket(zmq.PUSH) at 0x7fbb38565600>\n",
      "\n",
      "/CSC_CONTAINER/miniconda/envs/env1/lib/python3.10/multiprocessing/popen_fork.py:66: ResourceWarning:\n",
      "\n",
      "Unclosed socket <zmq.Socket(zmq.PUSH) at 0x7fb83824d960>\n",
      "\n",
      "/CSC_CONTAINER/miniconda/envs/env1/lib/python3.10/multiprocessing/popen_fork.py:66: ResourceWarning:\n",
      "\n",
      "Unclosed socket <zmq.Socket(zmq.PUSH) at 0x7fbb38565600>\n",
      "\n",
      "/CSC_CONTAINER/miniconda/envs/env1/lib/python3.10/multiprocessing/popen_fork.py:66: ResourceWarning:\n",
      "\n",
      "Unclosed socket <zmq.Socket(zmq.PUSH) at 0x7fb83824d960>\n",
      "\n",
      "/CSC_CONTAINER/miniconda/envs/env1/lib/python3.10/multiprocessing/popen_fork.py:66: ResourceWarning:\n",
      "\n",
      "Unclosed socket <zmq.Socket(zmq.PUSH) at 0x7fbb38565600>\n",
      "\n",
      "/CSC_CONTAINER/miniconda/envs/env1/lib/python3.10/multiprocessing/popen_fork.py:66: ResourceWarning:\n",
      "\n",
      "Unclosed socket <zmq.Socket(zmq.PUSH) at 0x7fb83824d960>\n",
      "\n",
      "/CSC_CONTAINER/miniconda/envs/env1/lib/python3.10/multiprocessing/popen_fork.py:66: ResourceWarning:\n",
      "\n",
      "Unclosed socket <zmq.Socket(zmq.PUSH) at 0x7fbb38565600>\n",
      "\n",
      "/CSC_CONTAINER/miniconda/envs/env1/lib/python3.10/multiprocessing/popen_fork.py:66: ResourceWarning:\n",
      "\n",
      "Unclosed socket <zmq.Socket(zmq.PUSH) at 0x7fb83824d960>\n",
      "\n",
      "/CSC_CONTAINER/miniconda/envs/env1/lib/python3.10/multiprocessing/popen_fork.py:66: ResourceWarning:\n",
      "\n",
      "Unclosed socket <zmq.Socket(zmq.PUSH) at 0x7fbb38565600>\n",
      "\n",
      "/CSC_CONTAINER/miniconda/envs/env1/lib/python3.10/multiprocessing/popen_fork.py:66: ResourceWarning:\n",
      "\n",
      "Unclosed socket <zmq.Socket(zmq.PUSH) at 0x7fb83824d960>\n",
      "\n",
      "/CSC_CONTAINER/miniconda/envs/env1/lib/python3.10/multiprocessing/popen_fork.py:66: ResourceWarning:\n",
      "\n",
      "Unclosed socket <zmq.Socket(zmq.PUSH) at 0x7fbb38565600>\n",
      "\n",
      "/CSC_CONTAINER/miniconda/envs/env1/lib/python3.10/multiprocessing/popen_fork.py:66: ResourceWarning:\n",
      "\n",
      "Unclosed socket <zmq.Socket(zmq.PUSH) at 0x7fb83824d960>\n",
      "\n",
      "/CSC_CONTAINER/miniconda/envs/env1/lib/python3.10/multiprocessing/popen_fork.py:66: ResourceWarning:\n",
      "\n",
      "Unclosed socket <zmq.Socket(zmq.PUSH) at 0x7fbb38565600>\n",
      "\n",
      "/CSC_CONTAINER/miniconda/envs/env1/lib/python3.10/multiprocessing/popen_fork.py:66: ResourceWarning:\n",
      "\n",
      "Unclosed socket <zmq.Socket(zmq.PUSH) at 0x7fb83824d960>\n",
      "\n",
      "/CSC_CONTAINER/miniconda/envs/env1/lib/python3.10/multiprocessing/popen_fork.py:66: ResourceWarning:\n",
      "\n",
      "Unclosed socket <zmq.Socket(zmq.PUSH) at 0x7fbb38565600>\n",
      "\n",
      "/CSC_CONTAINER/miniconda/envs/env1/lib/python3.10/multiprocessing/popen_fork.py:66: ResourceWarning:\n",
      "\n",
      "Unclosed socket <zmq.Socket(zmq.PUSH) at 0x7fb83824d960>\n",
      "\n",
      "/CSC_CONTAINER/miniconda/envs/env1/lib/python3.10/multiprocessing/popen_fork.py:66: ResourceWarning:\n",
      "\n",
      "Unclosed socket <zmq.Socket(zmq.PUSH) at 0x7fbb38565600>\n",
      "\n",
      "/CSC_CONTAINER/miniconda/envs/env1/lib/python3.10/multiprocessing/popen_fork.py:66: ResourceWarning:\n",
      "\n",
      "Unclosed socket <zmq.Socket(zmq.PUSH) at 0x7fb83824d960>\n",
      "\n",
      "/CSC_CONTAINER/miniconda/envs/env1/lib/python3.10/multiprocessing/popen_fork.py:66: ResourceWarning:\n",
      "\n",
      "Unclosed socket <zmq.Socket(zmq.PUSH) at 0x7fbb38565600>\n",
      "\n",
      "/CSC_CONTAINER/miniconda/envs/env1/lib/python3.10/multiprocessing/popen_fork.py:66: ResourceWarning:\n",
      "\n",
      "Unclosed socket <zmq.Socket(zmq.PUSH) at 0x7fb83824d960>\n",
      "\n"
     ]
    },
    {
     "name": "stderr",
     "output_type": "stream",
     "text": [
      "/CSC_CONTAINER/miniconda/envs/env1/lib/python3.10/multiprocessing/popen_fork.py:66: ResourceWarning:\n",
      "\n",
      "Unclosed socket <zmq.Socket(zmq.PUSH) at 0x7fbb38565600>\n",
      "\n",
      "/CSC_CONTAINER/miniconda/envs/env1/lib/python3.10/multiprocessing/popen_fork.py:66: ResourceWarning:\n",
      "\n",
      "Unclosed socket <zmq.Socket(zmq.PUSH) at 0x7fb83824d960>\n",
      "\n",
      "/CSC_CONTAINER/miniconda/envs/env1/lib/python3.10/multiprocessing/popen_fork.py:66: ResourceWarning:\n",
      "\n",
      "Unclosed socket <zmq.Socket(zmq.PUSH) at 0x7fbb38565600>\n",
      "\n",
      "/CSC_CONTAINER/miniconda/envs/env1/lib/python3.10/multiprocessing/popen_fork.py:66: ResourceWarning:\n",
      "\n",
      "Unclosed socket <zmq.Socket(zmq.PUSH) at 0x7fb83824d960>\n",
      "\n",
      "/CSC_CONTAINER/miniconda/envs/env1/lib/python3.10/multiprocessing/popen_fork.py:66: ResourceWarning:\n",
      "\n",
      "Unclosed socket <zmq.Socket(zmq.PUSH) at 0x7fbb38565600>\n",
      "\n",
      "/CSC_CONTAINER/miniconda/envs/env1/lib/python3.10/multiprocessing/popen_fork.py:66: ResourceWarning:\n",
      "\n",
      "Unclosed socket <zmq.Socket(zmq.PUSH) at 0x7fb83824d960>\n",
      "\n",
      "/CSC_CONTAINER/miniconda/envs/env1/lib/python3.10/multiprocessing/popen_fork.py:66: ResourceWarning:\n",
      "\n",
      "Unclosed socket <zmq.Socket(zmq.PUSH) at 0x7fbb38565600>\n",
      "\n",
      "/CSC_CONTAINER/miniconda/envs/env1/lib/python3.10/multiprocessing/popen_fork.py:66: ResourceWarning:\n",
      "\n",
      "Unclosed socket <zmq.Socket(zmq.PUSH) at 0x7fb83824d960>\n",
      "\n",
      "/CSC_CONTAINER/miniconda/envs/env1/lib/python3.10/multiprocessing/popen_fork.py:66: ResourceWarning:\n",
      "\n",
      "Unclosed socket <zmq.Socket(zmq.PUSH) at 0x7fbb38565600>\n",
      "\n",
      "/CSC_CONTAINER/miniconda/envs/env1/lib/python3.10/multiprocessing/popen_fork.py:66: ResourceWarning:\n",
      "\n",
      "Unclosed socket <zmq.Socket(zmq.PUSH) at 0x7fb83824d960>\n",
      "\n",
      "/CSC_CONTAINER/miniconda/envs/env1/lib/python3.10/multiprocessing/popen_fork.py:66: ResourceWarning:\n",
      "\n",
      "Unclosed socket <zmq.Socket(zmq.PUSH) at 0x7fbb38565600>\n",
      "\n",
      "/CSC_CONTAINER/miniconda/envs/env1/lib/python3.10/multiprocessing/popen_fork.py:66: ResourceWarning:\n",
      "\n",
      "Unclosed socket <zmq.Socket(zmq.PUSH) at 0x7fb83824d960>\n",
      "\n",
      "/CSC_CONTAINER/miniconda/envs/env1/lib/python3.10/multiprocessing/popen_fork.py:66: ResourceWarning:\n",
      "\n",
      "Unclosed socket <zmq.Socket(zmq.PUSH) at 0x7fbb38565600>\n",
      "\n",
      "/CSC_CONTAINER/miniconda/envs/env1/lib/python3.10/multiprocessing/popen_fork.py:66: ResourceWarning:\n",
      "\n",
      "Unclosed socket <zmq.Socket(zmq.PUSH) at 0x7fb83824d960>\n",
      "\n",
      "/CSC_CONTAINER/miniconda/envs/env1/lib/python3.10/multiprocessing/popen_fork.py:66: ResourceWarning:\n",
      "\n",
      "Unclosed socket <zmq.Socket(zmq.PUSH) at 0x7fbb38565600>\n",
      "\n",
      "/CSC_CONTAINER/miniconda/envs/env1/lib/python3.10/multiprocessing/popen_fork.py:66: ResourceWarning:\n",
      "\n",
      "Unclosed socket <zmq.Socket(zmq.PUSH) at 0x7fb83824d960>\n",
      "\n",
      "/CSC_CONTAINER/miniconda/envs/env1/lib/python3.10/multiprocessing/popen_fork.py:66: ResourceWarning:\n",
      "\n",
      "Unclosed socket <zmq.Socket(zmq.PUSH) at 0x7fbb38565600>\n",
      "\n",
      "/CSC_CONTAINER/miniconda/envs/env1/lib/python3.10/multiprocessing/popen_fork.py:66: ResourceWarning:\n",
      "\n",
      "Unclosed socket <zmq.Socket(zmq.PUSH) at 0x7fb83824d960>\n",
      "\n",
      "/CSC_CONTAINER/miniconda/envs/env1/lib/python3.10/multiprocessing/popen_fork.py:66: ResourceWarning:\n",
      "\n",
      "Unclosed socket <zmq.Socket(zmq.PUSH) at 0x7fbb38565600>\n",
      "\n",
      "/CSC_CONTAINER/miniconda/envs/env1/lib/python3.10/multiprocessing/popen_fork.py:66: ResourceWarning:\n",
      "\n",
      "Unclosed socket <zmq.Socket(zmq.PUSH) at 0x7fb83824d960>\n",
      "\n",
      "/CSC_CONTAINER/miniconda/envs/env1/lib/python3.10/multiprocessing/popen_fork.py:66: ResourceWarning:\n",
      "\n",
      "Unclosed socket <zmq.Socket(zmq.PUSH) at 0x7fbb38565600>\n",
      "\n",
      "/CSC_CONTAINER/miniconda/envs/env1/lib/python3.10/multiprocessing/popen_fork.py:66: ResourceWarning:\n",
      "\n",
      "Unclosed socket <zmq.Socket(zmq.PUSH) at 0x7fb83824d960>\n",
      "\n",
      "/CSC_CONTAINER/miniconda/envs/env1/lib/python3.10/multiprocessing/popen_fork.py:66: ResourceWarning:\n",
      "\n",
      "Unclosed socket <zmq.Socket(zmq.PUSH) at 0x7fbb38565600>\n",
      "\n",
      "/CSC_CONTAINER/miniconda/envs/env1/lib/python3.10/multiprocessing/popen_fork.py:66: ResourceWarning:\n",
      "\n",
      "Unclosed socket <zmq.Socket(zmq.PUSH) at 0x7fb83824d960>\n",
      "\n",
      "/CSC_CONTAINER/miniconda/envs/env1/lib/python3.10/multiprocessing/popen_fork.py:66: ResourceWarning:\n",
      "\n",
      "Unclosed socket <zmq.Socket(zmq.PUSH) at 0x7fbb38565600>\n",
      "\n",
      "/CSC_CONTAINER/miniconda/envs/env1/lib/python3.10/multiprocessing/popen_fork.py:66: ResourceWarning:\n",
      "\n",
      "Unclosed socket <zmq.Socket(zmq.PUSH) at 0x7fb83824d960>\n",
      "\n",
      "/CSC_CONTAINER/miniconda/envs/env1/lib/python3.10/multiprocessing/popen_fork.py:66: ResourceWarning:\n",
      "\n",
      "Unclosed socket <zmq.Socket(zmq.PUSH) at 0x7fbb38565600>\n",
      "\n",
      "/CSC_CONTAINER/miniconda/envs/env1/lib/python3.10/multiprocessing/popen_fork.py:66: ResourceWarning:\n",
      "\n",
      "Unclosed socket <zmq.Socket(zmq.PUSH) at 0x7fb83824d960>\n",
      "\n",
      "/CSC_CONTAINER/miniconda/envs/env1/lib/python3.10/multiprocessing/popen_fork.py:66: ResourceWarning:\n",
      "\n",
      "Unclosed socket <zmq.Socket(zmq.PUSH) at 0x7fbb38565600>\n",
      "\n",
      "/CSC_CONTAINER/miniconda/envs/env1/lib/python3.10/multiprocessing/popen_fork.py:66: ResourceWarning:\n",
      "\n",
      "Unclosed socket <zmq.Socket(zmq.PUSH) at 0x7fb83824d960>\n",
      "\n",
      "/CSC_CONTAINER/miniconda/envs/env1/lib/python3.10/multiprocessing/popen_fork.py:66: ResourceWarning:\n",
      "\n",
      "Unclosed socket <zmq.Socket(zmq.PUSH) at 0x7fbb38565600>\n",
      "\n",
      "/CSC_CONTAINER/miniconda/envs/env1/lib/python3.10/multiprocessing/popen_fork.py:66: ResourceWarning:\n",
      "\n",
      "Unclosed socket <zmq.Socket(zmq.PUSH) at 0x7fb83824d960>\n",
      "\n",
      "/CSC_CONTAINER/miniconda/envs/env1/lib/python3.10/multiprocessing/popen_fork.py:66: ResourceWarning:\n",
      "\n",
      "Unclosed socket <zmq.Socket(zmq.PUSH) at 0x7fbb38565600>\n",
      "\n",
      "/CSC_CONTAINER/miniconda/envs/env1/lib/python3.10/multiprocessing/popen_fork.py:66: ResourceWarning:\n",
      "\n",
      "Unclosed socket <zmq.Socket(zmq.PUSH) at 0x7fb83824d960>\n",
      "\n",
      "100%|██████████| 342/342 [00:07<00:00, 44.82it/s] \n"
     ]
    },
    {
     "data": {
      "text/plain": [
       "(21883, 10)"
      ]
     },
     "execution_count": 44,
     "metadata": {},
     "output_type": "execute_result"
    }
   ],
   "source": [
    "### Prediction per document_id\n",
    "### Topic predictions as percentages for each topic for each document chunk\n",
    "topics_predictions = model.get_thetas(training_dataset, n_samples=20)\n",
    "topics_predictions.shape"
   ]
  },
  {
   "cell_type": "code",
   "execution_count": 57,
   "id": "11d5eb8b",
   "metadata": {},
   "outputs": [
    {
     "data": {
      "text/plain": [
       "1"
      ]
     },
     "execution_count": 57,
     "metadata": {},
     "output_type": "execute_result"
    }
   ],
   "source": [
    "topic_number = np.argmax(topics_predictions[0])\n",
    "topic_number"
   ]
  },
  {
   "cell_type": "code",
   "execution_count": 62,
   "id": "b29e20e5",
   "metadata": {},
   "outputs": [
    {
     "data": {
      "text/plain": [
       "21883"
      ]
     },
     "execution_count": 62,
     "metadata": {},
     "output_type": "execute_result"
    }
   ],
   "source": [
    "best_topics = np.argmax(topics_predictions, axis=1)\n",
    "len(best_topics)"
   ]
  },
  {
   "cell_type": "code",
   "execution_count": 60,
   "id": "13ab628d",
   "metadata": {},
   "outputs": [
    {
     "data": {
      "text/plain": [
       "(10,)"
      ]
     },
     "execution_count": 60,
     "metadata": {},
     "output_type": "execute_result"
    }
   ],
   "source": [
    "topics_predictions"
   ]
  },
  {
   "cell_type": "code",
   "execution_count": null,
   "id": "e4291866",
   "metadata": {},
   "outputs": [],
   "source": []
  },
  {
   "cell_type": "code",
   "execution_count": 63,
   "id": "5864a427",
   "metadata": {},
   "outputs": [],
   "source": [
    "### Adding the predictions to a dataframe\n",
    "topics = 10\n",
    "topic_columns = [f\"topic_{i}_prob\" for i in range(0, topics)]\n",
    "predictions_df = pd.DataFrame(topics_predictions, columns=topic_columns)\n",
    "predictions_df['Topic Prediction'] = best_topics"
   ]
  },
  {
   "cell_type": "code",
   "execution_count": 64,
   "id": "fce95383",
   "metadata": {},
   "outputs": [
    {
     "data": {
      "text/html": [
       "<div>\n",
       "<style scoped>\n",
       "    .dataframe tbody tr th:only-of-type {\n",
       "        vertical-align: middle;\n",
       "    }\n",
       "\n",
       "    .dataframe tbody tr th {\n",
       "        vertical-align: top;\n",
       "    }\n",
       "\n",
       "    .dataframe thead th {\n",
       "        text-align: right;\n",
       "    }\n",
       "</style>\n",
       "<table border=\"1\" class=\"dataframe\">\n",
       "  <thead>\n",
       "    <tr style=\"text-align: right;\">\n",
       "      <th></th>\n",
       "      <th>topic_0_prob</th>\n",
       "      <th>topic_1_prob</th>\n",
       "      <th>topic_2_prob</th>\n",
       "      <th>topic_3_prob</th>\n",
       "      <th>topic_4_prob</th>\n",
       "      <th>topic_5_prob</th>\n",
       "      <th>topic_6_prob</th>\n",
       "      <th>topic_7_prob</th>\n",
       "      <th>topic_8_prob</th>\n",
       "      <th>topic_9_prob</th>\n",
       "      <th>Best_Topic</th>\n",
       "    </tr>\n",
       "  </thead>\n",
       "  <tbody>\n",
       "    <tr>\n",
       "      <th>0</th>\n",
       "      <td>0.074155</td>\n",
       "      <td>0.370205</td>\n",
       "      <td>0.039106</td>\n",
       "      <td>0.019023</td>\n",
       "      <td>0.051827</td>\n",
       "      <td>0.016596</td>\n",
       "      <td>0.051501</td>\n",
       "      <td>0.279886</td>\n",
       "      <td>0.033186</td>\n",
       "      <td>0.064514</td>\n",
       "      <td>1</td>\n",
       "    </tr>\n",
       "    <tr>\n",
       "      <th>1</th>\n",
       "      <td>0.022129</td>\n",
       "      <td>0.448448</td>\n",
       "      <td>0.028700</td>\n",
       "      <td>0.022599</td>\n",
       "      <td>0.020366</td>\n",
       "      <td>0.023867</td>\n",
       "      <td>0.029967</td>\n",
       "      <td>0.343303</td>\n",
       "      <td>0.028254</td>\n",
       "      <td>0.032365</td>\n",
       "      <td>1</td>\n",
       "    </tr>\n",
       "    <tr>\n",
       "      <th>2</th>\n",
       "      <td>0.052701</td>\n",
       "      <td>0.423831</td>\n",
       "      <td>0.045592</td>\n",
       "      <td>0.018765</td>\n",
       "      <td>0.069527</td>\n",
       "      <td>0.052151</td>\n",
       "      <td>0.043433</td>\n",
       "      <td>0.226795</td>\n",
       "      <td>0.028842</td>\n",
       "      <td>0.038364</td>\n",
       "      <td>1</td>\n",
       "    </tr>\n",
       "    <tr>\n",
       "      <th>3</th>\n",
       "      <td>0.036131</td>\n",
       "      <td>0.412810</td>\n",
       "      <td>0.043909</td>\n",
       "      <td>0.032600</td>\n",
       "      <td>0.034011</td>\n",
       "      <td>0.025903</td>\n",
       "      <td>0.052673</td>\n",
       "      <td>0.287231</td>\n",
       "      <td>0.020439</td>\n",
       "      <td>0.054293</td>\n",
       "      <td>1</td>\n",
       "    </tr>\n",
       "    <tr>\n",
       "      <th>4</th>\n",
       "      <td>0.054280</td>\n",
       "      <td>0.344125</td>\n",
       "      <td>0.034888</td>\n",
       "      <td>0.037550</td>\n",
       "      <td>0.017348</td>\n",
       "      <td>0.042109</td>\n",
       "      <td>0.028373</td>\n",
       "      <td>0.392404</td>\n",
       "      <td>0.023930</td>\n",
       "      <td>0.024993</td>\n",
       "      <td>7</td>\n",
       "    </tr>\n",
       "    <tr>\n",
       "      <th>...</th>\n",
       "      <td>...</td>\n",
       "      <td>...</td>\n",
       "      <td>...</td>\n",
       "      <td>...</td>\n",
       "      <td>...</td>\n",
       "      <td>...</td>\n",
       "      <td>...</td>\n",
       "      <td>...</td>\n",
       "      <td>...</td>\n",
       "      <td>...</td>\n",
       "      <td>...</td>\n",
       "    </tr>\n",
       "    <tr>\n",
       "      <th>21878</th>\n",
       "      <td>0.073932</td>\n",
       "      <td>0.170234</td>\n",
       "      <td>0.150378</td>\n",
       "      <td>0.137557</td>\n",
       "      <td>0.081474</td>\n",
       "      <td>0.160151</td>\n",
       "      <td>0.028988</td>\n",
       "      <td>0.115808</td>\n",
       "      <td>0.036715</td>\n",
       "      <td>0.044764</td>\n",
       "      <td>1</td>\n",
       "    </tr>\n",
       "    <tr>\n",
       "      <th>21879</th>\n",
       "      <td>0.040137</td>\n",
       "      <td>0.363155</td>\n",
       "      <td>0.029256</td>\n",
       "      <td>0.107497</td>\n",
       "      <td>0.017730</td>\n",
       "      <td>0.037839</td>\n",
       "      <td>0.027540</td>\n",
       "      <td>0.271268</td>\n",
       "      <td>0.037112</td>\n",
       "      <td>0.068467</td>\n",
       "      <td>1</td>\n",
       "    </tr>\n",
       "    <tr>\n",
       "      <th>21880</th>\n",
       "      <td>0.049774</td>\n",
       "      <td>0.099416</td>\n",
       "      <td>0.038614</td>\n",
       "      <td>0.211051</td>\n",
       "      <td>0.050759</td>\n",
       "      <td>0.143798</td>\n",
       "      <td>0.075344</td>\n",
       "      <td>0.076975</td>\n",
       "      <td>0.097376</td>\n",
       "      <td>0.156894</td>\n",
       "      <td>3</td>\n",
       "    </tr>\n",
       "    <tr>\n",
       "      <th>21881</th>\n",
       "      <td>0.090135</td>\n",
       "      <td>0.096201</td>\n",
       "      <td>0.098020</td>\n",
       "      <td>0.103297</td>\n",
       "      <td>0.079046</td>\n",
       "      <td>0.261313</td>\n",
       "      <td>0.067019</td>\n",
       "      <td>0.097025</td>\n",
       "      <td>0.042909</td>\n",
       "      <td>0.065033</td>\n",
       "      <td>5</td>\n",
       "    </tr>\n",
       "    <tr>\n",
       "      <th>21882</th>\n",
       "      <td>0.079699</td>\n",
       "      <td>0.089092</td>\n",
       "      <td>0.113172</td>\n",
       "      <td>0.289701</td>\n",
       "      <td>0.027596</td>\n",
       "      <td>0.193001</td>\n",
       "      <td>0.025620</td>\n",
       "      <td>0.092738</td>\n",
       "      <td>0.040783</td>\n",
       "      <td>0.048598</td>\n",
       "      <td>3</td>\n",
       "    </tr>\n",
       "  </tbody>\n",
       "</table>\n",
       "<p>21883 rows × 11 columns</p>\n",
       "</div>"
      ],
      "text/plain": [
       "       topic_0_prob  topic_1_prob  topic_2_prob  topic_3_prob  topic_4_prob  \\\n",
       "0          0.074155      0.370205      0.039106      0.019023      0.051827   \n",
       "1          0.022129      0.448448      0.028700      0.022599      0.020366   \n",
       "2          0.052701      0.423831      0.045592      0.018765      0.069527   \n",
       "3          0.036131      0.412810      0.043909      0.032600      0.034011   \n",
       "4          0.054280      0.344125      0.034888      0.037550      0.017348   \n",
       "...             ...           ...           ...           ...           ...   \n",
       "21878      0.073932      0.170234      0.150378      0.137557      0.081474   \n",
       "21879      0.040137      0.363155      0.029256      0.107497      0.017730   \n",
       "21880      0.049774      0.099416      0.038614      0.211051      0.050759   \n",
       "21881      0.090135      0.096201      0.098020      0.103297      0.079046   \n",
       "21882      0.079699      0.089092      0.113172      0.289701      0.027596   \n",
       "\n",
       "       topic_5_prob  topic_6_prob  topic_7_prob  topic_8_prob  topic_9_prob  \\\n",
       "0          0.016596      0.051501      0.279886      0.033186      0.064514   \n",
       "1          0.023867      0.029967      0.343303      0.028254      0.032365   \n",
       "2          0.052151      0.043433      0.226795      0.028842      0.038364   \n",
       "3          0.025903      0.052673      0.287231      0.020439      0.054293   \n",
       "4          0.042109      0.028373      0.392404      0.023930      0.024993   \n",
       "...             ...           ...           ...           ...           ...   \n",
       "21878      0.160151      0.028988      0.115808      0.036715      0.044764   \n",
       "21879      0.037839      0.027540      0.271268      0.037112      0.068467   \n",
       "21880      0.143798      0.075344      0.076975      0.097376      0.156894   \n",
       "21881      0.261313      0.067019      0.097025      0.042909      0.065033   \n",
       "21882      0.193001      0.025620      0.092738      0.040783      0.048598   \n",
       "\n",
       "       Best_Topic  \n",
       "0               1  \n",
       "1               1  \n",
       "2               1  \n",
       "3               1  \n",
       "4               7  \n",
       "...           ...  \n",
       "21878           1  \n",
       "21879           1  \n",
       "21880           3  \n",
       "21881           5  \n",
       "21882           3  \n",
       "\n",
       "[21883 rows x 11 columns]"
      ]
     },
     "execution_count": 64,
     "metadata": {},
     "output_type": "execute_result"
    }
   ],
   "source": [
    "predictions_df"
   ]
  },
  {
   "cell_type": "code",
   "execution_count": 65,
   "id": "3ddb5613",
   "metadata": {},
   "outputs": [
    {
     "data": {
      "text/plain": [
       "(21887, 24)"
      ]
     },
     "execution_count": 65,
     "metadata": {},
     "output_type": "execute_result"
    }
   ],
   "source": [
    "#Resetting the index and combining\n",
    "predictions_df = predictions_df.set_index(pd.Index(retained_indices))\n",
    "split_df = pd.concat([split_df, predictions_df], axis=1)\n",
    "split_df.shape"
   ]
  },
  {
   "cell_type": "code",
   "execution_count": 66,
   "id": "a5d349e4",
   "metadata": {},
   "outputs": [
    {
     "data": {
      "text/html": [
       "<div>\n",
       "<style scoped>\n",
       "    .dataframe tbody tr th:only-of-type {\n",
       "        vertical-align: middle;\n",
       "    }\n",
       "\n",
       "    .dataframe tbody tr th {\n",
       "        vertical-align: top;\n",
       "    }\n",
       "\n",
       "    .dataframe thead th {\n",
       "        text-align: right;\n",
       "    }\n",
       "</style>\n",
       "<table border=\"1\" class=\"dataframe\">\n",
       "  <thead>\n",
       "    <tr style=\"text-align: right;\">\n",
       "      <th></th>\n",
       "      <th>document_id</th>\n",
       "      <th>text</th>\n",
       "      <th>Topic Prediction</th>\n",
       "      <th>topic_0_prob</th>\n",
       "      <th>topic_1_prob</th>\n",
       "      <th>topic_2_prob</th>\n",
       "      <th>topic_3_prob</th>\n",
       "      <th>topic_4_prob</th>\n",
       "      <th>topic_5_prob</th>\n",
       "      <th>topic_6_prob</th>\n",
       "      <th>...</th>\n",
       "      <th>topic_1_prob</th>\n",
       "      <th>topic_2_prob</th>\n",
       "      <th>topic_3_prob</th>\n",
       "      <th>topic_4_prob</th>\n",
       "      <th>topic_5_prob</th>\n",
       "      <th>topic_6_prob</th>\n",
       "      <th>topic_7_prob</th>\n",
       "      <th>topic_8_prob</th>\n",
       "      <th>topic_9_prob</th>\n",
       "      <th>Best_Topic</th>\n",
       "    </tr>\n",
       "  </thead>\n",
       "  <tbody>\n",
       "    <tr>\n",
       "      <th>0</th>\n",
       "      <td>0227200600</td>\n",
       "      <td>JUST INU S De HISTORIIS PHILIP PlC IS ET TOTIU...</td>\n",
       "      <td>7.0</td>\n",
       "      <td>0.074155</td>\n",
       "      <td>0.370205</td>\n",
       "      <td>0.039106</td>\n",
       "      <td>0.019023</td>\n",
       "      <td>0.051827</td>\n",
       "      <td>0.016596</td>\n",
       "      <td>0.051501</td>\n",
       "      <td>...</td>\n",
       "      <td>0.370205</td>\n",
       "      <td>0.039106</td>\n",
       "      <td>0.019023</td>\n",
       "      <td>0.051827</td>\n",
       "      <td>0.016596</td>\n",
       "      <td>0.051501</td>\n",
       "      <td>0.279886</td>\n",
       "      <td>0.033186</td>\n",
       "      <td>0.064514</td>\n",
       "      <td>1.0</td>\n",
       "    </tr>\n",
       "    <tr>\n",
       "      <th>1</th>\n",
       "      <td>0227200600</td>\n",
       "      <td>ju. it. Ludovici Magni prodit iterum in lucem,...</td>\n",
       "      <td>1.0</td>\n",
       "      <td>0.022129</td>\n",
       "      <td>0.448448</td>\n",
       "      <td>0.028700</td>\n",
       "      <td>0.022599</td>\n",
       "      <td>0.020366</td>\n",
       "      <td>0.023867</td>\n",
       "      <td>0.029967</td>\n",
       "      <td>...</td>\n",
       "      <td>0.448448</td>\n",
       "      <td>0.028700</td>\n",
       "      <td>0.022599</td>\n",
       "      <td>0.020366</td>\n",
       "      <td>0.023867</td>\n",
       "      <td>0.029967</td>\n",
       "      <td>0.343303</td>\n",
       "      <td>0.028254</td>\n",
       "      <td>0.032365</td>\n",
       "      <td>1.0</td>\n",
       "    </tr>\n",
       "    <tr>\n",
       "      <th>2</th>\n",
       "      <td>0227200600</td>\n",
       "      <td>tibi fuis &amp; virtutibua multrm procdeffe, &amp;viti...</td>\n",
       "      <td>1.0</td>\n",
       "      <td>0.052701</td>\n",
       "      <td>0.423831</td>\n",
       "      <td>0.045592</td>\n",
       "      <td>0.018765</td>\n",
       "      <td>0.069527</td>\n",
       "      <td>0.052151</td>\n",
       "      <td>0.043433</td>\n",
       "      <td>...</td>\n",
       "      <td>0.423831</td>\n",
       "      <td>0.045592</td>\n",
       "      <td>0.018765</td>\n",
       "      <td>0.069527</td>\n",
       "      <td>0.052151</td>\n",
       "      <td>0.043433</td>\n",
       "      <td>0.226795</td>\n",
       "      <td>0.028842</td>\n",
       "      <td>0.038364</td>\n",
       "      <td>1.0</td>\n",
       "    </tr>\n",
       "    <tr>\n",
       "      <th>3</th>\n",
       "      <td>0227200600</td>\n",
       "      <td>&amp; auferas in relus, turn fecundis, turn adverf...</td>\n",
       "      <td>1.0</td>\n",
       "      <td>0.036131</td>\n",
       "      <td>0.412810</td>\n",
       "      <td>0.043909</td>\n",
       "      <td>0.032600</td>\n",
       "      <td>0.034011</td>\n",
       "      <td>0.025903</td>\n",
       "      <td>0.052673</td>\n",
       "      <td>...</td>\n",
       "      <td>0.412810</td>\n",
       "      <td>0.043909</td>\n",
       "      <td>0.032600</td>\n",
       "      <td>0.034011</td>\n",
       "      <td>0.025903</td>\n",
       "      <td>0.052673</td>\n",
       "      <td>0.287231</td>\n",
       "      <td>0.020439</td>\n",
       "      <td>0.054293</td>\n",
       "      <td>1.0</td>\n",
       "    </tr>\n",
       "    <tr>\n",
       "      <th>4</th>\n",
       "      <td>0227200600</td>\n",
       "      <td>jura dabit popalis; tu eruditis L ille praliis...</td>\n",
       "      <td>1.0</td>\n",
       "      <td>0.054280</td>\n",
       "      <td>0.344125</td>\n",
       "      <td>0.034888</td>\n",
       "      <td>0.037550</td>\n",
       "      <td>0.017348</td>\n",
       "      <td>0.042109</td>\n",
       "      <td>0.028373</td>\n",
       "      <td>...</td>\n",
       "      <td>0.344125</td>\n",
       "      <td>0.034888</td>\n",
       "      <td>0.037550</td>\n",
       "      <td>0.017348</td>\n",
       "      <td>0.042109</td>\n",
       "      <td>0.028373</td>\n",
       "      <td>0.392404</td>\n",
       "      <td>0.023930</td>\n",
       "      <td>0.024993</td>\n",
       "      <td>7.0</td>\n",
       "    </tr>\n",
       "    <tr>\n",
       "      <th>...</th>\n",
       "      <td>...</td>\n",
       "      <td>...</td>\n",
       "      <td>...</td>\n",
       "      <td>...</td>\n",
       "      <td>...</td>\n",
       "      <td>...</td>\n",
       "      <td>...</td>\n",
       "      <td>...</td>\n",
       "      <td>...</td>\n",
       "      <td>...</td>\n",
       "      <td>...</td>\n",
       "      <td>...</td>\n",
       "      <td>...</td>\n",
       "      <td>...</td>\n",
       "      <td>...</td>\n",
       "      <td>...</td>\n",
       "      <td>...</td>\n",
       "      <td>...</td>\n",
       "      <td>...</td>\n",
       "      <td>...</td>\n",
       "      <td>...</td>\n",
       "    </tr>\n",
       "    <tr>\n",
       "      <th>21882</th>\n",
       "      <td>1395501300</td>\n",
       "      <td>has; cws by aurMis admir'd, Alas!i your fruitl...</td>\n",
       "      <td>1.0</td>\n",
       "      <td>0.073932</td>\n",
       "      <td>0.170234</td>\n",
       "      <td>0.150378</td>\n",
       "      <td>0.137557</td>\n",
       "      <td>0.081474</td>\n",
       "      <td>0.160151</td>\n",
       "      <td>0.028988</td>\n",
       "      <td>...</td>\n",
       "      <td>0.170234</td>\n",
       "      <td>0.150378</td>\n",
       "      <td>0.137557</td>\n",
       "      <td>0.081474</td>\n",
       "      <td>0.160151</td>\n",
       "      <td>0.028988</td>\n",
       "      <td>0.115808</td>\n",
       "      <td>0.036715</td>\n",
       "      <td>0.044764</td>\n",
       "      <td>1.0</td>\n",
       "    </tr>\n",
       "    <tr>\n",
       "      <th>21883</th>\n",
       "      <td>1395501300</td>\n",
       "      <td>Ida's Combat now renew'd, V V .:Each Goddess t...</td>\n",
       "      <td>1.0</td>\n",
       "      <td>0.040137</td>\n",
       "      <td>0.363155</td>\n",
       "      <td>0.029256</td>\n",
       "      <td>0.107497</td>\n",
       "      <td>0.017730</td>\n",
       "      <td>0.037839</td>\n",
       "      <td>0.027540</td>\n",
       "      <td>...</td>\n",
       "      <td>0.363155</td>\n",
       "      <td>0.029256</td>\n",
       "      <td>0.107497</td>\n",
       "      <td>0.017730</td>\n",
       "      <td>0.037839</td>\n",
       "      <td>0.027540</td>\n",
       "      <td>0.271268</td>\n",
       "      <td>0.037112</td>\n",
       "      <td>0.068467</td>\n",
       "      <td>1.0</td>\n",
       "    </tr>\n",
       "    <tr>\n",
       "      <th>21884</th>\n",
       "      <td>1395501300</td>\n",
       "      <td>~Found no Return but cold Disdain. Yet flill w...</td>\n",
       "      <td>3.0</td>\n",
       "      <td>0.049774</td>\n",
       "      <td>0.099416</td>\n",
       "      <td>0.038614</td>\n",
       "      <td>0.211051</td>\n",
       "      <td>0.050759</td>\n",
       "      <td>0.143798</td>\n",
       "      <td>0.075344</td>\n",
       "      <td>...</td>\n",
       "      <td>0.099416</td>\n",
       "      <td>0.038614</td>\n",
       "      <td>0.211051</td>\n",
       "      <td>0.050759</td>\n",
       "      <td>0.143798</td>\n",
       "      <td>0.075344</td>\n",
       "      <td>0.076975</td>\n",
       "      <td>0.097376</td>\n",
       "      <td>0.156894</td>\n",
       "      <td>3.0</td>\n",
       "    </tr>\n",
       "    <tr>\n",
       "      <th>21885</th>\n",
       "      <td>1395501300</td>\n",
       "      <td>I of them for ever be. Nay: could I gaid the R...</td>\n",
       "      <td>5.0</td>\n",
       "      <td>0.090135</td>\n",
       "      <td>0.096201</td>\n",
       "      <td>0.098020</td>\n",
       "      <td>0.103297</td>\n",
       "      <td>0.079046</td>\n",
       "      <td>0.261313</td>\n",
       "      <td>0.067019</td>\n",
       "      <td>...</td>\n",
       "      <td>0.096201</td>\n",
       "      <td>0.098020</td>\n",
       "      <td>0.103297</td>\n",
       "      <td>0.079046</td>\n",
       "      <td>0.261313</td>\n",
       "      <td>0.067019</td>\n",
       "      <td>0.097025</td>\n",
       "      <td>0.042909</td>\n",
       "      <td>0.065033</td>\n",
       "      <td>5.0</td>\n",
       "    </tr>\n",
       "    <tr>\n",
       "      <th>21886</th>\n",
       "      <td>1395501300</td>\n",
       "      <td>peerlef~sDames Te Rival of thy Mother's Fame :...</td>\n",
       "      <td>3.0</td>\n",
       "      <td>0.079699</td>\n",
       "      <td>0.089092</td>\n",
       "      <td>0.113172</td>\n",
       "      <td>0.289701</td>\n",
       "      <td>0.027596</td>\n",
       "      <td>0.193001</td>\n",
       "      <td>0.025620</td>\n",
       "      <td>...</td>\n",
       "      <td>0.089092</td>\n",
       "      <td>0.113172</td>\n",
       "      <td>0.289701</td>\n",
       "      <td>0.027596</td>\n",
       "      <td>0.193001</td>\n",
       "      <td>0.025620</td>\n",
       "      <td>0.092738</td>\n",
       "      <td>0.040783</td>\n",
       "      <td>0.048598</td>\n",
       "      <td>3.0</td>\n",
       "    </tr>\n",
       "  </tbody>\n",
       "</table>\n",
       "<p>21887 rows × 24 columns</p>\n",
       "</div>"
      ],
      "text/plain": [
       "      document_id                                               text  \\\n",
       "0      0227200600  JUST INU S De HISTORIIS PHILIP PlC IS ET TOTIU...   \n",
       "1      0227200600  ju. it. Ludovici Magni prodit iterum in lucem,...   \n",
       "2      0227200600  tibi fuis & virtutibua multrm procdeffe, &viti...   \n",
       "3      0227200600  & auferas in relus, turn fecundis, turn adverf...   \n",
       "4      0227200600  jura dabit popalis; tu eruditis L ille praliis...   \n",
       "...           ...                                                ...   \n",
       "21882  1395501300  has; cws by aurMis admir'd, Alas!i your fruitl...   \n",
       "21883  1395501300  Ida's Combat now renew'd, V V .:Each Goddess t...   \n",
       "21884  1395501300  ~Found no Return but cold Disdain. Yet flill w...   \n",
       "21885  1395501300  I of them for ever be. Nay: could I gaid the R...   \n",
       "21886  1395501300  peerlef~sDames Te Rival of thy Mother's Fame :...   \n",
       "\n",
       "       Topic Prediction  topic_0_prob  topic_1_prob  topic_2_prob  \\\n",
       "0                   7.0      0.074155      0.370205      0.039106   \n",
       "1                   1.0      0.022129      0.448448      0.028700   \n",
       "2                   1.0      0.052701      0.423831      0.045592   \n",
       "3                   1.0      0.036131      0.412810      0.043909   \n",
       "4                   1.0      0.054280      0.344125      0.034888   \n",
       "...                 ...           ...           ...           ...   \n",
       "21882               1.0      0.073932      0.170234      0.150378   \n",
       "21883               1.0      0.040137      0.363155      0.029256   \n",
       "21884               3.0      0.049774      0.099416      0.038614   \n",
       "21885               5.0      0.090135      0.096201      0.098020   \n",
       "21886               3.0      0.079699      0.089092      0.113172   \n",
       "\n",
       "       topic_3_prob  topic_4_prob  topic_5_prob  topic_6_prob  ...  \\\n",
       "0          0.019023      0.051827      0.016596      0.051501  ...   \n",
       "1          0.022599      0.020366      0.023867      0.029967  ...   \n",
       "2          0.018765      0.069527      0.052151      0.043433  ...   \n",
       "3          0.032600      0.034011      0.025903      0.052673  ...   \n",
       "4          0.037550      0.017348      0.042109      0.028373  ...   \n",
       "...             ...           ...           ...           ...  ...   \n",
       "21882      0.137557      0.081474      0.160151      0.028988  ...   \n",
       "21883      0.107497      0.017730      0.037839      0.027540  ...   \n",
       "21884      0.211051      0.050759      0.143798      0.075344  ...   \n",
       "21885      0.103297      0.079046      0.261313      0.067019  ...   \n",
       "21886      0.289701      0.027596      0.193001      0.025620  ...   \n",
       "\n",
       "       topic_1_prob  topic_2_prob  topic_3_prob  topic_4_prob  topic_5_prob  \\\n",
       "0          0.370205      0.039106      0.019023      0.051827      0.016596   \n",
       "1          0.448448      0.028700      0.022599      0.020366      0.023867   \n",
       "2          0.423831      0.045592      0.018765      0.069527      0.052151   \n",
       "3          0.412810      0.043909      0.032600      0.034011      0.025903   \n",
       "4          0.344125      0.034888      0.037550      0.017348      0.042109   \n",
       "...             ...           ...           ...           ...           ...   \n",
       "21882      0.170234      0.150378      0.137557      0.081474      0.160151   \n",
       "21883      0.363155      0.029256      0.107497      0.017730      0.037839   \n",
       "21884      0.099416      0.038614      0.211051      0.050759      0.143798   \n",
       "21885      0.096201      0.098020      0.103297      0.079046      0.261313   \n",
       "21886      0.089092      0.113172      0.289701      0.027596      0.193001   \n",
       "\n",
       "       topic_6_prob  topic_7_prob  topic_8_prob  topic_9_prob  Best_Topic  \n",
       "0          0.051501      0.279886      0.033186      0.064514         1.0  \n",
       "1          0.029967      0.343303      0.028254      0.032365         1.0  \n",
       "2          0.043433      0.226795      0.028842      0.038364         1.0  \n",
       "3          0.052673      0.287231      0.020439      0.054293         1.0  \n",
       "4          0.028373      0.392404      0.023930      0.024993         7.0  \n",
       "...             ...           ...           ...           ...         ...  \n",
       "21882      0.028988      0.115808      0.036715      0.044764         1.0  \n",
       "21883      0.027540      0.271268      0.037112      0.068467         1.0  \n",
       "21884      0.075344      0.076975      0.097376      0.156894         3.0  \n",
       "21885      0.067019      0.097025      0.042909      0.065033         5.0  \n",
       "21886      0.025620      0.092738      0.040783      0.048598         3.0  \n",
       "\n",
       "[21887 rows x 24 columns]"
      ]
     },
     "execution_count": 66,
     "metadata": {},
     "output_type": "execute_result"
    }
   ],
   "source": [
    "split_df"
   ]
  },
  {
   "cell_type": "code",
   "execution_count": 71,
   "id": "14d5fdda",
   "metadata": {},
   "outputs": [
    {
     "name": "stdout",
     "output_type": "stream",
     "text": [
      "20\n"
     ]
    },
    {
     "data": {
      "text/html": [
       "<div>\n",
       "<style scoped>\n",
       "    .dataframe tbody tr th:only-of-type {\n",
       "        vertical-align: middle;\n",
       "    }\n",
       "\n",
       "    .dataframe tbody tr th {\n",
       "        vertical-align: top;\n",
       "    }\n",
       "\n",
       "    .dataframe thead th {\n",
       "        text-align: right;\n",
       "    }\n",
       "</style>\n",
       "<table border=\"1\" class=\"dataframe\">\n",
       "  <thead>\n",
       "    <tr style=\"text-align: right;\">\n",
       "      <th></th>\n",
       "      <th>document_id</th>\n",
       "      <th>topic_0_prob</th>\n",
       "      <th>topic_0_prob</th>\n",
       "      <th>topic_1_prob</th>\n",
       "      <th>topic_1_prob</th>\n",
       "      <th>topic_2_prob</th>\n",
       "      <th>topic_2_prob</th>\n",
       "      <th>topic_3_prob</th>\n",
       "      <th>topic_3_prob</th>\n",
       "      <th>topic_4_prob</th>\n",
       "      <th>...</th>\n",
       "      <th>topic_5_prob</th>\n",
       "      <th>topic_6_prob</th>\n",
       "      <th>topic_6_prob</th>\n",
       "      <th>topic_7_prob</th>\n",
       "      <th>topic_7_prob</th>\n",
       "      <th>topic_8_prob</th>\n",
       "      <th>topic_8_prob</th>\n",
       "      <th>topic_9_prob</th>\n",
       "      <th>topic_9_prob</th>\n",
       "      <th>Document Topic Prediction</th>\n",
       "    </tr>\n",
       "  </thead>\n",
       "  <tbody>\n",
       "    <tr>\n",
       "      <th>0</th>\n",
       "      <td>0009700110</td>\n",
       "      <td>0.100040</td>\n",
       "      <td>0.100040</td>\n",
       "      <td>0.147545</td>\n",
       "      <td>0.147545</td>\n",
       "      <td>0.151907</td>\n",
       "      <td>0.151907</td>\n",
       "      <td>0.097650</td>\n",
       "      <td>0.097650</td>\n",
       "      <td>0.07349</td>\n",
       "      <td>...</td>\n",
       "      <td>0.114984</td>\n",
       "      <td>0.054132</td>\n",
       "      <td>0.054132</td>\n",
       "      <td>0.130270</td>\n",
       "      <td>0.130270</td>\n",
       "      <td>0.053405</td>\n",
       "      <td>0.053405</td>\n",
       "      <td>0.076576</td>\n",
       "      <td>0.076576</td>\n",
       "      <td>2</td>\n",
       "    </tr>\n",
       "    <tr>\n",
       "      <th>1</th>\n",
       "      <td>0013600101</td>\n",
       "      <td>0.112090</td>\n",
       "      <td>0.112090</td>\n",
       "      <td>0.183076</td>\n",
       "      <td>0.183076</td>\n",
       "      <td>0.127672</td>\n",
       "      <td>0.127672</td>\n",
       "      <td>0.064476</td>\n",
       "      <td>0.064476</td>\n",
       "      <td>0.07305</td>\n",
       "      <td>...</td>\n",
       "      <td>0.068198</td>\n",
       "      <td>0.054426</td>\n",
       "      <td>0.054426</td>\n",
       "      <td>0.167792</td>\n",
       "      <td>0.167792</td>\n",
       "      <td>0.047161</td>\n",
       "      <td>0.047161</td>\n",
       "      <td>0.102060</td>\n",
       "      <td>0.102060</td>\n",
       "      <td>1</td>\n",
       "    </tr>\n",
       "    <tr>\n",
       "      <th>2</th>\n",
       "      <td>0081300106</td>\n",
       "      <td>0.084004</td>\n",
       "      <td>0.084004</td>\n",
       "      <td>0.209612</td>\n",
       "      <td>0.209612</td>\n",
       "      <td>0.087527</td>\n",
       "      <td>0.087527</td>\n",
       "      <td>0.089011</td>\n",
       "      <td>0.089011</td>\n",
       "      <td>0.06529</td>\n",
       "      <td>...</td>\n",
       "      <td>0.084677</td>\n",
       "      <td>0.057845</td>\n",
       "      <td>0.057845</td>\n",
       "      <td>0.176270</td>\n",
       "      <td>0.176270</td>\n",
       "      <td>0.054375</td>\n",
       "      <td>0.054375</td>\n",
       "      <td>0.091388</td>\n",
       "      <td>0.091388</td>\n",
       "      <td>1</td>\n",
       "    </tr>\n",
       "  </tbody>\n",
       "</table>\n",
       "<p>3 rows × 22 columns</p>\n",
       "</div>"
      ],
      "text/plain": [
       "  document_id  topic_0_prob  topic_0_prob  topic_1_prob  topic_1_prob  \\\n",
       "0  0009700110      0.100040      0.100040      0.147545      0.147545   \n",
       "1  0013600101      0.112090      0.112090      0.183076      0.183076   \n",
       "2  0081300106      0.084004      0.084004      0.209612      0.209612   \n",
       "\n",
       "   topic_2_prob  topic_2_prob  topic_3_prob  topic_3_prob  topic_4_prob  ...  \\\n",
       "0      0.151907      0.151907      0.097650      0.097650       0.07349  ...   \n",
       "1      0.127672      0.127672      0.064476      0.064476       0.07305  ...   \n",
       "2      0.087527      0.087527      0.089011      0.089011       0.06529  ...   \n",
       "\n",
       "   topic_5_prob  topic_6_prob  topic_6_prob  topic_7_prob  topic_7_prob  \\\n",
       "0      0.114984      0.054132      0.054132      0.130270      0.130270   \n",
       "1      0.068198      0.054426      0.054426      0.167792      0.167792   \n",
       "2      0.084677      0.057845      0.057845      0.176270      0.176270   \n",
       "\n",
       "   topic_8_prob  topic_8_prob  topic_9_prob  topic_9_prob  \\\n",
       "0      0.053405      0.053405      0.076576      0.076576   \n",
       "1      0.047161      0.047161      0.102060      0.102060   \n",
       "2      0.054375      0.054375      0.091388      0.091388   \n",
       "\n",
       "   Document Topic Prediction  \n",
       "0                          2  \n",
       "1                          1  \n",
       "2                          1  \n",
       "\n",
       "[3 rows x 22 columns]"
      ]
     },
     "execution_count": 71,
     "metadata": {},
     "output_type": "execute_result"
    }
   ],
   "source": [
    "mean_prob_df = split_df.groupby('document_id')[topic_columns].mean()\n",
    "mean_prob_df['Document Topic Prediction'] = mean_prob_df.idxmax(axis=1).str.replace('_prob', '').str.replace('topic_', '').astype(int)\n",
    "mean_prob_df = mean_prob_df.reset_index()\n",
    "print(len(mean_prob_df))\n",
    "mean_prob_df.head(3)"
   ]
  },
  {
   "cell_type": "code",
   "execution_count": 80,
   "id": "1e982c91",
   "metadata": {},
   "outputs": [],
   "source": [
    "split_df = split_df.merge(mean_prob_df[['document_id', 'Document Topic Prediction']], on='document_id', how='left')"
   ]
  },
  {
   "cell_type": "code",
   "execution_count": 81,
   "id": "cefe6fc8",
   "metadata": {},
   "outputs": [
    {
     "data": {
      "text/html": [
       "<div>\n",
       "<style scoped>\n",
       "    .dataframe tbody tr th:only-of-type {\n",
       "        vertical-align: middle;\n",
       "    }\n",
       "\n",
       "    .dataframe tbody tr th {\n",
       "        vertical-align: top;\n",
       "    }\n",
       "\n",
       "    .dataframe thead th {\n",
       "        text-align: right;\n",
       "    }\n",
       "</style>\n",
       "<table border=\"1\" class=\"dataframe\">\n",
       "  <thead>\n",
       "    <tr style=\"text-align: right;\">\n",
       "      <th></th>\n",
       "      <th>document_id</th>\n",
       "      <th>text</th>\n",
       "      <th>Topic Prediction</th>\n",
       "      <th>topic_0_prob</th>\n",
       "      <th>topic_1_prob</th>\n",
       "      <th>topic_2_prob</th>\n",
       "      <th>topic_3_prob</th>\n",
       "      <th>topic_4_prob</th>\n",
       "      <th>topic_5_prob</th>\n",
       "      <th>topic_6_prob</th>\n",
       "      <th>...</th>\n",
       "      <th>topic_2_prob</th>\n",
       "      <th>topic_3_prob</th>\n",
       "      <th>topic_4_prob</th>\n",
       "      <th>topic_5_prob</th>\n",
       "      <th>topic_6_prob</th>\n",
       "      <th>topic_7_prob</th>\n",
       "      <th>topic_8_prob</th>\n",
       "      <th>topic_9_prob</th>\n",
       "      <th>Best_Topic</th>\n",
       "      <th>Document Topic Prediction</th>\n",
       "    </tr>\n",
       "  </thead>\n",
       "  <tbody>\n",
       "    <tr>\n",
       "      <th>0</th>\n",
       "      <td>0227200600</td>\n",
       "      <td>JUST INU S De HISTORIIS PHILIP PlC IS ET TOTIU...</td>\n",
       "      <td>7.0</td>\n",
       "      <td>0.074155</td>\n",
       "      <td>0.370205</td>\n",
       "      <td>0.039106</td>\n",
       "      <td>0.019023</td>\n",
       "      <td>0.051827</td>\n",
       "      <td>0.016596</td>\n",
       "      <td>0.051501</td>\n",
       "      <td>...</td>\n",
       "      <td>0.039106</td>\n",
       "      <td>0.019023</td>\n",
       "      <td>0.051827</td>\n",
       "      <td>0.016596</td>\n",
       "      <td>0.051501</td>\n",
       "      <td>0.279886</td>\n",
       "      <td>0.033186</td>\n",
       "      <td>0.064514</td>\n",
       "      <td>1.0</td>\n",
       "      <td>1</td>\n",
       "    </tr>\n",
       "    <tr>\n",
       "      <th>1</th>\n",
       "      <td>0227200600</td>\n",
       "      <td>ju. it. Ludovici Magni prodit iterum in lucem,...</td>\n",
       "      <td>1.0</td>\n",
       "      <td>0.022129</td>\n",
       "      <td>0.448448</td>\n",
       "      <td>0.028700</td>\n",
       "      <td>0.022599</td>\n",
       "      <td>0.020366</td>\n",
       "      <td>0.023867</td>\n",
       "      <td>0.029967</td>\n",
       "      <td>...</td>\n",
       "      <td>0.028700</td>\n",
       "      <td>0.022599</td>\n",
       "      <td>0.020366</td>\n",
       "      <td>0.023867</td>\n",
       "      <td>0.029967</td>\n",
       "      <td>0.343303</td>\n",
       "      <td>0.028254</td>\n",
       "      <td>0.032365</td>\n",
       "      <td>1.0</td>\n",
       "      <td>1</td>\n",
       "    </tr>\n",
       "    <tr>\n",
       "      <th>2</th>\n",
       "      <td>0227200600</td>\n",
       "      <td>tibi fuis &amp; virtutibua multrm procdeffe, &amp;viti...</td>\n",
       "      <td>1.0</td>\n",
       "      <td>0.052701</td>\n",
       "      <td>0.423831</td>\n",
       "      <td>0.045592</td>\n",
       "      <td>0.018765</td>\n",
       "      <td>0.069527</td>\n",
       "      <td>0.052151</td>\n",
       "      <td>0.043433</td>\n",
       "      <td>...</td>\n",
       "      <td>0.045592</td>\n",
       "      <td>0.018765</td>\n",
       "      <td>0.069527</td>\n",
       "      <td>0.052151</td>\n",
       "      <td>0.043433</td>\n",
       "      <td>0.226795</td>\n",
       "      <td>0.028842</td>\n",
       "      <td>0.038364</td>\n",
       "      <td>1.0</td>\n",
       "      <td>1</td>\n",
       "    </tr>\n",
       "  </tbody>\n",
       "</table>\n",
       "<p>3 rows × 25 columns</p>\n",
       "</div>"
      ],
      "text/plain": [
       "  document_id                                               text  \\\n",
       "0  0227200600  JUST INU S De HISTORIIS PHILIP PlC IS ET TOTIU...   \n",
       "1  0227200600  ju. it. Ludovici Magni prodit iterum in lucem,...   \n",
       "2  0227200600  tibi fuis & virtutibua multrm procdeffe, &viti...   \n",
       "\n",
       "   Topic Prediction  topic_0_prob  topic_1_prob  topic_2_prob  topic_3_prob  \\\n",
       "0               7.0      0.074155      0.370205      0.039106      0.019023   \n",
       "1               1.0      0.022129      0.448448      0.028700      0.022599   \n",
       "2               1.0      0.052701      0.423831      0.045592      0.018765   \n",
       "\n",
       "   topic_4_prob  topic_5_prob  topic_6_prob  ...  topic_2_prob  topic_3_prob  \\\n",
       "0      0.051827      0.016596      0.051501  ...      0.039106      0.019023   \n",
       "1      0.020366      0.023867      0.029967  ...      0.028700      0.022599   \n",
       "2      0.069527      0.052151      0.043433  ...      0.045592      0.018765   \n",
       "\n",
       "   topic_4_prob  topic_5_prob  topic_6_prob  topic_7_prob  topic_8_prob  \\\n",
       "0      0.051827      0.016596      0.051501      0.279886      0.033186   \n",
       "1      0.020366      0.023867      0.029967      0.343303      0.028254   \n",
       "2      0.069527      0.052151      0.043433      0.226795      0.028842   \n",
       "\n",
       "   topic_9_prob  Best_Topic  Document Topic Prediction  \n",
       "0      0.064514         1.0                          1  \n",
       "1      0.032365         1.0                          1  \n",
       "2      0.038364         1.0                          1  \n",
       "\n",
       "[3 rows x 25 columns]"
      ]
     },
     "execution_count": 81,
     "metadata": {},
     "output_type": "execute_result"
    }
   ],
   "source": [
    "split_df.head(3)"
   ]
  },
  {
   "cell_type": "code",
   "execution_count": 82,
   "id": "805943e3",
   "metadata": {},
   "outputs": [],
   "source": [
    "df_topic_count = split_df.groupby(['document_id', 'Topic Prediction']).size().reset_index(name='Count')"
   ]
  },
  {
   "cell_type": "code",
   "execution_count": 83,
   "id": "4941928f",
   "metadata": {},
   "outputs": [
    {
     "data": {
      "text/html": [
       "<div>\n",
       "<style scoped>\n",
       "    .dataframe tbody tr th:only-of-type {\n",
       "        vertical-align: middle;\n",
       "    }\n",
       "\n",
       "    .dataframe tbody tr th {\n",
       "        vertical-align: top;\n",
       "    }\n",
       "\n",
       "    .dataframe thead th {\n",
       "        text-align: right;\n",
       "    }\n",
       "</style>\n",
       "<table border=\"1\" class=\"dataframe\">\n",
       "  <thead>\n",
       "    <tr style=\"text-align: right;\">\n",
       "      <th></th>\n",
       "      <th>document_id</th>\n",
       "      <th>Topic Prediction</th>\n",
       "      <th>Count</th>\n",
       "    </tr>\n",
       "  </thead>\n",
       "  <tbody>\n",
       "    <tr>\n",
       "      <th>0</th>\n",
       "      <td>0009700110</td>\n",
       "      <td>0.0</td>\n",
       "      <td>29</td>\n",
       "    </tr>\n",
       "    <tr>\n",
       "      <th>1</th>\n",
       "      <td>0009700110</td>\n",
       "      <td>1.0</td>\n",
       "      <td>77</td>\n",
       "    </tr>\n",
       "    <tr>\n",
       "      <th>2</th>\n",
       "      <td>0009700110</td>\n",
       "      <td>2.0</td>\n",
       "      <td>95</td>\n",
       "    </tr>\n",
       "    <tr>\n",
       "      <th>3</th>\n",
       "      <td>0009700110</td>\n",
       "      <td>3.0</td>\n",
       "      <td>25</td>\n",
       "    </tr>\n",
       "    <tr>\n",
       "      <th>4</th>\n",
       "      <td>0009700110</td>\n",
       "      <td>4.0</td>\n",
       "      <td>9</td>\n",
       "    </tr>\n",
       "    <tr>\n",
       "      <th>...</th>\n",
       "      <td>...</td>\n",
       "      <td>...</td>\n",
       "      <td>...</td>\n",
       "    </tr>\n",
       "    <tr>\n",
       "      <th>164</th>\n",
       "      <td>1678300300</td>\n",
       "      <td>5.0</td>\n",
       "      <td>15</td>\n",
       "    </tr>\n",
       "    <tr>\n",
       "      <th>165</th>\n",
       "      <td>1678300300</td>\n",
       "      <td>6.0</td>\n",
       "      <td>2</td>\n",
       "    </tr>\n",
       "    <tr>\n",
       "      <th>166</th>\n",
       "      <td>1678300300</td>\n",
       "      <td>7.0</td>\n",
       "      <td>3</td>\n",
       "    </tr>\n",
       "    <tr>\n",
       "      <th>167</th>\n",
       "      <td>1678300300</td>\n",
       "      <td>8.0</td>\n",
       "      <td>2</td>\n",
       "    </tr>\n",
       "    <tr>\n",
       "      <th>168</th>\n",
       "      <td>1678300300</td>\n",
       "      <td>9.0</td>\n",
       "      <td>1</td>\n",
       "    </tr>\n",
       "  </tbody>\n",
       "</table>\n",
       "<p>169 rows × 3 columns</p>\n",
       "</div>"
      ],
      "text/plain": [
       "    document_id  Topic Prediction  Count\n",
       "0    0009700110               0.0     29\n",
       "1    0009700110               1.0     77\n",
       "2    0009700110               2.0     95\n",
       "3    0009700110               3.0     25\n",
       "4    0009700110               4.0      9\n",
       "..          ...               ...    ...\n",
       "164  1678300300               5.0     15\n",
       "165  1678300300               6.0      2\n",
       "166  1678300300               7.0      3\n",
       "167  1678300300               8.0      2\n",
       "168  1678300300               9.0      1\n",
       "\n",
       "[169 rows x 3 columns]"
      ]
     },
     "execution_count": 83,
     "metadata": {},
     "output_type": "execute_result"
    }
   ],
   "source": [
    "df_topic_count"
   ]
  },
  {
   "cell_type": "code",
   "execution_count": 84,
   "id": "eba7b5c0",
   "metadata": {},
   "outputs": [
    {
     "data": {
      "text/html": [
       "<div>\n",
       "<style scoped>\n",
       "    .dataframe tbody tr th:only-of-type {\n",
       "        vertical-align: middle;\n",
       "    }\n",
       "\n",
       "    .dataframe tbody tr th {\n",
       "        vertical-align: top;\n",
       "    }\n",
       "\n",
       "    .dataframe thead th {\n",
       "        text-align: right;\n",
       "    }\n",
       "</style>\n",
       "<table border=\"1\" class=\"dataframe\">\n",
       "  <thead>\n",
       "    <tr style=\"text-align: right;\">\n",
       "      <th></th>\n",
       "      <th>document_id</th>\n",
       "      <th>Total</th>\n",
       "    </tr>\n",
       "  </thead>\n",
       "  <tbody>\n",
       "    <tr>\n",
       "      <th>0</th>\n",
       "      <td>0009700110</td>\n",
       "      <td>335</td>\n",
       "    </tr>\n",
       "    <tr>\n",
       "      <th>1</th>\n",
       "      <td>0013600101</td>\n",
       "      <td>437</td>\n",
       "    </tr>\n",
       "    <tr>\n",
       "      <th>2</th>\n",
       "      <td>0081300106</td>\n",
       "      <td>528</td>\n",
       "    </tr>\n",
       "    <tr>\n",
       "      <th>3</th>\n",
       "      <td>0081300108</td>\n",
       "      <td>396</td>\n",
       "    </tr>\n",
       "    <tr>\n",
       "      <th>4</th>\n",
       "      <td>0089000603</td>\n",
       "      <td>173</td>\n",
       "    </tr>\n",
       "    <tr>\n",
       "      <th>5</th>\n",
       "      <td>0227200600</td>\n",
       "      <td>1659</td>\n",
       "    </tr>\n",
       "    <tr>\n",
       "      <th>6</th>\n",
       "      <td>0345601400</td>\n",
       "      <td>195</td>\n",
       "    </tr>\n",
       "    <tr>\n",
       "      <th>7</th>\n",
       "      <td>0370900702</td>\n",
       "      <td>692</td>\n",
       "    </tr>\n",
       "    <tr>\n",
       "      <th>8</th>\n",
       "      <td>0439700100</td>\n",
       "      <td>1049</td>\n",
       "    </tr>\n",
       "    <tr>\n",
       "      <th>9</th>\n",
       "      <td>0489400101</td>\n",
       "      <td>13316</td>\n",
       "    </tr>\n",
       "    <tr>\n",
       "      <th>10</th>\n",
       "      <td>0531700902</td>\n",
       "      <td>451</td>\n",
       "    </tr>\n",
       "    <tr>\n",
       "      <th>11</th>\n",
       "      <td>0660101902</td>\n",
       "      <td>406</td>\n",
       "    </tr>\n",
       "    <tr>\n",
       "      <th>12</th>\n",
       "      <td>0747100900</td>\n",
       "      <td>271</td>\n",
       "    </tr>\n",
       "    <tr>\n",
       "      <th>13</th>\n",
       "      <td>0747901100</td>\n",
       "      <td>136</td>\n",
       "    </tr>\n",
       "    <tr>\n",
       "      <th>14</th>\n",
       "      <td>0865100502</td>\n",
       "      <td>467</td>\n",
       "    </tr>\n",
       "    <tr>\n",
       "      <th>15</th>\n",
       "      <td>1332301200</td>\n",
       "      <td>217</td>\n",
       "    </tr>\n",
       "    <tr>\n",
       "      <th>16</th>\n",
       "      <td>1395501300</td>\n",
       "      <td>60</td>\n",
       "    </tr>\n",
       "    <tr>\n",
       "      <th>17</th>\n",
       "      <td>1604401400</td>\n",
       "      <td>556</td>\n",
       "    </tr>\n",
       "    <tr>\n",
       "      <th>18</th>\n",
       "      <td>1604700300</td>\n",
       "      <td>508</td>\n",
       "    </tr>\n",
       "    <tr>\n",
       "      <th>19</th>\n",
       "      <td>1678300300</td>\n",
       "      <td>31</td>\n",
       "    </tr>\n",
       "  </tbody>\n",
       "</table>\n",
       "</div>"
      ],
      "text/plain": [
       "   document_id  Total\n",
       "0   0009700110    335\n",
       "1   0013600101    437\n",
       "2   0081300106    528\n",
       "3   0081300108    396\n",
       "4   0089000603    173\n",
       "5   0227200600   1659\n",
       "6   0345601400    195\n",
       "7   0370900702    692\n",
       "8   0439700100   1049\n",
       "9   0489400101  13316\n",
       "10  0531700902    451\n",
       "11  0660101902    406\n",
       "12  0747100900    271\n",
       "13  0747901100    136\n",
       "14  0865100502    467\n",
       "15  1332301200    217\n",
       "16  1395501300     60\n",
       "17  1604401400    556\n",
       "18  1604700300    508\n",
       "19  1678300300     31"
      ]
     },
     "execution_count": 84,
     "metadata": {},
     "output_type": "execute_result"
    }
   ],
   "source": [
    "df_total_count = df_topic_count.groupby('document_id')['Count'].sum().reset_index(name='Total')\n",
    "df_total_count"
   ]
  },
  {
   "cell_type": "code",
   "execution_count": 85,
   "id": "fb42832e",
   "metadata": {
    "scrolled": false
   },
   "outputs": [
    {
     "data": {
      "text/html": [
       "<div>\n",
       "<style scoped>\n",
       "    .dataframe tbody tr th:only-of-type {\n",
       "        vertical-align: middle;\n",
       "    }\n",
       "\n",
       "    .dataframe tbody tr th {\n",
       "        vertical-align: top;\n",
       "    }\n",
       "\n",
       "    .dataframe thead th {\n",
       "        text-align: right;\n",
       "    }\n",
       "</style>\n",
       "<table border=\"1\" class=\"dataframe\">\n",
       "  <thead>\n",
       "    <tr style=\"text-align: right;\">\n",
       "      <th></th>\n",
       "      <th>document_id</th>\n",
       "      <th>Topic Prediction</th>\n",
       "      <th>Count</th>\n",
       "      <th>Total</th>\n",
       "      <th>Proportion</th>\n",
       "    </tr>\n",
       "  </thead>\n",
       "  <tbody>\n",
       "    <tr>\n",
       "      <th>0</th>\n",
       "      <td>0009700110</td>\n",
       "      <td>0.0</td>\n",
       "      <td>29</td>\n",
       "      <td>335</td>\n",
       "      <td>0.086567</td>\n",
       "    </tr>\n",
       "    <tr>\n",
       "      <th>1</th>\n",
       "      <td>0009700110</td>\n",
       "      <td>1.0</td>\n",
       "      <td>77</td>\n",
       "      <td>335</td>\n",
       "      <td>0.229851</td>\n",
       "    </tr>\n",
       "    <tr>\n",
       "      <th>2</th>\n",
       "      <td>0009700110</td>\n",
       "      <td>2.0</td>\n",
       "      <td>95</td>\n",
       "      <td>335</td>\n",
       "      <td>0.283582</td>\n",
       "    </tr>\n",
       "    <tr>\n",
       "      <th>3</th>\n",
       "      <td>0009700110</td>\n",
       "      <td>3.0</td>\n",
       "      <td>25</td>\n",
       "      <td>335</td>\n",
       "      <td>0.074627</td>\n",
       "    </tr>\n",
       "    <tr>\n",
       "      <th>4</th>\n",
       "      <td>0009700110</td>\n",
       "      <td>4.0</td>\n",
       "      <td>9</td>\n",
       "      <td>335</td>\n",
       "      <td>0.026866</td>\n",
       "    </tr>\n",
       "    <tr>\n",
       "      <th>...</th>\n",
       "      <td>...</td>\n",
       "      <td>...</td>\n",
       "      <td>...</td>\n",
       "      <td>...</td>\n",
       "      <td>...</td>\n",
       "    </tr>\n",
       "    <tr>\n",
       "      <th>164</th>\n",
       "      <td>1678300300</td>\n",
       "      <td>5.0</td>\n",
       "      <td>15</td>\n",
       "      <td>31</td>\n",
       "      <td>0.483871</td>\n",
       "    </tr>\n",
       "    <tr>\n",
       "      <th>165</th>\n",
       "      <td>1678300300</td>\n",
       "      <td>6.0</td>\n",
       "      <td>2</td>\n",
       "      <td>31</td>\n",
       "      <td>0.064516</td>\n",
       "    </tr>\n",
       "    <tr>\n",
       "      <th>166</th>\n",
       "      <td>1678300300</td>\n",
       "      <td>7.0</td>\n",
       "      <td>3</td>\n",
       "      <td>31</td>\n",
       "      <td>0.096774</td>\n",
       "    </tr>\n",
       "    <tr>\n",
       "      <th>167</th>\n",
       "      <td>1678300300</td>\n",
       "      <td>8.0</td>\n",
       "      <td>2</td>\n",
       "      <td>31</td>\n",
       "      <td>0.064516</td>\n",
       "    </tr>\n",
       "    <tr>\n",
       "      <th>168</th>\n",
       "      <td>1678300300</td>\n",
       "      <td>9.0</td>\n",
       "      <td>1</td>\n",
       "      <td>31</td>\n",
       "      <td>0.032258</td>\n",
       "    </tr>\n",
       "  </tbody>\n",
       "</table>\n",
       "<p>169 rows × 5 columns</p>\n",
       "</div>"
      ],
      "text/plain": [
       "    document_id  Topic Prediction  Count  Total  Proportion\n",
       "0    0009700110               0.0     29    335    0.086567\n",
       "1    0009700110               1.0     77    335    0.229851\n",
       "2    0009700110               2.0     95    335    0.283582\n",
       "3    0009700110               3.0     25    335    0.074627\n",
       "4    0009700110               4.0      9    335    0.026866\n",
       "..          ...               ...    ...    ...         ...\n",
       "164  1678300300               5.0     15     31    0.483871\n",
       "165  1678300300               6.0      2     31    0.064516\n",
       "166  1678300300               7.0      3     31    0.096774\n",
       "167  1678300300               8.0      2     31    0.064516\n",
       "168  1678300300               9.0      1     31    0.032258\n",
       "\n",
       "[169 rows x 5 columns]"
      ]
     },
     "execution_count": 85,
     "metadata": {},
     "output_type": "execute_result"
    }
   ],
   "source": [
    "df_merged = df_topic_count.merge(df_total_count, on='document_id')\n",
    "df_merged['Proportion'] = df_merged['Count'] / df_merged['Total']\n",
    "df_merged"
   ]
  },
  {
   "cell_type": "code",
   "execution_count": 86,
   "id": "aba5148f",
   "metadata": {
    "scrolled": true
   },
   "outputs": [
    {
     "data": {
      "text/plain": [
       "document_id          object\n",
       "Topic Prediction     object\n",
       "Count                 int64\n",
       "Total                 int64\n",
       "Proportion          float64\n",
       "dtype: object"
      ]
     },
     "execution_count": 86,
     "metadata": {},
     "output_type": "execute_result"
    }
   ],
   "source": [
    "df_merged[\"Topic Prediction\"] = df_merged[\"Topic Prediction\"].astype(str)\n",
    "df_merged[\"Topic Prediction\"] = df_merged[\"Topic Prediction\"].apply(lambda x: x.strip(\".\")[0])\n",
    "df_merged.dtypes"
   ]
  },
  {
   "cell_type": "code",
   "execution_count": 36,
   "id": "0da294b1",
   "metadata": {},
   "outputs": [
    {
     "data": {
      "text/html": [
       "<div>\n",
       "<style scoped>\n",
       "    .dataframe tbody tr th:only-of-type {\n",
       "        vertical-align: middle;\n",
       "    }\n",
       "\n",
       "    .dataframe tbody tr th {\n",
       "        vertical-align: top;\n",
       "    }\n",
       "\n",
       "    .dataframe thead th {\n",
       "        text-align: right;\n",
       "    }\n",
       "</style>\n",
       "<table border=\"1\" class=\"dataframe\">\n",
       "  <thead>\n",
       "    <tr style=\"text-align: right;\">\n",
       "      <th></th>\n",
       "      <th>document_id</th>\n",
       "      <th>Topic Prediction</th>\n",
       "      <th>Count</th>\n",
       "      <th>Total</th>\n",
       "      <th>Proportion</th>\n",
       "    </tr>\n",
       "  </thead>\n",
       "  <tbody>\n",
       "    <tr>\n",
       "      <th>0</th>\n",
       "      <td>0009700110</td>\n",
       "      <td>0</td>\n",
       "      <td>29</td>\n",
       "      <td>335</td>\n",
       "      <td>0.086567</td>\n",
       "    </tr>\n",
       "    <tr>\n",
       "      <th>1</th>\n",
       "      <td>0009700110</td>\n",
       "      <td>1</td>\n",
       "      <td>77</td>\n",
       "      <td>335</td>\n",
       "      <td>0.229851</td>\n",
       "    </tr>\n",
       "    <tr>\n",
       "      <th>2</th>\n",
       "      <td>0009700110</td>\n",
       "      <td>2</td>\n",
       "      <td>95</td>\n",
       "      <td>335</td>\n",
       "      <td>0.283582</td>\n",
       "    </tr>\n",
       "    <tr>\n",
       "      <th>3</th>\n",
       "      <td>0009700110</td>\n",
       "      <td>3</td>\n",
       "      <td>25</td>\n",
       "      <td>335</td>\n",
       "      <td>0.074627</td>\n",
       "    </tr>\n",
       "    <tr>\n",
       "      <th>4</th>\n",
       "      <td>0009700110</td>\n",
       "      <td>4</td>\n",
       "      <td>9</td>\n",
       "      <td>335</td>\n",
       "      <td>0.026866</td>\n",
       "    </tr>\n",
       "    <tr>\n",
       "      <th>...</th>\n",
       "      <td>...</td>\n",
       "      <td>...</td>\n",
       "      <td>...</td>\n",
       "      <td>...</td>\n",
       "      <td>...</td>\n",
       "    </tr>\n",
       "    <tr>\n",
       "      <th>164</th>\n",
       "      <td>1678300300</td>\n",
       "      <td>5</td>\n",
       "      <td>15</td>\n",
       "      <td>31</td>\n",
       "      <td>0.483871</td>\n",
       "    </tr>\n",
       "    <tr>\n",
       "      <th>165</th>\n",
       "      <td>1678300300</td>\n",
       "      <td>6</td>\n",
       "      <td>2</td>\n",
       "      <td>31</td>\n",
       "      <td>0.064516</td>\n",
       "    </tr>\n",
       "    <tr>\n",
       "      <th>166</th>\n",
       "      <td>1678300300</td>\n",
       "      <td>7</td>\n",
       "      <td>3</td>\n",
       "      <td>31</td>\n",
       "      <td>0.096774</td>\n",
       "    </tr>\n",
       "    <tr>\n",
       "      <th>167</th>\n",
       "      <td>1678300300</td>\n",
       "      <td>8</td>\n",
       "      <td>2</td>\n",
       "      <td>31</td>\n",
       "      <td>0.064516</td>\n",
       "    </tr>\n",
       "    <tr>\n",
       "      <th>168</th>\n",
       "      <td>1678300300</td>\n",
       "      <td>9</td>\n",
       "      <td>1</td>\n",
       "      <td>31</td>\n",
       "      <td>0.032258</td>\n",
       "    </tr>\n",
       "  </tbody>\n",
       "</table>\n",
       "<p>169 rows × 5 columns</p>\n",
       "</div>"
      ],
      "text/plain": [
       "    document_id Topic Prediction  Count  Total  Proportion\n",
       "0    0009700110                0     29    335    0.086567\n",
       "1    0009700110                1     77    335    0.229851\n",
       "2    0009700110                2     95    335    0.283582\n",
       "3    0009700110                3     25    335    0.074627\n",
       "4    0009700110                4      9    335    0.026866\n",
       "..          ...              ...    ...    ...         ...\n",
       "164  1678300300                5     15     31    0.483871\n",
       "165  1678300300                6      2     31    0.064516\n",
       "166  1678300300                7      3     31    0.096774\n",
       "167  1678300300                8      2     31    0.064516\n",
       "168  1678300300                9      1     31    0.032258\n",
       "\n",
       "[169 rows x 5 columns]"
      ]
     },
     "execution_count": 36,
     "metadata": {},
     "output_type": "execute_result"
    }
   ],
   "source": [
    "df_merged"
   ]
  },
  {
   "cell_type": "code",
   "execution_count": 38,
   "id": "aa33572c",
   "metadata": {},
   "outputs": [
    {
     "data": {
      "text/html": [
       "<div>\n",
       "<style scoped>\n",
       "    .dataframe tbody tr th:only-of-type {\n",
       "        vertical-align: middle;\n",
       "    }\n",
       "\n",
       "    .dataframe tbody tr th {\n",
       "        vertical-align: top;\n",
       "    }\n",
       "\n",
       "    .dataframe thead th {\n",
       "        text-align: right;\n",
       "    }\n",
       "</style>\n",
       "<table border=\"1\" class=\"dataframe\">\n",
       "  <thead>\n",
       "    <tr style=\"text-align: right;\">\n",
       "      <th></th>\n",
       "      <th>document_id</th>\n",
       "      <th>Topic Prediction</th>\n",
       "      <th>Count</th>\n",
       "      <th>Total</th>\n",
       "      <th>Proportion</th>\n",
       "    </tr>\n",
       "  </thead>\n",
       "  <tbody>\n",
       "    <tr>\n",
       "      <th>0</th>\n",
       "      <td>0009700110</td>\n",
       "      <td>0</td>\n",
       "      <td>29</td>\n",
       "      <td>335</td>\n",
       "      <td>0.086567</td>\n",
       "    </tr>\n",
       "    <tr>\n",
       "      <th>1</th>\n",
       "      <td>0009700110</td>\n",
       "      <td>1</td>\n",
       "      <td>77</td>\n",
       "      <td>335</td>\n",
       "      <td>0.229851</td>\n",
       "    </tr>\n",
       "    <tr>\n",
       "      <th>2</th>\n",
       "      <td>0009700110</td>\n",
       "      <td>2</td>\n",
       "      <td>95</td>\n",
       "      <td>335</td>\n",
       "      <td>0.283582</td>\n",
       "    </tr>\n",
       "    <tr>\n",
       "      <th>3</th>\n",
       "      <td>0009700110</td>\n",
       "      <td>3</td>\n",
       "      <td>25</td>\n",
       "      <td>335</td>\n",
       "      <td>0.074627</td>\n",
       "    </tr>\n",
       "    <tr>\n",
       "      <th>4</th>\n",
       "      <td>0009700110</td>\n",
       "      <td>4</td>\n",
       "      <td>9</td>\n",
       "      <td>335</td>\n",
       "      <td>0.026866</td>\n",
       "    </tr>\n",
       "    <tr>\n",
       "      <th>...</th>\n",
       "      <td>...</td>\n",
       "      <td>...</td>\n",
       "      <td>...</td>\n",
       "      <td>...</td>\n",
       "      <td>...</td>\n",
       "    </tr>\n",
       "    <tr>\n",
       "      <th>164</th>\n",
       "      <td>1678300300</td>\n",
       "      <td>5</td>\n",
       "      <td>15</td>\n",
       "      <td>31</td>\n",
       "      <td>0.483871</td>\n",
       "    </tr>\n",
       "    <tr>\n",
       "      <th>165</th>\n",
       "      <td>1678300300</td>\n",
       "      <td>6</td>\n",
       "      <td>2</td>\n",
       "      <td>31</td>\n",
       "      <td>0.064516</td>\n",
       "    </tr>\n",
       "    <tr>\n",
       "      <th>166</th>\n",
       "      <td>1678300300</td>\n",
       "      <td>7</td>\n",
       "      <td>3</td>\n",
       "      <td>31</td>\n",
       "      <td>0.096774</td>\n",
       "    </tr>\n",
       "    <tr>\n",
       "      <th>167</th>\n",
       "      <td>1678300300</td>\n",
       "      <td>8</td>\n",
       "      <td>2</td>\n",
       "      <td>31</td>\n",
       "      <td>0.064516</td>\n",
       "    </tr>\n",
       "    <tr>\n",
       "      <th>168</th>\n",
       "      <td>1678300300</td>\n",
       "      <td>9</td>\n",
       "      <td>1</td>\n",
       "      <td>31</td>\n",
       "      <td>0.032258</td>\n",
       "    </tr>\n",
       "  </tbody>\n",
       "</table>\n",
       "<p>169 rows × 5 columns</p>\n",
       "</div>"
      ],
      "text/plain": [
       "    document_id Topic Prediction  Count  Total  Proportion\n",
       "0    0009700110                0     29    335    0.086567\n",
       "1    0009700110                1     77    335    0.229851\n",
       "2    0009700110                2     95    335    0.283582\n",
       "3    0009700110                3     25    335    0.074627\n",
       "4    0009700110                4      9    335    0.026866\n",
       "..          ...              ...    ...    ...         ...\n",
       "164  1678300300                5     15     31    0.483871\n",
       "165  1678300300                6      2     31    0.064516\n",
       "166  1678300300                7      3     31    0.096774\n",
       "167  1678300300                8      2     31    0.064516\n",
       "168  1678300300                9      1     31    0.032258\n",
       "\n",
       "[169 rows x 5 columns]"
      ]
     },
     "execution_count": 38,
     "metadata": {},
     "output_type": "execute_result"
    }
   ],
   "source": [
    "df_merged = df_merged.sort_values(by=['document_id', 'Topic Prediction'])\n",
    "df_merged"
   ]
  },
  {
   "cell_type": "code",
   "execution_count": 87,
   "id": "05956fc8",
   "metadata": {},
   "outputs": [
    {
     "data": {
      "text/html": [
       "<div>\n",
       "<style scoped>\n",
       "    .dataframe tbody tr th:only-of-type {\n",
       "        vertical-align: middle;\n",
       "    }\n",
       "\n",
       "    .dataframe tbody tr th {\n",
       "        vertical-align: top;\n",
       "    }\n",
       "\n",
       "    .dataframe thead th {\n",
       "        text-align: right;\n",
       "    }\n",
       "</style>\n",
       "<table border=\"1\" class=\"dataframe\">\n",
       "  <thead>\n",
       "    <tr style=\"text-align: right;\">\n",
       "      <th></th>\n",
       "      <th>document_id</th>\n",
       "      <th>Topic Prediction</th>\n",
       "      <th>Count</th>\n",
       "      <th>Total</th>\n",
       "      <th>Proportion</th>\n",
       "      <th>Document Topic Prediction</th>\n",
       "    </tr>\n",
       "  </thead>\n",
       "  <tbody>\n",
       "    <tr>\n",
       "      <th>0</th>\n",
       "      <td>0009700110</td>\n",
       "      <td>0</td>\n",
       "      <td>29</td>\n",
       "      <td>335</td>\n",
       "      <td>0.086567</td>\n",
       "      <td>2</td>\n",
       "    </tr>\n",
       "    <tr>\n",
       "      <th>1</th>\n",
       "      <td>0009700110</td>\n",
       "      <td>1</td>\n",
       "      <td>77</td>\n",
       "      <td>335</td>\n",
       "      <td>0.229851</td>\n",
       "      <td>2</td>\n",
       "    </tr>\n",
       "    <tr>\n",
       "      <th>2</th>\n",
       "      <td>0009700110</td>\n",
       "      <td>2</td>\n",
       "      <td>95</td>\n",
       "      <td>335</td>\n",
       "      <td>0.283582</td>\n",
       "      <td>2</td>\n",
       "    </tr>\n",
       "    <tr>\n",
       "      <th>3</th>\n",
       "      <td>0009700110</td>\n",
       "      <td>3</td>\n",
       "      <td>25</td>\n",
       "      <td>335</td>\n",
       "      <td>0.074627</td>\n",
       "      <td>2</td>\n",
       "    </tr>\n",
       "    <tr>\n",
       "      <th>4</th>\n",
       "      <td>0009700110</td>\n",
       "      <td>4</td>\n",
       "      <td>9</td>\n",
       "      <td>335</td>\n",
       "      <td>0.026866</td>\n",
       "      <td>2</td>\n",
       "    </tr>\n",
       "    <tr>\n",
       "      <th>...</th>\n",
       "      <td>...</td>\n",
       "      <td>...</td>\n",
       "      <td>...</td>\n",
       "      <td>...</td>\n",
       "      <td>...</td>\n",
       "      <td>...</td>\n",
       "    </tr>\n",
       "    <tr>\n",
       "      <th>164</th>\n",
       "      <td>1678300300</td>\n",
       "      <td>5</td>\n",
       "      <td>15</td>\n",
       "      <td>31</td>\n",
       "      <td>0.483871</td>\n",
       "      <td>5</td>\n",
       "    </tr>\n",
       "    <tr>\n",
       "      <th>165</th>\n",
       "      <td>1678300300</td>\n",
       "      <td>6</td>\n",
       "      <td>2</td>\n",
       "      <td>31</td>\n",
       "      <td>0.064516</td>\n",
       "      <td>5</td>\n",
       "    </tr>\n",
       "    <tr>\n",
       "      <th>166</th>\n",
       "      <td>1678300300</td>\n",
       "      <td>7</td>\n",
       "      <td>3</td>\n",
       "      <td>31</td>\n",
       "      <td>0.096774</td>\n",
       "      <td>5</td>\n",
       "    </tr>\n",
       "    <tr>\n",
       "      <th>167</th>\n",
       "      <td>1678300300</td>\n",
       "      <td>8</td>\n",
       "      <td>2</td>\n",
       "      <td>31</td>\n",
       "      <td>0.064516</td>\n",
       "      <td>5</td>\n",
       "    </tr>\n",
       "    <tr>\n",
       "      <th>168</th>\n",
       "      <td>1678300300</td>\n",
       "      <td>9</td>\n",
       "      <td>1</td>\n",
       "      <td>31</td>\n",
       "      <td>0.032258</td>\n",
       "      <td>5</td>\n",
       "    </tr>\n",
       "  </tbody>\n",
       "</table>\n",
       "<p>169 rows × 6 columns</p>\n",
       "</div>"
      ],
      "text/plain": [
       "    document_id Topic Prediction  Count  Total  Proportion  \\\n",
       "0    0009700110                0     29    335    0.086567   \n",
       "1    0009700110                1     77    335    0.229851   \n",
       "2    0009700110                2     95    335    0.283582   \n",
       "3    0009700110                3     25    335    0.074627   \n",
       "4    0009700110                4      9    335    0.026866   \n",
       "..          ...              ...    ...    ...         ...   \n",
       "164  1678300300                5     15     31    0.483871   \n",
       "165  1678300300                6      2     31    0.064516   \n",
       "166  1678300300                7      3     31    0.096774   \n",
       "167  1678300300                8      2     31    0.064516   \n",
       "168  1678300300                9      1     31    0.032258   \n",
       "\n",
       "     Document Topic Prediction  \n",
       "0                            2  \n",
       "1                            2  \n",
       "2                            2  \n",
       "3                            2  \n",
       "4                            2  \n",
       "..                         ...  \n",
       "164                          5  \n",
       "165                          5  \n",
       "166                          5  \n",
       "167                          5  \n",
       "168                          5  \n",
       "\n",
       "[169 rows x 6 columns]"
      ]
     },
     "execution_count": 87,
     "metadata": {},
     "output_type": "execute_result"
    }
   ],
   "source": [
    "df_merged = df_merged.merge(mean_prob_df[['document_id', 'Document Topic Prediction']], on='document_id', how='left')\n",
    "df_merged"
   ]
  },
  {
   "cell_type": "code",
   "execution_count": 88,
   "id": "661a82db",
   "metadata": {},
   "outputs": [],
   "source": [
    "df_merged['Document_and_Prediction'] = df_merged['document_id'].astype(str) + ' - Prediction: ' + df_merged['Document Topic Prediction'].astype(str)"
   ]
  },
  {
   "cell_type": "code",
   "execution_count": 40,
   "id": "896b3228",
   "metadata": {},
   "outputs": [
    {
     "data": {
      "text/plain": [
       "['0', '1', '2', '3', '4', '5', '6', '7', '8', '9']"
      ]
     },
     "execution_count": 40,
     "metadata": {},
     "output_type": "execute_result"
    }
   ],
   "source": [
    "topic_order = sorted(df_merged['Topic Prediction'].unique())"
   ]
  },
  {
   "cell_type": "code",
   "execution_count": 97,
   "id": "19dd83f7",
   "metadata": {},
   "outputs": [
    {
     "data": {
      "application/vnd.plotly.v1+json": {
       "config": {
        "plotlyServerURL": "https://plot.ly"
       },
       "data": [
        {
         "alignmentgroup": "True",
         "hovertemplate": "Topic Prediction=%{text}<br>document_id=%{x}<br>Proportion=%{y}<extra></extra>",
         "legendgroup": "0",
         "marker": {
          "color": "#636efa",
          "pattern": {
           "shape": ""
          }
         },
         "name": "0",
         "offsetgroup": "0",
         "orientation": "v",
         "showlegend": true,
         "text": [
          "0",
          "0",
          "0",
          "0",
          "0",
          "0",
          "0",
          "0",
          "0",
          "0",
          "0",
          "0",
          "0",
          "0",
          "0",
          "0",
          "0",
          "0"
         ],
         "textposition": "inside",
         "type": "bar",
         "x": [
          "0009700110",
          "0013600101",
          "0081300106",
          "0081300108",
          "0089000603",
          "0345601400",
          "0370900702",
          "0439700100",
          "0489400101",
          "0531700902",
          "0660101902",
          "0747100900",
          "0747901100",
          "0865100502",
          "1332301200",
          "1395501300",
          "1604401400",
          "1604700300"
         ],
         "xaxis": "x",
         "y": [
          0.08656716417910448,
          0.11441647597254005,
          0.045454545454545456,
          0.045454545454545456,
          0.017341040462427744,
          0.08205128205128205,
          0.11127167630057803,
          0.047664442326024785,
          0.060678882547311505,
          0.057649667405764965,
          0.06157635467980296,
          0.04059040590405904,
          0.022058823529411766,
          0.03854389721627409,
          0.013824884792626729,
          0.016666666666666666,
          0.00539568345323741,
          0.07874015748031496
         ],
         "yaxis": "y"
        },
        {
         "alignmentgroup": "True",
         "hovertemplate": "Topic Prediction=%{text}<br>document_id=%{x}<br>Proportion=%{y}<extra></extra>",
         "legendgroup": "1",
         "marker": {
          "color": "#EF553B",
          "pattern": {
           "shape": ""
          }
         },
         "name": "1",
         "offsetgroup": "1",
         "orientation": "v",
         "showlegend": true,
         "text": [
          "1",
          "1",
          "1",
          "1",
          "1",
          "1",
          "1",
          "1",
          "1",
          "1",
          "1",
          "1",
          "1",
          "1",
          "1",
          "1",
          "1",
          "1",
          "1",
          "1"
         ],
         "textposition": "inside",
         "type": "bar",
         "x": [
          "0009700110",
          "0013600101",
          "0081300106",
          "0081300108",
          "0089000603",
          "0227200600",
          "0345601400",
          "0370900702",
          "0439700100",
          "0489400101",
          "0531700902",
          "0660101902",
          "0747100900",
          "0747901100",
          "0865100502",
          "1332301200",
          "1395501300",
          "1604401400",
          "1604700300",
          "1678300300"
         ],
         "xaxis": "x",
         "y": [
          0.2298507462686567,
          0.30434782608695654,
          0.4166666666666667,
          0.41919191919191917,
          0.32947976878612717,
          0.6003616636528029,
          0.3282051282051282,
          0.2832369942196532,
          0.24880838894184937,
          0.2590117152297987,
          0.37250554323725055,
          0.458128078817734,
          0.3025830258302583,
          0.33088235294117646,
          0.5010706638115632,
          0.29493087557603687,
          0.31666666666666665,
          0.13489208633093525,
          0.11220472440944881,
          0.1935483870967742
         ],
         "yaxis": "y"
        },
        {
         "alignmentgroup": "True",
         "hovertemplate": "Topic Prediction=%{text}<br>document_id=%{x}<br>Proportion=%{y}<extra></extra>",
         "legendgroup": "2",
         "marker": {
          "color": "#00cc96",
          "pattern": {
           "shape": ""
          }
         },
         "name": "2",
         "offsetgroup": "2",
         "orientation": "v",
         "showlegend": true,
         "text": [
          "2",
          "2",
          "2",
          "2",
          "2",
          "2",
          "2",
          "2",
          "2",
          "2",
          "2",
          "2",
          "2",
          "2",
          "2",
          "2",
          "2"
         ],
         "textposition": "inside",
         "type": "bar",
         "x": [
          "0009700110",
          "0013600101",
          "0081300106",
          "0081300108",
          "0345601400",
          "0370900702",
          "0439700100",
          "0489400101",
          "0531700902",
          "0660101902",
          "0747100900",
          "0747901100",
          "0865100502",
          "1332301200",
          "1395501300",
          "1604401400",
          "1604700300"
         ],
         "xaxis": "x",
         "y": [
          0.2835820895522388,
          0.20137299771167047,
          0.10416666666666667,
          0.05303030303030303,
          0.03076923076923077,
          0.23265895953757226,
          0.18207816968541468,
          0.020276359267047163,
          0.25277161862527714,
          0.12315270935960591,
          0.007380073800738007,
          0.029411764705882353,
          0.1948608137044968,
          0.013824884792626729,
          0.05,
          0.0035971223021582736,
          0.02952755905511811
         ],
         "yaxis": "y"
        },
        {
         "alignmentgroup": "True",
         "hovertemplate": "Topic Prediction=%{text}<br>document_id=%{x}<br>Proportion=%{y}<extra></extra>",
         "legendgroup": "3",
         "marker": {
          "color": "#ab63fa",
          "pattern": {
           "shape": ""
          }
         },
         "name": "3",
         "offsetgroup": "3",
         "orientation": "v",
         "showlegend": true,
         "text": [
          "3",
          "3",
          "3",
          "3",
          "3",
          "3",
          "3",
          "3",
          "3",
          "3",
          "3",
          "3",
          "3",
          "3",
          "3",
          "3"
         ],
         "textposition": "inside",
         "type": "bar",
         "x": [
          "0009700110",
          "0013600101",
          "0081300106",
          "0081300108",
          "0089000603",
          "0345601400",
          "0370900702",
          "0439700100",
          "0489400101",
          "0660101902",
          "0747100900",
          "0747901100",
          "0865100502",
          "1332301200",
          "1395501300",
          "1604401400"
         ],
         "xaxis": "x",
         "y": [
          0.07462686567164178,
          0.02517162471395881,
          0.08143939393939394,
          0.17424242424242425,
          0.44508670520231214,
          0.3282051282051282,
          0.01300578034682081,
          0.0438512869399428,
          0.00015019525382997898,
          0.0665024630541872,
          0.4059040590405904,
          0.3382352941176471,
          0.010706638115631691,
          0.24423963133640553,
          0.3333333333333333,
          0.04316546762589928
         ],
         "yaxis": "y"
        },
        {
         "alignmentgroup": "True",
         "hovertemplate": "Topic Prediction=%{text}<br>document_id=%{x}<br>Proportion=%{y}<extra></extra>",
         "legendgroup": "4",
         "marker": {
          "color": "#FFA15A",
          "pattern": {
           "shape": ""
          }
         },
         "name": "4",
         "offsetgroup": "4",
         "orientation": "v",
         "showlegend": true,
         "text": [
          "4",
          "4",
          "4",
          "4",
          "4",
          "4",
          "4",
          "4",
          "4",
          "4",
          "4",
          "4",
          "4",
          "4"
         ],
         "textposition": "inside",
         "type": "bar",
         "x": [
          "0009700110",
          "0013600101",
          "0081300106",
          "0345601400",
          "0370900702",
          "0439700100",
          "0489400101",
          "0531700902",
          "0660101902",
          "0747901100",
          "1332301200",
          "1604401400",
          "1604700300",
          "1678300300"
         ],
         "xaxis": "x",
         "y": [
          0.026865671641791045,
          0.029748283752860413,
          0.017045454545454544,
          0.010256410256410256,
          0.005780346820809248,
          0.025738798856053385,
          0.06818864523881045,
          0.05321507760532151,
          0.017241379310344827,
          0.007352941176470588,
          0.004608294930875576,
          0.0017985611510791368,
          0.484251968503937,
          0.06451612903225806
         ],
         "yaxis": "y"
        },
        {
         "alignmentgroup": "True",
         "hovertemplate": "Topic Prediction=%{text}<br>document_id=%{x}<br>Proportion=%{y}<extra></extra>",
         "legendgroup": "5",
         "marker": {
          "color": "#19d3f3",
          "pattern": {
           "shape": ""
          }
         },
         "name": "5",
         "offsetgroup": "5",
         "orientation": "v",
         "showlegend": true,
         "text": [
          "5",
          "5",
          "5",
          "5",
          "5",
          "5",
          "5",
          "5",
          "5",
          "5",
          "5",
          "5",
          "5",
          "5",
          "5",
          "5",
          "5",
          "5",
          "5"
         ],
         "textposition": "inside",
         "type": "bar",
         "x": [
          "0009700110",
          "0013600101",
          "0081300106",
          "0081300108",
          "0089000603",
          "0345601400",
          "0370900702",
          "0439700100",
          "0489400101",
          "0531700902",
          "0660101902",
          "0747100900",
          "0747901100",
          "0865100502",
          "1332301200",
          "1395501300",
          "1604401400",
          "1604700300",
          "1678300300"
         ],
         "xaxis": "x",
         "y": [
          0.14626865671641792,
          0.029748283752860413,
          0.07007575757575757,
          0.11616161616161616,
          0.10982658959537572,
          0.1282051282051282,
          0.10982658959537572,
          0.08293612964728313,
          0.0045058576148993695,
          0.0022172949002217295,
          0.03694581280788178,
          0.09225092250922509,
          0.11764705882352941,
          0.006423982869379015,
          0.25806451612903225,
          0.18333333333333332,
          0.7643884892086331,
          0.05708661417322835,
          0.4838709677419355
         ],
         "yaxis": "y"
        },
        {
         "alignmentgroup": "True",
         "hovertemplate": "Topic Prediction=%{text}<br>document_id=%{x}<br>Proportion=%{y}<extra></extra>",
         "legendgroup": "6",
         "marker": {
          "color": "#FF6692",
          "pattern": {
           "shape": ""
          }
         },
         "name": "6",
         "offsetgroup": "6",
         "orientation": "v",
         "showlegend": true,
         "text": [
          "6",
          "6",
          "6",
          "6",
          "6",
          "6",
          "6",
          "6",
          "6",
          "6",
          "6",
          "6",
          "6",
          "6",
          "6"
         ],
         "textposition": "inside",
         "type": "bar",
         "x": [
          "0013600101",
          "0081300106",
          "0081300108",
          "0345601400",
          "0370900702",
          "0439700100",
          "0489400101",
          "0531700902",
          "0660101902",
          "0747100900",
          "0865100502",
          "1332301200",
          "1604401400",
          "1604700300",
          "1678300300"
         ],
         "xaxis": "x",
         "y": [
          0.002288329519450801,
          0.011363636363636364,
          0.015151515151515152,
          0.010256410256410256,
          0.008670520231213872,
          0.03908484270734033,
          0.007810153199158907,
          0.04212860310421286,
          0.0024630541871921183,
          0.007380073800738007,
          0.01284796573875803,
          0.009216589861751152,
          0.0017985611510791368,
          0.007874015748031496,
          0.06451612903225806
         ],
         "yaxis": "y"
        },
        {
         "alignmentgroup": "True",
         "hovertemplate": "Topic Prediction=%{text}<br>document_id=%{x}<br>Proportion=%{y}<extra></extra>",
         "legendgroup": "7",
         "marker": {
          "color": "#B6E880",
          "pattern": {
           "shape": ""
          }
         },
         "name": "7",
         "offsetgroup": "7",
         "orientation": "v",
         "showlegend": true,
         "text": [
          "7",
          "7",
          "7",
          "7",
          "7",
          "7",
          "7",
          "7",
          "7",
          "7",
          "7",
          "7",
          "7",
          "7",
          "7",
          "7",
          "7",
          "7",
          "7",
          "7"
         ],
         "textposition": "inside",
         "type": "bar",
         "x": [
          "0009700110",
          "0013600101",
          "0081300106",
          "0081300108",
          "0089000603",
          "0227200600",
          "0345601400",
          "0370900702",
          "0439700100",
          "0489400101",
          "0531700902",
          "0660101902",
          "0747100900",
          "0747901100",
          "0865100502",
          "1332301200",
          "1395501300",
          "1604401400",
          "1604700300",
          "1678300300"
         ],
         "xaxis": "x",
         "y": [
          0.11641791044776119,
          0.19221967963386727,
          0.16856060606060605,
          0.08838383838383838,
          0.06936416184971098,
          0.3990355635925256,
          0.05641025641025641,
          0.14595375722543352,
          0.13536701620591038,
          0.08170621808350856,
          0.1729490022172949,
          0.2044334975369458,
          0.14391143911439114,
          0.051470588235294115,
          0.20342612419700215,
          0.07373271889400922,
          0.016666666666666666,
          0.030575539568345324,
          0.12598425196850394,
          0.0967741935483871
         ],
         "yaxis": "y"
        },
        {
         "alignmentgroup": "True",
         "hovertemplate": "Topic Prediction=%{text}<br>document_id=%{x}<br>Proportion=%{y}<extra></extra>",
         "legendgroup": "8",
         "marker": {
          "color": "#FF97FF",
          "pattern": {
           "shape": ""
          }
         },
         "name": "8",
         "offsetgroup": "8",
         "orientation": "v",
         "showlegend": true,
         "text": [
          "8",
          "8",
          "8",
          "8",
          "8",
          "8",
          "8",
          "8",
          "8",
          "8",
          "8"
         ],
         "textposition": "inside",
         "type": "bar",
         "x": [
          "0009700110",
          "0081300106",
          "0081300108",
          "0370900702",
          "0439700100",
          "0489400101",
          "0531700902",
          "0865100502",
          "1332301200",
          "1604700300",
          "1678300300"
         ],
         "xaxis": "x",
         "y": [
          0.008955223880597015,
          0.013257575757575758,
          0.017676767676767676,
          0.02745664739884393,
          0.09151572926596759,
          0.011114448783418444,
          0.011086474501108648,
          0.0021413276231263384,
          0.013824884792626729,
          0.09251968503937008,
          0.06451612903225806
         ],
         "yaxis": "y"
        },
        {
         "alignmentgroup": "True",
         "hovertemplate": "Topic Prediction=%{text}<br>document_id=%{x}<br>Proportion=%{y}<extra></extra>",
         "legendgroup": "9",
         "marker": {
          "color": "#FECB52",
          "pattern": {
           "shape": ""
          }
         },
         "name": "9",
         "offsetgroup": "9",
         "orientation": "v",
         "showlegend": true,
         "text": [
          "9",
          "9",
          "9",
          "9",
          "9",
          "9",
          "9",
          "9",
          "9",
          "9",
          "9",
          "9",
          "9",
          "9",
          "9",
          "9",
          "9",
          "9",
          "9"
         ],
         "textposition": "inside",
         "type": "bar",
         "x": [
          "0009700110",
          "0013600101",
          "0081300106",
          "0081300108",
          "0089000603",
          "0227200600",
          "0345601400",
          "0370900702",
          "0439700100",
          "0489400101",
          "0531700902",
          "0660101902",
          "0747901100",
          "0865100502",
          "1332301200",
          "1395501300",
          "1604401400",
          "1604700300",
          "1678300300"
         ],
         "xaxis": "x",
         "y": [
          0.026865671641791045,
          0.10068649885583524,
          0.07196969696969698,
          0.0707070707070707,
          0.028901734104046242,
          0.0006027727546714888,
          0.02564102564102564,
          0.06213872832369942,
          0.10295519542421354,
          0.48655752478221687,
          0.03547671840354767,
          0.029556650246305417,
          0.10294117647058823,
          0.029978586723768737,
          0.07373271889400922,
          0.08333333333333333,
          0.014388489208633094,
          0.011811023622047244,
          0.03225806451612903
         ],
         "yaxis": "y"
        }
       ],
       "layout": {
        "barmode": "relative",
        "height": 600,
        "legend": {
         "title": {
          "text": "Topic Prediction"
         },
         "tracegroupgap": 0
        },
        "showlegend": false,
        "template": {
         "data": {
          "bar": [
           {
            "error_x": {
             "color": "#2a3f5f"
            },
            "error_y": {
             "color": "#2a3f5f"
            },
            "marker": {
             "line": {
              "color": "#E5ECF6",
              "width": 0.5
             },
             "pattern": {
              "fillmode": "overlay",
              "size": 10,
              "solidity": 0.2
             }
            },
            "type": "bar"
           }
          ],
          "barpolar": [
           {
            "marker": {
             "line": {
              "color": "#E5ECF6",
              "width": 0.5
             },
             "pattern": {
              "fillmode": "overlay",
              "size": 10,
              "solidity": 0.2
             }
            },
            "type": "barpolar"
           }
          ],
          "carpet": [
           {
            "aaxis": {
             "endlinecolor": "#2a3f5f",
             "gridcolor": "white",
             "linecolor": "white",
             "minorgridcolor": "white",
             "startlinecolor": "#2a3f5f"
            },
            "baxis": {
             "endlinecolor": "#2a3f5f",
             "gridcolor": "white",
             "linecolor": "white",
             "minorgridcolor": "white",
             "startlinecolor": "#2a3f5f"
            },
            "type": "carpet"
           }
          ],
          "choropleth": [
           {
            "colorbar": {
             "outlinewidth": 0,
             "ticks": ""
            },
            "type": "choropleth"
           }
          ],
          "contour": [
           {
            "colorbar": {
             "outlinewidth": 0,
             "ticks": ""
            },
            "colorscale": [
             [
              0,
              "#0d0887"
             ],
             [
              0.1111111111111111,
              "#46039f"
             ],
             [
              0.2222222222222222,
              "#7201a8"
             ],
             [
              0.3333333333333333,
              "#9c179e"
             ],
             [
              0.4444444444444444,
              "#bd3786"
             ],
             [
              0.5555555555555556,
              "#d8576b"
             ],
             [
              0.6666666666666666,
              "#ed7953"
             ],
             [
              0.7777777777777778,
              "#fb9f3a"
             ],
             [
              0.8888888888888888,
              "#fdca26"
             ],
             [
              1,
              "#f0f921"
             ]
            ],
            "type": "contour"
           }
          ],
          "contourcarpet": [
           {
            "colorbar": {
             "outlinewidth": 0,
             "ticks": ""
            },
            "type": "contourcarpet"
           }
          ],
          "heatmap": [
           {
            "colorbar": {
             "outlinewidth": 0,
             "ticks": ""
            },
            "colorscale": [
             [
              0,
              "#0d0887"
             ],
             [
              0.1111111111111111,
              "#46039f"
             ],
             [
              0.2222222222222222,
              "#7201a8"
             ],
             [
              0.3333333333333333,
              "#9c179e"
             ],
             [
              0.4444444444444444,
              "#bd3786"
             ],
             [
              0.5555555555555556,
              "#d8576b"
             ],
             [
              0.6666666666666666,
              "#ed7953"
             ],
             [
              0.7777777777777778,
              "#fb9f3a"
             ],
             [
              0.8888888888888888,
              "#fdca26"
             ],
             [
              1,
              "#f0f921"
             ]
            ],
            "type": "heatmap"
           }
          ],
          "heatmapgl": [
           {
            "colorbar": {
             "outlinewidth": 0,
             "ticks": ""
            },
            "colorscale": [
             [
              0,
              "#0d0887"
             ],
             [
              0.1111111111111111,
              "#46039f"
             ],
             [
              0.2222222222222222,
              "#7201a8"
             ],
             [
              0.3333333333333333,
              "#9c179e"
             ],
             [
              0.4444444444444444,
              "#bd3786"
             ],
             [
              0.5555555555555556,
              "#d8576b"
             ],
             [
              0.6666666666666666,
              "#ed7953"
             ],
             [
              0.7777777777777778,
              "#fb9f3a"
             ],
             [
              0.8888888888888888,
              "#fdca26"
             ],
             [
              1,
              "#f0f921"
             ]
            ],
            "type": "heatmapgl"
           }
          ],
          "histogram": [
           {
            "marker": {
             "pattern": {
              "fillmode": "overlay",
              "size": 10,
              "solidity": 0.2
             }
            },
            "type": "histogram"
           }
          ],
          "histogram2d": [
           {
            "colorbar": {
             "outlinewidth": 0,
             "ticks": ""
            },
            "colorscale": [
             [
              0,
              "#0d0887"
             ],
             [
              0.1111111111111111,
              "#46039f"
             ],
             [
              0.2222222222222222,
              "#7201a8"
             ],
             [
              0.3333333333333333,
              "#9c179e"
             ],
             [
              0.4444444444444444,
              "#bd3786"
             ],
             [
              0.5555555555555556,
              "#d8576b"
             ],
             [
              0.6666666666666666,
              "#ed7953"
             ],
             [
              0.7777777777777778,
              "#fb9f3a"
             ],
             [
              0.8888888888888888,
              "#fdca26"
             ],
             [
              1,
              "#f0f921"
             ]
            ],
            "type": "histogram2d"
           }
          ],
          "histogram2dcontour": [
           {
            "colorbar": {
             "outlinewidth": 0,
             "ticks": ""
            },
            "colorscale": [
             [
              0,
              "#0d0887"
             ],
             [
              0.1111111111111111,
              "#46039f"
             ],
             [
              0.2222222222222222,
              "#7201a8"
             ],
             [
              0.3333333333333333,
              "#9c179e"
             ],
             [
              0.4444444444444444,
              "#bd3786"
             ],
             [
              0.5555555555555556,
              "#d8576b"
             ],
             [
              0.6666666666666666,
              "#ed7953"
             ],
             [
              0.7777777777777778,
              "#fb9f3a"
             ],
             [
              0.8888888888888888,
              "#fdca26"
             ],
             [
              1,
              "#f0f921"
             ]
            ],
            "type": "histogram2dcontour"
           }
          ],
          "mesh3d": [
           {
            "colorbar": {
             "outlinewidth": 0,
             "ticks": ""
            },
            "type": "mesh3d"
           }
          ],
          "parcoords": [
           {
            "line": {
             "colorbar": {
              "outlinewidth": 0,
              "ticks": ""
             }
            },
            "type": "parcoords"
           }
          ],
          "pie": [
           {
            "automargin": true,
            "type": "pie"
           }
          ],
          "scatter": [
           {
            "fillpattern": {
             "fillmode": "overlay",
             "size": 10,
             "solidity": 0.2
            },
            "type": "scatter"
           }
          ],
          "scatter3d": [
           {
            "line": {
             "colorbar": {
              "outlinewidth": 0,
              "ticks": ""
             }
            },
            "marker": {
             "colorbar": {
              "outlinewidth": 0,
              "ticks": ""
             }
            },
            "type": "scatter3d"
           }
          ],
          "scattercarpet": [
           {
            "marker": {
             "colorbar": {
              "outlinewidth": 0,
              "ticks": ""
             }
            },
            "type": "scattercarpet"
           }
          ],
          "scattergeo": [
           {
            "marker": {
             "colorbar": {
              "outlinewidth": 0,
              "ticks": ""
             }
            },
            "type": "scattergeo"
           }
          ],
          "scattergl": [
           {
            "marker": {
             "colorbar": {
              "outlinewidth": 0,
              "ticks": ""
             }
            },
            "type": "scattergl"
           }
          ],
          "scattermapbox": [
           {
            "marker": {
             "colorbar": {
              "outlinewidth": 0,
              "ticks": ""
             }
            },
            "type": "scattermapbox"
           }
          ],
          "scatterpolar": [
           {
            "marker": {
             "colorbar": {
              "outlinewidth": 0,
              "ticks": ""
             }
            },
            "type": "scatterpolar"
           }
          ],
          "scatterpolargl": [
           {
            "marker": {
             "colorbar": {
              "outlinewidth": 0,
              "ticks": ""
             }
            },
            "type": "scatterpolargl"
           }
          ],
          "scatterternary": [
           {
            "marker": {
             "colorbar": {
              "outlinewidth": 0,
              "ticks": ""
             }
            },
            "type": "scatterternary"
           }
          ],
          "surface": [
           {
            "colorbar": {
             "outlinewidth": 0,
             "ticks": ""
            },
            "colorscale": [
             [
              0,
              "#0d0887"
             ],
             [
              0.1111111111111111,
              "#46039f"
             ],
             [
              0.2222222222222222,
              "#7201a8"
             ],
             [
              0.3333333333333333,
              "#9c179e"
             ],
             [
              0.4444444444444444,
              "#bd3786"
             ],
             [
              0.5555555555555556,
              "#d8576b"
             ],
             [
              0.6666666666666666,
              "#ed7953"
             ],
             [
              0.7777777777777778,
              "#fb9f3a"
             ],
             [
              0.8888888888888888,
              "#fdca26"
             ],
             [
              1,
              "#f0f921"
             ]
            ],
            "type": "surface"
           }
          ],
          "table": [
           {
            "cells": {
             "fill": {
              "color": "#EBF0F8"
             },
             "line": {
              "color": "white"
             }
            },
            "header": {
             "fill": {
              "color": "#C8D4E3"
             },
             "line": {
              "color": "white"
             }
            },
            "type": "table"
           }
          ]
         },
         "layout": {
          "annotationdefaults": {
           "arrowcolor": "#2a3f5f",
           "arrowhead": 0,
           "arrowwidth": 1
          },
          "autotypenumbers": "strict",
          "coloraxis": {
           "colorbar": {
            "outlinewidth": 0,
            "ticks": ""
           }
          },
          "colorscale": {
           "diverging": [
            [
             0,
             "#8e0152"
            ],
            [
             0.1,
             "#c51b7d"
            ],
            [
             0.2,
             "#de77ae"
            ],
            [
             0.3,
             "#f1b6da"
            ],
            [
             0.4,
             "#fde0ef"
            ],
            [
             0.5,
             "#f7f7f7"
            ],
            [
             0.6,
             "#e6f5d0"
            ],
            [
             0.7,
             "#b8e186"
            ],
            [
             0.8,
             "#7fbc41"
            ],
            [
             0.9,
             "#4d9221"
            ],
            [
             1,
             "#276419"
            ]
           ],
           "sequential": [
            [
             0,
             "#0d0887"
            ],
            [
             0.1111111111111111,
             "#46039f"
            ],
            [
             0.2222222222222222,
             "#7201a8"
            ],
            [
             0.3333333333333333,
             "#9c179e"
            ],
            [
             0.4444444444444444,
             "#bd3786"
            ],
            [
             0.5555555555555556,
             "#d8576b"
            ],
            [
             0.6666666666666666,
             "#ed7953"
            ],
            [
             0.7777777777777778,
             "#fb9f3a"
            ],
            [
             0.8888888888888888,
             "#fdca26"
            ],
            [
             1,
             "#f0f921"
            ]
           ],
           "sequentialminus": [
            [
             0,
             "#0d0887"
            ],
            [
             0.1111111111111111,
             "#46039f"
            ],
            [
             0.2222222222222222,
             "#7201a8"
            ],
            [
             0.3333333333333333,
             "#9c179e"
            ],
            [
             0.4444444444444444,
             "#bd3786"
            ],
            [
             0.5555555555555556,
             "#d8576b"
            ],
            [
             0.6666666666666666,
             "#ed7953"
            ],
            [
             0.7777777777777778,
             "#fb9f3a"
            ],
            [
             0.8888888888888888,
             "#fdca26"
            ],
            [
             1,
             "#f0f921"
            ]
           ]
          },
          "colorway": [
           "#636efa",
           "#EF553B",
           "#00cc96",
           "#ab63fa",
           "#FFA15A",
           "#19d3f3",
           "#FF6692",
           "#B6E880",
           "#FF97FF",
           "#FECB52"
          ],
          "font": {
           "color": "#2a3f5f"
          },
          "geo": {
           "bgcolor": "white",
           "lakecolor": "white",
           "landcolor": "#E5ECF6",
           "showlakes": true,
           "showland": true,
           "subunitcolor": "white"
          },
          "hoverlabel": {
           "align": "left"
          },
          "hovermode": "closest",
          "mapbox": {
           "style": "light"
          },
          "paper_bgcolor": "white",
          "plot_bgcolor": "#E5ECF6",
          "polar": {
           "angularaxis": {
            "gridcolor": "white",
            "linecolor": "white",
            "ticks": ""
           },
           "bgcolor": "#E5ECF6",
           "radialaxis": {
            "gridcolor": "white",
            "linecolor": "white",
            "ticks": ""
           }
          },
          "scene": {
           "xaxis": {
            "backgroundcolor": "#E5ECF6",
            "gridcolor": "white",
            "gridwidth": 2,
            "linecolor": "white",
            "showbackground": true,
            "ticks": "",
            "zerolinecolor": "white"
           },
           "yaxis": {
            "backgroundcolor": "#E5ECF6",
            "gridcolor": "white",
            "gridwidth": 2,
            "linecolor": "white",
            "showbackground": true,
            "ticks": "",
            "zerolinecolor": "white"
           },
           "zaxis": {
            "backgroundcolor": "#E5ECF6",
            "gridcolor": "white",
            "gridwidth": 2,
            "linecolor": "white",
            "showbackground": true,
            "ticks": "",
            "zerolinecolor": "white"
           }
          },
          "shapedefaults": {
           "line": {
            "color": "#2a3f5f"
           }
          },
          "ternary": {
           "aaxis": {
            "gridcolor": "white",
            "linecolor": "white",
            "ticks": ""
           },
           "baxis": {
            "gridcolor": "white",
            "linecolor": "white",
            "ticks": ""
           },
           "bgcolor": "#E5ECF6",
           "caxis": {
            "gridcolor": "white",
            "linecolor": "white",
            "ticks": ""
           }
          },
          "title": {
           "x": 0.05
          },
          "xaxis": {
           "automargin": true,
           "gridcolor": "white",
           "linecolor": "white",
           "ticks": "",
           "title": {
            "standoff": 15
           },
           "zerolinecolor": "white",
           "zerolinewidth": 2
          },
          "yaxis": {
           "automargin": true,
           "gridcolor": "white",
           "linecolor": "white",
           "ticks": "",
           "title": {
            "standoff": 15
           },
           "zerolinecolor": "white",
           "zerolinewidth": 2
          }
         }
        },
        "title": {
         "text": "Topic Predictions Distribution per Document"
        },
        "xaxis": {
         "anchor": "y",
         "domain": [
          0,
          1
         ],
         "tickmode": "array",
         "ticktext": [
          "2",
          "1",
          "1",
          "1",
          "3",
          "1",
          "1",
          "1",
          "1",
          "9",
          "1",
          "1",
          "3",
          "1",
          "1",
          "1",
          "3",
          "5",
          "4",
          "5"
         ],
         "tickvals": [
          "0009700110",
          "0013600101",
          "0081300106",
          "0081300108",
          "0089000603",
          "0227200600",
          "0345601400",
          "0370900702",
          "0439700100",
          "0489400101",
          "0531700902",
          "0660101902",
          "0747100900",
          "0747901100",
          "0865100502",
          "1332301200",
          "1395501300",
          "1604401400",
          "1604700300",
          "1678300300"
         ],
         "title": {
          "text": "Full Document Prediction"
         }
        },
        "yaxis": {
         "anchor": "x",
         "domain": [
          0,
          1
         ],
         "title": {
          "text": "Proportion"
         }
        }
       }
      },
      "text/html": [
       "<div>                            <div id=\"af46be17-02ce-4398-ae30-5dfecc9325f6\" class=\"plotly-graph-div\" style=\"height:600px; width:100%;\"></div>            <script type=\"text/javascript\">                require([\"plotly\"], function(Plotly) {                    window.PLOTLYENV=window.PLOTLYENV || {};                                    if (document.getElementById(\"af46be17-02ce-4398-ae30-5dfecc9325f6\")) {                    Plotly.newPlot(                        \"af46be17-02ce-4398-ae30-5dfecc9325f6\",                        [{\"alignmentgroup\":\"True\",\"hovertemplate\":\"Topic Prediction=%{text}<br>document_id=%{x}<br>Proportion=%{y}<extra></extra>\",\"legendgroup\":\"0\",\"marker\":{\"color\":\"#636efa\",\"pattern\":{\"shape\":\"\"}},\"name\":\"0\",\"offsetgroup\":\"0\",\"orientation\":\"v\",\"showlegend\":true,\"text\":[\"0\",\"0\",\"0\",\"0\",\"0\",\"0\",\"0\",\"0\",\"0\",\"0\",\"0\",\"0\",\"0\",\"0\",\"0\",\"0\",\"0\",\"0\"],\"textposition\":\"inside\",\"x\":[\"0009700110\",\"0013600101\",\"0081300106\",\"0081300108\",\"0089000603\",\"0345601400\",\"0370900702\",\"0439700100\",\"0489400101\",\"0531700902\",\"0660101902\",\"0747100900\",\"0747901100\",\"0865100502\",\"1332301200\",\"1395501300\",\"1604401400\",\"1604700300\"],\"xaxis\":\"x\",\"y\":[0.08656716417910448,0.11441647597254005,0.045454545454545456,0.045454545454545456,0.017341040462427744,0.08205128205128205,0.11127167630057803,0.047664442326024785,0.060678882547311505,0.057649667405764965,0.06157635467980296,0.04059040590405904,0.022058823529411766,0.03854389721627409,0.013824884792626729,0.016666666666666666,0.00539568345323741,0.07874015748031496],\"yaxis\":\"y\",\"type\":\"bar\"},{\"alignmentgroup\":\"True\",\"hovertemplate\":\"Topic Prediction=%{text}<br>document_id=%{x}<br>Proportion=%{y}<extra></extra>\",\"legendgroup\":\"1\",\"marker\":{\"color\":\"#EF553B\",\"pattern\":{\"shape\":\"\"}},\"name\":\"1\",\"offsetgroup\":\"1\",\"orientation\":\"v\",\"showlegend\":true,\"text\":[\"1\",\"1\",\"1\",\"1\",\"1\",\"1\",\"1\",\"1\",\"1\",\"1\",\"1\",\"1\",\"1\",\"1\",\"1\",\"1\",\"1\",\"1\",\"1\",\"1\"],\"textposition\":\"inside\",\"x\":[\"0009700110\",\"0013600101\",\"0081300106\",\"0081300108\",\"0089000603\",\"0227200600\",\"0345601400\",\"0370900702\",\"0439700100\",\"0489400101\",\"0531700902\",\"0660101902\",\"0747100900\",\"0747901100\",\"0865100502\",\"1332301200\",\"1395501300\",\"1604401400\",\"1604700300\",\"1678300300\"],\"xaxis\":\"x\",\"y\":[0.2298507462686567,0.30434782608695654,0.4166666666666667,0.41919191919191917,0.32947976878612717,0.6003616636528029,0.3282051282051282,0.2832369942196532,0.24880838894184937,0.2590117152297987,0.37250554323725055,0.458128078817734,0.3025830258302583,0.33088235294117646,0.5010706638115632,0.29493087557603687,0.31666666666666665,0.13489208633093525,0.11220472440944881,0.1935483870967742],\"yaxis\":\"y\",\"type\":\"bar\"},{\"alignmentgroup\":\"True\",\"hovertemplate\":\"Topic Prediction=%{text}<br>document_id=%{x}<br>Proportion=%{y}<extra></extra>\",\"legendgroup\":\"2\",\"marker\":{\"color\":\"#00cc96\",\"pattern\":{\"shape\":\"\"}},\"name\":\"2\",\"offsetgroup\":\"2\",\"orientation\":\"v\",\"showlegend\":true,\"text\":[\"2\",\"2\",\"2\",\"2\",\"2\",\"2\",\"2\",\"2\",\"2\",\"2\",\"2\",\"2\",\"2\",\"2\",\"2\",\"2\",\"2\"],\"textposition\":\"inside\",\"x\":[\"0009700110\",\"0013600101\",\"0081300106\",\"0081300108\",\"0345601400\",\"0370900702\",\"0439700100\",\"0489400101\",\"0531700902\",\"0660101902\",\"0747100900\",\"0747901100\",\"0865100502\",\"1332301200\",\"1395501300\",\"1604401400\",\"1604700300\"],\"xaxis\":\"x\",\"y\":[0.2835820895522388,0.20137299771167047,0.10416666666666667,0.05303030303030303,0.03076923076923077,0.23265895953757226,0.18207816968541468,0.020276359267047163,0.25277161862527714,0.12315270935960591,0.007380073800738007,0.029411764705882353,0.1948608137044968,0.013824884792626729,0.05,0.0035971223021582736,0.02952755905511811],\"yaxis\":\"y\",\"type\":\"bar\"},{\"alignmentgroup\":\"True\",\"hovertemplate\":\"Topic Prediction=%{text}<br>document_id=%{x}<br>Proportion=%{y}<extra></extra>\",\"legendgroup\":\"3\",\"marker\":{\"color\":\"#ab63fa\",\"pattern\":{\"shape\":\"\"}},\"name\":\"3\",\"offsetgroup\":\"3\",\"orientation\":\"v\",\"showlegend\":true,\"text\":[\"3\",\"3\",\"3\",\"3\",\"3\",\"3\",\"3\",\"3\",\"3\",\"3\",\"3\",\"3\",\"3\",\"3\",\"3\",\"3\"],\"textposition\":\"inside\",\"x\":[\"0009700110\",\"0013600101\",\"0081300106\",\"0081300108\",\"0089000603\",\"0345601400\",\"0370900702\",\"0439700100\",\"0489400101\",\"0660101902\",\"0747100900\",\"0747901100\",\"0865100502\",\"1332301200\",\"1395501300\",\"1604401400\"],\"xaxis\":\"x\",\"y\":[0.07462686567164178,0.02517162471395881,0.08143939393939394,0.17424242424242425,0.44508670520231214,0.3282051282051282,0.01300578034682081,0.0438512869399428,0.00015019525382997898,0.0665024630541872,0.4059040590405904,0.3382352941176471,0.010706638115631691,0.24423963133640553,0.3333333333333333,0.04316546762589928],\"yaxis\":\"y\",\"type\":\"bar\"},{\"alignmentgroup\":\"True\",\"hovertemplate\":\"Topic Prediction=%{text}<br>document_id=%{x}<br>Proportion=%{y}<extra></extra>\",\"legendgroup\":\"4\",\"marker\":{\"color\":\"#FFA15A\",\"pattern\":{\"shape\":\"\"}},\"name\":\"4\",\"offsetgroup\":\"4\",\"orientation\":\"v\",\"showlegend\":true,\"text\":[\"4\",\"4\",\"4\",\"4\",\"4\",\"4\",\"4\",\"4\",\"4\",\"4\",\"4\",\"4\",\"4\",\"4\"],\"textposition\":\"inside\",\"x\":[\"0009700110\",\"0013600101\",\"0081300106\",\"0345601400\",\"0370900702\",\"0439700100\",\"0489400101\",\"0531700902\",\"0660101902\",\"0747901100\",\"1332301200\",\"1604401400\",\"1604700300\",\"1678300300\"],\"xaxis\":\"x\",\"y\":[0.026865671641791045,0.029748283752860413,0.017045454545454544,0.010256410256410256,0.005780346820809248,0.025738798856053385,0.06818864523881045,0.05321507760532151,0.017241379310344827,0.007352941176470588,0.004608294930875576,0.0017985611510791368,0.484251968503937,0.06451612903225806],\"yaxis\":\"y\",\"type\":\"bar\"},{\"alignmentgroup\":\"True\",\"hovertemplate\":\"Topic Prediction=%{text}<br>document_id=%{x}<br>Proportion=%{y}<extra></extra>\",\"legendgroup\":\"5\",\"marker\":{\"color\":\"#19d3f3\",\"pattern\":{\"shape\":\"\"}},\"name\":\"5\",\"offsetgroup\":\"5\",\"orientation\":\"v\",\"showlegend\":true,\"text\":[\"5\",\"5\",\"5\",\"5\",\"5\",\"5\",\"5\",\"5\",\"5\",\"5\",\"5\",\"5\",\"5\",\"5\",\"5\",\"5\",\"5\",\"5\",\"5\"],\"textposition\":\"inside\",\"x\":[\"0009700110\",\"0013600101\",\"0081300106\",\"0081300108\",\"0089000603\",\"0345601400\",\"0370900702\",\"0439700100\",\"0489400101\",\"0531700902\",\"0660101902\",\"0747100900\",\"0747901100\",\"0865100502\",\"1332301200\",\"1395501300\",\"1604401400\",\"1604700300\",\"1678300300\"],\"xaxis\":\"x\",\"y\":[0.14626865671641792,0.029748283752860413,0.07007575757575757,0.11616161616161616,0.10982658959537572,0.1282051282051282,0.10982658959537572,0.08293612964728313,0.0045058576148993695,0.0022172949002217295,0.03694581280788178,0.09225092250922509,0.11764705882352941,0.006423982869379015,0.25806451612903225,0.18333333333333332,0.7643884892086331,0.05708661417322835,0.4838709677419355],\"yaxis\":\"y\",\"type\":\"bar\"},{\"alignmentgroup\":\"True\",\"hovertemplate\":\"Topic Prediction=%{text}<br>document_id=%{x}<br>Proportion=%{y}<extra></extra>\",\"legendgroup\":\"6\",\"marker\":{\"color\":\"#FF6692\",\"pattern\":{\"shape\":\"\"}},\"name\":\"6\",\"offsetgroup\":\"6\",\"orientation\":\"v\",\"showlegend\":true,\"text\":[\"6\",\"6\",\"6\",\"6\",\"6\",\"6\",\"6\",\"6\",\"6\",\"6\",\"6\",\"6\",\"6\",\"6\",\"6\"],\"textposition\":\"inside\",\"x\":[\"0013600101\",\"0081300106\",\"0081300108\",\"0345601400\",\"0370900702\",\"0439700100\",\"0489400101\",\"0531700902\",\"0660101902\",\"0747100900\",\"0865100502\",\"1332301200\",\"1604401400\",\"1604700300\",\"1678300300\"],\"xaxis\":\"x\",\"y\":[0.002288329519450801,0.011363636363636364,0.015151515151515152,0.010256410256410256,0.008670520231213872,0.03908484270734033,0.007810153199158907,0.04212860310421286,0.0024630541871921183,0.007380073800738007,0.01284796573875803,0.009216589861751152,0.0017985611510791368,0.007874015748031496,0.06451612903225806],\"yaxis\":\"y\",\"type\":\"bar\"},{\"alignmentgroup\":\"True\",\"hovertemplate\":\"Topic Prediction=%{text}<br>document_id=%{x}<br>Proportion=%{y}<extra></extra>\",\"legendgroup\":\"7\",\"marker\":{\"color\":\"#B6E880\",\"pattern\":{\"shape\":\"\"}},\"name\":\"7\",\"offsetgroup\":\"7\",\"orientation\":\"v\",\"showlegend\":true,\"text\":[\"7\",\"7\",\"7\",\"7\",\"7\",\"7\",\"7\",\"7\",\"7\",\"7\",\"7\",\"7\",\"7\",\"7\",\"7\",\"7\",\"7\",\"7\",\"7\",\"7\"],\"textposition\":\"inside\",\"x\":[\"0009700110\",\"0013600101\",\"0081300106\",\"0081300108\",\"0089000603\",\"0227200600\",\"0345601400\",\"0370900702\",\"0439700100\",\"0489400101\",\"0531700902\",\"0660101902\",\"0747100900\",\"0747901100\",\"0865100502\",\"1332301200\",\"1395501300\",\"1604401400\",\"1604700300\",\"1678300300\"],\"xaxis\":\"x\",\"y\":[0.11641791044776119,0.19221967963386727,0.16856060606060605,0.08838383838383838,0.06936416184971098,0.3990355635925256,0.05641025641025641,0.14595375722543352,0.13536701620591038,0.08170621808350856,0.1729490022172949,0.2044334975369458,0.14391143911439114,0.051470588235294115,0.20342612419700215,0.07373271889400922,0.016666666666666666,0.030575539568345324,0.12598425196850394,0.0967741935483871],\"yaxis\":\"y\",\"type\":\"bar\"},{\"alignmentgroup\":\"True\",\"hovertemplate\":\"Topic Prediction=%{text}<br>document_id=%{x}<br>Proportion=%{y}<extra></extra>\",\"legendgroup\":\"8\",\"marker\":{\"color\":\"#FF97FF\",\"pattern\":{\"shape\":\"\"}},\"name\":\"8\",\"offsetgroup\":\"8\",\"orientation\":\"v\",\"showlegend\":true,\"text\":[\"8\",\"8\",\"8\",\"8\",\"8\",\"8\",\"8\",\"8\",\"8\",\"8\",\"8\"],\"textposition\":\"inside\",\"x\":[\"0009700110\",\"0081300106\",\"0081300108\",\"0370900702\",\"0439700100\",\"0489400101\",\"0531700902\",\"0865100502\",\"1332301200\",\"1604700300\",\"1678300300\"],\"xaxis\":\"x\",\"y\":[0.008955223880597015,0.013257575757575758,0.017676767676767676,0.02745664739884393,0.09151572926596759,0.011114448783418444,0.011086474501108648,0.0021413276231263384,0.013824884792626729,0.09251968503937008,0.06451612903225806],\"yaxis\":\"y\",\"type\":\"bar\"},{\"alignmentgroup\":\"True\",\"hovertemplate\":\"Topic Prediction=%{text}<br>document_id=%{x}<br>Proportion=%{y}<extra></extra>\",\"legendgroup\":\"9\",\"marker\":{\"color\":\"#FECB52\",\"pattern\":{\"shape\":\"\"}},\"name\":\"9\",\"offsetgroup\":\"9\",\"orientation\":\"v\",\"showlegend\":true,\"text\":[\"9\",\"9\",\"9\",\"9\",\"9\",\"9\",\"9\",\"9\",\"9\",\"9\",\"9\",\"9\",\"9\",\"9\",\"9\",\"9\",\"9\",\"9\",\"9\"],\"textposition\":\"inside\",\"x\":[\"0009700110\",\"0013600101\",\"0081300106\",\"0081300108\",\"0089000603\",\"0227200600\",\"0345601400\",\"0370900702\",\"0439700100\",\"0489400101\",\"0531700902\",\"0660101902\",\"0747901100\",\"0865100502\",\"1332301200\",\"1395501300\",\"1604401400\",\"1604700300\",\"1678300300\"],\"xaxis\":\"x\",\"y\":[0.026865671641791045,0.10068649885583524,0.07196969696969698,0.0707070707070707,0.028901734104046242,0.0006027727546714888,0.02564102564102564,0.06213872832369942,0.10295519542421354,0.48655752478221687,0.03547671840354767,0.029556650246305417,0.10294117647058823,0.029978586723768737,0.07373271889400922,0.08333333333333333,0.014388489208633094,0.011811023622047244,0.03225806451612903],\"yaxis\":\"y\",\"type\":\"bar\"}],                        {\"template\":{\"data\":{\"histogram2dcontour\":[{\"type\":\"histogram2dcontour\",\"colorbar\":{\"outlinewidth\":0,\"ticks\":\"\"},\"colorscale\":[[0.0,\"#0d0887\"],[0.1111111111111111,\"#46039f\"],[0.2222222222222222,\"#7201a8\"],[0.3333333333333333,\"#9c179e\"],[0.4444444444444444,\"#bd3786\"],[0.5555555555555556,\"#d8576b\"],[0.6666666666666666,\"#ed7953\"],[0.7777777777777778,\"#fb9f3a\"],[0.8888888888888888,\"#fdca26\"],[1.0,\"#f0f921\"]]}],\"choropleth\":[{\"type\":\"choropleth\",\"colorbar\":{\"outlinewidth\":0,\"ticks\":\"\"}}],\"histogram2d\":[{\"type\":\"histogram2d\",\"colorbar\":{\"outlinewidth\":0,\"ticks\":\"\"},\"colorscale\":[[0.0,\"#0d0887\"],[0.1111111111111111,\"#46039f\"],[0.2222222222222222,\"#7201a8\"],[0.3333333333333333,\"#9c179e\"],[0.4444444444444444,\"#bd3786\"],[0.5555555555555556,\"#d8576b\"],[0.6666666666666666,\"#ed7953\"],[0.7777777777777778,\"#fb9f3a\"],[0.8888888888888888,\"#fdca26\"],[1.0,\"#f0f921\"]]}],\"heatmap\":[{\"type\":\"heatmap\",\"colorbar\":{\"outlinewidth\":0,\"ticks\":\"\"},\"colorscale\":[[0.0,\"#0d0887\"],[0.1111111111111111,\"#46039f\"],[0.2222222222222222,\"#7201a8\"],[0.3333333333333333,\"#9c179e\"],[0.4444444444444444,\"#bd3786\"],[0.5555555555555556,\"#d8576b\"],[0.6666666666666666,\"#ed7953\"],[0.7777777777777778,\"#fb9f3a\"],[0.8888888888888888,\"#fdca26\"],[1.0,\"#f0f921\"]]}],\"heatmapgl\":[{\"type\":\"heatmapgl\",\"colorbar\":{\"outlinewidth\":0,\"ticks\":\"\"},\"colorscale\":[[0.0,\"#0d0887\"],[0.1111111111111111,\"#46039f\"],[0.2222222222222222,\"#7201a8\"],[0.3333333333333333,\"#9c179e\"],[0.4444444444444444,\"#bd3786\"],[0.5555555555555556,\"#d8576b\"],[0.6666666666666666,\"#ed7953\"],[0.7777777777777778,\"#fb9f3a\"],[0.8888888888888888,\"#fdca26\"],[1.0,\"#f0f921\"]]}],\"contourcarpet\":[{\"type\":\"contourcarpet\",\"colorbar\":{\"outlinewidth\":0,\"ticks\":\"\"}}],\"contour\":[{\"type\":\"contour\",\"colorbar\":{\"outlinewidth\":0,\"ticks\":\"\"},\"colorscale\":[[0.0,\"#0d0887\"],[0.1111111111111111,\"#46039f\"],[0.2222222222222222,\"#7201a8\"],[0.3333333333333333,\"#9c179e\"],[0.4444444444444444,\"#bd3786\"],[0.5555555555555556,\"#d8576b\"],[0.6666666666666666,\"#ed7953\"],[0.7777777777777778,\"#fb9f3a\"],[0.8888888888888888,\"#fdca26\"],[1.0,\"#f0f921\"]]}],\"surface\":[{\"type\":\"surface\",\"colorbar\":{\"outlinewidth\":0,\"ticks\":\"\"},\"colorscale\":[[0.0,\"#0d0887\"],[0.1111111111111111,\"#46039f\"],[0.2222222222222222,\"#7201a8\"],[0.3333333333333333,\"#9c179e\"],[0.4444444444444444,\"#bd3786\"],[0.5555555555555556,\"#d8576b\"],[0.6666666666666666,\"#ed7953\"],[0.7777777777777778,\"#fb9f3a\"],[0.8888888888888888,\"#fdca26\"],[1.0,\"#f0f921\"]]}],\"mesh3d\":[{\"type\":\"mesh3d\",\"colorbar\":{\"outlinewidth\":0,\"ticks\":\"\"}}],\"scatter\":[{\"fillpattern\":{\"fillmode\":\"overlay\",\"size\":10,\"solidity\":0.2},\"type\":\"scatter\"}],\"parcoords\":[{\"type\":\"parcoords\",\"line\":{\"colorbar\":{\"outlinewidth\":0,\"ticks\":\"\"}}}],\"scatterpolargl\":[{\"type\":\"scatterpolargl\",\"marker\":{\"colorbar\":{\"outlinewidth\":0,\"ticks\":\"\"}}}],\"bar\":[{\"error_x\":{\"color\":\"#2a3f5f\"},\"error_y\":{\"color\":\"#2a3f5f\"},\"marker\":{\"line\":{\"color\":\"#E5ECF6\",\"width\":0.5},\"pattern\":{\"fillmode\":\"overlay\",\"size\":10,\"solidity\":0.2}},\"type\":\"bar\"}],\"scattergeo\":[{\"type\":\"scattergeo\",\"marker\":{\"colorbar\":{\"outlinewidth\":0,\"ticks\":\"\"}}}],\"scatterpolar\":[{\"type\":\"scatterpolar\",\"marker\":{\"colorbar\":{\"outlinewidth\":0,\"ticks\":\"\"}}}],\"histogram\":[{\"marker\":{\"pattern\":{\"fillmode\":\"overlay\",\"size\":10,\"solidity\":0.2}},\"type\":\"histogram\"}],\"scattergl\":[{\"type\":\"scattergl\",\"marker\":{\"colorbar\":{\"outlinewidth\":0,\"ticks\":\"\"}}}],\"scatter3d\":[{\"type\":\"scatter3d\",\"line\":{\"colorbar\":{\"outlinewidth\":0,\"ticks\":\"\"}},\"marker\":{\"colorbar\":{\"outlinewidth\":0,\"ticks\":\"\"}}}],\"scattermapbox\":[{\"type\":\"scattermapbox\",\"marker\":{\"colorbar\":{\"outlinewidth\":0,\"ticks\":\"\"}}}],\"scatterternary\":[{\"type\":\"scatterternary\",\"marker\":{\"colorbar\":{\"outlinewidth\":0,\"ticks\":\"\"}}}],\"scattercarpet\":[{\"type\":\"scattercarpet\",\"marker\":{\"colorbar\":{\"outlinewidth\":0,\"ticks\":\"\"}}}],\"carpet\":[{\"aaxis\":{\"endlinecolor\":\"#2a3f5f\",\"gridcolor\":\"white\",\"linecolor\":\"white\",\"minorgridcolor\":\"white\",\"startlinecolor\":\"#2a3f5f\"},\"baxis\":{\"endlinecolor\":\"#2a3f5f\",\"gridcolor\":\"white\",\"linecolor\":\"white\",\"minorgridcolor\":\"white\",\"startlinecolor\":\"#2a3f5f\"},\"type\":\"carpet\"}],\"table\":[{\"cells\":{\"fill\":{\"color\":\"#EBF0F8\"},\"line\":{\"color\":\"white\"}},\"header\":{\"fill\":{\"color\":\"#C8D4E3\"},\"line\":{\"color\":\"white\"}},\"type\":\"table\"}],\"barpolar\":[{\"marker\":{\"line\":{\"color\":\"#E5ECF6\",\"width\":0.5},\"pattern\":{\"fillmode\":\"overlay\",\"size\":10,\"solidity\":0.2}},\"type\":\"barpolar\"}],\"pie\":[{\"automargin\":true,\"type\":\"pie\"}]},\"layout\":{\"autotypenumbers\":\"strict\",\"colorway\":[\"#636efa\",\"#EF553B\",\"#00cc96\",\"#ab63fa\",\"#FFA15A\",\"#19d3f3\",\"#FF6692\",\"#B6E880\",\"#FF97FF\",\"#FECB52\"],\"font\":{\"color\":\"#2a3f5f\"},\"hovermode\":\"closest\",\"hoverlabel\":{\"align\":\"left\"},\"paper_bgcolor\":\"white\",\"plot_bgcolor\":\"#E5ECF6\",\"polar\":{\"bgcolor\":\"#E5ECF6\",\"angularaxis\":{\"gridcolor\":\"white\",\"linecolor\":\"white\",\"ticks\":\"\"},\"radialaxis\":{\"gridcolor\":\"white\",\"linecolor\":\"white\",\"ticks\":\"\"}},\"ternary\":{\"bgcolor\":\"#E5ECF6\",\"aaxis\":{\"gridcolor\":\"white\",\"linecolor\":\"white\",\"ticks\":\"\"},\"baxis\":{\"gridcolor\":\"white\",\"linecolor\":\"white\",\"ticks\":\"\"},\"caxis\":{\"gridcolor\":\"white\",\"linecolor\":\"white\",\"ticks\":\"\"}},\"coloraxis\":{\"colorbar\":{\"outlinewidth\":0,\"ticks\":\"\"}},\"colorscale\":{\"sequential\":[[0.0,\"#0d0887\"],[0.1111111111111111,\"#46039f\"],[0.2222222222222222,\"#7201a8\"],[0.3333333333333333,\"#9c179e\"],[0.4444444444444444,\"#bd3786\"],[0.5555555555555556,\"#d8576b\"],[0.6666666666666666,\"#ed7953\"],[0.7777777777777778,\"#fb9f3a\"],[0.8888888888888888,\"#fdca26\"],[1.0,\"#f0f921\"]],\"sequentialminus\":[[0.0,\"#0d0887\"],[0.1111111111111111,\"#46039f\"],[0.2222222222222222,\"#7201a8\"],[0.3333333333333333,\"#9c179e\"],[0.4444444444444444,\"#bd3786\"],[0.5555555555555556,\"#d8576b\"],[0.6666666666666666,\"#ed7953\"],[0.7777777777777778,\"#fb9f3a\"],[0.8888888888888888,\"#fdca26\"],[1.0,\"#f0f921\"]],\"diverging\":[[0,\"#8e0152\"],[0.1,\"#c51b7d\"],[0.2,\"#de77ae\"],[0.3,\"#f1b6da\"],[0.4,\"#fde0ef\"],[0.5,\"#f7f7f7\"],[0.6,\"#e6f5d0\"],[0.7,\"#b8e186\"],[0.8,\"#7fbc41\"],[0.9,\"#4d9221\"],[1,\"#276419\"]]},\"xaxis\":{\"gridcolor\":\"white\",\"linecolor\":\"white\",\"ticks\":\"\",\"title\":{\"standoff\":15},\"zerolinecolor\":\"white\",\"automargin\":true,\"zerolinewidth\":2},\"yaxis\":{\"gridcolor\":\"white\",\"linecolor\":\"white\",\"ticks\":\"\",\"title\":{\"standoff\":15},\"zerolinecolor\":\"white\",\"automargin\":true,\"zerolinewidth\":2},\"scene\":{\"xaxis\":{\"backgroundcolor\":\"#E5ECF6\",\"gridcolor\":\"white\",\"linecolor\":\"white\",\"showbackground\":true,\"ticks\":\"\",\"zerolinecolor\":\"white\",\"gridwidth\":2},\"yaxis\":{\"backgroundcolor\":\"#E5ECF6\",\"gridcolor\":\"white\",\"linecolor\":\"white\",\"showbackground\":true,\"ticks\":\"\",\"zerolinecolor\":\"white\",\"gridwidth\":2},\"zaxis\":{\"backgroundcolor\":\"#E5ECF6\",\"gridcolor\":\"white\",\"linecolor\":\"white\",\"showbackground\":true,\"ticks\":\"\",\"zerolinecolor\":\"white\",\"gridwidth\":2}},\"shapedefaults\":{\"line\":{\"color\":\"#2a3f5f\"}},\"annotationdefaults\":{\"arrowcolor\":\"#2a3f5f\",\"arrowhead\":0,\"arrowwidth\":1},\"geo\":{\"bgcolor\":\"white\",\"landcolor\":\"#E5ECF6\",\"subunitcolor\":\"white\",\"showland\":true,\"showlakes\":true,\"lakecolor\":\"white\"},\"title\":{\"x\":0.05},\"mapbox\":{\"style\":\"light\"}}},\"xaxis\":{\"anchor\":\"y\",\"domain\":[0.0,1.0],\"title\":{\"text\":\"Full Document Prediction\"},\"tickmode\":\"array\",\"tickvals\":[\"0009700110\",\"0013600101\",\"0081300106\",\"0081300108\",\"0089000603\",\"0227200600\",\"0345601400\",\"0370900702\",\"0439700100\",\"0489400101\",\"0531700902\",\"0660101902\",\"0747100900\",\"0747901100\",\"0865100502\",\"1332301200\",\"1395501300\",\"1604401400\",\"1604700300\",\"1678300300\"],\"ticktext\":[\"2\",\"1\",\"1\",\"1\",\"3\",\"1\",\"1\",\"1\",\"1\",\"9\",\"1\",\"1\",\"3\",\"1\",\"1\",\"1\",\"3\",\"5\",\"4\",\"5\"]},\"yaxis\":{\"anchor\":\"x\",\"domain\":[0.0,1.0],\"title\":{\"text\":\"Proportion\"}},\"legend\":{\"title\":{\"text\":\"Topic Prediction\"},\"tracegroupgap\":0},\"title\":{\"text\":\"Topic Predictions Distribution per Document\"},\"barmode\":\"relative\",\"height\":600,\"showlegend\":false},                        {\"responsive\": true}                    ).then(function(){\n",
       "                            \n",
       "var gd = document.getElementById('af46be17-02ce-4398-ae30-5dfecc9325f6');\n",
       "var x = new MutationObserver(function (mutations, observer) {{\n",
       "        var display = window.getComputedStyle(gd).display;\n",
       "        if (!display || display === 'none') {{\n",
       "            console.log([gd, 'removed!']);\n",
       "            Plotly.purge(gd);\n",
       "            observer.disconnect();\n",
       "        }}\n",
       "}});\n",
       "\n",
       "// Listen for the removal of the full notebook cells\n",
       "var notebookContainer = gd.closest('#notebook-container');\n",
       "if (notebookContainer) {{\n",
       "    x.observe(notebookContainer, {childList: true});\n",
       "}}\n",
       "\n",
       "// Listen for the clearing of the current output cell\n",
       "var outputEl = gd.closest('.output');\n",
       "if (outputEl) {{\n",
       "    x.observe(outputEl, {childList: true});\n",
       "}}\n",
       "\n",
       "                        })                };                });            </script>        </div>"
      ]
     },
     "metadata": {},
     "output_type": "display_data"
    }
   ],
   "source": [
    "import plotly.express as px\n",
    "\n",
    "fig = px.bar(\n",
    "    df_merged,\n",
    "    x='document_id',\n",
    "    y='Proportion',\n",
    "    color='Topic Prediction',\n",
    "    text='Topic Prediction',\n",
    "    title='Topic Predictions Distribution per Document',\n",
    "    height=600,\n",
    "    category_orders={'Topic Prediction': topic_order},\n",
    ")\n",
    "\n",
    "fig.update_traces(textposition='inside')\n",
    "fig.update_layout(\n",
    "    showlegend=False,\n",
    "    xaxis_title=\"Full Document Prediction\"\n",
    ")\n",
    "\n",
    "doc_ids = df_merged['document_id'].unique()\n",
    "doc_preds = df_merged.drop_duplicates(subset='document_id')['Document Topic Prediction'].values\n",
    "custom_tick_labels = [f\"{pred}\" for pred in doc_preds]\n",
    "\n",
    "fig.update_xaxes(\n",
    "    tickmode='array',\n",
    "    tickvals=doc_ids,\n",
    "    ticktext=custom_tick_labels,\n",
    ")\n",
    "\n",
    "\n",
    "fig.show()"
   ]
  },
  {
   "cell_type": "code",
   "execution_count": 98,
   "id": "e4361bfe",
   "metadata": {},
   "outputs": [
    {
     "data": {
      "application/vnd.plotly.v1+json": {
       "config": {
        "plotlyServerURL": "https://plot.ly"
       },
       "data": [
        {
         "colorscale": [
          [
           0,
           "#440154"
          ],
          [
           0.1111111111111111,
           "#482878"
          ],
          [
           0.2222222222222222,
           "#3e4989"
          ],
          [
           0.3333333333333333,
           "#31688e"
          ],
          [
           0.4444444444444444,
           "#26828e"
          ],
          [
           0.5555555555555556,
           "#1f9e89"
          ],
          [
           0.6666666666666666,
           "#35b779"
          ],
          [
           0.7777777777777778,
           "#6ece58"
          ],
          [
           0.8888888888888888,
           "#b5de2b"
          ],
          [
           1,
           "#fde725"
          ]
         ],
         "type": "heatmap",
         "x": [
          "0",
          "1",
          "2",
          "3",
          "4",
          "5",
          "6",
          "7",
          "8",
          "9"
         ],
         "y": [
          "0009700110",
          "0013600101",
          "0081300106",
          "0081300108",
          "0089000603",
          "0227200600",
          "0345601400",
          "0370900702",
          "0439700100",
          "0489400101",
          "0531700902",
          "0660101902",
          "0747100900",
          "0747901100",
          "0865100502",
          "1332301200",
          "1395501300",
          "1604401400",
          "1604700300",
          "1678300300"
         ],
         "z": [
          [
           0.08656716417910448,
           0.2298507462686567,
           0.2835820895522388,
           0.07462686567164178,
           0.026865671641791045,
           0.14626865671641792,
           0,
           0.11641791044776119,
           0.008955223880597015,
           0.026865671641791045
          ],
          [
           0.11441647597254005,
           0.30434782608695654,
           0.20137299771167047,
           0.02517162471395881,
           0.029748283752860413,
           0.029748283752860413,
           0.002288329519450801,
           0.19221967963386727,
           0,
           0.10068649885583524
          ],
          [
           0.045454545454545456,
           0.4166666666666667,
           0.10416666666666667,
           0.08143939393939394,
           0.017045454545454544,
           0.07007575757575757,
           0.011363636363636364,
           0.16856060606060605,
           0.013257575757575758,
           0.07196969696969698
          ],
          [
           0.045454545454545456,
           0.41919191919191917,
           0.05303030303030303,
           0.17424242424242425,
           0,
           0.11616161616161616,
           0.015151515151515152,
           0.08838383838383838,
           0.017676767676767676,
           0.0707070707070707
          ],
          [
           0.017341040462427744,
           0.32947976878612717,
           0,
           0.44508670520231214,
           0,
           0.10982658959537572,
           0,
           0.06936416184971098,
           0,
           0.028901734104046242
          ],
          [
           0,
           0.6003616636528029,
           0,
           0,
           0,
           0,
           0,
           0.3990355635925256,
           0,
           0.0006027727546714888
          ],
          [
           0.08205128205128205,
           0.3282051282051282,
           0.03076923076923077,
           0.3282051282051282,
           0.010256410256410256,
           0.1282051282051282,
           0.010256410256410256,
           0.05641025641025641,
           0,
           0.02564102564102564
          ],
          [
           0.11127167630057803,
           0.2832369942196532,
           0.23265895953757226,
           0.01300578034682081,
           0.005780346820809248,
           0.10982658959537572,
           0.008670520231213872,
           0.14595375722543352,
           0.02745664739884393,
           0.06213872832369942
          ],
          [
           0.047664442326024785,
           0.24880838894184937,
           0.18207816968541468,
           0.0438512869399428,
           0.025738798856053385,
           0.08293612964728313,
           0.03908484270734033,
           0.13536701620591038,
           0.09151572926596759,
           0.10295519542421354
          ],
          [
           0.060678882547311505,
           0.2590117152297987,
           0.020276359267047163,
           0.00015019525382997898,
           0.06818864523881045,
           0.0045058576148993695,
           0.007810153199158907,
           0.08170621808350856,
           0.011114448783418444,
           0.48655752478221687
          ],
          [
           0.057649667405764965,
           0.37250554323725055,
           0.25277161862527714,
           0,
           0.05321507760532151,
           0.0022172949002217295,
           0.04212860310421286,
           0.1729490022172949,
           0.011086474501108648,
           0.03547671840354767
          ],
          [
           0.06157635467980296,
           0.458128078817734,
           0.12315270935960591,
           0.0665024630541872,
           0.017241379310344827,
           0.03694581280788178,
           0.0024630541871921183,
           0.2044334975369458,
           0,
           0.029556650246305417
          ],
          [
           0.04059040590405904,
           0.3025830258302583,
           0.007380073800738007,
           0.4059040590405904,
           0,
           0.09225092250922509,
           0.007380073800738007,
           0.14391143911439114,
           0,
           0
          ],
          [
           0.022058823529411766,
           0.33088235294117646,
           0.029411764705882353,
           0.3382352941176471,
           0.007352941176470588,
           0.11764705882352941,
           0,
           0.051470588235294115,
           0,
           0.10294117647058823
          ],
          [
           0.03854389721627409,
           0.5010706638115632,
           0.1948608137044968,
           0.010706638115631691,
           0,
           0.006423982869379015,
           0.01284796573875803,
           0.20342612419700215,
           0.0021413276231263384,
           0.029978586723768737
          ],
          [
           0.013824884792626729,
           0.29493087557603687,
           0.013824884792626729,
           0.24423963133640553,
           0.004608294930875576,
           0.25806451612903225,
           0.009216589861751152,
           0.07373271889400922,
           0.013824884792626729,
           0.07373271889400922
          ],
          [
           0.016666666666666666,
           0.31666666666666665,
           0.05,
           0.3333333333333333,
           0,
           0.18333333333333332,
           0,
           0.016666666666666666,
           0,
           0.08333333333333333
          ],
          [
           0.00539568345323741,
           0.13489208633093525,
           0.0035971223021582736,
           0.04316546762589928,
           0.0017985611510791368,
           0.7643884892086331,
           0.0017985611510791368,
           0.030575539568345324,
           0,
           0.014388489208633094
          ],
          [
           0.07874015748031496,
           0.11220472440944881,
           0.02952755905511811,
           0,
           0.484251968503937,
           0.05708661417322835,
           0.007874015748031496,
           0.12598425196850394,
           0.09251968503937008,
           0.011811023622047244
          ],
          [
           0,
           0.1935483870967742,
           0,
           0,
           0.06451612903225806,
           0.4838709677419355,
           0.06451612903225806,
           0.0967741935483871,
           0.06451612903225806,
           0.03225806451612903
          ]
         ]
        }
       ],
       "layout": {
        "height": 600,
        "template": {
         "data": {
          "bar": [
           {
            "error_x": {
             "color": "#2a3f5f"
            },
            "error_y": {
             "color": "#2a3f5f"
            },
            "marker": {
             "line": {
              "color": "#E5ECF6",
              "width": 0.5
             },
             "pattern": {
              "fillmode": "overlay",
              "size": 10,
              "solidity": 0.2
             }
            },
            "type": "bar"
           }
          ],
          "barpolar": [
           {
            "marker": {
             "line": {
              "color": "#E5ECF6",
              "width": 0.5
             },
             "pattern": {
              "fillmode": "overlay",
              "size": 10,
              "solidity": 0.2
             }
            },
            "type": "barpolar"
           }
          ],
          "carpet": [
           {
            "aaxis": {
             "endlinecolor": "#2a3f5f",
             "gridcolor": "white",
             "linecolor": "white",
             "minorgridcolor": "white",
             "startlinecolor": "#2a3f5f"
            },
            "baxis": {
             "endlinecolor": "#2a3f5f",
             "gridcolor": "white",
             "linecolor": "white",
             "minorgridcolor": "white",
             "startlinecolor": "#2a3f5f"
            },
            "type": "carpet"
           }
          ],
          "choropleth": [
           {
            "colorbar": {
             "outlinewidth": 0,
             "ticks": ""
            },
            "type": "choropleth"
           }
          ],
          "contour": [
           {
            "colorbar": {
             "outlinewidth": 0,
             "ticks": ""
            },
            "colorscale": [
             [
              0,
              "#0d0887"
             ],
             [
              0.1111111111111111,
              "#46039f"
             ],
             [
              0.2222222222222222,
              "#7201a8"
             ],
             [
              0.3333333333333333,
              "#9c179e"
             ],
             [
              0.4444444444444444,
              "#bd3786"
             ],
             [
              0.5555555555555556,
              "#d8576b"
             ],
             [
              0.6666666666666666,
              "#ed7953"
             ],
             [
              0.7777777777777778,
              "#fb9f3a"
             ],
             [
              0.8888888888888888,
              "#fdca26"
             ],
             [
              1,
              "#f0f921"
             ]
            ],
            "type": "contour"
           }
          ],
          "contourcarpet": [
           {
            "colorbar": {
             "outlinewidth": 0,
             "ticks": ""
            },
            "type": "contourcarpet"
           }
          ],
          "heatmap": [
           {
            "colorbar": {
             "outlinewidth": 0,
             "ticks": ""
            },
            "colorscale": [
             [
              0,
              "#0d0887"
             ],
             [
              0.1111111111111111,
              "#46039f"
             ],
             [
              0.2222222222222222,
              "#7201a8"
             ],
             [
              0.3333333333333333,
              "#9c179e"
             ],
             [
              0.4444444444444444,
              "#bd3786"
             ],
             [
              0.5555555555555556,
              "#d8576b"
             ],
             [
              0.6666666666666666,
              "#ed7953"
             ],
             [
              0.7777777777777778,
              "#fb9f3a"
             ],
             [
              0.8888888888888888,
              "#fdca26"
             ],
             [
              1,
              "#f0f921"
             ]
            ],
            "type": "heatmap"
           }
          ],
          "heatmapgl": [
           {
            "colorbar": {
             "outlinewidth": 0,
             "ticks": ""
            },
            "colorscale": [
             [
              0,
              "#0d0887"
             ],
             [
              0.1111111111111111,
              "#46039f"
             ],
             [
              0.2222222222222222,
              "#7201a8"
             ],
             [
              0.3333333333333333,
              "#9c179e"
             ],
             [
              0.4444444444444444,
              "#bd3786"
             ],
             [
              0.5555555555555556,
              "#d8576b"
             ],
             [
              0.6666666666666666,
              "#ed7953"
             ],
             [
              0.7777777777777778,
              "#fb9f3a"
             ],
             [
              0.8888888888888888,
              "#fdca26"
             ],
             [
              1,
              "#f0f921"
             ]
            ],
            "type": "heatmapgl"
           }
          ],
          "histogram": [
           {
            "marker": {
             "pattern": {
              "fillmode": "overlay",
              "size": 10,
              "solidity": 0.2
             }
            },
            "type": "histogram"
           }
          ],
          "histogram2d": [
           {
            "colorbar": {
             "outlinewidth": 0,
             "ticks": ""
            },
            "colorscale": [
             [
              0,
              "#0d0887"
             ],
             [
              0.1111111111111111,
              "#46039f"
             ],
             [
              0.2222222222222222,
              "#7201a8"
             ],
             [
              0.3333333333333333,
              "#9c179e"
             ],
             [
              0.4444444444444444,
              "#bd3786"
             ],
             [
              0.5555555555555556,
              "#d8576b"
             ],
             [
              0.6666666666666666,
              "#ed7953"
             ],
             [
              0.7777777777777778,
              "#fb9f3a"
             ],
             [
              0.8888888888888888,
              "#fdca26"
             ],
             [
              1,
              "#f0f921"
             ]
            ],
            "type": "histogram2d"
           }
          ],
          "histogram2dcontour": [
           {
            "colorbar": {
             "outlinewidth": 0,
             "ticks": ""
            },
            "colorscale": [
             [
              0,
              "#0d0887"
             ],
             [
              0.1111111111111111,
              "#46039f"
             ],
             [
              0.2222222222222222,
              "#7201a8"
             ],
             [
              0.3333333333333333,
              "#9c179e"
             ],
             [
              0.4444444444444444,
              "#bd3786"
             ],
             [
              0.5555555555555556,
              "#d8576b"
             ],
             [
              0.6666666666666666,
              "#ed7953"
             ],
             [
              0.7777777777777778,
              "#fb9f3a"
             ],
             [
              0.8888888888888888,
              "#fdca26"
             ],
             [
              1,
              "#f0f921"
             ]
            ],
            "type": "histogram2dcontour"
           }
          ],
          "mesh3d": [
           {
            "colorbar": {
             "outlinewidth": 0,
             "ticks": ""
            },
            "type": "mesh3d"
           }
          ],
          "parcoords": [
           {
            "line": {
             "colorbar": {
              "outlinewidth": 0,
              "ticks": ""
             }
            },
            "type": "parcoords"
           }
          ],
          "pie": [
           {
            "automargin": true,
            "type": "pie"
           }
          ],
          "scatter": [
           {
            "fillpattern": {
             "fillmode": "overlay",
             "size": 10,
             "solidity": 0.2
            },
            "type": "scatter"
           }
          ],
          "scatter3d": [
           {
            "line": {
             "colorbar": {
              "outlinewidth": 0,
              "ticks": ""
             }
            },
            "marker": {
             "colorbar": {
              "outlinewidth": 0,
              "ticks": ""
             }
            },
            "type": "scatter3d"
           }
          ],
          "scattercarpet": [
           {
            "marker": {
             "colorbar": {
              "outlinewidth": 0,
              "ticks": ""
             }
            },
            "type": "scattercarpet"
           }
          ],
          "scattergeo": [
           {
            "marker": {
             "colorbar": {
              "outlinewidth": 0,
              "ticks": ""
             }
            },
            "type": "scattergeo"
           }
          ],
          "scattergl": [
           {
            "marker": {
             "colorbar": {
              "outlinewidth": 0,
              "ticks": ""
             }
            },
            "type": "scattergl"
           }
          ],
          "scattermapbox": [
           {
            "marker": {
             "colorbar": {
              "outlinewidth": 0,
              "ticks": ""
             }
            },
            "type": "scattermapbox"
           }
          ],
          "scatterpolar": [
           {
            "marker": {
             "colorbar": {
              "outlinewidth": 0,
              "ticks": ""
             }
            },
            "type": "scatterpolar"
           }
          ],
          "scatterpolargl": [
           {
            "marker": {
             "colorbar": {
              "outlinewidth": 0,
              "ticks": ""
             }
            },
            "type": "scatterpolargl"
           }
          ],
          "scatterternary": [
           {
            "marker": {
             "colorbar": {
              "outlinewidth": 0,
              "ticks": ""
             }
            },
            "type": "scatterternary"
           }
          ],
          "surface": [
           {
            "colorbar": {
             "outlinewidth": 0,
             "ticks": ""
            },
            "colorscale": [
             [
              0,
              "#0d0887"
             ],
             [
              0.1111111111111111,
              "#46039f"
             ],
             [
              0.2222222222222222,
              "#7201a8"
             ],
             [
              0.3333333333333333,
              "#9c179e"
             ],
             [
              0.4444444444444444,
              "#bd3786"
             ],
             [
              0.5555555555555556,
              "#d8576b"
             ],
             [
              0.6666666666666666,
              "#ed7953"
             ],
             [
              0.7777777777777778,
              "#fb9f3a"
             ],
             [
              0.8888888888888888,
              "#fdca26"
             ],
             [
              1,
              "#f0f921"
             ]
            ],
            "type": "surface"
           }
          ],
          "table": [
           {
            "cells": {
             "fill": {
              "color": "#EBF0F8"
             },
             "line": {
              "color": "white"
             }
            },
            "header": {
             "fill": {
              "color": "#C8D4E3"
             },
             "line": {
              "color": "white"
             }
            },
            "type": "table"
           }
          ]
         },
         "layout": {
          "annotationdefaults": {
           "arrowcolor": "#2a3f5f",
           "arrowhead": 0,
           "arrowwidth": 1
          },
          "autotypenumbers": "strict",
          "coloraxis": {
           "colorbar": {
            "outlinewidth": 0,
            "ticks": ""
           }
          },
          "colorscale": {
           "diverging": [
            [
             0,
             "#8e0152"
            ],
            [
             0.1,
             "#c51b7d"
            ],
            [
             0.2,
             "#de77ae"
            ],
            [
             0.3,
             "#f1b6da"
            ],
            [
             0.4,
             "#fde0ef"
            ],
            [
             0.5,
             "#f7f7f7"
            ],
            [
             0.6,
             "#e6f5d0"
            ],
            [
             0.7,
             "#b8e186"
            ],
            [
             0.8,
             "#7fbc41"
            ],
            [
             0.9,
             "#4d9221"
            ],
            [
             1,
             "#276419"
            ]
           ],
           "sequential": [
            [
             0,
             "#0d0887"
            ],
            [
             0.1111111111111111,
             "#46039f"
            ],
            [
             0.2222222222222222,
             "#7201a8"
            ],
            [
             0.3333333333333333,
             "#9c179e"
            ],
            [
             0.4444444444444444,
             "#bd3786"
            ],
            [
             0.5555555555555556,
             "#d8576b"
            ],
            [
             0.6666666666666666,
             "#ed7953"
            ],
            [
             0.7777777777777778,
             "#fb9f3a"
            ],
            [
             0.8888888888888888,
             "#fdca26"
            ],
            [
             1,
             "#f0f921"
            ]
           ],
           "sequentialminus": [
            [
             0,
             "#0d0887"
            ],
            [
             0.1111111111111111,
             "#46039f"
            ],
            [
             0.2222222222222222,
             "#7201a8"
            ],
            [
             0.3333333333333333,
             "#9c179e"
            ],
            [
             0.4444444444444444,
             "#bd3786"
            ],
            [
             0.5555555555555556,
             "#d8576b"
            ],
            [
             0.6666666666666666,
             "#ed7953"
            ],
            [
             0.7777777777777778,
             "#fb9f3a"
            ],
            [
             0.8888888888888888,
             "#fdca26"
            ],
            [
             1,
             "#f0f921"
            ]
           ]
          },
          "colorway": [
           "#636efa",
           "#EF553B",
           "#00cc96",
           "#ab63fa",
           "#FFA15A",
           "#19d3f3",
           "#FF6692",
           "#B6E880",
           "#FF97FF",
           "#FECB52"
          ],
          "font": {
           "color": "#2a3f5f"
          },
          "geo": {
           "bgcolor": "white",
           "lakecolor": "white",
           "landcolor": "#E5ECF6",
           "showlakes": true,
           "showland": true,
           "subunitcolor": "white"
          },
          "hoverlabel": {
           "align": "left"
          },
          "hovermode": "closest",
          "mapbox": {
           "style": "light"
          },
          "paper_bgcolor": "white",
          "plot_bgcolor": "#E5ECF6",
          "polar": {
           "angularaxis": {
            "gridcolor": "white",
            "linecolor": "white",
            "ticks": ""
           },
           "bgcolor": "#E5ECF6",
           "radialaxis": {
            "gridcolor": "white",
            "linecolor": "white",
            "ticks": ""
           }
          },
          "scene": {
           "xaxis": {
            "backgroundcolor": "#E5ECF6",
            "gridcolor": "white",
            "gridwidth": 2,
            "linecolor": "white",
            "showbackground": true,
            "ticks": "",
            "zerolinecolor": "white"
           },
           "yaxis": {
            "backgroundcolor": "#E5ECF6",
            "gridcolor": "white",
            "gridwidth": 2,
            "linecolor": "white",
            "showbackground": true,
            "ticks": "",
            "zerolinecolor": "white"
           },
           "zaxis": {
            "backgroundcolor": "#E5ECF6",
            "gridcolor": "white",
            "gridwidth": 2,
            "linecolor": "white",
            "showbackground": true,
            "ticks": "",
            "zerolinecolor": "white"
           }
          },
          "shapedefaults": {
           "line": {
            "color": "#2a3f5f"
           }
          },
          "ternary": {
           "aaxis": {
            "gridcolor": "white",
            "linecolor": "white",
            "ticks": ""
           },
           "baxis": {
            "gridcolor": "white",
            "linecolor": "white",
            "ticks": ""
           },
           "bgcolor": "#E5ECF6",
           "caxis": {
            "gridcolor": "white",
            "linecolor": "white",
            "ticks": ""
           }
          },
          "title": {
           "x": 0.05
          },
          "xaxis": {
           "automargin": true,
           "gridcolor": "white",
           "linecolor": "white",
           "ticks": "",
           "title": {
            "standoff": 15
           },
           "zerolinecolor": "white",
           "zerolinewidth": 2
          },
          "yaxis": {
           "automargin": true,
           "gridcolor": "white",
           "linecolor": "white",
           "ticks": "",
           "title": {
            "standoff": 15
           },
           "zerolinecolor": "white",
           "zerolinewidth": 2
          }
         }
        },
        "title": {
         "text": "Topic Predictions Distribution per Document"
        },
        "xaxis": {
         "title": {
          "text": "Topic Prediction"
         }
        },
        "yaxis": {
         "title": {
          "text": "Document ID"
         }
        }
       }
      },
      "text/html": [
       "<div>                            <div id=\"b95cb6b2-5bf1-4f11-8e5c-583bff5b6a99\" class=\"plotly-graph-div\" style=\"height:600px; width:100%;\"></div>            <script type=\"text/javascript\">                require([\"plotly\"], function(Plotly) {                    window.PLOTLYENV=window.PLOTLYENV || {};                                    if (document.getElementById(\"b95cb6b2-5bf1-4f11-8e5c-583bff5b6a99\")) {                    Plotly.newPlot(                        \"b95cb6b2-5bf1-4f11-8e5c-583bff5b6a99\",                        [{\"colorscale\":[[0.0,\"#440154\"],[0.1111111111111111,\"#482878\"],[0.2222222222222222,\"#3e4989\"],[0.3333333333333333,\"#31688e\"],[0.4444444444444444,\"#26828e\"],[0.5555555555555556,\"#1f9e89\"],[0.6666666666666666,\"#35b779\"],[0.7777777777777778,\"#6ece58\"],[0.8888888888888888,\"#b5de2b\"],[1.0,\"#fde725\"]],\"x\":[\"0\",\"1\",\"2\",\"3\",\"4\",\"5\",\"6\",\"7\",\"8\",\"9\"],\"y\":[\"0009700110\",\"0013600101\",\"0081300106\",\"0081300108\",\"0089000603\",\"0227200600\",\"0345601400\",\"0370900702\",\"0439700100\",\"0489400101\",\"0531700902\",\"0660101902\",\"0747100900\",\"0747901100\",\"0865100502\",\"1332301200\",\"1395501300\",\"1604401400\",\"1604700300\",\"1678300300\"],\"z\":[[0.08656716417910448,0.2298507462686567,0.2835820895522388,0.07462686567164178,0.026865671641791045,0.14626865671641792,0.0,0.11641791044776119,0.008955223880597015,0.026865671641791045],[0.11441647597254005,0.30434782608695654,0.20137299771167047,0.02517162471395881,0.029748283752860413,0.029748283752860413,0.002288329519450801,0.19221967963386727,0.0,0.10068649885583524],[0.045454545454545456,0.4166666666666667,0.10416666666666667,0.08143939393939394,0.017045454545454544,0.07007575757575757,0.011363636363636364,0.16856060606060605,0.013257575757575758,0.07196969696969698],[0.045454545454545456,0.41919191919191917,0.05303030303030303,0.17424242424242425,0.0,0.11616161616161616,0.015151515151515152,0.08838383838383838,0.017676767676767676,0.0707070707070707],[0.017341040462427744,0.32947976878612717,0.0,0.44508670520231214,0.0,0.10982658959537572,0.0,0.06936416184971098,0.0,0.028901734104046242],[0.0,0.6003616636528029,0.0,0.0,0.0,0.0,0.0,0.3990355635925256,0.0,0.0006027727546714888],[0.08205128205128205,0.3282051282051282,0.03076923076923077,0.3282051282051282,0.010256410256410256,0.1282051282051282,0.010256410256410256,0.05641025641025641,0.0,0.02564102564102564],[0.11127167630057803,0.2832369942196532,0.23265895953757226,0.01300578034682081,0.005780346820809248,0.10982658959537572,0.008670520231213872,0.14595375722543352,0.02745664739884393,0.06213872832369942],[0.047664442326024785,0.24880838894184937,0.18207816968541468,0.0438512869399428,0.025738798856053385,0.08293612964728313,0.03908484270734033,0.13536701620591038,0.09151572926596759,0.10295519542421354],[0.060678882547311505,0.2590117152297987,0.020276359267047163,0.00015019525382997898,0.06818864523881045,0.0045058576148993695,0.007810153199158907,0.08170621808350856,0.011114448783418444,0.48655752478221687],[0.057649667405764965,0.37250554323725055,0.25277161862527714,0.0,0.05321507760532151,0.0022172949002217295,0.04212860310421286,0.1729490022172949,0.011086474501108648,0.03547671840354767],[0.06157635467980296,0.458128078817734,0.12315270935960591,0.0665024630541872,0.017241379310344827,0.03694581280788178,0.0024630541871921183,0.2044334975369458,0.0,0.029556650246305417],[0.04059040590405904,0.3025830258302583,0.007380073800738007,0.4059040590405904,0.0,0.09225092250922509,0.007380073800738007,0.14391143911439114,0.0,0.0],[0.022058823529411766,0.33088235294117646,0.029411764705882353,0.3382352941176471,0.007352941176470588,0.11764705882352941,0.0,0.051470588235294115,0.0,0.10294117647058823],[0.03854389721627409,0.5010706638115632,0.1948608137044968,0.010706638115631691,0.0,0.006423982869379015,0.01284796573875803,0.20342612419700215,0.0021413276231263384,0.029978586723768737],[0.013824884792626729,0.29493087557603687,0.013824884792626729,0.24423963133640553,0.004608294930875576,0.25806451612903225,0.009216589861751152,0.07373271889400922,0.013824884792626729,0.07373271889400922],[0.016666666666666666,0.31666666666666665,0.05,0.3333333333333333,0.0,0.18333333333333332,0.0,0.016666666666666666,0.0,0.08333333333333333],[0.00539568345323741,0.13489208633093525,0.0035971223021582736,0.04316546762589928,0.0017985611510791368,0.7643884892086331,0.0017985611510791368,0.030575539568345324,0.0,0.014388489208633094],[0.07874015748031496,0.11220472440944881,0.02952755905511811,0.0,0.484251968503937,0.05708661417322835,0.007874015748031496,0.12598425196850394,0.09251968503937008,0.011811023622047244],[0.0,0.1935483870967742,0.0,0.0,0.06451612903225806,0.4838709677419355,0.06451612903225806,0.0967741935483871,0.06451612903225806,0.03225806451612903]],\"type\":\"heatmap\"}],                        {\"template\":{\"data\":{\"histogram2dcontour\":[{\"type\":\"histogram2dcontour\",\"colorbar\":{\"outlinewidth\":0,\"ticks\":\"\"},\"colorscale\":[[0.0,\"#0d0887\"],[0.1111111111111111,\"#46039f\"],[0.2222222222222222,\"#7201a8\"],[0.3333333333333333,\"#9c179e\"],[0.4444444444444444,\"#bd3786\"],[0.5555555555555556,\"#d8576b\"],[0.6666666666666666,\"#ed7953\"],[0.7777777777777778,\"#fb9f3a\"],[0.8888888888888888,\"#fdca26\"],[1.0,\"#f0f921\"]]}],\"choropleth\":[{\"type\":\"choropleth\",\"colorbar\":{\"outlinewidth\":0,\"ticks\":\"\"}}],\"histogram2d\":[{\"type\":\"histogram2d\",\"colorbar\":{\"outlinewidth\":0,\"ticks\":\"\"},\"colorscale\":[[0.0,\"#0d0887\"],[0.1111111111111111,\"#46039f\"],[0.2222222222222222,\"#7201a8\"],[0.3333333333333333,\"#9c179e\"],[0.4444444444444444,\"#bd3786\"],[0.5555555555555556,\"#d8576b\"],[0.6666666666666666,\"#ed7953\"],[0.7777777777777778,\"#fb9f3a\"],[0.8888888888888888,\"#fdca26\"],[1.0,\"#f0f921\"]]}],\"heatmap\":[{\"type\":\"heatmap\",\"colorbar\":{\"outlinewidth\":0,\"ticks\":\"\"},\"colorscale\":[[0.0,\"#0d0887\"],[0.1111111111111111,\"#46039f\"],[0.2222222222222222,\"#7201a8\"],[0.3333333333333333,\"#9c179e\"],[0.4444444444444444,\"#bd3786\"],[0.5555555555555556,\"#d8576b\"],[0.6666666666666666,\"#ed7953\"],[0.7777777777777778,\"#fb9f3a\"],[0.8888888888888888,\"#fdca26\"],[1.0,\"#f0f921\"]]}],\"heatmapgl\":[{\"type\":\"heatmapgl\",\"colorbar\":{\"outlinewidth\":0,\"ticks\":\"\"},\"colorscale\":[[0.0,\"#0d0887\"],[0.1111111111111111,\"#46039f\"],[0.2222222222222222,\"#7201a8\"],[0.3333333333333333,\"#9c179e\"],[0.4444444444444444,\"#bd3786\"],[0.5555555555555556,\"#d8576b\"],[0.6666666666666666,\"#ed7953\"],[0.7777777777777778,\"#fb9f3a\"],[0.8888888888888888,\"#fdca26\"],[1.0,\"#f0f921\"]]}],\"contourcarpet\":[{\"type\":\"contourcarpet\",\"colorbar\":{\"outlinewidth\":0,\"ticks\":\"\"}}],\"contour\":[{\"type\":\"contour\",\"colorbar\":{\"outlinewidth\":0,\"ticks\":\"\"},\"colorscale\":[[0.0,\"#0d0887\"],[0.1111111111111111,\"#46039f\"],[0.2222222222222222,\"#7201a8\"],[0.3333333333333333,\"#9c179e\"],[0.4444444444444444,\"#bd3786\"],[0.5555555555555556,\"#d8576b\"],[0.6666666666666666,\"#ed7953\"],[0.7777777777777778,\"#fb9f3a\"],[0.8888888888888888,\"#fdca26\"],[1.0,\"#f0f921\"]]}],\"surface\":[{\"type\":\"surface\",\"colorbar\":{\"outlinewidth\":0,\"ticks\":\"\"},\"colorscale\":[[0.0,\"#0d0887\"],[0.1111111111111111,\"#46039f\"],[0.2222222222222222,\"#7201a8\"],[0.3333333333333333,\"#9c179e\"],[0.4444444444444444,\"#bd3786\"],[0.5555555555555556,\"#d8576b\"],[0.6666666666666666,\"#ed7953\"],[0.7777777777777778,\"#fb9f3a\"],[0.8888888888888888,\"#fdca26\"],[1.0,\"#f0f921\"]]}],\"mesh3d\":[{\"type\":\"mesh3d\",\"colorbar\":{\"outlinewidth\":0,\"ticks\":\"\"}}],\"scatter\":[{\"fillpattern\":{\"fillmode\":\"overlay\",\"size\":10,\"solidity\":0.2},\"type\":\"scatter\"}],\"parcoords\":[{\"type\":\"parcoords\",\"line\":{\"colorbar\":{\"outlinewidth\":0,\"ticks\":\"\"}}}],\"scatterpolargl\":[{\"type\":\"scatterpolargl\",\"marker\":{\"colorbar\":{\"outlinewidth\":0,\"ticks\":\"\"}}}],\"bar\":[{\"error_x\":{\"color\":\"#2a3f5f\"},\"error_y\":{\"color\":\"#2a3f5f\"},\"marker\":{\"line\":{\"color\":\"#E5ECF6\",\"width\":0.5},\"pattern\":{\"fillmode\":\"overlay\",\"size\":10,\"solidity\":0.2}},\"type\":\"bar\"}],\"scattergeo\":[{\"type\":\"scattergeo\",\"marker\":{\"colorbar\":{\"outlinewidth\":0,\"ticks\":\"\"}}}],\"scatterpolar\":[{\"type\":\"scatterpolar\",\"marker\":{\"colorbar\":{\"outlinewidth\":0,\"ticks\":\"\"}}}],\"histogram\":[{\"marker\":{\"pattern\":{\"fillmode\":\"overlay\",\"size\":10,\"solidity\":0.2}},\"type\":\"histogram\"}],\"scattergl\":[{\"type\":\"scattergl\",\"marker\":{\"colorbar\":{\"outlinewidth\":0,\"ticks\":\"\"}}}],\"scatter3d\":[{\"type\":\"scatter3d\",\"line\":{\"colorbar\":{\"outlinewidth\":0,\"ticks\":\"\"}},\"marker\":{\"colorbar\":{\"outlinewidth\":0,\"ticks\":\"\"}}}],\"scattermapbox\":[{\"type\":\"scattermapbox\",\"marker\":{\"colorbar\":{\"outlinewidth\":0,\"ticks\":\"\"}}}],\"scatterternary\":[{\"type\":\"scatterternary\",\"marker\":{\"colorbar\":{\"outlinewidth\":0,\"ticks\":\"\"}}}],\"scattercarpet\":[{\"type\":\"scattercarpet\",\"marker\":{\"colorbar\":{\"outlinewidth\":0,\"ticks\":\"\"}}}],\"carpet\":[{\"aaxis\":{\"endlinecolor\":\"#2a3f5f\",\"gridcolor\":\"white\",\"linecolor\":\"white\",\"minorgridcolor\":\"white\",\"startlinecolor\":\"#2a3f5f\"},\"baxis\":{\"endlinecolor\":\"#2a3f5f\",\"gridcolor\":\"white\",\"linecolor\":\"white\",\"minorgridcolor\":\"white\",\"startlinecolor\":\"#2a3f5f\"},\"type\":\"carpet\"}],\"table\":[{\"cells\":{\"fill\":{\"color\":\"#EBF0F8\"},\"line\":{\"color\":\"white\"}},\"header\":{\"fill\":{\"color\":\"#C8D4E3\"},\"line\":{\"color\":\"white\"}},\"type\":\"table\"}],\"barpolar\":[{\"marker\":{\"line\":{\"color\":\"#E5ECF6\",\"width\":0.5},\"pattern\":{\"fillmode\":\"overlay\",\"size\":10,\"solidity\":0.2}},\"type\":\"barpolar\"}],\"pie\":[{\"automargin\":true,\"type\":\"pie\"}]},\"layout\":{\"autotypenumbers\":\"strict\",\"colorway\":[\"#636efa\",\"#EF553B\",\"#00cc96\",\"#ab63fa\",\"#FFA15A\",\"#19d3f3\",\"#FF6692\",\"#B6E880\",\"#FF97FF\",\"#FECB52\"],\"font\":{\"color\":\"#2a3f5f\"},\"hovermode\":\"closest\",\"hoverlabel\":{\"align\":\"left\"},\"paper_bgcolor\":\"white\",\"plot_bgcolor\":\"#E5ECF6\",\"polar\":{\"bgcolor\":\"#E5ECF6\",\"angularaxis\":{\"gridcolor\":\"white\",\"linecolor\":\"white\",\"ticks\":\"\"},\"radialaxis\":{\"gridcolor\":\"white\",\"linecolor\":\"white\",\"ticks\":\"\"}},\"ternary\":{\"bgcolor\":\"#E5ECF6\",\"aaxis\":{\"gridcolor\":\"white\",\"linecolor\":\"white\",\"ticks\":\"\"},\"baxis\":{\"gridcolor\":\"white\",\"linecolor\":\"white\",\"ticks\":\"\"},\"caxis\":{\"gridcolor\":\"white\",\"linecolor\":\"white\",\"ticks\":\"\"}},\"coloraxis\":{\"colorbar\":{\"outlinewidth\":0,\"ticks\":\"\"}},\"colorscale\":{\"sequential\":[[0.0,\"#0d0887\"],[0.1111111111111111,\"#46039f\"],[0.2222222222222222,\"#7201a8\"],[0.3333333333333333,\"#9c179e\"],[0.4444444444444444,\"#bd3786\"],[0.5555555555555556,\"#d8576b\"],[0.6666666666666666,\"#ed7953\"],[0.7777777777777778,\"#fb9f3a\"],[0.8888888888888888,\"#fdca26\"],[1.0,\"#f0f921\"]],\"sequentialminus\":[[0.0,\"#0d0887\"],[0.1111111111111111,\"#46039f\"],[0.2222222222222222,\"#7201a8\"],[0.3333333333333333,\"#9c179e\"],[0.4444444444444444,\"#bd3786\"],[0.5555555555555556,\"#d8576b\"],[0.6666666666666666,\"#ed7953\"],[0.7777777777777778,\"#fb9f3a\"],[0.8888888888888888,\"#fdca26\"],[1.0,\"#f0f921\"]],\"diverging\":[[0,\"#8e0152\"],[0.1,\"#c51b7d\"],[0.2,\"#de77ae\"],[0.3,\"#f1b6da\"],[0.4,\"#fde0ef\"],[0.5,\"#f7f7f7\"],[0.6,\"#e6f5d0\"],[0.7,\"#b8e186\"],[0.8,\"#7fbc41\"],[0.9,\"#4d9221\"],[1,\"#276419\"]]},\"xaxis\":{\"gridcolor\":\"white\",\"linecolor\":\"white\",\"ticks\":\"\",\"title\":{\"standoff\":15},\"zerolinecolor\":\"white\",\"automargin\":true,\"zerolinewidth\":2},\"yaxis\":{\"gridcolor\":\"white\",\"linecolor\":\"white\",\"ticks\":\"\",\"title\":{\"standoff\":15},\"zerolinecolor\":\"white\",\"automargin\":true,\"zerolinewidth\":2},\"scene\":{\"xaxis\":{\"backgroundcolor\":\"#E5ECF6\",\"gridcolor\":\"white\",\"linecolor\":\"white\",\"showbackground\":true,\"ticks\":\"\",\"zerolinecolor\":\"white\",\"gridwidth\":2},\"yaxis\":{\"backgroundcolor\":\"#E5ECF6\",\"gridcolor\":\"white\",\"linecolor\":\"white\",\"showbackground\":true,\"ticks\":\"\",\"zerolinecolor\":\"white\",\"gridwidth\":2},\"zaxis\":{\"backgroundcolor\":\"#E5ECF6\",\"gridcolor\":\"white\",\"linecolor\":\"white\",\"showbackground\":true,\"ticks\":\"\",\"zerolinecolor\":\"white\",\"gridwidth\":2}},\"shapedefaults\":{\"line\":{\"color\":\"#2a3f5f\"}},\"annotationdefaults\":{\"arrowcolor\":\"#2a3f5f\",\"arrowhead\":0,\"arrowwidth\":1},\"geo\":{\"bgcolor\":\"white\",\"landcolor\":\"#E5ECF6\",\"subunitcolor\":\"white\",\"showland\":true,\"showlakes\":true,\"lakecolor\":\"white\"},\"title\":{\"x\":0.05},\"mapbox\":{\"style\":\"light\"}}},\"title\":{\"text\":\"Topic Predictions Distribution per Document\"},\"xaxis\":{\"title\":{\"text\":\"Topic Prediction\"}},\"yaxis\":{\"title\":{\"text\":\"Document ID\"}},\"height\":600},                        {\"responsive\": true}                    ).then(function(){\n",
       "                            \n",
       "var gd = document.getElementById('b95cb6b2-5bf1-4f11-8e5c-583bff5b6a99');\n",
       "var x = new MutationObserver(function (mutations, observer) {{\n",
       "        var display = window.getComputedStyle(gd).display;\n",
       "        if (!display || display === 'none') {{\n",
       "            console.log([gd, 'removed!']);\n",
       "            Plotly.purge(gd);\n",
       "            observer.disconnect();\n",
       "        }}\n",
       "}});\n",
       "\n",
       "// Listen for the removal of the full notebook cells\n",
       "var notebookContainer = gd.closest('#notebook-container');\n",
       "if (notebookContainer) {{\n",
       "    x.observe(notebookContainer, {childList: true});\n",
       "}}\n",
       "\n",
       "// Listen for the clearing of the current output cell\n",
       "var outputEl = gd.closest('.output');\n",
       "if (outputEl) {{\n",
       "    x.observe(outputEl, {childList: true});\n",
       "}}\n",
       "\n",
       "                        })                };                });            </script>        </div>"
      ]
     },
     "metadata": {},
     "output_type": "display_data"
    }
   ],
   "source": [
    "import plotly.graph_objs as go\n",
    "\n",
    "# Pivot the dataframe to have document_id as rows, Topic Prediction as columns, and Proportion as values\n",
    "heatmap_data = df_merged.pivot(index='document_id', columns='Topic Prediction', values='Proportion')\n",
    "heatmap_data = heatmap_data.fillna(0)  # Fill NaN values with 0\n",
    "\n",
    "fig = go.Figure(go.Heatmap(\n",
    "    z=heatmap_data.values,\n",
    "    x=heatmap_data.columns,\n",
    "    y=heatmap_data.index,\n",
    "    colorscale='Viridis',\n",
    "))\n",
    "\n",
    "fig.update_layout(\n",
    "    title='Topic Predictions Distribution per Document',\n",
    "    xaxis_title='Topic Prediction',\n",
    "    yaxis_title='Document ID',\n",
    "    height=600\n",
    ")\n",
    "\n",
    "fig.show()"
   ]
  },
  {
   "cell_type": "code",
   "execution_count": null,
   "id": "57cc02f1",
   "metadata": {},
   "outputs": [],
   "source": []
  }
 ],
 "metadata": {
  "kernelspec": {
   "display_name": "Python 3 (ipykernel)",
   "language": "python",
   "name": "python3"
  },
  "language_info": {
   "codemirror_mode": {
    "name": "ipython",
    "version": 3
   },
   "file_extension": ".py",
   "mimetype": "text/x-python",
   "name": "python",
   "nbconvert_exporter": "python",
   "pygments_lexer": "ipython3",
   "version": "3.10.9"
  }
 },
 "nbformat": 4,
 "nbformat_minor": 5
}
