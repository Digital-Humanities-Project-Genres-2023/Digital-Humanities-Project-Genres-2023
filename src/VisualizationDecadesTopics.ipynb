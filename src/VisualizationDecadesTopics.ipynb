{
 "cells": [
  {
   "cell_type": "markdown",
   "id": "e45a3ab0",
   "metadata": {},
   "source": [
    "# Load Libraries"
   ]
  },
  {
   "cell_type": "code",
   "execution_count": 1,
   "id": "adc83272",
   "metadata": {
    "tags": []
   },
   "outputs": [],
   "source": [
    "import pickle\n",
    "import pandas as pd\n",
    "import numpy as np\n",
    "import sys\n",
    "import os"
   ]
  },
  {
   "cell_type": "code",
   "execution_count": 2,
   "id": "c8f4f092",
   "metadata": {},
   "outputs": [
    {
     "name": "stdout",
     "output_type": "stream",
     "text": [
      "Defaulting to user installation because normal site-packages is not writeable\n",
      "Requirement already satisfied: contextualized-topic-models in /users/sebarodr/.local/lib/python3.10/site-packages (2.5.0)\n",
      "Requirement already satisfied: tqdm>=4.56.0 in /CSC_CONTAINER/miniconda/envs/env1/lib/python3.10/site-packages (from contextualized-topic-models) (4.65.0)\n",
      "Requirement already satisfied: torch>=1.6.0 in /users/sebarodr/.local/lib/python3.10/site-packages (from contextualized-topic-models) (2.0.0)\n",
      "Requirement already satisfied: matplotlib>=3.1.3 in /CSC_CONTAINER/miniconda/envs/env1/lib/python3.10/site-packages (from contextualized-topic-models) (3.7.1)\n",
      "Requirement already satisfied: wordcloud>=1.8.1 in /users/sebarodr/.local/lib/python3.10/site-packages (from contextualized-topic-models) (1.8.2.2)\n",
      "Requirement already satisfied: numpy>=1.19.1 in /CSC_CONTAINER/miniconda/envs/env1/lib/python3.10/site-packages (from contextualized-topic-models) (1.23.5)\n",
      "Requirement already satisfied: scipy>=1.4.1 in /CSC_CONTAINER/miniconda/envs/env1/lib/python3.10/site-packages (from contextualized-topic-models) (1.10.1)\n",
      "Requirement already satisfied: torchvision>=0.7.0 in /users/sebarodr/.local/lib/python3.10/site-packages (from contextualized-topic-models) (0.15.1)\n",
      "Requirement already satisfied: gensim==4.2.0 in /users/sebarodr/.local/lib/python3.10/site-packages (from contextualized-topic-models) (4.2.0)\n",
      "Requirement already satisfied: ipywidgets==7.5.1 in /users/sebarodr/.local/lib/python3.10/site-packages (from contextualized-topic-models) (7.5.1)\n",
      "Requirement already satisfied: sentence-transformers>=2.1.1 in /users/sebarodr/.local/lib/python3.10/site-packages (from contextualized-topic-models) (2.2.2)\n",
      "Requirement already satisfied: ipython==8.10.0 in /users/sebarodr/.local/lib/python3.10/site-packages (from contextualized-topic-models) (8.10.0)\n",
      "Requirement already satisfied: smart-open>=1.8.1 in /users/sebarodr/.local/lib/python3.10/site-packages (from gensim==4.2.0->contextualized-topic-models) (6.3.0)\n",
      "Requirement already satisfied: jedi>=0.16 in /users/sebarodr/.local/lib/python3.10/site-packages (from ipython==8.10.0->contextualized-topic-models) (0.17.2)\n",
      "Requirement already satisfied: stack-data in /CSC_CONTAINER/miniconda/envs/env1/lib/python3.10/site-packages (from ipython==8.10.0->contextualized-topic-models) (0.6.2)\n",
      "Requirement already satisfied: pygments>=2.4.0 in /CSC_CONTAINER/miniconda/envs/env1/lib/python3.10/site-packages (from ipython==8.10.0->contextualized-topic-models) (2.14.0)\n",
      "Requirement already satisfied: matplotlib-inline in /CSC_CONTAINER/miniconda/envs/env1/lib/python3.10/site-packages (from ipython==8.10.0->contextualized-topic-models) (0.1.6)\n",
      "Requirement already satisfied: pexpect>4.3 in /CSC_CONTAINER/miniconda/envs/env1/lib/python3.10/site-packages (from ipython==8.10.0->contextualized-topic-models) (4.8.0)\n",
      "Requirement already satisfied: pickleshare in /CSC_CONTAINER/miniconda/envs/env1/lib/python3.10/site-packages (from ipython==8.10.0->contextualized-topic-models) (0.7.5)\n",
      "Requirement already satisfied: decorator in /CSC_CONTAINER/miniconda/envs/env1/lib/python3.10/site-packages (from ipython==8.10.0->contextualized-topic-models) (5.1.1)\n",
      "Requirement already satisfied: traitlets>=5 in /CSC_CONTAINER/miniconda/envs/env1/lib/python3.10/site-packages (from ipython==8.10.0->contextualized-topic-models) (5.9.0)\n",
      "Requirement already satisfied: prompt-toolkit<3.1.0,>=3.0.30 in /CSC_CONTAINER/miniconda/envs/env1/lib/python3.10/site-packages (from ipython==8.10.0->contextualized-topic-models) (3.0.38)\n",
      "Requirement already satisfied: backcall in /CSC_CONTAINER/miniconda/envs/env1/lib/python3.10/site-packages (from ipython==8.10.0->contextualized-topic-models) (0.2.0)\n",
      "Requirement already satisfied: widgetsnbextension~=3.5.0 in /users/sebarodr/.local/lib/python3.10/site-packages (from ipywidgets==7.5.1->contextualized-topic-models) (3.5.2)\n",
      "Requirement already satisfied: nbformat>=4.2.0 in /CSC_CONTAINER/miniconda/envs/env1/lib/python3.10/site-packages (from ipywidgets==7.5.1->contextualized-topic-models) (5.7.0)\n",
      "Requirement already satisfied: ipykernel>=4.5.1 in /users/sebarodr/.local/lib/python3.10/site-packages (from ipywidgets==7.5.1->contextualized-topic-models) (5.5.6)\n",
      "Requirement already satisfied: contourpy>=1.0.1 in /CSC_CONTAINER/miniconda/envs/env1/lib/python3.10/site-packages (from matplotlib>=3.1.3->contextualized-topic-models) (1.0.7)\n",
      "Requirement already satisfied: cycler>=0.10 in /CSC_CONTAINER/miniconda/envs/env1/lib/python3.10/site-packages (from matplotlib>=3.1.3->contextualized-topic-models) (0.11.0)\n",
      "Requirement already satisfied: packaging>=20.0 in /CSC_CONTAINER/miniconda/envs/env1/lib/python3.10/site-packages (from matplotlib>=3.1.3->contextualized-topic-models) (23.0)\n",
      "Requirement already satisfied: python-dateutil>=2.7 in /CSC_CONTAINER/miniconda/envs/env1/lib/python3.10/site-packages (from matplotlib>=3.1.3->contextualized-topic-models) (2.8.2)\n",
      "Requirement already satisfied: pillow>=6.2.0 in /CSC_CONTAINER/miniconda/envs/env1/lib/python3.10/site-packages (from matplotlib>=3.1.3->contextualized-topic-models) (9.4.0)\n",
      "Requirement already satisfied: kiwisolver>=1.0.1 in /CSC_CONTAINER/miniconda/envs/env1/lib/python3.10/site-packages (from matplotlib>=3.1.3->contextualized-topic-models) (1.4.4)\n",
      "Requirement already satisfied: fonttools>=4.22.0 in /CSC_CONTAINER/miniconda/envs/env1/lib/python3.10/site-packages (from matplotlib>=3.1.3->contextualized-topic-models) (4.39.0)\n",
      "Requirement already satisfied: pyparsing>=2.3.1 in /CSC_CONTAINER/miniconda/envs/env1/lib/python3.10/site-packages (from matplotlib>=3.1.3->contextualized-topic-models) (3.0.9)\n",
      "Requirement already satisfied: huggingface-hub>=0.4.0 in /users/sebarodr/.local/lib/python3.10/site-packages (from sentence-transformers>=2.1.1->contextualized-topic-models) (0.13.3)\n",
      "Requirement already satisfied: sentencepiece in /users/sebarodr/.local/lib/python3.10/site-packages (from sentence-transformers>=2.1.1->contextualized-topic-models) (0.1.97)\n",
      "Requirement already satisfied: nltk in /users/sebarodr/.local/lib/python3.10/site-packages (from sentence-transformers>=2.1.1->contextualized-topic-models) (3.8.1)\n",
      "Requirement already satisfied: transformers<5.0.0,>=4.6.0 in /users/sebarodr/.local/lib/python3.10/site-packages (from sentence-transformers>=2.1.1->contextualized-topic-models) (4.27.4)\n",
      "Requirement already satisfied: scikit-learn in /CSC_CONTAINER/miniconda/envs/env1/lib/python3.10/site-packages (from sentence-transformers>=2.1.1->contextualized-topic-models) (1.2.2)\n",
      "Requirement already satisfied: nvidia-nccl-cu11==2.14.3 in /users/sebarodr/.local/lib/python3.10/site-packages (from torch>=1.6.0->contextualized-topic-models) (2.14.3)\n",
      "Requirement already satisfied: nvidia-cusparse-cu11==11.7.4.91 in /users/sebarodr/.local/lib/python3.10/site-packages (from torch>=1.6.0->contextualized-topic-models) (11.7.4.91)\n",
      "Requirement already satisfied: nvidia-cuda-nvrtc-cu11==11.7.99 in /users/sebarodr/.local/lib/python3.10/site-packages (from torch>=1.6.0->contextualized-topic-models) (11.7.99)\n",
      "Requirement already satisfied: nvidia-cublas-cu11==11.10.3.66 in /users/sebarodr/.local/lib/python3.10/site-packages (from torch>=1.6.0->contextualized-topic-models) (11.10.3.66)\n",
      "Requirement already satisfied: jinja2 in /CSC_CONTAINER/miniconda/envs/env1/lib/python3.10/site-packages (from torch>=1.6.0->contextualized-topic-models) (3.1.2)\n",
      "Requirement already satisfied: nvidia-curand-cu11==10.2.10.91 in /users/sebarodr/.local/lib/python3.10/site-packages (from torch>=1.6.0->contextualized-topic-models) (10.2.10.91)\n",
      "Requirement already satisfied: nvidia-cusolver-cu11==11.4.0.1 in /users/sebarodr/.local/lib/python3.10/site-packages (from torch>=1.6.0->contextualized-topic-models) (11.4.0.1)\n",
      "Requirement already satisfied: nvidia-nvtx-cu11==11.7.91 in /users/sebarodr/.local/lib/python3.10/site-packages (from torch>=1.6.0->contextualized-topic-models) (11.7.91)\n",
      "Requirement already satisfied: networkx in /CSC_CONTAINER/miniconda/envs/env1/lib/python3.10/site-packages (from torch>=1.6.0->contextualized-topic-models) (3.0)\n",
      "Requirement already satisfied: nvidia-cuda-runtime-cu11==11.7.99 in /users/sebarodr/.local/lib/python3.10/site-packages (from torch>=1.6.0->contextualized-topic-models) (11.7.99)\n",
      "Requirement already satisfied: nvidia-cuda-cupti-cu11==11.7.101 in /users/sebarodr/.local/lib/python3.10/site-packages (from torch>=1.6.0->contextualized-topic-models) (11.7.101)\n",
      "Requirement already satisfied: nvidia-cudnn-cu11==8.5.0.96 in /users/sebarodr/.local/lib/python3.10/site-packages (from torch>=1.6.0->contextualized-topic-models) (8.5.0.96)\n",
      "Requirement already satisfied: typing-extensions in /CSC_CONTAINER/miniconda/envs/env1/lib/python3.10/site-packages (from torch>=1.6.0->contextualized-topic-models) (4.5.0)\n",
      "Requirement already satisfied: filelock in /CSC_CONTAINER/miniconda/envs/env1/lib/python3.10/site-packages (from torch>=1.6.0->contextualized-topic-models) (3.10.0)\n",
      "Requirement already satisfied: nvidia-cufft-cu11==10.9.0.58 in /users/sebarodr/.local/lib/python3.10/site-packages (from torch>=1.6.0->contextualized-topic-models) (10.9.0.58)\n",
      "Requirement already satisfied: triton==2.0.0 in /users/sebarodr/.local/lib/python3.10/site-packages (from torch>=1.6.0->contextualized-topic-models) (2.0.0)\n",
      "Requirement already satisfied: sympy in /CSC_CONTAINER/miniconda/envs/env1/lib/python3.10/site-packages (from torch>=1.6.0->contextualized-topic-models) (1.11.1)\n",
      "Requirement already satisfied: setuptools in /CSC_CONTAINER/miniconda/envs/env1/lib/python3.10/site-packages (from nvidia-cublas-cu11==11.10.3.66->torch>=1.6.0->contextualized-topic-models) (67.6.0)\n",
      "Requirement already satisfied: wheel in /CSC_CONTAINER/miniconda/envs/env1/lib/python3.10/site-packages (from nvidia-cublas-cu11==11.10.3.66->torch>=1.6.0->contextualized-topic-models) (0.40.0)\n"
     ]
    },
    {
     "name": "stdout",
     "output_type": "stream",
     "text": [
      "Requirement already satisfied: lit in /users/sebarodr/.local/lib/python3.10/site-packages (from triton==2.0.0->torch>=1.6.0->contextualized-topic-models) (16.0.0)\n",
      "Requirement already satisfied: cmake in /users/sebarodr/.local/lib/python3.10/site-packages (from triton==2.0.0->torch>=1.6.0->contextualized-topic-models) (3.26.1)\n",
      "Requirement already satisfied: requests in /CSC_CONTAINER/miniconda/envs/env1/lib/python3.10/site-packages (from torchvision>=0.7.0->contextualized-topic-models) (2.28.2)\n",
      "Requirement already satisfied: pyyaml>=5.1 in /CSC_CONTAINER/miniconda/envs/env1/lib/python3.10/site-packages (from huggingface-hub>=0.4.0->sentence-transformers>=2.1.1->contextualized-topic-models) (6.0)\n",
      "Requirement already satisfied: tornado>=4.2 in /CSC_CONTAINER/miniconda/envs/env1/lib/python3.10/site-packages (from ipykernel>=4.5.1->ipywidgets==7.5.1->contextualized-topic-models) (6.2)\n",
      "Requirement already satisfied: jupyter-client in /CSC_CONTAINER/miniconda/envs/env1/lib/python3.10/site-packages (from ipykernel>=4.5.1->ipywidgets==7.5.1->contextualized-topic-models) (7.4.9)\n",
      "Requirement already satisfied: ipython-genutils in /CSC_CONTAINER/miniconda/envs/env1/lib/python3.10/site-packages (from ipykernel>=4.5.1->ipywidgets==7.5.1->contextualized-topic-models) (0.2.0)\n",
      "Requirement already satisfied: parso<0.8.0,>=0.7.0 in /users/sebarodr/.local/lib/python3.10/site-packages (from jedi>=0.16->ipython==8.10.0->contextualized-topic-models) (0.7.1)\n",
      "Requirement already satisfied: jupyter-core in /CSC_CONTAINER/miniconda/envs/env1/lib/python3.10/site-packages (from nbformat>=4.2.0->ipywidgets==7.5.1->contextualized-topic-models) (5.2.0)\n",
      "Requirement already satisfied: jsonschema>=2.6 in /CSC_CONTAINER/miniconda/envs/env1/lib/python3.10/site-packages (from nbformat>=4.2.0->ipywidgets==7.5.1->contextualized-topic-models) (4.17.3)\n",
      "Requirement already satisfied: fastjsonschema in /CSC_CONTAINER/miniconda/envs/env1/lib/python3.10/site-packages (from nbformat>=4.2.0->ipywidgets==7.5.1->contextualized-topic-models) (2.16.3)\n",
      "Requirement already satisfied: ptyprocess>=0.5 in /CSC_CONTAINER/miniconda/envs/env1/lib/python3.10/site-packages (from pexpect>4.3->ipython==8.10.0->contextualized-topic-models) (0.7.0)\n",
      "Requirement already satisfied: wcwidth in /CSC_CONTAINER/miniconda/envs/env1/lib/python3.10/site-packages (from prompt-toolkit<3.1.0,>=3.0.30->ipython==8.10.0->contextualized-topic-models) (0.2.6)\n",
      "Requirement already satisfied: six>=1.5 in /CSC_CONTAINER/miniconda/envs/env1/lib/python3.10/site-packages (from python-dateutil>=2.7->matplotlib>=3.1.3->contextualized-topic-models) (1.16.0)\n",
      "Requirement already satisfied: regex!=2019.12.17 in /users/sebarodr/.local/lib/python3.10/site-packages (from transformers<5.0.0,>=4.6.0->sentence-transformers>=2.1.1->contextualized-topic-models) (2022.10.31)\n",
      "Requirement already satisfied: tokenizers!=0.11.3,<0.14,>=0.11.1 in /users/sebarodr/.local/lib/python3.10/site-packages (from transformers<5.0.0,>=4.6.0->sentence-transformers>=2.1.1->contextualized-topic-models) (0.13.3)\n",
      "Requirement already satisfied: notebook>=4.4.1 in /CSC_CONTAINER/miniconda/envs/env1/lib/python3.10/site-packages (from widgetsnbextension~=3.5.0->ipywidgets==7.5.1->contextualized-topic-models) (6.5.3)\n",
      "Requirement already satisfied: MarkupSafe>=2.0 in /CSC_CONTAINER/miniconda/envs/env1/lib/python3.10/site-packages (from jinja2->torch>=1.6.0->contextualized-topic-models) (2.1.2)\n",
      "Requirement already satisfied: click in /CSC_CONTAINER/miniconda/envs/env1/lib/python3.10/site-packages (from nltk->sentence-transformers>=2.1.1->contextualized-topic-models) (8.1.3)\n",
      "Requirement already satisfied: joblib in /CSC_CONTAINER/miniconda/envs/env1/lib/python3.10/site-packages (from nltk->sentence-transformers>=2.1.1->contextualized-topic-models) (1.2.0)\n",
      "Requirement already satisfied: charset-normalizer<4,>=2 in /CSC_CONTAINER/miniconda/envs/env1/lib/python3.10/site-packages (from requests->torchvision>=0.7.0->contextualized-topic-models) (2.1.1)\n",
      "Requirement already satisfied: urllib3<1.27,>=1.21.1 in /CSC_CONTAINER/miniconda/envs/env1/lib/python3.10/site-packages (from requests->torchvision>=0.7.0->contextualized-topic-models) (1.26.15)\n",
      "Requirement already satisfied: certifi>=2017.4.17 in /CSC_CONTAINER/miniconda/envs/env1/lib/python3.10/site-packages (from requests->torchvision>=0.7.0->contextualized-topic-models) (2022.12.7)\n",
      "Requirement already satisfied: idna<4,>=2.5 in /CSC_CONTAINER/miniconda/envs/env1/lib/python3.10/site-packages (from requests->torchvision>=0.7.0->contextualized-topic-models) (3.4)\n",
      "Requirement already satisfied: threadpoolctl>=2.0.0 in /CSC_CONTAINER/miniconda/envs/env1/lib/python3.10/site-packages (from scikit-learn->sentence-transformers>=2.1.1->contextualized-topic-models) (3.1.0)\n",
      "Requirement already satisfied: pure-eval in /CSC_CONTAINER/miniconda/envs/env1/lib/python3.10/site-packages (from stack-data->ipython==8.10.0->contextualized-topic-models) (0.2.2)\n",
      "Requirement already satisfied: executing>=1.2.0 in /CSC_CONTAINER/miniconda/envs/env1/lib/python3.10/site-packages (from stack-data->ipython==8.10.0->contextualized-topic-models) (1.2.0)\n",
      "Requirement already satisfied: asttokens>=2.1.0 in /CSC_CONTAINER/miniconda/envs/env1/lib/python3.10/site-packages (from stack-data->ipython==8.10.0->contextualized-topic-models) (2.2.1)\n",
      "Requirement already satisfied: mpmath>=0.19 in /CSC_CONTAINER/miniconda/envs/env1/lib/python3.10/site-packages (from sympy->torch>=1.6.0->contextualized-topic-models) (1.3.0)\n",
      "Requirement already satisfied: attrs>=17.4.0 in /CSC_CONTAINER/miniconda/envs/env1/lib/python3.10/site-packages (from jsonschema>=2.6->nbformat>=4.2.0->ipywidgets==7.5.1->contextualized-topic-models) (22.2.0)\n",
      "Requirement already satisfied: pyrsistent!=0.17.0,!=0.17.1,!=0.17.2,>=0.14.0 in /CSC_CONTAINER/miniconda/envs/env1/lib/python3.10/site-packages (from jsonschema>=2.6->nbformat>=4.2.0->ipywidgets==7.5.1->contextualized-topic-models) (0.19.3)\n",
      "Requirement already satisfied: nbclassic>=0.4.7 in /CSC_CONTAINER/miniconda/envs/env1/lib/python3.10/site-packages (from notebook>=4.4.1->widgetsnbextension~=3.5.0->ipywidgets==7.5.1->contextualized-topic-models) (0.5.3)\n",
      "Requirement already satisfied: nbconvert>=5 in /CSC_CONTAINER/miniconda/envs/env1/lib/python3.10/site-packages (from notebook>=4.4.1->widgetsnbextension~=3.5.0->ipywidgets==7.5.1->contextualized-topic-models) (7.2.9)\n",
      "Requirement already satisfied: terminado>=0.8.3 in /CSC_CONTAINER/miniconda/envs/env1/lib/python3.10/site-packages (from notebook>=4.4.1->widgetsnbextension~=3.5.0->ipywidgets==7.5.1->contextualized-topic-models) (0.17.1)\n",
      "Requirement already satisfied: Send2Trash>=1.8.0 in /CSC_CONTAINER/miniconda/envs/env1/lib/python3.10/site-packages (from notebook>=4.4.1->widgetsnbextension~=3.5.0->ipywidgets==7.5.1->contextualized-topic-models) (1.8.0)\n",
      "Requirement already satisfied: prometheus-client in /CSC_CONTAINER/miniconda/envs/env1/lib/python3.10/site-packages (from notebook>=4.4.1->widgetsnbextension~=3.5.0->ipywidgets==7.5.1->contextualized-topic-models) (0.16.0)\n",
      "Requirement already satisfied: argon2-cffi in /CSC_CONTAINER/miniconda/envs/env1/lib/python3.10/site-packages (from notebook>=4.4.1->widgetsnbextension~=3.5.0->ipywidgets==7.5.1->contextualized-topic-models) (21.3.0)\n",
      "Requirement already satisfied: pyzmq>=17 in /CSC_CONTAINER/miniconda/envs/env1/lib/python3.10/site-packages (from notebook>=4.4.1->widgetsnbextension~=3.5.0->ipywidgets==7.5.1->contextualized-topic-models) (25.0.1)\n",
      "Requirement already satisfied: nest-asyncio>=1.5 in /CSC_CONTAINER/miniconda/envs/env1/lib/python3.10/site-packages (from notebook>=4.4.1->widgetsnbextension~=3.5.0->ipywidgets==7.5.1->contextualized-topic-models) (1.5.6)\n",
      "Requirement already satisfied: entrypoints in /CSC_CONTAINER/miniconda/envs/env1/lib/python3.10/site-packages (from jupyter-client->ipykernel>=4.5.1->ipywidgets==7.5.1->contextualized-topic-models) (0.4)\n",
      "Requirement already satisfied: platformdirs>=2.5 in /CSC_CONTAINER/miniconda/envs/env1/lib/python3.10/site-packages (from jupyter-core->nbformat>=4.2.0->ipywidgets==7.5.1->contextualized-topic-models) (3.1.1)\n",
      "Requirement already satisfied: notebook-shim>=0.1.0 in /CSC_CONTAINER/miniconda/envs/env1/lib/python3.10/site-packages (from nbclassic>=0.4.7->notebook>=4.4.1->widgetsnbextension~=3.5.0->ipywidgets==7.5.1->contextualized-topic-models) (0.2.2)\n",
      "Requirement already satisfied: jupyter-server>=1.8 in /CSC_CONTAINER/miniconda/envs/env1/lib/python3.10/site-packages (from nbclassic>=0.4.7->notebook>=4.4.1->widgetsnbextension~=3.5.0->ipywidgets==7.5.1->contextualized-topic-models) (2.4.0)\n",
      "Requirement already satisfied: pandocfilters>=1.4.1 in /CSC_CONTAINER/miniconda/envs/env1/lib/python3.10/site-packages (from nbconvert>=5->notebook>=4.4.1->widgetsnbextension~=3.5.0->ipywidgets==7.5.1->contextualized-topic-models) (1.5.0)\n",
      "Requirement already satisfied: beautifulsoup4 in /CSC_CONTAINER/miniconda/envs/env1/lib/python3.10/site-packages (from nbconvert>=5->notebook>=4.4.1->widgetsnbextension~=3.5.0->ipywidgets==7.5.1->contextualized-topic-models) (4.11.2)\n"
     ]
    },
    {
     "name": "stdout",
     "output_type": "stream",
     "text": [
      "Requirement already satisfied: mistune<3,>=2.0.3 in /CSC_CONTAINER/miniconda/envs/env1/lib/python3.10/site-packages (from nbconvert>=5->notebook>=4.4.1->widgetsnbextension~=3.5.0->ipywidgets==7.5.1->contextualized-topic-models) (2.0.5)\n",
      "Requirement already satisfied: bleach in /CSC_CONTAINER/miniconda/envs/env1/lib/python3.10/site-packages (from nbconvert>=5->notebook>=4.4.1->widgetsnbextension~=3.5.0->ipywidgets==7.5.1->contextualized-topic-models) (6.0.0)\n",
      "Requirement already satisfied: nbclient>=0.5.0 in /CSC_CONTAINER/miniconda/envs/env1/lib/python3.10/site-packages (from nbconvert>=5->notebook>=4.4.1->widgetsnbextension~=3.5.0->ipywidgets==7.5.1->contextualized-topic-models) (0.7.2)\n",
      "Requirement already satisfied: defusedxml in /CSC_CONTAINER/miniconda/envs/env1/lib/python3.10/site-packages (from nbconvert>=5->notebook>=4.4.1->widgetsnbextension~=3.5.0->ipywidgets==7.5.1->contextualized-topic-models) (0.7.1)\n",
      "Requirement already satisfied: tinycss2 in /CSC_CONTAINER/miniconda/envs/env1/lib/python3.10/site-packages (from nbconvert>=5->notebook>=4.4.1->widgetsnbextension~=3.5.0->ipywidgets==7.5.1->contextualized-topic-models) (1.2.1)\n",
      "Requirement already satisfied: jupyterlab-pygments in /CSC_CONTAINER/miniconda/envs/env1/lib/python3.10/site-packages (from nbconvert>=5->notebook>=4.4.1->widgetsnbextension~=3.5.0->ipywidgets==7.5.1->contextualized-topic-models) (0.2.2)\n",
      "Requirement already satisfied: argon2-cffi-bindings in /CSC_CONTAINER/miniconda/envs/env1/lib/python3.10/site-packages (from argon2-cffi->notebook>=4.4.1->widgetsnbextension~=3.5.0->ipywidgets==7.5.1->contextualized-topic-models) (21.2.0)\n",
      "Requirement already satisfied: websocket-client in /CSC_CONTAINER/miniconda/envs/env1/lib/python3.10/site-packages (from jupyter-server>=1.8->nbclassic>=0.4.7->notebook>=4.4.1->widgetsnbextension~=3.5.0->ipywidgets==7.5.1->contextualized-topic-models) (1.5.1)\n",
      "Requirement already satisfied: anyio>=3.1.0 in /CSC_CONTAINER/miniconda/envs/env1/lib/python3.10/site-packages (from jupyter-server>=1.8->nbclassic>=0.4.7->notebook>=4.4.1->widgetsnbextension~=3.5.0->ipywidgets==7.5.1->contextualized-topic-models) (3.6.2)\n",
      "Requirement already satisfied: jupyter-server-terminals in /CSC_CONTAINER/miniconda/envs/env1/lib/python3.10/site-packages (from jupyter-server>=1.8->nbclassic>=0.4.7->notebook>=4.4.1->widgetsnbextension~=3.5.0->ipywidgets==7.5.1->contextualized-topic-models) (0.4.4)\n",
      "Requirement already satisfied: jupyter-events>=0.4.0 in /CSC_CONTAINER/miniconda/envs/env1/lib/python3.10/site-packages (from jupyter-server>=1.8->nbclassic>=0.4.7->notebook>=4.4.1->widgetsnbextension~=3.5.0->ipywidgets==7.5.1->contextualized-topic-models) (0.6.3)\n",
      "Requirement already satisfied: cffi>=1.0.1 in /CSC_CONTAINER/miniconda/envs/env1/lib/python3.10/site-packages (from argon2-cffi-bindings->argon2-cffi->notebook>=4.4.1->widgetsnbextension~=3.5.0->ipywidgets==7.5.1->contextualized-topic-models) (1.15.1)\n",
      "Requirement already satisfied: soupsieve>1.2 in /CSC_CONTAINER/miniconda/envs/env1/lib/python3.10/site-packages (from beautifulsoup4->nbconvert>=5->notebook>=4.4.1->widgetsnbextension~=3.5.0->ipywidgets==7.5.1->contextualized-topic-models) (2.3.2.post1)\n",
      "Requirement already satisfied: webencodings in /CSC_CONTAINER/miniconda/envs/env1/lib/python3.10/site-packages (from bleach->nbconvert>=5->notebook>=4.4.1->widgetsnbextension~=3.5.0->ipywidgets==7.5.1->contextualized-topic-models) (0.5.1)\n",
      "Requirement already satisfied: sniffio>=1.1 in /CSC_CONTAINER/miniconda/envs/env1/lib/python3.10/site-packages (from anyio>=3.1.0->jupyter-server>=1.8->nbclassic>=0.4.7->notebook>=4.4.1->widgetsnbextension~=3.5.0->ipywidgets==7.5.1->contextualized-topic-models) (1.3.0)\n",
      "Requirement already satisfied: pycparser in /CSC_CONTAINER/miniconda/envs/env1/lib/python3.10/site-packages (from cffi>=1.0.1->argon2-cffi-bindings->argon2-cffi->notebook>=4.4.1->widgetsnbextension~=3.5.0->ipywidgets==7.5.1->contextualized-topic-models) (2.21)\n",
      "Requirement already satisfied: rfc3986-validator>=0.1.1 in /CSC_CONTAINER/miniconda/envs/env1/lib/python3.10/site-packages (from jupyter-events>=0.4.0->jupyter-server>=1.8->nbclassic>=0.4.7->notebook>=4.4.1->widgetsnbextension~=3.5.0->ipywidgets==7.5.1->contextualized-topic-models) (0.1.1)\n",
      "Requirement already satisfied: rfc3339-validator in /CSC_CONTAINER/miniconda/envs/env1/lib/python3.10/site-packages (from jupyter-events>=0.4.0->jupyter-server>=1.8->nbclassic>=0.4.7->notebook>=4.4.1->widgetsnbextension~=3.5.0->ipywidgets==7.5.1->contextualized-topic-models) (0.1.4)\n",
      "Requirement already satisfied: python-json-logger>=2.0.4 in /CSC_CONTAINER/miniconda/envs/env1/lib/python3.10/site-packages (from jupyter-events>=0.4.0->jupyter-server>=1.8->nbclassic>=0.4.7->notebook>=4.4.1->widgetsnbextension~=3.5.0->ipywidgets==7.5.1->contextualized-topic-models) (2.0.7)\n",
      "Requirement already satisfied: isoduration in /users/sebarodr/.local/lib/python3.10/site-packages (from jsonschema>=2.6->nbformat>=4.2.0->ipywidgets==7.5.1->contextualized-topic-models) (20.11.0)\n",
      "Requirement already satisfied: jsonpointer>1.13 in /users/sebarodr/.local/lib/python3.10/site-packages (from jsonschema>=2.6->nbformat>=4.2.0->ipywidgets==7.5.1->contextualized-topic-models) (2.3)\n",
      "Requirement already satisfied: fqdn in /users/sebarodr/.local/lib/python3.10/site-packages (from jsonschema>=2.6->nbformat>=4.2.0->ipywidgets==7.5.1->contextualized-topic-models) (1.5.1)\n",
      "Requirement already satisfied: uri-template in /users/sebarodr/.local/lib/python3.10/site-packages (from jsonschema>=2.6->nbformat>=4.2.0->ipywidgets==7.5.1->contextualized-topic-models) (1.2.0)\n",
      "Requirement already satisfied: webcolors>=1.11 in /users/sebarodr/.local/lib/python3.10/site-packages (from jsonschema>=2.6->nbformat>=4.2.0->ipywidgets==7.5.1->contextualized-topic-models) (1.13)\n",
      "Requirement already satisfied: arrow>=0.15.0 in /CSC_CONTAINER/miniconda/envs/env1/lib/python3.10/site-packages (from isoduration->jsonschema>=2.6->nbformat>=4.2.0->ipywidgets==7.5.1->contextualized-topic-models) (1.2.3)\n",
      "Defaulting to user installation because normal site-packages is not writeable\n",
      "Requirement already satisfied: pyldavis in /users/sebarodr/.local/lib/python3.10/site-packages (3.4.0)\n",
      "Requirement already satisfied: scikit-learn>=1.0.0 in /CSC_CONTAINER/miniconda/envs/env1/lib/python3.10/site-packages (from pyldavis) (1.2.2)\n",
      "Requirement already satisfied: numpy>=1.22.0 in /CSC_CONTAINER/miniconda/envs/env1/lib/python3.10/site-packages (from pyldavis) (1.23.5)\n",
      "Requirement already satisfied: pandas>=1.3.4 in /CSC_CONTAINER/miniconda/envs/env1/lib/python3.10/site-packages (from pyldavis) (1.5.3)\n",
      "Requirement already satisfied: jinja2 in /CSC_CONTAINER/miniconda/envs/env1/lib/python3.10/site-packages (from pyldavis) (3.1.2)\n",
      "Requirement already satisfied: scipy in /CSC_CONTAINER/miniconda/envs/env1/lib/python3.10/site-packages (from pyldavis) (1.10.1)\n",
      "Requirement already satisfied: funcy in /users/sebarodr/.local/lib/python3.10/site-packages (from pyldavis) (2.0)\n",
      "Requirement already satisfied: numexpr in /users/sebarodr/.local/lib/python3.10/site-packages (from pyldavis) (2.8.4)\n",
      "Requirement already satisfied: gensim in /users/sebarodr/.local/lib/python3.10/site-packages (from pyldavis) (4.2.0)\n",
      "Requirement already satisfied: setuptools in /CSC_CONTAINER/miniconda/envs/env1/lib/python3.10/site-packages (from pyldavis) (67.6.0)\n",
      "Requirement already satisfied: joblib>=1.2.0 in /CSC_CONTAINER/miniconda/envs/env1/lib/python3.10/site-packages (from pyldavis) (1.2.0)\n",
      "Requirement already satisfied: python-dateutil>=2.8.1 in /CSC_CONTAINER/miniconda/envs/env1/lib/python3.10/site-packages (from pandas>=1.3.4->pyldavis) (2.8.2)\n",
      "Requirement already satisfied: pytz>=2020.1 in /CSC_CONTAINER/miniconda/envs/env1/lib/python3.10/site-packages (from pandas>=1.3.4->pyldavis) (2022.7.1)\n",
      "Requirement already satisfied: threadpoolctl>=2.0.0 in /CSC_CONTAINER/miniconda/envs/env1/lib/python3.10/site-packages (from scikit-learn>=1.0.0->pyldavis) (3.1.0)\n",
      "Requirement already satisfied: smart-open>=1.8.1 in /users/sebarodr/.local/lib/python3.10/site-packages (from gensim->pyldavis) (6.3.0)\n",
      "Requirement already satisfied: MarkupSafe>=2.0 in /CSC_CONTAINER/miniconda/envs/env1/lib/python3.10/site-packages (from jinja2->pyldavis) (2.1.2)\n",
      "Requirement already satisfied: six>=1.5 in /CSC_CONTAINER/miniconda/envs/env1/lib/python3.10/site-packages (from python-dateutil>=2.8.1->pandas>=1.3.4->pyldavis) (1.16.0)\n"
     ]
    }
   ],
   "source": [
    "!{sys.executable} -m pip install contextualized-topic-models\n",
    "!{sys.executable} -m pip install pyldavis"
   ]
  },
  {
   "cell_type": "code",
   "execution_count": 3,
   "id": "6b7526c0",
   "metadata": {
    "tags": []
   },
   "outputs": [],
   "source": [
    "from contextualized_topic_models.models.ctm import ZeroShotTM\n",
    "from contextualized_topic_models.utils.data_preparation import TopicModelDataPreparation\n",
    "from contextualized_topic_models.utils.preprocessing import WhiteSpacePreprocessingStopwords\n",
    "from contextualized_topic_models.evaluation.measures import CoherenceNPMI,TopicDiversity,CoherenceUMASS,InvertedRBO\n",
    "import pyLDAvis as vis"
   ]
  },
  {
   "cell_type": "code",
   "execution_count": 4,
   "id": "c11bf63a",
   "metadata": {
    "tags": []
   },
   "outputs": [
    {
     "name": "stderr",
     "output_type": "stream",
     "text": [
      "/users/sebarodr/.local/lib/python3.10/site-packages/ipykernel/ipkernel.py:283: DeprecationWarning: `should_run_async` will not call `transform_cell` automatically in the future. Please pass the result to `transformed_cell` argument and any exception that happen during thetransform in `preprocessing_exc_tuple` in IPython 7.17 and above.\n",
      "  and should_run_async(code)\n"
     ]
    }
   ],
   "source": [
    "SEED = 42\n",
    "np.random.seed(SEED)\n",
    "os.environ[\"PYTHONHASHSEED\"] = str(SEED)\n",
    "np.random.seed(SEED)"
   ]
  },
  {
   "cell_type": "markdown",
   "id": "5da43502",
   "metadata": {},
   "source": [
    "# Load Models\n",
    "\n",
    "They are already trained, here they are just used for visualization"
   ]
  },
  {
   "cell_type": "code",
   "execution_count": 5,
   "id": "562e6c57",
   "metadata": {
    "tags": []
   },
   "outputs": [
    {
     "name": "stderr",
     "output_type": "stream",
     "text": [
      "/users/sebarodr/.local/lib/python3.10/site-packages/ipykernel/ipkernel.py:283: DeprecationWarning: `should_run_async` will not call `transform_cell` automatically in the future. Please pass the result to `transformed_cell` argument and any exception that happen during thetransform in `preprocessing_exc_tuple` in IPython 7.17 and above.\n",
      "  and should_run_async(code)\n"
     ]
    }
   ],
   "source": [
    "training_sets = []\n",
    "tp_models = []\n",
    "test_sets = []\n",
    "for i in range(8):\n",
    "    with open('./Training_sets/training_set'+str(i)+'.pickle', 'rb') as dataset:\n",
    "        dataseti = pickle.load(dataset)\n",
    "        training_sets.append(dataseti)\n",
    "    with open('./Test_sets/test_set'+str(i)+'.pickle', 'rb') as dataset:\n",
    "        dataseti = pickle.load(dataset)\n",
    "        test_sets.append(dataseti)\n",
    "    with open('./tp_models/tp_model'+str(i)+'.pickle', 'rb') as tpmodel:\n",
    "        tpmodeli = pickle.load(tpmodel)\n",
    "        tp_models.append(tpmodeli)\n"
   ]
  },
  {
   "cell_type": "code",
   "execution_count": 6,
   "id": "1c6a4a57",
   "metadata": {
    "tags": []
   },
   "outputs": [
    {
     "name": "stderr",
     "output_type": "stream",
     "text": [
      "/users/sebarodr/.local/lib/python3.10/site-packages/ipykernel/ipkernel.py:283: DeprecationWarning: `should_run_async` will not call `transform_cell` automatically in the future. Please pass the result to `transformed_cell` argument and any exception that happen during thetransform in `preprocessing_exc_tuple` in IPython 7.17 and above.\n",
      "  and should_run_async(code)\n",
      "/users/sebarodr/.local/lib/python3.10/site-packages/contextualized_topic_models/models/ctm.py:669: Warning: This is an experimental feature that we has not been fully tested. Refer to the following issue:https://github.com/MilaNLProc/contextualized-topic-models/issues/38\n",
      "  warnings.warn(\n",
      "/users/sebarodr/.local/lib/python3.10/site-packages/contextualized_topic_models/models/ctm.py:669: Warning: This is an experimental feature that we has not been fully tested. Refer to the following issue:https://github.com/MilaNLProc/contextualized-topic-models/issues/38\n",
      "  warnings.warn(\n",
      "/users/sebarodr/.local/lib/python3.10/site-packages/contextualized_topic_models/models/ctm.py:669: Warning: This is an experimental feature that we has not been fully tested. Refer to the following issue:https://github.com/MilaNLProc/contextualized-topic-models/issues/38\n",
      "  warnings.warn(\n",
      "/users/sebarodr/.local/lib/python3.10/site-packages/contextualized_topic_models/models/ctm.py:669: Warning: This is an experimental feature that we has not been fully tested. Refer to the following issue:https://github.com/MilaNLProc/contextualized-topic-models/issues/38\n",
      "  warnings.warn(\n",
      "/users/sebarodr/.local/lib/python3.10/site-packages/contextualized_topic_models/models/ctm.py:669: Warning: This is an experimental feature that we has not been fully tested. Refer to the following issue:https://github.com/MilaNLProc/contextualized-topic-models/issues/38\n",
      "  warnings.warn(\n",
      "/users/sebarodr/.local/lib/python3.10/site-packages/contextualized_topic_models/models/ctm.py:669: Warning: This is an experimental feature that we has not been fully tested. Refer to the following issue:https://github.com/MilaNLProc/contextualized-topic-models/issues/38\n",
      "  warnings.warn(\n",
      "/users/sebarodr/.local/lib/python3.10/site-packages/contextualized_topic_models/models/ctm.py:669: Warning: This is an experimental feature that we has not been fully tested. Refer to the following issue:https://github.com/MilaNLProc/contextualized-topic-models/issues/38\n",
      "  warnings.warn(\n",
      "/users/sebarodr/.local/lib/python3.10/site-packages/contextualized_topic_models/models/ctm.py:669: Warning: This is an experimental feature that we has not been fully tested. Refer to the following issue:https://github.com/MilaNLProc/contextualized-topic-models/issues/38\n",
      "  warnings.warn(\n"
     ]
    }
   ],
   "source": [
    "models = []\n",
    "for i in range(8):\n",
    "    ctm = ZeroShotTM(bow_size=len(tp_models[i].vocab), contextual_size=768, n_components=10, num_epochs=20)\n",
    "    ctm.load(\"./ctm_models\"+str(i)+\"/contextualized_topic_model_nc_10_tpm_0.0_tpv_0.9_hs_prodLDA_ac_(100, 100)_do_softplus_lr_0.2_mo_0.002_rp_0.99\",\n",
    "                                                                                                          epoch=19)\n",
    "    models.append(ctm)"
   ]
  },
  {
   "cell_type": "code",
   "execution_count": 7,
   "id": "35260d38",
   "metadata": {
    "tags": []
   },
   "outputs": [
    {
     "name": "stderr",
     "output_type": "stream",
     "text": [
      "/users/sebarodr/.local/lib/python3.10/site-packages/ipykernel/ipkernel.py:283: DeprecationWarning: `should_run_async` will not call `transform_cell` automatically in the future. Please pass the result to `transformed_cell` argument and any exception that happen during thetransform in `preprocessing_exc_tuple` in IPython 7.17 and above.\n",
      "  and should_run_async(code)\n"
     ]
    }
   ],
   "source": [
    "dict_dec = {}\n",
    "count = 0\n",
    "for i in range(1720,1800,10):\n",
    "    dict_dec[i] = count\n",
    "    count +=1"
   ]
  },
  {
   "cell_type": "code",
   "execution_count": 8,
   "id": "db189cbe",
   "metadata": {
    "tags": []
   },
   "outputs": [
    {
     "name": "stderr",
     "output_type": "stream",
     "text": [
      "/users/sebarodr/.local/lib/python3.10/site-packages/ipykernel/ipkernel.py:283: DeprecationWarning: `should_run_async` will not call `transform_cell` automatically in the future. Please pass the result to `transformed_cell` argument and any exception that happen during thetransform in `preprocessing_exc_tuple` in IPython 7.17 and above.\n",
      "  and should_run_async(code)\n"
     ]
    },
    {
     "data": {
      "text/plain": [
       "{1720: 0, 1730: 1, 1740: 2, 1750: 3, 1760: 4, 1770: 5, 1780: 6, 1790: 7}"
      ]
     },
     "execution_count": 8,
     "metadata": {},
     "output_type": "execute_result"
    }
   ],
   "source": [
    "dict_dec"
   ]
  },
  {
   "cell_type": "code",
   "execution_count": 12,
   "id": "06223403",
   "metadata": {
    "tags": []
   },
   "outputs": [
    {
     "name": "stderr",
     "output_type": "stream",
     "text": [
      "/users/sebarodr/.local/lib/python3.10/site-packages/ipykernel/ipkernel.py:283: DeprecationWarning: `should_run_async` will not call `transform_cell` automatically in the future. Please pass the result to `transformed_cell` argument and any exception that happen during thetransform in `preprocessing_exc_tuple` in IPython 7.17 and above.\n",
      "  and should_run_async(code)\n"
     ]
    }
   ],
   "source": [
    "#Insert a decade from 1720 to 1790 to see the topic visualization and distribution. There are just 10 components per decade\n",
    "def visualize_decade(decade):\n",
    "    index = dict_dec[decade]\n",
    "    print(models[index].get_topic_lists())\n",
    "    lda_vis_data = models[index].get_ldavis_data_format(tp_models[index].vocab, training_sets[index],500)\n",
    "    decade_pd = vis.prepare(**lda_vis_data)\n",
    "    return vis.display(decade_pd)"
   ]
  },
  {
   "cell_type": "code",
   "execution_count": 21,
   "id": "38783472",
   "metadata": {
    "tags": []
   },
   "outputs": [
    {
     "name": "stderr",
     "output_type": "stream",
     "text": [
      "/users/sebarodr/.local/lib/python3.10/site-packages/ipykernel/ipkernel.py:283: DeprecationWarning: `should_run_async` will not call `transform_cell` automatically in the future. Please pass the result to `transformed_cell` argument and any exception that happen during thetransform in `preprocessing_exc_tuple` in IPython 7.17 and above.\n",
      "  and should_run_async(code)\n",
      "/users/sebarodr/.local/lib/python3.10/site-packages/torch/utils/data/dataloader.py:561: UserWarning: This DataLoader will create 40 worker processes in total. Our suggested max number of worker in current system is 8, which is smaller than what this DataLoader is going to create. Please be aware that excessive worker creation might get DataLoader running slow or even freeze, lower the worker number to avoid potential slowness/freeze if necessary.\n",
      "  warnings.warn(_create_warning_msg(\n"
     ]
    },
    {
     "name": "stdout",
     "output_type": "stream",
     "text": [
      "[['lot', 'rot', 'abraham', 'ald', 'alt', 'fai', 'depart', 'lift', 'refuse', 'wil'], ['thy', 'thou', 'love', 'heart', 'thee', 'gods', 'death', 'rage', 'eyes', 'fair'], ['cafe', 'court', 'fame', 'law', 'plaintiff', 'aforesaid', 'defendant', 'estate', 'person', 'pay'], ['king', 'parliament', 'army', 'duke', 'prince', 'earl', 'efq', 'war', 'charles', 'troops'], ['prisoner', 'house', 'fee', 'told', 'fay', 'time', 'man', 'door', 'john', 'thing'], ['sir', 'good', 'lady', 'love', 'madam', 'dear', 'exit', 'enter', 'pray', 'father'], ['god', 'lord', 'thou', 'thy', 'thee', 'hath', 'people', 'day', 'israel', 'son'], ['great', 'country', 'countries', 'river', 'miles', 'britain', 'town', 'weight', 'long', 'north'], ['water', 'salt', 'white', 'butter', 'acid', 'cut', 'hot', 'red', 'leaves', 'heat'], ['men', 'nature', 'power', 'mind', 'god', 'ideas', 'religion', 'human', 'divine', 'life']]\n"
     ]
    },
    {
     "name": "stderr",
     "output_type": "stream",
     "text": [
      "  0%|          | 0/751 [00:00<?, ?it/s]/users/sebarodr/.local/lib/python3.10/site-packages/torch/utils/data/dataloader.py:561: UserWarning: This DataLoader will create 40 worker processes in total. Our suggested max number of worker in current system is 8, which is smaller than what this DataLoader is going to create. Please be aware that excessive worker creation might get DataLoader running slow or even freeze, lower the worker number to avoid potential slowness/freeze if necessary.\n",
      "  warnings.warn(_create_warning_msg(\n",
      "100%|██████████| 751/751 [01:21<00:00,  9.18it/s]\n",
      "/users/sebarodr/.local/lib/python3.10/site-packages/pyLDAvis/_prepare.py:244: FutureWarning: In a future version of pandas all arguments of DataFrame.drop except for the argument 'labels' will be keyword-only.\n",
      "  by='saliency', ascending=False).head(R).drop('saliency', 1)\n"
     ]
    },
    {
     "data": {
      "text/html": [
       "\n",
       "<link rel=\"stylesheet\" type=\"text/css\" href=\"https://cdn.jsdelivr.net/gh/bmabey/pyLDAvis@3.4.0/pyLDAvis/js/ldavis.v1.0.0.css\">\n",
       "\n",
       "\n",
       "<div id=\"ldavis_el17031451398923961400006732202418\" style=\"background-color:white;\"></div>\n",
       "<script type=\"text/javascript\">\n",
       "\n",
       "var ldavis_el17031451398923961400006732202418_data = {\"mdsDat\": {\"x\": [-0.0022609105297410185, -0.004699577262781302, -0.0022913533983824645, -0.004362904514835521, -0.0006536357515915974, -0.0015966333401025777, -0.001703152951171096, 0.0004391338691672999, -0.001487071561092711, 0.018616105440530984], \"y\": [0.007151268590537144, -0.004739386226387743, -0.006965701056854917, 0.003949505899791994, -0.0018209690969654413, 0.002221713577590374, 0.002227146471585522, 0.0008594702008876411, -0.002716465829101951, -0.00016658253108262772], \"topics\": [1, 2, 3, 4, 5, 6, 7, 8, 9, 10], \"cluster\": [1, 1, 1, 1, 1, 1, 1, 1, 1, 1], \"Freq\": [11.190060749484376, 11.181394940664639, 10.884045379614868, 10.53665324250031, 10.386279594640687, 10.309944743364067, 9.970357374636524, 9.939587774256097, 9.050014117673296, 6.551662083165143]}, \"tinfo\": {\"Term\": [\"god\", \"abraham\", \"lot\", \"lord\", \"rot\", \"lift\", \"thou\", \"alt\", \"ald\", \"depart\", \"thee\", \"thy\", \"hath\", \"fai\", \"refuse\", \"reward\", \"heart\", \"altar\", \"lor\", \"father\", \"cease\", \"love\", \"king\", \"house\", \"destroy\", \"luke\", \"rob\", \"daughters\", \"wil\", \"tent\", \"gods\", \"heav\", \"joy\", \"rage\", \"fair\", \"eyes\", \"heart\", \"thine\", \"thro\", \"love\", \"bright\", \"foul\", \"ring\", \"deep\", \"thy\", \"flood\", \"art\", \"fly\", \"vain\", \"breast\", \"fight\", \"thou\", \"fate\", \"jove\", \"thee\", \"arms\", \"ulysses\", \"youth\", \"voice\", \"death\", \"rous\", \"beneath\", \"wide\", \"earth\", \"prisoner\", \"told\", \"door\", \"house\", \"pair\", \"watch\", \"clock\", \"room\", \"asked\", \"sworn\", \"aged\", \"pocket\", \"property\", \"guilty\", \"bar\", \"fee\", \"window\", \"fay\", \"woman\", \"morning\", \"houfe\", \"bed\", \"flairs\", \"box\", \"linen\", \"coat\", \"jury\", \"thomas\", \"guinea\", \"pri\", \"john\", \"coach\", \"time\", \"thing\", \"man\", \"things\", \"left\", \"night\", \"brought\", \"money\", \"half\", \"called\", \"plaintiff\", \"cafe\", \"defendant\", \"estate\", \"aforesaid\", \"writ\", \"bond\", \"court\", \"debt\", \"pay\", \"judgment\", \"lease\", \"payment\", \"term\", \"law\", \"person\", \"statute\", \"hall\", \"plea\", \"heirs\", \"tenant\", \"lands\", \"fame\", \"action\", \"paid\", \"rule\", \"provided\", \"remainder\", \"void\", \"office\", \"persons\", \"goods\", \"money\", \"year\", \"order\", \"god\", \"lord\", \"thee\", \"thou\", \"jesus\", \"israel\", \"thy\", \"thine\", \"hath\", \"haft\", \"christ\", \"faith\", \"holy\", \"david\", \"behold\", \"thall\", \"mercy\", \"praise\", \"fin\", \"children\", \"people\", \"son\", \"heaven\", \"glory\", \"art\", \"prayer\", \"shalt\", \"faying\", \"earth\", \"fins\", \"hall\", \"day\", \"men\", \"land\", \"heart\", \"father\", \"man\", \"king\", \"things\", \"army\", \"king\", \"duke\", \"parliament\", \"earl\", \"charles\", \"efq\", \"henry\", \"james\", \"prince\", \"queen\", \"edward\", \"troops\", \"mary\", \"enemy\", \"war\", \"forces\", \"reign\", \"england\", \"crown\", \"philip\", \"royal\", \"france\", \"elizabeth\", \"william\", \"treaty\", \"government\", \"emperor\", \"battle\", \"city\", \"french\", \"john\", \"council\", \"general\", \"religion\", \"divine\", \"nature\", \"human\", \"ideas\", \"men\", \"christ\", \"mind\", \"sense\", \"principles\", \"minds\", \"truth\", \"power\", \"true\", \"natural\", \"paul\", \"gospel\", \"idea\", \"mankind\", \"knowledge\", \"reason\", \"happiness\", \"virtue\", \"christian\", \"church\", \"god\", \"confider\", \"evil\", \"grace\", \"moral\", \"language\", \"life\", \"principle\", \"things\", \"author\", \"sir\", \"lady\", \"madam\", \"dear\", \"exit\", \"pray\", \"enter\", \"good\", \"marry\", \"love\", \"gentleman\", \"friend\", \"brother\", \"malone\", \"devil\", \"talk\", \"uncle\", \"play\", \"pardon\", \"scene\", \"steevens\", \"hear\", \"hope\", \"fellow\", \"letter\", \"poor\", \"fool\", \"exeunt\", \"husband\", \"business\", \"father\", \"young\", \"honour\", \"heart\", \"johnson\", \"fir\", \"bel\", \"man\", \"water\", \"salt\", \"white\", \"butter\", \"cut\", \"heat\", \"hot\", \"leaves\", \"colour\", \"red\", \"sugar\", \"wine\", \"acid\", \"cold\", \"quantity\", \"brown\", \"fine\", \"sun\", \"pan\", \"cover\", \"dry\", \"boil\", \"disease\", \"liquor\", \"beat\", \"bread\", \"feet\", \"flour\", \"angle\", \"pepper\", \"small\", \"root\", \"parts\", \"body\", \"air\", \"lay\", \"half\", \"round\", \"countries\", \"miles\", \"river\", \"town\", \"weight\", \"price\", \"foreign\", \"north\", \"country\", \"trade\", \"east\", \"capital\", \"britain\", \"market\", \"south\", \"weft\", \"inhabitants\", \"great\", \"america\", \"cent\", \"cattle\", \"yard\", \"produce\", \"wool\", \"sea\", \"labour\", \"pound\", \"land\", \"corn\", \"duties\", \"free\", \"schedule\", \"europe\", \"pounds\", \"small\", \"long\", \"number\", \"parts\", \"lot\", \"abraham\", \"rot\", \"alt\", \"ald\", \"depart\", \"fai\", \"lift\", \"refuse\", \"reward\", \"tent\", \"wil\", \"cease\", \"hal\", \"hit\", \"lor\", \"rob\", \"hie\", \"las\", \"daughters\", \"anr\", \"rer\", \"tre\", \"ings\", \"je\", \"commit\", \"destroy\", \"liv\", \"ht\", \"ally\", \"iti\", \"antd\", \"ave\", \"rit\", \"iil\", \"anb\", \"ame\", \"tic\"], \"Freq\": [1096.0, 938.0, 963.0, 1070.0, 986.0, 984.0, 1124.0, 968.0, 998.0, 973.0, 1060.0, 1112.0, 991.0, 989.0, 979.0, 925.0, 1013.0, 936.0, 955.0, 1027.0, 968.0, 1063.0, 1130.0, 1016.0, 969.0, 937.0, 950.0, 943.0, 975.0, 953.0, 182.4774973125626, 174.65517987819732, 173.93926576343446, 177.71463280977594, 174.74245958974063, 174.86620721792474, 184.34095970207844, 152.28227774559537, 174.15357496223416, 192.03334592823157, 172.1806074526316, 172.5779784970565, 169.91598530879665, 172.48147410055333, 197.98063210306958, 168.89559323400553, 167.85092300484203, 168.56093230752893, 165.3015647404946, 167.1668771355106, 166.22475549890228, 196.13300880174035, 170.74042885581395, 168.57872277138011, 183.91828413036663, 164.89994882043567, 166.534365323503, 163.11041062330426, 153.8978900831676, 181.5425222725441, 166.86914029141454, 165.94793892248308, 165.53448803573116, 166.50181282946193, 224.1485705055746, 203.29851768451005, 192.9708705448538, 222.36325432944574, 188.0040212718686, 186.77950637849128, 183.84347894569507, 183.26767383561443, 177.2358060514162, 180.53117831410881, 178.3494445600501, 179.29685079104368, 181.94731170773812, 176.2200659334225, 179.05314305397147, 204.6124477918942, 177.09107292888544, 202.79928907036728, 181.5252420165857, 173.51428710820412, 176.3754220189314, 177.1373885410119, 175.57309076982548, 173.38796374511344, 175.30249009667983, 173.70038521291562, 171.7842761791415, 172.6535105705318, 177.3805265124893, 175.51563307495672, 192.26822295191835, 177.88124917863615, 199.06367792477775, 191.89137998753347, 195.90902510253716, 184.2823377297069, 180.41362934117768, 180.046472391904, 180.0631601931021, 179.7560691989755, 179.88060729653586, 180.8990189820962, 189.12436159078794, 209.74355479469403, 185.82126738728485, 184.7415947751497, 187.86325635698617, 183.37624681911055, 174.30859662952184, 207.51319436995888, 178.07680218934962, 184.58118817430795, 174.9948139727156, 179.05998434601108, 171.28231627580018, 175.2064052537952, 191.3382191773727, 184.62243910730967, 172.10780327627492, 174.47151747904368, 167.88942395522196, 168.03157760363598, 173.03738510200586, 168.56095019828484, 194.5378717672865, 166.3424708310381, 173.4500423290042, 167.24416175106754, 168.31507146706755, 166.52534544827128, 172.31761979358035, 165.70164553631918, 175.06117041827318, 170.07666008519374, 171.34162296525471, 170.6812382947743, 168.2469156082389, 255.83277706875728, 247.52909060090752, 220.96052491948112, 233.11611184613662, 179.0280739519402, 180.94172293622003, 227.53122724655532, 170.093050835749, 200.33743377954502, 172.61690600754304, 175.59545385673135, 176.6318248098172, 172.6951758116236, 169.7739462762772, 167.48451871280258, 172.0615125456304, 164.00652360769766, 158.01148614453803, 169.67305458979774, 169.2775892458571, 194.2787185809619, 180.52133295497384, 168.15749585142467, 161.47591527902716, 168.4703483716681, 162.96066721341606, 163.0320884096396, 158.5535999887766, 174.2515517755698, 161.12259154301526, 165.05174763923284, 183.87297482452797, 178.65446688255375, 170.65228619963023, 169.7727531390199, 170.35962156178076, 175.23056862069595, 174.12609339296196, 167.698591399512, 174.14635738318177, 205.6958689693899, 168.70926233315214, 174.55830146914926, 164.96116626221533, 161.8363846624743, 163.68553446149, 159.97654402881736, 157.0701541875509, 165.17012562312962, 157.03959886478088, 153.6117809115014, 161.50442777826166, 150.7365932531868, 158.16672332885597, 163.4120419766191, 157.71988407635317, 157.10006265013914, 160.16402763169543, 152.55098901879776, 154.34704923852786, 152.17501035893915, 153.36994929225673, 147.58220897930715, 154.5992894261526, 153.37363051474597, 154.3146474239661, 152.85481336564862, 151.57631185793488, 156.9678326678822, 156.5836330031674, 158.81061971492767, 152.91815861908952, 154.07272171596773, 163.16228207397185, 161.0607390938429, 178.40034538070523, 161.1227315121358, 165.0251951049658, 182.21138474987205, 146.72414595112153, 166.4616213124838, 155.21262418970974, 156.68490326287318, 154.28890213318056, 151.33493421488677, 168.9757582765843, 155.41393026666347, 155.11754579901722, 145.67809685902304, 150.35517381413803, 154.67525149260928, 151.2154441204936, 147.3512150229384, 155.55399110324723, 150.10189217292066, 147.09893740205496, 149.25145192611362, 145.35390336305784, 165.72716876355616, 146.60904552702556, 135.75782725097, 138.7305096413021, 147.72209546443153, 146.9512413410713, 159.85855316516268, 148.3726189182353, 148.80558517526168, 147.06414693001867, 202.2913046637827, 173.79481211263425, 165.0316829235852, 158.08123847905676, 155.6826982701911, 150.79133408489423, 154.3537047207423, 175.62798841961822, 143.80108068761328, 165.99896370267524, 141.76150975066088, 147.25647746432065, 145.60545590597795, 148.22872589491698, 143.52893241588913, 147.01821083389268, 143.19532074689198, 145.10030219837566, 144.09819140815642, 142.2626780469411, 142.93806413956958, 137.13475203889226, 140.76085538554236, 140.25309366089925, 139.05176875516156, 136.05275238035856, 140.2247893374306, 139.80638888931506, 133.54512706046205, 135.53813755466024, 149.8253065087978, 143.65009795217387, 140.74836851607432, 146.43495209647136, 141.57735665130005, 142.36615196979326, 141.45515242424582, 142.64055826492935, 198.96266200102937, 162.59484401835047, 159.74845261926046, 157.7370337617946, 154.42142122247722, 150.59217422960432, 152.26075742463345, 150.6982664474024, 148.6812874843146, 151.59815941256346, 149.79202550740172, 147.45788416309904, 154.64761847487355, 148.72631983774235, 147.62137828104247, 142.03630846019405, 148.5455038522845, 143.0756767874338, 146.18965108339742, 143.4674503835631, 146.29241173993216, 148.33562674796872, 147.04274461702823, 143.66125495583816, 141.24838296614004, 133.18172770453717, 144.324832176793, 139.37938835268187, 135.27865288267054, 141.0730370441078, 143.54125121871076, 142.4130787753638, 148.60332219758777, 149.65406960738574, 142.5567973759434, 142.86219799526577, 143.1240181915758, 142.86398758391735, 147.72100479758356, 142.70633468145266, 144.07202767034406, 140.38084948710144, 140.11506891705756, 137.7665975719985, 138.3860041351214, 138.4557209355073, 149.15690648843642, 138.44041049896805, 138.01767233452307, 135.5718454693014, 142.61882744075072, 133.80352079286598, 132.92769003758428, 134.86719646231404, 132.61025980210678, 159.9111354279299, 135.567264635879, 129.0861334435137, 131.84630591141615, 129.53447098578667, 135.3234454215939, 133.34997729225168, 135.9717307063819, 131.98120991851303, 135.86986608844333, 138.31249559342388, 132.0889671074088, 131.9148646935096, 136.4600454996185, 134.6035679616632, 133.76516271792192, 133.3695406278296, 133.53823212439767, 139.0789089919923, 133.759505849803, 133.7632770952156, 124.98289983705173, 119.64151819312015, 120.83356394280693, 117.77902692603388, 118.40607190922081, 114.45864865414326, 116.22148932711964, 113.72459353326715, 112.98859466196991, 105.77191673863567, 108.35572488433428, 109.44355741964782, 108.14261713300863, 108.10741447748067, 108.13677846285046, 105.1820552558715, 104.56808978410622, 107.72828669972627, 105.52276799667676, 103.66395650138014, 108.57134764097584, 108.52255357028938, 108.73457816298341, 105.35798692566912, 108.50524528886753, 106.444172466351, 105.63376949973453, 105.22537418224194, 107.75887480272769, 108.19632993090585, 108.57199308481799, 107.4573189883453, 106.71528855562673, 106.34709622871493, 107.24511634217758, 106.81128905352591, 106.35272716982045, 106.24128795197319], \"Total\": [1096.0, 938.0, 963.0, 1070.0, 986.0, 984.0, 1124.0, 968.0, 998.0, 973.0, 1060.0, 1112.0, 991.0, 989.0, 979.0, 925.0, 1013.0, 936.0, 955.0, 1027.0, 968.0, 1063.0, 1130.0, 1016.0, 969.0, 937.0, 950.0, 943.0, 975.0, 953.0, 919.9265848757036, 913.5254506917679, 922.3744010661437, 950.171591677582, 943.1661211355008, 959.9618794508364, 1013.2750687175192, 838.827409663051, 961.3891807621018, 1063.2829837092593, 953.934517979538, 957.2276555630818, 952.098501943489, 966.8720810823078, 1112.7248757157681, 949.347492066415, 948.2295250635519, 953.4580083107069, 935.0916746867739, 953.8154157485645, 952.466593856897, 1124.4294265753645, 979.283110925204, 970.2220565728189, 1060.180041040086, 951.1299464071052, 961.7520672503038, 950.0164374097234, 896.8415701763957, 1059.646689434058, 974.3327013479549, 982.1061121989497, 985.3072501729212, 1007.8425427966605, 950.1793613531695, 904.9026498556838, 859.1553891362123, 1016.4708111833867, 871.0026663671214, 893.4362387456226, 890.0234188563331, 892.908598294355, 864.5406284450264, 882.8335942594857, 896.3184286374591, 903.0540827181783, 916.9163376673519, 890.0219820288125, 906.0450549532535, 1040.3616057169147, 903.2095906339522, 1035.0252884723643, 927.8273952927896, 889.2958942578363, 908.7846323350702, 912.711920181143, 910.2320521092123, 898.9875693359153, 911.5136270198977, 905.3822178472917, 897.3744367236119, 907.9338647485755, 933.8370083303765, 930.1070963148741, 1027.7047147593164, 947.00032892097, 1116.879866189769, 1062.8347792214233, 1139.8210098969278, 1031.7028953446866, 997.1542175611629, 991.237682872631, 992.1887427369235, 1012.602198963536, 1033.1813043964464, 1079.2799891115951, 890.7996472414143, 989.1898295706213, 890.1678319272901, 910.3957677391404, 935.43752421658, 927.8006768598557, 882.6723785676211, 1051.810574567818, 923.4441840664606, 973.7832544351031, 931.7111269311711, 955.731714829178, 915.6392217504191, 939.6131104909005, 1044.2235681073907, 1007.7313635243759, 944.5311126614878, 961.367531645522, 930.1689620676876, 933.9222594409731, 963.2885241545853, 940.6085140459134, 1086.737133848642, 932.3768539557891, 973.8864120117439, 939.564428603542, 948.6801333767964, 939.0568256800256, 974.241041125226, 943.8442369509092, 1003.9878744913276, 972.9830955864576, 1012.602198963536, 1047.51767453695, 1033.9393551275696, 1096.4020408157676, 1070.237020769264, 1060.180041040086, 1124.4294265753645, 873.7204589768921, 883.5745330980373, 1112.7248757157681, 838.827409663051, 991.7287611571824, 872.5273746388941, 901.8261543329048, 908.3369554039944, 892.0619701279793, 880.7800246253945, 874.5177337739053, 920.0112705710758, 877.4795379915624, 867.2673384004561, 931.5996792085498, 939.3330232115954, 1080.1730517500444, 1004.8785095820253, 936.0972629551216, 902.666177378024, 948.2295250635519, 920.2451844696395, 932.4821422679664, 910.1243739403322, 1007.8425427966605, 937.4810725215337, 961.367531645522, 1089.893909834952, 1102.2989413301555, 1018.6322643097152, 1013.2750687175192, 1027.1165543271038, 1139.8210098969278, 1130.3440023690239, 1031.7028953446866, 948.0100807305055, 1130.3440023690239, 929.1669100022567, 991.9769346499965, 948.8569907624305, 949.9162197174957, 963.7400832255289, 942.5448526796005, 938.2851735444117, 988.7405995012517, 942.7970800707749, 922.7230202109813, 972.5460554144486, 915.1068424648407, 963.8061085780181, 997.3089583405945, 966.928586352025, 966.5846931240615, 992.8759702225881, 955.9080590039873, 968.6349199089259, 956.7774188384479, 973.1591893175678, 936.9800045360179, 982.9689924975131, 975.6345423327841, 982.0413396090183, 976.9083369853738, 970.6093191450136, 1005.4844780417337, 1007.1203404954497, 1027.7047147593164, 982.1015386229777, 1070.1231683878254, 971.1768447675684, 959.7414092411628, 1064.7064265986037, 966.3440528666749, 992.6570178007528, 1102.2989413301555, 901.8261543329048, 1025.8892159406714, 971.3066036481291, 982.0586495794254, 975.3993737297133, 957.5783717333646, 1069.7866999538371, 986.2869121867246, 985.4313396290424, 928.4778805815555, 960.4152930432314, 988.6736414395523, 975.8593781284022, 951.7385192354554, 1006.5162154162052, 976.1315932548132, 964.1870442049682, 980.7815005891255, 955.6554829272403, 1096.4020408157676, 973.023175527213, 903.0109653430866, 923.7308485317501, 986.242165591925, 982.49688799168, 1084.0387238276037, 996.63560874567, 1031.7028953446866, 992.459897757293, 1029.5015157527678, 923.4712607722332, 899.5193923426868, 890.1566178667467, 917.8537046545829, 898.8042442718961, 941.2990725119654, 1095.9963301257685, 917.5709296004406, 1063.2829837092593, 912.7454729305504, 949.8372771565944, 941.6373014066662, 959.0917727334845, 932.3051875526567, 959.5847566454677, 941.5345007361991, 957.5871232985197, 956.1816550410944, 949.0376198610659, 964.6522631537259, 928.6799286077342, 953.7053391062516, 952.4090766692217, 944.8497157236837, 924.7771326693717, 953.482503809962, 951.3646477476634, 908.9393969421434, 924.0440872197619, 1027.1165543271038, 982.4168729332748, 962.0865945787006, 1013.2750687175192, 970.5543023926159, 981.0613542328725, 976.4026607139123, 1139.8210098969278, 1049.0724252063726, 971.4359274788815, 984.4593093927792, 987.2378421113312, 974.0232712120635, 955.9738201344209, 975.0854584983053, 969.6647380127977, 958.634543074556, 983.9087575466149, 972.2572244787092, 962.9234969914089, 1012.7239669619523, 987.1489146913734, 984.0230712863352, 948.5170818802723, 994.3265652195614, 959.0975357268352, 981.1018832135104, 968.9186811296822, 988.3211061718856, 1009.1253361632437, 1007.8167385872143, 984.95223269125, 968.8030945890135, 917.1975167672404, 996.2856674139933, 962.3353100997064, 934.570374349553, 977.624997567729, 996.2475458747009, 993.1157186713422, 1056.4584803826333, 1081.2691887475405, 996.9332890758616, 1005.2864222111834, 1033.1813043964464, 1018.2929495685271, 941.1229422417438, 928.1443123355662, 946.3749849424931, 945.7024579036048, 956.2943987160033, 944.5206277417021, 950.2324706762463, 951.7672099435708, 1032.1055149252695, 961.1465200919606, 965.8335244720153, 956.0175106552414, 1006.7661892581627, 947.7389043232674, 944.7668365770755, 966.3920390941632, 950.5682393903048, 1152.041700943765, 984.7843131727519, 937.7354179417588, 957.9935202131369, 943.1238513178057, 987.0968015693785, 975.9064975529443, 996.4491902838662, 971.1991620707637, 1000.6003252252337, 1018.6322643097152, 974.1342089510437, 973.6416478206046, 1008.7134851638338, 996.5057817207377, 989.4517341311438, 993.6099000047835, 996.2475458747009, 1115.3696923450875, 1005.8346130021257, 1056.4584803826333, 963.2702814560024, 938.3485609695475, 986.9304787576021, 968.3669596124248, 998.9667856257759, 973.1379758372818, 989.7589878861122, 984.2725400991602, 979.788623377751, 925.4646770056374, 953.7694069138702, 975.9107634852195, 968.3088186561345, 968.4140184129752, 978.5506879581519, 955.6777018951539, 950.3574598266914, 979.1095487734291, 959.2148904355655, 943.2356194303773, 990.1174917076299, 990.2434005055578, 993.0576895006316, 963.8325669104357, 993.4973656053969, 976.0482447028951, 969.0750516384212, 967.4515487467389, 993.8601625692702, 1001.7567869916738, 1008.5143850081852, 999.5473956540739, 988.5616071048821, 986.2437988784131, 1012.1316406534415, 1012.570804459449, 996.2644019710038, 995.4819739239449], \"Category\": [\"Default\", \"Default\", \"Default\", \"Default\", \"Default\", \"Default\", \"Default\", \"Default\", \"Default\", \"Default\", \"Default\", \"Default\", \"Default\", \"Default\", \"Default\", \"Default\", \"Default\", \"Default\", \"Default\", \"Default\", \"Default\", \"Default\", \"Default\", \"Default\", \"Default\", \"Default\", \"Default\", \"Default\", \"Default\", \"Default\", \"Topic1\", \"Topic1\", \"Topic1\", \"Topic1\", \"Topic1\", \"Topic1\", \"Topic1\", \"Topic1\", \"Topic1\", \"Topic1\", \"Topic1\", \"Topic1\", \"Topic1\", \"Topic1\", \"Topic1\", \"Topic1\", \"Topic1\", \"Topic1\", \"Topic1\", \"Topic1\", \"Topic1\", \"Topic1\", \"Topic1\", \"Topic1\", \"Topic1\", \"Topic1\", \"Topic1\", \"Topic1\", \"Topic1\", \"Topic1\", \"Topic1\", \"Topic1\", \"Topic1\", \"Topic1\", \"Topic2\", \"Topic2\", \"Topic2\", \"Topic2\", \"Topic2\", \"Topic2\", \"Topic2\", \"Topic2\", \"Topic2\", \"Topic2\", \"Topic2\", \"Topic2\", \"Topic2\", \"Topic2\", \"Topic2\", \"Topic2\", \"Topic2\", \"Topic2\", \"Topic2\", \"Topic2\", \"Topic2\", \"Topic2\", \"Topic2\", \"Topic2\", \"Topic2\", \"Topic2\", \"Topic2\", \"Topic2\", \"Topic2\", \"Topic2\", \"Topic2\", \"Topic2\", \"Topic2\", \"Topic2\", \"Topic2\", \"Topic2\", \"Topic2\", \"Topic2\", \"Topic2\", \"Topic2\", \"Topic2\", \"Topic2\", \"Topic3\", \"Topic3\", \"Topic3\", \"Topic3\", \"Topic3\", \"Topic3\", \"Topic3\", \"Topic3\", \"Topic3\", \"Topic3\", \"Topic3\", \"Topic3\", \"Topic3\", \"Topic3\", \"Topic3\", \"Topic3\", \"Topic3\", \"Topic3\", \"Topic3\", \"Topic3\", \"Topic3\", \"Topic3\", \"Topic3\", \"Topic3\", \"Topic3\", \"Topic3\", \"Topic3\", \"Topic3\", \"Topic3\", \"Topic3\", \"Topic3\", \"Topic3\", \"Topic3\", \"Topic3\", \"Topic3\", \"Topic4\", \"Topic4\", \"Topic4\", \"Topic4\", \"Topic4\", \"Topic4\", \"Topic4\", \"Topic4\", \"Topic4\", \"Topic4\", \"Topic4\", \"Topic4\", \"Topic4\", \"Topic4\", \"Topic4\", \"Topic4\", \"Topic4\", \"Topic4\", \"Topic4\", \"Topic4\", \"Topic4\", \"Topic4\", \"Topic4\", \"Topic4\", \"Topic4\", \"Topic4\", \"Topic4\", \"Topic4\", \"Topic4\", \"Topic4\", \"Topic4\", \"Topic4\", \"Topic4\", \"Topic4\", \"Topic4\", \"Topic4\", \"Topic4\", \"Topic4\", \"Topic4\", \"Topic5\", \"Topic5\", \"Topic5\", \"Topic5\", \"Topic5\", \"Topic5\", \"Topic5\", \"Topic5\", \"Topic5\", \"Topic5\", \"Topic5\", \"Topic5\", \"Topic5\", \"Topic5\", \"Topic5\", \"Topic5\", \"Topic5\", \"Topic5\", \"Topic5\", \"Topic5\", \"Topic5\", \"Topic5\", \"Topic5\", \"Topic5\", \"Topic5\", \"Topic5\", \"Topic5\", \"Topic5\", \"Topic5\", \"Topic5\", \"Topic5\", \"Topic5\", \"Topic5\", \"Topic5\", \"Topic6\", \"Topic6\", \"Topic6\", \"Topic6\", \"Topic6\", \"Topic6\", \"Topic6\", \"Topic6\", \"Topic6\", \"Topic6\", \"Topic6\", \"Topic6\", \"Topic6\", \"Topic6\", \"Topic6\", \"Topic6\", \"Topic6\", \"Topic6\", \"Topic6\", \"Topic6\", \"Topic6\", \"Topic6\", \"Topic6\", \"Topic6\", \"Topic6\", \"Topic6\", \"Topic6\", \"Topic6\", \"Topic6\", \"Topic6\", \"Topic6\", \"Topic6\", \"Topic6\", \"Topic6\", \"Topic6\", \"Topic7\", \"Topic7\", \"Topic7\", \"Topic7\", \"Topic7\", \"Topic7\", \"Topic7\", \"Topic7\", \"Topic7\", \"Topic7\", \"Topic7\", \"Topic7\", \"Topic7\", \"Topic7\", \"Topic7\", \"Topic7\", \"Topic7\", \"Topic7\", \"Topic7\", \"Topic7\", \"Topic7\", \"Topic7\", \"Topic7\", \"Topic7\", \"Topic7\", \"Topic7\", \"Topic7\", \"Topic7\", \"Topic7\", \"Topic7\", \"Topic7\", \"Topic7\", \"Topic7\", \"Topic7\", \"Topic7\", \"Topic7\", \"Topic7\", \"Topic7\", \"Topic8\", \"Topic8\", \"Topic8\", \"Topic8\", \"Topic8\", \"Topic8\", \"Topic8\", \"Topic8\", \"Topic8\", \"Topic8\", \"Topic8\", \"Topic8\", \"Topic8\", \"Topic8\", \"Topic8\", \"Topic8\", \"Topic8\", \"Topic8\", \"Topic8\", \"Topic8\", \"Topic8\", \"Topic8\", \"Topic8\", \"Topic8\", \"Topic8\", \"Topic8\", \"Topic8\", \"Topic8\", \"Topic8\", \"Topic8\", \"Topic8\", \"Topic8\", \"Topic8\", \"Topic8\", \"Topic8\", \"Topic8\", \"Topic8\", \"Topic8\", \"Topic9\", \"Topic9\", \"Topic9\", \"Topic9\", \"Topic9\", \"Topic9\", \"Topic9\", \"Topic9\", \"Topic9\", \"Topic9\", \"Topic9\", \"Topic9\", \"Topic9\", \"Topic9\", \"Topic9\", \"Topic9\", \"Topic9\", \"Topic9\", \"Topic9\", \"Topic9\", \"Topic9\", \"Topic9\", \"Topic9\", \"Topic9\", \"Topic9\", \"Topic9\", \"Topic9\", \"Topic9\", \"Topic9\", \"Topic9\", \"Topic9\", \"Topic9\", \"Topic9\", \"Topic9\", \"Topic9\", \"Topic9\", \"Topic9\", \"Topic9\", \"Topic10\", \"Topic10\", \"Topic10\", \"Topic10\", \"Topic10\", \"Topic10\", \"Topic10\", \"Topic10\", \"Topic10\", \"Topic10\", \"Topic10\", \"Topic10\", \"Topic10\", \"Topic10\", \"Topic10\", \"Topic10\", \"Topic10\", \"Topic10\", \"Topic10\", \"Topic10\", \"Topic10\", \"Topic10\", \"Topic10\", \"Topic10\", \"Topic10\", \"Topic10\", \"Topic10\", \"Topic10\", \"Topic10\", \"Topic10\", \"Topic10\", \"Topic10\", \"Topic10\", \"Topic10\", \"Topic10\", \"Topic10\", \"Topic10\", \"Topic10\"], \"logprob\": [30.0, 29.0, 28.0, 27.0, 26.0, 25.0, 24.0, 23.0, 22.0, 21.0, 20.0, 19.0, 18.0, 17.0, 16.0, 15.0, 14.0, 13.0, 12.0, 11.0, 10.0, 9.0, 8.0, 7.0, 6.0, 5.0, 4.0, 3.0, 2.0, 1.0, -7.0842, -7.128, -7.1321, -7.1107, -7.1275, -7.1268, -7.074, -7.2651, -7.1309, -7.0332, -7.1423, -7.14, -7.1555, -7.1405, -7.0027, -7.1616, -7.1678, -7.1635, -7.1831, -7.1718, -7.1775, -7.012, -7.1507, -7.1634, -7.0763, -7.1855, -7.1756, -7.1964, -7.2545, -7.0893, -7.1736, -7.1792, -7.1817, -7.1758, -6.8777, -6.9754, -7.0275, -6.8857, -7.0536, -7.0601, -7.076, -7.0791, -7.1126, -7.0942, -7.1063, -7.101, -7.0863, -7.1183, -7.1024, -6.9689, -7.1134, -6.9778, -7.0887, -7.1338, -7.1174, -7.1131, -7.122, -7.1345, -7.1235, -7.1327, -7.1438, -7.1388, -7.1118, -7.1223, -7.0312, -7.1089, -6.9964, -7.0331, -7.0124, -7.0736, -7.0948, -7.0968, -7.0967, -7.0985, -7.0978, -7.0921, -7.0207, -6.9172, -7.0383, -7.0441, -7.0274, -7.0516, -7.1023, -6.9279, -7.0809, -7.045, -7.0983, -7.0754, -7.1198, -7.0971, -7.0091, -7.0448, -7.115, -7.1013, -7.1398, -7.139, -7.1096, -7.1358, -6.9925, -7.1491, -7.1072, -7.1436, -7.1373, -7.148, -7.1138, -7.1529, -7.098, -7.1269, -7.1194, -7.1233, -7.1377, -6.6861, -6.7191, -6.8327, -6.7791, -7.0431, -7.0325, -6.8034, -7.0943, -6.9307, -7.0796, -7.0625, -7.0566, -7.0791, -7.0962, -7.1098, -7.0828, -7.1308, -7.168, -7.0968, -7.0991, -6.9614, -7.0348, -7.1058, -7.1463, -7.1039, -7.1372, -7.1367, -7.1646, -7.0702, -7.1485, -7.1244, -7.0164, -7.0452, -7.091, -7.0962, -7.0928, -7.0646, -7.0709, -7.1085, -7.0564, -6.8899, -7.0881, -7.054, -7.1106, -7.1297, -7.1183, -7.1413, -7.1596, -7.1093, -7.1598, -7.1819, -7.1318, -7.2008, -7.1526, -7.12, -7.1555, -7.1594, -7.1401, -7.1888, -7.1771, -7.1913, -7.1834, -7.2219, -7.1755, -7.1834, -7.1773, -7.1868, -7.1952, -7.1602, -7.1627, -7.1486, -7.1864, -7.1789, -7.1142, -7.1271, -7.0249, -7.1267, -7.1028, -7.0037, -7.2204, -7.0941, -7.1641, -7.1547, -7.1701, -7.1894, -7.0792, -7.1628, -7.1647, -7.2275, -7.1959, -7.1676, -7.1902, -7.2161, -7.1619, -7.1976, -7.2178, -7.2033, -7.2297, -7.0986, -7.2211, -7.298, -7.2764, -7.2136, -7.2188, -7.1346, -7.2092, -7.2063, -7.218, -6.8657, -7.0175, -7.0693, -7.1123, -7.1276, -7.1595, -7.1362, -7.0071, -7.207, -7.0634, -7.2213, -7.1832, -7.1945, -7.1767, -7.2089, -7.1849, -7.2112, -7.198, -7.2049, -7.2177, -7.213, -7.2545, -7.2284, -7.232, -7.2406, -7.2624, -7.2322, -7.2352, -7.281, -7.2662, -7.166, -7.208, -7.2284, -7.1888, -7.2226, -7.217, -7.2234, -7.2151, -6.8792, -7.0811, -7.0987, -7.1114, -7.1326, -7.1578, -7.1467, -7.1571, -7.1705, -7.1511, -7.1631, -7.1788, -7.1312, -7.1702, -7.1777, -7.2162, -7.1714, -7.209, -7.1874, -7.2062, -7.1867, -7.1729, -7.1816, -7.2049, -7.2218, -7.2806, -7.2003, -7.2351, -7.265, -7.2231, -7.2057, -7.2136, -7.171, -7.164, -7.2126, -7.2104, -7.2086, -7.2104, -7.0832, -7.1178, -7.1083, -7.1342, -7.1361, -7.153, -7.1485, -7.148, -7.0736, -7.1481, -7.1512, -7.1691, -7.1184, -7.1822, -7.1888, -7.1743, -7.1912, -7.004, -7.1691, -7.2181, -7.1969, -7.2146, -7.1709, -7.1856, -7.1661, -7.1959, -7.1669, -7.1491, -7.1951, -7.1964, -7.1625, -7.1762, -7.1825, -7.1854, -7.1842, -7.1435, -7.1825, -7.1825, -6.9273, -6.971, -6.9611, -6.9867, -6.9814, -7.0153, -7.0, -7.0217, -7.0282, -7.0942, -7.0701, -7.0601, -7.0721, -7.0724, -7.0721, -7.0998, -7.1057, -7.0759, -7.0966, -7.1144, -7.0681, -7.0686, -7.0666, -7.0982, -7.0687, -7.0879, -7.0955, -7.0994, -7.0756, -7.0716, -7.0681, -7.0784, -7.0854, -7.0888, -7.0804, -7.0845, -7.0888, -7.0898], \"loglift\": [30.0, 29.0, 28.0, 27.0, 26.0, 25.0, 24.0, 23.0, 22.0, 21.0, 20.0, 19.0, 18.0, 17.0, 16.0, 15.0, 14.0, 13.0, 12.0, 11.0, 10.0, 9.0, 8.0, 7.0, 6.0, 5.0, 4.0, 3.0, 2.0, 1.0, 0.5725, 0.5356, 0.5219, 0.5137, 0.5042, 0.4873, 0.486, 0.4839, 0.4817, 0.4787, 0.4781, 0.477, 0.4668, 0.4664, 0.4637, 0.4637, 0.4586, 0.4573, 0.4573, 0.4487, 0.4444, 0.4439, 0.4435, 0.44, 0.4384, 0.4378, 0.4366, 0.4281, 0.4276, 0.4259, 0.4256, 0.4121, 0.4064, 0.3896, 0.7466, 0.6978, 0.6975, 0.6711, 0.6577, 0.6258, 0.6138, 0.6074, 0.6062, 0.6037, 0.5764, 0.5742, 0.5736, 0.5714, 0.5695, 0.5647, 0.5616, 0.561, 0.5595, 0.5567, 0.5514, 0.5514, 0.5453, 0.5452, 0.5423, 0.5399, 0.5377, 0.531, 0.5299, 0.5233, 0.5147, 0.5187, 0.4662, 0.4792, 0.4299, 0.4684, 0.4813, 0.4852, 0.4843, 0.4622, 0.4428, 0.4048, 0.6682, 0.6669, 0.6512, 0.623, 0.6126, 0.5966, 0.5957, 0.5948, 0.572, 0.5548, 0.5456, 0.5431, 0.5416, 0.5384, 0.5209, 0.5207, 0.5153, 0.5113, 0.5058, 0.5026, 0.501, 0.4986, 0.4976, 0.4942, 0.4925, 0.4919, 0.4886, 0.4881, 0.4856, 0.4781, 0.4713, 0.4738, 0.4413, 0.4035, 0.4022, 0.795, 0.7862, 0.6821, 0.6768, 0.6651, 0.6645, 0.663, 0.6547, 0.6509, 0.63, 0.6141, 0.6128, 0.6083, 0.604, 0.5975, 0.5738, 0.5732, 0.5476, 0.5473, 0.5367, 0.5347, 0.5335, 0.5335, 0.5293, 0.5225, 0.5192, 0.5064, 0.5028, 0.4952, 0.4893, 0.4882, 0.4707, 0.4306, 0.4637, 0.4638, 0.4537, 0.3778, 0.3798, 0.4335, 0.5702, 0.5608, 0.5586, 0.5272, 0.5151, 0.4949, 0.4918, 0.4911, 0.4773, 0.4752, 0.4723, 0.4718, 0.4693, 0.4612, 0.4574, 0.4559, 0.4514, 0.4478, 0.4403, 0.4295, 0.428, 0.4261, 0.417, 0.4164, 0.4149, 0.4145, 0.414, 0.4098, 0.4078, 0.4075, 0.4034, 0.3973, 0.4049, 0.3266, 0.4883, 0.4872, 0.4856, 0.4807, 0.4778, 0.4721, 0.4562, 0.4535, 0.4382, 0.4366, 0.428, 0.4271, 0.4266, 0.4242, 0.4232, 0.4199, 0.4177, 0.417, 0.4074, 0.4066, 0.4048, 0.3998, 0.3919, 0.3893, 0.3888, 0.3826, 0.3794, 0.3772, 0.3762, 0.3735, 0.3721, 0.3579, 0.3674, 0.3357, 0.3627, 0.6784, 0.6353, 0.6098, 0.5773, 0.5313, 0.5204, 0.4975, 0.4745, 0.4523, 0.4484, 0.4432, 0.4414, 0.4388, 0.4383, 0.4344, 0.4296, 0.4223, 0.4186, 0.4131, 0.4078, 0.3962, 0.3928, 0.3923, 0.39, 0.3894, 0.389, 0.3887, 0.3879, 0.3877, 0.386, 0.3805, 0.3829, 0.3834, 0.3712, 0.3805, 0.3753, 0.3737, 0.2273, 0.6461, 0.5211, 0.4902, 0.4747, 0.4669, 0.4605, 0.4517, 0.447, 0.4449, 0.4383, 0.4383, 0.4322, 0.4294, 0.4159, 0.4116, 0.4098, 0.4075, 0.406, 0.4049, 0.3986, 0.3982, 0.3913, 0.3838, 0.3835, 0.3831, 0.379, 0.3767, 0.3765, 0.3759, 0.3728, 0.3713, 0.3665, 0.3472, 0.3311, 0.3637, 0.3575, 0.332, 0.3447, 0.5507, 0.53, 0.5201, 0.4948, 0.4818, 0.4773, 0.4757, 0.4746, 0.468, 0.4647, 0.4568, 0.4491, 0.4481, 0.4447, 0.4413, 0.4331, 0.4328, 0.4277, 0.4194, 0.4194, 0.4192, 0.4172, 0.4153, 0.412, 0.4107, 0.4065, 0.4057, 0.4057, 0.4043, 0.4035, 0.402, 0.4005, 0.4013, 0.3942, 0.3928, 0.3205, 0.3849, 0.3358, 0.6833, 0.6658, 0.6253, 0.6187, 0.5928, 0.5851, 0.5835, 0.5673, 0.5654, 0.5564, 0.5504, 0.5375, 0.5334, 0.5329, 0.5228, 0.5187, 0.5185, 0.5184, 0.5183, 0.5173, 0.515, 0.5145, 0.5136, 0.5119, 0.511, 0.5096, 0.5091, 0.5069, 0.5038, 0.4999, 0.4966, 0.4952, 0.4994, 0.4983, 0.4808, 0.4763, 0.4882, 0.4879]}, \"token.table\": {\"Topic\": [1, 2, 3, 4, 5, 6, 7, 8, 9, 10, 1, 2, 3, 4, 5, 6, 7, 8, 9, 10, 1, 2, 3, 4, 5, 6, 7, 8, 9, 10, 1, 2, 3, 4, 5, 6, 7, 8, 9, 10, 1, 2, 3, 4, 5, 6, 7, 8, 9, 10, 1, 2, 3, 4, 5, 6, 7, 8, 9, 10, 1, 2, 3, 4, 5, 6, 7, 8, 9, 10, 1, 2, 3, 4, 5, 6, 7, 8, 9, 10, 1, 2, 3, 4, 5, 6, 7, 8, 9, 10, 1, 2, 3, 4, 5, 6, 7, 8, 9, 10, 1, 2, 3, 4, 5, 6, 7, 8, 9, 10, 1, 2, 3, 4, 5, 6, 7, 8, 9, 10, 1, 2, 3, 4, 5, 6, 7, 8, 9, 10, 1, 2, 3, 4, 5, 6, 7, 8, 9, 10, 1, 2, 3, 4, 5, 6, 7, 8, 9, 10, 1, 2, 3, 4, 5, 6, 7, 8, 9, 10, 1, 2, 3, 4, 5, 6, 7, 8, 9, 10, 1, 2, 3, 4, 5, 6, 7, 8, 9, 10, 1, 2, 3, 4, 5, 6, 7, 8, 9, 10, 1, 2, 3, 4, 5, 6, 7, 8, 9, 10, 1, 2, 3, 4, 5, 6, 7, 8, 9, 10, 1, 2, 3, 4, 5, 6, 7, 8, 9, 10, 1, 2, 3, 4, 5, 6, 7, 8, 9, 10, 1, 2, 3, 4, 5, 6, 7, 8, 9, 10, 1, 2, 3, 4, 5, 6, 7, 8, 9, 10, 1, 2, 3, 4, 5, 6, 7, 8, 9, 10, 1, 2, 3, 4, 5, 6, 7, 8, 9, 10, 1, 2, 3, 4, 5, 6, 7, 8, 9, 10, 1, 2, 3, 4, 5, 6, 7, 8, 9, 10, 1, 2, 3, 4, 5, 6, 7, 8, 9, 10, 1, 2, 3, 4, 5, 6, 7, 8, 9, 10, 1, 2, 3, 4, 5, 6, 7, 8, 9, 10, 1, 2, 3, 4, 5, 6, 7, 8, 9, 10, 1, 2, 3, 4, 5, 6, 7, 8, 9, 10, 1, 2, 3, 4, 5, 6, 7, 8, 9, 10, 1, 2, 3, 4, 5, 6, 7, 8, 9, 10, 1, 2, 3, 4, 5, 6, 7, 8, 9, 10, 1, 2, 3, 4, 5, 6, 7, 8, 9, 10, 1, 2, 3, 4, 5, 6, 7, 8, 9, 10, 1, 2, 3, 4, 5, 6, 7, 8, 9, 10, 1, 2, 3, 4, 5, 6, 7, 8, 9, 10, 1, 2, 3, 4, 5, 6, 7, 8, 9, 10, 1, 2, 3, 4, 5, 6, 7, 8, 9, 10, 1, 2, 3, 4, 5, 6, 7, 8, 9, 10, 1, 2, 3, 4, 5, 6, 7, 8, 9, 10, 1, 2, 3, 4, 5, 6, 7, 8, 9, 10, 1, 2, 3, 4, 5, 6, 7, 8, 9, 10, 1, 2, 3, 4, 5, 6, 7, 8, 9, 10, 1, 2, 3, 4, 5, 6, 7, 8, 9, 10, 1, 2, 3, 4, 5, 6, 7, 8, 9, 10, 1, 2, 3, 4, 5, 6, 7, 8, 9, 10, 1, 2, 3, 4, 5, 6, 7, 8, 9, 10, 1, 2, 3, 4, 5, 6, 7, 8, 9, 10, 1, 2, 3, 4, 5, 6, 7, 8, 9, 10, 1, 2, 3, 4, 5, 6, 7, 8, 9, 10, 1, 2, 3, 4, 5, 6, 7, 8, 9, 10, 1, 2, 3, 4, 5, 6, 7, 8, 9, 10, 1, 2, 3, 4, 5, 6, 7, 8, 9, 10, 1, 2, 3, 4, 5, 6, 7, 8, 9, 10, 1, 2, 3, 4, 5, 6, 7, 8, 9, 10, 1, 2, 3, 4, 5, 6, 7, 8, 9, 10, 1, 2, 3, 4, 5, 6, 7, 8, 9, 10, 1, 2, 3, 4, 5, 6, 7, 8, 9, 10, 1, 2, 3, 4, 5, 6, 7, 8, 9, 10, 1, 2, 3, 4, 5, 6, 7, 8, 9, 10, 1, 2, 3, 4, 5, 6, 7, 8, 9, 10, 1, 2, 3, 4, 5, 6, 7, 8, 9, 10, 1, 2, 3, 4, 5, 6, 7, 8, 9, 10, 1, 2, 3, 4, 5, 6, 7, 8, 9, 10, 1, 2, 3, 4, 5, 6, 7, 8, 9, 10, 1, 2, 3, 4, 5, 6, 7, 8, 9, 10, 1, 2, 3, 4, 5, 6, 7, 8, 9, 10, 1, 2, 3, 4, 5, 6, 7, 8, 9, 10, 1, 2, 3, 4, 5, 6, 7, 8, 9, 10, 1, 2, 3, 4, 5, 6, 7, 8, 9, 10, 1, 2, 3, 4, 5, 6, 7, 8, 9, 10, 1, 2, 3, 4, 5, 6, 7, 8, 9, 10, 1, 2, 3, 4, 5, 6, 7, 8, 9, 10, 1, 2, 3, 4, 5, 6, 7, 8, 9, 10, 1, 2, 3, 4, 5, 6, 7, 8, 9, 10, 1, 2, 3, 4, 5, 6, 7, 8, 9, 10, 1, 2, 3, 4, 5, 6, 7, 8, 9, 10, 1, 2, 3, 4, 5, 6, 7, 8, 9, 10, 1, 2, 3, 4, 5, 6, 7, 8, 9, 10, 1, 2, 3, 4, 5, 6, 7, 8, 9, 10, 1, 2, 3, 4, 5, 6, 7, 8, 9, 10, 1, 2, 3, 4, 5, 6, 7, 8, 9, 10, 1, 2, 3, 4, 5, 6, 7, 8, 9, 10, 1, 2, 3, 4, 5, 6, 7, 8, 9, 10, 1, 2, 3, 4, 5, 6, 7, 8, 9, 10, 1, 2, 3, 4, 5, 6, 7, 8, 9, 10, 1, 2, 3, 4, 5, 6, 7, 8, 9, 10, 1, 2, 3, 4, 5, 6, 7, 8, 9, 10, 1, 2, 3, 4, 5, 6, 7, 8, 9, 10, 1, 2, 3, 4, 5, 6, 7, 8, 9, 10, 1, 2, 3, 4, 5, 6, 7, 8, 9, 10, 1, 2, 3, 4, 5, 6, 7, 8, 9, 10, 1, 2, 3, 4, 5, 6, 7, 8, 9, 10, 1, 2, 3, 4, 5, 6, 7, 8, 9, 10, 1, 2, 3, 4, 5, 6, 7, 8, 9, 10, 1, 2, 3, 4, 5, 6, 7, 8, 9, 10, 1, 2, 3, 4, 5, 6, 7, 8, 9, 10, 1, 2, 3, 4, 5, 6, 7, 8, 9, 10, 1, 2, 3, 4, 5, 6, 7, 8, 9, 10, 1, 2, 3, 4, 5, 6, 7, 8, 9, 10, 1, 2, 3, 4, 5, 6, 7, 8, 9, 10, 1, 2, 3, 4, 5, 6, 7, 8, 9, 10, 1, 2, 3, 4, 5, 6, 7, 8, 9, 10, 1, 2, 3, 4, 5, 6, 7, 8, 9, 10, 1, 2, 3, 4, 5, 6, 7, 8, 9, 10, 1, 2, 3, 4, 5, 6, 7, 8, 9, 10, 1, 2, 3, 4, 5, 6, 7, 8, 9, 10, 1, 2, 3, 4, 5, 6, 7, 8, 9, 10, 1, 2, 3, 4, 5, 6, 7, 8, 9, 10, 1, 2, 3, 4, 5, 6, 7, 8, 9, 10, 1, 2, 3, 4, 5, 6, 7, 8, 9, 10, 1, 2, 3, 4, 5, 6, 7, 8, 9, 10, 1, 2, 3, 4, 5, 6, 7, 8, 9, 10, 1, 2, 3, 4, 5, 6, 7, 8, 9, 10, 1, 2, 3, 4, 5, 6, 7, 8, 9, 10, 1, 2, 3, 4, 5, 6, 7, 8, 9, 10, 1, 2, 3, 4, 5, 6, 7, 8, 9, 10, 1, 2, 3, 4, 5, 6, 7, 8, 9, 10, 1, 2, 3, 4, 5, 6, 7, 8, 9, 10, 1, 2, 3, 4, 5, 6, 7, 8, 9, 10, 1, 2, 3, 4, 5, 6, 7, 8, 9, 10, 1, 2, 3, 4, 5, 6, 7, 8, 9, 10, 1, 2, 3, 4, 5, 6, 7, 8, 9, 10, 1, 2, 3, 4, 5, 6, 7, 8, 9, 10, 1, 2, 3, 4, 5, 6, 7, 8, 9, 10, 1, 2, 3, 4, 5, 6, 7, 8, 9, 10, 1, 2, 3, 4, 5, 6, 7, 8, 9, 10, 1, 2, 3, 4, 5, 6, 7, 8, 9, 10, 1, 2, 3, 4, 5, 6, 7, 8, 9, 10, 1, 2, 3, 4, 5, 6, 7, 8, 9, 10, 1, 2, 3, 4, 5, 6, 7, 8, 9, 10, 1, 2, 3, 4, 5, 6, 7, 8, 9, 10, 1, 2, 3, 4, 5, 6, 7, 8, 9, 10, 1, 2, 3, 4, 5, 6, 7, 8, 9, 10, 1, 2, 3, 4, 5, 6, 7, 8, 9, 10, 1, 2, 3, 4, 5, 6, 7, 8, 9, 10, 1, 2, 3, 4, 5, 6, 7, 8, 9, 10, 1, 2, 3, 4, 5, 6, 7, 8, 9, 10, 1, 2, 3, 4, 5, 6, 7, 8, 9, 10, 1, 2, 3, 4, 5, 6, 7, 8, 9, 10, 1, 2, 3, 4, 5, 6, 7, 8, 9, 10, 1, 2, 3, 4, 5, 6, 7, 8, 9, 10, 1, 2, 3, 4, 5, 6, 7, 8, 9, 10, 1, 2, 3, 4, 5, 6, 7, 8, 9, 10, 1, 2, 3, 4, 5, 6, 7, 8, 9, 10, 1, 2, 3, 4, 5, 6, 7, 8, 9, 10, 1, 2, 3, 4, 5, 6, 7, 8, 9, 10, 1, 2, 3, 4, 5, 6, 7, 8, 9, 10, 1, 2, 3, 4, 5, 6, 7, 8, 9, 10, 1, 2, 3, 4, 5, 6, 7, 8, 9, 10, 1, 2, 3, 4, 5, 6, 7, 8, 9, 10, 1, 2, 3, 4, 5, 6, 7, 8, 9, 10, 1, 2, 3, 4, 5, 6, 7, 8, 9, 10, 1, 2, 3, 4, 5, 6, 7, 8, 9, 10, 1, 2, 3, 4, 5, 6, 7, 8, 9, 10, 1, 2, 3, 4, 5, 6, 7, 8, 9, 10, 1, 2, 3, 4, 5, 6, 7, 8, 9, 10, 1, 2, 3, 4, 5, 6, 7, 8, 9, 10, 1, 2, 3, 4, 5, 6, 7, 8, 9, 10, 1, 2, 3, 4, 5, 6, 7, 8, 9, 10, 1, 2, 3, 4, 5, 6, 7, 8, 9, 10, 1, 2, 3, 4, 5, 6, 7, 8, 9, 10, 1, 2, 3, 4, 5, 6, 7, 8, 9, 10, 1, 2, 3, 4, 5, 6, 7, 8, 9, 10, 1, 2, 3, 4, 5, 6, 7, 8, 9, 10, 1, 2, 3, 4, 5, 6, 7, 8, 9, 10, 1, 2, 3, 4, 5, 6, 7, 8, 9, 10, 1, 2, 3, 4, 5, 6, 7, 8, 9, 10, 1, 2, 3, 4, 5, 6, 7, 8, 9, 10, 1, 2, 3, 4, 5, 6, 7, 8, 9, 10, 1, 2, 3, 4, 5, 6, 7, 8, 9, 10, 1, 2, 3, 4, 5, 6, 7, 8, 9, 10, 1, 2, 3, 4, 5, 6, 7, 8, 9, 10, 1, 2, 3, 4, 5, 6, 7, 8, 9, 10, 1, 2, 3, 4, 5, 6, 7, 8, 9, 10, 1, 2, 3, 4, 5, 6, 7, 8, 9, 10, 1, 2, 3, 4, 5, 6, 7, 8, 9, 10, 1, 2, 3, 4, 5, 6, 7, 8, 9, 10, 1, 2, 3, 4, 5, 6, 7, 8, 9, 10, 1, 2, 3, 4, 5, 6, 7, 8, 9, 10, 1, 2, 3, 4, 5, 6, 7, 8, 9, 10, 1, 2, 3, 4, 5, 6, 7, 8, 9, 10, 1, 2, 3, 4, 5, 6, 7, 8, 9, 10, 1, 2, 3, 4, 5, 6, 7, 8, 9, 10, 1, 2, 3, 4, 5, 6, 7, 8, 9, 10, 1, 2, 3, 4, 5, 6, 7, 8, 9, 10, 1, 2, 3, 4, 5, 6, 7, 8, 9, 10, 1, 2, 3, 4, 5, 6, 7, 8, 9, 10, 1, 2, 3, 4, 5, 6, 7, 8, 9, 10, 1, 2, 3, 4, 5, 6, 7, 8, 9, 10, 1, 2, 3, 4, 5, 6, 7, 8, 9, 10, 1, 2, 3, 4, 5, 6, 7, 8, 9, 10, 1, 2, 3, 4, 5, 6, 7, 8, 9, 10, 1, 2, 3, 4, 5, 6, 7, 8, 9, 10, 1, 2, 3, 4, 5, 6, 7, 8, 9, 10, 1, 2, 3, 4, 5, 6, 7, 8, 9, 10, 1, 2, 3, 4, 5, 6, 7, 8, 9, 10, 1, 2, 3, 4, 5, 6, 7, 8, 9, 10, 1, 2, 3, 4, 5, 6, 7, 8, 9, 10, 1, 2, 3, 4, 5, 6, 7, 8, 9, 10, 1, 2, 3, 4, 5, 6, 7, 8, 9, 10, 1, 2, 3, 4, 5, 6, 7, 8, 9, 10, 1, 2, 3, 4, 5, 6, 7, 8, 9, 10, 1, 2, 3, 4, 5, 6, 7, 8, 9, 10, 1, 2, 3, 4, 5, 6, 7, 8, 9, 10, 1, 2, 3, 4, 5, 6, 7, 8, 9, 10, 1, 2, 3, 4, 5, 6, 7, 8, 9, 10, 1, 2, 3, 4, 5, 6, 7, 8, 9, 10, 1, 2, 3, 4, 5, 6, 7, 8, 9, 10, 1, 2, 3, 4, 5, 6, 7, 8, 9, 10, 1, 2, 3, 4, 5, 6, 7, 8, 9, 10, 1, 2, 3, 4, 5, 6, 7, 8, 9, 10, 1, 2, 3, 4, 5, 6, 7, 8, 9, 10, 1, 2, 3, 4, 5, 6, 7, 8, 9, 10, 1, 2, 3, 4, 5, 6, 7, 8, 9, 10, 1, 2, 3, 4, 5, 6, 7, 8, 9, 10, 1, 2, 3, 4, 5, 6, 7, 8, 9, 10, 1, 2, 3, 4, 5, 6, 7, 8, 9, 10, 1, 2, 3, 4, 5, 6, 7, 8, 9, 10, 1, 2, 3, 4, 5, 6, 7, 8, 9, 10, 1, 2, 3, 4, 5, 6, 7, 8, 9, 10, 1, 2, 3, 4, 5, 6, 7, 8, 9, 10, 1, 2, 3, 4, 5, 6, 7, 8, 9, 10, 1, 2, 3, 4, 5, 6, 7, 8, 9, 10, 1, 2, 3, 4, 5, 6, 7, 8, 9, 10, 1, 2, 3, 4, 5, 6, 7, 8, 9, 10, 1, 2, 3, 4, 5, 6, 7, 8, 9, 10, 1, 2, 3, 4, 5, 6, 7, 8, 9, 10, 1, 2, 3, 4, 5, 6, 7, 8, 9, 10, 1, 2, 3, 4, 5, 6, 7, 8, 9, 10, 1, 2, 3, 4, 5, 6, 7, 8, 9, 10, 1, 2, 3, 4, 5, 6, 7, 8, 9, 10, 1, 2, 3, 4, 5, 6, 7, 8, 9, 10, 1, 2, 3, 4, 5, 6, 7, 8, 9, 10, 1, 2, 3, 4, 5, 6, 7, 8, 9, 10, 1, 2, 3, 4, 5, 6, 7, 8, 9, 10, 1, 2, 3, 4, 5, 6, 7, 8, 9, 10, 1, 2, 3, 4, 5, 6, 7, 8, 9, 10, 1, 2, 3, 4, 5, 6, 7, 8, 9, 10, 1, 2, 3, 4, 5, 6, 7, 8, 9, 10, 1, 2, 3, 4, 5, 6, 7, 8, 9, 10, 1, 2, 3, 4, 5, 6, 7, 8, 9, 10, 1, 2, 3, 4, 5, 6, 7, 8, 9, 10, 1, 2, 3, 4, 5, 6, 7, 8, 9, 10, 1, 2, 3, 4, 5, 6, 7, 8, 9, 10, 1, 2, 3, 4, 5, 6, 7, 8, 9, 10, 1, 2, 3, 4, 5, 6, 7, 8, 9, 10, 1, 2, 3, 4, 5, 6, 7, 8, 9, 10, 1, 2, 3, 4, 5, 6, 7, 8, 9, 10, 1, 2, 3, 4, 5, 6, 7, 8, 9, 10, 1, 2, 3, 4, 5, 6, 7, 8, 9, 10, 1, 2, 3, 4, 5, 6, 7, 8, 9, 10, 1, 2, 3, 4, 5, 6, 7, 8, 9, 10, 1, 2, 3, 4, 5, 6, 7, 8, 9, 10, 1, 2, 3, 4, 5, 6, 7, 8, 9, 10, 1, 2, 3, 4, 5, 6, 7, 8, 9, 10, 1, 2, 3, 4, 5, 6, 7, 8, 9, 10, 1, 2, 3, 4, 5, 6, 7, 8, 9, 10, 1, 2, 3, 4, 5, 6, 7, 8, 9, 10, 1, 2, 3, 4, 5, 6, 7, 8, 9, 10, 1, 2, 3, 4, 5, 6, 7, 8, 9, 10, 1, 2, 3, 4, 5, 6, 7, 8, 9, 10, 1, 2, 3, 4, 5, 6, 7, 8, 9, 10, 1, 2, 3, 4, 5, 6, 7, 8, 9, 10, 1, 2, 3, 4, 5, 6, 7, 8, 9, 10, 1, 2, 3, 4, 5, 6, 7, 8, 9, 10, 1, 2, 3, 4, 5, 6, 7, 8, 9, 10, 1, 2, 3, 4, 5, 6, 7, 8, 9, 10, 1, 2, 3, 4, 5, 6, 7, 8, 9, 10, 1, 2, 3, 4, 5, 6, 7, 8, 9, 10, 1, 2, 3, 4, 5, 6, 7, 8, 9, 10, 1, 2, 3, 4, 5, 6, 7, 8, 9, 10, 1, 2, 3, 4, 5, 6, 7, 8, 9, 10, 1, 2, 3, 4, 5, 6, 7, 8, 9, 10, 1, 2, 3, 4, 5, 6, 7, 8, 9, 10, 1, 2, 3, 4, 5, 6, 7, 8, 9, 10, 1, 2, 3, 4, 5, 6, 7, 8, 9, 10, 1, 2, 3, 4, 5, 6, 7, 8, 9, 10, 1, 2, 3, 4, 5, 6, 7, 8, 9, 10, 1, 2, 3, 4, 5, 6, 7, 8, 9, 10, 1, 2, 3, 4, 5, 6, 7, 8, 9, 10, 1, 2, 3, 4, 5, 6, 7, 8, 9, 10, 1, 2, 3, 4, 5, 6, 7, 8, 9, 10, 1, 2, 3, 4, 5, 6, 7, 8, 9, 10, 1, 2, 3, 4, 5, 6, 7, 8, 9, 10, 1, 2, 3, 4, 5, 6, 7, 8, 9, 10, 1, 2, 3, 4, 5, 6, 7, 8, 9, 10, 1, 2, 3, 4, 5, 6, 7, 8, 9, 10, 1, 2, 3, 4, 5, 6, 7, 8, 9, 10, 1, 2, 3, 4, 5, 6, 7, 8, 9, 10, 1, 2, 3, 4, 5, 6, 7, 8, 9, 10, 1, 2, 3, 4, 5, 6, 7, 8, 9, 10, 1, 2, 3, 4, 5, 6, 7, 8, 9, 10, 1, 2, 3, 4, 5, 6, 7, 8, 9, 10, 1, 2, 3, 4, 5, 6, 7, 8, 9, 10, 1, 2, 3, 4, 5, 6, 7, 8, 9, 10, 1, 2, 3, 4, 5, 6, 7, 8, 9, 10, 1, 2, 3, 4, 5, 6, 7, 8, 9, 10, 1, 2, 3, 4, 5, 6, 7, 8, 9, 10, 1, 2, 3, 4, 5, 6, 7, 8, 9, 10, 1, 2, 3, 4, 5, 6, 7, 8, 9, 10, 1, 2, 3, 4, 5, 6, 7, 8, 9, 10, 1, 2, 3, 4, 5, 6, 7, 8, 9, 10, 1, 2, 3, 4, 5, 6, 7, 8, 9, 10, 1, 2, 3, 4, 5, 6, 7, 8, 9, 10, 1, 2, 3, 4, 5, 6, 7, 8, 9, 10, 1, 2, 3, 4, 5, 6, 7, 8, 9, 10, 1, 2, 3, 4, 5, 6, 7, 8, 9, 10, 1, 2, 3, 4, 5, 6, 7, 8, 9, 10, 1, 2, 3, 4, 5, 6, 7, 8, 9, 10, 1, 2, 3, 4, 5, 6, 7, 8, 9, 10, 1, 2, 3, 4, 5, 6, 7, 8, 9, 10, 1, 2, 3, 4, 5, 6, 7, 8, 9, 10, 1, 2, 3, 4, 5, 6, 7, 8, 9, 10, 1, 2, 3, 4, 5, 6, 7, 8, 9, 10, 1, 2, 3, 4, 5, 6, 7, 8, 9, 10, 1, 2, 3, 4, 5, 6, 7, 8, 9, 10, 1, 2, 3, 4, 5, 6, 7, 8, 9, 10, 1, 2, 3, 4, 5, 6, 7, 8, 9, 10, 1, 2, 3, 4, 5, 6, 7, 8, 9, 10, 1, 2, 3, 4, 5, 6, 7, 8, 9, 10, 1, 2, 3, 4, 5, 6, 7, 8, 9, 10, 1, 2, 3, 4, 5, 6, 7, 8, 9, 10, 1, 2, 3, 4, 5, 6, 7, 8, 9, 10, 1, 2, 3, 4, 5, 6, 7, 8, 9, 10, 1, 2, 3, 4, 5, 6, 7, 8, 9, 10, 1, 2, 3, 4, 5, 6, 7, 8, 9, 10, 1, 2, 3, 4, 5, 6, 7, 8, 9, 10, 1, 2, 3, 4, 5, 6, 7, 8, 9, 10, 1, 2, 3, 4, 5, 6, 7, 8, 9, 10, 1, 2, 3, 4, 5, 6, 7, 8, 9, 10, 1, 2, 3, 4, 5, 6, 7, 8, 9, 10, 1, 2, 3, 4, 5, 6, 7, 8, 9, 10, 1, 2, 3, 4, 5, 6, 7, 8, 9, 10, 1, 2, 3, 4, 5, 6, 7, 8, 9, 10, 1, 2, 3, 4, 5, 6, 7, 8, 9, 10, 1, 2, 3, 4, 5, 6, 7, 8, 9, 10, 1, 2, 3, 4, 5, 6, 7, 8, 9, 10, 1, 2, 3, 4, 5, 6, 7, 8, 9, 10, 1, 2, 3, 4, 5, 6, 7, 8, 9, 10, 1, 2, 3, 4, 5, 6, 7, 8, 9, 10, 1, 2, 3, 4, 5, 6, 7, 8, 9, 10, 1, 2, 3, 4, 5, 6, 7, 8, 9, 10], \"Freq\": [0.07459914461601837, 0.11829292931968627, 0.10017599419865324, 0.1321470561769468, 0.09378178180299451, 0.1150958231218569, 0.07353344255007524, 0.0927160797370514, 0.071402038418189, 0.12788424791317435, 0.10763051290963976, 0.11454256419741479, 0.10861794880789334, 0.11355512829916121, 0.09183153853758255, 0.09084410263932897, 0.09281897443583613, 0.15305256422930424, 0.08590692314806109, 0.04048487182839661, 0.09652749273875429, 0.09867254813294883, 0.17803959771814679, 0.08687474346487886, 0.0997450758300461, 0.1244132128632833, 0.08901979885907339, 0.10081760352714336, 0.07507693879680889, 0.051481329460668954, 0.09514264469402876, 0.11331595884906798, 0.20097547418513942, 0.10903988493023523, 0.09621166317373696, 0.08017638597811413, 0.08445245989694689, 0.07803834901869776, 0.09300460773461239, 0.04917485006657667, 0.10710479326631124, 0.19859013751461876, 0.10375776847673901, 0.09260101917816493, 0.09371669410802233, 0.08813831945873529, 0.08590696959902047, 0.09036966931845011, 0.08144426987959084, 0.059130771282442665, 0.15246757397468505, 0.1123445281918732, 0.0842583961439049, 0.10331684289074053, 0.07422763469820193, 0.08927377686675637, 0.11435068048101378, 0.14343988867355237, 0.09529223373417815, 0.032098436626249484, 0.09910239401801944, 0.1141179082631739, 0.1141179082631739, 0.10310653115006063, 0.09509825688597826, 0.08508791405587528, 0.09309618831995765, 0.09209515403694736, 0.08608894833888557, 0.11812204539521509, 0.1038176145652252, 0.11879130897367114, 0.11280183121029277, 0.11080533862249997, 0.09682989050795043, 0.09483339792015764, 0.08984216645067566, 0.0818561960995045, 0.08285444239340088, 0.1078105997408108, 0.11049530236226279, 0.10946263598504538, 0.10739730323061056, 0.11359330149391501, 0.09190730757234943, 0.08261331017739273, 0.0898419748179146, 0.0898419748179146, 0.08261331017739273, 0.12185463251165429, 0.10144651343422115, 0.0854286428919757, 0.08863221700042478, 0.15697513131400534, 0.09183579110887388, 0.10251437147037083, 0.0832929268196763, 0.09931079736192175, 0.08756435896427509, 0.10465008754267023, 0.1043899589248065, 0.10940870695003758, 0.10740120773994515, 0.09635996208443677, 0.10137871010966784, 0.09134121405920569, 0.09033746445415947, 0.09635996208443677, 0.09535621247939055, 0.10639745813489893, 0.09748327498303638, 0.10662233201269605, 0.11677683982342901, 0.10154507810732957, 0.11068413513698923, 0.09342147185874321, 0.08935966873445002, 0.09342147185874321, 0.13810130622596822, 0.05381889139688467, 0.11159713424714426, 0.1155474752824414, 0.10863437847067141, 0.11752264580008998, 0.09480818484713141, 0.0888826732941857, 0.09382059958830713, 0.08196957648241569, 0.08295716174123999, 0.10567162269419855, 0.11021106898630983, 0.11449111050034129, 0.10700103785078625, 0.11235108974332556, 0.08988087179466045, 0.09523092368719976, 0.09309090293018403, 0.14445140109856144, 0.085600830280629, 0.046010446275838085, 0.10604802044140157, 0.11210790732376738, 0.10907796388258448, 0.10705800158846254, 0.09594820897079191, 0.09190828438254804, 0.09291826552960901, 0.08887834094136514, 0.08584839750018224, 0.11008794502964545, 0.10404709216609535, 0.1160525258775679, 0.10804890340325286, 0.11505207306827851, 0.10004528092893784, 0.09004075283604406, 0.09104120564533344, 0.08603894159888655, 0.08203713036172902, 0.10704845059396349, 0.17347787294815786, 0.1135491532024306, 0.08516186490182295, 0.09567567538352949, 0.14614196569572088, 0.07675081651645772, 0.11670329634694257, 0.07885357861279903, 0.09041877014267623, 0.02523314515609569, 0.11708736252516116, 0.10231958707153724, 0.09177117603323443, 0.10548411038302807, 0.18354235206646885, 0.08966149382557387, 0.08649697051408302, 0.07594855947578022, 0.10864863369451892, 0.03797427973789011, 0.177172293795366, 0.07909477401578839, 0.08120396798954276, 0.177172293795366, 0.07593098305515686, 0.1086234896483494, 0.11600566855648965, 0.07276719209452533, 0.07276719209452533, 0.04007468550133279, 0.09600474202037773, 0.20473300406755252, 0.10641489476957532, 0.11219831296357398, 0.094848058381578, 0.08675127290997987, 0.0983181092979772, 0.08212453835478095, 0.07749780379958203, 0.04164061099679034, 0.13098766035158393, 0.07758499882363047, 0.09169136224610874, 0.08665337530950937, 0.12897246557694417, 0.14811681593602183, 0.12393447864034479, 0.09169136224610874, 0.08766097269682924, 0.03325071378155592, 0.10216864510426443, 0.11734220625836311, 0.1041917865914776, 0.10216864510426443, 0.09104136692459207, 0.09508764989901838, 0.09812236212983813, 0.09407607915541182, 0.08800665469377233, 0.10823806956590391, 0.09050322558653633, 0.19756191926817074, 0.15341400434790914, 0.09712541282457557, 0.09160692345954287, 0.081673642602484, 0.0871921319675167, 0.07174036174542513, 0.08829582984052324, 0.039733123428235456, 0.15660265876479854, 0.09375553912892544, 0.08654357458054655, 0.11436115212429367, 0.15660265876479854, 0.08551329393077814, 0.09581610042846225, 0.08036189068193608, 0.08860413588008338, 0.04224150664050487, 0.115606567139954, 0.13108958952476926, 0.09599473878585466, 0.10734895520138586, 0.09083373132424957, 0.07741511192407634, 0.10425235072442281, 0.1455404104172635, 0.07741511192407634, 0.05264227610837191, 0.13257195104451525, 0.19392756475106776, 0.08217269692841854, 0.10956359590455805, 0.08107706096937296, 0.07779015309223622, 0.11832868357692271, 0.10846795994551248, 0.06683379350178041, 0.030677806853276257, 0.1646621840115014, 0.0880485289505945, 0.0708962181160631, 0.1909623939577829, 0.0823310920057507, 0.10634432717409466, 0.10405735239615714, 0.08004411722781318, 0.06289180639328179, 0.049169957725656674, 0.11573094231162609, 0.11163427178732074, 0.09934426021440469, 0.10344093073871004, 0.09627175732117568, 0.08603008101041232, 0.14440763598176354, 0.09524758969009935, 0.08090924285503062, 0.06657089601996191, 0.16902450553771997, 0.09978555146202744, 0.09062157224612696, 0.11098597050368358, 0.08960335233324913, 0.0916397921590048, 0.09673089172339396, 0.1018219912877831, 0.08756691250749347, 0.0621114146855477, 0.09433358599457457, 0.1285526318945673, 0.1035819767783564, 0.11652972387565094, 0.1035819767783564, 0.1341016663648364, 0.09710810322970913, 0.13872586175672733, 0.06566357456485093, 0.01757194248918546, 0.10603241853665131, 0.11594199036250658, 0.10801433290182236, 0.11396007599733551, 0.09612284671079604, 0.09116806079786842, 0.09513188952821051, 0.14666166302265787, 0.08423136051976973, 0.0416202016685921, 0.09516554730795261, 0.12688739641060348, 0.1971286337093304, 0.09969724003690274, 0.08496923866781483, 0.08610216185005236, 0.0872350850322899, 0.07590585320991458, 0.08270339230333977, 0.06344369820530174, 0.09566316925108147, 0.19243870093531504, 0.10233734384999413, 0.09010135708532092, 0.08565190735271248, 0.08342718248640826, 0.10678679358260257, 0.10011261898368991, 0.0889889946521688, 0.055618121657605504, 0.08831249378595471, 0.1591805443549307, 0.08504166068277119, 0.15809026665386952, 0.06650693976473132, 0.08504166068277119, 0.08177082757958769, 0.1450069342411355, 0.08395138298171002, 0.046881941145630275, 0.17508628739129428, 0.10064840472792964, 0.09016419590210364, 0.09959998384534705, 0.09121261678468624, 0.09435787943243404, 0.10169682561051224, 0.11742313884925125, 0.07653472442852984, 0.05451788589429522, 0.18030587714165242, 0.10168412838802492, 0.09120122855420791, 0.10168412838802492, 0.0849114886539177, 0.09120122855420791, 0.10692557830493342, 0.10587728832155172, 0.0765251687868641, 0.05975252905275691, 0.10330104557507296, 0.11025400056570288, 0.1261464691157141, 0.10429432485944866, 0.1191935141250842, 0.08442873917193464, 0.08542201845631034, 0.07747578418130473, 0.1420389376657253, 0.046684126365657976, 0.1391193825948754, 0.1274376023769851, 0.10195008190158808, 0.13168552245621792, 0.13168552245621792, 0.08283444154504031, 0.15504908289199854, 0.04778910089136941, 0.05734692106964329, 0.024425540455588812, 0.09474003881630803, 0.18141709560569624, 0.1400943127177321, 0.14110218547109707, 0.10381089359659285, 0.08365343852929327, 0.09272429330957808, 0.06148023795526373, 0.08466131128265825, 0.017133836807204646, 0.102264895227521, 0.16235869963956942, 0.102264895227521, 0.09383067706442648, 0.09066784525326604, 0.07907079527901108, 0.08539645890133198, 0.14970737239492765, 0.08645073617171878, 0.04744247716740665, 0.08657595574330416, 0.1590833186783214, 0.11795973970025193, 0.08224715795613896, 0.09848014965800848, 0.11687754025346063, 0.14717912476361708, 0.05735657067993901, 0.08874035463688677, 0.04545237676523469, 0.10027978646794591, 0.13168052768518151, 0.1053444221481452, 0.10838320355626478, 0.08913758797150748, 0.08306002515526834, 0.09217636937962705, 0.16004248749429753, 0.0860988065633879, 0.042542939713674024, 0.08592890611996692, 0.12232232518254114, 0.212294944531683, 0.10210375903666657, 0.08795076273455438, 0.0990709741147854, 0.081885192890792, 0.09401633257831675, 0.07885240796891083, 0.0353824907552805, 0.07875620863680369, 0.1677043972148408, 0.0982136248882493, 0.12508339018786468, 0.10284634304335541, 0.10747906119846151, 0.07968275226782491, 0.10284634304335541, 0.11859758477071615, 0.019457416251445616, 0.09414053508111501, 0.10983062426130086, 0.1307507431682153, 0.09937056480784363, 0.11506065398802946, 0.09518654102646074, 0.08054245779162063, 0.08368047562765779, 0.14225680856701825, 0.04811627348590323, 0.09916559767425583, 0.0970779008811136, 0.12526180758853367, 0.12526180758853367, 0.09185865889825803, 0.08037632653597578, 0.08142017493254688, 0.10647253645025362, 0.13778798834738704, 0.05636781341484015, 0.13115650457078012, 0.08778191250800245, 0.10740375177449711, 0.10430556662715584, 0.08468372736066118, 0.10120738147981458, 0.09191282603779079, 0.0991419247149204, 0.08055281383087283, 0.11153466530428546, 0.0927767026129362, 0.10450709029962929, 0.13649905671788315, 0.0927767026129362, 0.1098390847026716, 0.09917509589658698, 0.08211271380685159, 0.08104631492624312, 0.13756545559849162, 0.06398393283650773, 0.10106154417339071, 0.12316875696131992, 0.11053606393964609, 0.09158702440713533, 0.17054135579259683, 0.07790160696698867, 0.1315905523091025, 0.06842708720073329, 0.08211250464087995, 0.043161701157385615, 0.1085876866665033, 0.09261890921554694, 0.12881480477104804, 0.17991489261410842, 0.10220017568612076, 0.12029812346387131, 0.09261890921554694, 0.08942515372535566, 0.0723917911110022, 0.013839607124162186, 0.09868864367305329, 0.09868864367305329, 0.0909266155189929, 0.19515956501637502, 0.09203547668385868, 0.16300259123526778, 0.08649117085952984, 0.07207597571627487, 0.06874939222167757, 0.03548355727570455, 0.11317505472251026, 0.09074396279552624, 0.08972436770793606, 0.12133181542323171, 0.10501829402178879, 0.15191966805093718, 0.09176355788311642, 0.08054801191962442, 0.08564598735757532, 0.07137165613131277, 0.07220175181609184, 0.1182434486263533, 0.12242905742728617, 0.14335710143195046, 0.12556826402798582, 0.1517283190338162, 0.08789778481959007, 0.0481345012107279, 0.10150101342262187, 0.029299261606530024, 0.10741090723781152, 0.10044908917610151, 0.11437272529952153, 0.15117090648284584, 0.15614363366978157, 0.06862363517971291, 0.0795636349909715, 0.05867818080584148, 0.12929090686032868, 0.034809090308550034, 0.10224450061879681, 0.2067361331193254, 0.1044916325005286, 0.1056151984413945, 0.08988527526927191, 0.08426744556494242, 0.1011209346779309, 0.09213240715100371, 0.07640248397888112, 0.03820124198944056, 0.09714885749282319, 0.1879619199317666, 0.10137272086207637, 0.10137272086207637, 0.08658919906969023, 0.08236533570043705, 0.1203801060237157, 0.08870113075431682, 0.07708550648887057, 0.05702215548491796, 0.09609201316860196, 0.1921840263372039, 0.09940553086407099, 0.09830102496558131, 0.08725596598068454, 0.08062893058974648, 0.10713707215349873, 0.09830102496558131, 0.0839424482852155, 0.056329800822973564, 0.133718426911576, 0.10231485695506952, 0.08813259955535692, 0.10231485695506952, 0.08408052601258188, 0.09724976502660074, 0.11041900404061959, 0.1509397394683699, 0.09218467309813194, 0.03849469865636279, 0.11057394161912237, 0.11266024240438884, 0.10014243769279008, 0.09909928730015684, 0.08449518180329163, 0.09701298651489038, 0.10014243769279008, 0.15542940850235126, 0.09701298651489038, 0.04381231649059566, 0.09630671486798606, 0.1045030310269636, 0.12294474238466305, 0.09733125438785825, 0.1045030310269636, 0.1034784915070914, 0.09938033342760264, 0.08913493822888072, 0.07376684543079783, 0.10860118910645236, 0.09043977801692028, 0.0770793562644207, 0.12024379577249629, 0.12229924527288083, 0.10174475026903532, 0.15107553827826456, 0.09866157601845849, 0.10071702551884304, 0.089412053266728, 0.04933078800922924, 0.10368181208702001, 0.09957560170733605, 0.12934562696004478, 0.1170269958209929, 0.09546939132765209, 0.08007110240383725, 0.08212420759367922, 0.10060215430225704, 0.1355049425295707, 0.05543384012573347, 0.10385891477475541, 0.0957131175375197, 0.13542387906904382, 0.09673134219217415, 0.15578837216213312, 0.09673134219217415, 0.09469489288286523, 0.07331217513512146, 0.09265844357355629, 0.0549841313513411, 0.09775555973681513, 0.10094324103258084, 0.09775555973681513, 0.10094324103258084, 0.11156884535179988, 0.11050628491987798, 0.08181715325798658, 0.09669299930489322, 0.15725894392444173, 0.04462753814071995, 0.11529828905973465, 0.10464046402059951, 0.09010706623996069, 0.10948492994747912, 0.13370725958187715, 0.10560935720597543, 0.10270267764984767, 0.07169809571781818, 0.1443650846210123, 0.022284543263646192, 0.09507415348157089, 0.16733051012756475, 0.19775423924166746, 0.1064830518993594, 0.10933527650380652, 0.07796080585488813, 0.08366525506378238, 0.06655190743709963, 0.06845339050673103, 0.028522246044471268, 0.11352861921471959, 0.11662485428421193, 0.10836822743223233, 0.11662485428421193, 0.09082289537177567, 0.08050211180680115, 0.08979081701527822, 0.14758720497913547, 0.08153419016329862, 0.055732231250862345, 0.14541147413782834, 0.1328579655791669, 0.12344283416017084, 0.10775094846184403, 0.16005723412293338, 0.06172141708008542, 0.09624356561640438, 0.05230628566108934, 0.07845942849163401, 0.04184502852887147, 0.10061361252493477, 0.13244036750731208, 0.08932024785376862, 0.12936035896063042, 0.09137358688488974, 0.069813527058118, 0.0944535954315714, 0.15810710539632605, 0.0924002564004503, 0.041066780622422354, 0.10071714642982925, 0.09753660496362411, 0.12722165864820537, 0.11449949278338482, 0.1091985903397096, 0.08163389763259844, 0.1091985903397096, 0.08693480007627366, 0.06361082932410268, 0.11025877082844465, 0.10445286839824577, 0.11467108378503069, 0.08515179488987427, 0.193010735083715, 0.13170144276300552, 0.09082858121586589, 0.077204294033486, 0.06698607864670109, 0.07379822223789104, 0.06358000685110612, 0.12294774637312386, 0.1624011276719621, 0.14129815627956027, 0.16882377113921485, 0.08532940606492925, 0.06330891417720558, 0.1064323774573311, 0.06606147566317103, 0.06606147566317103, 0.017432889411114576, 0.15952248980668354, 0.09548881432090212, 0.07976124490334177, 0.11683337281616259, 0.08762502961212194, 0.09324201868982207, 0.17749685485532393, 0.06965066456348154, 0.07639105145672169, 0.04268911699052095, 0.1717553613055721, 0.07738428366514787, 0.13306321947299818, 0.13966919490782786, 0.13778177335501937, 0.0981459207460412, 0.10852673928648787, 0.05662264658425454, 0.05756635736065878, 0.01981792630448909, 0.09746122348583948, 0.10612444335124743, 0.19275664200532697, 0.10504154086807144, 0.09637832100266348, 0.08554929617090354, 0.0920467110699595, 0.08013478375502357, 0.08879800362043153, 0.0563109291251517, 0.17789323258508485, 0.08687809033225075, 0.07653546053079233, 0.11583745377633432, 0.08687809033225075, 0.09722072013370917, 0.10239203503443838, 0.12100876867706353, 0.09618645715356332, 0.03826773026539616, 0.10110452969878977, 0.11458513365862841, 0.20894936137749887, 0.10784483167870909, 0.09324084405555057, 0.08650054207563125, 0.08762392573895113, 0.0820070074223517, 0.0741433217791125, 0.04268857920615568, 0.12228481772855812, 0.08529109135689347, 0.10070514401175375, 0.11817440368726205, 0.10584316156337382, 0.09145671241883759, 0.08837390188786552, 0.08940150539818954, 0.08220828082592142, 0.11714680017693803, 0.12589324200817453, 0.08564868103834826, 0.0897763283173048, 0.11660603563052233, 0.10009544651469615, 0.10215927015417442, 0.08048912193965257, 0.10422309379365269, 0.08564868103834826, 0.10938265289234837, 0.10940623452686628, 0.08902664182088138, 0.08473620125120035, 0.13085843737527142, 0.08902664182088138, 0.12227755623590936, 0.1544558605085171, 0.08366359110878009, 0.07508270996941803, 0.0632839984027952, 0.1141080472241513, 0.10418560833509467, 0.10220112055728334, 0.10220112055728334, 0.09922438889056635, 0.11212355944633998, 0.09128643777932104, 0.14585985166913254, 0.08037175500135875, 0.04762770666747185, 0.1323273110622734, 0.08856552315191528, 0.08335578649592026, 0.13857899504946744, 0.0958591544703083, 0.16775352032303953, 0.10002694379510431, 0.07606215517752724, 0.06981047119033322, 0.04584568257275614, 0.10242617472082026, 0.22463922410361714, 0.09078683668436341, 0.11406551275727711, 0.08845896907707204, 0.07681963104061519, 0.12570485079373395, 0.07449176343332382, 0.07099996202238677, 0.03142621269843349, 0.12141802826087779, 0.10624077472826807, 0.0930871550000063, 0.11737076065218185, 0.08296898597826649, 0.08499261978261445, 0.09713442260870223, 0.1477252677174013, 0.10118169021739815, 0.04654357750000315, 0.11515692051467924, 0.11515692051467924, 0.10439459149461576, 0.09686096118057133, 0.18188336043907283, 0.07318383733643168, 0.12484301663273638, 0.06565020702238723, 0.08932733086652689, 0.03443945286420314, 0.09038232926557613, 0.1006530485003007, 0.15816907621475823, 0.10784255196460789, 0.10578840811766298, 0.10578840811766298, 0.07908453810737912, 0.07086796271959947, 0.1355734938983642, 0.045191164632788064, 0.10644385927835548, 0.10117436129427847, 0.1306835500051097, 0.09906656210064767, 0.17389343347454111, 0.07588077097070886, 0.10749775887517088, 0.07482687137389346, 0.08852756613249367, 0.04320988346943143, 0.16570048684052568, 0.08731522659860037, 0.07937747872600033, 0.17264601622905074, 0.06945529388525029, 0.10120628537565042, 0.08136191569415034, 0.13494171383420056, 0.08334635266230035, 0.024805462101875106, 0.10871438745864567, 0.10974976257729943, 0.12942188983172104, 0.10250213674672307, 0.10560826210268437, 0.07351163342441755, 0.07661775878037885, 0.09318376067883914, 0.14288176637422, 0.056945631525957253, 0.11704487439286572, 0.14630609299108213, 0.11162613020801082, 0.08886740463162027, 0.16689732089353074, 0.06610867905522971, 0.11487737671892376, 0.060689934870374815, 0.0769461674249395, 0.049852446500665025, 0.09234855076498123, 0.13074064490323187, 0.12451489990783987, 0.09857429576037323, 0.17017036320738116, 0.08093468494009591, 0.08716042993548791, 0.08197230910599458, 0.07885943660829858, 0.054994080792629275, 0.08858246664623401, 0.16435782968096432, 0.11206215660065749, 0.08751520801194204, 0.15795427787521246, 0.08004439757189821, 0.09925505298915378, 0.07790988030331425, 0.08004439757189821, 0.05229567308030683, 0.11464739910565105, 0.09929283672542993, 0.09519828675737096, 0.09417464926535622, 0.15661653627825545, 0.10543466167751837, 0.09315101177334148, 0.08700918682125303, 0.10031647421744466, 0.05527642456879604, 0.11828105153659331, 0.0798915874413832, 0.0840417997760005, 0.11931860462024763, 0.1639333872173837, 0.10790552070005004, 0.1027177552817784, 0.08196669360869185, 0.09752998986350676, 0.04461478259713607, 0.09568163884427822, 0.0976959891357367, 0.131939944090531, 0.09568163884427822, 0.1611480233166791, 0.08762423767844425, 0.10273186486438292, 0.07352378563823483, 0.12589689321615555, 0.02820090408041884, 0.14979298728482246, 0.08817601379177492, 0.12110922376219688, 0.12642103182194236, 0.09773726829931678, 0.08605129056787673, 0.1636036882401607, 0.06799114316474211, 0.06374169671694573, 0.03612029480626924, 0.09775968117802317, 0.09775968117802317, 0.20320832604420547, 0.10764549163422776, 0.09446441102595497, 0.08897229410584132, 0.10435022148215957, 0.07798806026561399, 0.08018490703365945, 0.046133782128954755, 0.10106607179562112, 0.10409805394948976, 0.10106607179562112, 0.0990447503597087, 0.12734325046248263, 0.10308739323153354, 0.08489550030832174, 0.09500210748788386, 0.1354285362061323, 0.04952237517985435, 0.12402950163229429, 0.07641103225560987, 0.08416287610762826, 0.17054056474440465, 0.08969990743049855, 0.15060725198207164, 0.10631100139910939, 0.07862584478475798, 0.0708740009327396, 0.04983328190583253, 0.13033908742937578, 0.10300992393611957, 0.09880543724484939, 0.09985655891766694, 0.09775431557203185, 0.09039646386230901, 0.14715703419445653, 0.08724309884385638, 0.07778300378849845, 0.06832290873314054, 0.1405452735504802, 0.10568132972400449, 0.09805484201196292, 0.09914434025654029, 0.0828018665878798, 0.0828018665878798, 0.16996172615406907, 0.0860703613216119, 0.07735437536499297, 0.057743406962600385, 0.18229890555665806, 0.10208738711172852, 0.06979443812740624, 0.14271400035006945, 0.07812810238142488, 0.10833763530224251, 0.13229692003254614, 0.10000397104822385, 0.059377357809882916, 0.02395928473030363, 0.09901400361041883, 0.11113816731781705, 0.12023129009836572, 0.1030553915128849, 0.09598296268356928, 0.08891053385425364, 0.08790018687863713, 0.09497261570795275, 0.08183810502493802, 0.11720024917151617, 0.18554525663974572, 0.09436301623392783, 0.08163991292148812, 0.10708611954636753, 0.07739887848400821, 0.09224249901518787, 0.13677336060872686, 0.08482068874959804, 0.0996643092807777, 0.04135008576542905, 0.11559586932505672, 0.08477030417170826, 0.09247669546004537, 0.1948616082908099, 0.09467852154242741, 0.14532052143721416, 0.12220134757220281, 0.06385295638907895, 0.05944930422431488, 0.028623739070966426, 0.08833782983012581, 0.12054433028902585, 0.17943621684244304, 0.08833782983012581, 0.08925801555752295, 0.12054433028902585, 0.06901392955478579, 0.10950210156026012, 0.10030024428628868, 0.03496705764109147, 0.17461753204182512, 0.08884049875812156, 0.0908828090744002, 0.08986165391626089, 0.11539053286974409, 0.10926360192090812, 0.10824244676276878, 0.08986165391626089, 0.08373472296742492, 0.04799429243254843, 0.14896069910998083, 0.11780552021116132, 0.10514872878351589, 0.1655118878999787, 0.10222793076175156, 0.097359934058811, 0.14603990108821652, 0.0486799670294055, 0.05062716571058172, 0.01849838747117409, 0.10241295665002513, 0.19613047358448207, 0.10241295665002513, 0.14685631519626244, 0.0685973577561489, 0.11883767611276501, 0.12463463592314379, 0.06183423797737366, 0.05990191804058074, 0.020289359336325734, 0.11536884738665816, 0.11756634924164214, 0.10218383625675438, 0.17470139747122523, 0.09339382883681852, 0.09559133069180248, 0.1010850853292624, 0.07471506306945482, 0.05164129359212318, 0.07471506306945482, 0.11726691885743863, 0.1970468718506141, 0.11534451035157899, 0.13841341242189478, 0.06728429770508774, 0.09612042529298248, 0.1201505316162281, 0.062478276440438615, 0.06632309345215791, 0.019224085058596498, 0.13249211979795464, 0.11241755619220394, 0.08230571078357789, 0.12747347889651697, 0.0742758853412776, 0.07929452624271528, 0.0883280798653031, 0.14453685796140506, 0.12345856617536682, 0.0371379426706388, 0.11339665133988339, 0.14174581417485424, 0.07349782957214664, 0.1028969614010053, 0.10184699240711749, 0.10919677536433216, 0.14699565914429327, 0.0808476125293613, 0.07034792259048321, 0.057748294663829504, 0.17428432773458574, 0.1333380097728457, 0.06089452414822875, 0.13543782095037085, 0.10604046446501902, 0.09869112534368107, 0.11233989799759442, 0.0923916918111057, 0.06509414650327901, 0.022048017364013857, 0.12237015806708938, 0.09124090733072454, 0.08265352781724458, 0.18248181466144908, 0.07406614830376462, 0.12773727026301435, 0.10948908879686944, 0.08265352781724458, 0.06869903610783966, 0.0590382341551747, 0.09654775740483393, 0.09855916901743464, 0.13778169546314842, 0.09855916901743464, 0.07844505289142757, 0.08347358192292934, 0.11766757933714135, 0.14985016513875266, 0.1035876980489364, 0.03519970322051237, 0.10986888484368212, 0.08320167978453598, 0.0885351207963652, 0.17173680058090118, 0.08213499158217014, 0.12266914327207228, 0.0885351207963652, 0.09706862641529197, 0.08000161517743844, 0.0768015505703409, 0.09581459874495006, 0.13862537690758733, 0.1019304241967554, 0.10396903268069049, 0.12129720479413891, 0.06727407996985856, 0.14474120235939264, 0.0947952945029825, 0.07848642663150165, 0.051984516340345246, 0.09887588532116592, 0.19335728685028003, 0.1043689900612307, 0.09887588532116592, 0.0922841596330882, 0.08788967584103638, 0.09887588532116592, 0.09008691773706229, 0.08129795015295865, 0.054931047400647734, 0.17801700790523287, 0.1327227396216529, 0.05688117412356553, 0.12956267439256594, 0.09901537717805851, 0.08848182641443526, 0.08637511626171061, 0.09164189164352224, 0.0853217611853483, 0.05161439874175391, 0.09871819001441105, 0.11950096685955022, 0.10703130075246672, 0.11430527264826543, 0.09560077348764018, 0.08832680159184148, 0.08832680159184148, 0.14444029907371722, 0.09040507927635538, 0.0550743586396188, 0.17724954694064235, 0.10068613317338264, 0.08075866931615065, 0.0996373192861599, 0.08705155263948706, 0.08914918041393254, 0.1174671553689464, 0.11117427204560999, 0.08075866931615065, 0.05663594991002773, 0.11956171145718397, 0.10278112037547395, 0.08914689012158454, 0.11117141591632895, 0.0818053815233364, 0.10278112037547395, 0.14683017196496279, 0.09753718566243956, 0.07551265986769513, 0.07236629903987452, 0.10755706415958337, 0.09411243113963544, 0.11065967177957134, 0.09411243113963544, 0.16340400131936703, 0.08894141843965547, 0.09100982351964747, 0.09824924129961941, 0.09514663367963144, 0.05791534223977566, 0.10628977972950338, 0.1031326575593201, 0.11891826841023646, 0.10418503161604786, 0.11891826841023646, 0.09260891699204254, 0.09050416887858703, 0.08208517642476498, 0.14522761982843035, 0.03788546604219922, 0.18073025679375515, 0.09193215374480032, 0.07626190026557299, 0.16401531974924602, 0.0720831660044457, 0.12640671139910042, 0.11700455931156403, 0.07939595096141845, 0.0626810139169093, 0.029251139827891008, 0.11508908432395372, 0.0976202054533536, 0.0996753676734242, 0.0976202054533536, 0.15721990983540107, 0.08426165102289469, 0.1068684354436713, 0.08015132658275348, 0.13050280097448325, 0.02979985219102373, 0.1268943083270176, 0.07732621913677634, 0.10409298729950661, 0.11004115800233556, 0.0951707312452632, 0.11995477584038382, 0.09814481659667766, 0.09021392232623907, 0.13482520259745617, 0.0436199184874123, 0.09532128002972624, 0.10326472003220342, 0.09333542002910694, 0.08737784002724905, 0.1558900100486148, 0.09333542002910694, 0.10326472003220342, 0.10822937003375167, 0.1211374600377771, 0.03773134001176664, 0.15686897491119967, 0.12107336989790578, 0.0873833887089233, 0.10422837930341454, 0.10738681503988165, 0.11370368651281586, 0.15476335108688824, 0.062115902817186444, 0.057904655168563635, 0.03474279310113818, 0.09157824341626031, 0.09064377154466582, 0.15605680255628032, 0.09811954651742176, 0.14390866822555193, 0.12708817453685103, 0.08223352470031538, 0.08690588405828785, 0.09905401838901626, 0.024296268661456816, 0.08655205897253572, 0.17419971362826808, 0.09750801580450226, 0.08545646328933906, 0.09860361148769892, 0.09969920717089557, 0.15557458701392496, 0.08107408055655245, 0.07997848487335579, 0.040537040278276225, 0.1628509006806826, 0.07644021868685101, 0.06868541389253278, 0.178360510269319, 0.10192029158246801, 0.14623346183571498, 0.09638114530081214, 0.0642540968672081, 0.06868541389253278, 0.036558365458928745, 0.12221794105773331, 0.09394364126079502, 0.08847119613880695, 0.23349099187149053, 0.07843838008182885, 0.15140431504166962, 0.08482289939081492, 0.06110897052886666, 0.06384519308986068, 0.022801854674950245, 0.19784187454979468, 0.07391894213948373, 0.0717448556059695, 0.14131562467842476, 0.095659807474626, 0.12827110547733941, 0.10218206707516868, 0.07609302867299796, 0.0717448556059695, 0.041307644136770315, 0.10492735864070224, 0.10857700589777014, 0.11678871222617293, 0.13959900758284732, 0.06751847425575622, 0.12500041855457572, 0.16058447931098777, 0.08850394598389667, 0.07025570969855716, 0.017335824471072545, 0.09147127057367423, 0.17780370572186116, 0.17472040446656875, 0.10380447559484379, 0.07913806555250467, 0.07605476429721228, 0.0781102984674072, 0.06680486053133511, 0.12333205021169559, 0.029805245467826435, 0.1009979752536424, 0.10828648893174031, 0.09579189405500105, 0.1457702735619581, 0.09162702909608796, 0.15618243595924083, 0.08642094789744659, 0.08121486669880523, 0.0791324342193487, 0.054143244465870155, 0.09470069766821246, 0.09775555888331608, 0.11404815203053544, 0.09775555888331608, 0.15681620904198623, 0.12932245810605356, 0.08553611402290158, 0.07433495623418827, 0.11302986495883423, 0.03462176043784111, 0.14181620134070613, 0.08552274737340294, 0.0898530130631955, 0.16455009621211705, 0.09093557948564364, 0.15047673272029125, 0.12774283784888035, 0.06278885250199204, 0.054128321122406925, 0.03139442625099602, 0.1015588236989619, 0.09548265475970776, 0.08506636514955783, 0.13193966839523255, 0.1310716442610534, 0.11978733051672429, 0.09287858235717028, 0.08419834101537867, 0.13888386146866583, 0.01822850681776239, 0.10673893669844728, 0.19774792483080758, 0.1449402403589442, 0.10561536894372678, 0.0943796913965218, 0.0955032591512423, 0.0943796913965218, 0.06179622650962737, 0.06179622650962737, 0.03820130366049692, 0.09316400959044108, 0.18954057123572493, 0.10494336712486466, 0.08888060685065068, 0.08673890548075548, 0.08352635342591269, 0.09744741233023146, 0.09530571096033627, 0.09637656164528387, 0.06210933972696071, 0.16847608943024592, 0.09054157187067637, 0.0871032843312836, 0.1982745814383166, 0.07678842171310528, 0.07678842171310528, 0.10773300956764024, 0.07449623002017676, 0.06418136740199844, 0.056158696476748635, 0.10119638722351539, 0.12184871114668179, 0.11048993298894026, 0.09500069004656546, 0.09603330624272378, 0.09087022526193218, 0.09500069004656546, 0.09809853863504042, 0.07951144710419066, 0.11152254918509859, 0.1054993925424101, 0.17421918034526437, 0.10356362387190717, 0.11130669855391892, 0.08130228416112338, 0.07162344080860869, 0.10065997086615276, 0.13840745994096004, 0.0900132431783866, 0.02516499271653819, 0.11858107981332823, 0.10921941561753916, 0.18099217445192203, 0.17163051025613296, 0.0863353475833881, 0.06969238901309642, 0.09465682686853394, 0.052009245532161505, 0.09153627213660424, 0.024964437855437522, 0.13112986085533487, 0.09015177933804273, 0.09015177933804273, 0.11883643640014724, 0.09117623137597504, 0.15366780568984556, 0.12190979251394415, 0.07478499876905817, 0.07478499876905817, 0.05224705393454749, 0.13410924963476015, 0.08167555804823738, 0.13108422896630692, 0.20166804456354911, 0.06957547537442445, 0.12705086807503593, 0.11192576473276976, 0.059492073146246986, 0.059492073146246986, 0.022183484901990402, 0.15290521053134495, 0.144290832473241, 0.08075979429472445, 0.16905716939028986, 0.06999182172209452, 0.09475815863914336, 0.14752122424503, 0.059223849149464595, 0.05707025463493861, 0.022612742402522847, 0.18158938839074065, 0.08980779534542065, 0.08092570569587355, 0.16777280449144516, 0.07303051489627613, 0.1046112780946658, 0.1440872320926529, 0.07303051489627613, 0.06020082984693032, 0.023685572398792258, 0.12238828881689298, 0.09937510630431481, 0.09623694505259961, 0.10983564381003216, 0.09205273005031267, 0.10146721380545828, 0.08891456879859747, 0.15795411633633197, 0.09205273005031267, 0.041842150022869395, 0.1915655440879957, 0.09195146116223793, 0.09195146116223793, 0.12369660846824865, 0.0842888393987181, 0.08757282015451232, 0.108371364941209, 0.09195146116223793, 0.07115291637554126, 0.05801699335236441, 0.16878587968649456, 0.08652946996586112, 0.08011987959801957, 0.17946853029956383, 0.07157375910756414, 0.13246486760205903, 0.12178221698898974, 0.06836896392364336, 0.06409590367841565, 0.026706626532673187, 0.09958002291932512, 0.10172152878855792, 0.17988649301555504, 0.1134998110693383, 0.10279228172317431, 0.09101399944239393, 0.09315550531162672, 0.08137722303084634, 0.07816496422699713, 0.05782065846928555, 0.11352244903338572, 0.1304977685150135, 0.11140053409818225, 0.09973000195456316, 0.1697531948162777, 0.0742670227321215, 0.11776627890379267, 0.06047457565329894, 0.08381563994053712, 0.03819446883366249, 0.09804827265780745, 0.12256034082225932, 0.09294159179021332, 0.10928297056651455, 0.11030430674003339, 0.09498426413725097, 0.10417628969892041, 0.08681357474910036, 0.07251486831983676, 0.11030430674003339, 0.10117002748889159, 0.11036730271515445, 0.10117002748889159, 0.10321386642806112, 0.09606043014096777, 0.09401659120179824, 0.10219194695847635, 0.09912618854972206, 0.08175355756678108, 0.11036730271515445, 0.12106782221027293, 0.08071188147351528, 0.09752685678049763, 0.19393271520719646, 0.09416386171910117, 0.13676179916345646, 0.09752685678049763, 0.06725990122792941, 0.07622788805832, 0.03587194732156235, 0.14551704679068547, 0.0841920056431823, 0.08627082059733496, 0.13720178697407487, 0.11745304490962469, 0.12161067481792999, 0.1465564542677618, 0.0634038561016558, 0.07379793087241905, 0.02390637197275547, 0.15413565801965468, 0.09751439588998562, 0.06920376482515109, 0.1342133620851415, 0.10066002156385612, 0.12792211073740048, 0.14784440667191368, 0.06605813915128057, 0.06815522293386092, 0.034601882412575544, 0.12409168749818895, 0.10768286931661025, 0.09024849999868287, 0.11178507386200492, 0.08409519318059086, 0.08512074431693953, 0.0994784602258209, 0.1558837727249977, 0.09332515340772889, 0.04717535227203878, 0.0957322526201378, 0.19366524667981902, 0.10783633053762649, 0.10013373549922461, 0.09353151118059441, 0.08362817470264912, 0.09243114046082271, 0.08692928686196422, 0.08913002830150761, 0.05611890670835665, 0.09149303548788416, 0.21840272987430415, 0.10821756885663718, 0.14461802383568786, 0.10034720021251811, 0.06886572563604185, 0.10821756885663718, 0.060995356991922774, 0.07476850211913115, 0.02262730985184232, 0.10061777679214523, 0.11571044331096701, 0.10263013232798814, 0.1116857322392812, 0.09961159902422378, 0.08954982134500926, 0.09357453241669507, 0.09759924348838088, 0.08150039920163764, 0.10866719893551685, 0.13659731190813448, 0.0838210777618098, 0.08485590588232597, 0.10865695265419789, 0.09830867144903618, 0.16660732740310344, 0.09623901520800385, 0.10037832769006852, 0.08796039024387448, 0.035184156097549796, 0.12542090306957662, 0.1650275040389166, 0.14522420355424662, 0.09791631906309052, 0.08801466882075552, 0.07041173505660442, 0.14742457027476552, 0.05940990145400998, 0.05610935137323165, 0.04510751777063721, 0.10620289203534888, 0.11328308483770547, 0.10013415534761466, 0.09103105031601333, 0.09912269923299229, 0.15677569776646738, 0.10114561146223702, 0.1021570675768594, 0.08900813808676858, 0.04146970069951718, 0.10275452464536301, 0.10577671654669722, 0.10678411384714195, 0.10174712734491828, 0.0967101408426946, 0.16622055457338133, 0.0967101408426946, 0.0967101408426946, 0.08462137323735777, 0.041303289318234154, 0.10176541851166934, 0.11362158377516479, 0.11362158377516479, 0.09880137719579547, 0.09978939096775342, 0.08990925324817388, 0.08990925324817388, 0.09682534965187957, 0.08892123947621593, 0.10571747359950116, 0.0881895911366301, 0.12554047679449695, 0.10271493555913389, 0.10790255856717094, 0.09752731255109681, 0.09441473874627458, 0.08196444352698562, 0.1037524601607413, 0.08922711573823751, 0.10894008316877836, 0.09888821875670038, 0.08942019781190992, 0.11887626297348025, 0.11046024435588872, 0.13150029089986753, 0.09362820712070569, 0.07153615824952794, 0.09573221177510356, 0.13991630951745904, 0.05049611170554913, 0.10185897921303491, 0.10412251208443568, 0.09393661416313219, 0.2048497248617702, 0.110913110698638, 0.09167308129173142, 0.07582835119192599, 0.08148718337042793, 0.07922365049902715, 0.05772008822071978, 0.10113886476609073, 0.11105443974315844, 0.11105443974315844, 0.11006288224545167, 0.09717263477526364, 0.09122328978902301, 0.09023173229131624, 0.09320640478443655, 0.08725705979819592, 0.10807976725003814, 0.08526192489837246, 0.17158962385797458, 0.11616937267403248, 0.10338008393927661, 0.16732652761305594, 0.07886728053099452, 0.08952502114329108, 0.065012217735009, 0.0820646027146835, 0.04049941432672692, 0.09964797434533047, 0.10669379071318212, 0.10568724551777474, 0.11575269747184853, 0.10166106473614522, 0.09562179356370096, 0.0936087031728862, 0.08656288680503456, 0.08555634160962718, 0.10971342629940425, 0.09957418200081423, 0.10300777448360093, 0.09156246620764527, 0.2048710181396063, 0.08812887372485857, 0.14192182262185016, 0.08126168875928517, 0.07782809627649848, 0.06409372634535168, 0.04807029475901377, 0.08173554017378659, 0.18682409182579793, 0.10995376237664149, 0.11871114168097577, 0.15471370104323892, 0.07687032944915644, 0.11287288881141959, 0.061301655130339944, 0.0661668658549701, 0.03113734863763299, 0.12879238152038408, 0.127762042468221, 0.08551814132953503, 0.0824271241730458, 0.11436763479010105, 0.09479119279900268, 0.1463081454071563, 0.08551814132953503, 0.06903271649492586, 0.06594169933843665, 0.1741869285027081, 0.10513057223240369, 0.09585434527072101, 0.1071919560016665, 0.09688503715535242, 0.08967019396293256, 0.09379296150145819, 0.09276226961682679, 0.0814246588858813, 0.06390289684714734, 0.18864357011521443, 0.08131188367035105, 0.07480693297672296, 0.14527723215769386, 0.08890099281291715, 0.1095000033427394, 0.1235940631789336, 0.07589109142566097, 0.06938614073203289, 0.04228217950858255, 0.10088963980672104, 0.09444987556373885, 0.18782645708698067, 0.12128222657616466, 0.09981634576622402, 0.132015166981135, 0.08908340536125368, 0.06761752455131304, 0.06761752455131304, 0.039711879498390196, 0.08692023842888197, 0.19167026935599613, 0.1626968565463688, 0.08803460046002148, 0.09583513467799806, 0.08469151436660294, 0.08357715233546344, 0.07911970421090538, 0.07911970421090538, 0.050146291401278055, 0.11589392231519301, 0.09731550728756665, 0.12562547304394966, 0.1539354388003327, 0.18224540455671573, 0.0725442872507315, 0.09554613442779271, 0.06015867723231393, 0.07431366011050544, 0.02300184717706121, 0.09456378845767242, 0.1355414301226638, 0.10402016730343966, 0.12608505127689656, 0.09561449721831322, 0.15445418781419828, 0.09771591473959483, 0.0882595358938276, 0.08510740961190517, 0.01786204893089368, 0.12458824587740293, 0.08031308411931759, 0.0978172178376304, 0.11429169663133656, 0.08031308411931759, 0.1297365205004361, 0.1009061826114503, 0.09575790798841713, 0.13591445004807592, 0.04221585190887207, 0.12019865123596657, 0.12344726343153324, 0.11370142684483324, 0.10395559025813325, 0.09854123659885548, 0.08229817562102215, 0.18841950734286653, 0.07471808049803327, 0.06280650244762218, 0.03140325122381109, 0.12271356835992948, 0.08835376921914924, 0.14136603075063878, 0.16787216151638354, 0.10013427178170246, 0.06871959828156052, 0.076573266656596, 0.07559155810971657, 0.13547577946936215, 0.023561005125106463, 0.10737729724086885, 0.0882407492177437, 0.17967092310600827, 0.10631415568402856, 0.10950358035454942, 0.07867247520618113, 0.08398818299038256, 0.08505132454722285, 0.12438756215031342, 0.037209954489409995, 0.10992401229968535, 0.09465678836917349, 0.08753208386826795, 0.10178149287007902, 0.10585275258488218, 0.14961879451901616, 0.11094182722838614, 0.08854989879696874, 0.10279930779877981, 0.04885511657763793, 0.10320940697140923, 0.12301727295582111, 0.10633696475842164, 0.08027398319998497, 0.09903932992205937, 0.0948692528727095, 0.0979968106597219, 0.10320940697140923, 0.08235902172465989, 0.1105070418077715, 0.08523079033861358, 0.10342612760191311, 0.18291102196264264, 0.13981680212851216, 0.1206638155355653, 0.1292826595023914, 0.08523079033861358, 0.05458601178989859, 0.07278134905319811, 0.025856531900478277, 0.13329534453002911, 0.1402585341696575, 0.08455301705263041, 0.12633215489040073, 0.09549517220061787, 0.09350568944643833, 0.09748465495479741, 0.14224801692383704, 0.06764241364210433, 0.01790534478761585, 0.10044659867456474, 0.10777082982791841, 0.18729105377861552, 0.10149291741075812, 0.08789077384024414, 0.09207604878501768, 0.08893709257643753, 0.08789077384024414, 0.0899834113126309, 0.056501211754442664, 0.1320043876838498, 0.09075301653264674, 0.09900329076288736, 0.09797200648410728, 0.08972173225386666, 0.08765916369630651, 0.10209714359922759, 0.15572392609579158, 0.09900329076288736, 0.04743907682388353, 0.12635959190762935, 0.1805137027251848, 0.08323687403439077, 0.12635959190762935, 0.11633105286734131, 0.08323687403439077, 0.1123196372512261, 0.07922545841827555, 0.07220548109007392, 0.019054224176547282, 0.07937770287897652, 0.12277084711948369, 0.14393823455387741, 0.07196911727693871, 0.12594595523464275, 0.10689530654368838, 0.1471133426690365, 0.06561890104662059, 0.09842835156993089, 0.03704292801018905, 0.15036363223674115, 0.09317010341049604, 0.1254567729091828, 0.1420613457942217, 0.08394534069658555, 0.147596203422568, 0.1199219152808365, 0.060883433911809295, 0.05811600509763615, 0.018449525427821, 0.13106126072256769, 0.08940613134562757, 0.0995659189985398, 0.13106126072256769, 0.09448602517208368, 0.07315047110096802, 0.08839015258033635, 0.09753396146795736, 0.07823036492742412, 0.11582157924319936, 0.08996025684014265, 0.19198835301249959, 0.09654271465771408, 0.10531932508114263, 0.08337779902257124, 0.0778924175079284, 0.08228072271964268, 0.0954456383547855, 0.12067839332214259, 0.057047967752285586, 0.1005124885391607, 0.14823053865371175, 0.10355832152519587, 0.10355832152519587, 0.08832915659502001, 0.09035971191904345, 0.08934443425703173, 0.14619998332968828, 0.08426804594697311, 0.044672217128515865, 0.1333400108430338, 0.10749892347035282, 0.10026341900600215, 0.09406155803655872, 0.09922977551109491, 0.08889334056202253, 0.09406155803655872, 0.09509520153146596, 0.07959054910785737, 0.10853256696526006, 0.142553631402427, 0.13089830304876943, 0.08158729847560287, 0.10848421006096645, 0.09324262682926042, 0.08607011707316346, 0.10400139146340585, 0.11117390121950281, 0.1246223570121846, 0.017034710670730268, 0.08580298550169177, 0.119287077404791, 0.1109160544290162, 0.1276581003805658, 0.08998849698957918, 0.07847834039788881, 0.1088232986850725, 0.08998849698957918, 0.07847834039788881, 0.10986967655704434, 0.10745283312788077, 0.0999778534320282, 0.12053404759562278, 0.23172437057142983, 0.09530599112212033, 0.08222477665437833, 0.12240279251958593, 0.05793109264285746, 0.05886546510483903, 0.022424939087557726, 0.11315619520125163, 0.10796554404523091, 0.09654611150198533, 0.11004180450763919, 0.09031733011476047, 0.09550798127078118, 0.08305041849633146, 0.08720293942114804, 0.0861648091899439, 0.12976627890051792, 0.18057281357988877, 0.09404834040619207, 0.08464350636557287, 0.14671541103365965, 0.07900060594120134, 0.10815559146712089, 0.15612024507427885, 0.06395287147621061, 0.06207190466808677, 0.02445256850560994, 0.08750223571117584, 0.10884424442121872, 0.0843009344046694, 0.13338755443776804, 0.0939048383241887, 0.11951524877624016, 0.09924034050169941, 0.08963643658218012, 0.07576413092065225, 0.10777714398571657, 0.11895241048815162, 0.10894706754989589, 0.09671831506980552, 0.10561195323714397, 0.08782467690246709, 0.09449490552797092, 0.18343128720135532, 0.08226615304788057, 0.07559592442237674, 0.04669160037852681, 0.14597143253662717, 0.08966816570107099, 0.092796124969713, 0.09488143114880766, 0.10530796204428104, 0.092796124969713, 0.15431265725300589, 0.08549755334288163, 0.07194306317876625, 0.06672979773102956, 0.10966634139451734, 0.17195682330660317, 0.09650638042717526, 0.15353287795232426, 0.07632777361058406, 0.12458096382417169, 0.12545829455532784, 0.05965848971861743, 0.06316781264324198, 0.02017860681659119, 0.12911696380031212, 0.08812745148275271, 0.09120166490656967, 0.11272115887328835, 0.0953006161383256, 0.15473540899878674, 0.10554799421771546, 0.08710271367481373, 0.08402850025099677, 0.052261628204888236, 0.09918343498531451, 0.13716858029883922, 0.11606572179132549, 0.09601800620918745, 0.08652171988080627, 0.08757686280618196, 0.0917974345076847, 0.08546657695543058, 0.14138915200034197, 0.056977717970287056, 0.09808506034426222, 0.1068037323748633, 0.1220614084284152, 0.09808506034426222, 0.10135456235573763, 0.08391721829453545, 0.15693609655081955, 0.08718672030601086, 0.0762883802677595, 0.06974937624480869, 0.0786793373832371, 0.1693791290889132, 0.11911177464962282, 0.09834917172904636, 0.16500805478984445, 0.07212272593463401, 0.10490578317764945, 0.06993718878509964, 0.07430826308416837, 0.048081817289756, 0.10432741581084014, 0.11793533961225407, 0.0834619326486721, 0.1623878906968729, 0.11339936501178276, 0.16510947545715568, 0.09979144121036883, 0.056246085045844246, 0.07801876312810653, 0.019958288242073765, 0.1367553256850462, 0.10826463283399491, 0.08205319541102772, 0.18689894510289648, 0.08775133398123798, 0.11168351597612107, 0.1037061219778267, 0.06951729055656515, 0.05470213027401848, 0.05812101341614464, 0.09804509793418782, 0.1260579830582415, 0.10666444720312741, 0.10450960988589252, 0.10343219122727507, 0.0818838180549261, 0.08942574866524824, 0.09696767927557037, 0.15407086818229515, 0.03878707171022815, 0.15011367466105233, 0.09552688387521512, 0.08675400678463413, 0.11599693041990407, 0.08577924266345847, 0.1618108441151603, 0.13061839223753904, 0.08382971442110713, 0.06628396023994518, 0.02436910302939161, 0.1168752031940404, 0.09637078158105086, 0.09432033941975192, 0.10662299238754563, 0.10457255022624669, 0.1578840464200195, 0.10252210806494773, 0.08919423401650453, 0.07586635996806132, 0.05638715943572125, 0.08492969903484959, 0.1777598351892201, 0.16887184342975908, 0.10566834647359194, 0.08789236295466993, 0.07406659799550837, 0.09974301863395127, 0.06616616087598748, 0.10961856503335238, 0.0256764206384429, 0.11356237231327419, 0.10545077429089747, 0.1013949752797091, 0.09835312602131782, 0.09733917626852073, 0.15006456341396948, 0.1013949752797091, 0.09125547775173819, 0.08212992997656438, 0.05880908566223128, 0.12256887803464579, 0.19566041080759972, 0.08658535420796079, 0.1248178482738136, 0.08433638396879298, 0.06746910717503439, 0.1248178482738136, 0.09895469052338376, 0.06634462205545048, 0.029236613109181568, 0.10249318845290695, 0.09234534801202507, 0.10350797249699514, 0.0984340522765542, 0.10452275654108333, 0.1572915268336691, 0.09640448418837783, 0.11061146080561245, 0.10553754058517151, 0.028413953234469255, 0.14182313192416493, 0.08734802164865788, 0.10707176847254836, 0.109889446590247, 0.08265189145249348, 0.1671822349834527, 0.09955796015868532, 0.09955796015868532, 0.0817126654132606, 0.022541424941589127, 0.15838784452282945, 0.18159115932553693, 0.08070718192246086, 0.12307845243175282, 0.08272486147052238, 0.06860110463409173, 0.1341756899460912, 0.08373370124455315, 0.06456574553796869, 0.022194475028676736, 0.1218785421351903, 0.09666229203825437, 0.09035822951402038, 0.10401703164986068, 0.12397989630993494, 0.07775010446555243, 0.08195281281504174, 0.11347312543621164, 0.14499343805738155, 0.044128437669637866, 0.08351273550756448, 0.11234451324231888, 0.11234451324231888, 0.11035611477785306, 0.12725750172581254, 0.11234451324231888, 0.07357074318523538, 0.1133387124745518, 0.13322269711921, 0.02187238310912403, 0.07946226407260551, 0.15786503129090962, 0.17587647781403354, 0.09111672946992098, 0.12078264139036038, 0.10171169801293506, 0.0932357231785238, 0.052974842715070344, 0.08687874205271535, 0.04026088046345346, 0.0831770253966096, 0.0967174713914065, 0.16248535193756292, 0.1025205196748909, 0.1354044599479691, 0.12669988752274253, 0.08898007368009399, 0.0831770253966096, 0.0967174713914065, 0.024179367847851626, 0.08830598613892864, 0.14786118609308982, 0.1776387860701704, 0.09857412406205987, 0.09652049647743362, 0.07701103442348428, 0.08214510338504989, 0.06571608270803991, 0.12219084128526171, 0.04312617927715119, 0.10332918999591861, 0.21584319688036332, 0.09414437310739251, 0.09758867944058981, 0.08036714777460337, 0.07692284144140608, 0.09414437310739251, 0.09299627099632676, 0.10792159844018166, 0.03788736966517016, 0.10702252416036753, 0.11823440764383461, 0.10192621348606432, 0.11211883483467075, 0.09479137854203981, 0.0896950678677366, 0.09988768921634303, 0.14881227168965389, 0.07950244651913016, 0.04892458247331087, 0.12759081849855897, 0.09726185344562283, 0.10144515897016575, 0.10981177001925158, 0.10981177001925158, 0.09830767982675856, 0.15059899888354503, 0.07007036753609386, 0.05856627734360084, 0.07634532582290823, 0.09375217986576835, 0.09980070759904372, 0.15726172106515982, 0.10181688351013551, 0.17641539222053185, 0.08568747622140117, 0.08266321235476348, 0.06955806893266683, 0.09778453168795193, 0.03629116639965226, 0.09181619704057661, 0.09844210816721616, 0.1145336066176265, 0.10506801929385572, 0.09465587323770784, 0.11548016535000358, 0.08613684464631415, 0.1410372511241847, 0.12683887013852851, 0.026503644506558198, 0.08508549492909628, 0.10985722130085848, 0.08616252651047725, 0.11524237920776331, 0.10770315813809656, 0.15724661088162098, 0.10662612655671559, 0.08185440018495338, 0.07646924227804855, 0.07431517911528662, 0.09242303109043447, 0.1406883917709947, 0.1899806750192264, 0.10474610190249241, 0.09344995365810597, 0.07188457973700459, 0.10166533419947792, 0.05648074122193218, 0.10269225676714942, 0.046211515545217234, 0.09283132262236024, 0.11576611997611982, 0.18675477845204236, 0.1026605214882572, 0.09064705620771646, 0.07863359092717573, 0.08846278979307269, 0.08190999054914139, 0.10702905431754474, 0.055698793573416144, 0.09442931374259385, 0.11572219821396305, 0.08054264995691829, 0.17960085162807066, 0.13886663785675565, 0.12035108614252157, 0.08517153788547681, 0.062027098242684195, 0.10183553442828748, 0.020367106885657498, 0.10433448434089732, 0.1217235650643802, 0.10740314564504136, 0.10944891984780405, 0.0930827262257025, 0.08796829071879578, 0.09205983912432117, 0.14422708129476983, 0.08796829071879578, 0.05216724217044866, 0.07740158024575888, 0.1677034238658109, 0.1835806710957102, 0.09427115542752686, 0.10022512313873908, 0.10717141880182, 0.09724813928313296, 0.06152433301585963, 0.07740158024575888, 0.03175449445979852, 0.07171401351483347, 0.11852732789257199, 0.1743048939596647, 0.09960279654837982, 0.12151541178902338, 0.12549952365095857, 0.07868620927322006, 0.07769018130773626, 0.09860676858289602, 0.03386495082644914, 0.09497902471722797, 0.10839997386205365, 0.10117330893791675, 0.10220568964136487, 0.15898662833101201, 0.08775235979309105, 0.09807616682757235, 0.08465521768274666, 0.08568759838619479, 0.07536379135171349, 0.09991023264951995, 0.11001351460284219, 0.2121689210197671, 0.11113610148654467, 0.08980695069619771, 0.08868436381249524, 0.08980695069619771, 0.08082625562657793, 0.07633590809176805, 0.04153571469699144, 0.1462007963492176, 0.10442914024944114, 0.07832185518708086, 0.09189764341950821, 0.11382776287189084, 0.09816339183447467, 0.15142225336168966, 0.08980906061451938, 0.0731003981746088, 0.05325886152721498, 0.09568154134294103, 0.09568154134294103, 0.18061234770352913, 0.10428212932882337, 0.09353139434647044, 0.10428212932882337, 0.0989067618376469, 0.08923110035352927, 0.07955543886941165, 0.0569788954064705, 0.1018765118951475, 0.19821625683947175, 0.10519857206564144, 0.10409121867547678, 0.09080297799350102, 0.08637356443284244, 0.10519857206564144, 0.08748091782300708, 0.07751473731152526, 0.04318678221642122, 0.13949306859225763, 0.0908326958275166, 0.12111026110335546, 0.13733038535826914, 0.07244988833861443, 0.11029684493341302, 0.14706245991121736, 0.06163647216867198, 0.10380879523144754, 0.01622012425491368, 0.10093940352984099, 0.125924404403564, 0.11692980408902372, 0.11393160398417695, 0.08095140283086258, 0.0819508028658115, 0.0919448032153007, 0.11992800419387048, 0.13591840475305322, 0.03098140108341654, 0.08152092687443034, 0.140900367437287, 0.1590161289649382, 0.09561096361815904, 0.08856594524629469, 0.06944375252266288, 0.09661739481413967, 0.10567527557796526, 0.13385534906542265, 0.029186504683438023, 0.11965001995773866, 0.08038985715910567, 0.12151955151957834, 0.12806291198601716, 0.13460627245245602, 0.15797541697545184, 0.0869332176255445, 0.072911730911747, 0.0757160282545065, 0.021499612961156166, 0.16142657955758935, 0.08301938377247453, 0.07494805479459506, 0.18218142550070798, 0.08186633677563461, 0.11415165268715248, 0.10723337070611294, 0.07494805479459506, 0.06572367881987567, 0.0530401618546365, 0.1290603607395839, 0.1335107180064661, 0.09011973465436462, 0.16021286160775933, 0.0678679483199536, 0.09568268123796737, 0.1680009868248032, 0.06007982310290975, 0.05229169788586589, 0.04339098335210149, 0.11192669273174355, 0.08584668665832758, 0.09888668969503556, 0.17712670791528348, 0.08584668665832758, 0.12714002960790285, 0.09345335509640723, 0.07606668438079658, 0.06954668286244259, 0.07280668362161959, 0.08601160051026767, 0.18922552112258886, 0.11181508066334797, 0.09998848559318617, 0.11073993565696962, 0.08816189052302435, 0.08386131049751097, 0.08601160051026767, 0.08278616549113263, 0.06235841036994406, 0.09316895514542997, 0.1355184802115345, 0.1206961464383979, 0.09846264577869303, 0.09316895514542997, 0.08999274076547213, 0.09105147889212474, 0.08469905013220906, 0.14610586147806062, 0.046584477572714986, 0.142605654173728, 0.08394517231503137, 0.0920362732610585, 0.11125263800787291, 0.16687895701180935, 0.101138761825339, 0.11630957609913986, 0.06675158280472375, 0.08900211040629832, 0.03135301616585509, 0.09532069611637056, 0.0983308233621507, 0.1093679565966778, 0.0983308233621507, 0.10535445360230432, 0.14849961079181942, 0.09231056887059044, 0.11237808384245793, 0.08930044162481032, 0.05016878742966872, 0.09368075933081975, 0.09979037406978626, 0.10793652705507494, 0.09571729757714192, 0.11710094916352469, 0.15986825233629023, 0.08858941371501433, 0.10080864319294734, 0.08960768283817541, 0.046840379665409874, 0.09998112342148602, 0.23574496469908282, 0.11261031795893688, 0.11471518371517869, 0.09050922751839786, 0.08208976449343063, 0.08840436176215606, 0.07261786859034247, 0.07367030146846339, 0.027363254831143543, 0.08712418059026145, 0.13372548648737803, 0.11650326474279146, 0.09320261179423317, 0.08611110872293283, 0.1225816959467632, 0.08104574938628972, 0.11245097727347698, 0.1367647020893639, 0.030392156019858643, 0.08833957545795852, 0.19849139176973396, 0.14614201372057334, 0.09488324771410359, 0.09161141158603106, 0.09488324771410359, 0.07743345503105006, 0.08070529115912259, 0.09161141158603106, 0.034899585366107065, 0.08327358950672029, 0.09276045413406817, 0.17708813971049378, 0.10224731876141605, 0.11068008731905861, 0.09592274234318413, 0.09065226199465753, 0.09486864627347881, 0.09803093448259477, 0.053758899554971325, 0.09349374286492665, 0.12702954193604163, 0.10263986988432164, 0.10263986988432164, 0.08536385218101998, 0.09247750652943831, 0.08129890683906665, 0.15040297765227328, 0.13312695994897164, 0.03150332640013832, 0.13894824535324818, 0.0922786056926152, 0.1198561200375347, 0.10606736286507495, 0.16652575969816766, 0.07848984852015546, 0.12197746729483619, 0.06470109134769572, 0.07848984852015546, 0.03288088248817323, 0.18733458415203813, 0.088405084656018, 0.08209043575201672, 0.10103438246402056, 0.1105063558200225, 0.09682461652801971, 0.10524414840002143, 0.08630020168801757, 0.08209043575201672, 0.058936723104012, 0.10233317498755685, 0.10432022692906281, 0.1281648502271343, 0.1003461230460509, 0.10531375289981579, 0.15499005143746475, 0.1142554866365926, 0.09438496722153303, 0.07848855168948536, 0.019870519415059584, 0.1260279462388312, 0.11891346540276816, 0.08842283324821222, 0.10265179492033834, 0.08435741562760476, 0.08130835241214918, 0.09147189646366782, 0.15448586958308344, 0.10976627575640138, 0.043703239421530184, 0.10920722842354014, 0.10104220199935023, 0.11941351145377754, 0.09083591896911283, 0.09695968878725526, 0.09185654727213657, 0.10002157369632649, 0.09593906048423152, 0.08062963593887543, 0.11533099824168258, 0.1293213113027812, 0.08586935070504673, 0.14070158669742597, 0.12207931786982547, 0.1624275669962932, 0.08276563923377998, 0.07759278678166873, 0.058970517954068234, 0.10345704904222497, 0.03620996716477874, 0.09678978705726557, 0.09473042988583438, 0.10090850140012793, 0.12356143028587094, 0.12459110887158653, 0.16783760947164136, 0.09267107271440321, 0.07207750100009139, 0.08958203695725643, 0.03706842908576128, 0.09051635393677754, 0.11074942128735134, 0.17783801302872765, 0.09584084534482327, 0.09477594706321413, 0.08838655737355924, 0.08838655737355924, 0.11394411613217878, 0.0873216590919501, 0.05430981236206652, 0.12118232743458358, 0.10199512559077452, 0.11209365287698982, 0.10199512559077452, 0.10098527286215299, 0.09088674557593769, 0.08684733466145157, 0.09694586194766687, 0.0777586601038578, 0.11007394741974676, 0.11885920957665026, 0.11561759477001435, 0.08860413804804837, 0.1145370565011357, 0.09616790593019885, 0.10805382688786387, 0.10697328861898524, 0.06807391093935423, 0.06807391093935423, 0.1145370565011357, 0.1785529539779595, 0.13128893674849965, 0.06827024710921982, 0.10503114939879972, 0.08927647698897975, 0.07562242756713579, 0.1092323953747517, 0.11448395284469169, 0.07667273906112379, 0.05251557469939986, 0.09733901506825611, 0.10646454773090512, 0.10747849580453278, 0.10950639195178812, 0.09936691121551144, 0.10443665158364977, 0.08719953433197943, 0.09531111892100076, 0.08517163818472409, 0.10747849580453278, 0.11517633256824031, 0.11094967816206634, 0.09509972413891402, 0.10883635095897937, 0.12362964138058821, 0.07185312490495725, 0.0781931065142182, 0.10143970574817494, 0.1521595586222624, 0.04226654406173956, 0.09575344420045369, 0.1431040484754033, 0.1104847433082158, 0.08312661639380045, 0.09785791550156256, 0.08312661639380045, 0.1020668581037803, 0.09680567985100812, 0.07786543814102827, 0.1104847433082158, 0.10303406213775916, 0.20494818881749918, 0.09743438484766355, 0.10415399759577827, 0.09407457847360619, 0.0895948366415297, 0.11983309400804597, 0.08735496572549145, 0.07167586931322376, 0.02911832190849715, 0.11076252035076586, 0.10270706432525561, 0.09867933631250049, 0.11479024836352099, 0.09163081229017903, 0.09867933631250049, 0.09465160829974537, 0.14298434445280683, 0.08961694828380147, 0.05638819217857171, 0.09828453177584351, 0.10537722994523428, 0.11753614109276131, 0.10233750215835252, 0.09423156139333451, 0.08815210581957099, 0.0901785910108255, 0.10132425956272527, 0.08004616505455296, 0.12260235407089758, 0.15221552900437627, 0.13355685125545272, 0.07954488935067405, 0.122754458874497, 0.07954488935067405, 0.0775808180086821, 0.09525746008660967, 0.14043110095242456, 0.09132931740262576, 0.02651496311689135, 0.1713993585240046, 0.09852897256469724, 0.08210747713724771, 0.09955531602891284, 0.09647628563626605, 0.09442359870783486, 0.10160800295734404, 0.09955531602891284, 0.08723919445832569, 0.06671232517401376, 0.1306468960688403, 0.08047848797840564, 0.10556269202362296, 0.1024271665179708, 0.15886662561970982, 0.08047848797840564, 0.10556269202362296, 0.08152366314695635, 0.10138199134942008, 0.053303933596086844, 0.10217500479736456, 0.07769557656466264, 0.17774193542874878, 0.10749661963056065, 0.09153177513097242, 0.12984740192998415, 0.09046745216433322, 0.10217500479736456, 0.07875989953130186, 0.041508595698929354, 0.10088158902495448, 0.11220503269102079, 0.10808741681245122, 0.11323443666066318, 0.08646993344996098, 0.08235231757139141, 0.0844111255106762, 0.16779284705171, 0.10088158902495448, 0.044264370694622884, 0.15805485142091544, 0.09272551283360372, 0.08640331877676712, 0.09799400788096757, 0.11590689104200466, 0.09483291085254927, 0.1496252593451333, 0.08113482372940325, 0.07270523165362111, 0.05163125146416571, 0.10737519235988321, 0.114399737654455, 0.11741025706641435, 0.11138921824249567, 0.09131908882943339, 0.09031558235878027, 0.09432960824139273, 0.08931207588812716, 0.1354733735381704, 0.050175323532655705, 0.1354810674907985, 0.07827795010579469, 0.10135990975237517, 0.1344775040279037, 0.107381290529744, 0.08731002127184792, 0.08429933088316352, 0.11139554438132322, 0.13648463095369331, 0.023081959646580486, 0.13384033374398277, 0.0823632823039894, 0.09368823362078794, 0.09986547979358715, 0.09677685670718755, 0.15957885946397946, 0.1266335465423837, 0.10089502082238702, 0.07206787201599073, 0.03294531292159576, 0.14048526407313724, 0.09651659363803322, 0.09222696725412063, 0.17480227514443794, 0.08364771448629546, 0.08150290129433917, 0.10187862661792396, 0.08686493427422991, 0.07399605512249213, 0.0686340221426014, 0.10393379549496048, 0.10976185879374331, 0.11850395374191755, 0.10879051491061284, 0.11461857820939567, 0.08159288618295962, 0.1962114643923553, 0.06799407181913303, 0.07090810346852444, 0.02622628484452274, 0.10338795857164844, 0.11242185786431674, 0.09435405927898012, 0.10941055810009398, 0.09535782586705438, 0.08933522633860884, 0.0903389929266831, 0.14454238868269295, 0.1345047228019504, 0.02710169787800493, 0.1502669213841659, 0.09453879159930967, 0.11444169509390117, 0.18012127662605315, 0.13235430823903355, 0.08856792055093221, 0.105485388521335, 0.0527426942606675, 0.05871356530904495, 0.024878629368239386, 0.10690468387515237, 0.09843698614246703, 0.10372929722539537, 0.1058462216585667, 0.10478775944198103, 0.08785236397661036, 0.08044312846051069, 0.11854776825759471, 0.14077547480589372, 0.051864648612697684, 0.09105046816051436, 0.10904881651782534, 0.18210093632102872, 0.1005790055261496, 0.10269645827406852, 0.0931679209084333, 0.08469810991675755, 0.08893301541259542, 0.08999174178655489, 0.05822995056777081, 0.14305673170644753, 0.09226122552082486, 0.09018793955406475, 0.09640779745434508, 0.1005543693878653, 0.09848108342110519, 0.1482399466233478, 0.09018793955406475, 0.07567493778674399, 0.06427186496956339, 0.09668223350091285, 0.13370947186296459, 0.10491050869247989, 0.0997678366977505, 0.0884539583093458, 0.08536835511250815, 0.08433982071356227, 0.1542801598418822, 0.10388197429353402, 0.049369651149402304, 0.14179996813038914, 0.10947791657125633, 0.09488086102842215, 0.10843526974676818, 0.0844543927835406, 0.093838214203934, 0.09488086102842215, 0.14909849590180624, 0.07819851183661167, 0.045876460277478846, 0.10307718305206784, 0.20502164980686022, 0.1200679275111999, 0.10647533194389426, 0.0928827363765886, 0.07815742451200748, 0.0928827363765886, 0.07929014080928296, 0.0736265593229056, 0.049839517080120715, 0.12713832640119213, 0.11359079981745855, 0.08024304207288356, 0.11254868238794058, 0.0823272769319195, 0.11046444752890465, 0.15319126213914136, 0.0854536292204734, 0.07399033749577576, 0.060442810912042164, 0.09862050426000375, 0.11315405225621483, 0.1795931288103226, 0.09965861483116169, 0.09342995140421408, 0.08927750911958234, 0.08927750911958234, 0.09031561969074027, 0.09031561969074027, 0.05605797084252845, 0.12267116050469591, 0.09855631698667877, 0.10170173135859405, 0.10694408864511952, 0.09855631698667877, 0.09016854532823802, 0.0943624311574584, 0.09121701678554311, 0.08282924512710237, 0.11323491738895007, 0.08407715805362324, 0.10110544322904061, 0.18624686910612745, 0.09046276499440475, 0.10323397887596779, 0.10323397887596779, 0.08939849717094117, 0.09684837193518626, 0.09897690758211344, 0.044699248585470586, 0.11956375266111689, 0.08260768365677168, 0.13912873036929965, 0.18695423143374643, 0.0728251948026803, 0.0869554564808123, 0.09239017251086305, 0.0749990812147006, 0.07391213800869044, 0.06956436518464983, 0.17355542726449313, 0.10092625389837373, 0.09432360177418105, 0.20845515992094013, 0.07923182549031209, 0.07640211743708665, 0.10469919796934096, 0.06885622929515217, 0.06791299327741036, 0.025467372479028885, 0.1812053328837418, 0.08702624539811284, 0.08464196470227413, 0.20266385914629018, 0.07629698226683865, 0.08106554365851606, 0.10490835061690315, 0.07152842087516123, 0.06318343843972576, 0.04530133322093545, 0.08279744107025191, 0.1806489623350951, 0.10820120139862466, 0.12607792162970177, 0.07527040097295629, 0.13078232169051154, 0.12890056166618763, 0.07621128098511824, 0.06868424088782261, 0.02069936026756298, 0.0930500441873112, 0.1783459180256798, 0.0930500441873112, 0.1628375773277946, 0.07366461831495472, 0.14442142274905595, 0.09886567194901816, 0.06784899055324776, 0.06591044796601211, 0.022293239753209976, 0.0804023319696475, 0.19054251274998654, 0.13216821693640685, 0.09361915366328818, 0.1486892440534577, 0.07159111750722037, 0.1035317699335187, 0.0682869120838102, 0.07159111750722037, 0.03965046508092206, 0.1743106284553139, 0.10049541334413505, 0.09693805357974089, 0.20721620627595988, 0.08004059469886862, 0.07559389499337592, 0.10316343316743067, 0.06670049558239052, 0.06936851540568614, 0.025790858291857666, 0.18098809876565145, 0.09777517979293814, 0.08841372640850789, 0.11129727912600404, 0.08321291897271331, 0.0956948568186203, 0.09777517979293814, 0.09673501830577921, 0.08529324194703114, 0.0634498507166939, 0.1779415597882047, 0.10155250634377339, 0.09705903261174802, 0.20490240218035694, 0.07908513768364653, 0.07818644293724146, 0.09526164311893787, 0.06919949547319072, 0.07189557971240594, 0.026062147645747154, 0.0984447760653145, 0.1094946999093804, 0.10748562284682298, 0.10045385312787193, 0.09141300634636346, 0.0984447760653145, 0.0984447760653145, 0.09744023753403577, 0.09141300634636346, 0.10648108431554425, 0.08505838709770291, 0.17817493718360924, 0.14594228523079553, 0.10654682173291206, 0.11012822750544693, 0.09311655008590634, 0.09938401018784235, 0.08684908998397034, 0.07789557555263318, 0.017011677419540582, 0.10166839495350401, 0.22433352364740558, 0.09393275620704174, 0.12045494619491236, 0.0884072999595687, 0.08730220871007409, 0.12708549369188, 0.06630547496967652, 0.06630547496967652, 0.025417098738376002, 0.10256925863873263, 0.13534912480162656, 0.11948789923893595, 0.10151184360121993, 0.1131434090138597, 0.07296163758837682, 0.10785633382629617, 0.0697893924758387, 0.14803810525177905, 0.027492790975330396, 0.0915573205129852, 0.11548707473796996, 0.14982106993033942, 0.0946785928032006, 0.11028495425427762, 0.08739562412603132, 0.09259774460972366, 0.07387011086843123, 0.1435785253499086, 0.041616963869538726, 0.10271306599648976, 0.11278297442751815, 0.11479695611372384, 0.10573403852579828, 0.09465713925166702, 0.09163616672235851, 0.09264315756546135, 0.08962218503615282, 0.08458723082063863, 0.10976200189820964, 0.10147242200269657, 0.10864723972005895, 0.10454734388156615, 0.09839750012382698, 0.15682101582234925, 0.09327263032571098, 0.0912226824064646, 0.088147760527595, 0.09737252616420378, 0.05944848965814546, 0.12544393072265347, 0.09973820721391301, 0.09151237569111606, 0.10282289403496186, 0.16657308833663823, 0.09254060463146568, 0.08123008628761988, 0.08945591781041683, 0.10282289403496186, 0.048326760196432075, 0.1318074876526277, 0.08618181884979503, 0.11558502763384275, 0.12471016139440928, 0.08719572260096908, 0.15715508143197918, 0.12876577639910552, 0.0841540113474469, 0.06184812882161761, 0.02331978627700336, 0.13575912305191265, 0.10756299749497694, 0.10234149276221108, 0.14724643346399757, 0.08249977477770076, 0.1576894429295293, 0.11487310412084917, 0.06787956152595633, 0.06265805679319045, 0.021930319877616657, 0.17364142556767379, 0.09981782547602804, 0.09669851842990217, 0.09773828744527745, 0.09877805646065274, 0.09461898039915158, 0.09357921138377628, 0.09253944236840099, 0.08214175221464808, 0.07070429304551985, 0.10514750115114263, 0.12851361251806323, 0.094526541438906, 0.08709186964034037, 0.1147063648921556, 0.08496767769789304, 0.1518797238849838, 0.08921606158278769, 0.07647090992810374, 0.06903623812953809, 0.17645328737983876, 0.07913662585520041, 0.0716507288148436, 0.1336767328635142, 0.10052490311336268, 0.1261908358231574, 0.10908021401662758, 0.0866225228955572, 0.07272014267775173, 0.04491538224214077, 0.15349718800882162, 0.07260002135552374, 0.13275432476438626, 0.09956574357328969, 0.09749145724884617, 0.15246004484659986, 0.11201146151995091, 0.07260002135552374, 0.0705257350310802, 0.03630001067776187, 0.1717137174737679, 0.10927236566512502, 0.05909627939032271, 0.16502357263712758, 0.09254700357352426, 0.10035217254960462, 0.11261743808344518, 0.0892019311552041, 0.05575120697200256, 0.04460096557760205, 0.12317280317138227, 0.10059112258996218, 0.1765476845456479, 0.10059112258996218, 0.08930028229925215, 0.09751180251067762, 0.08622096221996758, 0.09032672232568033, 0.0780094420085421, 0.05850708150640657, 0.1574236335560744, 0.08623205404982419, 0.09425364047306364, 0.11631300313697215, 0.163439823373504, 0.08522935574691926, 0.09525633877596858, 0.06316999308301074, 0.10327792519920803, 0.0340917422987677, 0.1141659534016744, 0.20930424790306973, 0.10185393881914089, 0.11752377556054718, 0.0873033761306922, 0.08506482802477701, 0.10297321287209849, 0.07611063560111626, 0.07611063560111626, 0.03133967348281258, 0.10485453373570552, 0.11057387193947127, 0.09722874946401784, 0.12677866351680758, 0.08197718092064249, 0.08007073485272058, 0.08483685002252538, 0.18969138375823089, 0.0981819724979788, 0.02669024495090686, 0.10554722708147364, 0.10968633402584516, 0.10140812013710213, 0.09933856666491638, 0.1076167805536594, 0.08692124583180182, 0.08588646909570895, 0.10658200381756652, 0.13969485937253864, 0.05794749722120122, 0.10666171436008962, 0.12757577599932288, 0.1129359328518596, 0.09829608970439631, 0.0847019496388947, 0.08888476196674135, 0.08156484039300971, 0.12234726058951456, 0.1463984314746328, 0.031371092458849885, 0.11681539186310579, 0.14017847023572694, 0.08735759739327911, 0.10361017365249382, 0.09345231349048462, 0.07212080715026531, 0.09446809950668554, 0.16252576259214718, 0.09954702958769014, 0.028442008453625756, 0.16847536641069782, 0.1025060964306053, 0.09641662535551984, 0.09743153720136742, 0.08423768320534891, 0.09438680166382468, 0.08829733058873922, 0.11062539119738592, 0.09641662535551984, 0.06190962259670221, 0.0942709143522971, 0.1239867460503038, 0.10144370131388493, 0.09939433361057412, 0.0952955982039525, 0.09632028205560791, 0.10349306901719572, 0.0952955982039525, 0.07992534042912146, 0.11169053983043896, 0.09257667402995952, 0.17701473935398854, 0.11800982623599236, 0.10478458708885528, 0.1576855436774036, 0.0762994566180985, 0.09155934794171822, 0.07019550008865062, 0.07426480444161589, 0.03865839135316991, 0.10185897155435017, 0.19596780396869545, 0.09189450694577243, 0.10075180882006375, 0.08746585600862677, 0.08635869327434037, 0.10185897155435017, 0.09521599514863169, 0.07639422866576263, 0.06310827585432566, 0.11838946744594508, 0.11008143464272087, 0.08619584033345125, 0.12877450844997534, 0.076849303429824, 0.08204182393183913, 0.10281190593989968, 0.15266010275924496, 0.1038504100403027, 0.039463155815315024, 0.11424538716767481, 0.19615717419355486, 0.10346752045374322, 0.11532317383906797, 0.07652285366891426, 0.08622293371145269, 0.14334562729529007, 0.07760064034030742, 0.0625116269408032, 0.024789093442042647, 0.09939476808815653, 0.12091322303507702, 0.10861696306540818, 0.10451820974218522, 0.0901725731109049, 0.08607381978768194, 0.08914788478009916, 0.10554289807299096, 0.13628354799716308, 0.06045661151753851, 0.09377014068846315, 0.10023704694283991, 0.19724064075849143, 0.10670395319721668, 0.10023704694283991, 0.09808141152471432, 0.10023704694283991, 0.08083632817970961, 0.07329160421627004, 0.04957961461688856, 0.09648785774301832, 0.18131234806655092, 0.10178938838823912, 0.10178938838823912, 0.0795229596783118, 0.07740234742022349, 0.08800540871066506, 0.09436724548493, 0.13783979677574046, 0.042412245161766296, 0.0916452317068887, 0.10978335048221043, 0.1632430689778955, 0.11932972878501133, 0.13651320973005296, 0.07350711293156698, 0.07637102642240724, 0.08400812906464797, 0.12028436661529142, 0.025775221417562447, 0.12011194356595145, 0.15268467402451455, 0.0671812565707864, 0.11604035225863106, 0.10891506747082039, 0.09059290658787864, 0.14657728706353398, 0.1048434761635, 0.07430654135859709, 0.018322160882941748, 0.17157597866877888, 0.08210384255315799, 0.08105122918709186, 0.11473485690120797, 0.10420872324054668, 0.10841917670481119, 0.1199979237315386, 0.08420906928529025, 0.07999861582102573, 0.052630668303306406], \"Term\": [\"abraham\", \"abraham\", \"abraham\", \"abraham\", \"abraham\", \"abraham\", \"abraham\", \"abraham\", \"abraham\", \"abraham\", \"acid\", \"acid\", \"acid\", \"acid\", \"acid\", \"acid\", \"acid\", \"acid\", \"acid\", \"acid\", \"action\", \"action\", \"action\", \"action\", \"action\", \"action\", \"action\", \"action\", \"action\", \"action\", \"aforesaid\", \"aforesaid\", \"aforesaid\", \"aforesaid\", \"aforesaid\", \"aforesaid\", \"aforesaid\", \"aforesaid\", \"aforesaid\", \"aforesaid\", \"aged\", \"aged\", \"aged\", \"aged\", \"aged\", \"aged\", \"aged\", \"aged\", \"aged\", \"aged\", \"air\", \"air\", \"air\", \"air\", \"air\", \"air\", \"air\", \"air\", \"air\", \"air\", \"ald\", \"ald\", \"ald\", \"ald\", \"ald\", \"ald\", \"ald\", \"ald\", \"ald\", \"ald\", \"ally\", \"ally\", \"ally\", \"ally\", \"ally\", \"ally\", \"ally\", \"ally\", \"ally\", \"ally\", \"alt\", \"alt\", \"alt\", \"alt\", \"alt\", \"alt\", \"alt\", \"alt\", \"alt\", \"alt\", \"altar\", \"altar\", \"altar\", \"altar\", \"altar\", \"altar\", \"altar\", \"altar\", \"altar\", \"altar\", \"ame\", \"ame\", \"ame\", \"ame\", \"ame\", \"ame\", \"ame\", \"ame\", \"ame\", \"ame\", \"america\", \"america\", \"america\", \"america\", \"america\", \"america\", \"america\", \"america\", \"america\", \"america\", \"anb\", \"anb\", \"anb\", \"anb\", \"anb\", \"anb\", \"anb\", \"anb\", \"anb\", \"anb\", \"angle\", \"angle\", \"angle\", \"angle\", \"angle\", \"angle\", \"angle\", \"angle\", \"angle\", \"angle\", \"anr\", \"anr\", \"anr\", \"anr\", \"anr\", \"anr\", \"anr\", \"anr\", \"anr\", \"anr\", \"antd\", \"antd\", \"antd\", \"antd\", \"antd\", \"antd\", \"antd\", \"antd\", \"antd\", \"antd\", \"arms\", \"arms\", \"arms\", \"arms\", \"arms\", \"arms\", \"arms\", \"arms\", \"arms\", \"arms\", \"army\", \"army\", \"army\", \"army\", \"army\", \"army\", \"army\", \"army\", \"army\", \"army\", \"art\", \"art\", \"art\", \"art\", \"art\", \"art\", \"art\", \"art\", \"art\", \"art\", \"asked\", \"asked\", \"asked\", \"asked\", \"asked\", \"asked\", \"asked\", \"asked\", \"asked\", \"asked\", \"author\", \"author\", \"author\", \"author\", \"author\", \"author\", \"author\", \"author\", \"author\", \"author\", \"ave\", \"ave\", \"ave\", \"ave\", \"ave\", \"ave\", \"ave\", \"ave\", \"ave\", \"ave\", \"bar\", \"bar\", \"bar\", \"bar\", \"bar\", \"bar\", \"bar\", \"bar\", \"bar\", \"bar\", \"battle\", \"battle\", \"battle\", \"battle\", \"battle\", \"battle\", \"battle\", \"battle\", \"battle\", \"battle\", \"beat\", \"beat\", \"beat\", \"beat\", \"beat\", \"beat\", \"beat\", \"beat\", \"beat\", \"beat\", \"bed\", \"bed\", \"bed\", \"bed\", \"bed\", \"bed\", \"bed\", \"bed\", \"bed\", \"bed\", \"behold\", \"behold\", \"behold\", \"behold\", \"behold\", \"behold\", \"behold\", \"behold\", \"behold\", \"behold\", \"bel\", \"bel\", \"bel\", \"bel\", \"bel\", \"bel\", \"bel\", \"bel\", \"bel\", \"bel\", \"beneath\", \"beneath\", \"beneath\", \"beneath\", \"beneath\", \"beneath\", \"beneath\", \"beneath\", \"beneath\", \"beneath\", \"body\", \"body\", \"body\", \"body\", \"body\", \"body\", \"body\", \"body\", \"body\", \"body\", \"boil\", \"boil\", \"boil\", \"boil\", \"boil\", \"boil\", \"boil\", \"boil\", \"boil\", \"boil\", \"bond\", \"bond\", \"bond\", \"bond\", \"bond\", \"bond\", \"bond\", \"bond\", \"bond\", \"bond\", \"box\", \"box\", \"box\", \"box\", \"box\", \"box\", \"box\", \"box\", \"box\", \"box\", \"bread\", \"bread\", \"bread\", \"bread\", \"bread\", \"bread\", \"bread\", \"bread\", \"bread\", \"bread\", \"breast\", \"breast\", \"breast\", \"breast\", \"breast\", \"breast\", \"breast\", \"breast\", \"breast\", \"breast\", \"bright\", \"bright\", \"bright\", \"bright\", \"bright\", \"bright\", \"bright\", \"bright\", \"bright\", \"bright\", \"britain\", \"britain\", \"britain\", \"britain\", \"britain\", \"britain\", \"britain\", \"britain\", \"britain\", \"britain\", \"brother\", \"brother\", \"brother\", \"brother\", \"brother\", \"brother\", \"brother\", \"brother\", \"brother\", \"brother\", \"brought\", \"brought\", \"brought\", \"brought\", \"brought\", \"brought\", \"brought\", \"brought\", \"brought\", \"brought\", \"brown\", \"brown\", \"brown\", \"brown\", \"brown\", \"brown\", \"brown\", \"brown\", \"brown\", \"brown\", \"business\", \"business\", \"business\", \"business\", \"business\", \"business\", \"business\", \"business\", \"business\", \"business\", \"butter\", \"butter\", \"butter\", \"butter\", \"butter\", \"butter\", \"butter\", \"butter\", \"butter\", \"butter\", \"cafe\", \"cafe\", \"cafe\", \"cafe\", \"cafe\", \"cafe\", \"cafe\", \"cafe\", \"cafe\", \"cafe\", \"called\", \"called\", \"called\", \"called\", \"called\", \"called\", \"called\", \"called\", \"called\", \"called\", \"capital\", \"capital\", \"capital\", \"capital\", \"capital\", \"capital\", \"capital\", \"capital\", \"capital\", \"capital\", \"cattle\", \"cattle\", \"cattle\", \"cattle\", \"cattle\", \"cattle\", \"cattle\", \"cattle\", \"cattle\", \"cattle\", \"cease\", \"cease\", \"cease\", \"cease\", \"cease\", \"cease\", \"cease\", \"cease\", \"cease\", \"cease\", \"cent\", \"cent\", \"cent\", \"cent\", \"cent\", \"cent\", \"cent\", \"cent\", \"cent\", \"cent\", \"charles\", \"charles\", \"charles\", \"charles\", \"charles\", \"charles\", \"charles\", \"charles\", \"charles\", \"charles\", \"children\", \"children\", \"children\", \"children\", \"children\", \"children\", \"children\", \"children\", \"children\", \"children\", \"christ\", \"christ\", \"christ\", \"christ\", \"christ\", \"christ\", \"christ\", \"christ\", \"christ\", \"christ\", \"christian\", \"christian\", \"christian\", \"christian\", \"christian\", \"christian\", \"christian\", \"christian\", \"christian\", \"christian\", \"church\", \"church\", \"church\", \"church\", \"church\", \"church\", \"church\", \"church\", \"church\", \"church\", \"city\", \"city\", \"city\", \"city\", \"city\", \"city\", \"city\", \"city\", \"city\", \"city\", \"clock\", \"clock\", \"clock\", \"clock\", \"clock\", \"clock\", \"clock\", \"clock\", \"clock\", \"clock\", \"coach\", \"coach\", \"coach\", \"coach\", \"coach\", \"coach\", \"coach\", \"coach\", \"coach\", \"coach\", \"coat\", \"coat\", \"coat\", \"coat\", \"coat\", \"coat\", \"coat\", \"coat\", \"coat\", \"coat\", \"cold\", \"cold\", \"cold\", \"cold\", \"cold\", \"cold\", \"cold\", \"cold\", \"cold\", \"cold\", \"colour\", \"colour\", \"colour\", \"colour\", \"colour\", \"colour\", \"colour\", \"colour\", \"colour\", \"colour\", \"commit\", \"commit\", \"commit\", \"commit\", \"commit\", \"commit\", \"commit\", \"commit\", \"commit\", \"commit\", \"confider\", \"confider\", \"confider\", \"confider\", \"confider\", \"confider\", \"confider\", \"confider\", \"confider\", \"confider\", \"corn\", \"corn\", \"corn\", \"corn\", \"corn\", \"corn\", \"corn\", \"corn\", \"corn\", \"corn\", \"council\", \"council\", \"council\", \"council\", \"council\", \"council\", \"council\", \"council\", \"council\", \"council\", \"countries\", \"countries\", \"countries\", \"countries\", \"countries\", \"countries\", \"countries\", \"countries\", \"countries\", \"countries\", \"country\", \"country\", \"country\", \"country\", \"country\", \"country\", \"country\", \"country\", \"country\", \"country\", \"court\", \"court\", \"court\", \"court\", \"court\", \"court\", \"court\", \"court\", \"court\", \"court\", \"cover\", \"cover\", \"cover\", \"cover\", \"cover\", \"cover\", \"cover\", \"cover\", \"cover\", \"cover\", \"crown\", \"crown\", \"crown\", \"crown\", \"crown\", \"crown\", \"crown\", \"crown\", \"crown\", \"crown\", \"cut\", \"cut\", \"cut\", \"cut\", \"cut\", \"cut\", \"cut\", \"cut\", \"cut\", \"cut\", \"daughters\", \"daughters\", \"daughters\", \"daughters\", \"daughters\", \"daughters\", \"daughters\", \"daughters\", \"daughters\", \"daughters\", \"david\", \"david\", \"david\", \"david\", \"david\", \"david\", \"david\", \"david\", \"david\", \"david\", \"day\", \"day\", \"day\", \"day\", \"day\", \"day\", \"day\", \"day\", \"day\", \"day\", \"dear\", \"dear\", \"dear\", \"dear\", \"dear\", \"dear\", \"dear\", \"dear\", \"dear\", \"dear\", \"death\", \"death\", \"death\", \"death\", \"death\", \"death\", \"death\", \"death\", \"death\", \"death\", \"debt\", \"debt\", \"debt\", \"debt\", \"debt\", \"debt\", \"debt\", \"debt\", \"debt\", \"debt\", \"deep\", \"deep\", \"deep\", \"deep\", \"deep\", \"deep\", \"deep\", \"deep\", \"deep\", \"deep\", \"defendant\", \"defendant\", \"defendant\", \"defendant\", \"defendant\", \"defendant\", \"defendant\", \"defendant\", \"defendant\", \"defendant\", \"depart\", \"depart\", \"depart\", \"depart\", \"depart\", \"depart\", \"depart\", \"depart\", \"depart\", \"depart\", \"destroy\", \"destroy\", \"destroy\", \"destroy\", \"destroy\", \"destroy\", \"destroy\", \"destroy\", \"destroy\", \"destroy\", \"devil\", \"devil\", \"devil\", \"devil\", \"devil\", \"devil\", \"devil\", \"devil\", \"devil\", \"devil\", \"disease\", \"disease\", \"disease\", \"disease\", \"disease\", \"disease\", \"disease\", \"disease\", \"disease\", \"disease\", \"divine\", \"divine\", \"divine\", \"divine\", \"divine\", \"divine\", \"divine\", \"divine\", \"divine\", \"divine\", \"door\", \"door\", \"door\", \"door\", \"door\", \"door\", \"door\", \"door\", \"door\", \"door\", \"dry\", \"dry\", \"dry\", \"dry\", \"dry\", \"dry\", \"dry\", \"dry\", \"dry\", \"dry\", \"duke\", \"duke\", \"duke\", \"duke\", \"duke\", \"duke\", \"duke\", \"duke\", \"duke\", \"duke\", \"duties\", \"duties\", \"duties\", \"duties\", \"duties\", \"duties\", \"duties\", \"duties\", \"duties\", \"duties\", \"earl\", \"earl\", \"earl\", \"earl\", \"earl\", \"earl\", \"earl\", \"earl\", \"earl\", \"earl\", \"earth\", \"earth\", \"earth\", \"earth\", \"earth\", \"earth\", \"earth\", \"earth\", \"earth\", \"earth\", \"east\", \"east\", \"east\", \"east\", \"east\", \"east\", \"east\", \"east\", \"east\", \"east\", \"edward\", \"edward\", \"edward\", \"edward\", \"edward\", \"edward\", \"edward\", \"edward\", \"edward\", \"edward\", \"efq\", \"efq\", \"efq\", \"efq\", \"efq\", \"efq\", \"efq\", \"efq\", \"efq\", \"efq\", \"elizabeth\", \"elizabeth\", \"elizabeth\", \"elizabeth\", \"elizabeth\", \"elizabeth\", \"elizabeth\", \"elizabeth\", \"elizabeth\", \"elizabeth\", \"emperor\", \"emperor\", \"emperor\", \"emperor\", \"emperor\", \"emperor\", \"emperor\", \"emperor\", \"emperor\", \"emperor\", \"enemy\", \"enemy\", \"enemy\", \"enemy\", \"enemy\", \"enemy\", \"enemy\", \"enemy\", \"enemy\", \"enemy\", \"england\", \"england\", \"england\", \"england\", \"england\", \"england\", \"england\", \"england\", \"england\", \"england\", \"enter\", \"enter\", \"enter\", \"enter\", \"enter\", \"enter\", \"enter\", \"enter\", \"enter\", \"enter\", \"estate\", \"estate\", \"estate\", \"estate\", \"estate\", \"estate\", \"estate\", \"estate\", \"estate\", \"estate\", \"europe\", \"europe\", \"europe\", \"europe\", \"europe\", \"europe\", \"europe\", \"europe\", \"europe\", \"europe\", \"evil\", \"evil\", \"evil\", \"evil\", \"evil\", \"evil\", \"evil\", \"evil\", \"evil\", \"evil\", \"exeunt\", \"exeunt\", \"exeunt\", \"exeunt\", \"exeunt\", \"exeunt\", \"exeunt\", \"exeunt\", \"exeunt\", \"exeunt\", \"exit\", \"exit\", \"exit\", \"exit\", \"exit\", \"exit\", \"exit\", \"exit\", \"exit\", \"exit\", \"eyes\", \"eyes\", \"eyes\", \"eyes\", \"eyes\", \"eyes\", \"eyes\", \"eyes\", \"eyes\", \"eyes\", \"fai\", \"fai\", \"fai\", \"fai\", \"fai\", \"fai\", \"fai\", \"fai\", \"fai\", \"fai\", \"fair\", \"fair\", \"fair\", \"fair\", \"fair\", \"fair\", \"fair\", \"fair\", \"fair\", \"fair\", \"faith\", \"faith\", \"faith\", \"faith\", \"faith\", \"faith\", \"faith\", \"faith\", \"faith\", \"faith\", \"fame\", \"fame\", \"fame\", \"fame\", \"fame\", \"fame\", \"fame\", \"fame\", \"fame\", \"fame\", \"fate\", \"fate\", \"fate\", \"fate\", \"fate\", \"fate\", \"fate\", \"fate\", \"fate\", \"fate\", \"father\", \"father\", \"father\", \"father\", \"father\", \"father\", \"father\", \"father\", \"father\", \"father\", \"fay\", \"fay\", \"fay\", \"fay\", \"fay\", \"fay\", \"fay\", \"fay\", \"fay\", \"fay\", \"faying\", \"faying\", \"faying\", \"faying\", \"faying\", \"faying\", \"faying\", \"faying\", \"faying\", \"faying\", \"fee\", \"fee\", \"fee\", \"fee\", \"fee\", \"fee\", \"fee\", \"fee\", \"fee\", \"fee\", \"feet\", \"feet\", \"feet\", \"feet\", \"feet\", \"feet\", \"feet\", \"feet\", \"feet\", \"feet\", \"fellow\", \"fellow\", \"fellow\", \"fellow\", \"fellow\", \"fellow\", \"fellow\", \"fellow\", \"fellow\", \"fellow\", \"fight\", \"fight\", \"fight\", \"fight\", \"fight\", \"fight\", \"fight\", \"fight\", \"fight\", \"fight\", \"fin\", \"fin\", \"fin\", \"fin\", \"fin\", \"fin\", \"fin\", \"fin\", \"fin\", \"fin\", \"fine\", \"fine\", \"fine\", \"fine\", \"fine\", \"fine\", \"fine\", \"fine\", \"fine\", \"fine\", \"fins\", \"fins\", \"fins\", \"fins\", \"fins\", \"fins\", \"fins\", \"fins\", \"fins\", \"fins\", \"fir\", \"fir\", \"fir\", \"fir\", \"fir\", \"fir\", \"fir\", \"fir\", \"fir\", \"fir\", \"flairs\", \"flairs\", \"flairs\", \"flairs\", \"flairs\", \"flairs\", \"flairs\", \"flairs\", \"flairs\", \"flairs\", \"flood\", \"flood\", \"flood\", \"flood\", \"flood\", \"flood\", \"flood\", \"flood\", \"flood\", \"flood\", \"flour\", \"flour\", \"flour\", \"flour\", \"flour\", \"flour\", \"flour\", \"flour\", \"flour\", \"flour\", \"fly\", \"fly\", \"fly\", \"fly\", \"fly\", \"fly\", \"fly\", \"fly\", \"fly\", \"fly\", \"fool\", \"fool\", \"fool\", \"fool\", \"fool\", \"fool\", \"fool\", \"fool\", \"fool\", \"fool\", \"forces\", \"forces\", \"forces\", \"forces\", \"forces\", \"forces\", \"forces\", \"forces\", \"forces\", \"forces\", \"foreign\", \"foreign\", \"foreign\", \"foreign\", \"foreign\", \"foreign\", \"foreign\", \"foreign\", \"foreign\", \"foreign\", \"foul\", \"foul\", \"foul\", \"foul\", \"foul\", \"foul\", \"foul\", \"foul\", \"foul\", \"foul\", \"france\", \"france\", \"france\", \"france\", \"france\", \"france\", \"france\", \"france\", \"france\", \"france\", \"free\", \"free\", \"free\", \"free\", \"free\", \"free\", \"free\", \"free\", \"free\", \"free\", \"french\", \"french\", \"french\", \"french\", \"french\", \"french\", \"french\", \"french\", \"french\", \"french\", \"friend\", \"friend\", \"friend\", \"friend\", \"friend\", \"friend\", \"friend\", \"friend\", \"friend\", \"friend\", \"general\", \"general\", \"general\", \"general\", \"general\", \"general\", \"general\", \"general\", \"general\", \"general\", \"gentleman\", \"gentleman\", \"gentleman\", \"gentleman\", \"gentleman\", \"gentleman\", \"gentleman\", \"gentleman\", \"gentleman\", \"gentleman\", \"glory\", \"glory\", \"glory\", \"glory\", \"glory\", \"glory\", \"glory\", \"glory\", \"glory\", \"glory\", \"god\", \"god\", \"god\", \"god\", \"god\", \"god\", \"god\", \"god\", \"god\", \"god\", \"gods\", \"gods\", \"gods\", \"gods\", \"gods\", \"gods\", \"gods\", \"gods\", \"gods\", \"gods\", \"good\", \"good\", \"good\", \"good\", \"good\", \"good\", \"good\", \"good\", \"good\", \"good\", \"goods\", \"goods\", \"goods\", \"goods\", \"goods\", \"goods\", \"goods\", \"goods\", \"goods\", \"goods\", \"gospel\", \"gospel\", \"gospel\", \"gospel\", \"gospel\", \"gospel\", \"gospel\", \"gospel\", \"gospel\", \"gospel\", \"government\", \"government\", \"government\", \"government\", \"government\", \"government\", \"government\", \"government\", \"government\", \"government\", \"grace\", \"grace\", \"grace\", \"grace\", \"grace\", \"grace\", \"grace\", \"grace\", \"grace\", \"grace\", \"great\", \"great\", \"great\", \"great\", \"great\", \"great\", \"great\", \"great\", \"great\", \"great\", \"guilty\", \"guilty\", \"guilty\", \"guilty\", \"guilty\", \"guilty\", \"guilty\", \"guilty\", \"guilty\", \"guilty\", \"guinea\", \"guinea\", \"guinea\", \"guinea\", \"guinea\", \"guinea\", \"guinea\", \"guinea\", \"guinea\", \"guinea\", \"haft\", \"haft\", \"haft\", \"haft\", \"haft\", \"haft\", \"haft\", \"haft\", \"haft\", \"haft\", \"hal\", \"hal\", \"hal\", \"hal\", \"hal\", \"hal\", \"hal\", \"hal\", \"hal\", \"hal\", \"half\", \"half\", \"half\", \"half\", \"half\", \"half\", \"half\", \"half\", \"half\", \"half\", \"hall\", \"hall\", \"hall\", \"hall\", \"hall\", \"hall\", \"hall\", \"hall\", \"hall\", \"hall\", \"happiness\", \"happiness\", \"happiness\", \"happiness\", \"happiness\", \"happiness\", \"happiness\", \"happiness\", \"happiness\", \"happiness\", \"hath\", \"hath\", \"hath\", \"hath\", \"hath\", \"hath\", \"hath\", \"hath\", \"hath\", \"hath\", \"hear\", \"hear\", \"hear\", \"hear\", \"hear\", \"hear\", \"hear\", \"hear\", \"hear\", \"hear\", \"heart\", \"heart\", \"heart\", \"heart\", \"heart\", \"heart\", \"heart\", \"heart\", \"heart\", \"heart\", \"heat\", \"heat\", \"heat\", \"heat\", \"heat\", \"heat\", \"heat\", \"heat\", \"heat\", \"heat\", \"heav\", \"heav\", \"heav\", \"heav\", \"heav\", \"heav\", \"heav\", \"heav\", \"heav\", \"heav\", \"heaven\", \"heaven\", \"heaven\", \"heaven\", \"heaven\", \"heaven\", \"heaven\", \"heaven\", \"heaven\", \"heaven\", \"heirs\", \"heirs\", \"heirs\", \"heirs\", \"heirs\", \"heirs\", \"heirs\", \"heirs\", \"heirs\", \"heirs\", \"henry\", \"henry\", \"henry\", \"henry\", \"henry\", \"henry\", \"henry\", \"henry\", \"henry\", \"henry\", \"hie\", \"hie\", \"hie\", \"hie\", \"hie\", \"hie\", \"hie\", \"hie\", \"hie\", \"hie\", \"hit\", \"hit\", \"hit\", \"hit\", \"hit\", \"hit\", \"hit\", \"hit\", \"hit\", \"hit\", \"holy\", \"holy\", \"holy\", \"holy\", \"holy\", \"holy\", \"holy\", \"holy\", \"holy\", \"holy\", \"honour\", \"honour\", \"honour\", \"honour\", \"honour\", \"honour\", \"honour\", \"honour\", \"honour\", \"honour\", \"hope\", \"hope\", \"hope\", \"hope\", \"hope\", \"hope\", \"hope\", \"hope\", \"hope\", \"hope\", \"hot\", \"hot\", \"hot\", \"hot\", \"hot\", \"hot\", \"hot\", \"hot\", \"hot\", \"hot\", \"houfe\", \"houfe\", \"houfe\", \"houfe\", \"houfe\", \"houfe\", \"houfe\", \"houfe\", \"houfe\", \"houfe\", \"house\", \"house\", \"house\", \"house\", \"house\", \"house\", \"house\", \"house\", \"house\", \"house\", \"ht\", \"ht\", \"ht\", \"ht\", \"ht\", \"ht\", \"ht\", \"ht\", \"ht\", \"ht\", \"human\", \"human\", \"human\", \"human\", \"human\", \"human\", \"human\", \"human\", \"human\", \"human\", \"husband\", \"husband\", \"husband\", \"husband\", \"husband\", \"husband\", \"husband\", \"husband\", \"husband\", \"husband\", \"idea\", \"idea\", \"idea\", \"idea\", \"idea\", \"idea\", \"idea\", \"idea\", \"idea\", \"idea\", \"ideas\", \"ideas\", \"ideas\", \"ideas\", \"ideas\", \"ideas\", \"ideas\", \"ideas\", \"ideas\", \"ideas\", \"iil\", \"iil\", \"iil\", \"iil\", \"iil\", \"iil\", \"iil\", \"iil\", \"iil\", \"iil\", \"ings\", \"ings\", \"ings\", \"ings\", \"ings\", \"ings\", \"ings\", \"ings\", \"ings\", \"ings\", \"inhabitants\", \"inhabitants\", \"inhabitants\", \"inhabitants\", \"inhabitants\", \"inhabitants\", \"inhabitants\", \"inhabitants\", \"inhabitants\", \"inhabitants\", \"israel\", \"israel\", \"israel\", \"israel\", \"israel\", \"israel\", \"israel\", \"israel\", \"israel\", \"israel\", \"iti\", \"iti\", \"iti\", \"iti\", \"iti\", \"iti\", \"iti\", \"iti\", \"iti\", \"iti\", \"james\", \"james\", \"james\", \"james\", \"james\", \"james\", \"james\", \"james\", \"james\", \"james\", \"je\", \"je\", \"je\", \"je\", \"je\", \"je\", \"je\", \"je\", \"je\", \"je\", \"jesus\", \"jesus\", \"jesus\", \"jesus\", \"jesus\", \"jesus\", \"jesus\", \"jesus\", \"jesus\", \"jesus\", \"john\", \"john\", \"john\", \"john\", \"john\", \"john\", \"john\", \"john\", \"john\", \"john\", \"johnson\", \"johnson\", \"johnson\", \"johnson\", \"johnson\", \"johnson\", \"johnson\", \"johnson\", \"johnson\", \"johnson\", \"jove\", \"jove\", \"jove\", \"jove\", \"jove\", \"jove\", \"jove\", \"jove\", \"jove\", \"jove\", \"joy\", \"joy\", \"joy\", \"joy\", \"joy\", \"joy\", \"joy\", \"joy\", \"joy\", \"joy\", \"judgment\", \"judgment\", \"judgment\", \"judgment\", \"judgment\", \"judgment\", \"judgment\", \"judgment\", \"judgment\", \"judgment\", \"jury\", \"jury\", \"jury\", \"jury\", \"jury\", \"jury\", \"jury\", \"jury\", \"jury\", \"jury\", \"king\", \"king\", \"king\", \"king\", \"king\", \"king\", \"king\", \"king\", \"king\", \"king\", \"knowledge\", \"knowledge\", \"knowledge\", \"knowledge\", \"knowledge\", \"knowledge\", \"knowledge\", \"knowledge\", \"knowledge\", \"knowledge\", \"labour\", \"labour\", \"labour\", \"labour\", \"labour\", \"labour\", \"labour\", \"labour\", \"labour\", \"labour\", \"lady\", \"lady\", \"lady\", \"lady\", \"lady\", \"lady\", \"lady\", \"lady\", \"lady\", \"lady\", \"land\", \"land\", \"land\", \"land\", \"land\", \"land\", \"land\", \"land\", \"land\", \"land\", \"lands\", \"lands\", \"lands\", \"lands\", \"lands\", \"lands\", \"lands\", \"lands\", \"lands\", \"lands\", \"language\", \"language\", \"language\", \"language\", \"language\", \"language\", \"language\", \"language\", \"language\", \"language\", \"las\", \"las\", \"las\", \"las\", \"las\", \"las\", \"las\", \"las\", \"las\", \"las\", \"law\", \"law\", \"law\", \"law\", \"law\", \"law\", \"law\", \"law\", \"law\", \"law\", \"lay\", \"lay\", \"lay\", \"lay\", \"lay\", \"lay\", \"lay\", \"lay\", \"lay\", \"lay\", \"lease\", \"lease\", \"lease\", \"lease\", \"lease\", \"lease\", \"lease\", \"lease\", \"lease\", \"lease\", \"leaves\", \"leaves\", \"leaves\", \"leaves\", \"leaves\", \"leaves\", \"leaves\", \"leaves\", \"leaves\", \"leaves\", \"left\", \"left\", \"left\", \"left\", \"left\", \"left\", \"left\", \"left\", \"left\", \"left\", \"letter\", \"letter\", \"letter\", \"letter\", \"letter\", \"letter\", \"letter\", \"letter\", \"letter\", \"letter\", \"life\", \"life\", \"life\", \"life\", \"life\", \"life\", \"life\", \"life\", \"life\", \"life\", \"lift\", \"lift\", \"lift\", \"lift\", \"lift\", \"lift\", \"lift\", \"lift\", \"lift\", \"lift\", \"linen\", \"linen\", \"linen\", \"linen\", \"linen\", \"linen\", \"linen\", \"linen\", \"linen\", \"linen\", \"liquor\", \"liquor\", \"liquor\", \"liquor\", \"liquor\", \"liquor\", \"liquor\", \"liquor\", \"liquor\", \"liquor\", \"liv\", \"liv\", \"liv\", \"liv\", \"liv\", \"liv\", \"liv\", \"liv\", \"liv\", \"liv\", \"long\", \"long\", \"long\", \"long\", \"long\", \"long\", \"long\", \"long\", \"long\", \"long\", \"lor\", \"lor\", \"lor\", \"lor\", \"lor\", \"lor\", \"lor\", \"lor\", \"lor\", \"lor\", \"lord\", \"lord\", \"lord\", \"lord\", \"lord\", \"lord\", \"lord\", \"lord\", \"lord\", \"lord\", \"lot\", \"lot\", \"lot\", \"lot\", \"lot\", \"lot\", \"lot\", \"lot\", \"lot\", \"lot\", \"love\", \"love\", \"love\", \"love\", \"love\", \"love\", \"love\", \"love\", \"love\", \"love\", \"luke\", \"luke\", \"luke\", \"luke\", \"luke\", \"luke\", \"luke\", \"luke\", \"luke\", \"luke\", \"madam\", \"madam\", \"madam\", \"madam\", \"madam\", \"madam\", \"madam\", \"madam\", \"madam\", \"madam\", \"malone\", \"malone\", \"malone\", \"malone\", \"malone\", \"malone\", \"malone\", \"malone\", \"malone\", \"malone\", \"man\", \"man\", \"man\", \"man\", \"man\", \"man\", \"man\", \"man\", \"man\", \"man\", \"mankind\", \"mankind\", \"mankind\", \"mankind\", \"mankind\", \"mankind\", \"mankind\", \"mankind\", \"mankind\", \"mankind\", \"market\", \"market\", \"market\", \"market\", \"market\", \"market\", \"market\", \"market\", \"market\", \"market\", \"marry\", \"marry\", \"marry\", \"marry\", \"marry\", \"marry\", \"marry\", \"marry\", \"marry\", \"marry\", \"mary\", \"mary\", \"mary\", \"mary\", \"mary\", \"mary\", \"mary\", \"mary\", \"mary\", \"mary\", \"men\", \"men\", \"men\", \"men\", \"men\", \"men\", \"men\", \"men\", \"men\", \"men\", \"mercy\", \"mercy\", \"mercy\", \"mercy\", \"mercy\", \"mercy\", \"mercy\", \"mercy\", \"mercy\", \"mercy\", \"miles\", \"miles\", \"miles\", \"miles\", \"miles\", \"miles\", \"miles\", \"miles\", \"miles\", \"miles\", \"mind\", \"mind\", \"mind\", \"mind\", \"mind\", \"mind\", \"mind\", \"mind\", \"mind\", \"mind\", \"minds\", \"minds\", \"minds\", \"minds\", \"minds\", \"minds\", \"minds\", \"minds\", \"minds\", \"minds\", \"money\", \"money\", \"money\", \"money\", \"money\", \"money\", \"money\", \"money\", \"money\", \"money\", \"moral\", \"moral\", \"moral\", \"moral\", \"moral\", \"moral\", \"moral\", \"moral\", \"moral\", \"moral\", \"morning\", \"morning\", \"morning\", \"morning\", \"morning\", \"morning\", \"morning\", \"morning\", \"morning\", \"morning\", \"natural\", \"natural\", \"natural\", \"natural\", \"natural\", \"natural\", \"natural\", \"natural\", \"natural\", \"natural\", \"nature\", \"nature\", \"nature\", \"nature\", \"nature\", \"nature\", \"nature\", \"nature\", \"nature\", \"nature\", \"night\", \"night\", \"night\", \"night\", \"night\", \"night\", \"night\", \"night\", \"night\", \"night\", \"north\", \"north\", \"north\", \"north\", \"north\", \"north\", \"north\", \"north\", \"north\", \"north\", \"number\", \"number\", \"number\", \"number\", \"number\", \"number\", \"number\", \"number\", \"number\", \"number\", \"office\", \"office\", \"office\", \"office\", \"office\", \"office\", \"office\", \"office\", \"office\", \"office\", \"order\", \"order\", \"order\", \"order\", \"order\", \"order\", \"order\", \"order\", \"order\", \"order\", \"paid\", \"paid\", \"paid\", \"paid\", \"paid\", \"paid\", \"paid\", \"paid\", \"paid\", \"paid\", \"pair\", \"pair\", \"pair\", \"pair\", \"pair\", \"pair\", \"pair\", \"pair\", \"pair\", \"pair\", \"pan\", \"pan\", \"pan\", \"pan\", \"pan\", \"pan\", \"pan\", \"pan\", \"pan\", \"pan\", \"pardon\", \"pardon\", \"pardon\", \"pardon\", \"pardon\", \"pardon\", \"pardon\", \"pardon\", \"pardon\", \"pardon\", \"parliament\", \"parliament\", \"parliament\", \"parliament\", \"parliament\", \"parliament\", \"parliament\", \"parliament\", \"parliament\", \"parliament\", \"parts\", \"parts\", \"parts\", \"parts\", \"parts\", \"parts\", \"parts\", \"parts\", \"parts\", \"parts\", \"paul\", \"paul\", \"paul\", \"paul\", \"paul\", \"paul\", \"paul\", \"paul\", \"paul\", \"paul\", \"pay\", \"pay\", \"pay\", \"pay\", \"pay\", \"pay\", \"pay\", \"pay\", \"pay\", \"pay\", \"payment\", \"payment\", \"payment\", \"payment\", \"payment\", \"payment\", \"payment\", \"payment\", \"payment\", \"payment\", \"people\", \"people\", \"people\", \"people\", \"people\", \"people\", \"people\", \"people\", \"people\", \"people\", \"pepper\", \"pepper\", \"pepper\", \"pepper\", \"pepper\", \"pepper\", \"pepper\", \"pepper\", \"pepper\", \"pepper\", \"person\", \"person\", \"person\", \"person\", \"person\", \"person\", \"person\", \"person\", \"person\", \"person\", \"persons\", \"persons\", \"persons\", \"persons\", \"persons\", \"persons\", \"persons\", \"persons\", \"persons\", \"persons\", \"philip\", \"philip\", \"philip\", \"philip\", \"philip\", \"philip\", \"philip\", \"philip\", \"philip\", \"philip\", \"plaintiff\", \"plaintiff\", \"plaintiff\", \"plaintiff\", \"plaintiff\", \"plaintiff\", \"plaintiff\", \"plaintiff\", \"plaintiff\", \"plaintiff\", \"play\", \"play\", \"play\", \"play\", \"play\", \"play\", \"play\", \"play\", \"play\", \"play\", \"plea\", \"plea\", \"plea\", \"plea\", \"plea\", \"plea\", \"plea\", \"plea\", \"plea\", \"plea\", \"pocket\", \"pocket\", \"pocket\", \"pocket\", \"pocket\", \"pocket\", \"pocket\", \"pocket\", \"pocket\", \"pocket\", \"poor\", \"poor\", \"poor\", \"poor\", \"poor\", \"poor\", \"poor\", \"poor\", \"poor\", \"poor\", \"pound\", \"pound\", \"pound\", \"pound\", \"pound\", \"pound\", \"pound\", \"pound\", \"pound\", \"pound\", \"pounds\", \"pounds\", \"pounds\", \"pounds\", \"pounds\", \"pounds\", \"pounds\", \"pounds\", \"pounds\", \"pounds\", \"power\", \"power\", \"power\", \"power\", \"power\", \"power\", \"power\", \"power\", \"power\", \"power\", \"praise\", \"praise\", \"praise\", \"praise\", \"praise\", \"praise\", \"praise\", \"praise\", \"praise\", \"praise\", \"pray\", \"pray\", \"pray\", \"pray\", \"pray\", \"pray\", \"pray\", \"pray\", \"pray\", \"pray\", \"prayer\", \"prayer\", \"prayer\", \"prayer\", \"prayer\", \"prayer\", \"prayer\", \"prayer\", \"prayer\", \"prayer\", \"pri\", \"pri\", \"pri\", \"pri\", \"pri\", \"pri\", \"pri\", \"pri\", \"pri\", \"pri\", \"price\", \"price\", \"price\", \"price\", \"price\", \"price\", \"price\", \"price\", \"price\", \"price\", \"prince\", \"prince\", \"prince\", \"prince\", \"prince\", \"prince\", \"prince\", \"prince\", \"prince\", \"prince\", \"principle\", \"principle\", \"principle\", \"principle\", \"principle\", \"principle\", \"principle\", \"principle\", \"principle\", \"principle\", \"principles\", \"principles\", \"principles\", \"principles\", \"principles\", \"principles\", \"principles\", \"principles\", \"principles\", \"principles\", \"prisoner\", \"prisoner\", \"prisoner\", \"prisoner\", \"prisoner\", \"prisoner\", \"prisoner\", \"prisoner\", \"prisoner\", \"prisoner\", \"produce\", \"produce\", \"produce\", \"produce\", \"produce\", \"produce\", \"produce\", \"produce\", \"produce\", \"produce\", \"property\", \"property\", \"property\", \"property\", \"property\", \"property\", \"property\", \"property\", \"property\", \"property\", \"provided\", \"provided\", \"provided\", \"provided\", \"provided\", \"provided\", \"provided\", \"provided\", \"provided\", \"provided\", \"quantity\", \"quantity\", \"quantity\", \"quantity\", \"quantity\", \"quantity\", \"quantity\", \"quantity\", \"quantity\", \"quantity\", \"queen\", \"queen\", \"queen\", \"queen\", \"queen\", \"queen\", \"queen\", \"queen\", \"queen\", \"queen\", \"rage\", \"rage\", \"rage\", \"rage\", \"rage\", \"rage\", \"rage\", \"rage\", \"rage\", \"rage\", \"reason\", \"reason\", \"reason\", \"reason\", \"reason\", \"reason\", \"reason\", \"reason\", \"reason\", \"reason\", \"red\", \"red\", \"red\", \"red\", \"red\", \"red\", \"red\", \"red\", \"red\", \"red\", \"refuse\", \"refuse\", \"refuse\", \"refuse\", \"refuse\", \"refuse\", \"refuse\", \"refuse\", \"refuse\", \"refuse\", \"reign\", \"reign\", \"reign\", \"reign\", \"reign\", \"reign\", \"reign\", \"reign\", \"reign\", \"reign\", \"religion\", \"religion\", \"religion\", \"religion\", \"religion\", \"religion\", \"religion\", \"religion\", \"religion\", \"religion\", \"remainder\", \"remainder\", \"remainder\", \"remainder\", \"remainder\", \"remainder\", \"remainder\", \"remainder\", \"remainder\", \"remainder\", \"rer\", \"rer\", \"rer\", \"rer\", \"rer\", \"rer\", \"rer\", \"rer\", \"rer\", \"rer\", \"reward\", \"reward\", \"reward\", \"reward\", \"reward\", \"reward\", \"reward\", \"reward\", \"reward\", \"reward\", \"ring\", \"ring\", \"ring\", \"ring\", \"ring\", \"ring\", \"ring\", \"ring\", \"ring\", \"ring\", \"rit\", \"rit\", \"rit\", \"rit\", \"rit\", \"rit\", \"rit\", \"rit\", \"rit\", \"rit\", \"river\", \"river\", \"river\", \"river\", \"river\", \"river\", \"river\", \"river\", \"river\", \"river\", \"rob\", \"rob\", \"rob\", \"rob\", \"rob\", \"rob\", \"rob\", \"rob\", \"rob\", \"rob\", \"room\", \"room\", \"room\", \"room\", \"room\", \"room\", \"room\", \"room\", \"room\", \"room\", \"root\", \"root\", \"root\", \"root\", \"root\", \"root\", \"root\", \"root\", \"root\", \"root\", \"rot\", \"rot\", \"rot\", \"rot\", \"rot\", \"rot\", \"rot\", \"rot\", \"rot\", \"rot\", \"round\", \"round\", \"round\", \"round\", \"round\", \"round\", \"round\", \"round\", \"round\", \"round\", \"rous\", \"rous\", \"rous\", \"rous\", \"rous\", \"rous\", \"rous\", \"rous\", \"rous\", \"rous\", \"royal\", \"royal\", \"royal\", \"royal\", \"royal\", \"royal\", \"royal\", \"royal\", \"royal\", \"royal\", \"rule\", \"rule\", \"rule\", \"rule\", \"rule\", \"rule\", \"rule\", \"rule\", \"rule\", \"rule\", \"salt\", \"salt\", \"salt\", \"salt\", \"salt\", \"salt\", \"salt\", \"salt\", \"salt\", \"salt\", \"scene\", \"scene\", \"scene\", \"scene\", \"scene\", \"scene\", \"scene\", \"scene\", \"scene\", \"scene\", \"schedule\", \"schedule\", \"schedule\", \"schedule\", \"schedule\", \"schedule\", \"schedule\", \"schedule\", \"schedule\", \"schedule\", \"sea\", \"sea\", \"sea\", \"sea\", \"sea\", \"sea\", \"sea\", \"sea\", \"sea\", \"sea\", \"sense\", \"sense\", \"sense\", \"sense\", \"sense\", \"sense\", \"sense\", \"sense\", \"sense\", \"sense\", \"shalt\", \"shalt\", \"shalt\", \"shalt\", \"shalt\", \"shalt\", \"shalt\", \"shalt\", \"shalt\", \"shalt\", \"sir\", \"sir\", \"sir\", \"sir\", \"sir\", \"sir\", \"sir\", \"sir\", \"sir\", \"sir\", \"small\", \"small\", \"small\", \"small\", \"small\", \"small\", \"small\", \"small\", \"small\", \"small\", \"son\", \"son\", \"son\", \"son\", \"son\", \"son\", \"son\", \"son\", \"son\", \"son\", \"south\", \"south\", \"south\", \"south\", \"south\", \"south\", \"south\", \"south\", \"south\", \"south\", \"statute\", \"statute\", \"statute\", \"statute\", \"statute\", \"statute\", \"statute\", \"statute\", \"statute\", \"statute\", \"steevens\", \"steevens\", \"steevens\", \"steevens\", \"steevens\", \"steevens\", \"steevens\", \"steevens\", \"steevens\", \"steevens\", \"sugar\", \"sugar\", \"sugar\", \"sugar\", \"sugar\", \"sugar\", \"sugar\", \"sugar\", \"sugar\", \"sugar\", \"sun\", \"sun\", \"sun\", \"sun\", \"sun\", \"sun\", \"sun\", \"sun\", \"sun\", \"sun\", \"sworn\", \"sworn\", \"sworn\", \"sworn\", \"sworn\", \"sworn\", \"sworn\", \"sworn\", \"sworn\", \"sworn\", \"talk\", \"talk\", \"talk\", \"talk\", \"talk\", \"talk\", \"talk\", \"talk\", \"talk\", \"talk\", \"tenant\", \"tenant\", \"tenant\", \"tenant\", \"tenant\", \"tenant\", \"tenant\", \"tenant\", \"tenant\", \"tenant\", \"tent\", \"tent\", \"tent\", \"tent\", \"tent\", \"tent\", \"tent\", \"tent\", \"tent\", \"tent\", \"term\", \"term\", \"term\", \"term\", \"term\", \"term\", \"term\", \"term\", \"term\", \"term\", \"thall\", \"thall\", \"thall\", \"thall\", \"thall\", \"thall\", \"thall\", \"thall\", \"thall\", \"thall\", \"thee\", \"thee\", \"thee\", \"thee\", \"thee\", \"thee\", \"thee\", \"thee\", \"thee\", \"thee\", \"thine\", \"thine\", \"thine\", \"thine\", \"thine\", \"thine\", \"thine\", \"thine\", \"thine\", \"thine\", \"thing\", \"thing\", \"thing\", \"thing\", \"thing\", \"thing\", \"thing\", \"thing\", \"thing\", \"thing\", \"things\", \"things\", \"things\", \"things\", \"things\", \"things\", \"things\", \"things\", \"things\", \"things\", \"thomas\", \"thomas\", \"thomas\", \"thomas\", \"thomas\", \"thomas\", \"thomas\", \"thomas\", \"thomas\", \"thomas\", \"thou\", \"thou\", \"thou\", \"thou\", \"thou\", \"thou\", \"thou\", \"thou\", \"thou\", \"thou\", \"thro\", \"thro\", \"thro\", \"thro\", \"thro\", \"thro\", \"thro\", \"thro\", \"thro\", \"thro\", \"thy\", \"thy\", \"thy\", \"thy\", \"thy\", \"thy\", \"thy\", \"thy\", \"thy\", \"thy\", \"tic\", \"tic\", \"tic\", \"tic\", \"tic\", \"tic\", \"tic\", \"tic\", \"tic\", \"tic\", \"time\", \"time\", \"time\", \"time\", \"time\", \"time\", \"time\", \"time\", \"time\", \"time\", \"told\", \"told\", \"told\", \"told\", \"told\", \"told\", \"told\", \"told\", \"told\", \"told\", \"town\", \"town\", \"town\", \"town\", \"town\", \"town\", \"town\", \"town\", \"town\", \"town\", \"trade\", \"trade\", \"trade\", \"trade\", \"trade\", \"trade\", \"trade\", \"trade\", \"trade\", \"trade\", \"tre\", \"tre\", \"tre\", \"tre\", \"tre\", \"tre\", \"tre\", \"tre\", \"tre\", \"tre\", \"treaty\", \"treaty\", \"treaty\", \"treaty\", \"treaty\", \"treaty\", \"treaty\", \"treaty\", \"treaty\", \"treaty\", \"troops\", \"troops\", \"troops\", \"troops\", \"troops\", \"troops\", \"troops\", \"troops\", \"troops\", \"troops\", \"true\", \"true\", \"true\", \"true\", \"true\", \"true\", \"true\", \"true\", \"true\", \"true\", \"truth\", \"truth\", \"truth\", \"truth\", \"truth\", \"truth\", \"truth\", \"truth\", \"truth\", \"truth\", \"ulysses\", \"ulysses\", \"ulysses\", \"ulysses\", \"ulysses\", \"ulysses\", \"ulysses\", \"ulysses\", \"ulysses\", \"ulysses\", \"uncle\", \"uncle\", \"uncle\", \"uncle\", \"uncle\", \"uncle\", \"uncle\", \"uncle\", \"uncle\", \"uncle\", \"vain\", \"vain\", \"vain\", \"vain\", \"vain\", \"vain\", \"vain\", \"vain\", \"vain\", \"vain\", \"virtue\", \"virtue\", \"virtue\", \"virtue\", \"virtue\", \"virtue\", \"virtue\", \"virtue\", \"virtue\", \"virtue\", \"voice\", \"voice\", \"voice\", \"voice\", \"voice\", \"voice\", \"voice\", \"voice\", \"voice\", \"voice\", \"void\", \"void\", \"void\", \"void\", \"void\", \"void\", \"void\", \"void\", \"void\", \"void\", \"war\", \"war\", \"war\", \"war\", \"war\", \"war\", \"war\", \"war\", \"war\", \"war\", \"watch\", \"watch\", \"watch\", \"watch\", \"watch\", \"watch\", \"watch\", \"watch\", \"watch\", \"watch\", \"water\", \"water\", \"water\", \"water\", \"water\", \"water\", \"water\", \"water\", \"water\", \"water\", \"weft\", \"weft\", \"weft\", \"weft\", \"weft\", \"weft\", \"weft\", \"weft\", \"weft\", \"weft\", \"weight\", \"weight\", \"weight\", \"weight\", \"weight\", \"weight\", \"weight\", \"weight\", \"weight\", \"weight\", \"white\", \"white\", \"white\", \"white\", \"white\", \"white\", \"white\", \"white\", \"white\", \"white\", \"wide\", \"wide\", \"wide\", \"wide\", \"wide\", \"wide\", \"wide\", \"wide\", \"wide\", \"wide\", \"wil\", \"wil\", \"wil\", \"wil\", \"wil\", \"wil\", \"wil\", \"wil\", \"wil\", \"wil\", \"william\", \"william\", \"william\", \"william\", \"william\", \"william\", \"william\", \"william\", \"william\", \"william\", \"window\", \"window\", \"window\", \"window\", \"window\", \"window\", \"window\", \"window\", \"window\", \"window\", \"wine\", \"wine\", \"wine\", \"wine\", \"wine\", \"wine\", \"wine\", \"wine\", \"wine\", \"wine\", \"woman\", \"woman\", \"woman\", \"woman\", \"woman\", \"woman\", \"woman\", \"woman\", \"woman\", \"woman\", \"wool\", \"wool\", \"wool\", \"wool\", \"wool\", \"wool\", \"wool\", \"wool\", \"wool\", \"wool\", \"writ\", \"writ\", \"writ\", \"writ\", \"writ\", \"writ\", \"writ\", \"writ\", \"writ\", \"writ\", \"yard\", \"yard\", \"yard\", \"yard\", \"yard\", \"yard\", \"yard\", \"yard\", \"yard\", \"yard\", \"year\", \"year\", \"year\", \"year\", \"year\", \"year\", \"year\", \"year\", \"year\", \"year\", \"young\", \"young\", \"young\", \"young\", \"young\", \"young\", \"young\", \"young\", \"young\", \"young\", \"youth\", \"youth\", \"youth\", \"youth\", \"youth\", \"youth\", \"youth\", \"youth\", \"youth\", \"youth\"]}, \"R\": 30, \"lambda.step\": 0.01, \"plot.opts\": {\"xlab\": \"PC1\", \"ylab\": \"PC2\"}, \"topic.order\": [2, 5, 3, 7, 4, 10, 6, 9, 8, 1]};\n",
       "\n",
       "function LDAvis_load_lib(url, callback){\n",
       "  var s = document.createElement('script');\n",
       "  s.src = url;\n",
       "  s.async = true;\n",
       "  s.onreadystatechange = s.onload = callback;\n",
       "  s.onerror = function(){console.warn(\"failed to load library \" + url);};\n",
       "  document.getElementsByTagName(\"head\")[0].appendChild(s);\n",
       "}\n",
       "\n",
       "if(typeof(LDAvis) !== \"undefined\"){\n",
       "   // already loaded: just create the visualization\n",
       "   !function(LDAvis){\n",
       "       new LDAvis(\"#\" + \"ldavis_el17031451398923961400006732202418\", ldavis_el17031451398923961400006732202418_data);\n",
       "   }(LDAvis);\n",
       "}else if(typeof define === \"function\" && define.amd){\n",
       "   // require.js is available: use it to load d3/LDAvis\n",
       "   require.config({paths: {d3: \"https://d3js.org/d3.v5\"}});\n",
       "   require([\"d3\"], function(d3){\n",
       "      window.d3 = d3;\n",
       "      LDAvis_load_lib(\"https://cdn.jsdelivr.net/gh/bmabey/pyLDAvis@3.4.0/pyLDAvis/js/ldavis.v3.0.0.js\", function(){\n",
       "        new LDAvis(\"#\" + \"ldavis_el17031451398923961400006732202418\", ldavis_el17031451398923961400006732202418_data);\n",
       "      });\n",
       "    });\n",
       "}else{\n",
       "    // require.js not available: dynamically load d3 & LDAvis\n",
       "    LDAvis_load_lib(\"https://d3js.org/d3.v5.js\", function(){\n",
       "         LDAvis_load_lib(\"https://cdn.jsdelivr.net/gh/bmabey/pyLDAvis@3.4.0/pyLDAvis/js/ldavis.v3.0.0.js\", function(){\n",
       "                 new LDAvis(\"#\" + \"ldavis_el17031451398923961400006732202418\", ldavis_el17031451398923961400006732202418_data);\n",
       "            })\n",
       "         });\n",
       "}\n",
       "</script>"
      ],
      "text/plain": [
       "<IPython.core.display.HTML object>"
      ]
     },
     "execution_count": 21,
     "metadata": {},
     "output_type": "execute_result"
    }
   ],
   "source": [
    "visualize_decade(1790)"
   ]
  },
  {
   "cell_type": "code",
   "execution_count": 11,
   "id": "964b387c",
   "metadata": {},
   "outputs": [
    {
     "name": "stderr",
     "output_type": "stream",
     "text": [
      "/users/sebarodr/.local/lib/python3.10/site-packages/ipykernel/ipkernel.py:283: DeprecationWarning: `should_run_async` will not call `transform_cell` automatically in the future. Please pass the result to `transformed_cell` argument and any exception that happen during thetransform in `preprocessing_exc_tuple` in IPython 7.17 and above.\n",
      "  and should_run_async(code)\n"
     ]
    }
   ],
   "source": [
    "#This is my analysis, (sebastian), about what I think it means each topic, in each model.\n",
    "# NA - > The topic only contains weird tokens, doesn't represent anything\n",
    "topics_names = {1920:{1:'Christianity',2:'Goverment',3:'Romantic?/Theatrical?',4:'?',5:'Big Concepts',6:'Law',7:'',8:'Kings/England',9:'Verbs?',10:''},\n",
    "                1930:{1:'Religion',2:'Goverment/Kingdom',3:'',4:'Books/Ideas',5:'Law/State',6:'Romantic?/Theatrical?',7:'Earth/Nature',8:'Locations/People',9:'Kings/England',10:''},\n",
    "                1940:{1:'Religion',2:'',3:'Religion/Bible',4:'Man/Ideas',5:'War/Government',6:'',7:'',8:'Law',9:'Kings/England',10:'NA?'},\n",
    "                1950:{1:'Bible/Israel',2:'Romantic?/Theatrical?/Art?',3:'Religion',4:'Earth/Nature',5:'Kingdom',6:'Man/Ideas',7:'Kings/England',8:'Locations/People',9:'NA',10:'NA'},\n",
    "                1960:{1:'Bible/Religion',2:'People/Titles',3:'Religion',4:'Kings/England',5:'Royalty/Family',6:'Government/Law',7:'',8:'Earth/Nature',9:'Ideas/Knowledge',10:''},\n",
    "                1970:{1:'Government/War',2:'Law/Economy',3:'Religion',4:'',5:'',6:'Man/Ideas',7:'Kings/Royalty/England',8:'People/Titles',9:'Church/Religion',10:'NA'},\n",
    "                1980:{1:'',2:'Government/War',3:'',4:'Ideas/Moral/Knowledge',5:'Religion',6:'Law',7:'Economy',8:'Government/Titles',9:'',10:'NA'},\n",
    "                1990:{1:'',2:'',3:'Law',4:'Religion',5:'Government/War',6:'Ideas/Moral/Knowledge',7:'Family/People',8:'',9:'Countries/Land/Economy',10:'NA'}}"
   ]
  },
  {
   "cell_type": "code",
   "execution_count": 11,
   "id": "48337acc",
   "metadata": {},
   "outputs": [
    {
     "name": "stderr",
     "output_type": "stream",
     "text": [
      "/users/sebarodr/.local/lib/python3.10/site-packages/ipykernel/ipkernel.py:283: DeprecationWarning: `should_run_async` will not call `transform_cell` automatically in the future. Please pass the result to `transformed_cell` argument and any exception that happen during thetransform in `preprocessing_exc_tuple` in IPython 7.17 and above.\n",
      "  and should_run_async(code)\n"
     ]
    },
    {
     "data": {
      "text/plain": [
       "[['fait', 'fucb', 'anb', 'tte', 'faib', 'aft', 'sot', 'iball', 'mate', 'tall'],\n",
       " ['fame',\n",
       "  'court',\n",
       "  'person',\n",
       "  'cafe',\n",
       "  'hall',\n",
       "  'time',\n",
       "  'persons',\n",
       "  'sum',\n",
       "  'goods',\n",
       "  'aforesaid'],\n",
       " ['god',\n",
       "  'lord',\n",
       "  'thou',\n",
       "  'thy',\n",
       "  'thee',\n",
       "  'jesus',\n",
       "  'hath',\n",
       "  'christ',\n",
       "  'man',\n",
       "  'israel'],\n",
       " ['king',\n",
       "  'john',\n",
       "  'henry',\n",
       "  'earl',\n",
       "  'thomas',\n",
       "  'robert',\n",
       "  'william',\n",
       "  'james',\n",
       "  'year',\n",
       "  'richard'],\n",
       " ['men',\n",
       "  'nature',\n",
       "  'things',\n",
       "  'man',\n",
       "  'human',\n",
       "  'ideas',\n",
       "  'mind',\n",
       "  'thing',\n",
       "  'true',\n",
       "  'moral'],\n",
       " ['sir',\n",
       "  'good',\n",
       "  'madam',\n",
       "  'love',\n",
       "  'fee',\n",
       "  'man',\n",
       "  'fay',\n",
       "  'lady',\n",
       "  'dear',\n",
       "  'young'],\n",
       " ['thy',\n",
       "  'thou',\n",
       "  'love',\n",
       "  'thee',\n",
       "  'fate',\n",
       "  'eyes',\n",
       "  'death',\n",
       "  'heart',\n",
       "  'ring',\n",
       "  'heav'],\n",
       " ['king',\n",
       "  'power',\n",
       "  'people',\n",
       "  'war',\n",
       "  'army',\n",
       "  'prince',\n",
       "  'great',\n",
       "  'troops',\n",
       "  'french',\n",
       "  'enemy'],\n",
       " ['water',\n",
       "  'parts',\n",
       "  'air',\n",
       "  'quantity',\n",
       "  'equal',\n",
       "  'called',\n",
       "  'salt',\n",
       "  'body',\n",
       "  'heat',\n",
       "  'bodies'],\n",
       " ['priest',\n",
       "  'angry',\n",
       "  'lamb',\n",
       "  'dom',\n",
       "  'search',\n",
       "  'chufe',\n",
       "  'prayers',\n",
       "  'wives',\n",
       "  'ithe',\n",
       "  'almighty']]"
      ]
     },
     "execution_count": 11,
     "metadata": {},
     "output_type": "execute_result"
    }
   ],
   "source": [
    "models[0].get_topic_lists()"
   ]
  },
  {
   "cell_type": "markdown",
   "id": "b1bdbb40",
   "metadata": {},
   "source": [
    "# Metrics Evaluation"
   ]
  },
  {
   "cell_type": "code",
   "execution_count": 12,
   "id": "5dc3ddc8",
   "metadata": {},
   "outputs": [
    {
     "name": "stderr",
     "output_type": "stream",
     "text": [
      "/users/sebarodr/.local/lib/python3.10/site-packages/ipykernel/ipkernel.py:283: DeprecationWarning: `should_run_async` will not call `transform_cell` automatically in the future. Please pass the result to `transformed_cell` argument and any exception that happen during thetransform in `preprocessing_exc_tuple` in IPython 7.17 and above.\n",
      "  and should_run_async(code)\n"
     ]
    },
    {
     "name": "stdout",
     "output_type": "stream",
     "text": [
      "For the decade 1720 the topic diversity score is 0.89 and the inverse rbo is 0.9768115433577778\n",
      "For the decade 1730 the topic diversity score is 0.91 and the inverse rbo is 0.98406192262\n",
      "For the decade 1740 the topic diversity score is 0.89 and the inverse rbo is 0.9784766743814286\n",
      "For the decade 1750 the topic diversity score is 0.89 and the inverse rbo is 0.97787313116\n",
      "For the decade 1760 the topic diversity score is 0.93 and the inverse rbo is 0.9879985513385714\n",
      "For the decade 1770 the topic diversity score is 0.93 and the inverse rbo is 0.9816403667463492\n",
      "For the decade 1780 the topic diversity score is 0.91 and the inverse rbo is 0.9806437121977778\n",
      "For the decade 1790 the topic diversity score is 0.95 and the inverse rbo is 0.9892895285071428\n"
     ]
    }
   ],
   "source": [
    "for decade in range(1720,1800,10):\n",
    "    i = dict_dec[decade]\n",
    "    tpd = TopicDiversity(topics=models[i].get_topic_lists(10))\n",
    "    inv_rbo = InvertedRBO(topics=models[i].get_topic_lists(10))\n",
    "    scorei = tpd.score(topk=10)\n",
    "    invscore = inv_rbo.score()\n",
    "    print(\"For the decade {} the topic diversity score is {} and the inverse rbo is {}\".format(decade,scorei,invscore))"
   ]
  },
  {
   "cell_type": "code",
   "execution_count": 13,
   "id": "ef5fad51",
   "metadata": {},
   "outputs": [
    {
     "name": "stderr",
     "output_type": "stream",
     "text": [
      "/users/sebarodr/.local/lib/python3.10/site-packages/ipykernel/ipkernel.py:283: DeprecationWarning: `should_run_async` will not call `transform_cell` automatically in the future. Please pass the result to `transformed_cell` argument and any exception that happen during thetransform in `preprocessing_exc_tuple` in IPython 7.17 and above.\n",
      "  and should_run_async(code)\n"
     ]
    },
    {
     "data": {
      "text/plain": [
       "{'X_bow': tensor([[0., 0., 0.,  ..., 0., 0., 0.]]),\n",
       " 'X_contextual': tensor([-6.1380e-04, -1.0519e-01, -5.9324e-03,  1.4345e-01,  1.1806e-02,\n",
       "          8.7712e-03, -2.1415e-02,  2.3226e-02,  2.0015e-01,  1.2212e-01,\n",
       "          3.7409e-02, -9.0113e-02,  6.1101e-03, -2.6023e-01,  2.0544e-02,\n",
       "         -7.8548e-02,  2.6290e-02, -7.1604e-02, -1.5225e-02,  2.5416e-02,\n",
       "          1.1830e-01, -2.2116e-02,  4.0804e-02, -2.4785e-02, -1.2023e-01,\n",
       "          1.0570e-01,  7.4286e-02,  7.2395e-02,  3.2210e-02,  1.2866e-02,\n",
       "          7.1789e-03,  4.8495e-02,  1.4543e-01, -1.4934e-02,  2.1313e-02,\n",
       "         -5.5876e-02, -8.6309e-02, -9.0029e-03, -7.9649e-02,  2.7410e-02,\n",
       "         -9.9994e-02, -1.5306e-01,  3.1305e-02,  8.9551e-03, -8.7678e-02,\n",
       "          6.1794e-02, -2.2437e-02,  1.4301e-01,  7.9974e-02,  7.7013e-02,\n",
       "          3.1987e-02,  4.5722e-02, -1.4484e-01,  4.1722e-02,  1.3018e-01,\n",
       "         -2.9368e-01, -1.7529e-02,  3.3766e-02, -9.9670e-03,  1.3986e-01,\n",
       "         -2.2812e-02, -1.0265e-01, -4.0806e-02,  3.2946e-02, -1.9214e-01,\n",
       "         -6.9278e-02,  2.7938e-02,  9.6303e-02, -4.9159e-02, -8.6187e-03,\n",
       "          1.4257e-01,  8.3886e-02, -6.2940e-02,  1.7222e-01,  1.2256e-02,\n",
       "         -4.3269e-02, -2.4985e-02,  7.0635e-02,  4.8439e-02,  1.5326e-02,\n",
       "          5.9384e-02,  4.4412e-02, -4.8011e-02,  4.3070e-02, -1.2154e-01,\n",
       "         -3.2361e-02,  1.1353e-02,  3.0131e-02, -3.0092e-02, -6.2460e-02,\n",
       "         -1.3262e-01, -3.4769e-02, -1.6172e-01,  3.7742e-02, -2.0727e-02,\n",
       "          1.0680e-02, -9.1177e-02,  7.8934e-02,  4.9930e-02, -1.1084e-01,\n",
       "          7.0913e-02,  8.9443e-02, -1.6402e-01,  1.1160e-01, -1.4314e-02,\n",
       "          8.9068e-02,  2.8328e-02,  1.1479e-01,  6.3403e-02,  8.4613e-02,\n",
       "          1.2884e-01,  5.7735e-02, -2.3340e-02, -5.6636e-02, -1.8167e-01,\n",
       "          7.2432e-02, -9.2178e-03, -9.9182e-02,  8.4170e-03,  1.9562e-02,\n",
       "          6.4135e-02, -7.4997e-02,  4.6814e-02, -3.0052e-02,  8.3467e-02,\n",
       "         -5.7575e-02,  1.7629e-02,  4.2515e-02,  3.9648e-02, -1.1051e-02,\n",
       "         -1.4849e-02, -1.8185e-02,  2.9597e-02, -1.4787e-02,  5.1389e-02,\n",
       "          1.5796e-01, -1.0738e-01, -1.3755e-02, -9.5289e-02,  1.9993e-02,\n",
       "         -1.0501e-01, -2.5429e-03, -9.8226e-02, -4.5612e-02, -5.5293e-02,\n",
       "         -1.2750e-01,  9.1384e-02, -1.9096e-01,  6.1735e-02,  8.1971e-02,\n",
       "          2.0037e-02,  1.0635e-01, -1.7290e-01, -5.9960e-02, -3.1358e-02,\n",
       "          1.8919e-03, -1.9195e-01,  3.8171e-02, -9.1448e-02, -1.3725e-01,\n",
       "          7.1344e-02, -1.0600e-02, -2.8469e-02,  3.6216e-02, -2.5245e-02,\n",
       "         -5.5564e-02, -1.0688e-01, -2.8233e-02,  7.6014e-02, -1.0709e-01,\n",
       "          7.3954e-02,  9.1751e-02,  1.3622e-02, -2.1896e-02,  4.4378e-02,\n",
       "         -6.2020e-02, -1.3750e-01, -1.3405e-01, -5.1903e-02, -1.5381e-01,\n",
       "          4.4858e-02,  6.3852e-02,  2.2069e-02, -9.2733e-02,  5.1330e-02,\n",
       "          2.6055e-02, -1.5957e-01, -9.0450e-02, -1.6789e-02, -9.2800e-03,\n",
       "         -7.9612e-02,  2.1415e-02, -3.1141e-03, -6.1192e-02, -7.6789e-02,\n",
       "         -5.4945e-02,  8.0562e-04, -3.5203e-02,  6.9698e-02, -8.0815e-02,\n",
       "          6.6387e-02, -7.8431e-02,  1.6222e-02,  4.0166e-02, -9.0799e-02,\n",
       "         -2.2566e-02, -1.0624e-01,  4.4807e-02,  4.1979e-02,  1.4746e-01,\n",
       "          1.5869e-01, -4.1905e-02,  1.9984e-02, -7.2689e-02,  4.6906e-03,\n",
       "         -1.5371e-01, -3.5460e-02, -8.9562e-02, -1.4930e-01,  6.0123e-02,\n",
       "         -6.1038e-02, -5.0028e-02, -1.5312e-01,  3.6176e-03,  9.2125e-02,\n",
       "         -4.1130e-02, -1.1513e-02, -2.5428e-03, -1.8264e-02,  4.7401e-02,\n",
       "          7.5880e-02, -7.6103e-03,  6.2126e-02,  3.2069e-02,  4.9969e-02,\n",
       "          7.0154e-02, -1.8566e-02, -1.8650e-01,  7.4776e-02, -6.6216e-02,\n",
       "         -2.9603e-02, -2.4156e-02, -1.1819e-02, -1.9081e-02, -9.6145e-02,\n",
       "         -5.8568e-02,  7.6829e-02,  4.8589e-02, -7.5647e-02, -2.5881e-02,\n",
       "         -8.0046e-02,  6.8718e-02, -1.0481e-01, -4.6057e-02,  6.3538e-02,\n",
       "          2.0112e-01, -8.4060e-02, -2.1811e-02,  2.7347e-01, -2.5433e-01,\n",
       "         -1.8229e-01,  4.8077e-02, -4.5556e-02, -9.2797e-02,  1.0414e-01,\n",
       "          1.1014e-02,  9.6903e-02, -3.4268e-02,  2.2566e-03, -5.4664e-02,\n",
       "         -4.4761e-02, -5.3881e-02, -1.7108e-02, -1.3492e-03,  3.1739e-02,\n",
       "         -7.2665e-02, -3.0124e-01,  9.5975e-03,  5.9933e-04,  3.5715e-02,\n",
       "         -5.3321e-02, -4.7537e-02,  1.3677e-01, -3.9321e-02, -4.4597e-02,\n",
       "         -5.4024e-03, -1.3495e-01, -9.4324e-03,  1.3910e-02, -7.1877e-02,\n",
       "         -6.2832e-02,  2.5988e-02, -4.5683e-02, -6.8357e-02, -4.8420e-02,\n",
       "         -6.6799e-02, -1.4877e-01, -9.9905e-02,  5.5060e-02,  1.2858e-01,\n",
       "          1.5675e-02,  1.9154e-02, -3.4199e-02, -9.4659e-02, -3.3579e-02,\n",
       "         -7.7698e-02,  1.3897e-01,  3.3959e-02, -7.8850e-02,  4.4811e-02,\n",
       "          1.6195e-03,  6.9525e-03, -2.5034e-02,  1.2318e-01,  5.9453e-02,\n",
       "          6.0556e-03,  2.1688e-03, -5.2061e-03,  1.2849e-01,  1.4792e-01,\n",
       "          9.1937e-02, -7.4480e-02,  4.3014e-02,  2.5246e-02,  3.2011e-02,\n",
       "         -7.5323e-02,  4.0258e-02, -1.3238e-01,  2.0524e-02,  2.0392e-03,\n",
       "          9.1347e-02, -2.0239e-02, -1.5072e-01,  9.3408e-02,  3.1264e-04,\n",
       "          1.0053e-01,  3.2974e-02,  3.1170e-01, -5.7338e-02, -1.5934e-02,\n",
       "         -6.6244e-02, -3.8319e-02,  7.8368e-02, -1.7994e-03,  1.7199e-01,\n",
       "          1.7395e-01,  1.1490e-02,  5.5223e-02,  1.2053e-01,  9.8266e-02,\n",
       "         -1.4312e-01,  1.1061e-02, -1.1204e-02, -4.8412e-03, -3.3937e-02,\n",
       "          5.3179e-02, -9.4495e-02,  1.2938e-01,  1.2048e-02,  4.7190e-02,\n",
       "         -4.3158e-02, -4.4542e-02,  1.8123e-01,  6.2374e-02,  1.0144e-01,\n",
       "          5.4188e-02,  6.8195e-02, -5.2197e-02, -4.2600e-02,  1.7384e-02,\n",
       "         -4.2831e-02,  7.3124e-02, -1.1250e-01,  1.4699e-01, -1.5857e-02,\n",
       "          7.4631e-02, -6.4927e-03, -5.9438e-02,  2.4208e-02,  2.3785e-02,\n",
       "         -5.4729e-02, -1.2215e-01,  1.7592e-01,  2.8237e-02, -5.6080e-02,\n",
       "         -6.9896e-04, -1.1487e-02, -4.0168e-02,  5.2597e-02,  1.3931e-01,\n",
       "          3.8054e-02, -1.1813e-01, -9.0166e-02,  9.4341e-03,  8.5039e-02,\n",
       "          6.5416e-02, -2.4606e-02,  1.0546e-01, -8.6438e-03, -2.8252e-02,\n",
       "          3.6774e-02, -3.6670e-02, -5.4828e-02, -2.7509e-02,  8.1917e-02,\n",
       "          3.0621e-02, -4.9106e-02, -5.0890e-02, -1.0383e-01,  7.4525e-03,\n",
       "          1.2941e-01, -1.3893e-01, -3.9043e-02, -1.0826e-02, -3.3904e-02,\n",
       "          6.0671e-03, -4.1090e-02, -9.8194e-02,  6.9112e-02,  1.6145e-01,\n",
       "         -1.0412e-01,  8.0793e-03,  2.0534e-02, -1.5778e-02, -1.3922e-01,\n",
       "         -1.1434e-01,  1.0968e-01,  8.4043e-02,  9.5027e-02, -3.1496e-02,\n",
       "          7.7652e-02,  3.7593e-02, -3.7741e-02, -5.6465e-02,  4.8776e-02,\n",
       "         -1.6969e-01, -2.9750e-03,  7.9369e-02,  1.8187e-01, -8.2780e-02,\n",
       "          4.2739e-02,  1.3600e-01,  3.0019e-01,  2.7559e-02,  3.9665e-02,\n",
       "          6.2640e-02, -4.6387e-02, -1.2612e-01, -6.0238e-02, -2.8705e-02,\n",
       "          3.0727e-02, -9.0575e-02,  7.8672e-02, -9.9260e-03,  1.8142e-01,\n",
       "         -2.3014e-02,  4.2724e-02, -1.3272e-01, -2.8534e-02, -3.2764e-02,\n",
       "          6.7321e-02,  2.6708e-01,  8.5130e-03, -4.8498e-02,  3.8654e-02,\n",
       "         -9.0312e-02, -8.0056e-03,  1.1369e-01,  6.7246e-02,  9.4973e-03,\n",
       "         -6.3358e-02, -3.6579e-02,  3.4115e-02,  6.2538e-02,  7.4604e-02,\n",
       "         -1.3895e-02, -5.6806e-03, -5.0399e-02,  1.1524e-01, -7.8120e-02,\n",
       "         -9.5973e-02, -1.5596e-02, -5.8116e-03, -6.4992e-02,  1.6992e-02,\n",
       "         -1.5691e-01,  2.0530e-02, -7.3727e-02,  6.6807e-02,  4.6232e-02,\n",
       "         -6.1808e-02, -8.2348e-03,  4.9558e-02,  1.9573e-02, -7.4109e-02,\n",
       "         -1.3961e-01,  1.2364e-01,  1.5658e-02,  1.7063e-01, -1.3744e-01,\n",
       "         -8.6908e-03, -1.0864e-01, -2.2806e-02, -1.4224e-01, -1.0162e-02,\n",
       "          4.2474e-02,  4.1447e-03,  4.7247e-02,  6.9159e-02,  4.6116e-03,\n",
       "          5.5503e-02,  5.1359e-02,  1.7347e-02, -2.9709e-02,  8.6643e-02,\n",
       "          8.3276e-02, -1.6165e-01, -1.7467e-01,  3.1186e-02, -4.2396e-02,\n",
       "          7.5064e-03,  4.7964e-02, -1.0671e-02, -8.2091e-02, -3.5481e-02,\n",
       "          1.1166e-01, -1.9193e-02, -6.8409e-02,  1.0340e-01,  3.8269e-02,\n",
       "         -1.1232e-02, -1.5232e-02,  2.0842e-01, -4.0751e-02, -6.5725e-02,\n",
       "         -1.8231e-01, -4.6877e-02, -2.5640e-02,  4.4660e-02, -1.0942e-01,\n",
       "         -1.2853e-01, -4.3636e-03,  2.8138e-01, -2.4742e-02, -1.3062e-02,\n",
       "         -3.8172e-02, -2.9628e-03, -6.4761e-02,  9.4640e-02,  6.5922e-02,\n",
       "          7.5639e-02, -2.3864e-02,  2.6377e-02, -7.7233e-02,  4.8617e-02,\n",
       "          8.7101e-03, -5.9561e-05, -2.2171e-02,  6.8732e-02,  7.8281e-02,\n",
       "         -6.9714e-02,  8.6412e-02, -5.8738e-02,  3.5295e-02, -6.7013e-02,\n",
       "          2.4106e-02,  6.6070e-02, -5.3351e-02, -2.2004e-03,  4.1771e-02,\n",
       "          4.0202e-02, -1.0147e-01, -3.3098e-02,  1.6307e-01, -4.4364e-02,\n",
       "          7.6536e-02,  1.0963e-01,  3.9084e-02,  6.2703e-02, -1.0592e-01,\n",
       "          4.6897e-02,  9.9801e-02, -1.9142e-02,  3.3934e-02, -7.6785e-02,\n",
       "          2.2571e-02, -4.1714e-02, -4.4783e-02,  4.2802e-02,  1.2933e-02,\n",
       "          2.8867e-02,  1.8401e-01, -7.8668e-02, -6.4599e-02,  1.8109e-03,\n",
       "         -1.1626e-01,  1.2983e-01,  1.2714e-01, -8.2781e-02, -6.1121e-02,\n",
       "         -3.2900e-02, -1.7847e-01,  4.0544e-02,  3.3265e-02,  6.7442e-02,\n",
       "         -1.3456e-01, -1.0058e-01,  7.8311e-02,  1.2718e-02, -1.6122e-01,\n",
       "         -2.3740e-01, -9.8132e-02,  2.5776e-02, -4.8755e-02, -1.6015e-01,\n",
       "          3.9494e-02, -7.8186e-02, -2.3743e-02, -3.7189e-02, -4.0546e-02,\n",
       "         -1.4018e-01, -6.4181e-02, -3.3267e-01,  1.3230e-01,  4.2351e-02,\n",
       "          2.0025e-01,  2.4384e-03,  2.1101e-01,  3.8002e-02,  8.9331e-02,\n",
       "          2.2243e-01,  8.6520e-02, -7.4050e-02,  3.6967e-02,  1.5355e-01,\n",
       "          1.5425e-01,  1.9323e-02,  2.8850e-02, -4.7750e-03, -6.3724e-02,\n",
       "          5.0361e-03, -1.3440e-02, -2.6319e-02,  5.3870e-02,  7.0831e-02,\n",
       "         -2.2173e-02,  1.3033e-01, -8.9660e-02,  8.1343e-02,  7.9896e-02,\n",
       "         -1.3664e-01, -1.4099e-02,  3.7849e-02,  5.5115e-02, -5.0887e-02,\n",
       "          5.4806e-02,  1.4338e-02,  3.2312e-02,  8.9713e-02,  1.4798e-02,\n",
       "         -1.9828e-02,  1.6356e-01,  1.2253e-01, -8.0098e-02, -1.1552e-01,\n",
       "         -6.9293e-02,  5.4707e-02,  1.2362e-01, -7.5979e-02,  1.7981e-01,\n",
       "          5.6681e-02,  1.4785e-02, -1.0157e-02, -6.5967e-02, -8.4272e-02,\n",
       "         -1.4966e-01, -1.0629e-01,  1.8530e-01,  3.1143e-02, -3.1155e-03,\n",
       "         -2.4381e-02, -2.5322e-02,  9.3174e-02,  2.4474e-02, -1.8295e-01,\n",
       "         -2.9473e-02,  9.7880e-02,  5.4522e-03, -2.0998e-02,  1.4448e-02,\n",
       "         -1.3630e-01,  1.0741e-01,  6.3822e-02, -5.9495e-02,  1.3675e-02,\n",
       "         -7.4953e-02,  4.9199e-02, -1.2380e-02, -1.3445e-02,  3.2120e-02,\n",
       "         -8.6005e-02, -7.4292e-02,  2.4479e-02, -4.8433e-02, -9.4941e-02,\n",
       "          1.0095e-01, -1.3780e-01,  4.2138e-02,  6.6695e-02, -1.6130e-01,\n",
       "         -2.8537e-03,  7.2239e-02, -7.2713e-02, -1.2084e-02,  2.1388e-01,\n",
       "         -4.4504e-02, -8.7574e-02,  5.2810e-02, -1.2178e-02,  8.0088e-02,\n",
       "          1.6379e-02,  1.0893e-01,  1.8673e-01,  4.7362e-02, -1.7691e-03,\n",
       "         -4.4519e-02,  9.6554e-02, -2.0515e-02,  7.0174e-02, -1.1931e-01,\n",
       "          5.0930e-02,  3.6113e-02,  8.3078e-02,  4.6957e-02,  1.8310e-01,\n",
       "          2.0451e-02, -9.5334e-02,  4.2362e-02, -9.2053e-02,  7.3173e-02,\n",
       "          3.2412e-03, -3.1766e-02,  4.6524e-02,  6.4660e-02, -2.7828e-02,\n",
       "         -2.8856e-02, -1.1329e-01,  4.4843e-02,  4.7442e-02, -7.9230e-04,\n",
       "          1.1666e-01,  1.5542e-01,  7.8267e-02, -4.7931e-02, -1.1010e-01,\n",
       "         -1.8469e-01, -5.5215e-02, -3.8284e-02,  1.1563e-03,  8.7503e-02,\n",
       "          5.1766e-02, -1.0022e-02,  2.7218e-02,  8.5422e-03,  1.0573e-02,\n",
       "          6.8603e-02, -5.3635e-02,  2.5226e-02])}"
      ]
     },
     "execution_count": 13,
     "metadata": {},
     "output_type": "execute_result"
    }
   ],
   "source": [
    "training_sets[0].__getitem__(1)"
   ]
  },
  {
   "cell_type": "code",
   "execution_count": 14,
   "id": "581efe18",
   "metadata": {},
   "outputs": [
    {
     "name": "stderr",
     "output_type": "stream",
     "text": [
      "/users/sebarodr/.local/lib/python3.10/site-packages/ipykernel/ipkernel.py:283: DeprecationWarning: `should_run_async` will not call `transform_cell` automatically in the future. Please pass the result to `transformed_cell` argument and any exception that happen during thetransform in `preprocessing_exc_tuple` in IPython 7.17 and above.\n",
      "  and should_run_async(code)\n"
     ]
    },
    {
     "data": {
      "text/plain": [
       "[['The', 'king', 'and', 'the', 'queen']]"
      ]
     },
     "execution_count": 14,
     "metadata": {},
     "output_type": "execute_result"
    }
   ],
   "source": [
    "[str(\"The king and the queen\").split()]"
   ]
  },
  {
   "cell_type": "code",
   "execution_count": 15,
   "id": "538dabd9",
   "metadata": {},
   "outputs": [
    {
     "name": "stderr",
     "output_type": "stream",
     "text": [
      "/users/sebarodr/.local/lib/python3.10/site-packages/ipykernel/ipkernel.py:283: DeprecationWarning: `should_run_async` will not call `transform_cell` automatically in the future. Please pass the result to `transformed_cell` argument and any exception that happen during thetransform in `preprocessing_exc_tuple` in IPython 7.17 and above.\n",
      "  and should_run_async(code)\n"
     ]
    },
    {
     "data": {
      "text/plain": [
       "[<contextualized_topic_models.datasets.dataset.CTMDataset at 0x7f9dfe42ca00>,\n",
       " <contextualized_topic_models.datasets.dataset.CTMDataset at 0x7f9dfe42c340>,\n",
       " <contextualized_topic_models.datasets.dataset.CTMDataset at 0x7f9dfe42f6a0>,\n",
       " <contextualized_topic_models.datasets.dataset.CTMDataset at 0x7f9dfe42f4f0>,\n",
       " <contextualized_topic_models.datasets.dataset.CTMDataset at 0x7f9dfe42f340>,\n",
       " <contextualized_topic_models.datasets.dataset.CTMDataset at 0x7f9dfe42e200>,\n",
       " <contextualized_topic_models.datasets.dataset.CTMDataset at 0x7f9dfe42e3b0>,\n",
       " <contextualized_topic_models.datasets.dataset.CTMDataset at 0x7f9dfe42e560>]"
      ]
     },
     "execution_count": 15,
     "metadata": {},
     "output_type": "execute_result"
    }
   ],
   "source": [
    "test_sets"
   ]
  },
  {
   "cell_type": "code",
   "execution_count": 16,
   "id": "b9fb2120",
   "metadata": {},
   "outputs": [
    {
     "name": "stderr",
     "output_type": "stream",
     "text": [
      "/users/sebarodr/.local/lib/python3.10/site-packages/ipykernel/ipkernel.py:283: DeprecationWarning: `should_run_async` will not call `transform_cell` automatically in the future. Please pass the result to `transformed_cell` argument and any exception that happen during thetransform in `preprocessing_exc_tuple` in IPython 7.17 and above.\n",
      "  and should_run_async(code)\n"
     ]
    },
    {
     "data": {
      "text/plain": [
       "[['king',\n",
       "  'robert',\n",
       "  'earl',\n",
       "  'efq',\n",
       "  'john',\n",
       "  'henry',\n",
       "  'thomas',\n",
       "  'william',\n",
       "  'george',\n",
       "  'sir'],\n",
       " ['ham',\n",
       "  'depart',\n",
       "  'answered',\n",
       "  'darkness',\n",
       "  'accord',\n",
       "  'worship',\n",
       "  'flock',\n",
       "  'accept',\n",
       "  'repent',\n",
       "  'condemn'],\n",
       " ['king',\n",
       "  'great',\n",
       "  'time',\n",
       "  'people',\n",
       "  'france',\n",
       "  'prince',\n",
       "  'war',\n",
       "  'parliament',\n",
       "  'army',\n",
       "  'england'],\n",
       " ['love',\n",
       "  'sir',\n",
       "  'fee',\n",
       "  'madam',\n",
       "  'thy',\n",
       "  'heav',\n",
       "  'heart',\n",
       "  'dear',\n",
       "  'fate',\n",
       "  'thou'],\n",
       " ['court',\n",
       "  'cafe',\n",
       "  'money',\n",
       "  'pay',\n",
       "  'paid',\n",
       "  'defendant',\n",
       "  'plaintiff',\n",
       "  'law',\n",
       "  'goods',\n",
       "  'estate'],\n",
       " ['thy',\n",
       "  'thou',\n",
       "  'lord',\n",
       "  'thee',\n",
       "  'god',\n",
       "  'thall',\n",
       "  'hath',\n",
       "  'art',\n",
       "  'thine',\n",
       "  'haft'],\n",
       " ['men',\n",
       "  'religion',\n",
       "  'man',\n",
       "  'force',\n",
       "  'true',\n",
       "  'good',\n",
       "  'thing',\n",
       "  'reason',\n",
       "  'things',\n",
       "  'power'],\n",
       " ['depart',\n",
       "  'answered',\n",
       "  'supper',\n",
       "  'maker',\n",
       "  'ham',\n",
       "  'accord',\n",
       "  'beloved',\n",
       "  'destroy',\n",
       "  'wives',\n",
       "  'sick'],\n",
       " ['god',\n",
       "  'faith',\n",
       "  'law',\n",
       "  'christ',\n",
       "  'gentiles',\n",
       "  'gospel',\n",
       "  'things',\n",
       "  'life',\n",
       "  'jews',\n",
       "  'paul'],\n",
       " ['equal',\n",
       "  'water',\n",
       "  'figure',\n",
       "  'parts',\n",
       "  'lines',\n",
       "  'idea',\n",
       "  'angle',\n",
       "  'angles',\n",
       "  'ideas',\n",
       "  'sun']]"
      ]
     },
     "execution_count": 16,
     "metadata": {},
     "output_type": "execute_result"
    }
   ],
   "source": [
    "models[0].get_topic_lists()"
   ]
  },
  {
   "cell_type": "code",
   "execution_count": 17,
   "id": "f1d62353",
   "metadata": {},
   "outputs": [
    {
     "name": "stderr",
     "output_type": "stream",
     "text": [
      "/users/sebarodr/.local/lib/python3.10/site-packages/ipykernel/ipkernel.py:283: DeprecationWarning: `should_run_async` will not call `transform_cell` automatically in the future. Please pass the result to `transformed_cell` argument and any exception that happen during thetransform in `preprocessing_exc_tuple` in IPython 7.17 and above.\n",
      "  and should_run_async(code)\n"
     ]
    },
    {
     "data": {
      "text/plain": [
       "{'X_bow': tensor([[0.]]),\n",
       " 'X_contextual': tensor([-1.0904e-01, -2.9339e-01, -4.1732e-03,  5.7644e-02,  1.7722e-02,\n",
       "          4.3258e-02, -1.0997e-01,  5.1512e-02,  1.9279e-01,  8.5702e-03,\n",
       "         -1.3188e-01, -1.1227e-01,  1.4261e-01, -3.9253e-02, -8.3954e-02,\n",
       "         -4.4456e-02, -2.2035e-02,  6.5177e-03, -2.9760e-02, -5.4112e-02,\n",
       "          4.5642e-02,  2.1994e-02,  8.8462e-02,  9.1474e-02,  4.8693e-02,\n",
       "          3.2454e-02, -1.1171e-01,  2.0034e-01,  8.7845e-02,  1.1436e-01,\n",
       "          2.2805e-02,  4.6724e-02,  2.0878e-03, -6.5472e-02,  3.0954e-02,\n",
       "         -1.9171e-02, -1.1101e-01,  3.4602e-03, -1.0040e-01, -7.7204e-02,\n",
       "         -2.7136e-03, -2.0609e-01, -1.1923e-02,  4.8829e-02, -2.1711e-02,\n",
       "         -2.4770e-01, -1.5633e-02, -2.3917e-02,  6.8454e-02,  1.1511e-02,\n",
       "         -6.0904e-02,  6.8350e-02, -1.4830e-01,  8.8643e-02,  2.9541e-01,\n",
       "         -1.1435e-01, -1.6239e-02, -2.3581e-02, -3.3960e-02, -1.5386e-01,\n",
       "         -1.3477e-01, -3.0683e-02, -4.2210e-03,  6.1339e-02, -1.5319e-01,\n",
       "          6.7852e-02,  3.0429e-01,  9.2064e-02, -1.2806e-01, -4.3526e-02,\n",
       "          2.1407e-02,  6.8241e-02, -5.7310e-03,  3.7743e-02, -9.7693e-02,\n",
       "         -8.2603e-02,  5.7890e-02,  6.1684e-02,  3.7632e-02,  3.5327e-02,\n",
       "          2.1649e-01, -2.0244e-02, -9.0889e-02,  1.1102e-01, -7.6430e-02,\n",
       "          4.6972e-02,  2.7200e-02, -3.4314e-02, -3.3362e-02, -2.8563e-02,\n",
       "          1.4161e-02, -4.3652e-02, -4.8999e-02,  2.3845e-02,  1.0051e-02,\n",
       "          1.1997e-02, -6.1795e-03, -7.0779e-02, -6.2169e-02, -1.3595e-01,\n",
       "         -2.1620e-01,  3.5061e-02, -3.3173e-02,  3.1711e-02,  5.4491e-02,\n",
       "         -1.6149e-01,  8.9849e-02,  6.4183e-03,  4.2798e-03,  1.8015e-02,\n",
       "         -3.8313e-02,  6.1975e-02,  1.6263e-02,  1.1584e-02,  1.2526e-02,\n",
       "         -5.1068e-02, -3.1353e-02,  1.3521e-02, -7.8049e-02,  3.5164e-02,\n",
       "          3.0772e-01, -5.9764e-02, -2.0782e-02,  8.6264e-02,  3.1962e-02,\n",
       "          1.5331e-02, -4.3324e-02, -1.8062e-03,  3.2458e-02,  7.9121e-02,\n",
       "         -1.0488e-02,  3.5910e-02,  8.9321e-02, -4.6702e-02, -1.5974e-03,\n",
       "         -2.8859e-02,  4.4294e-02, -7.5395e-02, -4.2998e-02, -9.8661e-03,\n",
       "         -9.2914e-02, -3.7008e-02, -5.5307e-02, -6.0850e-02, -1.3930e-01,\n",
       "         -1.6124e-02,  1.3343e-01, -4.4791e-02, -1.1270e-02, -6.8410e-02,\n",
       "          3.5248e-02,  8.1109e-02, -8.3564e-02,  2.8304e-03, -5.4019e-02,\n",
       "         -2.7089e-02, -7.2310e-02, -9.0476e-02, -1.0266e-01, -3.6127e-02,\n",
       "         -2.9956e-02, -3.9354e-02, -4.6647e-02,  5.8094e-02, -3.8863e-02,\n",
       "          1.0656e-01, -7.0589e-02, -3.1404e-02,  1.0497e-02, -9.8601e-02,\n",
       "         -5.6005e-02,  1.6292e-01,  1.1054e-01, -9.5884e-04,  2.2118e-02,\n",
       "          1.2277e-01,  7.3810e-02, -1.8623e-01, -6.1059e-02,  2.4566e-02,\n",
       "          4.0609e-04,  4.7649e-02,  5.9311e-03, -3.6480e-02,  2.0269e-02,\n",
       "          2.4948e-02,  4.0964e-03, -1.5235e-03,  6.8010e-02, -5.6117e-02,\n",
       "         -4.5676e-02, -5.6927e-03, -4.4534e-02,  1.7995e-02, -2.6775e-02,\n",
       "         -4.8116e-02,  3.8813e-02, -6.1263e-02,  1.2169e-01, -9.8257e-03,\n",
       "          1.6954e-02, -1.6621e-01,  2.2424e-01,  1.5462e-01,  8.6213e-04,\n",
       "         -9.1683e-05,  7.7823e-02, -6.1045e-02, -1.0874e-01, -6.1039e-02,\n",
       "          2.6091e-01,  8.5358e-02,  8.6841e-02,  5.2139e-02, -1.5378e-01,\n",
       "          6.3095e-02,  4.6174e-02, -6.4414e-02, -2.4820e-01, -4.3390e-05,\n",
       "         -1.1389e-01,  2.6180e-01, -1.0880e-01,  2.2761e-02,  2.5345e-01,\n",
       "          1.1931e-01,  3.1292e-03, -4.5269e-02,  3.3358e-02,  5.0442e-02,\n",
       "          8.5234e-02,  3.5337e-02,  1.2828e-01,  1.1362e-01,  3.6841e-02,\n",
       "          2.9604e-02,  1.3101e-02, -4.1675e-01,  8.4485e-02,  3.8015e-02,\n",
       "          2.7104e-02, -7.1359e-02, -6.7678e-02, -1.8612e-02,  7.3048e-02,\n",
       "         -1.1766e-01,  7.5552e-02,  1.0658e-02,  1.0293e-01, -7.5492e-02,\n",
       "         -1.5775e-01,  1.1837e-01, -1.0554e-02, -8.6749e-02,  1.2170e-01,\n",
       "         -2.4963e-01, -7.6868e-02, -6.4353e-03,  1.7109e-01,  2.5928e-02,\n",
       "          1.0805e-01,  3.5221e-02,  2.2575e-02, -3.0187e-02,  2.7000e-01,\n",
       "         -2.5030e-03,  1.5572e-01, -2.0505e-01, -7.2890e-02, -8.1556e-02,\n",
       "          5.9595e-02,  4.7202e-02, -3.2512e-02, -3.8669e-02,  4.3889e-02,\n",
       "         -2.6650e-02,  7.6603e-03,  8.1893e-02,  8.0343e-03,  2.0659e-02,\n",
       "          5.3793e-02, -1.1286e-02, -5.1646e-02, -5.6281e-02, -8.5759e-02,\n",
       "          7.2851e-03, -1.0813e-01, -4.1947e-02,  1.5011e-01, -5.3957e-02,\n",
       "         -2.6064e-02, -6.2219e-02,  1.3732e-01, -1.1041e-01, -5.8922e-02,\n",
       "         -7.0739e-02,  1.1367e-01, -1.7467e-01, -2.5764e-02,  1.0991e-01,\n",
       "         -3.5496e-02,  6.1306e-03, -4.4971e-02, -3.9999e-02, -1.9672e-02,\n",
       "         -5.9381e-02,  5.2476e-02,  2.6263e-02, -4.2699e-02, -7.8506e-02,\n",
       "          8.2559e-02, -9.7207e-03, -4.1425e-02,  2.4227e-01,  5.2874e-02,\n",
       "          8.0362e-02, -6.1782e-02, -2.4851e-02,  1.6433e-01,  1.7701e-01,\n",
       "          5.0922e-02, -5.7298e-02, -1.6584e-02,  3.7500e-02, -1.9146e-03,\n",
       "         -2.4377e-02, -4.0878e-02, -9.6452e-02,  1.3040e-01, -5.4111e-02,\n",
       "          9.5814e-02,  8.9717e-03, -3.8026e-02,  2.0529e-02, -5.2283e-02,\n",
       "         -8.0873e-02,  2.8779e-02,  8.2960e-02, -4.4988e-02, -1.1473e-02,\n",
       "          7.5829e-02, -2.1713e-02,  1.0008e-01,  6.6220e-02, -1.5166e-01,\n",
       "         -3.7582e-02,  3.7629e-02,  7.4232e-02,  1.1396e-01, -3.8641e-02,\n",
       "          5.3119e-02, -5.5943e-02, -5.1957e-02, -4.5603e-02, -3.6453e-02,\n",
       "          1.8563e-01,  8.7785e-02, -3.9089e-02,  4.4351e-02, -1.0372e-01,\n",
       "         -2.3873e-02, -1.2142e-01,  8.1172e-02,  7.1112e-02,  1.6373e-01,\n",
       "          1.9889e-02,  9.1475e-02,  1.6086e-02, -4.7894e-04, -4.2719e-02,\n",
       "         -5.0431e-03,  2.9224e-02, -6.5183e-02,  9.9752e-02, -2.2589e-02,\n",
       "          1.4817e-01,  2.0981e-02, -1.9033e-01,  2.0666e-01, -1.2136e-02,\n",
       "          3.1784e-03,  1.0268e-01,  3.3960e-03,  2.8486e-02,  1.8085e-02,\n",
       "         -1.5334e-02, -5.8246e-03,  4.7968e-02,  1.0706e-02,  1.3837e-01,\n",
       "          3.9265e-02,  4.4068e-02, -1.2775e-01,  2.4854e-01, -2.0661e-02,\n",
       "         -1.5654e-02,  2.7961e-02,  8.3009e-02,  5.3207e-03, -1.8829e-02,\n",
       "         -5.0253e-02,  1.1463e-01,  2.0203e-02,  3.2707e-02,  8.6182e-03,\n",
       "          5.0474e-02,  2.6576e-02, -1.0778e-01,  1.1403e-02, -2.7408e-01,\n",
       "         -6.0909e-02, -2.9750e-02, -7.2655e-02, -1.3424e-02,  1.0005e-01,\n",
       "         -1.3536e-01, -4.2203e-02, -1.4852e-01, -9.8534e-03, -2.0095e-02,\n",
       "         -2.5431e-02,  5.8679e-02, -2.9091e-02, -2.9349e-02, -2.3764e-01,\n",
       "         -3.3448e-02,  8.3597e-02,  8.6086e-02,  7.2825e-02,  2.9641e-02,\n",
       "         -9.3919e-02, -8.3156e-02, -3.6746e-02,  1.1754e-02,  6.4333e-02,\n",
       "         -1.8226e-01,  1.8734e-02,  7.8646e-03, -9.5421e-03, -1.1266e-01,\n",
       "         -1.0544e-01,  8.8146e-02,  4.4319e-01,  2.1078e-02,  8.7864e-02,\n",
       "          8.1372e-02,  4.9266e-03, -7.8689e-02, -4.3572e-02, -3.8000e-02,\n",
       "          6.3764e-02,  3.4204e-02,  1.6275e-02,  1.0619e-01,  1.4980e-02,\n",
       "         -3.0346e-02,  9.0701e-03, -9.4685e-02,  4.8283e-02,  1.3597e-02,\n",
       "          4.8108e-02,  2.7396e-01, -2.8768e-02,  1.7795e-02,  5.9310e-02,\n",
       "         -3.2340e-02, -1.5696e-01, -3.7098e-02, -2.3183e-02, -5.9064e-02,\n",
       "          6.0772e-02,  4.4557e-03,  4.4570e-02,  1.2808e-01,  4.8743e-02,\n",
       "          4.5957e-02, -1.4851e-02,  1.6577e-01,  4.3831e-02, -1.2774e-02,\n",
       "          4.0602e-02, -2.1862e-01, -5.2677e-02, -2.4479e-01,  3.1267e-02,\n",
       "         -2.3991e-01,  7.3669e-02, -4.9138e-02,  3.5372e-03, -2.5026e-03,\n",
       "          2.3283e-02,  1.2250e-01, -6.3638e-02, -1.7058e-01, -6.7739e-02,\n",
       "         -1.7220e-01, -4.6670e-02,  9.1271e-02, -4.9708e-02, -8.2280e-02,\n",
       "          2.1834e-02, -4.7446e-02, -3.0865e-02, -3.4400e-02, -1.8252e-02,\n",
       "          6.1114e-02,  1.5205e-02, -2.4769e-03,  4.8882e-02, -1.8228e-01,\n",
       "          4.4937e-02,  1.2198e-01,  6.7213e-02, -8.7489e-02, -1.0635e-01,\n",
       "          1.0932e-01, -1.3774e-01, -1.4525e-01,  8.8712e-02, -3.9995e-02,\n",
       "         -5.4687e-03,  3.8218e-03, -3.4559e-02,  5.4517e-02,  1.3256e-02,\n",
       "         -7.9081e-02,  2.2557e-02, -8.5001e-02, -3.4116e-02, -5.8312e-02,\n",
       "         -4.6715e-02,  9.5578e-02,  3.1089e-01, -1.5049e-02, -1.3535e-01,\n",
       "         -2.7721e-03,  1.5120e-01,  1.0990e-02,  7.9465e-02, -7.0047e-03,\n",
       "         -1.1211e-01, -1.5638e-02,  1.6508e-01,  3.9139e-02, -6.2960e-02,\n",
       "          1.0693e-01,  2.9025e-02, -8.2468e-02,  2.5116e-02,  6.3511e-02,\n",
       "         -4.4983e-02, -1.0113e-02,  8.6135e-03, -6.6916e-02, -5.5577e-03,\n",
       "         -1.1655e-02, -2.6208e-02, -7.5990e-02, -3.4352e-02, -1.5049e-01,\n",
       "          7.7971e-03, -9.8762e-02, -2.1569e-02,  7.3077e-02, -6.6721e-02,\n",
       "          3.1624e-02,  3.1077e-02, -2.7479e-02, -3.5514e-02,  5.4637e-02,\n",
       "          9.3975e-02, -7.6206e-02, -1.1029e-01,  2.4485e-02, -2.9028e-02,\n",
       "         -5.1137e-02,  1.7726e-02,  3.4159e-02,  1.6878e-01,  3.1486e-02,\n",
       "         -5.2435e-02,  1.9480e-02, -5.0240e-02,  1.0954e-01, -7.8664e-02,\n",
       "         -3.6605e-02, -7.2005e-02, -1.9681e-02, -1.6550e-02,  2.5316e-01,\n",
       "         -1.1673e-02,  5.5125e-02, -3.0413e-02,  1.4119e-02, -5.8299e-02,\n",
       "         -9.0404e-02, -2.0900e-02,  9.7888e-02,  7.9582e-02,  4.6724e-02,\n",
       "         -2.3290e-02, -1.1556e-01, -2.5270e-02,  7.5738e-02,  8.6504e-02,\n",
       "          5.3840e-02, -7.4013e-02,  2.9235e-02, -5.8240e-02, -3.8243e-01,\n",
       "         -1.3673e-01,  7.8108e-02,  6.6274e-03, -6.5946e-02, -1.9925e-01,\n",
       "         -1.1348e-01,  3.8428e-02, -1.0109e-02, -4.1784e-02, -7.6351e-02,\n",
       "         -2.5486e-02, -7.5308e-02, -7.5239e-02, -5.5283e-02, -9.8021e-03,\n",
       "          9.0515e-02,  1.0533e-01,  5.7804e-02, -6.6293e-02, -1.5844e-01,\n",
       "          1.3762e-02, -4.9994e-02,  9.0911e-03, -5.2829e-02,  1.3396e-01,\n",
       "          1.2621e-01,  5.3434e-02,  1.3299e-01, -2.2343e-02,  4.3260e-02,\n",
       "         -2.7996e-02, -9.0266e-02,  2.6674e-02,  7.4048e-02,  4.2784e-02,\n",
       "         -4.9853e-02, -1.3583e-02, -1.8968e-01,  9.7586e-02,  1.7731e-01,\n",
       "          2.5516e-02,  8.4520e-02, -5.0217e-02,  4.0245e-02, -1.7539e-02,\n",
       "          5.4004e-03,  2.1738e-01,  5.5468e-02,  3.3066e-02, -3.6544e-02,\n",
       "         -4.5076e-02,  5.6618e-02, -6.6059e-03, -1.8055e-02, -5.0937e-02,\n",
       "         -1.5003e-01, -7.2948e-02,  9.6797e-02, -1.8144e-01,  1.1487e-01,\n",
       "          6.5862e-02,  6.9954e-02, -5.4052e-02, -7.2541e-02, -5.4538e-02,\n",
       "         -6.4132e-02, -8.3669e-02,  2.3244e-01,  2.1867e-03, -1.1093e-01,\n",
       "          4.3204e-02,  9.8904e-03,  9.3482e-02,  2.0028e-01,  4.9810e-02,\n",
       "          7.9121e-02,  8.9679e-02, -2.0145e-02,  1.2782e-03, -3.0288e-02,\n",
       "          2.9842e-03,  1.2483e-01,  6.5003e-02, -8.8859e-02,  2.3604e-01,\n",
       "         -9.8751e-02, -4.8500e-02, -1.1885e-01, -1.5630e-01,  5.6573e-02,\n",
       "         -9.8342e-03,  2.1589e-02, -6.3686e-02,  1.4913e-02, -8.9452e-02,\n",
       "          6.5592e-02, -6.5886e-02,  1.8458e-02, -7.6196e-02,  2.8221e-02,\n",
       "          1.2261e-01,  1.1849e-01, -2.2133e-02,  6.7995e-02,  2.4850e-01,\n",
       "         -1.0804e-01, -9.4503e-02,  1.0113e-01, -5.2979e-03, -3.1056e-01,\n",
       "         -9.6589e-02, -1.7144e-02, -9.2379e-02,  7.7390e-02, -1.5259e-02,\n",
       "         -8.6033e-02,  2.4813e-02, -1.2990e-02, -9.1636e-02, -7.5440e-02,\n",
       "          2.1942e-01,  6.8167e-02, -7.7391e-02,  7.9214e-02, -6.3679e-02,\n",
       "          1.3166e-03,  2.1757e-01,  1.0323e-01, -3.1112e-02,  1.2026e-01,\n",
       "         -1.4183e-02,  3.1795e-02,  1.2042e-01,  1.5112e-02, -3.1423e-02,\n",
       "         -9.9558e-02, -1.0722e-01,  6.5829e-02,  4.5965e-02, -3.9451e-02,\n",
       "          1.1270e-01,  2.2449e-02,  1.6742e-01,  4.3089e-03, -7.9327e-02,\n",
       "         -1.4178e-01, -1.0007e-01, -1.5849e-02, -2.9551e-04,  5.0263e-02,\n",
       "          8.7763e-02,  8.2854e-02,  1.6212e-02,  5.2360e-02,  1.9792e-02,\n",
       "          2.8661e-02,  5.3565e-02, -4.3646e-02])}"
      ]
     },
     "execution_count": 17,
     "metadata": {},
     "output_type": "execute_result"
    }
   ],
   "source": [
    "test_sets[0].__getitem__(1)"
   ]
  },
  {
   "cell_type": "code",
   "execution_count": 18,
   "id": "f4fa8e46",
   "metadata": {},
   "outputs": [
    {
     "name": "stderr",
     "output_type": "stream",
     "text": [
      "/users/sebarodr/.local/lib/python3.10/site-packages/ipykernel/ipkernel.py:283: DeprecationWarning: `should_run_async` will not call `transform_cell` automatically in the future. Please pass the result to `transformed_cell` argument and any exception that happen during thetransform in `preprocessing_exc_tuple` in IPython 7.17 and above.\n",
      "  and should_run_async(code)\n",
      "/users/sebarodr/.local/lib/python3.10/site-packages/torch/utils/data/dataloader.py:561: UserWarning: This DataLoader will create 40 worker processes in total. Our suggested max number of worker in current system is 4, which is smaller than what this DataLoader is going to create. Please be aware that excessive worker creation might get DataLoader running slow or even freeze, lower the worker number to avoid potential slowness/freeze if necessary.\n",
      "  warnings.warn(_create_warning_msg(\n",
      "  0%|          | 0/195 [00:00<?, ?it/s]/users/sebarodr/.local/lib/python3.10/site-packages/torch/utils/data/dataloader.py:561: UserWarning: This DataLoader will create 40 worker processes in total. Our suggested max number of worker in current system is 4, which is smaller than what this DataLoader is going to create. Please be aware that excessive worker creation might get DataLoader running slow or even freeze, lower the worker number to avoid potential slowness/freeze if necessary.\n",
      "  warnings.warn(_create_warning_msg(\n",
      "100%|██████████| 195/195 [00:06<00:00, 29.36it/s] \n"
     ]
    }
   ],
   "source": [
    "pred_model0 = models[0].get_thetas(test_sets[0], n_samples=20) "
   ]
  },
  {
   "cell_type": "code",
   "execution_count": 19,
   "id": "6579b1ed",
   "metadata": {},
   "outputs": [
    {
     "name": "stderr",
     "output_type": "stream",
     "text": [
      "/users/sebarodr/.local/lib/python3.10/site-packages/ipykernel/ipkernel.py:283: DeprecationWarning: `should_run_async` will not call `transform_cell` automatically in the future. Please pass the result to `transformed_cell` argument and any exception that happen during thetransform in `preprocessing_exc_tuple` in IPython 7.17 and above.\n",
      "  and should_run_async(code)\n"
     ]
    }
   ],
   "source": [
    "texts = [[\"THE Muses are the mofl Coqtettihf of their Sex, fond of being admir\\'d, and always putting on their best Airs to the finest Gentleman: But alas, Sir! Their Addrefes are jfale,- andtheir fine Things but Repetition ;for there is nothing newin tit, but what isfoundinjour.own Converfatien.CGO\\'D I write bythe Help of Study, as you talk with-eNt it, I wou\\'d-venture tofayfomething in the usual Strain of Dedication ;bui as you have too much Wit tofafisr it, awi Itoo little to tunertakeil, !hopetheWorld will excuf my Dfficiency, andyou ziwil pardon the Presumption of,\"]]"
   ]
  },
  {
   "cell_type": "code",
   "execution_count": 20,
   "id": "d6c79efb",
   "metadata": {},
   "outputs": [
    {
     "name": "stderr",
     "output_type": "stream",
     "text": [
      "/users/sebarodr/.local/lib/python3.10/site-packages/ipykernel/ipkernel.py:283: DeprecationWarning: `should_run_async` will not call `transform_cell` automatically in the future. Please pass the result to `transformed_cell` argument and any exception that happen during thetransform in `preprocessing_exc_tuple` in IPython 7.17 and above.\n",
      "  and should_run_async(code)\n"
     ]
    },
    {
     "ename": "ValueError",
     "evalue": "unable to interpret topic as either a list of tokens or a list of ids",
     "output_type": "error",
     "traceback": [
      "\u001b[0;31m---------------------------------------------------------------------------\u001b[0m",
      "\u001b[0;31mValueError\u001b[0m                                Traceback (most recent call last)",
      "Cell \u001b[0;32mIn[20], line 2\u001b[0m\n\u001b[1;32m      1\u001b[0m npmi \u001b[38;5;241m=\u001b[39m CoherenceNPMI(texts\u001b[38;5;241m=\u001b[39mtexts, topics\u001b[38;5;241m=\u001b[39mmodels[\u001b[38;5;241m0\u001b[39m]\u001b[38;5;241m.\u001b[39mget_topic_lists())\n\u001b[0;32m----> 2\u001b[0m \u001b[43mnpmi\u001b[49m\u001b[38;5;241;43m.\u001b[39;49m\u001b[43mscore\u001b[49m\u001b[43m(\u001b[49m\u001b[43m)\u001b[49m\n",
      "File \u001b[0;32m~/.local/lib/python3.10/site-packages/contextualized_topic_models/evaluation/measures.py:71\u001b[0m, in \u001b[0;36mCoherenceNPMI.score\u001b[0;34m(self, topk, per_topic)\u001b[0m\n\u001b[1;32m     69\u001b[0m     \u001b[38;5;28;01mraise\u001b[39;00m \u001b[38;5;167;01mException\u001b[39;00m(\u001b[38;5;124m'\u001b[39m\u001b[38;5;124mWords in topics are less than topk\u001b[39m\u001b[38;5;124m'\u001b[39m)\n\u001b[1;32m     70\u001b[0m \u001b[38;5;28;01melse\u001b[39;00m:\n\u001b[0;32m---> 71\u001b[0m     npmi \u001b[38;5;241m=\u001b[39m \u001b[43mCoherenceModel\u001b[49m\u001b[43m(\u001b[49m\n\u001b[1;32m     72\u001b[0m \u001b[43m        \u001b[49m\u001b[43mtopics\u001b[49m\u001b[38;5;241;43m=\u001b[39;49m\u001b[38;5;28;43mself\u001b[39;49m\u001b[38;5;241;43m.\u001b[39;49m\u001b[43mtopics\u001b[49m\u001b[43m,\u001b[49m\u001b[43m \u001b[49m\u001b[43mtexts\u001b[49m\u001b[38;5;241;43m=\u001b[39;49m\u001b[38;5;28;43mself\u001b[39;49m\u001b[38;5;241;43m.\u001b[39;49m\u001b[43mtexts\u001b[49m\u001b[43m,\u001b[49m\n\u001b[1;32m     73\u001b[0m \u001b[43m        \u001b[49m\u001b[43mdictionary\u001b[49m\u001b[38;5;241;43m=\u001b[39;49m\u001b[38;5;28;43mself\u001b[39;49m\u001b[38;5;241;43m.\u001b[39;49m\u001b[43mdictionary\u001b[49m\u001b[43m,\u001b[49m\n\u001b[1;32m     74\u001b[0m \u001b[43m        \u001b[49m\u001b[43mcoherence\u001b[49m\u001b[38;5;241;43m=\u001b[39;49m\u001b[38;5;124;43m'\u001b[39;49m\u001b[38;5;124;43mc_npmi\u001b[39;49m\u001b[38;5;124;43m'\u001b[39;49m\u001b[43m,\u001b[49m\u001b[43m \u001b[49m\u001b[43mtopn\u001b[49m\u001b[38;5;241;43m=\u001b[39;49m\u001b[43mtopk\u001b[49m\u001b[43m)\u001b[49m\n\u001b[1;32m     75\u001b[0m     \u001b[38;5;28;01mif\u001b[39;00m per_topic:\n\u001b[1;32m     76\u001b[0m         \u001b[38;5;28;01mreturn\u001b[39;00m npmi\u001b[38;5;241m.\u001b[39mget_coherence_per_topic()\n",
      "File \u001b[0;32m~/.local/lib/python3.10/site-packages/gensim/models/coherencemodel.py:215\u001b[0m, in \u001b[0;36mCoherenceModel.__init__\u001b[0;34m(self, model, topics, texts, corpus, dictionary, window_size, keyed_vectors, coherence, topn, processes)\u001b[0m\n\u001b[1;32m    213\u001b[0m \u001b[38;5;28mself\u001b[39m\u001b[38;5;241m.\u001b[39m_accumulator \u001b[38;5;241m=\u001b[39m \u001b[38;5;28;01mNone\u001b[39;00m\n\u001b[1;32m    214\u001b[0m \u001b[38;5;28mself\u001b[39m\u001b[38;5;241m.\u001b[39m_topics \u001b[38;5;241m=\u001b[39m \u001b[38;5;28;01mNone\u001b[39;00m\n\u001b[0;32m--> 215\u001b[0m \u001b[38;5;28;43mself\u001b[39;49m\u001b[38;5;241;43m.\u001b[39;49m\u001b[43mtopics\u001b[49m \u001b[38;5;241m=\u001b[39m topics\n\u001b[1;32m    217\u001b[0m \u001b[38;5;28mself\u001b[39m\u001b[38;5;241m.\u001b[39mprocesses \u001b[38;5;241m=\u001b[39m processes \u001b[38;5;28;01mif\u001b[39;00m processes \u001b[38;5;241m>\u001b[39m\u001b[38;5;241m=\u001b[39m \u001b[38;5;241m1\u001b[39m \u001b[38;5;28;01melse\u001b[39;00m \u001b[38;5;28mmax\u001b[39m(\u001b[38;5;241m1\u001b[39m, mp\u001b[38;5;241m.\u001b[39mcpu_count() \u001b[38;5;241m-\u001b[39m \u001b[38;5;241m1\u001b[39m)\n",
      "File \u001b[0;32m~/.local/lib/python3.10/site-packages/gensim/models/coherencemodel.py:430\u001b[0m, in \u001b[0;36mCoherenceModel.topics\u001b[0;34m(self, topics)\u001b[0m\n\u001b[1;32m    428\u001b[0m new_topics \u001b[38;5;241m=\u001b[39m []\n\u001b[1;32m    429\u001b[0m \u001b[38;5;28;01mfor\u001b[39;00m topic \u001b[38;5;129;01min\u001b[39;00m topics:\n\u001b[0;32m--> 430\u001b[0m     topic_token_ids \u001b[38;5;241m=\u001b[39m \u001b[38;5;28;43mself\u001b[39;49m\u001b[38;5;241;43m.\u001b[39;49m\u001b[43m_ensure_elements_are_ids\u001b[49m\u001b[43m(\u001b[49m\u001b[43mtopic\u001b[49m\u001b[43m)\u001b[49m\n\u001b[1;32m    431\u001b[0m     new_topics\u001b[38;5;241m.\u001b[39mappend(topic_token_ids)\n\u001b[1;32m    433\u001b[0m \u001b[38;5;28;01mif\u001b[39;00m \u001b[38;5;28mself\u001b[39m\u001b[38;5;241m.\u001b[39mmodel \u001b[38;5;129;01mis\u001b[39;00m \u001b[38;5;129;01mnot\u001b[39;00m \u001b[38;5;28;01mNone\u001b[39;00m:\n",
      "File \u001b[0;32m~/.local/lib/python3.10/site-packages/gensim/models/coherencemodel.py:454\u001b[0m, in \u001b[0;36mCoherenceModel._ensure_elements_are_ids\u001b[0;34m(self, topic)\u001b[0m\n\u001b[1;32m    452\u001b[0m     \u001b[38;5;28;01mreturn\u001b[39;00m np\u001b[38;5;241m.\u001b[39marray(ids_from_ids)\n\u001b[1;32m    453\u001b[0m \u001b[38;5;28;01melse\u001b[39;00m:\n\u001b[0;32m--> 454\u001b[0m     \u001b[38;5;28;01mraise\u001b[39;00m \u001b[38;5;167;01mValueError\u001b[39;00m(\u001b[38;5;124m'\u001b[39m\u001b[38;5;124munable to interpret topic as either a list of tokens or a list of ids\u001b[39m\u001b[38;5;124m'\u001b[39m)\n",
      "\u001b[0;31mValueError\u001b[0m: unable to interpret topic as either a list of tokens or a list of ids"
     ]
    }
   ],
   "source": [
    "npmi = CoherenceNPMI(texts=texts, topics=models[0].get_topic_lists())\n",
    "npmi.score()"
   ]
  },
  {
   "cell_type": "code",
   "execution_count": null,
   "id": "668b4426",
   "metadata": {},
   "outputs": [],
   "source": []
  },
  {
   "cell_type": "code",
   "execution_count": null,
   "id": "e78e2291",
   "metadata": {},
   "outputs": [],
   "source": []
  }
 ],
 "metadata": {
  "kernelspec": {
   "display_name": "Python 3",
   "language": "python",
   "name": "python3"
  },
  "language_info": {
   "codemirror_mode": {
    "name": "ipython",
    "version": 3
   },
   "file_extension": ".py",
   "mimetype": "text/x-python",
   "name": "python",
   "nbconvert_exporter": "python",
   "pygments_lexer": "ipython3",
   "version": "3.10.9"
  }
 },
 "nbformat": 4,
 "nbformat_minor": 5
}
