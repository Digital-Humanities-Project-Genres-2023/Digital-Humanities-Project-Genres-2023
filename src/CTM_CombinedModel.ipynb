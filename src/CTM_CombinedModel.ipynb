{
 "cells": [
  {
   "cell_type": "markdown",
   "id": "0dda2327",
   "metadata": {},
   "source": [
    "# Notebook for CTM Experimentation"
   ]
  },
  {
   "cell_type": "markdown",
   "id": "d65bf65e",
   "metadata": {},
   "source": [
    "## Load libraries"
   ]
  },
  {
   "cell_type": "code",
   "execution_count": 1,
   "id": "ee5c248c",
   "metadata": {},
   "outputs": [
    {
     "name": "stdout",
     "output_type": "stream",
     "text": [
      "Defaulting to user installation because normal site-packages is not writeable\n",
      "Collecting pymysql\n",
      "  Using cached PyMySQL-1.0.3-py3-none-any.whl (43 kB)\n",
      "Installing collected packages: pymysql\n",
      "Successfully installed pymysql-1.0.3\n"
     ]
    }
   ],
   "source": [
    "!pip install pymysql"
   ]
  },
  {
   "cell_type": "code",
   "execution_count": 5,
   "id": "ee0077f8",
   "metadata": {},
   "outputs": [
    {
     "name": "stdout",
     "output_type": "stream",
     "text": [
      "Defaulting to user installation because normal site-packages is not writeable\n",
      "Collecting hereutil\n",
      "  Downloading hereutil-0.1.3-py3-none-any.whl (2.1 kB)\n",
      "Collecting pyprojroot<0.3.0,>=0.2.0\n",
      "  Downloading pyprojroot-0.2.0-py3-none-any.whl (5.2 kB)\n",
      "Installing collected packages: pyprojroot, hereutil\n",
      "Successfully installed hereutil-0.1.3 pyprojroot-0.2.0\n"
     ]
    }
   ],
   "source": [
    "!pip install hereutil #keyring"
   ]
  },
  {
   "cell_type": "code",
   "execution_count": 6,
   "id": "3a295fc8",
   "metadata": {},
   "outputs": [
    {
     "ename": "TypeError",
     "evalue": "here() got an unexpected keyword argument 'warn'",
     "output_type": "error",
     "traceback": [
      "\u001b[0;31m---------------------------------------------------------------------------\u001b[0m",
      "\u001b[0;31mTypeError\u001b[0m                                 Traceback (most recent call last)",
      "Cell \u001b[0;32mIn[6], line 7\u001b[0m\n\u001b[1;32m      5\u001b[0m sys\u001b[38;5;241m.\u001b[39mpath\u001b[38;5;241m.\u001b[39mappend(\u001b[38;5;124m\"\u001b[39m\u001b[38;5;124m../\u001b[39m\u001b[38;5;124m\"\u001b[39m)\n\u001b[1;32m      6\u001b[0m \u001b[38;5;28;01mfrom\u001b[39;00m \u001b[38;5;21;01msrc\u001b[39;00m \u001b[38;5;28;01mimport\u001b[39;00m puhti_files\n\u001b[0;32m----> 7\u001b[0m \u001b[38;5;28;01mfrom\u001b[39;00m \u001b[38;5;21;01msrc\u001b[39;00m\u001b[38;5;21;01m.\u001b[39;00m\u001b[38;5;21;01mcommon_basis\u001b[39;00m \u001b[38;5;28;01mimport\u001b[39;00m \u001b[38;5;241m*\u001b[39m\n",
      "File \u001b[0;32m/scratch/project_2007227/genre_data/Digital-Humanities-Project-Genres-2023/src/../src/common_basis.py:47\u001b[0m\n\u001b[1;32m     43\u001b[0m                 \u001b[38;5;28;01mpass\u001b[39;00m\n\u001b[1;32m     44\u001b[0m     \u001b[38;5;28;01mreturn\u001b[39;00m eng, con\n\u001b[0;32m---> 47\u001b[0m eng, con \u001b[38;5;241m=\u001b[39m \u001b[43mget_connection\u001b[49m\u001b[43m(\u001b[49m\u001b[43m)\u001b[49m\n\u001b[1;32m     48\u001b[0m \u001b[38;5;28;01mdel\u001b[39;00m get_connection\n\u001b[1;32m     51\u001b[0m \u001b[38;5;28;01mdef\u001b[39;00m \u001b[38;5;21mset_session_storage_engine\u001b[39m(con: Connection, engine: \u001b[38;5;28mstr\u001b[39m):\n",
      "File \u001b[0;32m/scratch/project_2007227/genre_data/Digital-Humanities-Project-Genres-2023/src/../src/common_basis.py:16\u001b[0m, in \u001b[0;36mget_connection\u001b[0;34m()\u001b[0m\n\u001b[1;32m     14\u001b[0m password \u001b[38;5;241m=\u001b[39m \u001b[38;5;28;01mNone\u001b[39;00m\n\u001b[1;32m     15\u001b[0m \u001b[38;5;28;01mwhile\u001b[39;00m con \u001b[38;5;129;01mis\u001b[39;00m \u001b[38;5;28;01mNone\u001b[39;00m:\n\u001b[0;32m---> 16\u001b[0m     \u001b[38;5;28;01mwith\u001b[39;00m \u001b[43mhere\u001b[49m\u001b[43m(\u001b[49m\u001b[38;5;124;43m\"\u001b[39;49m\u001b[38;5;124;43mdb_params.yaml\u001b[39;49m\u001b[38;5;124;43m\"\u001b[39;49m\u001b[43m)\u001b[49m\u001b[38;5;241m.\u001b[39mopen(\u001b[38;5;124m'\u001b[39m\u001b[38;5;124mr\u001b[39m\u001b[38;5;124m'\u001b[39m) \u001b[38;5;28;01mas\u001b[39;00m f:\n\u001b[1;32m     17\u001b[0m         db_params \u001b[38;5;241m=\u001b[39m yaml\u001b[38;5;241m.\u001b[39msafe_load(f)\n\u001b[1;32m     18\u001b[0m     \u001b[38;5;28;01mif\u001b[39;00m here(\u001b[38;5;124m\"\u001b[39m\u001b[38;5;124mdb_secret.yaml\u001b[39m\u001b[38;5;124m\"\u001b[39m, warn\u001b[38;5;241m=\u001b[39m\u001b[38;5;28;01mFalse\u001b[39;00m)\u001b[38;5;241m.\u001b[39mexists():\n",
      "File \u001b[0;32m~/.local/lib/python3.9/site-packages/hereutil/__init__.py:20\u001b[0m, in \u001b[0;36mhere\u001b[0;34m(warn, *args, **kwargs)\u001b[0m\n\u001b[1;32m     12\u001b[0m \u001b[38;5;28;01mdef\u001b[39;00m \u001b[38;5;21mhere\u001b[39m(\u001b[38;5;241m*\u001b[39margs, warn\u001b[38;5;241m=\u001b[39m\u001b[38;5;28;01mFalse\u001b[39;00m, \u001b[38;5;241m*\u001b[39m\u001b[38;5;241m*\u001b[39mkwargs) \u001b[38;5;241m-\u001b[39m\u001b[38;5;241m>\u001b[39m Path:\n\u001b[1;32m     13\u001b[0m \u001b[38;5;250m    \u001b[39m\u001b[38;5;124;03m\"\"\"\u001b[39;00m\n\u001b[1;32m     14\u001b[0m \u001b[38;5;124;03m    Returns the directory relative to the projects root directory.\u001b[39;00m\n\u001b[1;32m     15\u001b[0m \u001b[38;5;124;03m    :param relative_project_path: relative path from project root\u001b[39;00m\n\u001b[0;32m   (...)\u001b[0m\n\u001b[1;32m     18\u001b[0m \u001b[38;5;124;03m    :return: pathlib path\u001b[39;00m\n\u001b[1;32m     19\u001b[0m \u001b[38;5;124;03m    \"\"\"\u001b[39;00m\n\u001b[0;32m---> 20\u001b[0m     \u001b[38;5;28;01mreturn\u001b[39;00m \u001b[43mpyprojroot\u001b[49m\u001b[38;5;241;43m.\u001b[39;49m\u001b[43mhere\u001b[49m\u001b[43m(\u001b[49m\u001b[38;5;241;43m*\u001b[39;49m\u001b[43margs\u001b[49m\u001b[43m,\u001b[49m\u001b[43m \u001b[49m\u001b[43mwarn\u001b[49m\u001b[38;5;241;43m=\u001b[39;49m\u001b[43mwarn\u001b[49m\u001b[43m,\u001b[49m\u001b[43m \u001b[49m\u001b[38;5;241;43m*\u001b[39;49m\u001b[38;5;241;43m*\u001b[39;49m\u001b[43mkwargs\u001b[49m\u001b[43m)\u001b[49m\n",
      "\u001b[0;31mTypeError\u001b[0m: here() got an unexpected keyword argument 'warn'"
     ]
    }
   ],
   "source": [
    "import pandas as pd\n",
    "import numpy as np\n",
    "import sys\n",
    "import os\n",
    "sys.path.append(\"../\")\n",
    "from src import puhti_files\n",
    "from src.common_basis import *"
   ]
  },
  {
   "cell_type": "code",
   "execution_count": 7,
   "id": "536e9782",
   "metadata": {},
   "outputs": [
    {
     "name": "stdout",
     "output_type": "stream",
     "text": [
      "Defaulting to user installation because normal site-packages is not writeable\n",
      "Requirement already satisfied: nltk in /usr/local/lib/python3.9/site-packages (3.8.1)\n",
      "Requirement already satisfied: joblib in /usr/local/lib/python3.9/site-packages (from nltk) (1.2.0)\n",
      "Requirement already satisfied: regex>=2021.8.3 in /usr/local/lib64/python3.9/site-packages (from nltk) (2022.10.31)\n",
      "Requirement already satisfied: tqdm in /usr/local/lib/python3.9/site-packages (from nltk) (4.65.0)\n",
      "Requirement already satisfied: click in /usr/local/lib/python3.9/site-packages (from nltk) (8.1.3)\n",
      "Defaulting to user installation because normal site-packages is not writeable\n",
      "Requirement already satisfied: gensim in /usr/local/lib64/python3.9/site-packages (4.3.1)\n",
      "Requirement already satisfied: scipy>=1.7.0 in /usr/local/lib64/python3.9/site-packages (from gensim) (1.9.1)\n",
      "Requirement already satisfied: smart-open>=1.8.1 in /usr/local/lib/python3.9/site-packages (from gensim) (6.3.0)\n",
      "Requirement already satisfied: numpy>=1.18.5 in /usr/local/lib64/python3.9/site-packages (from gensim) (1.23.5)\n"
     ]
    }
   ],
   "source": [
    "!{sys.executable} -m pip install nltk\n",
    "!{sys.executable} -m pip install gensim"
   ]
  },
  {
   "cell_type": "code",
   "execution_count": 8,
   "id": "a9826b4d",
   "metadata": {},
   "outputs": [],
   "source": [
    "import nltk\n",
    "from nltk import word_tokenize\n",
    "from nltk.corpus import stopwords"
   ]
  },
  {
   "cell_type": "code",
   "execution_count": 9,
   "id": "2f728338",
   "metadata": {},
   "outputs": [
    {
     "name": "stderr",
     "output_type": "stream",
     "text": [
      "[nltk_data] Downloading package stopwords to\n",
      "[nltk_data]     /users/nguyanhd/nltk_data...\n",
      "[nltk_data]   Package stopwords is already up-to-date!\n",
      "[nltk_data] Downloading package punkt to /users/nguyanhd/nltk_data...\n",
      "[nltk_data]   Package punkt is already up-to-date!\n"
     ]
    },
    {
     "data": {
      "text/plain": [
       "True"
      ]
     },
     "execution_count": 9,
     "metadata": {},
     "output_type": "execute_result"
    }
   ],
   "source": [
    "nltk.download(\"stopwords\")\n",
    "nltk.download(\"punkt\")"
   ]
  },
  {
   "cell_type": "code",
   "execution_count": 10,
   "id": "6162ba19",
   "metadata": {},
   "outputs": [
    {
     "name": "stdout",
     "output_type": "stream",
     "text": [
      "Defaulting to user installation because normal site-packages is not writeable\n",
      "Requirement already satisfied: contextualized-topic-models in /users/nguyanhd/.local/lib/python3.9/site-packages (2.5.0)\n",
      "Requirement already satisfied: torchvision>=0.7.0 in /usr/local/lib64/python3.9/site-packages (from contextualized-topic-models) (0.15.1)\n",
      "Collecting ipywidgets==7.5.1\n",
      "  Using cached ipywidgets-7.5.1-py2.py3-none-any.whl (121 kB)\n",
      "Collecting ipython==8.10.0\n",
      "  Using cached ipython-8.10.0-py3-none-any.whl (784 kB)\n",
      "Requirement already satisfied: wordcloud>=1.8.1 in /users/nguyanhd/.local/lib/python3.9/site-packages (from contextualized-topic-models) (1.9.1.1)\n",
      "Requirement already satisfied: tqdm>=4.56.0 in /usr/local/lib/python3.9/site-packages (from contextualized-topic-models) (4.65.0)\n",
      "Requirement already satisfied: numpy>=1.19.1 in /usr/local/lib64/python3.9/site-packages (from contextualized-topic-models) (1.23.5)\n",
      "Requirement already satisfied: sentence-transformers>=2.1.1 in /users/nguyanhd/.local/lib/python3.9/site-packages (from contextualized-topic-models) (2.2.2)\n",
      "Requirement already satisfied: matplotlib>=3.1.3 in /usr/local/lib64/python3.9/site-packages (from contextualized-topic-models) (3.7.1)\n",
      "Requirement already satisfied: torch>=1.6.0 in /usr/local/lib64/python3.9/site-packages (from contextualized-topic-models) (2.0.0)\n",
      "Requirement already satisfied: scipy>=1.4.1 in /usr/local/lib64/python3.9/site-packages (from contextualized-topic-models) (1.9.1)\n",
      "Collecting gensim==4.2.0\n",
      "  Using cached gensim-4.2.0-cp39-cp39-manylinux_2_12_x86_64.manylinux2010_x86_64.whl (24.0 MB)\n",
      "Requirement already satisfied: pillow!=8.3.*,>=5.3.0 in /usr/local/lib64/python3.9/site-packages (from torchvision>=0.7.0->contextualized-topic-models) (9.4.0)\n",
      "Requirement already satisfied: requests in /usr/local/lib/python3.9/site-packages (from torchvision>=0.7.0->contextualized-topic-models) (2.28.2)\n",
      "Requirement already satisfied: traitlets>=4.3.1 in /usr/local/lib/python3.9/site-packages (from ipywidgets==7.5.1->contextualized-topic-models) (5.9.0)\n",
      "Requirement already satisfied: ipykernel>=4.5.1 in /usr/local/lib/python3.9/site-packages (from ipywidgets==7.5.1->contextualized-topic-models) (6.22.0)\n",
      "Collecting widgetsnbextension~=3.5.0\n",
      "  Using cached widgetsnbextension-3.5.2-py2.py3-none-any.whl (1.6 MB)\n",
      "Requirement already satisfied: nbformat>=4.2.0 in /usr/local/lib/python3.9/site-packages (from ipywidgets==7.5.1->contextualized-topic-models) (5.8.0)\n",
      "Requirement already satisfied: decorator in /usr/local/lib/python3.9/site-packages (from ipython==8.10.0->contextualized-topic-models) (5.1.1)\n",
      "Requirement already satisfied: jedi>=0.16 in /usr/local/lib/python3.9/site-packages (from ipython==8.10.0->contextualized-topic-models) (0.18.2)\n",
      "Requirement already satisfied: pickleshare in /usr/local/lib/python3.9/site-packages (from ipython==8.10.0->contextualized-topic-models) (0.7.5)\n",
      "Requirement already satisfied: backcall in /usr/local/lib/python3.9/site-packages (from ipython==8.10.0->contextualized-topic-models) (0.2.0)\n",
      "Requirement already satisfied: pygments>=2.4.0 in /usr/local/lib/python3.9/site-packages (from ipython==8.10.0->contextualized-topic-models) (2.14.0)\n",
      "Requirement already satisfied: stack-data in /usr/local/lib/python3.9/site-packages (from ipython==8.10.0->contextualized-topic-models) (0.6.2)\n",
      "Requirement already satisfied: matplotlib-inline in /usr/local/lib/python3.9/site-packages (from ipython==8.10.0->contextualized-topic-models) (0.1.6)\n",
      "Requirement already satisfied: prompt-toolkit<3.1.0,>=3.0.30 in /usr/local/lib/python3.9/site-packages (from ipython==8.10.0->contextualized-topic-models) (3.0.38)\n",
      "Requirement already satisfied: pexpect>4.3; sys_platform != \"win32\" in /usr/local/lib/python3.9/site-packages (from ipython==8.10.0->contextualized-topic-models) (4.8.0)\n",
      "Requirement already satisfied: huggingface-hub>=0.4.0 in /usr/local/lib/python3.9/site-packages (from sentence-transformers>=2.1.1->contextualized-topic-models) (0.13.3)\n",
      "Requirement already satisfied: scikit-learn in /usr/local/lib64/python3.9/site-packages (from sentence-transformers>=2.1.1->contextualized-topic-models) (1.2.2)\n",
      "Requirement already satisfied: sentencepiece in /users/nguyanhd/.local/lib/python3.9/site-packages (from sentence-transformers>=2.1.1->contextualized-topic-models) (0.1.99)\n",
      "Requirement already satisfied: nltk in /usr/local/lib/python3.9/site-packages (from sentence-transformers>=2.1.1->contextualized-topic-models) (3.8.1)\n",
      "Requirement already satisfied: transformers<5.0.0,>=4.6.0 in /usr/local/lib/python3.9/site-packages (from sentence-transformers>=2.1.1->contextualized-topic-models) (4.27.2)\n",
      "Requirement already satisfied: cycler>=0.10 in /usr/local/lib/python3.9/site-packages (from matplotlib>=3.1.3->contextualized-topic-models) (0.11.0)\n",
      "Requirement already satisfied: fonttools>=4.22.0 in /usr/local/lib/python3.9/site-packages (from matplotlib>=3.1.3->contextualized-topic-models) (4.39.2)\n",
      "Requirement already satisfied: packaging>=20.0 in /usr/local/lib/python3.9/site-packages (from matplotlib>=3.1.3->contextualized-topic-models) (23.0)\n",
      "Requirement already satisfied: pyparsing>=2.3.1 in /usr/local/lib/python3.9/site-packages (from matplotlib>=3.1.3->contextualized-topic-models) (3.0.9)\n",
      "Requirement already satisfied: python-dateutil>=2.7 in /usr/local/lib/python3.9/site-packages (from matplotlib>=3.1.3->contextualized-topic-models) (2.8.2)\n",
      "Requirement already satisfied: kiwisolver>=1.0.1 in /usr/local/lib64/python3.9/site-packages (from matplotlib>=3.1.3->contextualized-topic-models) (1.4.4)\n",
      "Requirement already satisfied: contourpy>=1.0.1 in /usr/local/lib64/python3.9/site-packages (from matplotlib>=3.1.3->contextualized-topic-models) (1.0.7)\n",
      "Requirement already satisfied: importlib-resources>=3.2.0; python_version < \"3.10\" in /usr/local/lib/python3.9/site-packages (from matplotlib>=3.1.3->contextualized-topic-models) (5.12.0)\n",
      "Requirement already satisfied: typing-extensions in /usr/local/lib/python3.9/site-packages (from torch>=1.6.0->contextualized-topic-models) (4.5.0)\n",
      "Requirement already satisfied: nvidia-cusolver-cu11==11.4.0.1; platform_system == \"Linux\" and platform_machine == \"x86_64\" in /usr/local/lib/python3.9/site-packages (from torch>=1.6.0->contextualized-topic-models) (11.4.0.1)\n",
      "Requirement already satisfied: filelock in /usr/local/lib/python3.9/site-packages (from torch>=1.6.0->contextualized-topic-models) (3.10.0)\n",
      "Requirement already satisfied: sympy in /usr/local/lib/python3.9/site-packages (from torch>=1.6.0->contextualized-topic-models) (1.11.1)\n",
      "Requirement already satisfied: nvidia-cusparse-cu11==11.7.4.91; platform_system == \"Linux\" and platform_machine == \"x86_64\" in /usr/local/lib/python3.9/site-packages (from torch>=1.6.0->contextualized-topic-models) (11.7.4.91)\n",
      "Requirement already satisfied: nvidia-cudnn-cu11==8.5.0.96; platform_system == \"Linux\" and platform_machine == \"x86_64\" in /usr/local/lib/python3.9/site-packages (from torch>=1.6.0->contextualized-topic-models) (8.5.0.96)\n",
      "Requirement already satisfied: nvidia-cublas-cu11==11.10.3.66; platform_system == \"Linux\" and platform_machine == \"x86_64\" in /usr/local/lib/python3.9/site-packages (from torch>=1.6.0->contextualized-topic-models) (11.10.3.66)\n",
      "Requirement already satisfied: nvidia-cuda-nvrtc-cu11==11.7.99; platform_system == \"Linux\" and platform_machine == \"x86_64\" in /usr/local/lib/python3.9/site-packages (from torch>=1.6.0->contextualized-topic-models) (11.7.99)\n",
      "Requirement already satisfied: nvidia-cufft-cu11==10.9.0.58; platform_system == \"Linux\" and platform_machine == \"x86_64\" in /usr/local/lib/python3.9/site-packages (from torch>=1.6.0->contextualized-topic-models) (10.9.0.58)\n",
      "Requirement already satisfied: triton==2.0.0; platform_system == \"Linux\" and platform_machine == \"x86_64\" in /usr/local/lib64/python3.9/site-packages (from torch>=1.6.0->contextualized-topic-models) (2.0.0)\n",
      "Requirement already satisfied: nvidia-nccl-cu11==2.14.3; platform_system == \"Linux\" and platform_machine == \"x86_64\" in /usr/local/lib/python3.9/site-packages (from torch>=1.6.0->contextualized-topic-models) (2.14.3)\n",
      "Requirement already satisfied: nvidia-curand-cu11==10.2.10.91; platform_system == \"Linux\" and platform_machine == \"x86_64\" in /usr/local/lib/python3.9/site-packages (from torch>=1.6.0->contextualized-topic-models) (10.2.10.91)\n",
      "Requirement already satisfied: jinja2 in /usr/local/lib/python3.9/site-packages (from torch>=1.6.0->contextualized-topic-models) (3.1.2)\n",
      "Requirement already satisfied: nvidia-cuda-cupti-cu11==11.7.101; platform_system == \"Linux\" and platform_machine == \"x86_64\" in /usr/local/lib/python3.9/site-packages (from torch>=1.6.0->contextualized-topic-models) (11.7.101)\n",
      "Requirement already satisfied: networkx in /usr/local/lib/python3.9/site-packages (from torch>=1.6.0->contextualized-topic-models) (3.0)\n",
      "Requirement already satisfied: nvidia-nvtx-cu11==11.7.91; platform_system == \"Linux\" and platform_machine == \"x86_64\" in /usr/local/lib/python3.9/site-packages (from torch>=1.6.0->contextualized-topic-models) (11.7.91)\n",
      "Requirement already satisfied: nvidia-cuda-runtime-cu11==11.7.99; platform_system == \"Linux\" and platform_machine == \"x86_64\" in /usr/local/lib/python3.9/site-packages (from torch>=1.6.0->contextualized-topic-models) (11.7.99)\n",
      "Requirement already satisfied: smart-open>=1.8.1 in /usr/local/lib/python3.9/site-packages (from gensim==4.2.0->contextualized-topic-models) (6.3.0)\n",
      "Requirement already satisfied: charset-normalizer<4,>=2 in /usr/local/lib64/python3.9/site-packages (from requests->torchvision>=0.7.0->contextualized-topic-models) (3.1.0)\n",
      "Requirement already satisfied: idna<4,>=2.5 in /usr/local/lib/python3.9/site-packages (from requests->torchvision>=0.7.0->contextualized-topic-models) (3.4)\n",
      "Requirement already satisfied: urllib3<1.27,>=1.21.1 in /usr/local/lib/python3.9/site-packages (from requests->torchvision>=0.7.0->contextualized-topic-models) (1.26.15)\n"
     ]
    },
    {
     "name": "stdout",
     "output_type": "stream",
     "text": [
      "Requirement already satisfied: certifi>=2017.4.17 in /usr/local/lib/python3.9/site-packages (from requests->torchvision>=0.7.0->contextualized-topic-models) (2022.12.7)\n",
      "Requirement already satisfied: jupyter-core!=5.0.*,>=4.12 in /usr/local/lib/python3.9/site-packages (from ipykernel>=4.5.1->ipywidgets==7.5.1->contextualized-topic-models) (5.3.0)\n",
      "Requirement already satisfied: comm>=0.1.1 in /usr/local/lib/python3.9/site-packages (from ipykernel>=4.5.1->ipywidgets==7.5.1->contextualized-topic-models) (0.1.3)\n",
      "Requirement already satisfied: psutil in /usr/local/lib64/python3.9/site-packages (from ipykernel>=4.5.1->ipywidgets==7.5.1->contextualized-topic-models) (5.9.4)\n",
      "Requirement already satisfied: debugpy>=1.6.5 in /usr/local/lib64/python3.9/site-packages (from ipykernel>=4.5.1->ipywidgets==7.5.1->contextualized-topic-models) (1.6.6)\n",
      "Requirement already satisfied: jupyter-client>=6.1.12 in /usr/local/lib/python3.9/site-packages (from ipykernel>=4.5.1->ipywidgets==7.5.1->contextualized-topic-models) (8.1.0)\n",
      "Requirement already satisfied: nest-asyncio in /usr/local/lib/python3.9/site-packages (from ipykernel>=4.5.1->ipywidgets==7.5.1->contextualized-topic-models) (1.5.6)\n",
      "Requirement already satisfied: tornado>=6.1 in /usr/local/lib64/python3.9/site-packages (from ipykernel>=4.5.1->ipywidgets==7.5.1->contextualized-topic-models) (6.2)\n",
      "Requirement already satisfied: pyzmq>=20 in /usr/local/lib64/python3.9/site-packages (from ipykernel>=4.5.1->ipywidgets==7.5.1->contextualized-topic-models) (25.0.2)\n",
      "Requirement already satisfied: notebook>=4.4.1 in /usr/local/lib/python3.9/site-packages (from widgetsnbextension~=3.5.0->ipywidgets==7.5.1->contextualized-topic-models) (6.5.3)\n",
      "Requirement already satisfied: fastjsonschema in /usr/local/lib/python3.9/site-packages (from nbformat>=4.2.0->ipywidgets==7.5.1->contextualized-topic-models) (2.16.3)\n",
      "Requirement already satisfied: jsonschema>=2.6 in /usr/local/lib/python3.9/site-packages (from nbformat>=4.2.0->ipywidgets==7.5.1->contextualized-topic-models) (4.17.3)\n",
      "Requirement already satisfied: parso<0.9.0,>=0.8.0 in /usr/local/lib/python3.9/site-packages (from jedi>=0.16->ipython==8.10.0->contextualized-topic-models) (0.8.3)\n",
      "Requirement already satisfied: executing>=1.2.0 in /usr/local/lib/python3.9/site-packages (from stack-data->ipython==8.10.0->contextualized-topic-models) (1.2.0)\n",
      "Requirement already satisfied: pure-eval in /usr/local/lib/python3.9/site-packages (from stack-data->ipython==8.10.0->contextualized-topic-models) (0.2.2)\n",
      "Requirement already satisfied: asttokens>=2.1.0 in /usr/local/lib/python3.9/site-packages (from stack-data->ipython==8.10.0->contextualized-topic-models) (2.2.1)\n",
      "Requirement already satisfied: wcwidth in /usr/local/lib/python3.9/site-packages (from prompt-toolkit<3.1.0,>=3.0.30->ipython==8.10.0->contextualized-topic-models) (0.2.6)\n",
      "Requirement already satisfied: ptyprocess>=0.5 in /usr/local/lib/python3.9/site-packages (from pexpect>4.3; sys_platform != \"win32\"->ipython==8.10.0->contextualized-topic-models) (0.7.0)\n",
      "Requirement already satisfied: pyyaml>=5.1 in /usr/local/lib64/python3.9/site-packages (from huggingface-hub>=0.4.0->sentence-transformers>=2.1.1->contextualized-topic-models) (6.0)\n",
      "Requirement already satisfied: threadpoolctl>=2.0.0 in /usr/local/lib/python3.9/site-packages (from scikit-learn->sentence-transformers>=2.1.1->contextualized-topic-models) (3.1.0)\n",
      "Requirement already satisfied: joblib>=1.1.1 in /usr/local/lib/python3.9/site-packages (from scikit-learn->sentence-transformers>=2.1.1->contextualized-topic-models) (1.2.0)\n",
      "Requirement already satisfied: regex>=2021.8.3 in /usr/local/lib64/python3.9/site-packages (from nltk->sentence-transformers>=2.1.1->contextualized-topic-models) (2022.10.31)\n",
      "Requirement already satisfied: click in /usr/local/lib/python3.9/site-packages (from nltk->sentence-transformers>=2.1.1->contextualized-topic-models) (8.1.3)\n",
      "Requirement already satisfied: tokenizers!=0.11.3,<0.14,>=0.11.1 in /usr/local/lib64/python3.9/site-packages (from transformers<5.0.0,>=4.6.0->sentence-transformers>=2.1.1->contextualized-topic-models) (0.13.2)\n",
      "Requirement already satisfied: six>=1.5 in /usr/local/lib/python3.9/site-packages (from python-dateutil>=2.7->matplotlib>=3.1.3->contextualized-topic-models) (1.16.0)\n",
      "Requirement already satisfied: zipp>=3.1.0; python_version < \"3.10\" in /usr/local/lib/python3.9/site-packages (from importlib-resources>=3.2.0; python_version < \"3.10\"->matplotlib>=3.1.3->contextualized-topic-models) (3.15.0)\n",
      "Requirement already satisfied: mpmath>=0.19 in /usr/local/lib/python3.9/site-packages (from sympy->torch>=1.6.0->contextualized-topic-models) (1.3.0)\n",
      "Requirement already satisfied: wheel in /usr/local/lib/python3.9/site-packages (from nvidia-cusparse-cu11==11.7.4.91; platform_system == \"Linux\" and platform_machine == \"x86_64\"->torch>=1.6.0->contextualized-topic-models) (0.40.0)\n",
      "Requirement already satisfied: setuptools in /usr/lib/python3.9/site-packages (from nvidia-cusparse-cu11==11.7.4.91; platform_system == \"Linux\" and platform_machine == \"x86_64\"->torch>=1.6.0->contextualized-topic-models) (50.3.2)\n",
      "Requirement already satisfied: lit in /usr/local/lib/python3.9/site-packages (from triton==2.0.0; platform_system == \"Linux\" and platform_machine == \"x86_64\"->torch>=1.6.0->contextualized-topic-models) (16.0.0)\n",
      "Requirement already satisfied: cmake in /usr/local/lib64/python3.9/site-packages (from triton==2.0.0; platform_system == \"Linux\" and platform_machine == \"x86_64\"->torch>=1.6.0->contextualized-topic-models) (3.26.0)\n",
      "Requirement already satisfied: MarkupSafe>=2.0 in /usr/local/lib64/python3.9/site-packages (from jinja2->torch>=1.6.0->contextualized-topic-models) (2.1.2)\n",
      "Requirement already satisfied: platformdirs>=2.5 in /usr/local/lib/python3.9/site-packages (from jupyter-core!=5.0.*,>=4.12->ipykernel>=4.5.1->ipywidgets==7.5.1->contextualized-topic-models) (3.1.1)\n",
      "Requirement already satisfied: importlib-metadata>=4.8.3; python_version < \"3.10\" in /usr/local/lib/python3.9/site-packages (from jupyter-client>=6.1.12->ipykernel>=4.5.1->ipywidgets==7.5.1->contextualized-topic-models) (6.1.0)\n",
      "Requirement already satisfied: ipython-genutils in /usr/local/lib/python3.9/site-packages (from notebook>=4.4.1->widgetsnbextension~=3.5.0->ipywidgets==7.5.1->contextualized-topic-models) (0.2.0)\n",
      "Requirement already satisfied: Send2Trash>=1.8.0 in /usr/local/lib/python3.9/site-packages (from notebook>=4.4.1->widgetsnbextension~=3.5.0->ipywidgets==7.5.1->contextualized-topic-models) (1.8.0)\n",
      "Requirement already satisfied: nbclassic>=0.4.7 in /usr/local/lib/python3.9/site-packages (from notebook>=4.4.1->widgetsnbextension~=3.5.0->ipywidgets==7.5.1->contextualized-topic-models) (0.5.3)\n",
      "Requirement already satisfied: nbconvert>=5 in /usr/local/lib/python3.9/site-packages (from notebook>=4.4.1->widgetsnbextension~=3.5.0->ipywidgets==7.5.1->contextualized-topic-models) (7.2.10)\n",
      "Requirement already satisfied: prometheus-client in /usr/local/lib/python3.9/site-packages (from notebook>=4.4.1->widgetsnbextension~=3.5.0->ipywidgets==7.5.1->contextualized-topic-models) (0.16.0)\n",
      "Requirement already satisfied: argon2-cffi in /usr/local/lib/python3.9/site-packages (from notebook>=4.4.1->widgetsnbextension~=3.5.0->ipywidgets==7.5.1->contextualized-topic-models) (21.3.0)\n",
      "Requirement already satisfied: terminado>=0.8.3 in /usr/local/lib/python3.9/site-packages (from notebook>=4.4.1->widgetsnbextension~=3.5.0->ipywidgets==7.5.1->contextualized-topic-models) (0.17.1)\n",
      "Requirement already satisfied: attrs>=17.4.0 in /usr/local/lib/python3.9/site-packages (from jsonschema>=2.6->nbformat>=4.2.0->ipywidgets==7.5.1->contextualized-topic-models) (22.2.0)\n",
      "Requirement already satisfied: pyrsistent!=0.17.0,!=0.17.1,!=0.17.2,>=0.14.0 in /usr/local/lib/python3.9/site-packages (from jsonschema>=2.6->nbformat>=4.2.0->ipywidgets==7.5.1->contextualized-topic-models) (0.19.3)\n",
      "Requirement already satisfied: notebook-shim>=0.1.0 in /usr/local/lib/python3.9/site-packages (from nbclassic>=0.4.7->notebook>=4.4.1->widgetsnbextension~=3.5.0->ipywidgets==7.5.1->contextualized-topic-models) (0.2.2)\n",
      "Requirement already satisfied: jupyter-server>=1.8 in /usr/local/lib/python3.9/site-packages (from nbclassic>=0.4.7->notebook>=4.4.1->widgetsnbextension~=3.5.0->ipywidgets==7.5.1->contextualized-topic-models) (2.5.0)\n",
      "Requirement already satisfied: mistune<3,>=2.0.3 in /usr/local/lib/python3.9/site-packages (from nbconvert>=5->notebook>=4.4.1->widgetsnbextension~=3.5.0->ipywidgets==7.5.1->contextualized-topic-models) (2.0.5)\n",
      "Requirement already satisfied: bleach in /usr/local/lib/python3.9/site-packages (from nbconvert>=5->notebook>=4.4.1->widgetsnbextension~=3.5.0->ipywidgets==7.5.1->contextualized-topic-models) (6.0.0)\n",
      "Requirement already satisfied: defusedxml in /usr/local/lib/python3.9/site-packages (from nbconvert>=5->notebook>=4.4.1->widgetsnbextension~=3.5.0->ipywidgets==7.5.1->contextualized-topic-models) (0.7.1)\n",
      "Requirement already satisfied: pandocfilters>=1.4.1 in /usr/local/lib/python3.9/site-packages (from nbconvert>=5->notebook>=4.4.1->widgetsnbextension~=3.5.0->ipywidgets==7.5.1->contextualized-topic-models) (1.5.0)\n",
      "Requirement already satisfied: tinycss2 in /usr/local/lib/python3.9/site-packages (from nbconvert>=5->notebook>=4.4.1->widgetsnbextension~=3.5.0->ipywidgets==7.5.1->contextualized-topic-models) (1.2.1)\n",
      "Requirement already satisfied: jupyterlab-pygments in /usr/local/lib/python3.9/site-packages (from nbconvert>=5->notebook>=4.4.1->widgetsnbextension~=3.5.0->ipywidgets==7.5.1->contextualized-topic-models) (0.2.2)\n",
      "Requirement already satisfied: nbclient>=0.5.0 in /usr/local/lib/python3.9/site-packages (from nbconvert>=5->notebook>=4.4.1->widgetsnbextension~=3.5.0->ipywidgets==7.5.1->contextualized-topic-models) (0.7.2)\n",
      "Requirement already satisfied: beautifulsoup4 in /usr/local/lib/python3.9/site-packages (from nbconvert>=5->notebook>=4.4.1->widgetsnbextension~=3.5.0->ipywidgets==7.5.1->contextualized-topic-models) (4.12.0)\n"
     ]
    },
    {
     "name": "stdout",
     "output_type": "stream",
     "text": [
      "Requirement already satisfied: argon2-cffi-bindings in /usr/local/lib64/python3.9/site-packages (from argon2-cffi->notebook>=4.4.1->widgetsnbextension~=3.5.0->ipywidgets==7.5.1->contextualized-topic-models) (21.2.0)\n",
      "Requirement already satisfied: jupyter-server-terminals in /usr/local/lib/python3.9/site-packages (from jupyter-server>=1.8->nbclassic>=0.4.7->notebook>=4.4.1->widgetsnbextension~=3.5.0->ipywidgets==7.5.1->contextualized-topic-models) (0.4.4)\n",
      "Requirement already satisfied: jupyter-events>=0.4.0 in /usr/local/lib/python3.9/site-packages (from jupyter-server>=1.8->nbclassic>=0.4.7->notebook>=4.4.1->widgetsnbextension~=3.5.0->ipywidgets==7.5.1->contextualized-topic-models) (0.6.3)\n",
      "Requirement already satisfied: anyio>=3.1.0 in /usr/local/lib/python3.9/site-packages (from jupyter-server>=1.8->nbclassic>=0.4.7->notebook>=4.4.1->widgetsnbextension~=3.5.0->ipywidgets==7.5.1->contextualized-topic-models) (3.6.2)\n",
      "Requirement already satisfied: websocket-client in /usr/local/lib/python3.9/site-packages (from jupyter-server>=1.8->nbclassic>=0.4.7->notebook>=4.4.1->widgetsnbextension~=3.5.0->ipywidgets==7.5.1->contextualized-topic-models) (1.5.1)\n",
      "Requirement already satisfied: webencodings in /usr/local/lib/python3.9/site-packages (from bleach->nbconvert>=5->notebook>=4.4.1->widgetsnbextension~=3.5.0->ipywidgets==7.5.1->contextualized-topic-models) (0.5.1)\n",
      "Requirement already satisfied: soupsieve>1.2 in /usr/local/lib/python3.9/site-packages (from beautifulsoup4->nbconvert>=5->notebook>=4.4.1->widgetsnbextension~=3.5.0->ipywidgets==7.5.1->contextualized-topic-models) (2.4)\n",
      "Requirement already satisfied: cffi>=1.0.1 in /usr/local/lib64/python3.9/site-packages (from argon2-cffi-bindings->argon2-cffi->notebook>=4.4.1->widgetsnbextension~=3.5.0->ipywidgets==7.5.1->contextualized-topic-models) (1.15.1)\n",
      "Requirement already satisfied: python-json-logger>=2.0.4 in /usr/local/lib/python3.9/site-packages (from jupyter-events>=0.4.0->jupyter-server>=1.8->nbclassic>=0.4.7->notebook>=4.4.1->widgetsnbextension~=3.5.0->ipywidgets==7.5.1->contextualized-topic-models) (2.0.7)\n",
      "Requirement already satisfied: rfc3986-validator>=0.1.1 in /usr/local/lib/python3.9/site-packages (from jupyter-events>=0.4.0->jupyter-server>=1.8->nbclassic>=0.4.7->notebook>=4.4.1->widgetsnbextension~=3.5.0->ipywidgets==7.5.1->contextualized-topic-models) (0.1.1)\n",
      "Requirement already satisfied: rfc3339-validator in /usr/local/lib/python3.9/site-packages (from jupyter-events>=0.4.0->jupyter-server>=1.8->nbclassic>=0.4.7->notebook>=4.4.1->widgetsnbextension~=3.5.0->ipywidgets==7.5.1->contextualized-topic-models) (0.1.4)\n",
      "Requirement already satisfied: sniffio>=1.1 in /usr/local/lib/python3.9/site-packages (from anyio>=3.1.0->jupyter-server>=1.8->nbclassic>=0.4.7->notebook>=4.4.1->widgetsnbextension~=3.5.0->ipywidgets==7.5.1->contextualized-topic-models) (1.3.0)\n",
      "Requirement already satisfied: pycparser in /usr/local/lib/python3.9/site-packages (from cffi>=1.0.1->argon2-cffi-bindings->argon2-cffi->notebook>=4.4.1->widgetsnbextension~=3.5.0->ipywidgets==7.5.1->contextualized-topic-models) (2.21)\n",
      "Installing collected packages: widgetsnbextension, ipython, ipywidgets, gensim\n",
      "\u001b[33m  WARNING: The scripts ipython and ipython3 are installed in '/users/nguyanhd/.local/bin' which is not on PATH.\n",
      "  Consider adding this directory to PATH or, if you prefer to suppress this warning, use --no-warn-script-location.\u001b[0m\n",
      "\u001b[31mERROR: After October 2020 you may experience errors when installing or updating packages. This is because pip will change the way that it resolves dependency conflicts.\n",
      "\n",
      "We recommend you use --use-feature=2020-resolver to test your packages with the new resolver before it becomes the default.\n",
      "\n",
      "pyldavis 3.4.1 requires numpy>=1.24.2, but you'll have numpy 1.23.5 which is incompatible.\n",
      "pyldavis 3.4.1 requires pandas>=2.0.0, but you'll have pandas 1.5.3 which is incompatible.\u001b[0m\n",
      "Successfully installed gensim-4.2.0 ipython-8.10.0 ipywidgets-7.5.1 widgetsnbextension-3.5.2\n",
      "Defaulting to user installation because normal site-packages is not writeable\n",
      "Requirement already satisfied: pyldavis in /users/nguyanhd/.local/lib/python3.9/site-packages (3.4.1)\n",
      "Requirement already satisfied: funcy in /users/nguyanhd/.local/lib/python3.9/site-packages (from pyldavis) (2.0)\n",
      "Requirement already satisfied: setuptools in /usr/lib/python3.9/site-packages (from pyldavis) (50.3.2)\n",
      "Collecting numpy>=1.24.2\n",
      "  Using cached numpy-1.24.3-cp39-cp39-manylinux_2_17_x86_64.manylinux2014_x86_64.whl (17.3 MB)\n",
      "Requirement already satisfied: numexpr in /usr/local/lib64/python3.9/site-packages (from pyldavis) (2.8.4)\n",
      "Requirement already satisfied: scikit-learn>=1.0.0 in /usr/local/lib64/python3.9/site-packages (from pyldavis) (1.2.2)\n",
      "Requirement already satisfied: jinja2 in /usr/local/lib/python3.9/site-packages (from pyldavis) (3.1.2)\n",
      "Requirement already satisfied: joblib>=1.2.0 in /usr/local/lib/python3.9/site-packages (from pyldavis) (1.2.0)\n",
      "Requirement already satisfied: gensim in /usr/local/lib64/python3.9/site-packages (from pyldavis) (4.3.1)\n",
      "Requirement already satisfied: scipy in /usr/local/lib64/python3.9/site-packages (from pyldavis) (1.9.1)\n",
      "Collecting pandas>=2.0.0\n",
      "  Using cached pandas-2.0.1-cp39-cp39-manylinux_2_17_x86_64.manylinux2014_x86_64.whl (12.4 MB)\n",
      "Requirement already satisfied: threadpoolctl>=2.0.0 in /usr/local/lib/python3.9/site-packages (from scikit-learn>=1.0.0->pyldavis) (3.1.0)\n",
      "Requirement already satisfied: MarkupSafe>=2.0 in /usr/local/lib64/python3.9/site-packages (from jinja2->pyldavis) (2.1.2)\n",
      "Requirement already satisfied: smart-open>=1.8.1 in /usr/local/lib/python3.9/site-packages (from gensim->pyldavis) (6.3.0)\n",
      "Requirement already satisfied: pytz>=2020.1 in /usr/local/lib/python3.9/site-packages (from pandas>=2.0.0->pyldavis) (2022.7.1)\n",
      "Requirement already satisfied: tzdata>=2022.1 in /users/nguyanhd/.local/lib/python3.9/site-packages (from pandas>=2.0.0->pyldavis) (2023.3)\n",
      "Requirement already satisfied: python-dateutil>=2.8.2 in /usr/local/lib/python3.9/site-packages (from pandas>=2.0.0->pyldavis) (2.8.2)\n",
      "Requirement already satisfied: six>=1.5 in /usr/local/lib/python3.9/site-packages (from python-dateutil>=2.8.2->pandas>=2.0.0->pyldavis) (1.16.0)\n",
      "Installing collected packages: numpy, pandas\n",
      "\u001b[33m  WARNING: The scripts f2py, f2py3 and f2py3.9 are installed in '/users/nguyanhd/.local/bin' which is not on PATH.\n",
      "  Consider adding this directory to PATH or, if you prefer to suppress this warning, use --no-warn-script-location.\u001b[0m\n",
      "\u001b[31mERROR: After October 2020 you may experience errors when installing or updating packages. This is because pip will change the way that it resolves dependency conflicts.\n",
      "\n",
      "We recommend you use --use-feature=2020-resolver to test your packages with the new resolver before it becomes the default.\n",
      "\n",
      "numba 0.56.4 requires numpy<1.24,>=1.18, but you'll have numpy 1.24.3 which is incompatible.\n",
      "contextualized-topic-models 2.5.0 requires gensim==4.2.0, but you'll have gensim 4.3.1 which is incompatible.\n",
      "contextualized-topic-models 2.5.0 requires ipython==8.10.0, but you'll have ipython 8.11.0 which is incompatible.\n",
      "contextualized-topic-models 2.5.0 requires ipywidgets==7.5.1, but you'll have ipywidgets 8.0.5 which is incompatible.\u001b[0m\n",
      "Successfully installed numpy-1.24.3 pandas-2.0.1\n"
     ]
    }
   ],
   "source": [
    "!{sys.executable} -m pip install contextualized-topic-models\n",
    "!{sys.executable} -m pip install pyldavis"
   ]
  },
  {
   "cell_type": "code",
   "execution_count": 11,
   "id": "5f07e936",
   "metadata": {},
   "outputs": [],
   "source": [
    "from gensim.models import Word2Vec"
   ]
  },
  {
   "cell_type": "code",
   "execution_count": 13,
   "id": "c847a8d7",
   "metadata": {},
   "outputs": [],
   "source": [
    "SEED = 42\n",
    "np.random.seed(SEED)\n",
    "os.environ[\"PYTHONHASHSEED\"] = str(SEED)\n",
    "np.random.seed(SEED)"
   ]
  },
  {
   "cell_type": "code",
   "execution_count": 14,
   "id": "a5c7c605",
   "metadata": {},
   "outputs": [
    {
     "name": "stdout",
     "output_type": "stream",
     "text": [
      "Defaulting to user installation because normal site-packages is not writeable\n",
      "Requirement already up-to-date: contextualized-topic-models in /users/nguyanhd/.local/lib/python3.9/site-packages (2.5.0)\n",
      "Requirement already satisfied, skipping upgrade: torch>=1.6.0 in /usr/local/lib64/python3.9/site-packages (from contextualized-topic-models) (2.0.0)\n",
      "Requirement already satisfied, skipping upgrade: tqdm>=4.56.0 in /usr/local/lib/python3.9/site-packages (from contextualized-topic-models) (4.65.0)\n",
      "Collecting ipywidgets==7.5.1\n",
      "  Using cached ipywidgets-7.5.1-py2.py3-none-any.whl (121 kB)\n",
      "Collecting ipython==8.10.0\n",
      "  Using cached ipython-8.10.0-py3-none-any.whl (784 kB)\n",
      "Requirement already satisfied, skipping upgrade: numpy>=1.19.1 in /usr/local/lib64/python3.9/site-packages (from contextualized-topic-models) (1.23.5)\n",
      "Requirement already satisfied, skipping upgrade: sentence-transformers>=2.1.1 in /users/nguyanhd/.local/lib/python3.9/site-packages (from contextualized-topic-models) (2.2.2)\n",
      "Requirement already satisfied, skipping upgrade: matplotlib>=3.1.3 in /usr/local/lib64/python3.9/site-packages (from contextualized-topic-models) (3.7.1)\n",
      "Collecting gensim==4.2.0\n",
      "  Using cached gensim-4.2.0-cp39-cp39-manylinux_2_12_x86_64.manylinux2010_x86_64.whl (24.0 MB)\n",
      "Requirement already satisfied, skipping upgrade: scipy>=1.4.1 in /usr/local/lib64/python3.9/site-packages (from contextualized-topic-models) (1.9.1)\n",
      "Requirement already satisfied, skipping upgrade: wordcloud>=1.8.1 in /users/nguyanhd/.local/lib/python3.9/site-packages (from contextualized-topic-models) (1.9.1.1)\n",
      "Requirement already satisfied, skipping upgrade: torchvision>=0.7.0 in /usr/local/lib64/python3.9/site-packages (from contextualized-topic-models) (0.15.1)\n",
      "Requirement already satisfied, skipping upgrade: nvidia-cuda-runtime-cu11==11.7.99; platform_system == \"Linux\" and platform_machine == \"x86_64\" in /usr/local/lib/python3.9/site-packages (from torch>=1.6.0->contextualized-topic-models) (11.7.99)\n",
      "Requirement already satisfied, skipping upgrade: nvidia-curand-cu11==10.2.10.91; platform_system == \"Linux\" and platform_machine == \"x86_64\" in /usr/local/lib/python3.9/site-packages (from torch>=1.6.0->contextualized-topic-models) (10.2.10.91)\n",
      "Requirement already satisfied, skipping upgrade: nvidia-cuda-cupti-cu11==11.7.101; platform_system == \"Linux\" and platform_machine == \"x86_64\" in /usr/local/lib/python3.9/site-packages (from torch>=1.6.0->contextualized-topic-models) (11.7.101)\n",
      "Requirement already satisfied, skipping upgrade: sympy in /usr/local/lib/python3.9/site-packages (from torch>=1.6.0->contextualized-topic-models) (1.11.1)\n",
      "Requirement already satisfied, skipping upgrade: nvidia-cudnn-cu11==8.5.0.96; platform_system == \"Linux\" and platform_machine == \"x86_64\" in /usr/local/lib/python3.9/site-packages (from torch>=1.6.0->contextualized-topic-models) (8.5.0.96)\n",
      "Requirement already satisfied, skipping upgrade: nvidia-nvtx-cu11==11.7.91; platform_system == \"Linux\" and platform_machine == \"x86_64\" in /usr/local/lib/python3.9/site-packages (from torch>=1.6.0->contextualized-topic-models) (11.7.91)\n",
      "Requirement already satisfied, skipping upgrade: filelock in /usr/local/lib/python3.9/site-packages (from torch>=1.6.0->contextualized-topic-models) (3.10.0)\n",
      "Requirement already satisfied, skipping upgrade: nvidia-nccl-cu11==2.14.3; platform_system == \"Linux\" and platform_machine == \"x86_64\" in /usr/local/lib/python3.9/site-packages (from torch>=1.6.0->contextualized-topic-models) (2.14.3)\n",
      "Requirement already satisfied, skipping upgrade: triton==2.0.0; platform_system == \"Linux\" and platform_machine == \"x86_64\" in /usr/local/lib64/python3.9/site-packages (from torch>=1.6.0->contextualized-topic-models) (2.0.0)\n",
      "Requirement already satisfied, skipping upgrade: nvidia-cublas-cu11==11.10.3.66; platform_system == \"Linux\" and platform_machine == \"x86_64\" in /usr/local/lib/python3.9/site-packages (from torch>=1.6.0->contextualized-topic-models) (11.10.3.66)\n",
      "Requirement already satisfied, skipping upgrade: nvidia-cuda-nvrtc-cu11==11.7.99; platform_system == \"Linux\" and platform_machine == \"x86_64\" in /usr/local/lib/python3.9/site-packages (from torch>=1.6.0->contextualized-topic-models) (11.7.99)\n",
      "Requirement already satisfied, skipping upgrade: jinja2 in /usr/local/lib/python3.9/site-packages (from torch>=1.6.0->contextualized-topic-models) (3.1.2)\n",
      "Requirement already satisfied, skipping upgrade: nvidia-cufft-cu11==10.9.0.58; platform_system == \"Linux\" and platform_machine == \"x86_64\" in /usr/local/lib/python3.9/site-packages (from torch>=1.6.0->contextualized-topic-models) (10.9.0.58)\n",
      "Requirement already satisfied, skipping upgrade: networkx in /usr/local/lib/python3.9/site-packages (from torch>=1.6.0->contextualized-topic-models) (3.0)\n",
      "Requirement already satisfied, skipping upgrade: typing-extensions in /usr/local/lib/python3.9/site-packages (from torch>=1.6.0->contextualized-topic-models) (4.5.0)\n",
      "Requirement already satisfied, skipping upgrade: nvidia-cusolver-cu11==11.4.0.1; platform_system == \"Linux\" and platform_machine == \"x86_64\" in /usr/local/lib/python3.9/site-packages (from torch>=1.6.0->contextualized-topic-models) (11.4.0.1)\n",
      "Requirement already satisfied, skipping upgrade: nvidia-cusparse-cu11==11.7.4.91; platform_system == \"Linux\" and platform_machine == \"x86_64\" in /usr/local/lib/python3.9/site-packages (from torch>=1.6.0->contextualized-topic-models) (11.7.4.91)\n",
      "Requirement already satisfied, skipping upgrade: ipykernel>=4.5.1 in /usr/local/lib/python3.9/site-packages (from ipywidgets==7.5.1->contextualized-topic-models) (6.22.0)\n",
      "Requirement already satisfied, skipping upgrade: nbformat>=4.2.0 in /usr/local/lib/python3.9/site-packages (from ipywidgets==7.5.1->contextualized-topic-models) (5.8.0)\n",
      "Requirement already satisfied, skipping upgrade: traitlets>=4.3.1 in /usr/local/lib/python3.9/site-packages (from ipywidgets==7.5.1->contextualized-topic-models) (5.9.0)\n",
      "Collecting widgetsnbextension~=3.5.0\n",
      "  Using cached widgetsnbextension-3.5.2-py2.py3-none-any.whl (1.6 MB)\n",
      "Requirement already satisfied, skipping upgrade: matplotlib-inline in /usr/local/lib/python3.9/site-packages (from ipython==8.10.0->contextualized-topic-models) (0.1.6)\n",
      "Requirement already satisfied, skipping upgrade: pickleshare in /usr/local/lib/python3.9/site-packages (from ipython==8.10.0->contextualized-topic-models) (0.7.5)\n",
      "Requirement already satisfied, skipping upgrade: jedi>=0.16 in /usr/local/lib/python3.9/site-packages (from ipython==8.10.0->contextualized-topic-models) (0.18.2)\n",
      "Requirement already satisfied, skipping upgrade: pexpect>4.3; sys_platform != \"win32\" in /usr/local/lib/python3.9/site-packages (from ipython==8.10.0->contextualized-topic-models) (4.8.0)\n",
      "Requirement already satisfied, skipping upgrade: backcall in /usr/local/lib/python3.9/site-packages (from ipython==8.10.0->contextualized-topic-models) (0.2.0)\n",
      "Requirement already satisfied, skipping upgrade: decorator in /usr/local/lib/python3.9/site-packages (from ipython==8.10.0->contextualized-topic-models) (5.1.1)\n",
      "Requirement already satisfied, skipping upgrade: pygments>=2.4.0 in /usr/local/lib/python3.9/site-packages (from ipython==8.10.0->contextualized-topic-models) (2.14.0)\n",
      "Requirement already satisfied, skipping upgrade: prompt-toolkit<3.1.0,>=3.0.30 in /usr/local/lib/python3.9/site-packages (from ipython==8.10.0->contextualized-topic-models) (3.0.38)\n",
      "Requirement already satisfied, skipping upgrade: stack-data in /usr/local/lib/python3.9/site-packages (from ipython==8.10.0->contextualized-topic-models) (0.6.2)\n",
      "Requirement already satisfied, skipping upgrade: nltk in /usr/local/lib/python3.9/site-packages (from sentence-transformers>=2.1.1->contextualized-topic-models) (3.8.1)\n",
      "Requirement already satisfied, skipping upgrade: scikit-learn in /usr/local/lib64/python3.9/site-packages (from sentence-transformers>=2.1.1->contextualized-topic-models) (1.2.2)\n",
      "Requirement already satisfied, skipping upgrade: transformers<5.0.0,>=4.6.0 in /usr/local/lib/python3.9/site-packages (from sentence-transformers>=2.1.1->contextualized-topic-models) (4.27.2)\n",
      "Requirement already satisfied, skipping upgrade: huggingface-hub>=0.4.0 in /usr/local/lib/python3.9/site-packages (from sentence-transformers>=2.1.1->contextualized-topic-models) (0.13.3)\n"
     ]
    },
    {
     "name": "stdout",
     "output_type": "stream",
     "text": [
      "Requirement already satisfied, skipping upgrade: sentencepiece in /users/nguyanhd/.local/lib/python3.9/site-packages (from sentence-transformers>=2.1.1->contextualized-topic-models) (0.1.99)\n",
      "Requirement already satisfied, skipping upgrade: contourpy>=1.0.1 in /usr/local/lib64/python3.9/site-packages (from matplotlib>=3.1.3->contextualized-topic-models) (1.0.7)\n",
      "Requirement already satisfied, skipping upgrade: fonttools>=4.22.0 in /usr/local/lib/python3.9/site-packages (from matplotlib>=3.1.3->contextualized-topic-models) (4.39.2)\n",
      "Requirement already satisfied, skipping upgrade: packaging>=20.0 in /usr/local/lib/python3.9/site-packages (from matplotlib>=3.1.3->contextualized-topic-models) (23.0)\n",
      "Requirement already satisfied, skipping upgrade: python-dateutil>=2.7 in /usr/local/lib/python3.9/site-packages (from matplotlib>=3.1.3->contextualized-topic-models) (2.8.2)\n",
      "Requirement already satisfied, skipping upgrade: importlib-resources>=3.2.0; python_version < \"3.10\" in /usr/local/lib/python3.9/site-packages (from matplotlib>=3.1.3->contextualized-topic-models) (5.12.0)\n",
      "Requirement already satisfied, skipping upgrade: pyparsing>=2.3.1 in /usr/local/lib/python3.9/site-packages (from matplotlib>=3.1.3->contextualized-topic-models) (3.0.9)\n",
      "Requirement already satisfied, skipping upgrade: cycler>=0.10 in /usr/local/lib/python3.9/site-packages (from matplotlib>=3.1.3->contextualized-topic-models) (0.11.0)\n",
      "Requirement already satisfied, skipping upgrade: kiwisolver>=1.0.1 in /usr/local/lib64/python3.9/site-packages (from matplotlib>=3.1.3->contextualized-topic-models) (1.4.4)\n",
      "Requirement already satisfied, skipping upgrade: pillow>=6.2.0 in /usr/local/lib64/python3.9/site-packages (from matplotlib>=3.1.3->contextualized-topic-models) (9.4.0)\n",
      "Requirement already satisfied, skipping upgrade: smart-open>=1.8.1 in /usr/local/lib/python3.9/site-packages (from gensim==4.2.0->contextualized-topic-models) (6.3.0)\n",
      "Requirement already satisfied, skipping upgrade: requests in /usr/local/lib/python3.9/site-packages (from torchvision>=0.7.0->contextualized-topic-models) (2.28.2)\n",
      "Requirement already satisfied, skipping upgrade: wheel in /usr/local/lib/python3.9/site-packages (from nvidia-cuda-runtime-cu11==11.7.99; platform_system == \"Linux\" and platform_machine == \"x86_64\"->torch>=1.6.0->contextualized-topic-models) (0.40.0)\n",
      "Requirement already satisfied, skipping upgrade: setuptools in /usr/lib/python3.9/site-packages (from nvidia-cuda-runtime-cu11==11.7.99; platform_system == \"Linux\" and platform_machine == \"x86_64\"->torch>=1.6.0->contextualized-topic-models) (50.3.2)\n",
      "Requirement already satisfied, skipping upgrade: mpmath>=0.19 in /usr/local/lib/python3.9/site-packages (from sympy->torch>=1.6.0->contextualized-topic-models) (1.3.0)\n",
      "Requirement already satisfied, skipping upgrade: lit in /usr/local/lib/python3.9/site-packages (from triton==2.0.0; platform_system == \"Linux\" and platform_machine == \"x86_64\"->torch>=1.6.0->contextualized-topic-models) (16.0.0)\n",
      "Requirement already satisfied, skipping upgrade: cmake in /usr/local/lib64/python3.9/site-packages (from triton==2.0.0; platform_system == \"Linux\" and platform_machine == \"x86_64\"->torch>=1.6.0->contextualized-topic-models) (3.26.0)\n",
      "Requirement already satisfied, skipping upgrade: MarkupSafe>=2.0 in /usr/local/lib64/python3.9/site-packages (from jinja2->torch>=1.6.0->contextualized-topic-models) (2.1.2)\n",
      "Requirement already satisfied, skipping upgrade: psutil in /usr/local/lib64/python3.9/site-packages (from ipykernel>=4.5.1->ipywidgets==7.5.1->contextualized-topic-models) (5.9.4)\n",
      "Requirement already satisfied, skipping upgrade: jupyter-client>=6.1.12 in /usr/local/lib/python3.9/site-packages (from ipykernel>=4.5.1->ipywidgets==7.5.1->contextualized-topic-models) (8.1.0)\n",
      "Requirement already satisfied, skipping upgrade: comm>=0.1.1 in /usr/local/lib/python3.9/site-packages (from ipykernel>=4.5.1->ipywidgets==7.5.1->contextualized-topic-models) (0.1.3)\n",
      "Requirement already satisfied, skipping upgrade: jupyter-core!=5.0.*,>=4.12 in /usr/local/lib/python3.9/site-packages (from ipykernel>=4.5.1->ipywidgets==7.5.1->contextualized-topic-models) (5.3.0)\n",
      "Requirement already satisfied, skipping upgrade: pyzmq>=20 in /usr/local/lib64/python3.9/site-packages (from ipykernel>=4.5.1->ipywidgets==7.5.1->contextualized-topic-models) (25.0.2)\n",
      "Requirement already satisfied, skipping upgrade: tornado>=6.1 in /usr/local/lib64/python3.9/site-packages (from ipykernel>=4.5.1->ipywidgets==7.5.1->contextualized-topic-models) (6.2)\n",
      "Requirement already satisfied, skipping upgrade: debugpy>=1.6.5 in /usr/local/lib64/python3.9/site-packages (from ipykernel>=4.5.1->ipywidgets==7.5.1->contextualized-topic-models) (1.6.6)\n",
      "Requirement already satisfied, skipping upgrade: nest-asyncio in /usr/local/lib/python3.9/site-packages (from ipykernel>=4.5.1->ipywidgets==7.5.1->contextualized-topic-models) (1.5.6)\n",
      "Requirement already satisfied, skipping upgrade: jsonschema>=2.6 in /usr/local/lib/python3.9/site-packages (from nbformat>=4.2.0->ipywidgets==7.5.1->contextualized-topic-models) (4.17.3)\n",
      "Requirement already satisfied, skipping upgrade: fastjsonschema in /usr/local/lib/python3.9/site-packages (from nbformat>=4.2.0->ipywidgets==7.5.1->contextualized-topic-models) (2.16.3)\n",
      "Requirement already satisfied, skipping upgrade: notebook>=4.4.1 in /usr/local/lib/python3.9/site-packages (from widgetsnbextension~=3.5.0->ipywidgets==7.5.1->contextualized-topic-models) (6.5.3)\n",
      "Requirement already satisfied, skipping upgrade: parso<0.9.0,>=0.8.0 in /usr/local/lib/python3.9/site-packages (from jedi>=0.16->ipython==8.10.0->contextualized-topic-models) (0.8.3)\n",
      "Requirement already satisfied, skipping upgrade: ptyprocess>=0.5 in /usr/local/lib/python3.9/site-packages (from pexpect>4.3; sys_platform != \"win32\"->ipython==8.10.0->contextualized-topic-models) (0.7.0)\n",
      "Requirement already satisfied, skipping upgrade: wcwidth in /usr/local/lib/python3.9/site-packages (from prompt-toolkit<3.1.0,>=3.0.30->ipython==8.10.0->contextualized-topic-models) (0.2.6)\n",
      "Requirement already satisfied, skipping upgrade: asttokens>=2.1.0 in /usr/local/lib/python3.9/site-packages (from stack-data->ipython==8.10.0->contextualized-topic-models) (2.2.1)\n",
      "Requirement already satisfied, skipping upgrade: pure-eval in /usr/local/lib/python3.9/site-packages (from stack-data->ipython==8.10.0->contextualized-topic-models) (0.2.2)\n",
      "Requirement already satisfied, skipping upgrade: executing>=1.2.0 in /usr/local/lib/python3.9/site-packages (from stack-data->ipython==8.10.0->contextualized-topic-models) (1.2.0)\n",
      "Requirement already satisfied, skipping upgrade: click in /usr/local/lib/python3.9/site-packages (from nltk->sentence-transformers>=2.1.1->contextualized-topic-models) (8.1.3)\n",
      "Requirement already satisfied, skipping upgrade: joblib in /usr/local/lib/python3.9/site-packages (from nltk->sentence-transformers>=2.1.1->contextualized-topic-models) (1.2.0)\n",
      "Requirement already satisfied, skipping upgrade: regex>=2021.8.3 in /usr/local/lib64/python3.9/site-packages (from nltk->sentence-transformers>=2.1.1->contextualized-topic-models) (2022.10.31)\n",
      "Requirement already satisfied, skipping upgrade: threadpoolctl>=2.0.0 in /usr/local/lib/python3.9/site-packages (from scikit-learn->sentence-transformers>=2.1.1->contextualized-topic-models) (3.1.0)\n",
      "Requirement already satisfied, skipping upgrade: tokenizers!=0.11.3,<0.14,>=0.11.1 in /usr/local/lib64/python3.9/site-packages (from transformers<5.0.0,>=4.6.0->sentence-transformers>=2.1.1->contextualized-topic-models) (0.13.2)\n",
      "Requirement already satisfied, skipping upgrade: pyyaml>=5.1 in /usr/local/lib64/python3.9/site-packages (from transformers<5.0.0,>=4.6.0->sentence-transformers>=2.1.1->contextualized-topic-models) (6.0)\n",
      "Requirement already satisfied, skipping upgrade: six>=1.5 in /usr/local/lib/python3.9/site-packages (from python-dateutil>=2.7->matplotlib>=3.1.3->contextualized-topic-models) (1.16.0)\n",
      "Requirement already satisfied, skipping upgrade: zipp>=3.1.0; python_version < \"3.10\" in /usr/local/lib/python3.9/site-packages (from importlib-resources>=3.2.0; python_version < \"3.10\"->matplotlib>=3.1.3->contextualized-topic-models) (3.15.0)\n",
      "Requirement already satisfied, skipping upgrade: urllib3<1.27,>=1.21.1 in /usr/local/lib/python3.9/site-packages (from requests->torchvision>=0.7.0->contextualized-topic-models) (1.26.15)\n",
      "Requirement already satisfied, skipping upgrade: idna<4,>=2.5 in /usr/local/lib/python3.9/site-packages (from requests->torchvision>=0.7.0->contextualized-topic-models) (3.4)\n",
      "Requirement already satisfied, skipping upgrade: charset-normalizer<4,>=2 in /usr/local/lib64/python3.9/site-packages (from requests->torchvision>=0.7.0->contextualized-topic-models) (3.1.0)\n",
      "Requirement already satisfied, skipping upgrade: certifi>=2017.4.17 in /usr/local/lib/python3.9/site-packages (from requests->torchvision>=0.7.0->contextualized-topic-models) (2022.12.7)\n",
      "Requirement already satisfied, skipping upgrade: importlib-metadata>=4.8.3; python_version < \"3.10\" in /usr/local/lib/python3.9/site-packages (from jupyter-client>=6.1.12->ipykernel>=4.5.1->ipywidgets==7.5.1->contextualized-topic-models) (6.1.0)\n",
      "Requirement already satisfied, skipping upgrade: platformdirs>=2.5 in /usr/local/lib/python3.9/site-packages (from jupyter-core!=5.0.*,>=4.12->ipykernel>=4.5.1->ipywidgets==7.5.1->contextualized-topic-models) (3.1.1)\n",
      "Requirement already satisfied, skipping upgrade: pyrsistent!=0.17.0,!=0.17.1,!=0.17.2,>=0.14.0 in /usr/local/lib/python3.9/site-packages (from jsonschema>=2.6->nbformat>=4.2.0->ipywidgets==7.5.1->contextualized-topic-models) (0.19.3)\n",
      "Requirement already satisfied, skipping upgrade: attrs>=17.4.0 in /usr/local/lib/python3.9/site-packages (from jsonschema>=2.6->nbformat>=4.2.0->ipywidgets==7.5.1->contextualized-topic-models) (22.2.0)\n"
     ]
    },
    {
     "name": "stdout",
     "output_type": "stream",
     "text": [
      "Requirement already satisfied, skipping upgrade: ipython-genutils in /usr/local/lib/python3.9/site-packages (from notebook>=4.4.1->widgetsnbextension~=3.5.0->ipywidgets==7.5.1->contextualized-topic-models) (0.2.0)\n",
      "Requirement already satisfied, skipping upgrade: prometheus-client in /usr/local/lib/python3.9/site-packages (from notebook>=4.4.1->widgetsnbextension~=3.5.0->ipywidgets==7.5.1->contextualized-topic-models) (0.16.0)\n",
      "Requirement already satisfied, skipping upgrade: argon2-cffi in /usr/local/lib/python3.9/site-packages (from notebook>=4.4.1->widgetsnbextension~=3.5.0->ipywidgets==7.5.1->contextualized-topic-models) (21.3.0)\n",
      "Requirement already satisfied, skipping upgrade: nbconvert>=5 in /usr/local/lib/python3.9/site-packages (from notebook>=4.4.1->widgetsnbextension~=3.5.0->ipywidgets==7.5.1->contextualized-topic-models) (7.2.10)\n",
      "Requirement already satisfied, skipping upgrade: nbclassic>=0.4.7 in /usr/local/lib/python3.9/site-packages (from notebook>=4.4.1->widgetsnbextension~=3.5.0->ipywidgets==7.5.1->contextualized-topic-models) (0.5.3)\n",
      "Requirement already satisfied, skipping upgrade: terminado>=0.8.3 in /usr/local/lib/python3.9/site-packages (from notebook>=4.4.1->widgetsnbextension~=3.5.0->ipywidgets==7.5.1->contextualized-topic-models) (0.17.1)\n",
      "Requirement already satisfied, skipping upgrade: Send2Trash>=1.8.0 in /usr/local/lib/python3.9/site-packages (from notebook>=4.4.1->widgetsnbextension~=3.5.0->ipywidgets==7.5.1->contextualized-topic-models) (1.8.0)\n",
      "Requirement already satisfied, skipping upgrade: argon2-cffi-bindings in /usr/local/lib64/python3.9/site-packages (from argon2-cffi->notebook>=4.4.1->widgetsnbextension~=3.5.0->ipywidgets==7.5.1->contextualized-topic-models) (21.2.0)\n",
      "Requirement already satisfied, skipping upgrade: jupyterlab-pygments in /usr/local/lib/python3.9/site-packages (from nbconvert>=5->notebook>=4.4.1->widgetsnbextension~=3.5.0->ipywidgets==7.5.1->contextualized-topic-models) (0.2.2)\n",
      "Requirement already satisfied, skipping upgrade: nbclient>=0.5.0 in /usr/local/lib/python3.9/site-packages (from nbconvert>=5->notebook>=4.4.1->widgetsnbextension~=3.5.0->ipywidgets==7.5.1->contextualized-topic-models) (0.7.2)\n",
      "Requirement already satisfied, skipping upgrade: mistune<3,>=2.0.3 in /usr/local/lib/python3.9/site-packages (from nbconvert>=5->notebook>=4.4.1->widgetsnbextension~=3.5.0->ipywidgets==7.5.1->contextualized-topic-models) (2.0.5)\n",
      "Requirement already satisfied, skipping upgrade: tinycss2 in /usr/local/lib/python3.9/site-packages (from nbconvert>=5->notebook>=4.4.1->widgetsnbextension~=3.5.0->ipywidgets==7.5.1->contextualized-topic-models) (1.2.1)\n",
      "Requirement already satisfied, skipping upgrade: bleach in /usr/local/lib/python3.9/site-packages (from nbconvert>=5->notebook>=4.4.1->widgetsnbextension~=3.5.0->ipywidgets==7.5.1->contextualized-topic-models) (6.0.0)\n",
      "Requirement already satisfied, skipping upgrade: pandocfilters>=1.4.1 in /usr/local/lib/python3.9/site-packages (from nbconvert>=5->notebook>=4.4.1->widgetsnbextension~=3.5.0->ipywidgets==7.5.1->contextualized-topic-models) (1.5.0)\n",
      "Requirement already satisfied, skipping upgrade: defusedxml in /usr/local/lib/python3.9/site-packages (from nbconvert>=5->notebook>=4.4.1->widgetsnbextension~=3.5.0->ipywidgets==7.5.1->contextualized-topic-models) (0.7.1)\n",
      "Requirement already satisfied, skipping upgrade: beautifulsoup4 in /usr/local/lib/python3.9/site-packages (from nbconvert>=5->notebook>=4.4.1->widgetsnbextension~=3.5.0->ipywidgets==7.5.1->contextualized-topic-models) (4.12.0)\n",
      "Requirement already satisfied, skipping upgrade: jupyter-server>=1.8 in /usr/local/lib/python3.9/site-packages (from nbclassic>=0.4.7->notebook>=4.4.1->widgetsnbextension~=3.5.0->ipywidgets==7.5.1->contextualized-topic-models) (2.5.0)\n",
      "Requirement already satisfied, skipping upgrade: notebook-shim>=0.1.0 in /usr/local/lib/python3.9/site-packages (from nbclassic>=0.4.7->notebook>=4.4.1->widgetsnbextension~=3.5.0->ipywidgets==7.5.1->contextualized-topic-models) (0.2.2)\n",
      "Requirement already satisfied, skipping upgrade: cffi>=1.0.1 in /usr/local/lib64/python3.9/site-packages (from argon2-cffi-bindings->argon2-cffi->notebook>=4.4.1->widgetsnbextension~=3.5.0->ipywidgets==7.5.1->contextualized-topic-models) (1.15.1)\n",
      "Requirement already satisfied, skipping upgrade: webencodings>=0.4 in /usr/local/lib/python3.9/site-packages (from tinycss2->nbconvert>=5->notebook>=4.4.1->widgetsnbextension~=3.5.0->ipywidgets==7.5.1->contextualized-topic-models) (0.5.1)\n",
      "Requirement already satisfied, skipping upgrade: soupsieve>1.2 in /usr/local/lib/python3.9/site-packages (from beautifulsoup4->nbconvert>=5->notebook>=4.4.1->widgetsnbextension~=3.5.0->ipywidgets==7.5.1->contextualized-topic-models) (2.4)\n",
      "Requirement already satisfied, skipping upgrade: jupyter-events>=0.4.0 in /usr/local/lib/python3.9/site-packages (from jupyter-server>=1.8->nbclassic>=0.4.7->notebook>=4.4.1->widgetsnbextension~=3.5.0->ipywidgets==7.5.1->contextualized-topic-models) (0.6.3)\n",
      "Requirement already satisfied, skipping upgrade: jupyter-server-terminals in /usr/local/lib/python3.9/site-packages (from jupyter-server>=1.8->nbclassic>=0.4.7->notebook>=4.4.1->widgetsnbextension~=3.5.0->ipywidgets==7.5.1->contextualized-topic-models) (0.4.4)\n",
      "Requirement already satisfied, skipping upgrade: websocket-client in /usr/local/lib/python3.9/site-packages (from jupyter-server>=1.8->nbclassic>=0.4.7->notebook>=4.4.1->widgetsnbextension~=3.5.0->ipywidgets==7.5.1->contextualized-topic-models) (1.5.1)\n",
      "Requirement already satisfied, skipping upgrade: anyio>=3.1.0 in /usr/local/lib/python3.9/site-packages (from jupyter-server>=1.8->nbclassic>=0.4.7->notebook>=4.4.1->widgetsnbextension~=3.5.0->ipywidgets==7.5.1->contextualized-topic-models) (3.6.2)\n",
      "Requirement already satisfied, skipping upgrade: pycparser in /usr/local/lib/python3.9/site-packages (from cffi>=1.0.1->argon2-cffi-bindings->argon2-cffi->notebook>=4.4.1->widgetsnbextension~=3.5.0->ipywidgets==7.5.1->contextualized-topic-models) (2.21)\n",
      "Requirement already satisfied, skipping upgrade: python-json-logger>=2.0.4 in /usr/local/lib/python3.9/site-packages (from jupyter-events>=0.4.0->jupyter-server>=1.8->nbclassic>=0.4.7->notebook>=4.4.1->widgetsnbextension~=3.5.0->ipywidgets==7.5.1->contextualized-topic-models) (2.0.7)\n",
      "Requirement already satisfied, skipping upgrade: rfc3986-validator>=0.1.1 in /usr/local/lib/python3.9/site-packages (from jupyter-events>=0.4.0->jupyter-server>=1.8->nbclassic>=0.4.7->notebook>=4.4.1->widgetsnbextension~=3.5.0->ipywidgets==7.5.1->contextualized-topic-models) (0.1.1)\n",
      "Requirement already satisfied, skipping upgrade: rfc3339-validator in /usr/local/lib/python3.9/site-packages (from jupyter-events>=0.4.0->jupyter-server>=1.8->nbclassic>=0.4.7->notebook>=4.4.1->widgetsnbextension~=3.5.0->ipywidgets==7.5.1->contextualized-topic-models) (0.1.4)\n",
      "Requirement already satisfied, skipping upgrade: sniffio>=1.1 in /usr/local/lib/python3.9/site-packages (from anyio>=3.1.0->jupyter-server>=1.8->nbclassic>=0.4.7->notebook>=4.4.1->widgetsnbextension~=3.5.0->ipywidgets==7.5.1->contextualized-topic-models) (1.3.0)\n",
      "Installing collected packages: ipython, widgetsnbextension, ipywidgets, gensim\n",
      "\u001b[33m  WARNING: The scripts ipython and ipython3 are installed in '/users/nguyanhd/.local/bin' which is not on PATH.\n",
      "  Consider adding this directory to PATH or, if you prefer to suppress this warning, use --no-warn-script-location.\u001b[0m\n",
      "\u001b[31mERROR: After October 2020 you may experience errors when installing or updating packages. This is because pip will change the way that it resolves dependency conflicts.\n",
      "\n",
      "We recommend you use --use-feature=2020-resolver to test your packages with the new resolver before it becomes the default.\n",
      "\n",
      "pyldavis 3.4.1 requires numpy>=1.24.2, but you'll have numpy 1.23.5 which is incompatible.\n",
      "pyldavis 3.4.1 requires pandas>=2.0.0, but you'll have pandas 1.5.3 which is incompatible.\u001b[0m\n",
      "Successfully installed gensim-4.2.0 ipython-8.10.0 ipywidgets-7.5.1 widgetsnbextension-3.5.2\n"
     ]
    }
   ],
   "source": [
    "!{sys.executable} -m pip install --upgrade contextualized-topic-models"
   ]
  },
  {
   "cell_type": "markdown",
   "id": "74b7d75d",
   "metadata": {},
   "source": [
    "## Dev Data"
   ]
  },
  {
   "cell_type": "code",
   "execution_count": 15,
   "id": "3b81e7c1",
   "metadata": {},
   "outputs": [
    {
     "name": "stdout",
     "output_type": "stream",
     "text": [
      "Read in dataset train.csv. Set param 'data' to 'dev', 'test' or 'train' if you want another dataset.\n"
     ]
    }
   ],
   "source": [
    "df = puhti_files.genre_data_to_pandas(data=\"train\")"
   ]
  },
  {
   "cell_type": "code",
   "execution_count": null,
   "id": "9a74f481",
   "metadata": {},
   "outputs": [],
   "source": [
    "df['text'] = df['document_id'].apply(lambda x: puhti_files.read_text_file(x))"
   ]
  },
  {
   "cell_type": "code",
   "execution_count": 12,
   "id": "89524003",
   "metadata": {},
   "outputs": [
    {
     "data": {
      "text/plain": [
       "0        OBSERVATIONS\\n\\nON THE\\nNATURE AND CURE\\n\\nO F...\n",
       "1        COLLECTION\\n\\n. /\\n\\n0 F\\n\\nPARLIAMENTARY\\n\\nD...\n",
       "2        THE\\nT H PI\\nN & B 0 B;\\n\\nA COMEDY.\\nWRITTEN ...\n",
       "3        COLLECTION\\n\\nOf all the\\nAddresses, &'c.\\n\\nO...\n",
       "4        \"39$^\\nF -A\\n\\nC\\n*i:; u\"s D'-Sr> TH\\n- .. .: ...\n",
       "                               ...                        \n",
       "24090    s U c\\n.\\n. c\\n^ ^^s te aithors we chute to ut...\n",
       "24091    /\\n\\nTHE /2\\nI'L' I A D :\\n\\na'i~.';i '· . .. ...\n",
       "24092    MODIS H WI F El\\n\\nA CO0 M E D Y,\\n\\nPRICi TwQ...\n",
       "24093    LilOMIIPO\\n\\nA\\nt>h,',/!,., .>' IL, .q...,J\\n\\...\n",
       "24094    HENRY the SECOND,\\n\\n0 R, TH1\\nFAL.L\\n\\no F R0...\n",
       "Name: text, Length: 24095, dtype: object"
      ]
     },
     "execution_count": 12,
     "metadata": {},
     "output_type": "execute_result"
    }
   ],
   "source": [
    "df['text']"
   ]
  },
  {
   "cell_type": "code",
   "execution_count": 13,
   "id": "2130195c",
   "metadata": {},
   "outputs": [],
   "source": [
    "df['text'] = df['text'].str.lower()"
   ]
  },
  {
   "cell_type": "code",
   "execution_count": 14,
   "id": "64f680bd",
   "metadata": {},
   "outputs": [],
   "source": [
    "df['text'] = df[\"text\"].str.replace('\\s+', ' ', regex=True)"
   ]
  },
  {
   "cell_type": "code",
   "execution_count": null,
   "id": "780329e6",
   "metadata": {},
   "outputs": [],
   "source": [
    "df['text'] = df['text'].str.replace(r'[^A-Za-z0-9]+', ' ', regex=True)"
   ]
  },
  {
   "cell_type": "code",
   "execution_count": null,
   "id": "7c526e3a",
   "metadata": {},
   "outputs": [],
   "source": [
    "df['text'] = df[\"text\"].str.replace('\\s+', ' ', regex=True)"
   ]
  },
  {
   "cell_type": "code",
   "execution_count": null,
   "id": "6968cb73",
   "metadata": {},
   "outputs": [],
   "source": [
    "df['text'] = df['text'].str.replace('\\d+', '',regex=True)"
   ]
  },
  {
   "cell_type": "markdown",
   "id": "77d7ead4",
   "metadata": {},
   "source": [
    "## Metadata"
   ]
  },
  {
   "cell_type": "code",
   "execution_count": null,
   "id": "b38cbb06",
   "metadata": {},
   "outputs": [],
   "source": [
    "metadata = puhti_files.ecco_metadata_to_pandas()"
   ]
  },
  {
   "cell_type": "code",
   "execution_count": null,
   "id": "afb56b30",
   "metadata": {},
   "outputs": [],
   "source": [
    "metadata"
   ]
  },
  {
   "cell_type": "code",
   "execution_count": null,
   "id": "52c24c81",
   "metadata": {},
   "outputs": [],
   "source": [
    "dict_labels = puhti_files.labels_to_dict()"
   ]
  },
  {
   "cell_type": "code",
   "execution_count": null,
   "id": "8713bccc",
   "metadata": {},
   "outputs": [],
   "source": [
    "ecco_core = pd.read_sql_table(\"ecco_core\", con)"
   ]
  },
  {
   "cell_type": "code",
   "execution_count": null,
   "id": "da15e70c",
   "metadata": {},
   "outputs": [],
   "source": [
    "ecco_core.head()"
   ]
  },
  {
   "cell_type": "code",
   "execution_count": null,
   "id": "867a3527",
   "metadata": {},
   "outputs": [],
   "source": [
    "pd.merge(df, metadata, left_on='document_id', right_on='document_id_octavo')"
   ]
  },
  {
   "cell_type": "code",
   "execution_count": null,
   "id": "4260c4f2",
   "metadata": {},
   "outputs": [],
   "source": [
    "ecco_wdata = pd.merge(df, ecco_core, left_on='document_id', right_on='ecco_id')"
   ]
  },
  {
   "cell_type": "code",
   "execution_count": null,
   "id": "9ea7683e",
   "metadata": {},
   "outputs": [],
   "source": [
    "ecco_wdata['ecco_languge'].value_counts()"
   ]
  },
  {
   "cell_type": "code",
   "execution_count": null,
   "id": "dfb10835",
   "metadata": {},
   "outputs": [],
   "source": [
    "ecco_wdata[ecco_wdata['ecco_languge'] == 'English'].head()"
   ]
  },
  {
   "cell_type": "code",
   "execution_count": null,
   "id": "6491d7e8",
   "metadata": {},
   "outputs": [],
   "source": [
    "ecco_document_parts = pd.read_sql_table(\"ecco_document_parts\", con)"
   ]
  },
  {
   "cell_type": "code",
   "execution_count": null,
   "id": "d55a3d41",
   "metadata": {},
   "outputs": [],
   "source": [
    "ecco_document_parts.head()"
   ]
  },
  {
   "cell_type": "code",
   "execution_count": null,
   "id": "f31f774c",
   "metadata": {},
   "outputs": [],
   "source": [
    "ecco_wdata.head()"
   ]
  },
  {
   "cell_type": "code",
   "execution_count": null,
   "id": "deb5316d",
   "metadata": {},
   "outputs": [],
   "source": [
    "ecco_parts_data = pd.merge(ecco_wdata, ecco_document_parts, left_on='document_id', right_on='ecco_id')"
   ]
  },
  {
   "cell_type": "code",
   "execution_count": null,
   "id": "4e0de6a7",
   "metadata": {},
   "outputs": [],
   "source": [
    "ecco_parts_data['document_part_type'].value_counts()"
   ]
  },
  {
   "cell_type": "code",
   "execution_count": null,
   "id": "aed2ffc0",
   "metadata": {},
   "outputs": [],
   "source": [
    "ecco_parts_data[ecco_parts_data['document_part_type']=='body'].head()"
   ]
  },
  {
   "cell_type": "markdown",
   "id": "99652247",
   "metadata": {},
   "source": [
    "## Preprocessing \n",
    "\n",
    "This preprocessing will be done only over the text in english, so we can apply the stopwords and don't confuse the model with multiple languages."
   ]
  },
  {
   "cell_type": "code",
   "execution_count": null,
   "id": "320ff5d0",
   "metadata": {},
   "outputs": [],
   "source": [
    "english_docs = ecco_parts_data[(ecco_parts_data['ecco_languge'] == 'English') & (ecco_parts_data['document_part_type'] == 'body')]"
   ]
  },
  {
   "cell_type": "code",
   "execution_count": null,
   "id": "d7a17e27",
   "metadata": {},
   "outputs": [],
   "source": [
    "english_docs.shape"
   ]
  },
  {
   "cell_type": "code",
   "execution_count": null,
   "id": "4ac3ae0a",
   "metadata": {},
   "outputs": [],
   "source": [
    "def clean_text_tokens(text,tokenizer,stopwords):\n",
    "    tokens = tokenizer(text)\n",
    "    tokens = [t for t in tokens if len(t) > 1]  # Remove short tokens\n",
    "    tokens = [t for t in tokens if not t in stopwords]\n",
    "    #tokens = [\"\" if t.isdigit() else t for t in tokens]  # Remove digits\n",
    "    return tokens"
   ]
  },
  {
   "cell_type": "code",
   "execution_count": null,
   "id": "36e2a743",
   "metadata": {},
   "outputs": [],
   "source": [
    "def clean_text_gtext(text,tokenizer,stopwords):\n",
    "    tokens = tokenizer(text)\n",
    "    tokens = [t for t in tokens if len(t) > 2]  # Remove short tokens\n",
    "    tokens = [t for t in tokens if not t in stopwords]\n",
    "    \n",
    "    return \" \".join(tokens)"
   ]
  },
  {
   "cell_type": "code",
   "execution_count": null,
   "id": "6e376417",
   "metadata": {},
   "outputs": [],
   "source": [
    "stop_words = stopwords.words(\"english\")\n",
    "english_docs[\"clean_t\"] =english_docs[\"text\"].map(lambda x: clean_text_gtext(x, word_tokenize, stop_words))"
   ]
  },
  {
   "cell_type": "code",
   "execution_count": null,
   "id": "67c6e861",
   "metadata": {},
   "outputs": [],
   "source": [
    "from contextualized_topic_models.models.ctm import ZeroShotTM\n",
    "from contextualized_topic_models.utils.data_preparation import TopicModelDataPreparation\n",
    "from contextualized_topic_models.utils.preprocessing import WhiteSpacePreprocessingStopwords"
   ]
  },
  {
   "cell_type": "code",
   "execution_count": null,
   "id": "05fbdf12",
   "metadata": {},
   "outputs": [],
   "source": [
    "english_docs['text']"
   ]
  },
  {
   "cell_type": "code",
   "execution_count": null,
   "id": "ee7b81bc",
   "metadata": {},
   "outputs": [],
   "source": [
    "english_docs[\"clean_t\"]"
   ]
  },
  {
   "cell_type": "code",
   "execution_count": null,
   "id": "9b5372e8",
   "metadata": {},
   "outputs": [],
   "source": [
    "stop_words_l = stopwords.words(\"english\")\n",
    "#list(stop_words_l)"
   ]
  },
  {
   "cell_type": "code",
   "execution_count": null,
   "id": "da0c3dd6",
   "metadata": {},
   "outputs": [],
   "source": [
    "import os"
   ]
  },
  {
   "cell_type": "code",
   "execution_count": null,
   "id": "9c534b70",
   "metadata": {},
   "outputs": [],
   "source": [
    "os.name"
   ]
  },
  {
   "cell_type": "code",
   "execution_count": null,
   "id": "9c5e6dc5",
   "metadata": {},
   "outputs": [],
   "source": [
    "import platform"
   ]
  },
  {
   "cell_type": "code",
   "execution_count": null,
   "id": "87d1c161",
   "metadata": {},
   "outputs": [],
   "source": [
    "platform.system()"
   ]
  },
  {
   "cell_type": "code",
   "execution_count": null,
   "id": "f0710765",
   "metadata": {},
   "outputs": [],
   "source": [
    "platform.release()"
   ]
  },
  {
   "cell_type": "code",
   "execution_count": null,
   "id": "123de606",
   "metadata": {},
   "outputs": [],
   "source": [
    "!{sys.executable} -m pip show contextualized-topic-models"
   ]
  },
  {
   "cell_type": "code",
   "execution_count": null,
   "id": "dc90ae22",
   "metadata": {},
   "outputs": [],
   "source": [
    "!{sys.executable} -m pip show scikit-learn"
   ]
  },
  {
   "cell_type": "code",
   "execution_count": null,
   "id": "d3fffee0",
   "metadata": {},
   "outputs": [],
   "source": [
    "def create_chunks(row):\n",
    "    arr = row['clean_t'].split()\n",
    "    n = 256\n",
    "    chunks = [\" \".join(arr[i:i+n]) for i in range(0, len(arr), n)]\n",
    "    return pd.DataFrame({'chunk': chunks ,'document_id':row['document_id']})"
   ]
  },
  {
   "cell_type": "code",
   "execution_count": null,
   "id": "d914388f",
   "metadata": {},
   "outputs": [],
   "source": [
    "english_docs.to_csv(\"cleaned_text_dataframe.csv\",index=False)"
   ]
  },
  {
   "cell_type": "code",
   "execution_count": null,
   "id": "007f6e80",
   "metadata": {},
   "outputs": [],
   "source": [
    "english_docs = pd.read_csv(\"cleaned_text_dataframe.csv\")"
   ]
  },
  {
   "cell_type": "code",
   "execution_count": null,
   "id": "3eb825a7",
   "metadata": {},
   "outputs": [],
   "source": [
    "a = english_docs.apply(lambda x: create_chunks(x),axis=1)"
   ]
  },
  {
   "cell_type": "code",
   "execution_count": null,
   "id": "8a90d691",
   "metadata": {},
   "outputs": [],
   "source": [
    "chunks_df = pd.DataFrame()\n",
    "for i,row in a.items():\n",
    "    chunks_df = pd.concat([chunks_df,row])"
   ]
  },
  {
   "cell_type": "code",
   "execution_count": null,
   "id": "ba82ca2d",
   "metadata": {},
   "outputs": [],
   "source": [
    "chunks_df"
   ]
  },
  {
   "cell_type": "code",
   "execution_count": null,
   "id": "1e728db4",
   "metadata": {},
   "outputs": [],
   "source": [
    "from sklearn.feature_extraction.text import CountVectorizer\n",
    "import string\n",
    "from nltk.corpus import stopwords as stop_words\n",
    "from gensim.utils import deaccent"
   ]
  },
  {
   "cell_type": "code",
   "execution_count": null,
   "id": "ffe4a296",
   "metadata": {},
   "outputs": [],
   "source": [
    "documents = chunks_df[\"chunk\"].tolist()\n",
    "stopwords_set = set(list(stop_words_l))\n",
    "vocabulary_size = 2000\n",
    "max_df = 1.0\n",
    "min_words = 1\n",
    "remove_numbers = True"
   ]
  },
  {
   "cell_type": "code",
   "execution_count": null,
   "id": "d7417160",
   "metadata": {},
   "outputs": [],
   "source": [
    "def preprocess():\n",
    "    \"\"\"\n",
    "    Note that if after filtering some documents do not contain words we remove them. That is why we return also the\n",
    "    list of unpreprocessed documents.\n",
    "    :return: preprocessed documents, unpreprocessed documents and the vocabulary list\n",
    "    \"\"\"\n",
    "    preprocessed_docs_tmp = documents\n",
    "    preprocessed_docs_tmp = [deaccent(doc.lower()) for doc in preprocessed_docs_tmp]\n",
    "    preprocessed_docs_tmp = [doc.translate(\n",
    "        str.maketrans(string.punctuation, ' ' * len(string.punctuation))) for doc in preprocessed_docs_tmp]\n",
    "    if remove_numbers:\n",
    "        preprocessed_docs_tmp = [doc.translate(str.maketrans(\"0123456789\", ' ' * len(\"0123456789\")))\n",
    "                                 for doc in preprocessed_docs_tmp]\n",
    "    preprocessed_docs_tmp = [' '.join([w for w in doc.split() if len(w) > 0 and w not in stopwords_set])\n",
    "                             for doc in preprocessed_docs_tmp]\n",
    "\n",
    "    vectorizer = CountVectorizer(max_features=vocabulary_size, max_df=max_df)\n",
    "    vectorizer.fit_transform(preprocessed_docs_tmp)\n",
    "    temp_vocabulary = set(vectorizer.get_feature_names_out())\n",
    "\n",
    "    preprocessed_docs_tmp = [' '.join([w for w in doc.split() if w in temp_vocabulary])\n",
    "                             for doc in preprocessed_docs_tmp]\n",
    "\n",
    "    preprocessed_docs, unpreprocessed_docs, retained_indices = [], [], []\n",
    "    for i, doc in enumerate(preprocessed_docs_tmp):\n",
    "        if len(doc) > 0 and len(doc) >= min_words:\n",
    "            preprocessed_docs.append(doc)\n",
    "            unpreprocessed_docs.append(documents[i])\n",
    "            retained_indices.append(i)\n",
    "\n",
    "    vocabulary = list(set([item for doc in preprocessed_docs for item in doc.split()]))\n",
    "\n",
    "    return preprocessed_docs, unpreprocessed_docs, vocabulary, retained_indices"
   ]
  },
  {
   "cell_type": "code",
   "execution_count": null,
   "id": "44654f33",
   "metadata": {},
   "outputs": [],
   "source": [
    "#sp = WhiteSpacePreprocessingStopwords(english_docs[\"clean_t\"].tolist(), stopwords_list=list(stop_words_l))\n",
    "preprocessed_documents, unpreprocessed_corpus, vocab, retained_indices = preprocess()"
   ]
  },
  {
   "cell_type": "code",
   "execution_count": null,
   "id": "099e026f",
   "metadata": {},
   "outputs": [],
   "source": [
    "#stop_words = stopwords.words(\"english\")\n",
    "#english_docs[\"tokens\"] =english_docs[\"text\"].map(lambda x: clean_text(x, word_tokenize, stop_words))"
   ]
  },
  {
   "cell_type": "code",
   "execution_count": null,
   "id": "faca20f1",
   "metadata": {},
   "outputs": [],
   "source": [
    "preprocessed_documents[:1]"
   ]
  },
  {
   "cell_type": "code",
   "execution_count": null,
   "id": "2e951dae",
   "metadata": {},
   "outputs": [],
   "source": [
    "vocab[:10]"
   ]
  },
  {
   "cell_type": "code",
   "execution_count": null,
   "id": "fd987174",
   "metadata": {},
   "outputs": [],
   "source": [
    "unpreprocessed_corpus"
   ]
  },
  {
   "cell_type": "code",
   "execution_count": null,
   "id": "dd6e5b71",
   "metadata": {},
   "outputs": [],
   "source": [
    "len(unpreprocessed_corpus)"
   ]
  },
  {
   "cell_type": "code",
   "execution_count": null,
   "id": "dc4b26e3",
   "metadata": {},
   "outputs": [],
   "source": [
    "len(preprocessed_documents)"
   ]
  },
  {
   "cell_type": "code",
   "execution_count": null,
   "id": "4ad8dcd7",
   "metadata": {},
   "outputs": [],
   "source": [
    "from contextualized_topic_models.models.ctm import CombinedTM\n",
    "from contextualized_topic_models.utils.data_preparation import TopicModelDataPreparation\n",
    "from contextualized_topic_models.utils.data_preparation import bert_embeddings_from_file"
   ]
  },
  {
   "cell_type": "code",
   "execution_count": null,
   "id": "4b3b97a1",
   "metadata": {},
   "outputs": [],
   "source": [
    "tp = TopicModelDataPreparation(\"paraphrase-distilroberta-base-v2\")\n",
    "\n",
    "training_dataset = tp.fit(text_for_contextual=unpreprocessed_corpus[:59831], text_for_bow=preprocessed_documents[:59831])"
   ]
  },
  {
   "cell_type": "code",
   "execution_count": null,
   "id": "87432b4b",
   "metadata": {},
   "outputs": [],
   "source": [
    "tp.vocab[:10]"
   ]
  },
  {
   "cell_type": "code",
   "execution_count": null,
   "id": "7cbd6dce",
   "metadata": {},
   "outputs": [],
   "source": [
    "qt = tp"
   ]
  },
  {
   "cell_type": "code",
   "execution_count": null,
   "id": "66835137",
   "metadata": {},
   "outputs": [],
   "source": [
    "#ctm = ZeroShotTM(bow_size=len(tp.vocab), contextual_size=768, n_components=15, num_epochs=20)\n",
    "ctm = CombinedTM(bow_size=len(qt.vocab), contextual_size=768, n_components=10, num_epochs=20) # 50 topics\n",
    "ctm.fit(training_dataset) # run the model"
   ]
  },
  {
   "cell_type": "code",
   "execution_count": null,
   "id": "75a30a73",
   "metadata": {},
   "outputs": [],
   "source": [
    "doc_topic_dist = ctm.get_doc_topic_distribution(training_dataset)"
   ]
  },
  {
   "cell_type": "code",
   "execution_count": null,
   "id": "a618f7f4",
   "metadata": {},
   "outputs": [],
   "source": [
    "ctm.get_most_likely_topic(doc_topic_dist)"
   ]
  },
  {
   "cell_type": "code",
   "execution_count": null,
   "id": "cbaab3af",
   "metadata": {},
   "outputs": [],
   "source": [
    "ctm.get_topics()"
   ]
  },
  {
   "cell_type": "code",
   "execution_count": null,
   "id": "d0452cf1",
   "metadata": {},
   "outputs": [],
   "source": [
    "ctm.get_topic_lists(5)"
   ]
  },
  {
   "cell_type": "code",
   "execution_count": null,
   "id": "48740d6d",
   "metadata": {},
   "outputs": [],
   "source": [
    "lda_vis_data = ctm.get_ldavis_data_format(tp.vocab, training_dataset,200)"
   ]
  },
  {
   "cell_type": "code",
   "execution_count": null,
   "id": "af8aaabf",
   "metadata": {},
   "outputs": [],
   "source": [
    "import pyLDAvis as vis\n",
    "movies_pd = vis.prepare(**lda_vis_data)\n",
    "vis.display(movies_pd)"
   ]
  },
  {
   "cell_type": "code",
   "execution_count": null,
   "id": "bbe467ec",
   "metadata": {},
   "outputs": [],
   "source": [
    "topics_predictions = ctm.get_thetas(training_dataset, n_samples=5) "
   ]
  },
  {
   "cell_type": "code",
   "execution_count": null,
   "id": "8359a139",
   "metadata": {},
   "outputs": [],
   "source": [
    "preprocessed_documents[0]"
   ]
  },
  {
   "cell_type": "code",
   "execution_count": null,
   "id": "7e415c15",
   "metadata": {},
   "outputs": [],
   "source": [
    "import numpy as np\n",
    "topic_number = np.argmax(topics_predictions[0])"
   ]
  },
  {
   "cell_type": "code",
   "execution_count": null,
   "id": "4432b8dd",
   "metadata": {},
   "outputs": [],
   "source": [
    "ctm.get_topic_lists(5)[topic_number]"
   ]
  },
  {
   "cell_type": "code",
   "execution_count": null,
   "id": "b0adfc0a",
   "metadata": {},
   "outputs": [],
   "source": [
    "preprocessed_documents[0],chunks_df.iloc[0]['chunk']"
   ]
  },
  {
   "cell_type": "code",
   "execution_count": null,
   "id": "7b5961e5",
   "metadata": {},
   "outputs": [],
   "source": [
    "chunks_df.iloc[0]['document_id']"
   ]
  },
  {
   "cell_type": "code",
   "execution_count": null,
   "id": "f2e20f91",
   "metadata": {},
   "outputs": [],
   "source": [
    "english_docs[english_docs['document_id'] == '1243400400']"
   ]
  },
  {
   "cell_type": "code",
   "execution_count": null,
   "id": "9e2333b3",
   "metadata": {},
   "outputs": [],
   "source": [
    "english_docs['document_id'].unique()"
   ]
  },
  {
   "cell_type": "code",
   "execution_count": null,
   "id": "ca89cfb6",
   "metadata": {},
   "outputs": [],
   "source": [
    "chunks_df.reset_index(drop = True,inplace=True)"
   ]
  },
  {
   "cell_type": "code",
   "execution_count": null,
   "id": "2b58b41b",
   "metadata": {},
   "outputs": [],
   "source": [
    "unique_ids = chunks_df.iloc[:59831]['document_id'].unique()"
   ]
  },
  {
   "cell_type": "code",
   "execution_count": null,
   "id": "fad5ed39",
   "metadata": {},
   "outputs": [],
   "source": [
    "top = []\n",
    "for i in unique_ids:\n",
    "    idx = chunks_df[chunks_df['document_id'] == i].index\n",
    "    idx = idx[idx < 59831]\n",
    "    top.append(np.argmax(topics_predictions[idx],axis=1))"
   ]
  },
  {
   "cell_type": "code",
   "execution_count": null,
   "id": "74ebf75c",
   "metadata": {},
   "outputs": [],
   "source": [
    "topicos = []\n",
    "for i in top:\n",
    "    topi, count = np.unique(i, return_counts=True)\n",
    "    topicos.append(topi[np.argmax(count)])"
   ]
  },
  {
   "cell_type": "code",
   "execution_count": null,
   "id": "1875853f",
   "metadata": {},
   "outputs": [],
   "source": [
    "english_docs[english_docs['document_id'].isin(unique_ids)]['main_category'].value_counts()"
   ]
  },
  {
   "cell_type": "code",
   "execution_count": null,
   "id": "01a62505",
   "metadata": {},
   "outputs": [],
   "source": [
    "topicos"
   ]
  },
  {
   "cell_type": "code",
   "execution_count": null,
   "id": "09a2142d",
   "metadata": {},
   "outputs": [],
   "source": [
    "chunks_df[chunks_df['document_id'] == unique_ids[-1]].index.shape"
   ]
  },
  {
   "cell_type": "code",
   "execution_count": null,
   "id": "38f97bbe",
   "metadata": {},
   "outputs": [],
   "source": [
    "idx.shape"
   ]
  },
  {
   "cell_type": "code",
   "execution_count": null,
   "id": "317af792",
   "metadata": {},
   "outputs": [],
   "source": []
  }
 ],
 "metadata": {
  "kernelspec": {
   "display_name": "Python 3",
   "language": "python",
   "name": "python3"
  },
  "language_info": {
   "codemirror_mode": {
    "name": "ipython",
    "version": 3
   },
   "file_extension": ".py",
   "mimetype": "text/x-python",
   "name": "python",
   "nbconvert_exporter": "python",
   "pygments_lexer": "ipython3",
   "version": "3.10.9"
  }
 },
 "nbformat": 4,
 "nbformat_minor": 5
}
