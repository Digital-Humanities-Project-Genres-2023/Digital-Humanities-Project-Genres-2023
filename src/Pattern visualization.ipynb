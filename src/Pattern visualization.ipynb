{
 "cells": [
  {
   "cell_type": "code",
   "execution_count": null,
   "id": "35b0fd58",
   "metadata": {},
   "outputs": [],
   "source": [
    "def book_pattern_vis(id, chunksize=512, ybottom=0):\n",
    "    #We need to identify the age of the book to use the correct model. Extract year from metadata\n",
    "    import csv\n",
    "    with open('/scratch/project_2007227/genre_data/ecco_metadata.tsv', 'r') as tsv_file:\n",
    "        reader = csv.DictReader(tsv_file, delimiter='\\t')\n",
    "        for row in reader:\n",
    "            if row['document_id_octavo'] == str(id):\n",
    "                year = int(row['publication_year'])\n",
    "    \n",
    "    #if the book is from earlier era than 1720, gives erros since we don't have model from that era.\n",
    "    if year < 1720:\n",
    "        print('Publication year of the document is not included in the models, please try another document.')\n",
    "        return True\n",
    "    \n",
    "    #if the book is ok, we need to first preprocess the document for the model\n",
    "    from contextualized_topic_models.models.ctm import ZeroShotTM\n",
    "    from contextualized_topic_models.utils.data_preparation import TopicModelDataPreparation\n",
    "    from contextualized_topic_models.utils.preprocessing import WhiteSpacePreprocessingStopwords\n",
    "    import nltk\n",
    "    from nltk.corpus import stopwords as stop_words\n",
    "    \n",
    "    \n",
    "    #First divide the text into chunks\n",
    "    with open('/scratch/project_2007227/genre_data/ecco_source/'+str(id)+'.txt', 'r') as f:\n",
    "        lines = f.readlines()\n",
    "    \n",
    "    num_lines = len(lines)\n",
    "    text = \" \".join(lines)\n",
    "    new_text = '\\n'.join([text[i:i+chunksize] for i in range(0, len(text), chunksize)])\n",
    "    \n",
    "    with open('/scratch/project_2007227/genre_data/chunk512/'+str(id)+'512.txt', 'w') as f:\n",
    "        f.write(new_text)\n",
    "              \n",
    "    nltk.download('stopwords')\n",
    "    text_file = '/scratch/project_2007227/genre_data/chunk512/'+str(id)+'512.txt'\n",
    "    documents = [line.strip() for line in open(text_file, encoding=\"utf-8\").readlines()[0:num_lines]]\n",
    "\n",
    "    stopwords = list(stop_words.words(\"english\"))\n",
    "\n",
    "    sp = WhiteSpacePreprocessingStopwords(documents, stopwords_list=stopwords)\n",
    "    preprocessed_documents, unpreprocessed_corpus, vocab, retained_indices = sp.preprocess()\n",
    "    \n",
    "    import pickle\n",
    "    tp = TopicModelDataPreparation(\"paraphrase-multilingual-mpnet-base-v2\")\n",
    "    processed_data= tp.fit(text_for_contextual=unpreprocessed_corpus, text_for_bow=preprocessed_documents)\n",
    "    \n",
    "    #Nextly we fetch the model that corresponds to the publication year\n",
    "    modelnumber = ((year // 10) % 10)-2\n",
    "    \n",
    "    with open('/scratch/project_2007227/genre_data/Digital-Humanities-Project-Genres-2023/src/tp_models/tp_model'+str(modelnumber)+'.pickle', 'rb') as tpmodel:\n",
    "        tpmodeli = pickle.load(tpmodel)\n",
    "    ctm = ZeroShotTM(bow_size=len(tpmodeli.vocab), contextual_size=768, n_components=10, num_epochs=20)\n",
    "    ctm.load(\"/scratch/project_2007227/genre_data/Digital-Humanities-Project-Genres-2023/src/ctm_models\"+str(modelnumber)+\"/contextualized_topic_model_nc_10_tpm_0.0_tpv_0.9_hs_prodLDA_ac_(100, 100)_do_softplus_lr_0.2_mo_0.002_rp_0.99\",\n",
    "                                                                                                          epoch=19)\n",
    "    pred_model = ctm.get_thetas(processed_data, n_samples=20) \n",
    "    \n",
    "    import matplotlib.pyplot as plt\n",
    "    plt.plot(pred_model, '.')\n",
    "    plt.ylim((ybottom,1))\n",
    "    plt.title('Sequential genre prediction for document '+str(id)+' in with 512 token chunks')"
   ]
  },
  {
   "cell_type": "code",
   "execution_count": null,
   "id": "61f088f3",
   "metadata": {
    "tags": []
   },
   "outputs": [],
   "source": [
    "book_pattern_vis(1307301100)\n",
    "#Currently the method doesn't support ids starting with 0, to address this feel free to modify str<->int in the code, "
   ]
  },
  {
   "cell_type": "code",
   "execution_count": null,
   "id": "eadfb870",
   "metadata": {},
   "outputs": [],
   "source": []
  }
 ],
 "metadata": {
  "kernelspec": {
   "display_name": "Python 3 (ipykernel)",
   "language": "python",
   "name": "python3"
  },
  "language_info": {
   "codemirror_mode": {
    "name": "ipython",
    "version": 3
   },
   "file_extension": ".py",
   "mimetype": "text/x-python",
   "name": "python",
   "nbconvert_exporter": "python",
   "pygments_lexer": "ipython3",
   "version": "3.9.13"
  }
 },
 "nbformat": 4,
 "nbformat_minor": 5
}
