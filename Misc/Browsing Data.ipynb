{
 "cells": [
  {
   "cell_type": "code",
   "execution_count": 1,
   "id": "9d0d7324-3044-45eb-8928-015103f95b4b",
   "metadata": {},
   "outputs": [],
   "source": [
    "#Some functions on how to browse the included data"
   ]
  },
  {
   "cell_type": "code",
   "execution_count": 2,
   "id": "4ace5f2d-0e93-4c5f-a8ac-5c31f98db1a6",
   "metadata": {},
   "outputs": [
    {
     "name": "stdout",
     "output_type": "stream",
     "text": [
      "dev.csv\n",
      "Digital-Humanities-Project-Genres-2023\n",
      "ecco_metadata.tsv\n",
      "ecco_source\n",
      "ecco_subset\n",
      "ida_data\n",
      "labels_set.json\n",
      "readme.txt\n",
      "test.csv\n",
      "train.csv\n",
      "Untitled.ipynb\n"
     ]
    }
   ],
   "source": [
    "%%sh\n",
    "#Project files\n",
    "ls /scratch/project_2007227/genre_data/"
   ]
  },
  {
   "cell_type": "code",
   "execution_count": 41,
   "id": "8f72b31a-4bb3-471f-bb69-71d0a13645fc",
   "metadata": {},
   "outputs": [
    {
     "name": "stdout",
     "output_type": "stream",
     "text": [
      "184K\t/scratch/project_2007227/genre_data/dev.csv\n",
      "16M\t/scratch/project_2007227/genre_data/ecco_metadata.tsv\n",
      "4.0K\t/scratch/project_2007227/genre_data/labels_set.json\n",
      "4.0K\t/scratch/project_2007227/genre_data/readme.txt\n",
      "184K\t/scratch/project_2007227/genre_data/test.csv\n",
      "1.5M\t/scratch/project_2007227/genre_data/train.csv\n"
     ]
    }
   ],
   "source": [
    "%%sh\n",
    "#File sizes\n",
    "du -h /scratch/project_2007227/genre_data/dev.csv\n",
    "du -h /scratch/project_2007227/genre_data/ecco_metadata.tsv\n",
    "du -h /scratch/project_2007227/genre_data/labels_set.json\n",
    "du -h /scratch/project_2007227/genre_data/readme.txt\n",
    "du -h /scratch/project_2007227/genre_data/test.csv\n",
    "du -h /scratch/project_2007227/genre_data/train.csv"
   ]
  },
  {
   "cell_type": "code",
   "execution_count": 42,
   "id": "7dccbea8-6fa2-4b1b-b453-73f935bf018a",
   "metadata": {},
   "outputs": [
    {
     "name": "stdout",
     "output_type": "stream",
     "text": [
      "17G\t/scratch/project_2007227/genre_data/ecco_subset\n"
     ]
    }
   ],
   "source": [
    "%%sh\n",
    "#Size of ecco_subset (takes a while to calculate)\n",
    "du -h /scratch/project_2007227/genre_data/ecco_subset"
   ]
  },
  {
   "cell_type": "code",
   "execution_count": 43,
   "id": "a8f816b1-9c44-4776-97b6-baf37c065d49",
   "metadata": {},
   "outputs": [
    {
     "name": "stdout",
     "output_type": "stream",
     "text": [
      "57G\t/scratch/project_2007227/genre_data/ecco_source\n"
     ]
    }
   ],
   "source": [
    "%%sh\n",
    "#Takes even more to calculate\n",
    "du -h /scratch/project_2007227/genre_data/ecco_source"
   ]
  },
  {
   "cell_type": "code",
   "execution_count": 28,
   "id": "be7f82cf-93e1-4289-9e74-e6e955636c4e",
   "metadata": {},
   "outputs": [
    {
     "name": "stdout",
     "output_type": "stream",
     "text": [
      "genre data of book-level: train.csv dev.csv test.csv (the label's id can be mapped into text by using the labels_set.json)\n",
      "mapping table from label text to id: labels_set.json\n",
      "meta data (year, author, ...): ecco_metadata.tsv\n",
      "ecco txt files:  ecco_source (this dir contains all files of ecco data), for train.csv, you can get all txt files from this dir by id.\n",
      "!!!!!!!!! ecco_source/ is a dir which contain a lot of txt files, you can use the subset dir ecco_subset \n"
     ]
    }
   ],
   "source": [
    "%%sh\n",
    "#Readme\n",
    "cat /scratch/project_2007227/genre_data/readme.txt"
   ]
  },
  {
   "cell_type": "code",
   "execution_count": 30,
   "id": "4670b54f-8815-4598-9cb3-a108b3916f6e",
   "metadata": {},
   "outputs": [
    {
     "name": "stdout",
     "output_type": "stream",
     "text": [
      "{\"main2id\": {\"Arts\": 0, \"Scientific Improvement\": 1, \"Literature\": 2, \"Education\": 3, \"History\": 4, \"Law\": 5, \"Sales Catalogues\": 6, \"Politics\": 7, \"Philosophy\": 8, \"Religion\": 9}, \"sub2id\": {\"artstheatreplaysopera\": 0, \"artsmusichymnssongsetc\": 1, \"artsfineartandaesthetics\": 2, \"scientificimprovementlanguages\": 3, \"literaturedrama\": 4, \"educationgeneral\": 5, \"educationadviceliterature\": 6, \"scientificimprovementgeographycartographyastronomyandnavigation\": 7, \"educationinstructionalbooks\": 8, \"historygeneral\": 9, \"historybiographicalhistory\": 10, \"lawacts\": 11, \"lawtrialaccounts\": 12, \"lawcollectionsbills\": 13, \"lawessays\": 14, \"lawappeals\": 15, \"lawproclamations\": 16, \"literaturepoetry\": 17, \"literatureotherfiction\": 18, \"literaturetravel\": 19, \"literatureperiodicals\": 20, \"literaturecollectedworks\": 21, \"literaturenovels\": 22, \"literaturecriticism\": 23, \"literatureclassics\": 24, \"salecataloguesalmanacsdirectoriesetc\": 25, \"religionsermons\": 26, \"politicspoliticalessaysplans\": 27, \"scientificimprovementnaturalphilosophy\": 28, \"religiontheology\": 29, \"philosophymoralphilosophy\": 30, \"philosophypoliticalphilosophy\": 31, \"philosophyhumanunderstandinglogicmetaphysicsetc\": 32, \"politicsintelligence\": 33, \"politicsparliamentaryspeeches\": 34, \"scientificimprovementmedicineandanatomy\": 35, \"scientificimprovementagricultureanimalhusbandry\": 36, \"scientificimprovementpracticaltradesmechanicsengineering\": 37, \"scientificimprovementnaturalhistory\": 38, \"scientificimprovementeconomyandtrade\": 39, \"scientificimprovementmathematics\": 40, \"educationhobbiesgames\": 41, \"educationrecipebooks\": 42}, \"sub2main\": {\"2\": \"0\", \"1\": \"0\", \"0\": \"0\", \"6\": \"3\", \"5\": \"3\", \"42\": \"3\", \"41\": \"3\", \"8\": \"3\", \"10\": \"4\", \"9\": \"4\", \"11\": \"5\", \"15\": \"5\", \"13\": \"5\", \"14\": \"5\", \"16\": \"5\", \"12\": \"5\", \"24\": \"2\", \"21\": \"2\", \"23\": \"2\", \"4\": \"2\", \"22\": \"2\", \"18\": \"2\", \"20\": \"2\", \"17\": \"2\", \"19\": \"2\", \"32\": \"8\", \"30\": \"8\", \"31\": \"8\", \"27\": \"7\", \"33\": \"7\", \"34\": \"7\", \"26\": \"9\", \"29\": \"9\", \"25\": \"6\", \"36\": \"1\", \"39\": \"1\", \"7\": \"1\", \"3\": \"1\", \"40\": \"1\", \"35\": \"1\", \"38\": \"1\", \"28\": \"1\", \"37\": \"1\"}}"
     ]
    }
   ],
   "source": [
    "%%sh\n",
    "#The labels\n",
    "head -n 10 /scratch/project_2007227/genre_data/labels_set.json"
   ]
  },
  {
   "cell_type": "code",
   "execution_count": 3,
   "id": "fcacd21a-b22c-4bfc-a545-125155911dcc",
   "metadata": {},
   "outputs": [
    {
     "name": "stdout",
     "output_type": "stream",
     "text": [
      "document_id,work_id,main_category,sub_category\n",
      "1243400400,X-biographical sketches of some of the leading men at present at the head of affairs in france,4,10\n",
      "1588400300,19754-rudiments and practical exercises for learning french language,1,3\n",
      "1628902300,1-liturgies,9,29\n",
      "1404100101,1519-new history of holy bible,4,9\n"
     ]
    }
   ],
   "source": [
    "%%sh\n",
    "head -n 5 /scratch/project_2007227/genre_data/dev.csv"
   ]
  },
  {
   "cell_type": "code",
   "execution_count": 5,
   "id": "56fb5b8a-afa0-4812-9a70-3731fc67989a",
   "metadata": {},
   "outputs": [
    {
     "name": "stdout",
     "output_type": "stream",
     "text": [
      "document_id_octavo\tpublication_year\tgatherings\ttotal_price\tpublication_place\tauthor_id\tother_actors\n",
      "0000100100\t1723\t12mo\tNA\tLondon\t98354271\tbbti_77907; bbti_72802; 51557323\n",
      "0000100200\t1733\t8vo\tNA\tLondon\t76461649\t66340504; bbti_51500; 68786630\n",
      "0000100300\t1765\t12mo\tNA\tLondon\t46318688\tbbti_112410; bbti_26196\n",
      "0000100400\t1720\t12mo\tNA\tLondon\t67409380\tbbti_4638; bbti_70361\n"
     ]
    }
   ],
   "source": [
    "%%sh\n",
    "head -n 5 /scratch/project_2007227/genre_data/ecco_metadata.tsv"
   ]
  },
  {
   "cell_type": "code",
   "execution_count": 7,
   "id": "dc2612a5-3cfc-40fc-977a-504dd35da1a0",
   "metadata": {},
   "outputs": [
    {
     "name": "stdout",
     "output_type": "stream",
     "text": [
      "472K\t/scratch/project_2007227/genre_data/ecco_source/0000100100.txt\n",
      "476K\t/scratch/project_2007227/genre_data/ecco_source/0000100200.txt\n",
      "252K\t/scratch/project_2007227/genre_data/ecco_source/0000100300.txt\n",
      "188K\t/scratch/project_2007227/genre_data/ecco_source/0000100400.txt\n",
      "560K\t/scratch/project_2007227/genre_data/ecco_source/0000100501.txt\n",
      "316K\t/scratch/project_2007227/genre_data/ecco_source/0000100502.txt\n",
      "24K\t/scratch/project_2007227/genre_data/ecco_source/0000100600.txt\n",
      "216K\t/scratch/project_2007227/genre_data/ecco_source/0000100701.txt\n",
      "216K\t/scratch/project_2007227/genre_data/ecco_source/0000100702.txt\n",
      "124K\t/scratch/project_2007227/genre_data/ecco_source/0000100800.txt\n"
     ]
    }
   ],
   "source": [
    "%%sh\n",
    "#Checking File Sizes\n",
    "ls /scratch/project_2007227/genre_data/ecco_source/ | head -n 10 | xargs -I {} du -h /scratch/project_2007227/genre_data/ecco_source/{}"
   ]
  },
  {
   "cell_type": "code",
   "execution_count": 8,
   "id": "534168e9-e136-4afd-baf2-b4580d76fa71",
   "metadata": {},
   "outputs": [
    {
     "name": "stdout",
     "output_type": "stream",
     "text": [
      "ó'.. - ó4~~4S' (&§'{t >W\n",
      "/J$4 47A;;\n",
      "IM:\n",
      "Yr;\n",
      "\n",
      "K\n",
      "\n",
      "* *\n",
      "\n",
      ".e ~ ~ ~ ~ - C 1t .q\n",
      "\n",
      "v\" , W \"JT H E\n",
      "SECRET HISTORY\n",
      "\n",
      "O F\n",
      "BURGUNDY:\n",
      "\n",
      "/i- O R.\n",
      "The Amorous and Political\n",
      "\n",
      "INTRIGUES of CHARLES\n",
      "Duke of Surgundy, and Louis XI.\n",
      "of France.\n",
      "\n",
      "THE\n",
      "Loves and Misfortunes of the PRINCESS\n",
      "\n",
      "of BURGUNDY, and of the COUNT\n",
      "D'ANGOLESME; of the QUEEN of\n",
      "FRANCE, and the DUKE of CALABRIA.\n",
      "\n",
      "W ITH\n",
      "The Histories of COMINES, of SOVEREIGN)\n",
      "\n",
      "and Po L IG N AC; and the Unfortunate\n",
      "Death of the A.RCHDUTCHESS of\n",
      "AUSTRIA.\n",
      "9, L II .I\n",
      "_aitl.slly Colleted by a ~Peryon of uarlity\n",
      "\n",
      "of the French Court, and now firy done\n",
      "into Englilh.\n",
      "\n",
      "LO N ) ON:\n",
      "Printed for J. WALTHOE .un. over-againft\n",
      "\n",
      "the Royal-Exchange; T. W o D W A RD,\n",
      "at the Half-MIoon againlt St. sDuffan's\n",
      "Church, Fleetfireet; and Siod by T. WARIk\n",
      "NER, at the Slack-DSoy in Pter.-nofljr-\n"
     ]
    }
   ],
   "source": [
    "%%sh\n",
    "#Checking whats in a text... increace -n param the get more\n",
    "head -n 50 /scratch/project_2007227/genre_data/ecco_source/0000100100.txt"
   ]
  }
 ],
 "metadata": {
  "kernelspec": {
   "display_name": "Python 3 (ipykernel)",
   "language": "python",
   "name": "python3"
  },
  "language_info": {
   "codemirror_mode": {
    "name": "ipython",
    "version": 3
   },
   "file_extension": ".py",
   "mimetype": "text/x-python",
   "name": "python",
   "nbconvert_exporter": "python",
   "pygments_lexer": "ipython3",
   "version": "3.10.9"
  }
 },
 "nbformat": 4,
 "nbformat_minor": 5
}
