{
 "cells": [
  {
   "cell_type": "code",
   "execution_count": 1,
   "id": "dafbb631",
   "metadata": {},
   "outputs": [],
   "source": [
    "import numpy as np\n",
    "import os\n",
    "import pandas as pd"
   ]
  },
  {
   "cell_type": "code",
   "execution_count": 2,
   "id": "e5ac78d6",
   "metadata": {},
   "outputs": [],
   "source": [
    "import sys\n",
    "sys.path.append(\"../\")\n",
    "from src import puhti_files, mariadb_data"
   ]
  },
  {
   "cell_type": "code",
   "execution_count": 3,
   "id": "42edeb90",
   "metadata": {},
   "outputs": [],
   "source": [
    "SEED = 42\n",
    "np.random.seed(SEED)\n",
    "os.environ[\"PYTHONHASHSEED\"] = str(SEED)\n",
    "np.random.seed(SEED)"
   ]
  },
  {
   "cell_type": "code",
   "execution_count": 4,
   "id": "4f815b21",
   "metadata": {},
   "outputs": [
    {
     "name": "stdout",
     "output_type": "stream",
     "text": [
      "Read in dataset train.csv. Set param 'data' to 'dev', 'test' or 'train' if you want another dataset.\n"
     ]
    }
   ],
   "source": [
    "df = puhti_files.genre_data_to_pandas(data=\"train\", add_labels=True, merge_ecco=True, better_subcat_names=True)\n",
    "df = df.drop_duplicates(subset='document_id', keep=\"first\")\n",
    "df['decade'] = df['publication_year'].apply(lambda x: int(str(x)[:-1]+'0'))\n",
    "df.drop(['total_price'],axis=1,inplace=True)"
   ]
  },
  {
   "cell_type": "code",
   "execution_count": 7,
   "id": "c8d36a24",
   "metadata": {},
   "outputs": [
    {
     "data": {
      "text/plain": [
       "1770    4440\n",
       "1790    4131\n",
       "1780    3945\n",
       "1760    3250\n",
       "1750    2619\n",
       "1740    1682\n",
       "1730    1473\n",
       "1720    1068\n",
       "1710     731\n",
       "1700     434\n",
       "1800     320\n",
       "1680       2\n",
       "Name: decade, dtype: int64"
      ]
     },
     "execution_count": 7,
     "metadata": {},
     "output_type": "execute_result"
    }
   ],
   "source": [
    "df['decade'].value_counts()"
   ]
  },
  {
   "cell_type": "code",
   "execution_count": 8,
   "id": "b5742359",
   "metadata": {},
   "outputs": [],
   "source": [
    "ecco_core = mariadb_data.get_table_data(\"ecco_core\")"
   ]
  },
  {
   "cell_type": "code",
   "execution_count": 11,
   "id": "c0c9cd9e",
   "metadata": {},
   "outputs": [],
   "source": [
    "df = pd.merge(df, ecco_core, left_on='document_id', right_on='ecco_id')"
   ]
  },
  {
   "cell_type": "code",
   "execution_count": 12,
   "id": "e896552c",
   "metadata": {},
   "outputs": [],
   "source": [
    "ecco_document_parts = mariadb_data.get_table_data(\"ecco_document_parts\")"
   ]
  },
  {
   "cell_type": "code",
   "execution_count": 13,
   "id": "ea357608",
   "metadata": {},
   "outputs": [],
   "source": [
    "df = pd.merge(df, ecco_document_parts, left_on='document_id', right_on='ecco_id')"
   ]
  },
  {
   "cell_type": "code",
   "execution_count": 22,
   "id": "bba4864c",
   "metadata": {},
   "outputs": [],
   "source": [
    "df = df[(df['ecco_languge'] == 'English') & (df['document_part_type'] == 'body')]"
   ]
  },
  {
   "cell_type": "code",
   "execution_count": 23,
   "id": "e5b8c7d5",
   "metadata": {},
   "outputs": [
    {
     "data": {
      "text/html": [
       "<div>\n",
       "<style scoped>\n",
       "    .dataframe tbody tr th:only-of-type {\n",
       "        vertical-align: middle;\n",
       "    }\n",
       "\n",
       "    .dataframe tbody tr th {\n",
       "        vertical-align: top;\n",
       "    }\n",
       "\n",
       "    .dataframe thead th {\n",
       "        text-align: right;\n",
       "    }\n",
       "</style>\n",
       "<table border=\"1\" class=\"dataframe\">\n",
       "  <thead>\n",
       "    <tr style=\"text-align: right;\">\n",
       "      <th></th>\n",
       "      <th>document_id</th>\n",
       "      <th>work_id</th>\n",
       "      <th>main_category</th>\n",
       "      <th>sub_category</th>\n",
       "      <th>main_category_label</th>\n",
       "      <th>sub_category_label</th>\n",
       "      <th>publication_year</th>\n",
       "      <th>gatherings</th>\n",
       "      <th>publication_place</th>\n",
       "      <th>author_id</th>\n",
       "      <th>...</th>\n",
       "      <th>ecco_date_end</th>\n",
       "      <th>ecco_pages</th>\n",
       "      <th>ecco_languge</th>\n",
       "      <th>ecco_nr_paragraphs</th>\n",
       "      <th>ecco_id_y</th>\n",
       "      <th>document_part_type</th>\n",
       "      <th>document_part_number</th>\n",
       "      <th>document_part_id</th>\n",
       "      <th>document_part_nr_characters</th>\n",
       "      <th>document_part_nr_tokens</th>\n",
       "    </tr>\n",
       "  </thead>\n",
       "  <tbody>\n",
       "    <tr>\n",
       "      <th>3</th>\n",
       "      <td>0745200402</td>\n",
       "      <td>49626-observations on nature and cure of fever...</td>\n",
       "      <td>1</td>\n",
       "      <td>35</td>\n",
       "      <td>Scientific Improvement</td>\n",
       "      <td>Medicine and anatomy</td>\n",
       "      <td>1779</td>\n",
       "      <td>8vo</td>\n",
       "      <td>London</td>\n",
       "      <td>88719418</td>\n",
       "      <td>...</td>\n",
       "      <td>17799999.0</td>\n",
       "      <td>265.0</td>\n",
       "      <td>English</td>\n",
       "      <td>1360.0</td>\n",
       "      <td>0745200402</td>\n",
       "      <td>body</td>\n",
       "      <td>4.0</td>\n",
       "      <td>103033.0</td>\n",
       "      <td>306091.0</td>\n",
       "      <td>53024.0</td>\n",
       "    </tr>\n",
       "    <tr>\n",
       "      <th>8</th>\n",
       "      <td>1373800121</td>\n",
       "      <td>75-proceedings</td>\n",
       "      <td>7</td>\n",
       "      <td>34</td>\n",
       "      <td>Politics</td>\n",
       "      <td>Parliamentary speeches</td>\n",
       "      <td>1739</td>\n",
       "      <td>8vo</td>\n",
       "      <td>London</td>\n",
       "      <td>NaN</td>\n",
       "      <td>...</td>\n",
       "      <td>17399999.0</td>\n",
       "      <td>535.0</td>\n",
       "      <td>English</td>\n",
       "      <td>5716.0</td>\n",
       "      <td>1373800121</td>\n",
       "      <td>body</td>\n",
       "      <td>4.0</td>\n",
       "      <td>784543.0</td>\n",
       "      <td>1080738.0</td>\n",
       "      <td>195422.0</td>\n",
       "    </tr>\n",
       "    <tr>\n",
       "      <th>10</th>\n",
       "      <td>1373800121</td>\n",
       "      <td>75-proceedings</td>\n",
       "      <td>7</td>\n",
       "      <td>34</td>\n",
       "      <td>Politics</td>\n",
       "      <td>Parliamentary speeches</td>\n",
       "      <td>1739</td>\n",
       "      <td>8vo</td>\n",
       "      <td>London</td>\n",
       "      <td>NaN</td>\n",
       "      <td>...</td>\n",
       "      <td>17399999.0</td>\n",
       "      <td>535.0</td>\n",
       "      <td>English</td>\n",
       "      <td>5716.0</td>\n",
       "      <td>1373800121</td>\n",
       "      <td>body</td>\n",
       "      <td>6.0</td>\n",
       "      <td>784633.0</td>\n",
       "      <td>1978.0</td>\n",
       "      <td>330.0</td>\n",
       "    </tr>\n",
       "    <tr>\n",
       "      <th>14</th>\n",
       "      <td>0577100200</td>\n",
       "      <td>12939-nabob comedy in three acts</td>\n",
       "      <td>0</td>\n",
       "      <td>0</td>\n",
       "      <td>Arts</td>\n",
       "      <td>Theatre, plays, opera</td>\n",
       "      <td>1778</td>\n",
       "      <td>8vo</td>\n",
       "      <td>London</td>\n",
       "      <td>29561715</td>\n",
       "      <td>...</td>\n",
       "      <td>17789999.0</td>\n",
       "      <td>77.0</td>\n",
       "      <td>English</td>\n",
       "      <td>464.0</td>\n",
       "      <td>0577100200</td>\n",
       "      <td>body</td>\n",
       "      <td>4.0</td>\n",
       "      <td>367267.0</td>\n",
       "      <td>74466.0</td>\n",
       "      <td>13695.0</td>\n",
       "    </tr>\n",
       "    <tr>\n",
       "      <th>17</th>\n",
       "      <td>0698801300</td>\n",
       "      <td>75-proceedings</td>\n",
       "      <td>7</td>\n",
       "      <td>34</td>\n",
       "      <td>Politics</td>\n",
       "      <td>Parliamentary speeches</td>\n",
       "      <td>1712</td>\n",
       "      <td>8vo</td>\n",
       "      <td>London</td>\n",
       "      <td>NaN</td>\n",
       "      <td>...</td>\n",
       "      <td>17129999.0</td>\n",
       "      <td>111.0</td>\n",
       "      <td>English</td>\n",
       "      <td>789.0</td>\n",
       "      <td>0698801300</td>\n",
       "      <td>body</td>\n",
       "      <td>2.0</td>\n",
       "      <td>169436.0</td>\n",
       "      <td>291324.0</td>\n",
       "      <td>50050.0</td>\n",
       "    </tr>\n",
       "    <tr>\n",
       "      <th>...</th>\n",
       "      <td>...</td>\n",
       "      <td>...</td>\n",
       "      <td>...</td>\n",
       "      <td>...</td>\n",
       "      <td>...</td>\n",
       "      <td>...</td>\n",
       "      <td>...</td>\n",
       "      <td>...</td>\n",
       "      <td>...</td>\n",
       "      <td>...</td>\n",
       "      <td>...</td>\n",
       "      <td>...</td>\n",
       "      <td>...</td>\n",
       "      <td>...</td>\n",
       "      <td>...</td>\n",
       "      <td>...</td>\n",
       "      <td>...</td>\n",
       "      <td>...</td>\n",
       "      <td>...</td>\n",
       "      <td>...</td>\n",
       "      <td>...</td>\n",
       "    </tr>\n",
       "    <tr>\n",
       "      <th>128894</th>\n",
       "      <td>1139900101</td>\n",
       "      <td>22-iliad</td>\n",
       "      <td>2</td>\n",
       "      <td>24</td>\n",
       "      <td>Literature</td>\n",
       "      <td>Classics</td>\n",
       "      <td>1791</td>\n",
       "      <td>12mo</td>\n",
       "      <td>Dublin</td>\n",
       "      <td>224924963</td>\n",
       "      <td>...</td>\n",
       "      <td>17919999.0</td>\n",
       "      <td>351.0</td>\n",
       "      <td>English</td>\n",
       "      <td>1644.0</td>\n",
       "      <td>1139900101</td>\n",
       "      <td>body</td>\n",
       "      <td>7.0</td>\n",
       "      <td>461648.0</td>\n",
       "      <td>102482.0</td>\n",
       "      <td>18300.0</td>\n",
       "    </tr>\n",
       "    <tr>\n",
       "      <th>128897</th>\n",
       "      <td>1139900101</td>\n",
       "      <td>22-iliad</td>\n",
       "      <td>2</td>\n",
       "      <td>24</td>\n",
       "      <td>Literature</td>\n",
       "      <td>Classics</td>\n",
       "      <td>1791</td>\n",
       "      <td>12mo</td>\n",
       "      <td>Dublin</td>\n",
       "      <td>224924963</td>\n",
       "      <td>...</td>\n",
       "      <td>17919999.0</td>\n",
       "      <td>351.0</td>\n",
       "      <td>English</td>\n",
       "      <td>1644.0</td>\n",
       "      <td>1139900101</td>\n",
       "      <td>body</td>\n",
       "      <td>10.0</td>\n",
       "      <td>461666.0</td>\n",
       "      <td>137252.0</td>\n",
       "      <td>24691.0</td>\n",
       "    </tr>\n",
       "    <tr>\n",
       "      <th>128900</th>\n",
       "      <td>1139900101</td>\n",
       "      <td>22-iliad</td>\n",
       "      <td>2</td>\n",
       "      <td>24</td>\n",
       "      <td>Literature</td>\n",
       "      <td>Classics</td>\n",
       "      <td>1791</td>\n",
       "      <td>12mo</td>\n",
       "      <td>Dublin</td>\n",
       "      <td>224924963</td>\n",
       "      <td>...</td>\n",
       "      <td>17919999.0</td>\n",
       "      <td>351.0</td>\n",
       "      <td>English</td>\n",
       "      <td>1644.0</td>\n",
       "      <td>1139900101</td>\n",
       "      <td>body</td>\n",
       "      <td>13.0</td>\n",
       "      <td>461678.0</td>\n",
       "      <td>80628.0</td>\n",
       "      <td>14592.0</td>\n",
       "    </tr>\n",
       "    <tr>\n",
       "      <th>128903</th>\n",
       "      <td>1139900101</td>\n",
       "      <td>22-iliad</td>\n",
       "      <td>2</td>\n",
       "      <td>24</td>\n",
       "      <td>Literature</td>\n",
       "      <td>Classics</td>\n",
       "      <td>1791</td>\n",
       "      <td>12mo</td>\n",
       "      <td>Dublin</td>\n",
       "      <td>224924963</td>\n",
       "      <td>...</td>\n",
       "      <td>17919999.0</td>\n",
       "      <td>351.0</td>\n",
       "      <td>English</td>\n",
       "      <td>1644.0</td>\n",
       "      <td>1139900101</td>\n",
       "      <td>body</td>\n",
       "      <td>16.0</td>\n",
       "      <td>461688.0</td>\n",
       "      <td>70107.0</td>\n",
       "      <td>12615.0</td>\n",
       "    </tr>\n",
       "    <tr>\n",
       "      <th>128907</th>\n",
       "      <td>1175201000</td>\n",
       "      <td>3947-henry second or fall of rosamond</td>\n",
       "      <td>0</td>\n",
       "      <td>0</td>\n",
       "      <td>Arts</td>\n",
       "      <td>Theatre, plays, opera</td>\n",
       "      <td>1774</td>\n",
       "      <td>8vo</td>\n",
       "      <td>London</td>\n",
       "      <td>62913465</td>\n",
       "      <td>...</td>\n",
       "      <td>17749999.0</td>\n",
       "      <td>88.0</td>\n",
       "      <td>English</td>\n",
       "      <td>581.0</td>\n",
       "      <td>1175201000</td>\n",
       "      <td>body</td>\n",
       "      <td>4.0</td>\n",
       "      <td>203904.0</td>\n",
       "      <td>83926.0</td>\n",
       "      <td>15236.0</td>\n",
       "    </tr>\n",
       "  </tbody>\n",
       "</table>\n",
       "<p>32558 rows × 31 columns</p>\n",
       "</div>"
      ],
      "text/plain": [
       "       document_id                                            work_id  \\\n",
       "3       0745200402  49626-observations on nature and cure of fever...   \n",
       "8       1373800121                                     75-proceedings   \n",
       "10      1373800121                                     75-proceedings   \n",
       "14      0577100200                   12939-nabob comedy in three acts   \n",
       "17      0698801300                                     75-proceedings   \n",
       "...            ...                                                ...   \n",
       "128894  1139900101                                           22-iliad   \n",
       "128897  1139900101                                           22-iliad   \n",
       "128900  1139900101                                           22-iliad   \n",
       "128903  1139900101                                           22-iliad   \n",
       "128907  1175201000              3947-henry second or fall of rosamond   \n",
       "\n",
       "        main_category  sub_category     main_category_label  \\\n",
       "3                   1            35  Scientific Improvement   \n",
       "8                   7            34                Politics   \n",
       "10                  7            34                Politics   \n",
       "14                  0             0                    Arts   \n",
       "17                  7            34                Politics   \n",
       "...               ...           ...                     ...   \n",
       "128894              2            24              Literature   \n",
       "128897              2            24              Literature   \n",
       "128900              2            24              Literature   \n",
       "128903              2            24              Literature   \n",
       "128907              0             0                    Arts   \n",
       "\n",
       "            sub_category_label publication_year gatherings publication_place  \\\n",
       "3         Medicine and anatomy             1779        8vo            London   \n",
       "8       Parliamentary speeches             1739        8vo            London   \n",
       "10      Parliamentary speeches             1739        8vo            London   \n",
       "14       Theatre, plays, opera             1778        8vo            London   \n",
       "17      Parliamentary speeches             1712        8vo            London   \n",
       "...                        ...              ...        ...               ...   \n",
       "128894                Classics             1791       12mo            Dublin   \n",
       "128897                Classics             1791       12mo            Dublin   \n",
       "128900                Classics             1791       12mo            Dublin   \n",
       "128903                Classics             1791       12mo            Dublin   \n",
       "128907   Theatre, plays, opera             1774        8vo            London   \n",
       "\n",
       "        author_id  ... ecco_date_end  ecco_pages ecco_languge  \\\n",
       "3        88719418  ...    17799999.0       265.0      English   \n",
       "8             NaN  ...    17399999.0       535.0      English   \n",
       "10            NaN  ...    17399999.0       535.0      English   \n",
       "14       29561715  ...    17789999.0        77.0      English   \n",
       "17            NaN  ...    17129999.0       111.0      English   \n",
       "...           ...  ...           ...         ...          ...   \n",
       "128894  224924963  ...    17919999.0       351.0      English   \n",
       "128897  224924963  ...    17919999.0       351.0      English   \n",
       "128900  224924963  ...    17919999.0       351.0      English   \n",
       "128903  224924963  ...    17919999.0       351.0      English   \n",
       "128907   62913465  ...    17749999.0        88.0      English   \n",
       "\n",
       "       ecco_nr_paragraphs   ecco_id_y document_part_type document_part_number  \\\n",
       "3                  1360.0  0745200402               body                  4.0   \n",
       "8                  5716.0  1373800121               body                  4.0   \n",
       "10                 5716.0  1373800121               body                  6.0   \n",
       "14                  464.0  0577100200               body                  4.0   \n",
       "17                  789.0  0698801300               body                  2.0   \n",
       "...                   ...         ...                ...                  ...   \n",
       "128894             1644.0  1139900101               body                  7.0   \n",
       "128897             1644.0  1139900101               body                 10.0   \n",
       "128900             1644.0  1139900101               body                 13.0   \n",
       "128903             1644.0  1139900101               body                 16.0   \n",
       "128907              581.0  1175201000               body                  4.0   \n",
       "\n",
       "       document_part_id  document_part_nr_characters  document_part_nr_tokens  \n",
       "3              103033.0                     306091.0                  53024.0  \n",
       "8              784543.0                    1080738.0                 195422.0  \n",
       "10             784633.0                       1978.0                    330.0  \n",
       "14             367267.0                      74466.0                  13695.0  \n",
       "17             169436.0                     291324.0                  50050.0  \n",
       "...                 ...                          ...                      ...  \n",
       "128894         461648.0                     102482.0                  18300.0  \n",
       "128897         461666.0                     137252.0                  24691.0  \n",
       "128900         461678.0                      80628.0                  14592.0  \n",
       "128903         461688.0                      70107.0                  12615.0  \n",
       "128907         203904.0                      83926.0                  15236.0  \n",
       "\n",
       "[32558 rows x 31 columns]"
      ]
     },
     "execution_count": 23,
     "metadata": {},
     "output_type": "execute_result"
    }
   ],
   "source": [
    "df"
   ]
  },
  {
   "cell_type": "code",
   "execution_count": 24,
   "id": "1a08c730",
   "metadata": {},
   "outputs": [
    {
     "data": {
      "text/plain": [
       "0285000100    56\n",
       "0285800200    48\n",
       "0715900300    46\n",
       "0570900200    38\n",
       "0502900200    37\n",
       "              ..\n",
       "1443700102     1\n",
       "0003000104     1\n",
       "0294300200     1\n",
       "1230100800     1\n",
       "1175201000     1\n",
       "Name: document_id, Length: 22786, dtype: int64"
      ]
     },
     "execution_count": 24,
     "metadata": {},
     "output_type": "execute_result"
    }
   ],
   "source": [
    "df[\"document_id\"].value_counts()"
   ]
  },
  {
   "cell_type": "code",
   "execution_count": 25,
   "id": "3cc4aa63",
   "metadata": {},
   "outputs": [],
   "source": [
    "df = df.drop_duplicates(subset='document_id', keep=\"first\")"
   ]
  },
  {
   "cell_type": "code",
   "execution_count": 26,
   "id": "64681b7f",
   "metadata": {},
   "outputs": [
    {
     "data": {
      "text/plain": [
       "array([1770, 1730, 1710, 1790, 1740, 1760, 1700, 1720, 1750, 1780, 1800,\n",
       "       1680])"
      ]
     },
     "execution_count": 26,
     "metadata": {},
     "output_type": "execute_result"
    }
   ],
   "source": [
    "df[\"decade\"].unique()"
   ]
  },
  {
   "cell_type": "code",
   "execution_count": 27,
   "id": "41763462",
   "metadata": {},
   "outputs": [],
   "source": [
    "df = df.query('1720 <= decade < 1800')"
   ]
  },
  {
   "cell_type": "code",
   "execution_count": 28,
   "id": "ffc37a9a",
   "metadata": {},
   "outputs": [
    {
     "data": {
      "text/plain": [
       "array([1770, 1730, 1790, 1740, 1760, 1720, 1750, 1780])"
      ]
     },
     "execution_count": 28,
     "metadata": {},
     "output_type": "execute_result"
    }
   ],
   "source": [
    "df[\"decade\"].unique()"
   ]
  },
  {
   "cell_type": "code",
   "execution_count": 29,
   "id": "f8dec7bd",
   "metadata": {},
   "outputs": [],
   "source": [
    "df = df.groupby(\"decade\", group_keys=False).apply(lambda x: x.sample(800, replace=False))"
   ]
  },
  {
   "cell_type": "code",
   "execution_count": 31,
   "id": "061377cf",
   "metadata": {
    "scrolled": true
   },
   "outputs": [
    {
     "data": {
      "text/plain": [
       "1720    800\n",
       "1730    800\n",
       "1740    800\n",
       "1750    800\n",
       "1760    800\n",
       "1770    800\n",
       "1780    800\n",
       "1790    800\n",
       "Name: decade, dtype: int64"
      ]
     },
     "execution_count": 31,
     "metadata": {},
     "output_type": "execute_result"
    }
   ],
   "source": [
    "df['decade'].value_counts()"
   ]
  },
  {
   "cell_type": "code",
   "execution_count": 33,
   "id": "21061f13",
   "metadata": {},
   "outputs": [],
   "source": [
    "df['text'] = df['document_id'].apply(lambda x: puhti_files.read_text_file(x))"
   ]
  },
  {
   "cell_type": "code",
   "execution_count": 36,
   "id": "d1bcffbc",
   "metadata": {},
   "outputs": [],
   "source": [
    "def small_clean(df):\n",
    "    df['text'] = df['text'].str.lower()\n",
    "    df['text'] = df[\"text\"].str.replace('\\s+', ' ', regex=True)\n",
    "    #df['text'] = df['text'].str.replace(r'[^A-Za-z0-9]+', ' ', regex=True)\n",
    "    return df\n",
    "df = small_clean(df)"
   ]
  },
  {
   "cell_type": "code",
   "execution_count": 4,
   "id": "0c2a6205",
   "metadata": {},
   "outputs": [
    {
     "data": {
      "text/html": [
       "<div>\n",
       "<style scoped>\n",
       "    .dataframe tbody tr th:only-of-type {\n",
       "        vertical-align: middle;\n",
       "    }\n",
       "\n",
       "    .dataframe tbody tr th {\n",
       "        vertical-align: top;\n",
       "    }\n",
       "\n",
       "    .dataframe thead th {\n",
       "        text-align: right;\n",
       "    }\n",
       "</style>\n",
       "<table border=\"1\" class=\"dataframe\">\n",
       "  <thead>\n",
       "    <tr style=\"text-align: right;\">\n",
       "      <th></th>\n",
       "      <th>document_id</th>\n",
       "      <th>work_id</th>\n",
       "      <th>main_category</th>\n",
       "      <th>sub_category</th>\n",
       "      <th>main_category_label</th>\n",
       "      <th>sub_category_label</th>\n",
       "      <th>publication_year</th>\n",
       "      <th>gatherings</th>\n",
       "      <th>publication_place</th>\n",
       "      <th>author_id</th>\n",
       "      <th>...</th>\n",
       "      <th>ecco_languge</th>\n",
       "      <th>ecco_nr_paragraphs</th>\n",
       "      <th>ecco_id_y</th>\n",
       "      <th>document_part_type</th>\n",
       "      <th>document_part_number</th>\n",
       "      <th>document_part_id</th>\n",
       "      <th>document_part_nr_characters</th>\n",
       "      <th>document_part_nr_tokens</th>\n",
       "      <th>text</th>\n",
       "      <th>clean_t</th>\n",
       "    </tr>\n",
       "  </thead>\n",
       "  <tbody>\n",
       "    <tr>\n",
       "      <th>0</th>\n",
       "      <td>1195800100</td>\n",
       "      <td>198-recruiting officer</td>\n",
       "      <td>0</td>\n",
       "      <td>0</td>\n",
       "      <td>Arts</td>\n",
       "      <td>Theatre, plays, opera</td>\n",
       "      <td>1727</td>\n",
       "      <td>8vo</td>\n",
       "      <td>Dublin</td>\n",
       "      <td>61545511</td>\n",
       "      <td>...</td>\n",
       "      <td>English</td>\n",
       "      <td>665.0</td>\n",
       "      <td>1195800100</td>\n",
       "      <td>body</td>\n",
       "      <td>3.0</td>\n",
       "      <td>467077.0</td>\n",
       "      <td>134667.0</td>\n",
       "      <td>23681.0</td>\n",
       "      <td>the recruiting officer. a comed y. written by ...</td>\n",
       "      <td>recruiting officer comed written mr. q.u capti...</td>\n",
       "    </tr>\n",
       "    <tr>\n",
       "      <th>1</th>\n",
       "      <td>579400903</td>\n",
       "      <td>174-lucubrations of isaac bickerstaff</td>\n",
       "      <td>2</td>\n",
       "      <td>18</td>\n",
       "      <td>Literature</td>\n",
       "      <td>Other fiction</td>\n",
       "      <td>1723</td>\n",
       "      <td>12mo</td>\n",
       "      <td>London</td>\n",
       "      <td>7413288</td>\n",
       "      <td>...</td>\n",
       "      <td>English</td>\n",
       "      <td>1643.0</td>\n",
       "      <td>579400903</td>\n",
       "      <td>body</td>\n",
       "      <td>3.0</td>\n",
       "      <td>438523.0</td>\n",
       "      <td>646182.0</td>\n",
       "      <td>117037.0</td>\n",
       "      <td>i t h e, the lucubrations o f isaac ickc rfl i...</td>\n",
       "      <td>lucubrations isaac ickc rfl esq i-i/ aed co'.c...</td>\n",
       "    </tr>\n",
       "  </tbody>\n",
       "</table>\n",
       "<p>2 rows × 33 columns</p>\n",
       "</div>"
      ],
      "text/plain": [
       "   document_id                                work_id  main_category  \\\n",
       "0   1195800100                 198-recruiting officer              0   \n",
       "1    579400903  174-lucubrations of isaac bickerstaff              2   \n",
       "\n",
       "   sub_category main_category_label     sub_category_label  publication_year  \\\n",
       "0             0                Arts  Theatre, plays, opera              1727   \n",
       "1            18          Literature          Other fiction              1723   \n",
       "\n",
       "  gatherings publication_place author_id  ... ecco_languge  \\\n",
       "0        8vo            Dublin  61545511  ...      English   \n",
       "1       12mo            London   7413288  ...      English   \n",
       "\n",
       "   ecco_nr_paragraphs   ecco_id_y document_part_type document_part_number  \\\n",
       "0               665.0  1195800100               body                  3.0   \n",
       "1              1643.0   579400903               body                  3.0   \n",
       "\n",
       "  document_part_id document_part_nr_characters document_part_nr_tokens  \\\n",
       "0         467077.0                    134667.0                 23681.0   \n",
       "1         438523.0                    646182.0                117037.0   \n",
       "\n",
       "                                                text  \\\n",
       "0  the recruiting officer. a comed y. written by ...   \n",
       "1  i t h e, the lucubrations o f isaac ickc rfl i...   \n",
       "\n",
       "                                             clean_t  \n",
       "0  recruiting officer comed written mr. q.u capti...  \n",
       "1  lucubrations isaac ickc rfl esq i-i/ aed co'.c...  \n",
       "\n",
       "[2 rows x 33 columns]"
      ]
     },
     "execution_count": 4,
     "metadata": {},
     "output_type": "execute_result"
    }
   ],
   "source": [
    "#df.to_csv(\"df_valivaihe.csv\", index=False)\n",
    "df = pd.read_csv(\"df_valivaihe.csv\")\n",
    "df.head(2)"
   ]
  },
  {
   "cell_type": "code",
   "execution_count": 5,
   "id": "e8809836",
   "metadata": {},
   "outputs": [],
   "source": [
    "#from gensim.models import Word2Vec\n",
    "import nltk\n",
    "from nltk import word_tokenize\n",
    "from nltk.corpus import stopwords"
   ]
  },
  {
   "cell_type": "code",
   "execution_count": 6,
   "id": "125e9889",
   "metadata": {},
   "outputs": [
    {
     "name": "stderr",
     "output_type": "stream",
     "text": [
      "[nltk_data] Downloading package stopwords to\n",
      "[nltk_data]     /users/tturpein/nltk_data...\n",
      "[nltk_data]   Package stopwords is already up-to-date!\n",
      "[nltk_data] Downloading package punkt to /users/tturpein/nltk_data...\n",
      "[nltk_data]   Package punkt is already up-to-date!\n"
     ]
    },
    {
     "data": {
      "text/plain": [
       "True"
      ]
     },
     "execution_count": 6,
     "metadata": {},
     "output_type": "execute_result"
    }
   ],
   "source": [
    "nltk.download(\"stopwords\")\n",
    "nltk.download(\"punkt\")"
   ]
  },
  {
   "cell_type": "code",
   "execution_count": 10,
   "id": "cc4ddc61",
   "metadata": {},
   "outputs": [],
   "source": [
    "#Takes a long time\n",
    "\n",
    "def clean_text_gtext(text,tokenizer,stopwords):\n",
    "    tokens = tokenizer(text)\n",
    "    tokens = [t for t in tokens if len(t) > 2]  # Remove short tokens\n",
    "    tokens = [t for t in tokens if not t in stopwords]\n",
    "    \n",
    "    return \" \".join(tokens)"
   ]
  },
  {
   "cell_type": "code",
   "execution_count": 12,
   "id": "9625c5e7",
   "metadata": {},
   "outputs": [],
   "source": [
    "stop_words = stopwords.words(\"english\")\n",
    "#df[\"clean_t\"] = df[\"text\"].map(lambda x: clean_text_gtext(x, word_tokenize, stop_words))"
   ]
  },
  {
   "cell_type": "code",
   "execution_count": 14,
   "id": "903ec68b",
   "metadata": {},
   "outputs": [],
   "source": [
    "#df.to_csv(\"df_valivaihe.csv\", index=False)"
   ]
  },
  {
   "cell_type": "code",
   "execution_count": 7,
   "id": "e2ca5b13",
   "metadata": {},
   "outputs": [],
   "source": [
    "df[\"text\"] = df[\"clean_t\"]"
   ]
  },
  {
   "cell_type": "code",
   "execution_count": 8,
   "id": "ef202da2",
   "metadata": {},
   "outputs": [
    {
     "data": {
      "text/plain": [
       "1720    800\n",
       "Name: decade, dtype: int64"
      ]
     },
     "execution_count": 8,
     "metadata": {},
     "output_type": "execute_result"
    }
   ],
   "source": [
    "df = df[df[\"decade\"]==1720]\n",
    "df['decade'].value_counts()"
   ]
  },
  {
   "cell_type": "code",
   "execution_count": 9,
   "id": "5aac3eef",
   "metadata": {},
   "outputs": [
    {
     "data": {
      "text/plain": [
       "317625"
      ]
     },
     "execution_count": 9,
     "metadata": {},
     "output_type": "execute_result"
    }
   ],
   "source": [
    "### Create dataset with splitted documents. Document_id is kept for later merge.\n",
    "\n",
    "def split_text(text, num_words):\n",
    "    words = text.split()\n",
    "    chunks = [' '.join(words[i:i + num_words]) for i in range(0, len(words), num_words)]\n",
    "    return chunks\n",
    "\n",
    "num_words = 128\n",
    "split_data = []\n",
    "for _, row in df.iterrows():\n",
    "    doc_id = row['document_id']\n",
    "    text = row['text']\n",
    "    chunks = split_text(text, num_words)\n",
    "    \n",
    "    for chunk in chunks:\n",
    "        split_data.append({'document_id': doc_id, 'text': chunk})\n",
    "\n",
    "split_df = pd.DataFrame(split_data)\n",
    "len(split_df)"
   ]
  },
  {
   "cell_type": "code",
   "execution_count": 10,
   "id": "bcb0126c",
   "metadata": {},
   "outputs": [],
   "source": [
    "from contextualized_topic_models.models.ctm import ZeroShotTM\n",
    "from contextualized_topic_models.utils.data_preparation import TopicModelDataPreparation\n",
    "from contextualized_topic_models.utils.preprocessing import WhiteSpacePreprocessingStopwords"
   ]
  },
  {
   "cell_type": "code",
   "execution_count": 13,
   "id": "220520f7",
   "metadata": {},
   "outputs": [],
   "source": [
    "import requests\n",
    "stopwords_set = set(list(stop_words))\n",
    "stopwords_list = requests.get(\"https://gist.githubusercontent.com/rg089/35e00abf8941d72d419224cfd5b5925d/raw/12d899b70156fd0041fa9778d657330b024b959c/stopwords.txt\").content\n",
    "stopwords = set(stopwords_list.decode().splitlines())\n",
    "stopwords.remove('thou')"
   ]
  },
  {
   "cell_type": "code",
   "execution_count": 14,
   "id": "a4b9280c",
   "metadata": {},
   "outputs": [],
   "source": [
    "sp = WhiteSpacePreprocessingStopwords(list(split_df[\"text\"]), stopwords_list=stopwords_set)\n",
    "sp.stopwords.update(stopwords)\n",
    "ecco_stop_list = ['rs', 'un', 'lie', 'ce', 'anti', 'lat', 'li', 'ir', 'et', 'pre', 'iv', 'tt', 'tl', 'de', 'tbe', 'ann', 'thle', 'viii', 'id', 'xii', 'lo', 'ibid', 'toe', 'xi', 'con', 'ti', 'er', 'vi', 'pro', 'vii', 'nd', 'wh', 'iz', 'zo', 'lr', 'non', 'ne', 'ii', 'le', 'ri', 'fr', 'en', 'al', 'tit', 'te', 'iii', 'cap', 'ij', 'til', 'hi', 'lon', 'fe', 'ib', 'tie', 'oo', 'la', 'di', 'pr', 'ie', 'ith', 'sect', 'ut', 'com', 'ol', 'ot', 'lib', 'ix', 'ex', 'par', 'ac', 'anp', 'ci', 'th', 'si', 'tr', 'quod', 'les', 'eft', 'que', 'bp', 'ed', 'ant', 'ano', 'ca', 'vide', 'es', 'du', 'lt', 'ch', 'vol', 'lit', 'ni', 'ditto', 'co', 'il', 'ro', 'cl', 'tile', 'ic', 'dc', 'cc', 'io', 'ai', 'per', 'ad', 'cr', 'chap', 'anno', 'tle', 'oi', 'ar', 'ill', 'inl', 'ly', 'thie', 'ha', 'geo fol', 'pa', 'andl', 'tha', 'thi', 'ta', 'mi', 'die', 'tlhe', 'stat', 'ihe', 'anld', 'qui', 'vel', 'ter', 'ver', 'ji', 'ani', 'thc', 'ili', 'regis', 'ld', 'anl', 'tlie', 'des', 'thec', 'andi', 'ire', 'andl', 'thi', 'fol', 'ta', 'pa', 'mi', 'ing', 'anld', 'andi', 'ihe', 'tha', 'tlhe', 'ion', 'tlie', 'geo', 'vel', 'ani', 'ld', 'car', 'ter', 'cum', 'ul', 'qui', 'ji', 'ich', 'ind', 'ate', 'anid', 'ere', 'thc','tte','lis']\n",
    "sp.stopwords.update(ecco_stop_list)\n",
    "preprocessed_documents, unpreprocessed_corpus, vocab, retained_indices = sp.preprocess()"
   ]
  },
  {
   "cell_type": "code",
   "execution_count": 15,
   "id": "c851e694",
   "metadata": {},
   "outputs": [
    {
     "name": "stdout",
     "output_type": "stream",
     "text": [
      "317625\n",
      "317378\n",
      "317378\n"
     ]
    }
   ],
   "source": [
    "print(len(split_df))\n",
    "print(len(preprocessed_documents))\n",
    "print(len(unpreprocessed_corpus))"
   ]
  },
  {
   "cell_type": "code",
   "execution_count": 16,
   "id": "72aef9a2",
   "metadata": {},
   "outputs": [
    {
     "data": {
      "application/vnd.jupyter.widget-view+json": {
       "model_id": "b4efb66e1f844ac39399160caea9cd9f",
       "version_major": 2,
       "version_minor": 0
      },
      "text/plain": [
       "Batches:   0%|          | 0/1587 [00:00<?, ?it/s]"
      ]
     },
     "metadata": {},
     "output_type": "display_data"
    }
   ],
   "source": [
    "tp = TopicModelDataPreparation(\"paraphrase-multilingual-mpnet-base-v2\")\n",
    "training_dataset = tp.fit(text_for_contextual=unpreprocessed_corpus, text_for_bow=preprocessed_documents)"
   ]
  },
  {
   "cell_type": "code",
   "execution_count": 18,
   "id": "dd8e3f29",
   "metadata": {
    "scrolled": false
   },
   "outputs": [
    {
     "name": "stderr",
     "output_type": "stream",
     "text": [
      "/users/tturpein/.local/lib/python3.10/site-packages/contextualized_topic_models/models/ctm.py:669: Warning: This is an experimental feature that we has not been fully tested. Refer to the following issue:https://github.com/MilaNLProc/contextualized-topic-models/issues/38\n",
      "  warnings.warn(\n",
      "/users/tturpein/.local/lib/python3.10/site-packages/contextualized_topic_models/models/ctm.py:669: Warning: This is an experimental feature that we has not been fully tested. Refer to the following issue:https://github.com/MilaNLProc/contextualized-topic-models/issues/38\n",
      "  warnings.warn(\n",
      "/users/tturpein/.local/lib/python3.10/site-packages/contextualized_topic_models/models/ctm.py:669: Warning: This is an experimental feature that we has not been fully tested. Refer to the following issue:https://github.com/MilaNLProc/contextualized-topic-models/issues/38\n",
      "  warnings.warn(\n",
      "/users/tturpein/.local/lib/python3.10/site-packages/contextualized_topic_models/models/ctm.py:669: Warning: This is an experimental feature that we has not been fully tested. Refer to the following issue:https://github.com/MilaNLProc/contextualized-topic-models/issues/38\n",
      "  warnings.warn(\n",
      "/users/tturpein/.local/lib/python3.10/site-packages/contextualized_topic_models/models/ctm.py:669: Warning: This is an experimental feature that we has not been fully tested. Refer to the following issue:https://github.com/MilaNLProc/contextualized-topic-models/issues/38\n",
      "  warnings.warn(\n",
      "/users/tturpein/.local/lib/python3.10/site-packages/contextualized_topic_models/models/ctm.py:669: Warning: This is an experimental feature that we has not been fully tested. Refer to the following issue:https://github.com/MilaNLProc/contextualized-topic-models/issues/38\n",
      "  warnings.warn(\n",
      "/users/tturpein/.local/lib/python3.10/site-packages/contextualized_topic_models/models/ctm.py:669: Warning: This is an experimental feature that we has not been fully tested. Refer to the following issue:https://github.com/MilaNLProc/contextualized-topic-models/issues/38\n",
      "  warnings.warn(\n",
      "/users/tturpein/.local/lib/python3.10/site-packages/contextualized_topic_models/models/ctm.py:669: Warning: This is an experimental feature that we has not been fully tested. Refer to the following issue:https://github.com/MilaNLProc/contextualized-topic-models/issues/38\n",
      "  warnings.warn(\n"
     ]
    }
   ],
   "source": [
    "models = []\n",
    "for i in range(8):\n",
    "    ctm = ZeroShotTM(bow_size=len(tp.vocab), contextual_size=768, n_components=10, num_epochs=20)\n",
    "    ctm.load(\"../src/ctm_models\"+str(i)+\"/contextualized_topic_model_nc_10_tpm_0.0_tpv_0.9_hs_prodLDA_ac_(100, 100)_do_softplus_lr_0.2_mo_0.002_rp_0.99\",\n",
    "                                                                                                          epoch=19)\n",
    "    models.append(ctm)"
   ]
  },
  {
   "cell_type": "code",
   "execution_count": 19,
   "id": "4fa899fa",
   "metadata": {},
   "outputs": [
    {
     "data": {
      "text/plain": [
       "{1720: 0, 1730: 1, 1740: 2, 1750: 3, 1760: 4, 1770: 5, 1780: 6, 1790: 7}"
      ]
     },
     "execution_count": 19,
     "metadata": {},
     "output_type": "execute_result"
    }
   ],
   "source": [
    "dict_dec = {}\n",
    "count = 0\n",
    "for i in range(1720,1800,10):\n",
    "    dict_dec[i] = count\n",
    "    count +=1\n",
    "dict_dec"
   ]
  },
  {
   "cell_type": "code",
   "execution_count": 20,
   "id": "cb1e1e21",
   "metadata": {},
   "outputs": [],
   "source": [
    "ctm = models[dict_dec[1720]]\n",
    "ctm.USE_CUDA = True"
   ]
  },
  {
   "cell_type": "markdown",
   "id": "a428cf28",
   "metadata": {},
   "source": [
    "### Combining the Predictions for the Original Documents"
   ]
  },
  {
   "cell_type": "code",
   "execution_count": 21,
   "id": "350389b0",
   "metadata": {},
   "outputs": [
    {
     "name": "stderr",
     "output_type": "stream",
     "text": [
      "/users/tturpein/.local/lib/python3.10/site-packages/torch/utils/data/dataloader.py:561: UserWarning: This DataLoader will create 40 worker processes in total. Our suggested max number of worker in current system is 4, which is smaller than what this DataLoader is going to create. Please be aware that excessive worker creation might get DataLoader running slow or even freeze, lower the worker number to avoid potential slowness/freeze if necessary.\n",
      "  warnings.warn(_create_warning_msg(\n",
      "  0%|          | 0/4960 [00:00<?, ?it/s]/users/tturpein/.local/lib/python3.10/site-packages/torch/utils/data/dataloader.py:561: UserWarning: This DataLoader will create 40 worker processes in total. Our suggested max number of worker in current system is 4, which is smaller than what this DataLoader is going to create. Please be aware that excessive worker creation might get DataLoader running slow or even freeze, lower the worker number to avoid potential slowness/freeze if necessary.\n",
      "  warnings.warn(_create_warning_msg(\n"
     ]
    },
    {
     "name": "stdout",
     "output_type": "stream",
     "text": [
      "huggingface/tokenizers: The current process just got forked, after parallelism has already been used. Disabling parallelism to avoid deadlocks...\n",
      "To disable this warning, you can either:\n",
      "\t- Avoid using `tokenizers` before the fork if possible\n",
      "\t- Explicitly set the environment variable TOKENIZERS_PARALLELISM=(true | false)\n",
      "huggingface/tokenizers: The current process just got forked, after parallelism has already been used. Disabling parallelism to avoid deadlocks...\n",
      "To disable this warning, you can either:\n",
      "\t- Avoid using `tokenizers` before the fork if possible\n",
      "\t- Explicitly set the environment variable TOKENIZERS_PARALLELISM=(true | false)\n",
      "huggingface/tokenizers: The current process just got forked, after parallelism has already been used. Disabling parallelism to avoid deadlocks...\n",
      "To disable this warning, you can either:\n",
      "\t- Avoid using `tokenizers` before the fork if possible\n",
      "\t- Explicitly set the environment variable TOKENIZERS_PARALLELISM=(true | false)\n",
      "huggingface/tokenizers: The current process just got forked, after parallelism has already been used. Disabling parallelism to avoid deadlocks...\n",
      "To disable this warning, you can either:\n",
      "\t- Avoid using `tokenizers` before the fork if possible\n",
      "\t- Explicitly set the environment variable TOKENIZERS_PARALLELISM=(true | false)\n",
      "huggingface/tokenizers: The current process just got forked, after parallelism has already been used. Disabling parallelism to avoid deadlocks...\n",
      "To disable this warning, you can either:\n",
      "\t- Avoid using `tokenizers` before the fork if possible\n",
      "\t- Explicitly set the environment variable TOKENIZERS_PARALLELISM=(true | false)\n",
      "huggingface/tokenizers: The current process just got forked, after parallelism has already been used. Disabling parallelism to avoid deadlocks...\n",
      "To disable this warning, you can either:\n",
      "\t- Avoid using `tokenizers` before the fork if possible\n",
      "\t- Explicitly set the environment variable TOKENIZERS_PARALLELISM=(true | false)\n",
      "huggingface/tokenizers: The current process just got forked, after parallelism has already been used. Disabling parallelism to avoid deadlocks...\n",
      "To disable this warning, you can either:\n",
      "\t- Avoid using `tokenizers` before the fork if possible\n",
      "\t- Explicitly set the environment variable TOKENIZERS_PARALLELISM=(true | false)\n",
      "huggingface/tokenizers: The current process just got forked, after parallelism has already been used. Disabling parallelism to avoid deadlocks...\n",
      "To disable this warning, you can either:\n",
      "\t- Avoid using `tokenizers` before the fork if possible\n",
      "\t- Explicitly set the environment variable TOKENIZERS_PARALLELISM=(true | false)\n",
      "huggingface/tokenizers: The current process just got forked, after parallelism has already been used. Disabling parallelism to avoid deadlocks...\n",
      "To disable this warning, you can either:\n",
      "\t- Avoid using `tokenizers` before the fork if possible\n",
      "\t- Explicitly set the environment variable TOKENIZERS_PARALLELISM=(true | false)\n",
      "huggingface/tokenizers: The current process just got forked, after parallelism has already been used. Disabling parallelism to avoid deadlocks...\n",
      "To disable this warning, you can either:\n",
      "\t- Avoid using `tokenizers` before the fork if possible\n",
      "\t- Explicitly set the environment variable TOKENIZERS_PARALLELISM=(true | false)\n",
      "huggingface/tokenizers: The current process just got forked, after parallelism has already been used. Disabling parallelism to avoid deadlocks...\n",
      "To disable this warning, you can either:\n",
      "\t- Avoid using `tokenizers` before the fork if possible\n",
      "\t- Explicitly set the environment variable TOKENIZERS_PARALLELISM=(true | false)\n",
      "huggingface/tokenizers: The current process just got forked, after parallelism has already been used. Disabling parallelism to avoid deadlocks...\n",
      "To disable this warning, you can either:\n",
      "\t- Avoid using `tokenizers` before the fork if possible\n",
      "\t- Explicitly set the environment variable TOKENIZERS_PARALLELISM=(true | false)\n",
      "huggingface/tokenizers: The current process just got forked, after parallelism has already been used. Disabling parallelism to avoid deadlocks...\n",
      "To disable this warning, you can either:\n",
      "\t- Avoid using `tokenizers` before the fork if possible\n",
      "\t- Explicitly set the environment variable TOKENIZERS_PARALLELISM=(true | false)\n",
      "huggingface/tokenizers: The current process just got forked, after parallelism has already been used. Disabling parallelism to avoid deadlocks...\n",
      "To disable this warning, you can either:\n",
      "\t- Avoid using `tokenizers` before the fork if possible\n",
      "\t- Explicitly set the environment variable TOKENIZERS_PARALLELISM=(true | false)\n",
      "huggingface/tokenizers: The current process just got forked, after parallelism has already been used. Disabling parallelism to avoid deadlocks...\n",
      "To disable this warning, you can either:\n",
      "\t- Avoid using `tokenizers` before the fork if possible\n",
      "\t- Explicitly set the environment variable TOKENIZERS_PARALLELISM=(true | false)\n",
      "huggingface/tokenizers: The current process just got forked, after parallelism has already been used. Disabling parallelism to avoid deadlocks...\n",
      "To disable this warning, you can either:\n",
      "\t- Avoid using `tokenizers` before the fork if possible\n",
      "\t- Explicitly set the environment variable TOKENIZERS_PARALLELISM=(true | false)\n",
      "huggingface/tokenizers: The current process just got forked, after parallelism has already been used. Disabling parallelism to avoid deadlocks...\n",
      "To disable this warning, you can either:\n",
      "\t- Avoid using `tokenizers` before the fork if possible\n",
      "\t- Explicitly set the environment variable TOKENIZERS_PARALLELISM=(true | false)\n",
      "huggingface/tokenizers: The current process just got forked, after parallelism has already been used. Disabling parallelism to avoid deadlocks...\n",
      "To disable this warning, you can either:\n",
      "\t- Avoid using `tokenizers` before the fork if possible\n",
      "\t- Explicitly set the environment variable TOKENIZERS_PARALLELISM=(true | false)\n",
      "huggingface/tokenizers: The current process just got forked, after parallelism has already been used. Disabling parallelism to avoid deadlocks...\n",
      "To disable this warning, you can either:\n",
      "\t- Avoid using `tokenizers` before the fork if possible\n",
      "\t- Explicitly set the environment variable TOKENIZERS_PARALLELISM=(true | false)\n",
      "huggingface/tokenizers: The current process just got forked, after parallelism has already been used. Disabling parallelism to avoid deadlocks...\n",
      "To disable this warning, you can either:\n",
      "\t- Avoid using `tokenizers` before the fork if possible\n",
      "\t- Explicitly set the environment variable TOKENIZERS_PARALLELISM=(true | false)\n",
      "huggingface/tokenizers: The current process just got forked, after parallelism has already been used. Disabling parallelism to avoid deadlocks...\n",
      "To disable this warning, you can either:\n",
      "\t- Avoid using `tokenizers` before the fork if possible\n",
      "\t- Explicitly set the environment variable TOKENIZERS_PARALLELISM=(true | false)\n",
      "huggingface/tokenizers: The current process just got forked, after parallelism has already been used. Disabling parallelism to avoid deadlocks...\n",
      "To disable this warning, you can either:\n",
      "\t- Avoid using `tokenizers` before the fork if possible\n",
      "\t- Explicitly set the environment variable TOKENIZERS_PARALLELISM=(true | false)\n",
      "huggingface/tokenizers: The current process just got forked, after parallelism has already been used. Disabling parallelism to avoid deadlocks...\n",
      "To disable this warning, you can either:\n",
      "\t- Avoid using `tokenizers` before the fork if possible\n",
      "\t- Explicitly set the environment variable TOKENIZERS_PARALLELISM=(true | false)\n",
      "huggingface/tokenizers: The current process just got forked, after parallelism has already been used. Disabling parallelism to avoid deadlocks...\n",
      "To disable this warning, you can either:\n",
      "\t- Avoid using `tokenizers` before the fork if possible\n",
      "\t- Explicitly set the environment variable TOKENIZERS_PARALLELISM=(true | false)\n",
      "huggingface/tokenizers: The current process just got forked, after parallelism has already been used. Disabling parallelism to avoid deadlocks...\n",
      "To disable this warning, you can either:\n",
      "\t- Avoid using `tokenizers` before the fork if possible\n",
      "\t- Explicitly set the environment variable TOKENIZERS_PARALLELISM=(true | false)\n",
      "huggingface/tokenizers: The current process just got forked, after parallelism has already been used. Disabling parallelism to avoid deadlocks...\n",
      "To disable this warning, you can either:\n",
      "\t- Avoid using `tokenizers` before the fork if possible\n",
      "\t- Explicitly set the environment variable TOKENIZERS_PARALLELISM=(true | false)\n",
      "huggingface/tokenizers: The current process just got forked, after parallelism has already been used. Disabling parallelism to avoid deadlocks...\n",
      "To disable this warning, you can either:\n",
      "\t- Avoid using `tokenizers` before the fork if possible\n",
      "\t- Explicitly set the environment variable TOKENIZERS_PARALLELISM=(true | false)\n"
     ]
    },
    {
     "name": "stdout",
     "output_type": "stream",
     "text": [
      "huggingface/tokenizers: The current process just got forked, after parallelism has already been used. Disabling parallelism to avoid deadlocks...\n",
      "To disable this warning, you can either:\n",
      "\t- Avoid using `tokenizers` before the fork if possible\n",
      "\t- Explicitly set the environment variable TOKENIZERS_PARALLELISM=(true | false)\n",
      "huggingface/tokenizers: The current process just got forked, after parallelism has already been used. Disabling parallelism to avoid deadlocks...\n",
      "To disable this warning, you can either:\n",
      "\t- Avoid using `tokenizers` before the fork if possible\n",
      "\t- Explicitly set the environment variable TOKENIZERS_PARALLELISM=(true | false)\n",
      "huggingface/tokenizers: The current process just got forked, after parallelism has already been used. Disabling parallelism to avoid deadlocks...\n",
      "To disable this warning, you can either:\n",
      "\t- Avoid using `tokenizers` before the fork if possible\n",
      "\t- Explicitly set the environment variable TOKENIZERS_PARALLELISM=(true | false)\n",
      "huggingface/tokenizers: The current process just got forked, after parallelism has already been used. Disabling parallelism to avoid deadlocks...\n",
      "To disable this warning, you can either:\n",
      "\t- Avoid using `tokenizers` before the fork if possible\n",
      "\t- Explicitly set the environment variable TOKENIZERS_PARALLELISM=(true | false)\n",
      "huggingface/tokenizers: The current process just got forked, after parallelism has already been used. Disabling parallelism to avoid deadlocks...\n",
      "To disable this warning, you can either:\n",
      "\t- Avoid using `tokenizers` before the fork if possible\n",
      "\t- Explicitly set the environment variable TOKENIZERS_PARALLELISM=(true | false)\n",
      "huggingface/tokenizers: The current process just got forked, after parallelism has already been used. Disabling parallelism to avoid deadlocks...\n",
      "To disable this warning, you can either:\n",
      "\t- Avoid using `tokenizers` before the fork if possible\n",
      "\t- Explicitly set the environment variable TOKENIZERS_PARALLELISM=(true | false)\n",
      "huggingface/tokenizers: The current process just got forked, after parallelism has already been used. Disabling parallelism to avoid deadlocks...\n",
      "To disable this warning, you can either:\n",
      "\t- Avoid using `tokenizers` before the fork if possible\n",
      "\t- Explicitly set the environment variable TOKENIZERS_PARALLELISM=(true | false)\n",
      "huggingface/tokenizers: The current process just got forked, after parallelism has already been used. Disabling parallelism to avoid deadlocks...\n",
      "To disable this warning, you can either:\n",
      "\t- Avoid using `tokenizers` before the fork if possible\n",
      "\t- Explicitly set the environment variable TOKENIZERS_PARALLELISM=(true | false)\n",
      "huggingface/tokenizers: The current process just got forked, after parallelism has already been used. Disabling parallelism to avoid deadlocks...\n",
      "To disable this warning, you can either:\n",
      "\t- Avoid using `tokenizers` before the fork if possible\n",
      "\t- Explicitly set the environment variable TOKENIZERS_PARALLELISM=(true | false)\n",
      "huggingface/tokenizers: The current process just got forked, after parallelism has already been used. Disabling parallelism to avoid deadlocks...\n",
      "To disable this warning, you can either:\n",
      "\t- Avoid using `tokenizers` before the fork if possible\n",
      "\t- Explicitly set the environment variable TOKENIZERS_PARALLELISM=(true | false)\n",
      "huggingface/tokenizers: The current process just got forked, after parallelism has already been used. Disabling parallelism to avoid deadlocks...\n",
      "To disable this warning, you can either:\n",
      "\t- Avoid using `tokenizers` before the fork if possible\n",
      "\t- Explicitly set the environment variable TOKENIZERS_PARALLELISM=(true | false)\n",
      "huggingface/tokenizers: The current process just got forked, after parallelism has already been used. Disabling parallelism to avoid deadlocks...\n",
      "To disable this warning, you can either:\n",
      "\t- Avoid using `tokenizers` before the fork if possible\n",
      "\t- Explicitly set the environment variable TOKENIZERS_PARALLELISM=(true | false)\n",
      "huggingface/tokenizers: The current process just got forked, after parallelism has already been used. Disabling parallelism to avoid deadlocks...\n",
      "To disable this warning, you can either:\n",
      "\t- Avoid using `tokenizers` before the fork if possible\n",
      "\t- Explicitly set the environment variable TOKENIZERS_PARALLELISM=(true | false)\n"
     ]
    },
    {
     "name": "stderr",
     "output_type": "stream",
     "text": [
      " 99%|█████████▉| 4902/4960 [00:24<00:00, 328.84it/s]/CSC_CONTAINER/miniconda/envs/env1/lib/python3.10/multiprocessing/popen_fork.py:66: ResourceWarning: Unclosed socket <zmq.Socket(zmq.PUSH) at 0x7f50fd695840>\n",
      "  self.pid = os.fork()\n",
      "ResourceWarning: Enable tracemalloc to get the object allocation traceback\n",
      "/CSC_CONTAINER/miniconda/envs/env1/lib/python3.10/multiprocessing/popen_fork.py:66: ResourceWarning: Unclosed socket <zmq.Socket(zmq.PUSH) at 0x7f4abac4a6e0>\n",
      "  self.pid = os.fork()\n",
      "ResourceWarning: Enable tracemalloc to get the object allocation traceback\n",
      "/CSC_CONTAINER/miniconda/envs/env1/lib/python3.10/multiprocessing/popen_fork.py:66: ResourceWarning: Unclosed socket <zmq.Socket(zmq.PUSH) at 0x7f4f9d13b580>\n",
      "  self.pid = os.fork()\n",
      "ResourceWarning: Enable tracemalloc to get the object allocation traceback\n",
      "/CSC_CONTAINER/miniconda/envs/env1/lib/python3.10/multiprocessing/popen_fork.py:66: ResourceWarning: Unclosed socket <zmq.Socket(zmq.PUSH) at 0x7f50fd695840>\n",
      "  self.pid = os.fork()\n",
      "ResourceWarning: Enable tracemalloc to get the object allocation traceback\n",
      "/CSC_CONTAINER/miniconda/envs/env1/lib/python3.10/multiprocessing/popen_fork.py:66: ResourceWarning: Unclosed socket <zmq.Socket(zmq.PUSH) at 0x7f4abac4a6e0>\n",
      "  self.pid = os.fork()\n",
      "ResourceWarning: Enable tracemalloc to get the object allocation traceback\n",
      "/CSC_CONTAINER/miniconda/envs/env1/lib/python3.10/multiprocessing/popen_fork.py:66: ResourceWarning: Unclosed socket <zmq.Socket(zmq.PUSH) at 0x7f4f9d13b580>\n",
      "  self.pid = os.fork()\n",
      "ResourceWarning: Enable tracemalloc to get the object allocation traceback\n"
     ]
    },
    {
     "name": "stdout",
     "output_type": "stream",
     "text": [
      "huggingface/tokenizers: The current process just got forked, after parallelism has already been used. Disabling parallelism to avoid deadlocks...\n",
      "To disable this warning, you can either:\n",
      "\t- Avoid using `tokenizers` before the fork if possible\n",
      "\t- Explicitly set the environment variable TOKENIZERS_PARALLELISM=(true | false)\n"
     ]
    },
    {
     "name": "stderr",
     "output_type": "stream",
     "text": [
      "/CSC_CONTAINER/miniconda/envs/env1/lib/python3.10/multiprocessing/popen_fork.py:66: ResourceWarning: Unclosed socket <zmq.Socket(zmq.PUSH) at 0x7f50fd695840>\n",
      "  self.pid = os.fork()\n",
      "ResourceWarning: Enable tracemalloc to get the object allocation traceback\n",
      "/CSC_CONTAINER/miniconda/envs/env1/lib/python3.10/multiprocessing/popen_fork.py:66: ResourceWarning: Unclosed socket <zmq.Socket(zmq.PUSH) at 0x7f4abac4a6e0>\n",
      "  self.pid = os.fork()\n",
      "ResourceWarning: Enable tracemalloc to get the object allocation traceback\n",
      "/CSC_CONTAINER/miniconda/envs/env1/lib/python3.10/multiprocessing/popen_fork.py:66: ResourceWarning: Unclosed socket <zmq.Socket(zmq.PUSH) at 0x7f4f9d13b580>\n",
      "  self.pid = os.fork()\n",
      "ResourceWarning: Enable tracemalloc to get the object allocation traceback\n",
      "/CSC_CONTAINER/miniconda/envs/env1/lib/python3.10/multiprocessing/popen_fork.py:66: ResourceWarning: Unclosed socket <zmq.Socket(zmq.PUSH) at 0x7f50fd695840>\n",
      "  self.pid = os.fork()\n",
      "ResourceWarning: Enable tracemalloc to get the object allocation traceback\n",
      "/CSC_CONTAINER/miniconda/envs/env1/lib/python3.10/multiprocessing/popen_fork.py:66: ResourceWarning: Unclosed socket <zmq.Socket(zmq.PUSH) at 0x7f4abac4a6e0>\n",
      "  self.pid = os.fork()\n",
      "ResourceWarning: Enable tracemalloc to get the object allocation traceback\n",
      "/CSC_CONTAINER/miniconda/envs/env1/lib/python3.10/multiprocessing/popen_fork.py:66: ResourceWarning: Unclosed socket <zmq.Socket(zmq.PUSH) at 0x7f4f9d13b580>\n",
      "  self.pid = os.fork()\n",
      "ResourceWarning: Enable tracemalloc to get the object allocation traceback\n",
      "/CSC_CONTAINER/miniconda/envs/env1/lib/python3.10/multiprocessing/popen_fork.py:66: ResourceWarning: Unclosed socket <zmq.Socket(zmq.PUSH) at 0x7f50fd695840>\n",
      "  self.pid = os.fork()\n",
      "ResourceWarning: Enable tracemalloc to get the object allocation traceback\n",
      "/CSC_CONTAINER/miniconda/envs/env1/lib/python3.10/multiprocessing/popen_fork.py:66: ResourceWarning: Unclosed socket <zmq.Socket(zmq.PUSH) at 0x7f4abac4a6e0>\n",
      "  self.pid = os.fork()\n",
      "ResourceWarning: Enable tracemalloc to get the object allocation traceback\n",
      "/CSC_CONTAINER/miniconda/envs/env1/lib/python3.10/multiprocessing/popen_fork.py:66: ResourceWarning: Unclosed socket <zmq.Socket(zmq.PUSH) at 0x7f4f9d13b580>\n",
      "  self.pid = os.fork()\n",
      "ResourceWarning: Enable tracemalloc to get the object allocation traceback\n",
      "/CSC_CONTAINER/miniconda/envs/env1/lib/python3.10/multiprocessing/popen_fork.py:66: ResourceWarning: Unclosed socket <zmq.Socket(zmq.PUSH) at 0x7f50fd695840>\n",
      "  self.pid = os.fork()\n",
      "ResourceWarning: Enable tracemalloc to get the object allocation traceback\n",
      "/CSC_CONTAINER/miniconda/envs/env1/lib/python3.10/multiprocessing/popen_fork.py:66: ResourceWarning: Unclosed socket <zmq.Socket(zmq.PUSH) at 0x7f4abac4a6e0>\n",
      "  self.pid = os.fork()\n",
      "ResourceWarning: Enable tracemalloc to get the object allocation traceback\n",
      "/CSC_CONTAINER/miniconda/envs/env1/lib/python3.10/multiprocessing/popen_fork.py:66: ResourceWarning: Unclosed socket <zmq.Socket(zmq.PUSH) at 0x7f4f9d13b580>\n",
      "  self.pid = os.fork()\n",
      "ResourceWarning: Enable tracemalloc to get the object allocation traceback\n",
      "/CSC_CONTAINER/miniconda/envs/env1/lib/python3.10/multiprocessing/popen_fork.py:66: ResourceWarning: Unclosed socket <zmq.Socket(zmq.PUSH) at 0x7f50fd695840>\n",
      "  self.pid = os.fork()\n",
      "ResourceWarning: Enable tracemalloc to get the object allocation traceback\n",
      "/CSC_CONTAINER/miniconda/envs/env1/lib/python3.10/multiprocessing/popen_fork.py:66: ResourceWarning: Unclosed socket <zmq.Socket(zmq.PUSH) at 0x7f4f9d13b580>\n",
      "  self.pid = os.fork()\n",
      "ResourceWarning: Enable tracemalloc to get the object allocation traceback\n",
      "/CSC_CONTAINER/miniconda/envs/env1/lib/python3.10/multiprocessing/popen_fork.py:66: ResourceWarning: Unclosed socket <zmq.Socket(zmq.PUSH) at 0x7f50fd695840>\n",
      "  self.pid = os.fork()\n",
      "ResourceWarning: Enable tracemalloc to get the object allocation traceback\n",
      "/CSC_CONTAINER/miniconda/envs/env1/lib/python3.10/multiprocessing/popen_fork.py:66: ResourceWarning: Unclosed socket <zmq.Socket(zmq.PUSH) at 0x7f4abac4a6e0>\n",
      "  self.pid = os.fork()\n",
      "ResourceWarning: Enable tracemalloc to get the object allocation traceback\n",
      "/CSC_CONTAINER/miniconda/envs/env1/lib/python3.10/multiprocessing/popen_fork.py:66: ResourceWarning: Unclosed socket <zmq.Socket(zmq.PUSH) at 0x7f4f9d13b580>\n",
      "  self.pid = os.fork()\n",
      "ResourceWarning: Enable tracemalloc to get the object allocation traceback\n",
      "/CSC_CONTAINER/miniconda/envs/env1/lib/python3.10/multiprocessing/popen_fork.py:66: ResourceWarning: Unclosed socket <zmq.Socket(zmq.PUSH) at 0x7f50fd695840>\n",
      "  self.pid = os.fork()\n",
      "ResourceWarning: Enable tracemalloc to get the object allocation traceback\n",
      "/CSC_CONTAINER/miniconda/envs/env1/lib/python3.10/multiprocessing/popen_fork.py:66: ResourceWarning: Unclosed socket <zmq.Socket(zmq.PUSH) at 0x7f4abac4a6e0>\n",
      "  self.pid = os.fork()\n",
      "ResourceWarning: Enable tracemalloc to get the object allocation traceback\n",
      "/CSC_CONTAINER/miniconda/envs/env1/lib/python3.10/multiprocessing/popen_fork.py:66: ResourceWarning: Unclosed socket <zmq.Socket(zmq.PUSH) at 0x7f4f9d13b580>\n",
      "  self.pid = os.fork()\n",
      "ResourceWarning: Enable tracemalloc to get the object allocation traceback\n",
      "/CSC_CONTAINER/miniconda/envs/env1/lib/python3.10/multiprocessing/popen_fork.py:66: ResourceWarning: Unclosed socket <zmq.Socket(zmq.PUSH) at 0x7f50fd695840>\n",
      "  self.pid = os.fork()\n",
      "ResourceWarning: Enable tracemalloc to get the object allocation traceback\n",
      "/CSC_CONTAINER/miniconda/envs/env1/lib/python3.10/multiprocessing/popen_fork.py:66: ResourceWarning: Unclosed socket <zmq.Socket(zmq.PUSH) at 0x7f4abac4a6e0>\n",
      "  self.pid = os.fork()\n",
      "ResourceWarning: Enable tracemalloc to get the object allocation traceback\n",
      "/CSC_CONTAINER/miniconda/envs/env1/lib/python3.10/multiprocessing/popen_fork.py:66: ResourceWarning: Unclosed socket <zmq.Socket(zmq.PUSH) at 0x7f4f9d13b580>\n",
      "  self.pid = os.fork()\n",
      "ResourceWarning: Enable tracemalloc to get the object allocation traceback\n",
      "/CSC_CONTAINER/miniconda/envs/env1/lib/python3.10/multiprocessing/popen_fork.py:66: ResourceWarning: Unclosed socket <zmq.Socket(zmq.PUSH) at 0x7f50fd695840>\n",
      "  self.pid = os.fork()\n",
      "ResourceWarning: Enable tracemalloc to get the object allocation traceback\n",
      "/CSC_CONTAINER/miniconda/envs/env1/lib/python3.10/multiprocessing/popen_fork.py:66: ResourceWarning: Unclosed socket <zmq.Socket(zmq.PUSH) at 0x7f4f9d13b580>\n",
      "  self.pid = os.fork()\n",
      "ResourceWarning: Enable tracemalloc to get the object allocation traceback\n",
      "/CSC_CONTAINER/miniconda/envs/env1/lib/python3.10/multiprocessing/popen_fork.py:66: ResourceWarning: Unclosed socket <zmq.Socket(zmq.PUSH) at 0x7f50fd695840>\n",
      "  self.pid = os.fork()\n",
      "ResourceWarning: Enable tracemalloc to get the object allocation traceback\n",
      "/CSC_CONTAINER/miniconda/envs/env1/lib/python3.10/multiprocessing/popen_fork.py:66: ResourceWarning: Unclosed socket <zmq.Socket(zmq.PUSH) at 0x7f4abac4a6e0>\n",
      "  self.pid = os.fork()\n",
      "ResourceWarning: Enable tracemalloc to get the object allocation traceback\n",
      "/CSC_CONTAINER/miniconda/envs/env1/lib/python3.10/multiprocessing/popen_fork.py:66: ResourceWarning: Unclosed socket <zmq.Socket(zmq.PUSH) at 0x7f4f9d13b580>\n",
      "  self.pid = os.fork()\n",
      "ResourceWarning: Enable tracemalloc to get the object allocation traceback\n",
      "/CSC_CONTAINER/miniconda/envs/env1/lib/python3.10/multiprocessing/popen_fork.py:66: ResourceWarning: Unclosed socket <zmq.Socket(zmq.PUSH) at 0x7f50fd695840>\n",
      "  self.pid = os.fork()\n",
      "ResourceWarning: Enable tracemalloc to get the object allocation traceback\n",
      "/CSC_CONTAINER/miniconda/envs/env1/lib/python3.10/multiprocessing/popen_fork.py:66: ResourceWarning: Unclosed socket <zmq.Socket(zmq.PUSH) at 0x7f4abac4a6e0>\n",
      "  self.pid = os.fork()\n",
      "ResourceWarning: Enable tracemalloc to get the object allocation traceback\n",
      "/CSC_CONTAINER/miniconda/envs/env1/lib/python3.10/multiprocessing/popen_fork.py:66: ResourceWarning: Unclosed socket <zmq.Socket(zmq.PUSH) at 0x7f4f9d13b580>\n",
      "  self.pid = os.fork()\n",
      "ResourceWarning: Enable tracemalloc to get the object allocation traceback\n",
      "/CSC_CONTAINER/miniconda/envs/env1/lib/python3.10/multiprocessing/popen_fork.py:66: ResourceWarning: Unclosed socket <zmq.Socket(zmq.PUSH) at 0x7f50fd695840>\n",
      "  self.pid = os.fork()\n",
      "ResourceWarning: Enable tracemalloc to get the object allocation traceback\n",
      "/CSC_CONTAINER/miniconda/envs/env1/lib/python3.10/multiprocessing/popen_fork.py:66: ResourceWarning: Unclosed socket <zmq.Socket(zmq.PUSH) at 0x7f4abac4a6e0>\n",
      "  self.pid = os.fork()\n",
      "ResourceWarning: Enable tracemalloc to get the object allocation traceback\n",
      "/CSC_CONTAINER/miniconda/envs/env1/lib/python3.10/multiprocessing/popen_fork.py:66: ResourceWarning: Unclosed socket <zmq.Socket(zmq.PUSH) at 0x7f4f9d13b580>\n",
      "  self.pid = os.fork()\n",
      "ResourceWarning: Enable tracemalloc to get the object allocation traceback\n"
     ]
    },
    {
     "name": "stderr",
     "output_type": "stream",
     "text": [
      "/CSC_CONTAINER/miniconda/envs/env1/lib/python3.10/multiprocessing/popen_fork.py:66: ResourceWarning: Unclosed socket <zmq.Socket(zmq.PUSH) at 0x7f50fd695840>\n",
      "  self.pid = os.fork()\n",
      "ResourceWarning: Enable tracemalloc to get the object allocation traceback\n",
      "/CSC_CONTAINER/miniconda/envs/env1/lib/python3.10/multiprocessing/popen_fork.py:66: ResourceWarning: Unclosed socket <zmq.Socket(zmq.PUSH) at 0x7f4abac4a6e0>\n",
      "  self.pid = os.fork()\n",
      "ResourceWarning: Enable tracemalloc to get the object allocation traceback\n",
      "/CSC_CONTAINER/miniconda/envs/env1/lib/python3.10/multiprocessing/popen_fork.py:66: ResourceWarning: Unclosed socket <zmq.Socket(zmq.PUSH) at 0x7f4f9d13b580>\n",
      "  self.pid = os.fork()\n",
      "ResourceWarning: Enable tracemalloc to get the object allocation traceback\n",
      "/CSC_CONTAINER/miniconda/envs/env1/lib/python3.10/multiprocessing/popen_fork.py:66: ResourceWarning: Unclosed socket <zmq.Socket(zmq.PUSH) at 0x7f50fd695840>\n",
      "  self.pid = os.fork()\n",
      "ResourceWarning: Enable tracemalloc to get the object allocation traceback\n",
      "/CSC_CONTAINER/miniconda/envs/env1/lib/python3.10/multiprocessing/popen_fork.py:66: ResourceWarning: Unclosed socket <zmq.Socket(zmq.PUSH) at 0x7f4abac4a6e0>\n",
      "  self.pid = os.fork()\n",
      "ResourceWarning: Enable tracemalloc to get the object allocation traceback\n",
      "/CSC_CONTAINER/miniconda/envs/env1/lib/python3.10/multiprocessing/popen_fork.py:66: ResourceWarning: Unclosed socket <zmq.Socket(zmq.PUSH) at 0x7f4f9d13b580>\n",
      "  self.pid = os.fork()\n",
      "ResourceWarning: Enable tracemalloc to get the object allocation traceback\n",
      "/CSC_CONTAINER/miniconda/envs/env1/lib/python3.10/multiprocessing/popen_fork.py:66: ResourceWarning: Unclosed socket <zmq.Socket(zmq.PUSH) at 0x7f50fd695840>\n",
      "  self.pid = os.fork()\n",
      "ResourceWarning: Enable tracemalloc to get the object allocation traceback\n",
      "/CSC_CONTAINER/miniconda/envs/env1/lib/python3.10/multiprocessing/popen_fork.py:66: ResourceWarning: Unclosed socket <zmq.Socket(zmq.PUSH) at 0x7f4abac4a6e0>\n",
      "  self.pid = os.fork()\n",
      "ResourceWarning: Enable tracemalloc to get the object allocation traceback\n",
      "/CSC_CONTAINER/miniconda/envs/env1/lib/python3.10/multiprocessing/popen_fork.py:66: ResourceWarning: Unclosed socket <zmq.Socket(zmq.PUSH) at 0x7f4f9d13b580>\n",
      "  self.pid = os.fork()\n",
      "ResourceWarning: Enable tracemalloc to get the object allocation traceback\n",
      "/CSC_CONTAINER/miniconda/envs/env1/lib/python3.10/multiprocessing/popen_fork.py:66: ResourceWarning: Unclosed socket <zmq.Socket(zmq.PUSH) at 0x7f50fd695840>\n",
      "  self.pid = os.fork()\n",
      "ResourceWarning: Enable tracemalloc to get the object allocation traceback\n",
      "/CSC_CONTAINER/miniconda/envs/env1/lib/python3.10/multiprocessing/popen_fork.py:66: ResourceWarning: Unclosed socket <zmq.Socket(zmq.PUSH) at 0x7f4abac4a6e0>\n",
      "  self.pid = os.fork()\n",
      "ResourceWarning: Enable tracemalloc to get the object allocation traceback\n",
      "/CSC_CONTAINER/miniconda/envs/env1/lib/python3.10/multiprocessing/popen_fork.py:66: ResourceWarning: Unclosed socket <zmq.Socket(zmq.PUSH) at 0x7f4f9d13b580>\n",
      "  self.pid = os.fork()\n",
      "ResourceWarning: Enable tracemalloc to get the object allocation traceback\n",
      "/CSC_CONTAINER/miniconda/envs/env1/lib/python3.10/multiprocessing/popen_fork.py:66: ResourceWarning: Unclosed socket <zmq.Socket(zmq.PUSH) at 0x7f50fd695840>\n",
      "  self.pid = os.fork()\n",
      "ResourceWarning: Enable tracemalloc to get the object allocation traceback\n",
      "/CSC_CONTAINER/miniconda/envs/env1/lib/python3.10/multiprocessing/popen_fork.py:66: ResourceWarning: Unclosed socket <zmq.Socket(zmq.PUSH) at 0x7f4abac4a6e0>\n",
      "  self.pid = os.fork()\n",
      "ResourceWarning: Enable tracemalloc to get the object allocation traceback\n",
      "/CSC_CONTAINER/miniconda/envs/env1/lib/python3.10/multiprocessing/popen_fork.py:66: ResourceWarning: Unclosed socket <zmq.Socket(zmq.PUSH) at 0x7f4f9d13b580>\n",
      "  self.pid = os.fork()\n",
      "ResourceWarning: Enable tracemalloc to get the object allocation traceback\n",
      "/CSC_CONTAINER/miniconda/envs/env1/lib/python3.10/multiprocessing/popen_fork.py:66: ResourceWarning: Unclosed socket <zmq.Socket(zmq.PUSH) at 0x7f50fd695840>\n",
      "  self.pid = os.fork()\n",
      "ResourceWarning: Enable tracemalloc to get the object allocation traceback\n",
      "/CSC_CONTAINER/miniconda/envs/env1/lib/python3.10/multiprocessing/popen_fork.py:66: ResourceWarning: Unclosed socket <zmq.Socket(zmq.PUSH) at 0x7f4abac4a6e0>\n",
      "  self.pid = os.fork()\n",
      "ResourceWarning: Enable tracemalloc to get the object allocation traceback\n",
      "/CSC_CONTAINER/miniconda/envs/env1/lib/python3.10/multiprocessing/popen_fork.py:66: ResourceWarning: Unclosed socket <zmq.Socket(zmq.PUSH) at 0x7f4f9d13b580>\n",
      "  self.pid = os.fork()\n",
      "ResourceWarning: Enable tracemalloc to get the object allocation traceback\n",
      "/CSC_CONTAINER/miniconda/envs/env1/lib/python3.10/multiprocessing/popen_fork.py:66: ResourceWarning: Unclosed socket <zmq.Socket(zmq.PUSH) at 0x7f50fd695840>\n",
      "  self.pid = os.fork()\n",
      "ResourceWarning: Enable tracemalloc to get the object allocation traceback\n",
      "/CSC_CONTAINER/miniconda/envs/env1/lib/python3.10/multiprocessing/popen_fork.py:66: ResourceWarning: Unclosed socket <zmq.Socket(zmq.PUSH) at 0x7f4abac4a6e0>\n",
      "  self.pid = os.fork()\n",
      "ResourceWarning: Enable tracemalloc to get the object allocation traceback\n",
      "/CSC_CONTAINER/miniconda/envs/env1/lib/python3.10/multiprocessing/popen_fork.py:66: ResourceWarning: Unclosed socket <zmq.Socket(zmq.PUSH) at 0x7f4f9d13b580>\n",
      "  self.pid = os.fork()\n",
      "ResourceWarning: Enable tracemalloc to get the object allocation traceback\n",
      "/CSC_CONTAINER/miniconda/envs/env1/lib/python3.10/multiprocessing/popen_fork.py:66: ResourceWarning: Unclosed socket <zmq.Socket(zmq.PUSH) at 0x7f50fd695840>\n",
      "  self.pid = os.fork()\n",
      "ResourceWarning: Enable tracemalloc to get the object allocation traceback\n",
      "/CSC_CONTAINER/miniconda/envs/env1/lib/python3.10/multiprocessing/popen_fork.py:66: ResourceWarning: Unclosed socket <zmq.Socket(zmq.PUSH) at 0x7f4abac4a6e0>\n",
      "  self.pid = os.fork()\n",
      "ResourceWarning: Enable tracemalloc to get the object allocation traceback\n",
      "/CSC_CONTAINER/miniconda/envs/env1/lib/python3.10/multiprocessing/popen_fork.py:66: ResourceWarning: Unclosed socket <zmq.Socket(zmq.PUSH) at 0x7f4f9d13b580>\n",
      "  self.pid = os.fork()\n",
      "ResourceWarning: Enable tracemalloc to get the object allocation traceback\n"
     ]
    },
    {
     "name": "stdout",
     "output_type": "stream",
     "text": [
      "huggingface/tokenizers: The current process just got forked, after parallelism has already been used. Disabling parallelism to avoid deadlocks...\n",
      "To disable this warning, you can either:\n",
      "\t- Avoid using `tokenizers` before the fork if possible\n",
      "\t- Explicitly set the environment variable TOKENIZERS_PARALLELISM=(true | false)\n"
     ]
    },
    {
     "name": "stderr",
     "output_type": "stream",
     "text": [
      "/CSC_CONTAINER/miniconda/envs/env1/lib/python3.10/multiprocessing/popen_fork.py:66: ResourceWarning: Unclosed socket <zmq.Socket(zmq.PUSH) at 0x7f50fd695840>\n",
      "  self.pid = os.fork()\n",
      "ResourceWarning: Enable tracemalloc to get the object allocation traceback\n",
      "/CSC_CONTAINER/miniconda/envs/env1/lib/python3.10/multiprocessing/popen_fork.py:66: ResourceWarning: Unclosed socket <zmq.Socket(zmq.PUSH) at 0x7f4abac4a6e0>\n",
      "  self.pid = os.fork()\n",
      "ResourceWarning: Enable tracemalloc to get the object allocation traceback\n",
      "/CSC_CONTAINER/miniconda/envs/env1/lib/python3.10/multiprocessing/popen_fork.py:66: ResourceWarning: Unclosed socket <zmq.Socket(zmq.PUSH) at 0x7f4f9d13b580>\n",
      "  self.pid = os.fork()\n",
      "ResourceWarning: Enable tracemalloc to get the object allocation traceback\n",
      "/CSC_CONTAINER/miniconda/envs/env1/lib/python3.10/multiprocessing/popen_fork.py:66: ResourceWarning: Unclosed socket <zmq.Socket(zmq.PUSH) at 0x7f50fd695840>\n",
      "  self.pid = os.fork()\n",
      "ResourceWarning: Enable tracemalloc to get the object allocation traceback\n",
      "/CSC_CONTAINER/miniconda/envs/env1/lib/python3.10/multiprocessing/popen_fork.py:66: ResourceWarning: Unclosed socket <zmq.Socket(zmq.PUSH) at 0x7f4abac4a6e0>\n",
      "  self.pid = os.fork()\n",
      "ResourceWarning: Enable tracemalloc to get the object allocation traceback\n",
      "/CSC_CONTAINER/miniconda/envs/env1/lib/python3.10/multiprocessing/popen_fork.py:66: ResourceWarning: Unclosed socket <zmq.Socket(zmq.PUSH) at 0x7f4f9d13b580>\n",
      "  self.pid = os.fork()\n",
      "ResourceWarning: Enable tracemalloc to get the object allocation traceback\n",
      "/CSC_CONTAINER/miniconda/envs/env1/lib/python3.10/multiprocessing/popen_fork.py:66: ResourceWarning: Unclosed socket <zmq.Socket(zmq.PUSH) at 0x7f50fd695840>\n",
      "  self.pid = os.fork()\n",
      "ResourceWarning: Enable tracemalloc to get the object allocation traceback\n",
      "/CSC_CONTAINER/miniconda/envs/env1/lib/python3.10/multiprocessing/popen_fork.py:66: ResourceWarning: Unclosed socket <zmq.Socket(zmq.PUSH) at 0x7f4abac4a6e0>\n",
      "  self.pid = os.fork()\n",
      "ResourceWarning: Enable tracemalloc to get the object allocation traceback\n",
      "/CSC_CONTAINER/miniconda/envs/env1/lib/python3.10/multiprocessing/popen_fork.py:66: ResourceWarning: Unclosed socket <zmq.Socket(zmq.PUSH) at 0x7f4f9d13b580>\n",
      "  self.pid = os.fork()\n",
      "ResourceWarning: Enable tracemalloc to get the object allocation traceback\n",
      "/CSC_CONTAINER/miniconda/envs/env1/lib/python3.10/multiprocessing/popen_fork.py:66: ResourceWarning: Unclosed socket <zmq.Socket(zmq.PUSH) at 0x7f50fd695840>\n",
      "  self.pid = os.fork()\n",
      "ResourceWarning: Enable tracemalloc to get the object allocation traceback\n",
      "/CSC_CONTAINER/miniconda/envs/env1/lib/python3.10/multiprocessing/popen_fork.py:66: ResourceWarning: Unclosed socket <zmq.Socket(zmq.PUSH) at 0x7f4abac4a6e0>\n",
      "  self.pid = os.fork()\n",
      "ResourceWarning: Enable tracemalloc to get the object allocation traceback\n",
      "/CSC_CONTAINER/miniconda/envs/env1/lib/python3.10/multiprocessing/popen_fork.py:66: ResourceWarning: Unclosed socket <zmq.Socket(zmq.PUSH) at 0x7f4f9d13b580>\n",
      "  self.pid = os.fork()\n",
      "ResourceWarning: Enable tracemalloc to get the object allocation traceback\n",
      "/CSC_CONTAINER/miniconda/envs/env1/lib/python3.10/multiprocessing/popen_fork.py:66: ResourceWarning: Unclosed socket <zmq.Socket(zmq.PUSH) at 0x7f50fd695840>\n",
      "  self.pid = os.fork()\n",
      "ResourceWarning: Enable tracemalloc to get the object allocation traceback\n",
      "/CSC_CONTAINER/miniconda/envs/env1/lib/python3.10/multiprocessing/popen_fork.py:66: ResourceWarning: Unclosed socket <zmq.Socket(zmq.PUSH) at 0x7f4abac4a6e0>\n",
      "  self.pid = os.fork()\n",
      "ResourceWarning: Enable tracemalloc to get the object allocation traceback\n",
      "/CSC_CONTAINER/miniconda/envs/env1/lib/python3.10/multiprocessing/popen_fork.py:66: ResourceWarning: Unclosed socket <zmq.Socket(zmq.PUSH) at 0x7f4f9d13b580>\n",
      "  self.pid = os.fork()\n",
      "ResourceWarning: Enable tracemalloc to get the object allocation traceback\n",
      "/CSC_CONTAINER/miniconda/envs/env1/lib/python3.10/multiprocessing/popen_fork.py:66: ResourceWarning: Unclosed socket <zmq.Socket(zmq.PUSH) at 0x7f50fd695840>\n",
      "  self.pid = os.fork()\n",
      "ResourceWarning: Enable tracemalloc to get the object allocation traceback\n",
      "/CSC_CONTAINER/miniconda/envs/env1/lib/python3.10/multiprocessing/popen_fork.py:66: ResourceWarning: Unclosed socket <zmq.Socket(zmq.PUSH) at 0x7f4abac4a6e0>\n",
      "  self.pid = os.fork()\n",
      "ResourceWarning: Enable tracemalloc to get the object allocation traceback\n",
      "/CSC_CONTAINER/miniconda/envs/env1/lib/python3.10/multiprocessing/popen_fork.py:66: ResourceWarning: Unclosed socket <zmq.Socket(zmq.PUSH) at 0x7f4f9d13b580>\n",
      "  self.pid = os.fork()\n",
      "ResourceWarning: Enable tracemalloc to get the object allocation traceback\n",
      "/CSC_CONTAINER/miniconda/envs/env1/lib/python3.10/multiprocessing/popen_fork.py:66: ResourceWarning: Unclosed socket <zmq.Socket(zmq.PUSH) at 0x7f50fd695840>\n",
      "  self.pid = os.fork()\n",
      "ResourceWarning: Enable tracemalloc to get the object allocation traceback\n",
      "/CSC_CONTAINER/miniconda/envs/env1/lib/python3.10/multiprocessing/popen_fork.py:66: ResourceWarning: Unclosed socket <zmq.Socket(zmq.PUSH) at 0x7f4abac4a6e0>\n",
      "  self.pid = os.fork()\n",
      "ResourceWarning: Enable tracemalloc to get the object allocation traceback\n",
      "/CSC_CONTAINER/miniconda/envs/env1/lib/python3.10/multiprocessing/popen_fork.py:66: ResourceWarning: Unclosed socket <zmq.Socket(zmq.PUSH) at 0x7f4f9d13b580>\n",
      "  self.pid = os.fork()\n",
      "ResourceWarning: Enable tracemalloc to get the object allocation traceback\n",
      "/CSC_CONTAINER/miniconda/envs/env1/lib/python3.10/multiprocessing/popen_fork.py:66: ResourceWarning: Unclosed socket <zmq.Socket(zmq.PUSH) at 0x7f50fd695840>\n",
      "  self.pid = os.fork()\n",
      "ResourceWarning: Enable tracemalloc to get the object allocation traceback\n",
      "/CSC_CONTAINER/miniconda/envs/env1/lib/python3.10/multiprocessing/popen_fork.py:66: ResourceWarning: Unclosed socket <zmq.Socket(zmq.PUSH) at 0x7f4abac4a6e0>\n",
      "  self.pid = os.fork()\n",
      "ResourceWarning: Enable tracemalloc to get the object allocation traceback\n",
      "/CSC_CONTAINER/miniconda/envs/env1/lib/python3.10/multiprocessing/popen_fork.py:66: ResourceWarning: Unclosed socket <zmq.Socket(zmq.PUSH) at 0x7f4f9d13b580>\n",
      "  self.pid = os.fork()\n",
      "ResourceWarning: Enable tracemalloc to get the object allocation traceback\n",
      "/CSC_CONTAINER/miniconda/envs/env1/lib/python3.10/multiprocessing/popen_fork.py:66: ResourceWarning: Unclosed socket <zmq.Socket(zmq.PUSH) at 0x7f50fd695840>\n",
      "  self.pid = os.fork()\n",
      "ResourceWarning: Enable tracemalloc to get the object allocation traceback\n",
      "/CSC_CONTAINER/miniconda/envs/env1/lib/python3.10/multiprocessing/popen_fork.py:66: ResourceWarning: Unclosed socket <zmq.Socket(zmq.PUSH) at 0x7f4abac4a6e0>\n",
      "  self.pid = os.fork()\n",
      "ResourceWarning: Enable tracemalloc to get the object allocation traceback\n",
      "/CSC_CONTAINER/miniconda/envs/env1/lib/python3.10/multiprocessing/popen_fork.py:66: ResourceWarning: Unclosed socket <zmq.Socket(zmq.PUSH) at 0x7f4f9d13b580>\n",
      "  self.pid = os.fork()\n",
      "ResourceWarning: Enable tracemalloc to get the object allocation traceback\n",
      "/CSC_CONTAINER/miniconda/envs/env1/lib/python3.10/multiprocessing/popen_fork.py:66: ResourceWarning: Unclosed socket <zmq.Socket(zmq.PUSH) at 0x7f50fd695840>\n",
      "  self.pid = os.fork()\n",
      "ResourceWarning: Enable tracemalloc to get the object allocation traceback\n",
      "/CSC_CONTAINER/miniconda/envs/env1/lib/python3.10/multiprocessing/popen_fork.py:66: ResourceWarning: Unclosed socket <zmq.Socket(zmq.PUSH) at 0x7f4abac4a6e0>\n",
      "  self.pid = os.fork()\n",
      "ResourceWarning: Enable tracemalloc to get the object allocation traceback\n",
      "/CSC_CONTAINER/miniconda/envs/env1/lib/python3.10/multiprocessing/popen_fork.py:66: ResourceWarning: Unclosed socket <zmq.Socket(zmq.PUSH) at 0x7f4f9d13b580>\n",
      "  self.pid = os.fork()\n",
      "ResourceWarning: Enable tracemalloc to get the object allocation traceback\n",
      "/CSC_CONTAINER/miniconda/envs/env1/lib/python3.10/multiprocessing/popen_fork.py:66: ResourceWarning: Unclosed socket <zmq.Socket(zmq.PUSH) at 0x7f50fd695840>\n",
      "  self.pid = os.fork()\n",
      "ResourceWarning: Enable tracemalloc to get the object allocation traceback\n",
      "/CSC_CONTAINER/miniconda/envs/env1/lib/python3.10/multiprocessing/popen_fork.py:66: ResourceWarning: Unclosed socket <zmq.Socket(zmq.PUSH) at 0x7f4abac4a6e0>\n",
      "  self.pid = os.fork()\n",
      "ResourceWarning: Enable tracemalloc to get the object allocation traceback\n",
      "/CSC_CONTAINER/miniconda/envs/env1/lib/python3.10/multiprocessing/popen_fork.py:66: ResourceWarning: Unclosed socket <zmq.Socket(zmq.PUSH) at 0x7f4f9d13b580>\n",
      "  self.pid = os.fork()\n",
      "ResourceWarning: Enable tracemalloc to get the object allocation traceback\n"
     ]
    },
    {
     "name": "stderr",
     "output_type": "stream",
     "text": [
      "/CSC_CONTAINER/miniconda/envs/env1/lib/python3.10/multiprocessing/popen_fork.py:66: ResourceWarning: Unclosed socket <zmq.Socket(zmq.PUSH) at 0x7f50fd695840>\n",
      "  self.pid = os.fork()\n",
      "ResourceWarning: Enable tracemalloc to get the object allocation traceback\n",
      "/CSC_CONTAINER/miniconda/envs/env1/lib/python3.10/multiprocessing/popen_fork.py:66: ResourceWarning: Unclosed socket <zmq.Socket(zmq.PUSH) at 0x7f4abac4a6e0>\n",
      "  self.pid = os.fork()\n",
      "ResourceWarning: Enable tracemalloc to get the object allocation traceback\n",
      "/CSC_CONTAINER/miniconda/envs/env1/lib/python3.10/multiprocessing/popen_fork.py:66: ResourceWarning: Unclosed socket <zmq.Socket(zmq.PUSH) at 0x7f4f9d13b580>\n",
      "  self.pid = os.fork()\n",
      "ResourceWarning: Enable tracemalloc to get the object allocation traceback\n"
     ]
    },
    {
     "name": "stdout",
     "output_type": "stream",
     "text": [
      "huggingface/tokenizers: The current process just got forked, after parallelism has already been used. Disabling parallelism to avoid deadlocks...\n",
      "To disable this warning, you can either:\n",
      "\t- Avoid using `tokenizers` before the fork if possible\n",
      "\t- Explicitly set the environment variable TOKENIZERS_PARALLELISM=(true | false)\n"
     ]
    },
    {
     "name": "stderr",
     "output_type": "stream",
     "text": [
      "/CSC_CONTAINER/miniconda/envs/env1/lib/python3.10/multiprocessing/popen_fork.py:66: ResourceWarning: Unclosed socket <zmq.Socket(zmq.PUSH) at 0x7f50fd695840>\n",
      "  self.pid = os.fork()\n",
      "ResourceWarning: Enable tracemalloc to get the object allocation traceback\n",
      "/CSC_CONTAINER/miniconda/envs/env1/lib/python3.10/multiprocessing/popen_fork.py:66: ResourceWarning: Unclosed socket <zmq.Socket(zmq.PUSH) at 0x7f4abac4a6e0>\n",
      "  self.pid = os.fork()\n",
      "ResourceWarning: Enable tracemalloc to get the object allocation traceback\n",
      "/CSC_CONTAINER/miniconda/envs/env1/lib/python3.10/multiprocessing/popen_fork.py:66: ResourceWarning: Unclosed socket <zmq.Socket(zmq.PUSH) at 0x7f4f9d13b580>\n",
      "  self.pid = os.fork()\n",
      "ResourceWarning: Enable tracemalloc to get the object allocation traceback\n",
      "/CSC_CONTAINER/miniconda/envs/env1/lib/python3.10/multiprocessing/popen_fork.py:66: ResourceWarning: Unclosed socket <zmq.Socket(zmq.PUSH) at 0x7f50fd695840>\n",
      "  self.pid = os.fork()\n",
      "ResourceWarning: Enable tracemalloc to get the object allocation traceback\n",
      "/CSC_CONTAINER/miniconda/envs/env1/lib/python3.10/multiprocessing/popen_fork.py:66: ResourceWarning: Unclosed socket <zmq.Socket(zmq.PUSH) at 0x7f4abac4a6e0>\n",
      "  self.pid = os.fork()\n",
      "ResourceWarning: Enable tracemalloc to get the object allocation traceback\n",
      "/CSC_CONTAINER/miniconda/envs/env1/lib/python3.10/multiprocessing/popen_fork.py:66: ResourceWarning: Unclosed socket <zmq.Socket(zmq.PUSH) at 0x7f4f9d13b580>\n",
      "  self.pid = os.fork()\n",
      "ResourceWarning: Enable tracemalloc to get the object allocation traceback\n",
      "/CSC_CONTAINER/miniconda/envs/env1/lib/python3.10/multiprocessing/popen_fork.py:66: ResourceWarning: Unclosed socket <zmq.Socket(zmq.PUSH) at 0x7f50fd695840>\n",
      "  self.pid = os.fork()\n",
      "ResourceWarning: Enable tracemalloc to get the object allocation traceback\n",
      "/CSC_CONTAINER/miniconda/envs/env1/lib/python3.10/multiprocessing/popen_fork.py:66: ResourceWarning: Unclosed socket <zmq.Socket(zmq.PUSH) at 0x7f4abac4a6e0>\n",
      "  self.pid = os.fork()\n",
      "ResourceWarning: Enable tracemalloc to get the object allocation traceback\n",
      "/CSC_CONTAINER/miniconda/envs/env1/lib/python3.10/multiprocessing/popen_fork.py:66: ResourceWarning: Unclosed socket <zmq.Socket(zmq.PUSH) at 0x7f4f9d13b580>\n",
      "  self.pid = os.fork()\n",
      "ResourceWarning: Enable tracemalloc to get the object allocation traceback\n",
      "/CSC_CONTAINER/miniconda/envs/env1/lib/python3.10/multiprocessing/popen_fork.py:66: ResourceWarning: Unclosed socket <zmq.Socket(zmq.PUSH) at 0x7f50fd695840>\n",
      "  self.pid = os.fork()\n",
      "ResourceWarning: Enable tracemalloc to get the object allocation traceback\n",
      "/CSC_CONTAINER/miniconda/envs/env1/lib/python3.10/multiprocessing/popen_fork.py:66: ResourceWarning: Unclosed socket <zmq.Socket(zmq.PUSH) at 0x7f4abac4a6e0>\n",
      "  self.pid = os.fork()\n",
      "ResourceWarning: Enable tracemalloc to get the object allocation traceback\n",
      "/CSC_CONTAINER/miniconda/envs/env1/lib/python3.10/multiprocessing/popen_fork.py:66: ResourceWarning: Unclosed socket <zmq.Socket(zmq.PUSH) at 0x7f4f9d13b580>\n",
      "  self.pid = os.fork()\n",
      "ResourceWarning: Enable tracemalloc to get the object allocation traceback\n",
      "/CSC_CONTAINER/miniconda/envs/env1/lib/python3.10/multiprocessing/popen_fork.py:66: ResourceWarning: Unclosed socket <zmq.Socket(zmq.PUSH) at 0x7f50fd695840>\n",
      "  self.pid = os.fork()\n",
      "ResourceWarning: Enable tracemalloc to get the object allocation traceback\n",
      "/CSC_CONTAINER/miniconda/envs/env1/lib/python3.10/multiprocessing/popen_fork.py:66: ResourceWarning: Unclosed socket <zmq.Socket(zmq.PUSH) at 0x7f4abac4a6e0>\n",
      "  self.pid = os.fork()\n",
      "ResourceWarning: Enable tracemalloc to get the object allocation traceback\n",
      "/CSC_CONTAINER/miniconda/envs/env1/lib/python3.10/multiprocessing/popen_fork.py:66: ResourceWarning: Unclosed socket <zmq.Socket(zmq.PUSH) at 0x7f4f9d13b580>\n",
      "  self.pid = os.fork()\n",
      "ResourceWarning: Enable tracemalloc to get the object allocation traceback\n",
      "/CSC_CONTAINER/miniconda/envs/env1/lib/python3.10/multiprocessing/popen_fork.py:66: ResourceWarning: Unclosed socket <zmq.Socket(zmq.PUSH) at 0x7f50fd695840>\n",
      "  self.pid = os.fork()\n",
      "ResourceWarning: Enable tracemalloc to get the object allocation traceback\n",
      "/CSC_CONTAINER/miniconda/envs/env1/lib/python3.10/multiprocessing/popen_fork.py:66: ResourceWarning: Unclosed socket <zmq.Socket(zmq.PUSH) at 0x7f4abac4a6e0>\n",
      "  self.pid = os.fork()\n",
      "ResourceWarning: Enable tracemalloc to get the object allocation traceback\n",
      "/CSC_CONTAINER/miniconda/envs/env1/lib/python3.10/multiprocessing/popen_fork.py:66: ResourceWarning: Unclosed socket <zmq.Socket(zmq.PUSH) at 0x7f4f9d13b580>\n",
      "  self.pid = os.fork()\n",
      "ResourceWarning: Enable tracemalloc to get the object allocation traceback\n",
      "100%|██████████| 4960/4960 [00:25<00:00, 196.83it/s]\n"
     ]
    },
    {
     "data": {
      "text/plain": [
       "(317378, 10)"
      ]
     },
     "execution_count": 21,
     "metadata": {},
     "output_type": "execute_result"
    }
   ],
   "source": [
    "import os\n",
    "os.environ[\"TOKENIZERS_PARALLELISM\"] = \"false\"\n",
    "\n",
    "topics_predictions = ctm.get_thetas(training_dataset, n_samples=5)\n",
    "topics_predictions.shape"
   ]
  },
  {
   "cell_type": "code",
   "execution_count": 23,
   "id": "9e7a11b6",
   "metadata": {},
   "outputs": [],
   "source": [
    "### Adding the predictions to a dataframe\n",
    "topics = 10\n",
    "topic_columns = [f\"topic_{i}_prob\" for i in range(0, topics)]\n",
    "predictions_df = pd.DataFrame(topics_predictions, columns=topic_columns)"
   ]
  },
  {
   "cell_type": "code",
   "execution_count": 25,
   "id": "3dd100c8",
   "metadata": {},
   "outputs": [
    {
     "data": {
      "text/plain": [
       "(317625, 12)"
      ]
     },
     "execution_count": 25,
     "metadata": {},
     "output_type": "execute_result"
    }
   ],
   "source": [
    "#Resetting the index \n",
    "predictions_df = predictions_df.set_index(pd.Index(retained_indices))\n",
    "split_df = pd.concat([split_df, predictions_df], axis=1)\n",
    "split_df.shape"
   ]
  },
  {
   "cell_type": "code",
   "execution_count": 26,
   "id": "981c3383",
   "metadata": {},
   "outputs": [
    {
     "name": "stdout",
     "output_type": "stream",
     "text": [
      "800\n"
     ]
    },
    {
     "data": {
      "text/html": [
       "<div>\n",
       "<style scoped>\n",
       "    .dataframe tbody tr th:only-of-type {\n",
       "        vertical-align: middle;\n",
       "    }\n",
       "\n",
       "    .dataframe tbody tr th {\n",
       "        vertical-align: top;\n",
       "    }\n",
       "\n",
       "    .dataframe thead th {\n",
       "        text-align: right;\n",
       "    }\n",
       "</style>\n",
       "<table border=\"1\" class=\"dataframe\">\n",
       "  <thead>\n",
       "    <tr style=\"text-align: right;\">\n",
       "      <th></th>\n",
       "      <th>topic_0_prob</th>\n",
       "      <th>topic_1_prob</th>\n",
       "      <th>topic_2_prob</th>\n",
       "      <th>topic_3_prob</th>\n",
       "      <th>topic_4_prob</th>\n",
       "      <th>topic_5_prob</th>\n",
       "      <th>topic_6_prob</th>\n",
       "      <th>topic_7_prob</th>\n",
       "      <th>topic_8_prob</th>\n",
       "      <th>topic_9_prob</th>\n",
       "      <th>best_topic</th>\n",
       "    </tr>\n",
       "    <tr>\n",
       "      <th>document_id</th>\n",
       "      <th></th>\n",
       "      <th></th>\n",
       "      <th></th>\n",
       "      <th></th>\n",
       "      <th></th>\n",
       "      <th></th>\n",
       "      <th></th>\n",
       "      <th></th>\n",
       "      <th></th>\n",
       "      <th></th>\n",
       "      <th></th>\n",
       "    </tr>\n",
       "  </thead>\n",
       "  <tbody>\n",
       "    <tr>\n",
       "      <th>4400100</th>\n",
       "      <td>0.093704</td>\n",
       "      <td>0.045935</td>\n",
       "      <td>0.518866</td>\n",
       "      <td>0.056547</td>\n",
       "      <td>0.056868</td>\n",
       "      <td>0.043432</td>\n",
       "      <td>0.050514</td>\n",
       "      <td>0.040188</td>\n",
       "      <td>0.043433</td>\n",
       "      <td>0.050512</td>\n",
       "      <td>2</td>\n",
       "    </tr>\n",
       "    <tr>\n",
       "      <th>6101100</th>\n",
       "      <td>0.074730</td>\n",
       "      <td>0.054769</td>\n",
       "      <td>0.168013</td>\n",
       "      <td>0.182206</td>\n",
       "      <td>0.101817</td>\n",
       "      <td>0.102072</td>\n",
       "      <td>0.079894</td>\n",
       "      <td>0.050033</td>\n",
       "      <td>0.072753</td>\n",
       "      <td>0.113713</td>\n",
       "      <td>3</td>\n",
       "    </tr>\n",
       "    <tr>\n",
       "      <th>6101201</th>\n",
       "      <td>0.082582</td>\n",
       "      <td>0.065052</td>\n",
       "      <td>0.139068</td>\n",
       "      <td>0.169930</td>\n",
       "      <td>0.085232</td>\n",
       "      <td>0.116539</td>\n",
       "      <td>0.077836</td>\n",
       "      <td>0.060732</td>\n",
       "      <td>0.075150</td>\n",
       "      <td>0.127879</td>\n",
       "      <td>3</td>\n",
       "    </tr>\n",
       "  </tbody>\n",
       "</table>\n",
       "</div>"
      ],
      "text/plain": [
       "             topic_0_prob  topic_1_prob  topic_2_prob  topic_3_prob  \\\n",
       "document_id                                                           \n",
       "4400100          0.093704      0.045935      0.518866      0.056547   \n",
       "6101100          0.074730      0.054769      0.168013      0.182206   \n",
       "6101201          0.082582      0.065052      0.139068      0.169930   \n",
       "\n",
       "             topic_4_prob  topic_5_prob  topic_6_prob  topic_7_prob  \\\n",
       "document_id                                                           \n",
       "4400100          0.056868      0.043432      0.050514      0.040188   \n",
       "6101100          0.101817      0.102072      0.079894      0.050033   \n",
       "6101201          0.085232      0.116539      0.077836      0.060732   \n",
       "\n",
       "             topic_8_prob  topic_9_prob  best_topic  \n",
       "document_id                                          \n",
       "4400100          0.043433      0.050512           2  \n",
       "6101100          0.072753      0.113713           3  \n",
       "6101201          0.075150      0.127879           3  "
      ]
     },
     "execution_count": 26,
     "metadata": {},
     "output_type": "execute_result"
    }
   ],
   "source": [
    "mean_prob_df = split_df.groupby('document_id')[topic_columns].mean()\n",
    "mean_prob_df['best_topic'] = mean_prob_df.idxmax(axis=1).str.replace('_prob', '').str.replace('topic_', '').astype(int)\n",
    "print(len(mean_prob_df))\n",
    "mean_prob_df.head(3)"
   ]
  },
  {
   "cell_type": "code",
   "execution_count": 27,
   "id": "2c14ce19",
   "metadata": {},
   "outputs": [
    {
     "data": {
      "text/html": [
       "<div>\n",
       "<style scoped>\n",
       "    .dataframe tbody tr th:only-of-type {\n",
       "        vertical-align: middle;\n",
       "    }\n",
       "\n",
       "    .dataframe tbody tr th {\n",
       "        vertical-align: top;\n",
       "    }\n",
       "\n",
       "    .dataframe thead th {\n",
       "        text-align: right;\n",
       "    }\n",
       "</style>\n",
       "<table border=\"1\" class=\"dataframe\">\n",
       "  <thead>\n",
       "    <tr style=\"text-align: right;\">\n",
       "      <th></th>\n",
       "      <th>document_id</th>\n",
       "      <th>work_id</th>\n",
       "      <th>main_category</th>\n",
       "      <th>sub_category</th>\n",
       "      <th>main_category_label</th>\n",
       "      <th>sub_category_label</th>\n",
       "      <th>publication_year</th>\n",
       "      <th>gatherings</th>\n",
       "      <th>publication_place</th>\n",
       "      <th>author_id</th>\n",
       "      <th>...</th>\n",
       "      <th>topic_1_prob</th>\n",
       "      <th>topic_2_prob</th>\n",
       "      <th>topic_3_prob</th>\n",
       "      <th>topic_4_prob</th>\n",
       "      <th>topic_5_prob</th>\n",
       "      <th>topic_6_prob</th>\n",
       "      <th>topic_7_prob</th>\n",
       "      <th>topic_8_prob</th>\n",
       "      <th>topic_9_prob</th>\n",
       "      <th>best_topic</th>\n",
       "    </tr>\n",
       "  </thead>\n",
       "  <tbody>\n",
       "    <tr>\n",
       "      <th>0</th>\n",
       "      <td>1195800100</td>\n",
       "      <td>198-recruiting officer</td>\n",
       "      <td>0</td>\n",
       "      <td>0</td>\n",
       "      <td>Arts</td>\n",
       "      <td>Theatre, plays, opera</td>\n",
       "      <td>1727</td>\n",
       "      <td>8vo</td>\n",
       "      <td>Dublin</td>\n",
       "      <td>61545511</td>\n",
       "      <td>...</td>\n",
       "      <td>0.059657</td>\n",
       "      <td>0.099571</td>\n",
       "      <td>0.354288</td>\n",
       "      <td>0.072432</td>\n",
       "      <td>0.078771</td>\n",
       "      <td>0.064929</td>\n",
       "      <td>0.049399</td>\n",
       "      <td>0.059537</td>\n",
       "      <td>0.071455</td>\n",
       "      <td>3</td>\n",
       "    </tr>\n",
       "    <tr>\n",
       "      <th>1</th>\n",
       "      <td>579400903</td>\n",
       "      <td>174-lucubrations of isaac bickerstaff</td>\n",
       "      <td>2</td>\n",
       "      <td>18</td>\n",
       "      <td>Literature</td>\n",
       "      <td>Other fiction</td>\n",
       "      <td>1723</td>\n",
       "      <td>12mo</td>\n",
       "      <td>London</td>\n",
       "      <td>7413288</td>\n",
       "      <td>...</td>\n",
       "      <td>0.080714</td>\n",
       "      <td>0.155406</td>\n",
       "      <td>0.109068</td>\n",
       "      <td>0.089033</td>\n",
       "      <td>0.067705</td>\n",
       "      <td>0.119972</td>\n",
       "      <td>0.071998</td>\n",
       "      <td>0.076088</td>\n",
       "      <td>0.148086</td>\n",
       "      <td>2</td>\n",
       "    </tr>\n",
       "    <tr>\n",
       "      <th>2</th>\n",
       "      <td>1416900800</td>\n",
       "      <td>116-orphan or unhappy marriage</td>\n",
       "      <td>2</td>\n",
       "      <td>4</td>\n",
       "      <td>Literature</td>\n",
       "      <td>Drama</td>\n",
       "      <td>1722</td>\n",
       "      <td>12mo</td>\n",
       "      <td>London</td>\n",
       "      <td>56618493</td>\n",
       "      <td>...</td>\n",
       "      <td>0.064804</td>\n",
       "      <td>0.064423</td>\n",
       "      <td>0.362578</td>\n",
       "      <td>0.046894</td>\n",
       "      <td>0.166495</td>\n",
       "      <td>0.064489</td>\n",
       "      <td>0.047045</td>\n",
       "      <td>0.070721</td>\n",
       "      <td>0.061810</td>\n",
       "      <td>3</td>\n",
       "    </tr>\n",
       "  </tbody>\n",
       "</table>\n",
       "<p>3 rows × 44 columns</p>\n",
       "</div>"
      ],
      "text/plain": [
       "   document_id                                work_id  main_category  \\\n",
       "0   1195800100                 198-recruiting officer              0   \n",
       "1    579400903  174-lucubrations of isaac bickerstaff              2   \n",
       "2   1416900800         116-orphan or unhappy marriage              2   \n",
       "\n",
       "   sub_category main_category_label     sub_category_label  publication_year  \\\n",
       "0             0                Arts  Theatre, plays, opera              1727   \n",
       "1            18          Literature          Other fiction              1723   \n",
       "2             4          Literature                  Drama              1722   \n",
       "\n",
       "  gatherings publication_place author_id  ... topic_1_prob  topic_2_prob  \\\n",
       "0        8vo            Dublin  61545511  ...     0.059657      0.099571   \n",
       "1       12mo            London   7413288  ...     0.080714      0.155406   \n",
       "2       12mo            London  56618493  ...     0.064804      0.064423   \n",
       "\n",
       "   topic_3_prob topic_4_prob topic_5_prob topic_6_prob topic_7_prob  \\\n",
       "0      0.354288     0.072432     0.078771     0.064929     0.049399   \n",
       "1      0.109068     0.089033     0.067705     0.119972     0.071998   \n",
       "2      0.362578     0.046894     0.166495     0.064489     0.047045   \n",
       "\n",
       "  topic_8_prob  topic_9_prob  best_topic  \n",
       "0     0.059537      0.071455           3  \n",
       "1     0.076088      0.148086           2  \n",
       "2     0.070721      0.061810           3  \n",
       "\n",
       "[3 rows x 44 columns]"
      ]
     },
     "execution_count": 27,
     "metadata": {},
     "output_type": "execute_result"
    }
   ],
   "source": [
    "df = pd.merge(df, mean_prob_df, on='document_id', how='left')\n",
    "df.head(3)"
   ]
  },
  {
   "cell_type": "code",
   "execution_count": 35,
   "id": "4ea5a9e9",
   "metadata": {},
   "outputs": [
    {
     "data": {
      "text/plain": [
       "3    303\n",
       "2    154\n",
       "5     84\n",
       "9     84\n",
       "8     42\n",
       "6     38\n",
       "4     34\n",
       "7     27\n",
       "0     22\n",
       "1     12\n",
       "Name: best_topic, dtype: int64"
      ]
     },
     "execution_count": 35,
     "metadata": {},
     "output_type": "execute_result"
    }
   ],
   "source": [
    "df[\"best_topic\"].value_counts()"
   ]
  },
  {
   "cell_type": "code",
   "execution_count": 38,
   "id": "9dc29100",
   "metadata": {},
   "outputs": [
    {
     "data": {
      "text/plain": [
       "2    305\n",
       "0    116\n",
       "9    108\n",
       "4     94\n",
       "5     57\n",
       "8     43\n",
       "1     35\n",
       "7     25\n",
       "3      9\n",
       "6      8\n",
       "Name: main_category, dtype: int64"
      ]
     },
     "execution_count": 38,
     "metadata": {},
     "output_type": "execute_result"
    }
   ],
   "source": [
    "df[\"main_category\"].value_counts()"
   ]
  },
  {
   "cell_type": "markdown",
   "id": "8482faca",
   "metadata": {},
   "source": [
    "### Extra: Comparing to premade categories"
   ]
  },
  {
   "cell_type": "code",
   "execution_count": 47,
   "id": "3fc6dd9c",
   "metadata": {},
   "outputs": [],
   "source": [
    "from sklearn.metrics import confusion_matrix\n",
    "from sklearn.metrics import accuracy_score"
   ]
  },
  {
   "cell_type": "code",
   "execution_count": 42,
   "id": "63f3b7d5",
   "metadata": {},
   "outputs": [
    {
     "data": {
      "text/plain": [
       "array([[  0,   0,   0, 106,   0,  10,   0,   0,   0,   0],\n",
       "       [  0,   4,   0,   0,   0,   0,   0,   0,   0,  31],\n",
       "       [  2,   5,  61, 177,   0,  15,   8,   0,   0,  37],\n",
       "       [  0,   0,   0,   1,   0,   0,   6,   0,   0,   2],\n",
       "       [ 14,   1,  65,   8,   0,   0,   0,   0,   0,   6],\n",
       "       [  1,   0,   0,   0,  30,   0,   0,  22,   4,   0],\n",
       "       [  0,   0,   0,   7,   0,   0,   0,   0,   1,   0],\n",
       "       [  5,   0,  11,   2,   4,   0,   2,   0,   0,   1],\n",
       "       [  0,   0,  15,   0,   0,   1,  22,   0,   1,   4],\n",
       "       [  0,   2,   2,   2,   0,  58,   0,   5,  36,   3]])"
      ]
     },
     "execution_count": 42,
     "metadata": {},
     "output_type": "execute_result"
    }
   ],
   "source": [
    "cm = confusion_matrix(df['main_category'], df['best_topic'])\n",
    "cm"
   ]
  },
  {
   "cell_type": "code",
   "execution_count": 56,
   "id": "80580a3d",
   "metadata": {},
   "outputs": [
    {
     "data": {
      "text/plain": [
       "array([4, 2, 4, 2, 5, 9, 8, 5, 9, 2])"
      ]
     },
     "execution_count": 56,
     "metadata": {},
     "output_type": "execute_result"
    }
   ],
   "source": [
    "# Find the best mapping\n",
    "best_mapping = np.argmax(cm, axis=0)\n",
    "best_mapping"
   ]
  },
  {
   "cell_type": "code",
   "execution_count": 57,
   "id": "fb8dc01f",
   "metadata": {},
   "outputs": [
    {
     "data": {
      "text/plain": [
       "{0: 4, 1: 2, 2: 4, 3: 2, 4: 5, 5: 9, 6: 8, 7: 5, 8: 9, 9: 2}"
      ]
     },
     "execution_count": 57,
     "metadata": {},
     "output_type": "execute_result"
    }
   ],
   "source": [
    "mapping_dict = {i: category for i, category in enumerate(best_mapping)}\n",
    "mapping_dict"
   ]
  },
  {
   "cell_type": "code",
   "execution_count": 58,
   "id": "916a325a",
   "metadata": {},
   "outputs": [
    {
     "data": {
      "text/plain": [
       "10"
      ]
     },
     "execution_count": 58,
     "metadata": {},
     "output_type": "execute_result"
    }
   ],
   "source": [
    "len(mapping_dict)"
   ]
  },
  {
   "cell_type": "code",
   "execution_count": 59,
   "id": "c72eaa93",
   "metadata": {},
   "outputs": [],
   "source": [
    "df['best_fit_category'] = df['best_topic'].map(mapping_dict)"
   ]
  },
  {
   "cell_type": "code",
   "execution_count": 60,
   "id": "5868e8ce",
   "metadata": {},
   "outputs": [],
   "source": [
    "#df"
   ]
  },
  {
   "cell_type": "code",
   "execution_count": 61,
   "id": "6c6d24c7",
   "metadata": {},
   "outputs": [],
   "source": [
    "accuracy = accuracy_score(df['main_category'], df['best_fit_category'])"
   ]
  },
  {
   "cell_type": "code",
   "execution_count": 62,
   "id": "13a8f40c",
   "metadata": {},
   "outputs": [
    {
     "data": {
      "text/plain": [
       "0.5825"
      ]
     },
     "execution_count": 62,
     "metadata": {},
     "output_type": "execute_result"
    }
   ],
   "source": [
    "accuracy"
   ]
  },
  {
   "cell_type": "code",
   "execution_count": 69,
   "id": "6b43a181",
   "metadata": {},
   "outputs": [
    {
     "data": {
      "text/html": [
       "<div>\n",
       "<style scoped>\n",
       "    .dataframe tbody tr th:only-of-type {\n",
       "        vertical-align: middle;\n",
       "    }\n",
       "\n",
       "    .dataframe tbody tr th {\n",
       "        vertical-align: top;\n",
       "    }\n",
       "\n",
       "    .dataframe thead th {\n",
       "        text-align: right;\n",
       "    }\n",
       "</style>\n",
       "<table border=\"1\" class=\"dataframe\">\n",
       "  <thead>\n",
       "    <tr style=\"text-align: right;\">\n",
       "      <th></th>\n",
       "      <th>document_id</th>\n",
       "      <th>work_id</th>\n",
       "      <th>main_category</th>\n",
       "      <th>sub_category</th>\n",
       "      <th>main_category_label</th>\n",
       "      <th>sub_category_label</th>\n",
       "      <th>publication_year</th>\n",
       "      <th>gatherings</th>\n",
       "      <th>publication_place</th>\n",
       "      <th>author_id</th>\n",
       "      <th>...</th>\n",
       "      <th>topic_3_prob</th>\n",
       "      <th>topic_4_prob</th>\n",
       "      <th>topic_5_prob</th>\n",
       "      <th>topic_6_prob</th>\n",
       "      <th>topic_7_prob</th>\n",
       "      <th>topic_8_prob</th>\n",
       "      <th>topic_9_prob</th>\n",
       "      <th>best_topic</th>\n",
       "      <th>mapped_topic</th>\n",
       "      <th>best_fit_category</th>\n",
       "    </tr>\n",
       "  </thead>\n",
       "  <tbody>\n",
       "    <tr>\n",
       "      <th>0</th>\n",
       "      <td>1195800100</td>\n",
       "      <td>198-recruiting officer</td>\n",
       "      <td>0</td>\n",
       "      <td>0</td>\n",
       "      <td>Arts</td>\n",
       "      <td>Theatre, plays, opera</td>\n",
       "      <td>1727</td>\n",
       "      <td>8vo</td>\n",
       "      <td>Dublin</td>\n",
       "      <td>61545511</td>\n",
       "      <td>...</td>\n",
       "      <td>0.354288</td>\n",
       "      <td>0.072432</td>\n",
       "      <td>0.078771</td>\n",
       "      <td>0.064929</td>\n",
       "      <td>0.049399</td>\n",
       "      <td>0.059537</td>\n",
       "      <td>0.071455</td>\n",
       "      <td>3</td>\n",
       "      <td>5</td>\n",
       "      <td>2</td>\n",
       "    </tr>\n",
       "    <tr>\n",
       "      <th>1</th>\n",
       "      <td>579400903</td>\n",
       "      <td>174-lucubrations of isaac bickerstaff</td>\n",
       "      <td>2</td>\n",
       "      <td>18</td>\n",
       "      <td>Literature</td>\n",
       "      <td>Other fiction</td>\n",
       "      <td>1723</td>\n",
       "      <td>12mo</td>\n",
       "      <td>London</td>\n",
       "      <td>7413288</td>\n",
       "      <td>...</td>\n",
       "      <td>0.109068</td>\n",
       "      <td>0.089033</td>\n",
       "      <td>0.067705</td>\n",
       "      <td>0.119972</td>\n",
       "      <td>0.071998</td>\n",
       "      <td>0.076088</td>\n",
       "      <td>0.148086</td>\n",
       "      <td>2</td>\n",
       "      <td>8</td>\n",
       "      <td>4</td>\n",
       "    </tr>\n",
       "  </tbody>\n",
       "</table>\n",
       "<p>2 rows × 46 columns</p>\n",
       "</div>"
      ],
      "text/plain": [
       "   document_id                                work_id  main_category  \\\n",
       "0   1195800100                 198-recruiting officer              0   \n",
       "1    579400903  174-lucubrations of isaac bickerstaff              2   \n",
       "\n",
       "   sub_category main_category_label     sub_category_label  publication_year  \\\n",
       "0             0                Arts  Theatre, plays, opera              1727   \n",
       "1            18          Literature          Other fiction              1723   \n",
       "\n",
       "  gatherings publication_place author_id  ... topic_3_prob  topic_4_prob  \\\n",
       "0        8vo            Dublin  61545511  ...     0.354288      0.072432   \n",
       "1       12mo            London   7413288  ...     0.109068      0.089033   \n",
       "\n",
       "   topic_5_prob topic_6_prob topic_7_prob topic_8_prob topic_9_prob  \\\n",
       "0      0.078771     0.064929     0.049399     0.059537     0.071455   \n",
       "1      0.067705     0.119972     0.071998     0.076088     0.148086   \n",
       "\n",
       "  best_topic  mapped_topic  best_fit_category  \n",
       "0          3             5                  2  \n",
       "1          2             8                  4  \n",
       "\n",
       "[2 rows x 46 columns]"
      ]
     },
     "execution_count": 69,
     "metadata": {},
     "output_type": "execute_result"
    }
   ],
   "source": [
    "df.head(2)"
   ]
  },
  {
   "cell_type": "code",
   "execution_count": 71,
   "id": "7bda7ae8",
   "metadata": {},
   "outputs": [
    {
     "data": {
      "text/plain": [
       "{'Arts': 0,\n",
       " 'Scientific Improvement': 1,\n",
       " 'Literature': 2,\n",
       " 'Education': 3,\n",
       " 'History': 4,\n",
       " 'Law': 5,\n",
       " 'Sales Catalogues': 6,\n",
       " 'Politics': 7,\n",
       " 'Philosophy': 8,\n",
       " 'Religion': 9}"
      ]
     },
     "execution_count": 71,
     "metadata": {},
     "output_type": "execute_result"
    }
   ],
   "source": [
    "labels = puhti_files.labels_to_dict(invert=False)\n",
    "labels['main2id']"
   ]
  },
  {
   "cell_type": "code",
   "execution_count": 73,
   "id": "8f8d1ae1",
   "metadata": {},
   "outputs": [
    {
     "data": {
      "text/plain": [
       "['Arts',\n",
       " 'Scientific Improvement',\n",
       " 'Literature',\n",
       " 'Education',\n",
       " 'History',\n",
       " 'Law',\n",
       " 'Sales Catalogues',\n",
       " 'Politics',\n",
       " 'Philosophy',\n",
       " 'Religion']"
      ]
     },
     "execution_count": 73,
     "metadata": {},
     "output_type": "execute_result"
    }
   ],
   "source": [
    "list(labels['main2id'].keys())"
   ]
  },
  {
   "cell_type": "code",
   "execution_count": 78,
   "id": "c8b8f4b1",
   "metadata": {},
   "outputs": [
    {
     "data": {
      "text/plain": [
       "{'1': 'religion',\n",
       " '2': 'government / royal court',\n",
       " '3': 'romance',\n",
       " '4': 'prayer',\n",
       " '5': 'social issues',\n",
       " '6': 'law',\n",
       " '7': 'science / mathematics',\n",
       " '8': 'kings',\n",
       " '9': 'war',\n",
       " '10': 'war'}"
      ]
     },
     "execution_count": 78,
     "metadata": {},
     "output_type": "execute_result"
    }
   ],
   "source": [
    "import json\n",
    "with open(\"../src/predicted_topics.json\", \"r\") as f:\n",
    "    predicted_topic_labels = json.load(f)\n",
    "predicted_topic_labels[\"1720\"]"
   ]
  },
  {
   "cell_type": "code",
   "execution_count": 113,
   "id": "03732d6e",
   "metadata": {},
   "outputs": [],
   "source": [
    "### TEMP: USE ALTERNATIVE\n",
    "predicted_topic_labels = {1720: {1: 'Kings',\n",
    "  2: 'Verbs?/War?',\n",
    "  3: 'Goverment/Royal',\n",
    "  4: 'Romance',\n",
    "  5: 'Law',\n",
    "  6: 'Prayer/Bible',\n",
    "  7: 'Social',\n",
    "  8: 'War?',\n",
    "  9: 'Religion',\n",
    "  10: 'Science'},\n",
    " 1730: {1: 'Locations/People',\n",
    "  2: 'Social Concepts',\n",
    "  3: 'State',\n",
    "  4: 'Religion',\n",
    "  5: 'Bigger Concepts',\n",
    "  6: 'Kings',\n",
    "  7: 'Religion',\n",
    "  8: 'Nature',\n",
    "  9: 'Goverment/Kingdom',\n",
    "  10: 'Romance'},\n",
    " 1740: {1: 'War/Kingdom',\n",
    "  2: 'Religion',\n",
    "  3: 'NA?',\n",
    "  4: 'Law',\n",
    "  5: 'Religion',\n",
    "  6: 'Nature',\n",
    "  7: 'Romance',\n",
    "  8: 'Romance',\n",
    "  9: 'Royalty',\n",
    "  10: 'Philosophy'},\n",
    " 1750: {1: 'Kingdom',\n",
    "  2: 'NA',\n",
    "  3: 'Romance/Religion',\n",
    "  4: 'Religion',\n",
    "  5: 'NA',\n",
    "  6: 'Country/Issues',\n",
    "  7: 'Kingdom',\n",
    "  8: 'Mankind',\n",
    "  9: 'Bible/Religion',\n",
    "  10: 'Nature'},\n",
    " 1760: {1: 'Love/Family',\n",
    "  2: 'Nature',\n",
    "  3: 'Love/Religious Concepts',\n",
    "  4: 'Kingdom',\n",
    "  5: 'Bible/Religion',\n",
    "  6: 'Religion',\n",
    "  7: 'Government affairs',\n",
    "  8: 'NA',\n",
    "  9: 'State Affairs',\n",
    "  10: 'Philosophy'},\n",
    " 1770: {1: 'NA',\n",
    "  2: 'Law/Court',\n",
    "  3: 'Love/Religion',\n",
    "  4: 'Kingdom',\n",
    "  5: 'Mankind',\n",
    "  6: 'Love',\n",
    "  7: 'Higher Power',\n",
    "  8: 'Kingdom/War',\n",
    "  9: 'Nature',\n",
    "  10: 'Church/Religion'},\n",
    " 1780: {1: 'NA',\n",
    "  2: 'War',\n",
    "  3: 'Law',\n",
    "  4: 'Mandkind',\n",
    "  5: 'Romance',\n",
    "  6: 'Medicine',\n",
    "  7: 'Religion',\n",
    "  8: 'Prayer/Bible',\n",
    "  9: 'Trade/Economy',\n",
    "  10: 'Court/Kingdom'},\n",
    " 1790: {1: 'NA',\n",
    "  2: 'Love',\n",
    "  3: 'Law',\n",
    "  4: 'Parliament',\n",
    "  5: 'Literature?',\n",
    "  6: 'Romance',\n",
    "  7: 'Religion',\n",
    "  8: 'Countries/Land/Economy',\n",
    "  9: 'Ingredients?',\n",
    "  10: 'Mankind'}}"
   ]
  },
  {
   "cell_type": "code",
   "execution_count": 115,
   "id": "06e9e1c4",
   "metadata": {},
   "outputs": [
    {
     "data": {
      "text/plain": [
       "['Kings',\n",
       " 'Verbs?/War?',\n",
       " 'Goverment/Royal',\n",
       " 'Romance',\n",
       " 'Law',\n",
       " 'Prayer/Bible',\n",
       " 'Social',\n",
       " 'War?',\n",
       " 'Religion',\n",
       " 'Science']"
      ]
     },
     "execution_count": 115,
     "metadata": {},
     "output_type": "execute_result"
    }
   ],
   "source": [
    "list(predicted_topic_labels[1720].values())"
   ]
  },
  {
   "cell_type": "code",
   "execution_count": 116,
   "id": "34b0dd35",
   "metadata": {},
   "outputs": [
    {
     "data": {
      "image/png": "[encoded data removed]",
      "text/plain": [
       "<Figure size 640x480 with 2 Axes>"
      ]
     },
     "metadata": {},
     "output_type": "display_data"
    }
   ],
   "source": [
    "import matplotlib.pyplot as plt\n",
    "import seaborn as sns\n",
    "\n",
    "# Assuming you already have 'cm' as your confusion matrix from previous steps\n",
    "\n",
    "# Create a heatmap of the confusion matrix\n",
    "\n",
    "ax = sns.heatmap(cm, annot=True, fmt='d', cmap='Blues', xticklabels=list(predicted_topic_labels[1720].values()), yticklabels=list(labels['main2id'].keys()))\n",
    "\n",
    "plt.setp(ax.get_xticklabels(), rotation=45, ha='right', rotation_mode='anchor')\n",
    "\n",
    "plt.show()"
   ]
  },
  {
   "cell_type": "code",
   "execution_count": 130,
   "id": "80d18921",
   "metadata": {},
   "outputs": [],
   "source": [
    "predicted_labels_1720 = list(predicted_topic_labels[1720].values())\n",
    "predicted_labels_1720[4] = \"Law (new)\"\n",
    "predicted_labels_1720[8] = \"Religion (new)\"\n",
    "old_labels = list(labels['main2id'].keys())\n",
    "label_map = {predicted_labels_1720[key]: old_labels[value]  for key, value in mapping_dict.items()}"
   ]
  },
  {
   "cell_type": "code",
   "execution_count": 131,
   "id": "f03fefbd",
   "metadata": {},
   "outputs": [
    {
     "data": {
      "image/svg+xml": [
       "<svg xmlns=\"http://www.w3.org/2000/svg\" xmlns:xlink=\"http://www.w3.org/1999/xlink\" width=\"353pt\" height=\"530pt\" viewBox=\"0.00 0.00 353.37 530.00\">\n",
       "<g id=\"graph0\" class=\"graph\" transform=\"scale(1 1) rotate(0) translate(4 526)\">\n",
       "<title>G</title>\n",
       "<polygon fill=\"white\" stroke=\"none\" points=\"-4,4 -4,-526 349.37,-526 349.37,4 -4,4\"/>\n",
       "<!-- Kings -->\n",
       "<g id=\"node1\" class=\"node\">\n",
       "<title>Kings</title>\n",
       "<ellipse fill=\"lightblue\" stroke=\"black\" cx=\"92.29\" cy=\"-72\" rx=\"36.29\" ry=\"18\"/>\n",
       "<text text-anchor=\"middle\" x=\"92.29\" y=\"-68.3\" font-family=\"Times,serif\" font-size=\"14.00\">Kings</text>\n",
       "</g>\n",
       "<!-- History -->\n",
       "<g id=\"node2\" class=\"node\">\n",
       "<title>History</title>\n",
       "<ellipse fill=\"lightgreen\" stroke=\"black\" cx=\"282.98\" cy=\"-45\" rx=\"45.49\" ry=\"18\"/>\n",
       "<text text-anchor=\"middle\" x=\"282.98\" y=\"-41.3\" font-family=\"Times,serif\" font-size=\"14.00\">History</text>\n",
       "</g>\n",
       "<!-- Kings&#45;&gt;History -->\n",
       "<g id=\"edge1\" class=\"edge\">\n",
       "<title>Kings-&gt;History</title>\n",
       "<path fill=\"none\" stroke=\"black\" d=\"M127.46,-67.11C155.68,-63.07 196.21,-57.27 228.69,-52.63\"/>\n",
       "<polygon fill=\"black\" stroke=\"black\" points=\"228.9,-56.13 238.31,-51.25 227.91,-49.2 228.9,-56.13\"/>\n",
       "</g>\n",
       "<!-- Verbs?/War? -->\n",
       "<g id=\"node3\" class=\"node\">\n",
       "<title>Verbs?/War?</title>\n",
       "<ellipse fill=\"lightblue\" stroke=\"black\" cx=\"92.29\" cy=\"-234\" rx=\"69.59\" ry=\"18\"/>\n",
       "<text text-anchor=\"middle\" x=\"92.29\" y=\"-230.3\" font-family=\"Times,serif\" font-size=\"14.00\">Verbs?/War?</text>\n",
       "</g>\n",
       "<!-- Literature -->\n",
       "<g id=\"node4\" class=\"node\">\n",
       "<title>Literature</title>\n",
       "<ellipse fill=\"lightgreen\" stroke=\"black\" cx=\"282.98\" cy=\"-180\" rx=\"57.69\" ry=\"18\"/>\n",
       "<text text-anchor=\"middle\" x=\"282.98\" y=\"-176.3\" font-family=\"Times,serif\" font-size=\"14.00\">Literature</text>\n",
       "</g>\n",
       "<!-- Verbs?/War?&#45;&gt;Literature -->\n",
       "<g id=\"edge2\" class=\"edge\">\n",
       "<title>Verbs?/War?-&gt;Literature</title>\n",
       "<path fill=\"none\" stroke=\"black\" d=\"M139.93,-220.65C166.81,-212.96 200.7,-203.26 228.64,-195.27\"/>\n",
       "<polygon fill=\"black\" stroke=\"black\" points=\"229.31,-198.71 237.96,-192.6 227.39,-191.98 229.31,-198.71\"/>\n",
       "</g>\n",
       "<!-- Goverment/Royal -->\n",
       "<g id=\"node5\" class=\"node\">\n",
       "<title>Goverment/Royal</title>\n",
       "<ellipse fill=\"lightblue\" stroke=\"black\" cx=\"92.29\" cy=\"-18\" rx=\"92.08\" ry=\"18\"/>\n",
       "<text text-anchor=\"middle\" x=\"92.29\" y=\"-14.3\" font-family=\"Times,serif\" font-size=\"14.00\">Goverment/Royal</text>\n",
       "</g>\n",
       "<!-- Goverment/Royal&#45;&gt;History -->\n",
       "<g id=\"edge3\" class=\"edge\">\n",
       "<title>Goverment/Royal-&gt;History</title>\n",
       "<path fill=\"none\" stroke=\"black\" d=\"M167.87,-28.67C188.08,-31.56 209.57,-34.64 228.38,-37.33\"/>\n",
       "<polygon fill=\"black\" stroke=\"black\" points=\"227.82,-40.79 238.21,-38.74 228.81,-33.86 227.82,-40.79\"/>\n",
       "</g>\n",
       "<!-- Romance -->\n",
       "<g id=\"node6\" class=\"node\">\n",
       "<title>Romance</title>\n",
       "<ellipse fill=\"lightblue\" stroke=\"black\" cx=\"92.29\" cy=\"-180\" rx=\"55.49\" ry=\"18\"/>\n",
       "<text text-anchor=\"middle\" x=\"92.29\" y=\"-176.3\" font-family=\"Times,serif\" font-size=\"14.00\">Romance</text>\n",
       "</g>\n",
       "<!-- Romance&#45;&gt;Literature -->\n",
       "<g id=\"edge4\" class=\"edge\">\n",
       "<title>Romance-&gt;Literature</title>\n",
       "<path fill=\"none\" stroke=\"black\" d=\"M148.12,-180C168.6,-180 192.1,-180 213.65,-180\"/>\n",
       "<polygon fill=\"black\" stroke=\"black\" points=\"213.53,-183.5 223.53,-180 213.53,-176.5 213.53,-183.5\"/>\n",
       "</g>\n",
       "<!-- Law (new) -->\n",
       "<g id=\"node7\" class=\"node\">\n",
       "<title>Law (new)</title>\n",
       "<ellipse fill=\"lightblue\" stroke=\"black\" cx=\"92.29\" cy=\"-342\" rx=\"55.49\" ry=\"18\"/>\n",
       "<text text-anchor=\"middle\" x=\"92.29\" y=\"-338.3\" font-family=\"Times,serif\" font-size=\"14.00\">Law (new)</text>\n",
       "</g>\n",
       "<!-- Law -->\n",
       "<g id=\"node8\" class=\"node\">\n",
       "<title>Law</title>\n",
       "<ellipse fill=\"lightgreen\" stroke=\"black\" cx=\"282.98\" cy=\"-315\" rx=\"29.5\" ry=\"18\"/>\n",
       "<text text-anchor=\"middle\" x=\"282.98\" y=\"-311.3\" font-family=\"Times,serif\" font-size=\"14.00\">Law</text>\n",
       "</g>\n",
       "<!-- Law (new)&#45;&gt;Law -->\n",
       "<g id=\"edge5\" class=\"edge\">\n",
       "<title>Law (new)-&gt;Law</title>\n",
       "<path fill=\"none\" stroke=\"black\" d=\"M143.36,-334.84C174.45,-330.39 213.84,-324.75 242.67,-320.62\"/>\n",
       "<polygon fill=\"black\" stroke=\"black\" points=\"243.04,-324.11 252.44,-319.23 242.05,-317.18 243.04,-324.11\"/>\n",
       "</g>\n",
       "<!-- Prayer/Bible -->\n",
       "<g id=\"node9\" class=\"node\">\n",
       "<title>Prayer/Bible</title>\n",
       "<ellipse fill=\"lightblue\" stroke=\"black\" cx=\"92.29\" cy=\"-450\" rx=\"68.49\" ry=\"18\"/>\n",
       "<text text-anchor=\"middle\" x=\"92.29\" y=\"-446.3\" font-family=\"Times,serif\" font-size=\"14.00\">Prayer/Bible</text>\n",
       "</g>\n",
       "<!-- Religion -->\n",
       "<g id=\"node10\" class=\"node\">\n",
       "<title>Religion</title>\n",
       "<ellipse fill=\"lightgreen\" stroke=\"black\" cx=\"282.98\" cy=\"-423\" rx=\"48.19\" ry=\"18\"/>\n",
       "<text text-anchor=\"middle\" x=\"282.98\" y=\"-419.3\" font-family=\"Times,serif\" font-size=\"14.00\">Religion</text>\n",
       "</g>\n",
       "<!-- Prayer/Bible&#45;&gt;Religion -->\n",
       "<g id=\"edge6\" class=\"edge\">\n",
       "<title>Prayer/Bible-&gt;Religion</title>\n",
       "<path fill=\"none\" stroke=\"black\" d=\"M153.25,-441.42C176.61,-438.08 203.22,-434.27 226.16,-430.99\"/>\n",
       "<polygon fill=\"black\" stroke=\"black\" points=\"226.54,-434.47 235.94,-429.59 225.55,-427.54 226.54,-434.47\"/>\n",
       "</g>\n",
       "<!-- Social -->\n",
       "<g id=\"node11\" class=\"node\">\n",
       "<title>Social</title>\n",
       "<ellipse fill=\"lightblue\" stroke=\"black\" cx=\"92.29\" cy=\"-504\" rx=\"39.79\" ry=\"18\"/>\n",
       "<text text-anchor=\"middle\" x=\"92.29\" y=\"-500.3\" font-family=\"Times,serif\" font-size=\"14.00\">Social</text>\n",
       "</g>\n",
       "<!-- Philosophy -->\n",
       "<g id=\"node12\" class=\"node\">\n",
       "<title>Philosophy</title>\n",
       "<ellipse fill=\"lightgreen\" stroke=\"black\" cx=\"282.98\" cy=\"-504\" rx=\"62.29\" ry=\"18\"/>\n",
       "<text text-anchor=\"middle\" x=\"282.98\" y=\"-500.3\" font-family=\"Times,serif\" font-size=\"14.00\">Philosophy</text>\n",
       "</g>\n",
       "<!-- Social&#45;&gt;Philosophy -->\n",
       "<g id=\"edge7\" class=\"edge\">\n",
       "<title>Social-&gt;Philosophy</title>\n",
       "<path fill=\"none\" stroke=\"black\" d=\"M132.39,-504C154.48,-504 182.82,-504 208.88,-504\"/>\n",
       "<polygon fill=\"black\" stroke=\"black\" points=\"208.76,-507.5 218.76,-504 208.76,-500.5 208.76,-507.5\"/>\n",
       "</g>\n",
       "<!-- War? -->\n",
       "<g id=\"node13\" class=\"node\">\n",
       "<title>War?</title>\n",
       "<ellipse fill=\"lightblue\" stroke=\"black\" cx=\"92.29\" cy=\"-288\" rx=\"34.39\" ry=\"18\"/>\n",
       "<text text-anchor=\"middle\" x=\"92.29\" y=\"-284.3\" font-family=\"Times,serif\" font-size=\"14.00\">War?</text>\n",
       "</g>\n",
       "<!-- War?&#45;&gt;Law -->\n",
       "<g id=\"edge8\" class=\"edge\">\n",
       "<title>War?-&gt;Law</title>\n",
       "<path fill=\"none\" stroke=\"black\" d=\"M125.73,-292.64C158.2,-297.29 208.19,-304.44 242.84,-309.4\"/>\n",
       "<polygon fill=\"black\" stroke=\"black\" points=\"242.06,-312.82 252.46,-310.78 243.06,-305.89 242.06,-312.82\"/>\n",
       "</g>\n",
       "<!-- Religion (new) -->\n",
       "<g id=\"node14\" class=\"node\">\n",
       "<title>Religion (new)</title>\n",
       "<ellipse fill=\"lightblue\" stroke=\"black\" cx=\"92.29\" cy=\"-396\" rx=\"74.19\" ry=\"18\"/>\n",
       "<text text-anchor=\"middle\" x=\"92.29\" y=\"-392.3\" font-family=\"Times,serif\" font-size=\"14.00\">Religion (new)</text>\n",
       "</g>\n",
       "<!-- Religion (new)&#45;&gt;Religion -->\n",
       "<g id=\"edge9\" class=\"edge\">\n",
       "<title>Religion (new)-&gt;Religion</title>\n",
       "<path fill=\"none\" stroke=\"black\" d=\"M157.17,-405.14C179.56,-408.34 204.5,-411.91 226.18,-415.01\"/>\n",
       "<polygon fill=\"black\" stroke=\"black\" points=\"225.62,-418.47 236.01,-416.42 226.61,-411.54 225.62,-418.47\"/>\n",
       "</g>\n",
       "<!-- Science -->\n",
       "<g id=\"node15\" class=\"node\">\n",
       "<title>Science</title>\n",
       "<ellipse fill=\"lightblue\" stroke=\"black\" cx=\"92.29\" cy=\"-126\" rx=\"46.59\" ry=\"18\"/>\n",
       "<text text-anchor=\"middle\" x=\"92.29\" y=\"-122.3\" font-family=\"Times,serif\" font-size=\"14.00\">Science</text>\n",
       "</g>\n",
       "<!-- Science&#45;&gt;Literature -->\n",
       "<g id=\"edge10\" class=\"edge\">\n",
       "<title>Science-&gt;Literature</title>\n",
       "<path fill=\"none\" stroke=\"black\" d=\"M130.57,-136.67C158.62,-144.7 197.46,-155.81 228.78,-164.77\"/>\n",
       "<polygon fill=\"black\" stroke=\"black\" points=\"227.48,-168.04 238.05,-167.43 229.4,-161.31 227.48,-168.04\"/>\n",
       "</g>\n",
       "</g>\n",
       "</svg>"
      ],
      "text/plain": [
       "<IPython.core.display.SVG object>"
      ]
     },
     "metadata": {},
     "output_type": "display_data"
    }
   ],
   "source": [
    "import pydot\n",
    "from IPython.display import SVG\n",
    "\n",
    "# Assuming you have 'mapping_dict' from previous steps\n",
    "\n",
    "# Create a directed graph\n",
    "graph = pydot.Dot(graph_type='digraph', rankdir='LR', splines='polyline')\n",
    "\n",
    "# Add nodes and edges based on the mapping dictionary\n",
    "for predicted_topic, ground_truth_category in label_map.items():\n",
    "    # Create nodes\n",
    "    predicted_node = pydot.Node(f\"{predicted_topic}\", style='filled', fillcolor='lightblue')\n",
    "    ground_truth_node = pydot.Node(f\"{ground_truth_category}\", style='filled', fillcolor='lightgreen')\n",
    "\n",
    "    # Add nodes to the graph\n",
    "    graph.add_node(predicted_node)\n",
    "    graph.add_node(ground_truth_node)\n",
    "\n",
    "    # Create and add edge\n",
    "    edge = pydot.Edge(predicted_node, ground_truth_node)\n",
    "    graph.add_edge(edge)\n",
    "\n",
    "# Visualize the graph\n",
    "svg = SVG(graph.create_svg())\n",
    "display(svg)"
   ]
  },
  {
   "cell_type": "code",
   "execution_count": 91,
   "id": "06e6bb1d",
   "metadata": {},
   "outputs": [
    {
     "name": "stdout",
     "output_type": "stream",
     "text": [
      "huggingface/tokenizers: The current process just got forked, after parallelism has already been used. Disabling parallelism to avoid deadlocks...\n",
      "To disable this warning, you can either:\n",
      "\t- Avoid using `tokenizers` before the fork if possible\n",
      "\t- Explicitly set the environment variable TOKENIZERS_PARALLELISM=(true | false)\n",
      "Defaulting to user installation because normal site-packages is not writeable\n",
      "Collecting pydot\n",
      "  Downloading pydot-1.4.2-py2.py3-none-any.whl (21 kB)\n",
      "Requirement already satisfied: graphviz in /CSC_CONTAINER/miniconda/envs/env1/lib/python3.10/site-packages (0.20.1)\n",
      "Requirement already satisfied: pyparsing>=2.1.4 in /CSC_CONTAINER/miniconda/envs/env1/lib/python3.10/site-packages (from pydot) (3.0.9)\n",
      "Installing collected packages: pydot\n",
      "Successfully installed pydot-1.4.2\n"
     ]
    }
   ],
   "source": [
    "!pip install pydot graphviz"
   ]
  }
 ],
 "metadata": {
  "kernelspec": {
   "display_name": "Python 3 (ipykernel)",
   "language": "python",
   "name": "python3"
  },
  "language_info": {
   "codemirror_mode": {
    "name": "ipython",
    "version": 3
   },
   "file_extension": ".py",
   "mimetype": "text/x-python",
   "name": "python",
   "nbconvert_exporter": "python",
   "pygments_lexer": "ipython3",
   "version": "3.10.9"
  }
 },
 "nbformat": 4,
 "nbformat_minor": 5
}
