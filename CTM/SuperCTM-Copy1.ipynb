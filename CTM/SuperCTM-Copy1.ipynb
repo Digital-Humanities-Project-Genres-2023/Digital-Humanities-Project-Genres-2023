{
 "cells": [
  {
   "cell_type": "markdown",
   "id": "df9fd163",
   "metadata": {},
   "source": [
    "### Example of SuperCTM Model\n",
    "- In SuperCTM, you can label the documents to aid the clustering\n",
    "- One way would be to utilise the pre-provided categories (used here)\n",
    "- One could also label a subset of data by hand as a seed data"
   ]
  },
  {
   "cell_type": "markdown",
   "id": "012c974a",
   "metadata": {},
   "source": [
    "### CTM Model Training"
   ]
  },
  {
   "cell_type": "code",
   "execution_count": 1,
   "id": "4dc15b9f",
   "metadata": {},
   "outputs": [],
   "source": [
    "### GENERAL VARIABLES:\n",
    "sample_size = 100\n",
    "epochs = 10\n",
    "\n",
    "#What categories to use, either main/10 or sub_cat/43 if you want proper fit for comparison\n",
    "#This is really for the extra stuff at the end\n",
    "topics = 10\n",
    "compare_to = \"main_category\" #main_category#sub_category"
   ]
  },
  {
   "cell_type": "code",
   "execution_count": 2,
   "id": "fa7dd508",
   "metadata": {},
   "outputs": [],
   "source": [
    "from contextualized_topic_models.models.ctm import CombinedTM\n",
    "from contextualized_topic_models.utils.data_preparation import TopicModelDataPreparation\n",
    "from contextualized_topic_models.utils.preprocessing import WhiteSpacePreprocessingStopwords\n",
    "import nltk\n",
    "import pandas as pd"
   ]
  },
  {
   "cell_type": "code",
   "execution_count": 3,
   "id": "7de23b09",
   "metadata": {},
   "outputs": [],
   "source": [
    "import sys\n",
    "sys.path.append(\"../\")\n",
    "from src import puhti_files"
   ]
  },
  {
   "cell_type": "code",
   "execution_count": null,
   "id": "4c6c4f43",
   "metadata": {},
   "outputs": [],
   "source": [
    "### Load in data\n",
    "#df = puhti_files.genre_data_to_pandas(data=\"train\", add_labels=True, merge_ecco=True, better_subcat_names=True)"
   ]
  },
  {
   "cell_type": "code",
   "execution_count": null,
   "id": "7de69b27",
   "metadata": {},
   "outputs": [],
   "source": [
    "#Sample data, ensure that every category is represented\n",
    "\n",
    "#import math\n",
    "#n_categories = len(df[compare_to].unique())\n",
    "#take_per_category = math.ceil(sample_size / n_categories)\n",
    "\n",
    "\n",
    "# Group by sub_category and take one random sample from each group\n",
    "#df = df.groupby(compare_to, group_keys=False).apply(lambda x: x.sample(take_per_category, replace=True))\n",
    "#df = df.drop_duplicates()\n",
    "\n",
    "#print(len(df[compare_to].unique()))\n",
    "#print(len(df))"
   ]
  },
  {
   "cell_type": "code",
   "execution_count": null,
   "id": "fac472ba",
   "metadata": {},
   "outputs": [],
   "source": [
    "### Read in texts\n",
    "#df[\"text\"] = df[\"document_id\"].apply(lambda x: puhti_files.read_text_file(x))\n",
    "#df.head(3)"
   ]
  },
  {
   "cell_type": "code",
   "execution_count": 4,
   "id": "ad7f98c0",
   "metadata": {
    "scrolled": true
   },
   "outputs": [
    {
     "data": {
      "text/html": [
       "<div>\n",
       "<style scoped>\n",
       "    .dataframe tbody tr th:only-of-type {\n",
       "        vertical-align: middle;\n",
       "    }\n",
       "\n",
       "    .dataframe tbody tr th {\n",
       "        vertical-align: top;\n",
       "    }\n",
       "\n",
       "    .dataframe thead th {\n",
       "        text-align: right;\n",
       "    }\n",
       "</style>\n",
       "<table border=\"1\" class=\"dataframe\">\n",
       "  <thead>\n",
       "    <tr style=\"text-align: right;\">\n",
       "      <th></th>\n",
       "      <th>document_id</th>\n",
       "      <th>work_id</th>\n",
       "      <th>main_category</th>\n",
       "      <th>sub_category</th>\n",
       "      <th>main_category_label</th>\n",
       "      <th>sub_category_label</th>\n",
       "      <th>publication_year</th>\n",
       "      <th>gatherings</th>\n",
       "      <th>publication_place</th>\n",
       "      <th>author_id</th>\n",
       "      <th>...</th>\n",
       "      <th>ecco_languge</th>\n",
       "      <th>ecco_nr_paragraphs</th>\n",
       "      <th>ecco_id_y</th>\n",
       "      <th>document_part_type</th>\n",
       "      <th>document_part_number</th>\n",
       "      <th>document_part_id</th>\n",
       "      <th>document_part_nr_characters</th>\n",
       "      <th>document_part_nr_tokens</th>\n",
       "      <th>text</th>\n",
       "      <th>clean_t</th>\n",
       "    </tr>\n",
       "  </thead>\n",
       "  <tbody>\n",
       "    <tr>\n",
       "      <th>0</th>\n",
       "      <td>1195800100</td>\n",
       "      <td>198-recruiting officer</td>\n",
       "      <td>0</td>\n",
       "      <td>0</td>\n",
       "      <td>Arts</td>\n",
       "      <td>Theatre, plays, opera</td>\n",
       "      <td>1727</td>\n",
       "      <td>8vo</td>\n",
       "      <td>Dublin</td>\n",
       "      <td>61545511</td>\n",
       "      <td>...</td>\n",
       "      <td>English</td>\n",
       "      <td>665.0</td>\n",
       "      <td>1195800100</td>\n",
       "      <td>body</td>\n",
       "      <td>3.0</td>\n",
       "      <td>467077.0</td>\n",
       "      <td>134667.0</td>\n",
       "      <td>23681.0</td>\n",
       "      <td>the recruiting officer. a comed y. written by ...</td>\n",
       "      <td>recruiting officer comed written mr. q.u capti...</td>\n",
       "    </tr>\n",
       "    <tr>\n",
       "      <th>1</th>\n",
       "      <td>579400903</td>\n",
       "      <td>174-lucubrations of isaac bickerstaff</td>\n",
       "      <td>2</td>\n",
       "      <td>18</td>\n",
       "      <td>Literature</td>\n",
       "      <td>Other fiction</td>\n",
       "      <td>1723</td>\n",
       "      <td>12mo</td>\n",
       "      <td>London</td>\n",
       "      <td>7413288</td>\n",
       "      <td>...</td>\n",
       "      <td>English</td>\n",
       "      <td>1643.0</td>\n",
       "      <td>579400903</td>\n",
       "      <td>body</td>\n",
       "      <td>3.0</td>\n",
       "      <td>438523.0</td>\n",
       "      <td>646182.0</td>\n",
       "      <td>117037.0</td>\n",
       "      <td>i t h e, the lucubrations o f isaac ickc rfl i...</td>\n",
       "      <td>lucubrations isaac ickc rfl esq i-i/ aed co'.c...</td>\n",
       "    </tr>\n",
       "    <tr>\n",
       "      <th>2</th>\n",
       "      <td>1416900800</td>\n",
       "      <td>116-orphan or unhappy marriage</td>\n",
       "      <td>2</td>\n",
       "      <td>4</td>\n",
       "      <td>Literature</td>\n",
       "      <td>Drama</td>\n",
       "      <td>1722</td>\n",
       "      <td>12mo</td>\n",
       "      <td>London</td>\n",
       "      <td>56618493</td>\n",
       "      <td>...</td>\n",
       "      <td>English</td>\n",
       "      <td>943.0</td>\n",
       "      <td>1416900800</td>\n",
       "      <td>body</td>\n",
       "      <td>4.0</td>\n",
       "      <td>734739.0</td>\n",
       "      <td>87376.0</td>\n",
       "      <td>16295.0</td>\n",
       "      <td>.g-~tze envy ~culjl: ~ th e: y- orphane ·or, t...</td>\n",
       "      <td>.g-~tze envy ~culjl orphane ·or ppy~ rriage.l ...</td>\n",
       "    </tr>\n",
       "  </tbody>\n",
       "</table>\n",
       "<p>3 rows × 33 columns</p>\n",
       "</div>"
      ],
      "text/plain": [
       "   document_id                                work_id  main_category  \\\n",
       "0   1195800100                 198-recruiting officer              0   \n",
       "1    579400903  174-lucubrations of isaac bickerstaff              2   \n",
       "2   1416900800         116-orphan or unhappy marriage              2   \n",
       "\n",
       "   sub_category main_category_label     sub_category_label  publication_year  \\\n",
       "0             0                Arts  Theatre, plays, opera              1727   \n",
       "1            18          Literature          Other fiction              1723   \n",
       "2             4          Literature                  Drama              1722   \n",
       "\n",
       "  gatherings publication_place author_id  ... ecco_languge  \\\n",
       "0        8vo            Dublin  61545511  ...      English   \n",
       "1       12mo            London   7413288  ...      English   \n",
       "2       12mo            London  56618493  ...      English   \n",
       "\n",
       "   ecco_nr_paragraphs   ecco_id_y document_part_type document_part_number  \\\n",
       "0               665.0  1195800100               body                  3.0   \n",
       "1              1643.0   579400903               body                  3.0   \n",
       "2               943.0  1416900800               body                  4.0   \n",
       "\n",
       "  document_part_id document_part_nr_characters document_part_nr_tokens  \\\n",
       "0         467077.0                    134667.0                 23681.0   \n",
       "1         438523.0                    646182.0                117037.0   \n",
       "2         734739.0                     87376.0                 16295.0   \n",
       "\n",
       "                                                text  \\\n",
       "0  the recruiting officer. a comed y. written by ...   \n",
       "1  i t h e, the lucubrations o f isaac ickc rfl i...   \n",
       "2  .g-~tze envy ~culjl: ~ th e: y- orphane ·or, t...   \n",
       "\n",
       "                                             clean_t  \n",
       "0  recruiting officer comed written mr. q.u capti...  \n",
       "1  lucubrations isaac ickc rfl esq i-i/ aed co'.c...  \n",
       "2  .g-~tze envy ~culjl orphane ·or ppy~ rriage.l ...  \n",
       "\n",
       "[3 rows x 33 columns]"
      ]
     },
     "execution_count": 4,
     "metadata": {},
     "output_type": "execute_result"
    }
   ],
   "source": [
    "df = pd.read_csv(\"df_valivaihe.csv\")\n",
    "df.head(3)"
   ]
  },
  {
   "cell_type": "code",
   "execution_count": 5,
   "id": "2acaad3d",
   "metadata": {},
   "outputs": [
    {
     "data": {
      "text/plain": [
       "1720    800\n",
       "Name: decade, dtype: int64"
      ]
     },
     "execution_count": 5,
     "metadata": {},
     "output_type": "execute_result"
    }
   ],
   "source": [
    "df = df[df[\"decade\"]==1720]\n",
    "df['decade'].value_counts()"
   ]
  },
  {
   "cell_type": "code",
   "execution_count": 6,
   "id": "17a70c0b",
   "metadata": {},
   "outputs": [],
   "source": [
    "df[\"text\"] = df[\"clean_t\"]"
   ]
  },
  {
   "cell_type": "code",
   "execution_count": 7,
   "id": "af549e93",
   "metadata": {},
   "outputs": [
    {
     "data": {
      "text/plain": [
       "317625"
      ]
     },
     "execution_count": 7,
     "metadata": {},
     "output_type": "execute_result"
    }
   ],
   "source": [
    "### Create dataset with splitted documents. Document_id is kept for later merge.\n",
    "\n",
    "def split_text(text, num_words):\n",
    "    words = text.split()\n",
    "    chunks = [' '.join(words[i:i + num_words]) for i in range(0, len(words), num_words)]\n",
    "    return chunks\n",
    "\n",
    "num_words = 128\n",
    "split_data = []\n",
    "for _, row in df.iterrows():\n",
    "    doc_id = row['document_id']\n",
    "    main_category_label = row[\"main_category_label\"]\n",
    "    sub_category_label = row[\"sub_category_label\"]\n",
    "    \n",
    "    text = row['text']\n",
    "    chunks = split_text(text, num_words)\n",
    "    \n",
    "    for chunk in chunks:\n",
    "        split_data.append({\n",
    "            'document_id': doc_id,\n",
    "            \"main_category_label\": main_category_label,\n",
    "            \"sub_category_label\": sub_category_label,\n",
    "            'text': chunk\n",
    "        })\n",
    "\n",
    "split_df = pd.DataFrame(split_data)\n",
    "len(split_df)"
   ]
  },
  {
   "cell_type": "code",
   "execution_count": 8,
   "id": "7d478070",
   "metadata": {},
   "outputs": [
    {
     "name": "stderr",
     "output_type": "stream",
     "text": [
      "[nltk_data] Downloading package stopwords to\n",
      "[nltk_data]     /users/tturpein/nltk_data...\n",
      "[nltk_data]   Package stopwords is already up-to-date!\n"
     ]
    }
   ],
   "source": [
    "from nltk.corpus import stopwords as stop_words\n",
    "nltk.download('stopwords')\n",
    "stopwords = list(stop_words.words(\"english\"))"
   ]
  },
  {
   "cell_type": "code",
   "execution_count": 9,
   "id": "f61c4169",
   "metadata": {},
   "outputs": [
    {
     "name": "stdout",
     "output_type": "stream",
     "text": [
      "317552\n",
      "317552\n"
     ]
    }
   ],
   "source": [
    "sp = WhiteSpacePreprocessingStopwords(list(split_df[\"text\"]), stopwords_list=stopwords, vocabulary_size=2000)#vocabulary_size=2000\n",
    "preprocessed_documents, unpreprocessed_corpus, vocab, retained_indices = sp.preprocess()\n",
    "print(len(preprocessed_documents))\n",
    "print(len(unpreprocessed_corpus))"
   ]
  },
  {
   "cell_type": "code",
   "execution_count": 10,
   "id": "e3de4142",
   "metadata": {},
   "outputs": [],
   "source": [
    "# We use \"_label\" column as labels.\n",
    "# I'm not sure if the actual names really matter. Could be that you can use numeric ones.\n",
    "labels = split_df[compare_to + \"_label\"].to_numpy()"
   ]
  },
  {
   "cell_type": "code",
   "execution_count": 11,
   "id": "0d2ecf70",
   "metadata": {},
   "outputs": [
    {
     "data": {
      "text/plain": [
       "317552"
      ]
     },
     "execution_count": 11,
     "metadata": {},
     "output_type": "execute_result"
    }
   ],
   "source": [
    "#We have to drop the labels for the rows that the preprocessing drops\n",
    "labels = labels[retained_indices]\n",
    "labels = list(labels)\n",
    "len(labels)"
   ]
  },
  {
   "cell_type": "code",
   "execution_count": 12,
   "id": "b1d11b79",
   "metadata": {},
   "outputs": [
    {
     "data": {
      "application/vnd.jupyter.widget-view+json": {
       "model_id": "ed9987a7bf3a4adbb05ff7247d56e912",
       "version_major": 2,
       "version_minor": 0
      },
      "text/plain": [
       "Batches:   0%|          | 0/1588 [00:00<?, ?it/s]"
      ]
     },
     "metadata": {},
     "output_type": "display_data"
    }
   ],
   "source": [
    "tp = TopicModelDataPreparation(\"paraphrase-multilingual-mpnet-base-v2\")\n",
    "\n",
    "training_dataset = tp.fit(\n",
    "    text_for_contextual = unpreprocessed_corpus,\n",
    "    text_for_bow = preprocessed_documents,\n",
    "    labels = labels\n",
    ")"
   ]
  },
  {
   "cell_type": "code",
   "execution_count": 13,
   "id": "f247f51b",
   "metadata": {},
   "outputs": [
    {
     "data": {
      "text/plain": [
       "tensor([[1., 0., 0., 0., 0., 0., 0., 0., 0., 0.]])"
      ]
     },
     "execution_count": 13,
     "metadata": {},
     "output_type": "execute_result"
    }
   ],
   "source": [
    "### Checking how labels are encoded\n",
    "### They should be one-hotted\n",
    "training_dataset.__getitem__(0)[\"labels\"]"
   ]
  },
  {
   "cell_type": "code",
   "execution_count": 14,
   "id": "f2f76930",
   "metadata": {},
   "outputs": [],
   "source": [
    "### Training the model with labels\n",
    "\n",
    "import os\n",
    "os.environ[\"TOKENIZERS_PARALLELISM\"] = \"false\" # Gets rid of warnings\n",
    "\n",
    "ctm = CombinedTM(\n",
    "    bow_size=len(tp.vocab),\n",
    "    contextual_size=768,\n",
    "    n_components=topics,\n",
    "    num_epochs=epochs,\n",
    "    label_size=len(set(labels))\n",
    ")"
   ]
  },
  {
   "cell_type": "code",
   "execution_count": 15,
   "id": "a566a467",
   "metadata": {},
   "outputs": [
    {
     "name": "stderr",
     "output_type": "stream",
     "text": [
      "/users/tturpein/.local/lib/python3.10/site-packages/torch/utils/data/dataloader.py:561: UserWarning: This DataLoader will create 40 worker processes in total. Our suggested max number of worker in current system is 4, which is smaller than what this DataLoader is going to create. Please be aware that excessive worker creation might get DataLoader running slow or even freeze, lower the worker number to avoid potential slowness/freeze if necessary.\n",
      "  warnings.warn(_create_warning_msg(\n",
      "Epoch: [10/10]\t Seen Samples: [3175040/3175520]\tTrain Loss: 451.26272710958955\tTime: 0:00:43.988905: : 10it [07:28, 44.81s/it]\n",
      "100%|██████████| 4962/4962 [00:42<00:00, 116.73it/s]\n"
     ]
    }
   ],
   "source": [
    "ctm.fit(training_dataset)"
   ]
  },
  {
   "cell_type": "code",
   "execution_count": 16,
   "id": "996187ca",
   "metadata": {
    "scrolled": false
   },
   "outputs": [
    {
     "name": "stderr",
     "output_type": "stream",
     "text": [
      "100%|██████████| 4962/4962 [00:34<00:00, 143.43it/s]\n"
     ]
    },
    {
     "data": {
      "text/plain": [
       "(317552, 10)"
      ]
     },
     "execution_count": 16,
     "metadata": {},
     "output_type": "execute_result"
    }
   ],
   "source": [
    "### Topic predictions as percentages for each topic for each document chunk\n",
    "\n",
    "topics_predictions = ctm.get_thetas(training_dataset, n_samples=5)\n",
    "topics_predictions.shape"
   ]
  },
  {
   "cell_type": "markdown",
   "id": "20306cea",
   "metadata": {},
   "source": [
    "### Comparing to premade categories\n",
    "- The rest of the code is just a accuracy comparison to the older categories"
   ]
  },
  {
   "cell_type": "code",
   "execution_count": 17,
   "id": "ada3d96d",
   "metadata": {},
   "outputs": [],
   "source": [
    "### Adding the predictions to a dataframe\n",
    "topic_columns = [f\"topic_{i}_prob\" for i in range(0, topics)]\n",
    "predictions_df = pd.DataFrame(topics_predictions, columns=topic_columns)"
   ]
  },
  {
   "cell_type": "code",
   "execution_count": 18,
   "id": "882a1bc0",
   "metadata": {},
   "outputs": [
    {
     "data": {
      "text/plain": [
       "(317625, 14)"
      ]
     },
     "execution_count": 18,
     "metadata": {},
     "output_type": "execute_result"
    }
   ],
   "source": [
    "### !!!NOTE: Because of dropped rows, the precictions dataframe doesn't match split_df\n",
    "### retained_indices has the actual indices of the data. We use that to reset the index after which we can concat correctly\n",
    "\n",
    "#Resetting the index \n",
    "predictions_df = predictions_df.set_index(pd.Index(retained_indices))\n",
    "split_df = pd.concat([split_df, predictions_df], axis=1)\n",
    "split_df.shape"
   ]
  },
  {
   "cell_type": "code",
   "execution_count": 19,
   "id": "1d17c8a5",
   "metadata": {},
   "outputs": [
    {
     "name": "stdout",
     "output_type": "stream",
     "text": [
      "800\n"
     ]
    },
    {
     "data": {
      "text/html": [
       "<div>\n",
       "<style scoped>\n",
       "    .dataframe tbody tr th:only-of-type {\n",
       "        vertical-align: middle;\n",
       "    }\n",
       "\n",
       "    .dataframe tbody tr th {\n",
       "        vertical-align: top;\n",
       "    }\n",
       "\n",
       "    .dataframe thead th {\n",
       "        text-align: right;\n",
       "    }\n",
       "</style>\n",
       "<table border=\"1\" class=\"dataframe\">\n",
       "  <thead>\n",
       "    <tr style=\"text-align: right;\">\n",
       "      <th></th>\n",
       "      <th>topic_0_prob</th>\n",
       "      <th>topic_1_prob</th>\n",
       "      <th>topic_2_prob</th>\n",
       "      <th>topic_3_prob</th>\n",
       "      <th>topic_4_prob</th>\n",
       "      <th>topic_5_prob</th>\n",
       "      <th>topic_6_prob</th>\n",
       "      <th>topic_7_prob</th>\n",
       "      <th>topic_8_prob</th>\n",
       "      <th>topic_9_prob</th>\n",
       "      <th>best_topic</th>\n",
       "    </tr>\n",
       "    <tr>\n",
       "      <th>document_id</th>\n",
       "      <th></th>\n",
       "      <th></th>\n",
       "      <th></th>\n",
       "      <th></th>\n",
       "      <th></th>\n",
       "      <th></th>\n",
       "      <th></th>\n",
       "      <th></th>\n",
       "      <th></th>\n",
       "      <th></th>\n",
       "      <th></th>\n",
       "    </tr>\n",
       "  </thead>\n",
       "  <tbody>\n",
       "    <tr>\n",
       "      <th>4400100</th>\n",
       "      <td>0.055631</td>\n",
       "      <td>0.053654</td>\n",
       "      <td>0.059722</td>\n",
       "      <td>0.058051</td>\n",
       "      <td>0.040165</td>\n",
       "      <td>0.055755</td>\n",
       "      <td>0.091606</td>\n",
       "      <td>0.121337</td>\n",
       "      <td>0.403266</td>\n",
       "      <td>0.060813</td>\n",
       "      <td>8</td>\n",
       "    </tr>\n",
       "    <tr>\n",
       "      <th>6101100</th>\n",
       "      <td>0.085226</td>\n",
       "      <td>0.056686</td>\n",
       "      <td>0.058869</td>\n",
       "      <td>0.051628</td>\n",
       "      <td>0.061046</td>\n",
       "      <td>0.056303</td>\n",
       "      <td>0.402044</td>\n",
       "      <td>0.061988</td>\n",
       "      <td>0.099089</td>\n",
       "      <td>0.067122</td>\n",
       "      <td>6</td>\n",
       "    </tr>\n",
       "    <tr>\n",
       "      <th>6101201</th>\n",
       "      <td>0.103784</td>\n",
       "      <td>0.083905</td>\n",
       "      <td>0.071664</td>\n",
       "      <td>0.074327</td>\n",
       "      <td>0.117396</td>\n",
       "      <td>0.081974</td>\n",
       "      <td>0.207942</td>\n",
       "      <td>0.074931</td>\n",
       "      <td>0.083812</td>\n",
       "      <td>0.100265</td>\n",
       "      <td>6</td>\n",
       "    </tr>\n",
       "  </tbody>\n",
       "</table>\n",
       "</div>"
      ],
      "text/plain": [
       "             topic_0_prob  topic_1_prob  topic_2_prob  topic_3_prob  \\\n",
       "document_id                                                           \n",
       "4400100          0.055631      0.053654      0.059722      0.058051   \n",
       "6101100          0.085226      0.056686      0.058869      0.051628   \n",
       "6101201          0.103784      0.083905      0.071664      0.074327   \n",
       "\n",
       "             topic_4_prob  topic_5_prob  topic_6_prob  topic_7_prob  \\\n",
       "document_id                                                           \n",
       "4400100          0.040165      0.055755      0.091606      0.121337   \n",
       "6101100          0.061046      0.056303      0.402044      0.061988   \n",
       "6101201          0.117396      0.081974      0.207942      0.074931   \n",
       "\n",
       "             topic_8_prob  topic_9_prob  best_topic  \n",
       "document_id                                          \n",
       "4400100          0.403266      0.060813           8  \n",
       "6101100          0.099089      0.067122           6  \n",
       "6101201          0.083812      0.100265           6  "
      ]
     },
     "execution_count": 19,
     "metadata": {},
     "output_type": "execute_result"
    }
   ],
   "source": [
    "### Calculate mean probability from chunks for each document\n",
    "### Then take the best probability as 'best_topic'\n",
    "### This reduces the dataframe back to 1 document_id per row\n",
    "\n",
    "mean_prob_df = split_df.groupby('document_id')[topic_columns].mean()\n",
    "mean_prob_df['best_topic'] = mean_prob_df.idxmax(axis=1).str.replace('_prob', '').str.replace('topic_', '').astype(int)\n",
    "print(len(mean_prob_df))\n",
    "mean_prob_df.head(3)"
   ]
  },
  {
   "cell_type": "code",
   "execution_count": 20,
   "id": "42208f16",
   "metadata": {},
   "outputs": [
    {
     "data": {
      "text/html": [
       "<div>\n",
       "<style scoped>\n",
       "    .dataframe tbody tr th:only-of-type {\n",
       "        vertical-align: middle;\n",
       "    }\n",
       "\n",
       "    .dataframe tbody tr th {\n",
       "        vertical-align: top;\n",
       "    }\n",
       "\n",
       "    .dataframe thead th {\n",
       "        text-align: right;\n",
       "    }\n",
       "</style>\n",
       "<table border=\"1\" class=\"dataframe\">\n",
       "  <thead>\n",
       "    <tr style=\"text-align: right;\">\n",
       "      <th></th>\n",
       "      <th>document_id</th>\n",
       "      <th>work_id</th>\n",
       "      <th>main_category</th>\n",
       "      <th>sub_category</th>\n",
       "      <th>main_category_label</th>\n",
       "      <th>sub_category_label</th>\n",
       "      <th>publication_year</th>\n",
       "      <th>gatherings</th>\n",
       "      <th>publication_place</th>\n",
       "      <th>author_id</th>\n",
       "      <th>...</th>\n",
       "      <th>topic_1_prob</th>\n",
       "      <th>topic_2_prob</th>\n",
       "      <th>topic_3_prob</th>\n",
       "      <th>topic_4_prob</th>\n",
       "      <th>topic_5_prob</th>\n",
       "      <th>topic_6_prob</th>\n",
       "      <th>topic_7_prob</th>\n",
       "      <th>topic_8_prob</th>\n",
       "      <th>topic_9_prob</th>\n",
       "      <th>best_topic</th>\n",
       "    </tr>\n",
       "  </thead>\n",
       "  <tbody>\n",
       "    <tr>\n",
       "      <th>0</th>\n",
       "      <td>1195800100</td>\n",
       "      <td>198-recruiting officer</td>\n",
       "      <td>0</td>\n",
       "      <td>0</td>\n",
       "      <td>Arts</td>\n",
       "      <td>Theatre, plays, opera</td>\n",
       "      <td>1727</td>\n",
       "      <td>8vo</td>\n",
       "      <td>Dublin</td>\n",
       "      <td>61545511</td>\n",
       "      <td>...</td>\n",
       "      <td>0.037062</td>\n",
       "      <td>0.039070</td>\n",
       "      <td>0.076677</td>\n",
       "      <td>0.049224</td>\n",
       "      <td>0.042866</td>\n",
       "      <td>0.537826</td>\n",
       "      <td>0.067137</td>\n",
       "      <td>0.039655</td>\n",
       "      <td>0.064862</td>\n",
       "      <td>6</td>\n",
       "    </tr>\n",
       "    <tr>\n",
       "      <th>1</th>\n",
       "      <td>579400903</td>\n",
       "      <td>174-lucubrations of isaac bickerstaff</td>\n",
       "      <td>2</td>\n",
       "      <td>18</td>\n",
       "      <td>Literature</td>\n",
       "      <td>Other fiction</td>\n",
       "      <td>1723</td>\n",
       "      <td>12mo</td>\n",
       "      <td>London</td>\n",
       "      <td>7413288</td>\n",
       "      <td>...</td>\n",
       "      <td>0.075844</td>\n",
       "      <td>0.073393</td>\n",
       "      <td>0.105498</td>\n",
       "      <td>0.051434</td>\n",
       "      <td>0.147614</td>\n",
       "      <td>0.191019</td>\n",
       "      <td>0.086818</td>\n",
       "      <td>0.082620</td>\n",
       "      <td>0.074129</td>\n",
       "      <td>6</td>\n",
       "    </tr>\n",
       "    <tr>\n",
       "      <th>2</th>\n",
       "      <td>1416900800</td>\n",
       "      <td>116-orphan or unhappy marriage</td>\n",
       "      <td>2</td>\n",
       "      <td>4</td>\n",
       "      <td>Literature</td>\n",
       "      <td>Drama</td>\n",
       "      <td>1722</td>\n",
       "      <td>12mo</td>\n",
       "      <td>London</td>\n",
       "      <td>56618493</td>\n",
       "      <td>...</td>\n",
       "      <td>0.052011</td>\n",
       "      <td>0.040255</td>\n",
       "      <td>0.069684</td>\n",
       "      <td>0.117028</td>\n",
       "      <td>0.055245</td>\n",
       "      <td>0.188835</td>\n",
       "      <td>0.056901</td>\n",
       "      <td>0.046767</td>\n",
       "      <td>0.326984</td>\n",
       "      <td>9</td>\n",
       "    </tr>\n",
       "  </tbody>\n",
       "</table>\n",
       "<p>3 rows × 44 columns</p>\n",
       "</div>"
      ],
      "text/plain": [
       "   document_id                                work_id  main_category  \\\n",
       "0   1195800100                 198-recruiting officer              0   \n",
       "1    579400903  174-lucubrations of isaac bickerstaff              2   \n",
       "2   1416900800         116-orphan or unhappy marriage              2   \n",
       "\n",
       "   sub_category main_category_label     sub_category_label  publication_year  \\\n",
       "0             0                Arts  Theatre, plays, opera              1727   \n",
       "1            18          Literature          Other fiction              1723   \n",
       "2             4          Literature                  Drama              1722   \n",
       "\n",
       "  gatherings publication_place author_id  ... topic_1_prob  topic_2_prob  \\\n",
       "0        8vo            Dublin  61545511  ...     0.037062      0.039070   \n",
       "1       12mo            London   7413288  ...     0.075844      0.073393   \n",
       "2       12mo            London  56618493  ...     0.052011      0.040255   \n",
       "\n",
       "   topic_3_prob topic_4_prob topic_5_prob topic_6_prob topic_7_prob  \\\n",
       "0      0.076677     0.049224     0.042866     0.537826     0.067137   \n",
       "1      0.105498     0.051434     0.147614     0.191019     0.086818   \n",
       "2      0.069684     0.117028     0.055245     0.188835     0.056901   \n",
       "\n",
       "  topic_8_prob  topic_9_prob  best_topic  \n",
       "0     0.039655      0.064862           6  \n",
       "1     0.082620      0.074129           6  \n",
       "2     0.046767      0.326984           9  \n",
       "\n",
       "[3 rows x 44 columns]"
      ]
     },
     "execution_count": 20,
     "metadata": {},
     "output_type": "execute_result"
    }
   ],
   "source": [
    "### Finally merge to original dataframe\n",
    "df = pd.merge(df, mean_prob_df, on='document_id', how='left')\n",
    "df.head(3)"
   ]
  },
  {
   "cell_type": "code",
   "execution_count": 23,
   "id": "4646e3ba",
   "metadata": {},
   "outputs": [],
   "source": [
    "import numpy as np\n",
    "from sklearn.metrics import confusion_matrix\n",
    "from sklearn.metrics import accuracy_score"
   ]
  },
  {
   "cell_type": "code",
   "execution_count": 24,
   "id": "d0687022",
   "metadata": {},
   "outputs": [
    {
     "data": {
      "text/plain": [
       "array([[  0,   0,   0,   1,   8,   0,  61,   0,   0,  46],\n",
       "       [ 31,   0,   0,   4,   0,   0,   0,   0,   0,   0],\n",
       "       [ 10,   0,   0,  10,   7,  16,  95,   6,  13, 148],\n",
       "       [  1,   1,   0,   0,   0,   5,   1,   0,   0,   1],\n",
       "       [  4,   1,   1,   5,   0,   0,   7,  20,  54,   2],\n",
       "       [  0,   4,  30,  22,   0,   0,   0,   1,   0,   0],\n",
       "       [  0,   0,   0,   0,   0,   0,   4,   1,   0,   3],\n",
       "       [  0,   3,   6,   0,   0,   0,   0,   5,   8,   3],\n",
       "       [  0,   3,   0,   1,   0,  33,   2,   0,   4,   0],\n",
       "       [  2,  46,   0,  11,  40,   0,   9,   0,   0,   0]])"
      ]
     },
     "execution_count": 24,
     "metadata": {},
     "output_type": "execute_result"
    }
   ],
   "source": [
    "cm = confusion_matrix(df[compare_to], df['best_topic'])\n",
    "cm"
   ]
  },
  {
   "cell_type": "code",
   "execution_count": 25,
   "id": "d9fae6de",
   "metadata": {},
   "outputs": [
    {
     "data": {
      "text/plain": [
       "array([1, 9, 5, 5, 9, 8, 2, 4, 4, 2])"
      ]
     },
     "execution_count": 25,
     "metadata": {},
     "output_type": "execute_result"
    }
   ],
   "source": [
    "# Find the best mapping\n",
    "best_mapping = np.argmax(cm, axis=0)\n",
    "best_mapping"
   ]
  },
  {
   "cell_type": "code",
   "execution_count": 26,
   "id": "93e654eb",
   "metadata": {},
   "outputs": [
    {
     "data": {
      "text/plain": [
       "10"
      ]
     },
     "execution_count": 26,
     "metadata": {},
     "output_type": "execute_result"
    }
   ],
   "source": [
    "mapping_dict = {i: category for i, category in enumerate(best_mapping)}\n",
    "mapping_dict\n",
    "len(mapping_dict)"
   ]
  },
  {
   "cell_type": "code",
   "execution_count": 27,
   "id": "5fdf792a",
   "metadata": {},
   "outputs": [],
   "source": [
    "df['best_fit_category'] = df['best_topic'].map(mapping_dict)"
   ]
  },
  {
   "cell_type": "code",
   "execution_count": 28,
   "id": "a9d1ec1e",
   "metadata": {},
   "outputs": [
    {
     "data": {
      "text/plain": [
       "0.64875"
      ]
     },
     "execution_count": 28,
     "metadata": {},
     "output_type": "execute_result"
    }
   ],
   "source": [
    "accuracy = accuracy_score(df['main_category'], df['best_fit_category'])\n",
    "accuracy"
   ]
  },
  {
   "cell_type": "code",
   "execution_count": 29,
   "id": "6d4c4852",
   "metadata": {},
   "outputs": [],
   "source": [
    "predicted_topic_labels = {1720: {1: 'Kings',\n",
    "  2: 'Verbs?/War?',\n",
    "  3: 'Goverment/Royal',\n",
    "  4: 'Romance',\n",
    "  5: 'Law',\n",
    "  6: 'Prayer/Bible',\n",
    "  7: 'Social',\n",
    "  8: 'War?',\n",
    "  9: 'Religion',\n",
    "  10: 'Science'},\n",
    " 1730: {1: 'Locations/People',\n",
    "  2: 'Social Concepts',\n",
    "  3: 'State',\n",
    "  4: 'Religion',\n",
    "  5: 'Bigger Concepts',\n",
    "  6: 'Kings',\n",
    "  7: 'Religion',\n",
    "  8: 'Nature',\n",
    "  9: 'Goverment/Kingdom',\n",
    "  10: 'Romance'},\n",
    " 1740: {1: 'War/Kingdom',\n",
    "  2: 'Religion',\n",
    "  3: 'NA?',\n",
    "  4: 'Law',\n",
    "  5: 'Religion',\n",
    "  6: 'Nature',\n",
    "  7: 'Romance',\n",
    "  8: 'Romance',\n",
    "  9: 'Royalty',\n",
    "  10: 'Philosophy'},\n",
    " 1750: {1: 'Kingdom',\n",
    "  2: 'NA',\n",
    "  3: 'Romance/Religion',\n",
    "  4: 'Religion',\n",
    "  5: 'NA',\n",
    "  6: 'Country/Issues',\n",
    "  7: 'Kingdom',\n",
    "  8: 'Mankind',\n",
    "  9: 'Bible/Religion',\n",
    "  10: 'Nature'},\n",
    " 1760: {1: 'Love/Family',\n",
    "  2: 'Nature',\n",
    "  3: 'Love/Religious Concepts',\n",
    "  4: 'Kingdom',\n",
    "  5: 'Bible/Religion',\n",
    "  6: 'Religion',\n",
    "  7: 'Government affairs',\n",
    "  8: 'NA',\n",
    "  9: 'State Affairs',\n",
    "  10: 'Philosophy'},\n",
    " 1770: {1: 'NA',\n",
    "  2: 'Law/Court',\n",
    "  3: 'Love/Religion',\n",
    "  4: 'Kingdom',\n",
    "  5: 'Mankind',\n",
    "  6: 'Love',\n",
    "  7: 'Higher Power',\n",
    "  8: 'Kingdom/War',\n",
    "  9: 'Nature',\n",
    "  10: 'Church/Religion'},\n",
    " 1780: {1: 'NA',\n",
    "  2: 'War',\n",
    "  3: 'Law',\n",
    "  4: 'Mandkind',\n",
    "  5: 'Romance',\n",
    "  6: 'Medicine',\n",
    "  7: 'Religion',\n",
    "  8: 'Prayer/Bible',\n",
    "  9: 'Trade/Economy',\n",
    "  10: 'Court/Kingdom'},\n",
    " 1790: {1: 'NA',\n",
    "  2: 'Love',\n",
    "  3: 'Law',\n",
    "  4: 'Parliament',\n",
    "  5: 'Literature?',\n",
    "  6: 'Romance',\n",
    "  7: 'Religion',\n",
    "  8: 'Countries/Land/Economy',\n",
    "  9: 'Ingredients?',\n",
    "  10: 'Mankind'}}"
   ]
  },
  {
   "cell_type": "code",
   "execution_count": 32,
   "id": "44f94d49",
   "metadata": {},
   "outputs": [
    {
     "data": {
      "text/plain": [
       "{'Arts': 0,\n",
       " 'Scientific Improvement': 1,\n",
       " 'Literature': 2,\n",
       " 'Education': 3,\n",
       " 'History': 4,\n",
       " 'Law': 5,\n",
       " 'Sales Catalogues': 6,\n",
       " 'Politics': 7,\n",
       " 'Philosophy': 8,\n",
       " 'Religion': 9}"
      ]
     },
     "execution_count": 32,
     "metadata": {},
     "output_type": "execute_result"
    }
   ],
   "source": [
    "labels = puhti_files.labels_to_dict(invert=False)\n",
    "labels['main2id']"
   ]
  },
  {
   "cell_type": "code",
   "execution_count": 33,
   "id": "fb4a4a02",
   "metadata": {},
   "outputs": [
    {
     "data": {
      "image/png": "[encoded data removed]",
      "text/plain": [
       "<Figure size 640x480 with 2 Axes>"
      ]
     },
     "metadata": {},
     "output_type": "display_data"
    }
   ],
   "source": [
    "import matplotlib.pyplot as plt\n",
    "import seaborn as sns\n",
    "\n",
    "# Assuming you already have 'cm' as your confusion matrix from previous steps\n",
    "\n",
    "# Create a heatmap of the confusion matrix\n",
    "\n",
    "ax = sns.heatmap(cm, annot=True, fmt='d', cmap='Blues', xticklabels=list(predicted_topic_labels[1720].values()), yticklabels=list(labels['main2id'].keys()))\n",
    "\n",
    "plt.setp(ax.get_xticklabels(), rotation=45, ha='right', rotation_mode='anchor')\n",
    "\n",
    "plt.show()"
   ]
  },
  {
   "cell_type": "code",
   "execution_count": 34,
   "id": "924b1cf1",
   "metadata": {},
   "outputs": [],
   "source": [
    "predicted_labels_1720 = list(predicted_topic_labels[1720].values())\n",
    "predicted_labels_1720[4] = \"Law (new)\"\n",
    "predicted_labels_1720[8] = \"Religion (new)\"\n",
    "old_labels = list(labels['main2id'].keys())\n",
    "label_map = {predicted_labels_1720[key]: old_labels[value]  for key, value in mapping_dict.items()}"
   ]
  },
  {
   "cell_type": "code",
   "execution_count": 35,
   "id": "e3a02b88",
   "metadata": {},
   "outputs": [
    {
     "data": {
      "image/svg+xml": [
       "<svg xmlns=\"http://www.w3.org/2000/svg\" xmlns:xlink=\"http://www.w3.org/1999/xlink\" width=\"464pt\" height=\"543pt\" viewBox=\"0.00 0.00 463.86 543.00\">\n",
       "<g id=\"graph0\" class=\"graph\" transform=\"scale(1 1) rotate(0) translate(4 539)\">\n",
       "<title>G</title>\n",
       "<polygon fill=\"white\" stroke=\"none\" points=\"-4,4 -4,-539 459.86,-539 459.86,4 -4,4\"/>\n",
       "<!-- Kings -->\n",
       "<g id=\"node1\" class=\"node\">\n",
       "<title>Kings</title>\n",
       "<ellipse fill=\"lightblue\" stroke=\"black\" cx=\"92.29\" cy=\"-18\" rx=\"36.29\" ry=\"18\"/>\n",
       "<text text-anchor=\"middle\" x=\"92.29\" y=\"-14.3\" font-family=\"Times,serif\" font-size=\"14.00\">Kings</text>\n",
       "</g>\n",
       "<!-- Scientific Improvement -->\n",
       "<g id=\"node2\" class=\"node\">\n",
       "<title>Scientific Improvement</title>\n",
       "<ellipse fill=\"lightgreen\" stroke=\"black\" cx=\"338.22\" cy=\"-18\" rx=\"117.78\" ry=\"18\"/>\n",
       "<text text-anchor=\"middle\" x=\"338.22\" y=\"-14.3\" font-family=\"Times,serif\" font-size=\"14.00\">Scientific Improvement</text>\n",
       "</g>\n",
       "<!-- Kings&#45;&gt;Scientific Improvement -->\n",
       "<g id=\"edge1\" class=\"edge\">\n",
       "<title>Kings-&gt;Scientific Improvement</title>\n",
       "<path fill=\"none\" stroke=\"black\" d=\"M129.02,-18C150.55,-18 179.43,-18 208.8,-18\"/>\n",
       "<polygon fill=\"black\" stroke=\"black\" points=\"208.56,-21.5 218.56,-18 208.56,-14.5 208.56,-21.5\"/>\n",
       "</g>\n",
       "<!-- Verbs?/War? -->\n",
       "<g id=\"node3\" class=\"node\">\n",
       "<title>Verbs?/War?</title>\n",
       "<ellipse fill=\"lightblue\" stroke=\"black\" cx=\"92.29\" cy=\"-139\" rx=\"69.59\" ry=\"18\"/>\n",
       "<text text-anchor=\"middle\" x=\"92.29\" y=\"-135.3\" font-family=\"Times,serif\" font-size=\"14.00\">Verbs?/War?</text>\n",
       "</g>\n",
       "<!-- Religion -->\n",
       "<g id=\"node4\" class=\"node\">\n",
       "<title>Religion</title>\n",
       "<ellipse fill=\"lightgreen\" stroke=\"black\" cx=\"338.22\" cy=\"-99\" rx=\"48.19\" ry=\"18\"/>\n",
       "<text text-anchor=\"middle\" x=\"338.22\" y=\"-95.3\" font-family=\"Times,serif\" font-size=\"14.00\">Religion</text>\n",
       "</g>\n",
       "<!-- Verbs?/War?&#45;&gt;Religion -->\n",
       "<g id=\"edge2\" class=\"edge\">\n",
       "<title>Verbs?/War?-&gt;Religion</title>\n",
       "<path fill=\"none\" stroke=\"black\" d=\"M152.03,-129.37C191.68,-122.87 243.65,-114.34 282.44,-107.98\"/>\n",
       "<polygon fill=\"black\" stroke=\"black\" points=\"282.72,-111.48 292.02,-106.41 281.59,-104.58 282.72,-111.48\"/>\n",
       "</g>\n",
       "<!-- Goverment/Royal -->\n",
       "<g id=\"node5\" class=\"node\">\n",
       "<title>Goverment/Royal</title>\n",
       "<ellipse fill=\"lightblue\" stroke=\"black\" cx=\"92.29\" cy=\"-247\" rx=\"92.08\" ry=\"18\"/>\n",
       "<text text-anchor=\"middle\" x=\"92.29\" y=\"-243.3\" font-family=\"Times,serif\" font-size=\"14.00\">Goverment/Royal</text>\n",
       "</g>\n",
       "<!-- Law -->\n",
       "<g id=\"node6\" class=\"node\">\n",
       "<title>Law</title>\n",
       "<ellipse fill=\"lightgreen\" stroke=\"black\" cx=\"338.22\" cy=\"-220\" rx=\"29.5\" ry=\"18\"/>\n",
       "<text text-anchor=\"middle\" x=\"338.22\" y=\"-216.3\" font-family=\"Times,serif\" font-size=\"14.00\">Law</text>\n",
       "</g>\n",
       "<!-- Goverment/Royal&#45;&gt;Law -->\n",
       "<g id=\"edge3\" class=\"edge\">\n",
       "<title>Goverment/Royal-&gt;Law</title>\n",
       "<path fill=\"none\" stroke=\"black\" d=\"M173.5,-238.12C215.11,-233.52 264.1,-228.09 297.57,-224.39\"/>\n",
       "<polygon fill=\"black\" stroke=\"black\" points=\"297.67,-227.9 307.23,-223.32 296.9,-220.94 297.67,-227.9\"/>\n",
       "</g>\n",
       "<!-- Romance -->\n",
       "<g id=\"node7\" class=\"node\">\n",
       "<title>Romance</title>\n",
       "<ellipse fill=\"lightblue\" stroke=\"black\" cx=\"92.29\" cy=\"-193\" rx=\"55.49\" ry=\"18\"/>\n",
       "<text text-anchor=\"middle\" x=\"92.29\" y=\"-189.3\" font-family=\"Times,serif\" font-size=\"14.00\">Romance</text>\n",
       "</g>\n",
       "<!-- Romance&#45;&gt;Law -->\n",
       "<g id=\"edge4\" class=\"edge\">\n",
       "<title>Romance-&gt;Law</title>\n",
       "<path fill=\"none\" stroke=\"black\" d=\"M145.32,-198.76C190.88,-203.8 256.11,-211.02 297.56,-215.61\"/>\n",
       "<polygon fill=\"black\" stroke=\"black\" points=\"297.01,-219.07 307.34,-216.69 297.79,-212.11 297.01,-219.07\"/>\n",
       "</g>\n",
       "<!-- Law (new) -->\n",
       "<g id=\"node8\" class=\"node\">\n",
       "<title>Law (new)</title>\n",
       "<ellipse fill=\"lightblue\" stroke=\"black\" cx=\"92.29\" cy=\"-85\" rx=\"55.49\" ry=\"18\"/>\n",
       "<text text-anchor=\"middle\" x=\"92.29\" y=\"-81.3\" font-family=\"Times,serif\" font-size=\"14.00\">Law (new)</text>\n",
       "</g>\n",
       "<!-- Law (new)&#45;&gt;Religion -->\n",
       "<g id=\"edge5\" class=\"edge\">\n",
       "<title>Law (new)-&gt;Religion</title>\n",
       "<path fill=\"none\" stroke=\"black\" d=\"M147.43,-88.11C186.39,-90.34 238.9,-93.36 278.81,-95.65\"/>\n",
       "<polygon fill=\"black\" stroke=\"black\" points=\"278.54,-99.14 288.72,-96.22 278.94,-92.15 278.54,-99.14\"/>\n",
       "</g>\n",
       "<!-- Prayer/Bible -->\n",
       "<g id=\"node9\" class=\"node\">\n",
       "<title>Prayer/Bible</title>\n",
       "<ellipse fill=\"lightblue\" stroke=\"black\" cx=\"92.29\" cy=\"-301\" rx=\"68.49\" ry=\"18\"/>\n",
       "<text text-anchor=\"middle\" x=\"92.29\" y=\"-297.3\" font-family=\"Times,serif\" font-size=\"14.00\">Prayer/Bible</text>\n",
       "</g>\n",
       "<!-- Philosophy -->\n",
       "<g id=\"node10\" class=\"node\">\n",
       "<title>Philosophy</title>\n",
       "<ellipse fill=\"lightgreen\" stroke=\"black\" cx=\"338.22\" cy=\"-301\" rx=\"62.29\" ry=\"18\"/>\n",
       "<text text-anchor=\"middle\" x=\"338.22\" y=\"-297.3\" font-family=\"Times,serif\" font-size=\"14.00\">Philosophy</text>\n",
       "</g>\n",
       "<!-- Prayer/Bible&#45;&gt;Philosophy -->\n",
       "<g id=\"edge6\" class=\"edge\">\n",
       "<title>Prayer/Bible-&gt;Philosophy</title>\n",
       "<path fill=\"none\" stroke=\"black\" d=\"M161.24,-301C193.27,-301 231.53,-301 264.18,-301\"/>\n",
       "<polygon fill=\"black\" stroke=\"black\" points=\"263.96,-304.5 273.96,-301 263.96,-297.5 263.96,-304.5\"/>\n",
       "</g>\n",
       "<!-- Social -->\n",
       "<g id=\"node11\" class=\"node\">\n",
       "<title>Social</title>\n",
       "<ellipse fill=\"lightblue\" stroke=\"black\" cx=\"92.29\" cy=\"-409\" rx=\"39.79\" ry=\"18\"/>\n",
       "<text text-anchor=\"middle\" x=\"92.29\" y=\"-405.3\" font-family=\"Times,serif\" font-size=\"14.00\">Social</text>\n",
       "</g>\n",
       "<!-- Literature -->\n",
       "<g id=\"node12\" class=\"node\">\n",
       "<title>Literature</title>\n",
       "<ellipse fill=\"lightgreen\" stroke=\"black\" cx=\"338.22\" cy=\"-382\" rx=\"57.69\" ry=\"18\"/>\n",
       "<text text-anchor=\"middle\" x=\"338.22\" y=\"-378.3\" font-family=\"Times,serif\" font-size=\"14.00\">Literature</text>\n",
       "</g>\n",
       "<!-- Social&#45;&gt;Literature -->\n",
       "<g id=\"edge7\" class=\"edge\">\n",
       "<title>Social-&gt;Literature</title>\n",
       "<path fill=\"none\" stroke=\"black\" d=\"M131.41,-404.78C169,-400.62 227.2,-394.18 272.13,-389.2\"/>\n",
       "<polygon fill=\"black\" stroke=\"black\" points=\"272.48,-392.69 282.04,-388.11 271.71,-385.73 272.48,-392.69\"/>\n",
       "</g>\n",
       "<!-- War? -->\n",
       "<g id=\"node13\" class=\"node\">\n",
       "<title>War?</title>\n",
       "<ellipse fill=\"lightblue\" stroke=\"black\" cx=\"92.29\" cy=\"-517\" rx=\"34.39\" ry=\"18\"/>\n",
       "<text text-anchor=\"middle\" x=\"92.29\" y=\"-513.3\" font-family=\"Times,serif\" font-size=\"14.00\">War?</text>\n",
       "</g>\n",
       "<!-- History -->\n",
       "<g id=\"node14\" class=\"node\">\n",
       "<title>History</title>\n",
       "<ellipse fill=\"lightgreen\" stroke=\"black\" cx=\"338.22\" cy=\"-490\" rx=\"45.49\" ry=\"18\"/>\n",
       "<text text-anchor=\"middle\" x=\"338.22\" y=\"-486.3\" font-family=\"Times,serif\" font-size=\"14.00\">History</text>\n",
       "</g>\n",
       "<!-- War?&#45;&gt;History -->\n",
       "<g id=\"edge8\" class=\"edge\">\n",
       "<title>War?-&gt;History</title>\n",
       "<path fill=\"none\" stroke=\"black\" d=\"M126.44,-513.33C166.52,-508.89 234.53,-501.37 282.44,-496.06\"/>\n",
       "<polygon fill=\"black\" stroke=\"black\" points=\"282.8,-499.55 292.35,-494.97 282.03,-492.59 282.8,-499.55\"/>\n",
       "</g>\n",
       "<!-- Religion (new) -->\n",
       "<g id=\"node15\" class=\"node\">\n",
       "<title>Religion (new)</title>\n",
       "<ellipse fill=\"lightblue\" stroke=\"black\" cx=\"92.29\" cy=\"-463\" rx=\"74.19\" ry=\"18\"/>\n",
       "<text text-anchor=\"middle\" x=\"92.29\" y=\"-459.3\" font-family=\"Times,serif\" font-size=\"14.00\">Religion (new)</text>\n",
       "</g>\n",
       "<!-- Religion (new)&#45;&gt;History -->\n",
       "<g id=\"edge9\" class=\"edge\">\n",
       "<title>Religion (new)-&gt;History</title>\n",
       "<path fill=\"none\" stroke=\"black\" d=\"M160.59,-470.45C199.02,-474.7 246.58,-479.97 282.66,-483.96\"/>\n",
       "<polygon fill=\"black\" stroke=\"black\" points=\"282.12,-487.42 292.44,-485.04 282.89,-480.46 282.12,-487.42\"/>\n",
       "</g>\n",
       "<!-- Science -->\n",
       "<g id=\"node16\" class=\"node\">\n",
       "<title>Science</title>\n",
       "<ellipse fill=\"lightblue\" stroke=\"black\" cx=\"92.29\" cy=\"-355\" rx=\"46.59\" ry=\"18\"/>\n",
       "<text text-anchor=\"middle\" x=\"92.29\" y=\"-351.3\" font-family=\"Times,serif\" font-size=\"14.00\">Science</text>\n",
       "</g>\n",
       "<!-- Science&#45;&gt;Literature -->\n",
       "<g id=\"edge10\" class=\"edge\">\n",
       "<title>Science-&gt;Literature</title>\n",
       "<path fill=\"none\" stroke=\"black\" d=\"M137.47,-359.89C175.07,-364.05 229.6,-370.09 272.2,-374.8\"/>\n",
       "<polygon fill=\"black\" stroke=\"black\" points=\"271.76,-378.28 282.08,-375.9 272.53,-371.32 271.76,-378.28\"/>\n",
       "</g>\n",
       "</g>\n",
       "</svg>"
      ],
      "text/plain": [
       "<IPython.core.display.SVG object>"
      ]
     },
     "metadata": {},
     "output_type": "display_data"
    }
   ],
   "source": [
    "import pydot\n",
    "from IPython.display import SVG\n",
    "\n",
    "# Assuming you have 'mapping_dict' from previous steps\n",
    "\n",
    "# Create a directed graph\n",
    "graph = pydot.Dot(graph_type='digraph', rankdir='LR', splines='polyline')\n",
    "\n",
    "# Add nodes and edges based on the mapping dictionary\n",
    "for predicted_topic, ground_truth_category in label_map.items():\n",
    "    # Create nodes\n",
    "    predicted_node = pydot.Node(f\"{predicted_topic}\", style='filled', fillcolor='lightblue')\n",
    "    ground_truth_node = pydot.Node(f\"{ground_truth_category}\", style='filled', fillcolor='lightgreen')\n",
    "\n",
    "    # Add nodes to the graph\n",
    "    graph.add_node(predicted_node)\n",
    "    graph.add_node(ground_truth_node)\n",
    "\n",
    "    # Create and add edge\n",
    "    edge = pydot.Edge(predicted_node, ground_truth_node)\n",
    "    graph.add_edge(edge)\n",
    "\n",
    "# Visualize the graph\n",
    "svg = SVG(graph.create_svg())\n",
    "display(svg)"
   ]
  },
  {
   "cell_type": "code",
   "execution_count": null,
   "id": "b6613b7e",
   "metadata": {},
   "outputs": [],
   "source": []
  }
 ],
 "metadata": {
  "kernelspec": {
   "display_name": "Python 3 (ipykernel)",
   "language": "python",
   "name": "python3"
  },
  "language_info": {
   "codemirror_mode": {
    "name": "ipython",
    "version": 3
   },
   "file_extension": ".py",
   "mimetype": "text/x-python",
   "name": "python",
   "nbconvert_exporter": "python",
   "pygments_lexer": "ipython3",
   "version": "3.10.9"
  }
 },
 "nbformat": 4,
 "nbformat_minor": 5
}
